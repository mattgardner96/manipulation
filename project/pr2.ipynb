{
  "cells": [
    {
      "cell_type": "markdown",
      "source": "This notebook provides examples to go along with the [textbook](http://manipulation.csail.mit.edu/robot.html).  I recommend having both windows open, side-by-side!",
      "metadata": {
        "id": "EgiF12Hf1Dhs",
        "colab_type": "text",
        "cell_id": "996a2d5164e64d7db0aedc283ea9b024",
        "deepnote_cell_type": "markdown"
      },
      "block_group": "779836dbdf874b8fbfddc9b9b5f1abd9"
    },
    {
      "cell_type": "code",
      "source": "from pydrake.all import ModelVisualizer, Simulator, StartMeshcat\n\nfrom manipulation import ConfigureParser, running_as_notebook\nfrom manipulation.station import LoadScenario, MakeHardwareStation",
      "metadata": {
        "id": "eeMrMI0-1Dhu",
        "colab": {},
        "colab_type": "code",
        "lines_to_end_of_cell_marker": 2,
        "cell_id": "51a03241b6d84e2396b367299dddc6c6",
        "deepnote_cell_type": "code"
      },
      "outputs": [],
      "outputs_reference": null,
      "execution_count": null,
      "block_group": "231c3b95333e44589740d3fe82ce2fe1",
      "content_dependencies": null
    },
    {
      "cell_type": "code",
      "source": "# Start the visualizer.\nmeshcat = StartMeshcat()",
      "metadata": {
        "cell_id": "9d33814aadd14a07bc760ffe598b3e85",
        "deepnote_cell_type": "code"
      },
      "outputs": [],
      "outputs_reference": null,
      "execution_count": null,
      "block_group": "196f4346267447b984fedb4af90636ca",
      "content_dependencies": null
    },
    {
      "cell_type": "markdown",
      "source": "# PR2 model example\n\nFirst we'll use the ModelVisualizer to inspect the model (note that [the sliders in ModelVisualizer do not currently respect the kinematic \"mimic\" joint in the fingers](https://github.com/RobotLocomotion/drake/issues/18917))",
      "metadata": {
        "cell_id": "a7a73b8d55414c23a1d36e99038901dc",
        "deepnote_cell_type": "markdown"
      },
      "block_group": "ee1a13f87e8346f8bdbffb7b5922f8f4"
    },
    {
      "cell_type": "code",
      "source": "visualizer = ModelVisualizer(meshcat=meshcat)\nConfigureParser(visualizer.parser())\nvisualizer.AddModels(\n    url=\"package://drake_models/pr2_description/urdf/pr2_simplified.urdf\"\n)\nvisualizer.Run(loop_once=not running_as_notebook)\nmeshcat.DeleteAddedControls()",
      "metadata": {
        "id": "5SjOClhTltPk",
        "colab": {},
        "colab_type": "code",
        "cell_id": "88fccad46b104dd9a95aa971b05ca945",
        "deepnote_cell_type": "code"
      },
      "outputs": [],
      "outputs_reference": null,
      "execution_count": null,
      "block_group": "866c69de7b524cf5b642aa07f559cffd",
      "content_dependencies": null
    },
    {
      "cell_type": "markdown",
      "source": "Now we can use HardwareStation to create a basic simulation.",
      "metadata": {
        "cell_id": "aed74f6cbdc54f86b97342347e360904",
        "deepnote_cell_type": "markdown"
      },
      "block_group": "0a3447b5f8924b5cb9a6cec37b192984"
    },
    {
      "cell_type": "code",
      "source": "scenario_data = \"\"\"\ndirectives:\n- add_model:\n    name: pr2\n    file: package://drake_models/pr2_description/urdf/pr2_simplified.urdf\nmodel_drivers:\n    pr2: !JointStiffnessDriver\n        gains:\n            # TODO(russt): tune these!\n            x_motor:\n                kp: 600\n                kd: 120\n            y_motor:\n                kp: 600\n                kd: 120\n            theta_motor:\n                kp: 600\n                kd: 120\n            torso_lift_motor:\n                kp: 600\n                kd: 120\n            head_pan_motor:\n                kp: 100\n                kd: 20\n            head_tilt_motor:\n                kp: 100\n                kd: 20\n            r_upper_arm_roll_motor:\n                kp: 600\n                kd: 120\n            r_shoulder_pan_motor:\n                kp: 600\n                kd: 120\n            r_shoulder_lift_motor:\n                kp: 600\n                kd: 120\n            r_forearm_roll_motor:\n                kp: 400\n                kd: 80\n            r_elbow_flex_motor:\n                kp: 400\n                kd: 80\n            r_wrist_flex_motor:\n                kp: 200\n                kd: 40\n            r_wrist_roll_motor:\n                kp: 200\n                kd: 40\n            r_gripper_l_finger_motor:\n                kp: 100\n                kd: 20\n            l_upper_arm_roll_motor:\n                kp: 600\n                kd: 120\n            l_shoulder_pan_motor:\n                kp: 600\n                kd: 120\n            l_shoulder_lift_motor:\n                kp: 600\n                kd: 120\n            l_forearm_roll_motor:\n                kp: 400\n                kd: 80\n            l_elbow_flex_motor:\n                kp: 400\n                kd: 80\n            l_wrist_flex_motor:\n                kp: 200\n                kd: 40\n            l_wrist_roll_motor:\n                kp: 200\n                kd: 40\n            l_gripper_l_finger_motor:\n                kp: 100\n                kd: 20\n\"\"\"\n\nscenario = LoadScenario(data=scenario_data)\nstation = MakeHardwareStation(scenario, meshcat)\nsimulator = Simulator(station)\ncontext = simulator.get_mutable_context()\n\nplant = station.GetSubsystemByName(\"plant\")\npr2 = plant.GetModelInstanceByName(\"pr2\")\n\nmimic_joints = [\n    \"gripper_r_finger_joint\",\n    \"gripper_l_finger_tip_joint\",\n    \"gripper_r_finger_tip_joint\",\n    \"gripper_r_finger_joint\",\n    \"gripper_l_finger_tip_joint\",\n    \"gripper_r_finger_tip_joint\",\n]\nx0 = station.GetOutputPort(\"pr2.state_estimated\").Eval(context)\nx0_wout_mimics = []\nfor i, state_name in enumerate(plant.GetStateNames(pr2)):\n    if all(mimic not in state_name for mimic in mimic_joints):\n        x0_wout_mimics.append(x0[i])\n\nstation.GetInputPort(\"pr2.desired_state\").FixValue(context, x0_wout_mimics)\nsimulator.AdvanceTo(0.1)",
      "metadata": {
        "cell_id": "058c4ce37be5490c9fdff51894d36f94",
        "deepnote_cell_type": "code"
      },
      "outputs": [],
      "outputs_reference": null,
      "execution_count": null,
      "block_group": "4a37daa5c2cf40cdab4924c48481a4bf",
      "content_dependencies": null
    },
    {
      "cell_type": "markdown",
      "source": "<a style='text-decoration:none;line-height:16px;display:flex;color:#5B5B62;padding:10px;justify-content:end;' href='https://deepnote.com?utm_source=created-in-deepnote-cell&projectId=92fbdad2-a4a9-4ef8-b493-c307060b34a1' target=\"_blank\">\n<img alt='Created in deepnote.com' style='display:inline;max-height:16px;margin:0px;margin-right:7.5px;' src='data:image/svg+xml;base64,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' > </img>\nCreated in <span style='font-weight:600;margin-left:4px;'>Deepnote</span></a>",
      "metadata": {
        "created_in_deepnote_cell": true,
        "deepnote_cell_type": "markdown"
      }
    }
  ],
  "nbformat": 4,
  "nbformat_minor": 0,
  "metadata": {
    "deepnote_notebook_id": "a0ae998d50d74e9a932af6fe8cca3976",
    "deepnote_execution_queue": []
  }
}