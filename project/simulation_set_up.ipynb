{
  "cells": [
    {
      "cell_type": "markdown",
      "metadata": {
        "cell_id": "bd9ccc445c894284a17b6001c6df060d",
        "deepnote_cell_type": "markdown"
      },
      "source": [
        "## **Simulation Set-Up**"
      ]
    },
    {
      "cell_type": "code",
      "execution_count": 1,
      "metadata": {
        "cell_id": "f2aebfe5444b4f88bb29bc8576c31ed8",
        "deepnote_cell_type": "code",
        "execution_context_id": "067c3e40-4c39-4d90-9e13-fe362d0c9a7c",
        "execution_millis": 455,
        "execution_start": 1729533822168,
        "source_hash": "7cd8485d"
      },
      "outputs": [],
      "source": [
        "import os\n",
        "\n",
        "import numpy as np\n",
        "from pydrake.all import (\n",
        "    AddDefaultVisualization,\n",
        "    AddMultibodyPlantSceneGraph,\n",
        "    DiagramBuilder,\n",
        "    LoadModelDirectives,\n",
        "    LoadModelDirectivesFromString,\n",
        "    Parser,\n",
        "    ProcessModelDirectives,\n",
        "    RigidTransform,\n",
        "    RollPitchYaw,\n",
        "    Simulator,\n",
        "    StartMeshcat,\n",
        ")\n",
        "from pydrake.common import temp_directory\n",
        "from pydrake.geometry import StartMeshcat\n",
        "from pydrake.systems.analysis import Simulator\n",
        "from pydrake.visualization import ModelVisualizer\n",
        "\n",
        "from manipulation import running_as_notebook\n",
        "from manipulation.station import LoadScenario, MakeHardwareStation\n",
        "from manipulation.utils import ConfigureParser"
      ]
    },
    {
      "cell_type": "code",
      "execution_count": 2,
      "metadata": {
        "cell_id": "e5ebebd0a41048658f68961a1e8939c7",
        "deepnote_cell_type": "code",
        "execution_context_id": "067c3e40-4c39-4d90-9e13-fe362d0c9a7c",
        "execution_millis": 185,
        "execution_start": 1729533828911,
        "source_hash": "450eddfc"
      },
      "outputs": [
        {
          "name": "stderr",
          "output_type": "stream",
          "text": [
            "INFO:drake:Meshcat listening for connections at http://localhost:7002\n"
          ]
        }
      ],
      "source": [
        "# Start the visualizer. The cell will output an HTTP link after the execution.\n",
        "# Click the link and a MeshCat tab should appear in your browser.\n",
        "meshcat = StartMeshcat()"
      ]
    },
    {
      "cell_type": "markdown",
      "metadata": {
        "cell_id": "5b76ec3202c84e01a08df2b8a3852285",
        "deepnote_cell_type": "markdown"
      },
      "source": [
        "# Simulation Set Up \n",
        "\n",
        "Generating a useful simulation scene is the first step in successful manipulation projects. In this exercise, we will learn how to add the necessary objects to set-up a scene.\n",
        "\n",
        "**These are the learning goals of this exercise:**\n",
        "1. Be able to work with objects written in robot description formats such as URDFs and SDFs.\n",
        "2. Understand how to view and edit collision geometries\n",
        "3. Understand how to add objects to Drake to create a useful manipulation scene.\n",
        "\n",
        "A great resource is [Authoring a Multibody Simulation tutorial](https://deepnote.com/workspace/Drake-0b3b2c53-a7ad-441b-80f8-bf8350752305/project/Tutorials-2b4fc509-aef2-417d-a40d-6071dfed9199/notebook/authoring_multibody_simulation-add293478aac40a984845aa3705eefdd?). Parts of this notebook were taken from it."
      ]
    },
    {
      "cell_type": "markdown",
      "metadata": {
        "cell_id": "686b9b323b7641ce9d2efbc45eecbd2a",
        "deepnote_cell_type": "markdown"
      },
      "source": [
        "## Introducing Relevant File Formats\n",
        "\n",
        "The most important formats for creating multibody scenarios in Drake are the [Unified Robot Description Format (URDF)](http://wiki.ros.org/urdf) and the [Simulation Description Format (SDFormat)](http://sdformat.org/).\n",
        "\n",
        "URDF and SDF are both XML formats that can specify the kinematic and dynamic properties of robots or objects. URDF can only specify the kinematic and dynamic properties of a single robot in isolation. It can't specify joint loops or things that are not robots, such as lights, heightmaps, etc. \n",
        "\n",
        "SDFormat is a complete description for everything from the world level down to the robot level. Being more scalable, it is the recommended format. However, they should be mostly interchangeable with small syntax differences.\n",
        "\n",
        "In a high-level sense, you express different components of your robot using `<link>` tags and connect them via `<joint>` tags. Each `<link>` has three major subtags, `<visual>`, `<collision>`, and `<inertial>`, for its visualization, planning/collision checking, and dynamics aspects. For `<visual>` and `<collision>`, you can either use primitive shapes (box, sphere, cylinder, etc.) or tailored meshes (.obj, .gltf) to represent the underlying geometry. \n",
        "\n",
        "Here are two useful resources for [URDF](https://wiki.ros.org/urdf/Tutorials/Building%20a%20Visual%20Robot%20Model%20with%20URDF%20from%20Scratch) and [SDFormat](https://classic.gazebosim.org/tutorials?tut=build_model) creation. ([Another SDF reference](http://sdformat.org/spec))"
      ]
    },
    {
      "cell_type": "markdown",
      "metadata": {
        "cell_id": "65373473f82d4c9d926589c1ea6936ff",
        "deepnote_cell_type": "markdown"
      },
      "source": [
        "Meshes and primitive shapes describe the geometry of an object. The supported types are described [here](https://drake.mit.edu/doxygen_cxx/group__geometry__file__formats.html). For meshes, glTF (.gltf) is the preferred format in Drake for visualization. Wavefront OBJ (.obj) is another well-supported alternative. obj files will often come with material descriptions or (.mtl) files that they reference. If you have other file formats (eg .stl, .dae), [Meshlab](https://www.meshlab.net/), an open-source software, is a handy tool to convert common formats to a .obj. \n",
        "\n",
        "A note about meshes. Support for meshes as collision geometry is limited as documented [here](https://drake.mit.edu/doxygen_cxx/group__geometry__file__formats.html). In certain cases--point contact, compliant hydroelastic contact, checking collision candidates, signed distance queries--the mesh will be represented by its [convex hull](https://en.wikipedia.org/wiki/Convex_hull) instead. You can convert meshes into sdf's using [manipulation/create_sdf_from_mesh.py](https://github.com/RussTedrake/manipulation/blob/master/manipulation/create_sdf_from_mesh.py), which additionally supports convex decomposition of a nonconvex mesh and mesh simplification.\n"
      ]
    },
    {
      "cell_type": "markdown",
      "metadata": {
        "cell_id": "1fa51a4064b74446bdf22b7522782571",
        "deepnote_cell_type": "markdown"
      },
      "source": [
        "### Written Question (4 points)\n",
        "Compare and contrast two SDF files of the same YCB sugar box: [File 1](https://github.com/RobotLocomotion/drake/blob/8ed3a0264c521ffc1ea8861f5701b81dfb696af8/manipulation/models/ycb/sdf/004_sugar_box.sdf) and [File 2](https://github.com/RussTedrake/manipulation/blob/24f122591f72cc78931ea3f461d0c34845dc9aca/manipulation/models/hydro/004_sugar_box.sdf). File 2 uses hydroelastic contact, and file 1 uses the default point contact model.\n",
        "\n",
        "[Hydroelastic contact](https://drake.mit.edu/doxygen_cxx/group__hydroelastic__user__guide.html) in Drake can be used to create compliant collision geometries. This is a great tool for improving the contact dynamics between simulated objects, compared to traditional rigid contact geometries.\n",
        "\n",
        "Answer the following questions in your written submission.\n",
        "\n",
        "**Part (a):**  How is the collision geometry and or contact models different in File 1 than File 2? What benefit do we have from having different collision geometries in both of these versions of the sugar box? (Hint: Which file has hydroelastic contact? You can also look through Chapter 5 specfically [5.2.2-5.2.4](https://manipulation.csail.mit.edu/clutter.html#section2) or read through [this blog post](https://medium.com/toyotaresearch/rethinking-contact-simulation-for-robot-manipulation-434a56b5ec88))\n",
        "\n",
        "**Part (b):**  In both files, we use the sugar box obj mesh as the visual geometry. For File 2, we could have used the obj mesh as the collision geometry too. why might we prefer to specify the collision geometry using primitives, rather than using the obj mesh?"
      ]
    },
    {
      "cell_type": "markdown",
      "metadata": {
        "cell_id": "f4fd9f23e9e142b7952d413d3f9b1f15",
        "deepnote_cell_type": "markdown"
      },
      "source": [
        "### Loading and Viewing Models\n",
        "\n",
        "Drake has some pre-existing models which can be found in the [drake_models repo](https://github.com/RobotLocomotion/models) and in the [manipulation models](https://github.com/RussTedrake/manipulation/tree/master/manipulation/models). You might find some of these useful for your final project!\n",
        "\n",
        "Typically to add a model to a MultibodyPlant, you will access its [Parser](https://drake.mit.edu/pydrake/pydrake.multibody.parsing.html#pydrake.multibody.parsing.Parser) object ([C++ documentation](https://drake.mit.edu/doxygen_cxx/classdrake_1_1multibody_1_1_parser.html)). \n",
        "\n",
        "Drake provides a `ModelVisualizer` class to visualize models interactively. This will help as we start to produce our own robot description files, or port description files over from another simulator. In the next few cells, we will go over different ways to add simulated objects or models to your simulation. \n",
        "\n",
        "First let's start by adding an existing Drake model--a KUKA iiwa arm you've already seen in class. Under the `Scene > drake` dropdown in MeshCat, you can enable viewing 'illustration', 'inertia', and 'proximity' to see the visual model, inertia matrix, and collision model, respectively. You can also adjust the poses of the links and values of the joints in the sliders. Get familiar playing around with it. "
      ]
    },
    {
      "cell_type": "code",
      "execution_count": 4,
      "metadata": {
        "cell_id": "e2a76ac86b0043e0ad39bf34159ea3fd",
        "deepnote_cell_type": "code"
      },
      "outputs": [
        {
          "name": "stderr",
          "output_type": "stream",
          "text": [
            "INFO:drake:Click 'Stop Running' or press Esc to quit\n"
          ]
        }
      ],
      "source": [
        "visualizer = ModelVisualizer(meshcat=meshcat)\n",
        "visualizer.parser().AddModels(\n",
        "    url=\"package://drake_models/iiwa_description/sdf/iiwa7_with_box_collision.sdf\"\n",
        ")\n",
        "visualizer.Run()"
      ]
    },
    {
      "cell_type": "markdown",
      "metadata": {
        "cell_id": "482115b953914d2bb7f85794da327e02",
        "deepnote_cell_type": "markdown"
      },
      "source": [
        "If there are no existing Drake models that work for you, you can also create your own models or find them on the internet. We define a table top in a string below and then save it to a file. Try editing parts of it to see how the object changes."
      ]
    },
    {
      "cell_type": "code",
      "execution_count": null,
      "metadata": {
        "cell_id": "40bcbf455bc44683a15609d20d0bd507",
        "deepnote_cell_type": "code"
      },
      "outputs": [],
      "source": [
        "# Create a table top SDFormat model.\n",
        "table_top_sdf_path = \"table_top.sdf\"\n",
        "table_top_sdf = \"\"\"<?xml version=\"1.0\"?>\n",
        "<sdf version=\"1.7\">\n",
        "\n",
        "  <model name=\"table_top\">\n",
        "  <link name=\"table_top_link\">\n",
        "    <inertial>\n",
        "      <mass>18.70</mass>\n",
        "      <pose>0.0 0.0 0.445 0 0 0</pose>\n",
        "      <inertia>\n",
        "          <ixx>0.619</ixx>\n",
        "          <ixy>0</ixy>\n",
        "          <ixz>0</ixz>\n",
        "          <iyy>0.374</iyy>\n",
        "          <iyz>0</iyz>\n",
        "          <izz>0.99</izz>\n",
        "      </inertia>\n",
        "    </inertial>\n",
        "    <visual name=\"bottom\">\n",
        "      <pose>0.0 0.0 0.445 0 0 0</pose>\n",
        "      <geometry>\n",
        "        <box>\n",
        "          <size>0.49 0.63 0.015</size>\n",
        "        </box>\n",
        "      </geometry>\n",
        "      <material>\n",
        "        <diffuse>0.9 0.9 0.9 1.0</diffuse>\n",
        "      </material>\n",
        "    </visual>\n",
        "    <collision name=\"bottom\">\n",
        "      <pose>0.0 0.0 0.445 0 0 0</pose>\n",
        "      <geometry>\n",
        "        <box>\n",
        "          <size>0.49 0.63 0.015</size>\n",
        "        </box>\n",
        "      </geometry>\n",
        "      <drake:proximity_properties>\n",
        "        <drake:compliant_hydroelastic/>\n",
        "        <drake:hydroelastic_modulus>1.0e6</drake:hydroelastic_modulus>\n",
        "      </drake:proximity_properties>\n",
        "    </collision>\n",
        "  </link>\n",
        "  <frame name=\"table_top_center\">\n",
        "    <pose relative_to=\"table_top_link\">0 0 0.47 0 0 0</pose>\n",
        "  </frame>\n",
        "</model>\n",
        "\n",
        "</sdf>\n",
        "\n",
        "\"\"\"\n",
        "\n",
        "with open(table_top_sdf_path, \"w\") as f:\n",
        "    f.write(table_top_sdf)"
      ]
    },
    {
      "cell_type": "code",
      "execution_count": null,
      "metadata": {
        "cell_id": "6d54710b234a43f68fc3e6e4227e4229",
        "deepnote_cell_type": "code"
      },
      "outputs": [],
      "source": [
        "# You can parse a string directly OR\n",
        "# You can load a saved SDF file using AddModels\n",
        "visualizer = ModelVisualizer(meshcat=meshcat)\n",
        "visualizer.parser().AddModels(table_top_sdf_path)\n",
        "# visualizer.parser().AddModelsFromString(table_top_sdf_path)\n",
        "visualizer.Run()"
      ]
    },
    {
      "cell_type": "markdown",
      "metadata": {
        "cell_id": "fe4b792fd1f2490daf8e4c3455f4c130",
        "deepnote_cell_type": "markdown"
      },
      "source": [
        "This will create a file in your current directory. It may be a good idea to create an assets folder and put all of your model files in there. If you are collaborating across local machines, one can imagine that using paths to files might get a little unwieldy. In this case, it is a good idea to make your project into a custom xml package--allowing for better referencing of your model files! \n",
        "\n",
        "In the cell bellow, we define and save a `package.xml` in the current directory that identifies it as a package with the name `dummy_project`. As long as you register this package with the [Parser's package map](https://drake.mit.edu/doxygen_cxx/classdrake_1_1multibody_1_1_package_map.html), you can then call any files within that package using a url the same way we call existing drake models."
      ]
    },
    {
      "cell_type": "code",
      "execution_count": 13,
      "metadata": {
        "cell_id": "e8ec9df8345f47498e9a478615edb5ae",
        "deepnote_cell_type": "code"
      },
      "outputs": [
        {
          "ename": "RuntimeError",
          "evalue": "error: URI 'package://dummy_project/table_top.sdf' resolved to '/Users/mattgardner/source/manipulation/project/notebooks/table_top.sdf' which does not exist.",
          "output_type": "error",
          "traceback": [
            "\u001b[0;31m---------------------------------------------------------------------------\u001b[0m",
            "\u001b[0;31mRuntimeError\u001b[0m                              Traceback (most recent call last)",
            "Cell \u001b[0;32mIn[13], line 19\u001b[0m\n\u001b[1;32m     17\u001b[0m visualizer \u001b[38;5;241m=\u001b[39m ModelVisualizer(meshcat\u001b[38;5;241m=\u001b[39mmeshcat)\n\u001b[1;32m     18\u001b[0m visualizer\u001b[38;5;241m.\u001b[39mparser()\u001b[38;5;241m.\u001b[39mpackage_map()\u001b[38;5;241m.\u001b[39mPopulateFromFolder(os\u001b[38;5;241m.\u001b[39mgetcwd())\n\u001b[0;32m---> 19\u001b[0m \u001b[43mvisualizer\u001b[49m\u001b[38;5;241;43m.\u001b[39;49m\u001b[43mparser\u001b[49m\u001b[43m(\u001b[49m\u001b[43m)\u001b[49m\u001b[38;5;241;43m.\u001b[39;49m\u001b[43mAddModels\u001b[49m\u001b[43m(\u001b[49m\u001b[43murl\u001b[49m\u001b[38;5;241;43m=\u001b[39;49m\u001b[38;5;124;43m\"\u001b[39;49m\u001b[38;5;124;43mpackage://dummy_project/table_top.sdf\u001b[39;49m\u001b[38;5;124;43m\"\u001b[39;49m\u001b[43m)\u001b[49m\n\u001b[1;32m     20\u001b[0m visualizer\u001b[38;5;241m.\u001b[39mRun()\n",
            "\u001b[0;31mRuntimeError\u001b[0m: error: URI 'package://dummy_project/table_top.sdf' resolved to '/Users/mattgardner/source/manipulation/project/notebooks/table_top.sdf' which does not exist."
          ]
        }
      ],
      "source": [
        "pkg_xml = \"\"\"<?xml version=\"1.0\"?>\n",
        "<package format=\"2\">\n",
        "  <name>pizzabot</name>\n",
        "  <version>0.0.0</version>\n",
        "  <description>\n",
        "    pizza pizza\n",
        "  </description>\n",
        "  <maintainer email=\"mattg156@mit.edu\">mattg</maintainer>\n",
        "  <author>mmaisonn</author>\n",
        "  <license>N/A</license>\n",
        "</package>\n",
        "\"\"\"\n",
        "\n",
        "with open(\"package.xml\", \"w\") as f:\n",
        "    f.write(pkg_xml)\n",
        "\n",
        "visualizer = ModelVisualizer(meshcat=meshcat)\n",
        "visualizer.parser().package_map().PopulateFromFolder(os.getcwd())\n",
        "visualizer.parser().AddModels(url=\"package://pizzabot/table_top.sdf\")\n",
        "visualizer.Run()"
      ]
    },
    {
      "cell_type": "markdown",
      "metadata": {
        "cell_id": "6c02ff660dc84535be9dacea99c64af4",
        "deepnote_cell_type": "markdown"
      },
      "source": [
        "For simpler objects and projects, sometimes it can be quicker to create your own model from scratch in a string or a new file as above. However, you can also find some 3D models online. Model files can be in any of the formats supported by the [Parser](https://drake.mit.edu/doxygen_cxx/classdrake_1_1multibody_1_1_parser.html), though SDF is recommended. Places you can find these models:\n",
        "\n",
        "- [Drake examples](https://github.com/RobotLocomotion/drake/tree/master/examples)\n",
        "\n",
        "- Object databases curated for robotics such as YCB. Some are already in drake_models [here](https://github.com/RobotLocomotion/models/tree/master/ycb)!\n",
        "\n",
        "- [Rubik's Cube](https://deepnote.com/workspace/Manipulation-ac8201a1-470a-4c77-afd0-2cc45bc229ff/project/02-Lets-get-you-a-robot-8f86172b-b597-4ceb-9bad-92d11ac7a6cc/notebook/rubiks_cube-35164353b13d4a47910ca14e588c74d6?)\n",
        "\n",
        "- It is also worth checking [final projects](https://manipulation.csail.mit.edu/misc.html#projects) that had objects you'd like to use, see if their code is open source or ask!\n",
        "\n",
        "- [TurboSquid](https://www.turbosquid.com/3d-model/free): will often need converting to an .obj file. The .obj file can then be directly turned into a SDF file by using the below terminal command, documented [here](https://drake.mit.edu/pydrake/pydrake.multibody.mesh_to_model.html). On Deepnote, you can open a terminal on the left bar and run the command after you have uploaded your .obj file. \n",
        "```sh\n",
        "python3 -m pydrake.multibody.mesh_to_model --scale=1.0 path/to/mesh.obj\n",
        "```"
      ]
    },
    {
      "cell_type": "markdown",
      "metadata": {
        "cell_id": "27775ef20c884922bb7ecc8cdd1a34cf",
        "deepnote_cell_type": "markdown"
      },
      "source": [
        "## Creating a Simulation\n",
        "\n",
        "So far we've gone over how to create and examine individual objects. A useful scene will usually have multiple bodies within it. You can put each one in its own model file and load them in one by one to the plant as in the function below. \n",
        "\n",
        "We weld the table top to the world frame and set the poses for each free body so they fall onto the table when the simulation starts. Note that we are recording the scene, so you can replay the scenario using the control panel!"
      ]
    },
    {
      "cell_type": "code",
      "execution_count": null,
      "metadata": {
        "cell_id": "eedd6b467c324d17b4415f29cac96243",
        "deepnote_cell_type": "code"
      },
      "outputs": [],
      "source": [
        "def create_scene(sim_time_step):\n",
        "    # Clean up the Meshcat instance.\n",
        "    meshcat.Delete()\n",
        "    meshcat.DeleteAddedControls()\n",
        "\n",
        "    builder = DiagramBuilder()\n",
        "    plant, scene_graph = AddMultibodyPlantSceneGraph(builder, time_step=sim_time_step)\n",
        "    parser = Parser(plant)\n",
        "    ConfigureParser(parser)\n",
        "\n",
        "    # Load the table top we created.\n",
        "    parser.AddModels(table_top_sdf_path)\n",
        "\n",
        "    # Load a cracker box from Drake.\n",
        "    parser.AddModels(url=\"package://drake_models/ycb/003_cracker_box.sdf\")\n",
        "\n",
        "    # Load a sugar box\n",
        "    parser.AddModels(url=\"package://manipulation/hydro/004_sugar_box.sdf\")\n",
        "\n",
        "    # Weld the table to the world so that it's fixed during the simulation.\n",
        "    table_frame = plant.GetFrameByName(\"table_top_center\")\n",
        "    plant.WeldFrames(plant.world_frame(), table_frame)\n",
        "\n",
        "    # Finalize the plant after loading the scene.\n",
        "    plant.Finalize()\n",
        "\n",
        "    # We use the default context to calculate the transformation of the table\n",
        "    # in world frame but this is NOT the context the Diagram consumes.\n",
        "    plant_context = plant.CreateDefaultContext()\n",
        "\n",
        "    # Set the initial pose for the free body i,e, the cracker box\n",
        "    cracker_box = plant.GetBodyByName(\"base_link_cracker\")\n",
        "    X_WorldTable = table_frame.CalcPoseInWorld(plant_context)\n",
        "    X_TableCracker = RigidTransform(\n",
        "        RollPitchYaw(np.asarray([45, 30, 0]) * np.pi / 180), p=[0, 0, 0.8]\n",
        "    )\n",
        "    X_WorldCracker = X_WorldTable.multiply(X_TableCracker)\n",
        "    plant.SetDefaultFreeBodyPose(cracker_box, X_WorldCracker)\n",
        "\n",
        "    sugar_box = plant.GetBodyByName(\"base_link_sugar\")\n",
        "    X_TableSugar = RigidTransform(p=[0, -0.25, 0.8])\n",
        "    X_WorldSugar = X_WorldTable.multiply(X_TableSugar)\n",
        "    plant.SetDefaultFreeBodyPose(sugar_box, X_WorldSugar)\n",
        "\n",
        "    # Add visualization to see the geometries.\n",
        "    AddDefaultVisualization(builder=builder, meshcat=meshcat)\n",
        "\n",
        "    diagram = builder.Build()\n",
        "    return diagram\n",
        "\n",
        "\n",
        "def run_simulation(sim_time_step):\n",
        "    diagram = create_scene(sim_time_step)\n",
        "    simulator = Simulator(diagram)\n",
        "    meshcat.StartRecording()\n",
        "    simulator.AdvanceTo(2.0)\n",
        "    meshcat.PublishRecording()\n",
        "\n",
        "\n",
        "run_simulation(0.001)"
      ]
    },
    {
      "cell_type": "markdown",
      "metadata": {
        "cell_id": "7ecbbd6c5117478e91172fc582445105",
        "deepnote_cell_type": "markdown"
      },
      "source": [
        "Alternatively, you can define a [Model Directives](https://github.com/RobotLocomotion/drake/blob/master/multibody/parsing/README_model_directives.md) file. This is a YAML file that defines all your objects in the simulation and weld frames as needed to describe relative poses of your objects. In the code cell below, we define a model directive that does the same as the cell above and loads it into the plant using `LoadModelDirectivesFromString` and `ProcessModelDirectives`[(docs)](https://drake.mit.edu/doxygen_cxx/process__model__directives_8h.html). While not necessary here, it is a common final project setup to use scenarios and HardwareStation."
      ]
    },
    {
      "cell_type": "code",
      "execution_count": null,
      "metadata": {
        "cell_id": "9d308b61cc664684b4dcd3061896f80c",
        "deepnote_cell_type": "code"
      },
      "outputs": [],
      "source": [
        "# NOTE: I use a file here to avail you of the fact that you can do this\n",
        "# It is preferable to use the dummy project package we created earlier\n",
        "# to reference the table_top because using explicit files will need absolute paths.\n",
        "model_directive = f\"\"\"\n",
        "    directives:\n",
        "    - add_model:\n",
        "        name: table_top\n",
        "        file: file://{os.getcwd()}/table_top.sdf\n",
        "    - add_weld:\n",
        "        parent: world\n",
        "        child: table_top::table_top_center\n",
        "    - add_model:\n",
        "        name: cracker_box\n",
        "        file: package://drake_models/ycb/003_cracker_box.sdf\n",
        "        default_free_body_pose:\n",
        "            base_link_cracker:\n",
        "                translation: [0,0,0.8]\n",
        "                rotation: !Rpy {{ deg: [42, 33, 18] }}    \n",
        "    - add_model:\n",
        "        name: sugar_box\n",
        "        file: package://manipulation/hydro/004_sugar_box.sdf\n",
        "        default_free_body_pose:\n",
        "            base_link_sugar:\n",
        "                translation: [0,-0.25,0.8]\n",
        "    \"\"\"\n",
        "\n",
        "\n",
        "def create_scene_directives(model_directive, sim_time_step=0.001):\n",
        "    meshcat.Delete()\n",
        "    builder = DiagramBuilder()\n",
        "    plant, scene_graph = AddMultibodyPlantSceneGraph(builder, time_step=sim_time_step)\n",
        "    parser = Parser(plant)\n",
        "    ConfigureParser(parser)\n",
        "    parser.package_map().Add(\"dummy_project\", os.path.abspath(\"\"))\n",
        "\n",
        "    directives = LoadModelDirectivesFromString(model_directive)\n",
        "    models = ProcessModelDirectives(directives, plant, parser)\n",
        "    plant.Finalize()\n",
        "\n",
        "    AddDefaultVisualization(builder=builder, meshcat=meshcat)\n",
        "\n",
        "    diagram = builder.Build()\n",
        "    return diagram\n",
        "\n",
        "\n",
        "def run_simulation(sim_time_step):\n",
        "    diagram = create_scene_directives(model_directive, sim_time_step)\n",
        "    simulator = Simulator(diagram)\n",
        "    meshcat.StartRecording()\n",
        "    simulator.AdvanceTo(2.0)\n",
        "    meshcat.PublishRecording()\n",
        "\n",
        "\n",
        "run_simulation(0.001)"
      ]
    },
    {
      "cell_type": "markdown",
      "metadata": {
        "cell_id": "f0dd93fba83841818bf180dc320105c7",
        "deepnote_cell_type": "markdown"
      },
      "source": [
        "Using the same YAML you can also create a manipulation scenario to eventually use as a `HardwareStation`. This gives you more tools to work with manipulation setups and have a common project base as most of our questions and examples from the course etc. Using a scenario you can also define the timestep and what kind of contact model you want for your scene (set using the directives file or the [`scenario.plant_config.contact_model`](https://drake.mit.edu/doxygen_cxx/structdrake_1_1multibody_1_1_multibody_plant_config.html))."
      ]
    },
    {
      "cell_type": "code",
      "execution_count": 14,
      "metadata": {
        "cell_id": "8b1e84eb8d61429fbeb0f4a0e5d4869f",
        "deepnote_cell_type": "code"
      },
      "outputs": [
        {
          "ename": "RuntimeError",
          "evalue": "error: URI 'package://dummy_project/table_top.sdf' resolved to '/Users/mattgardner/source/manipulation/project/notebooks/table_top.sdf' which does not exist.",
          "output_type": "error",
          "traceback": [
            "\u001b[0;31m---------------------------------------------------------------------------\u001b[0m",
            "\u001b[0;31mRuntimeError\u001b[0m                              Traceback (most recent call last)",
            "Cell \u001b[0;32mIn[14], line 46\u001b[0m\n\u001b[1;32m     42\u001b[0m     simulator\u001b[38;5;241m.\u001b[39mAdvanceTo(\u001b[38;5;241m2.0\u001b[39m \u001b[38;5;28;01mif\u001b[39;00m running_as_notebook \u001b[38;5;28;01melse\u001b[39;00m \u001b[38;5;241m0.1\u001b[39m)\n\u001b[1;32m     43\u001b[0m     meshcat\u001b[38;5;241m.\u001b[39mPublishRecording()\n\u001b[0;32m---> 46\u001b[0m \u001b[43mpreview_scene_given_directives\u001b[49m\u001b[43m(\u001b[49m\u001b[43mmodel_directive\u001b[49m\u001b[43m)\u001b[49m\n",
            "Cell \u001b[0;32mIn[14], line 36\u001b[0m, in \u001b[0;36mpreview_scene_given_directives\u001b[0;34m(model_directive)\u001b[0m\n\u001b[1;32m     34\u001b[0m meshcat\u001b[38;5;241m.\u001b[39mDelete()\n\u001b[1;32m     35\u001b[0m scenario \u001b[38;5;241m=\u001b[39m LoadScenario(data\u001b[38;5;241m=\u001b[39mmodel_directive)\n\u001b[0;32m---> 36\u001b[0m station \u001b[38;5;241m=\u001b[39m \u001b[43mMakeHardwareStation\u001b[49m\u001b[43m(\u001b[49m\n\u001b[1;32m     37\u001b[0m \u001b[43m    \u001b[49m\u001b[43mscenario\u001b[49m\u001b[43m,\u001b[49m\u001b[43m \u001b[49m\u001b[43mmeshcat\u001b[49m\u001b[43m,\u001b[49m\u001b[43m \u001b[49m\u001b[43mpackage_xmls\u001b[49m\u001b[38;5;241;43m=\u001b[39;49m\u001b[43m[\u001b[49m\u001b[43mos\u001b[49m\u001b[38;5;241;43m.\u001b[39;49m\u001b[43mgetcwd\u001b[49m\u001b[43m(\u001b[49m\u001b[43m)\u001b[49m\u001b[43m \u001b[49m\u001b[38;5;241;43m+\u001b[39;49m\u001b[43m \u001b[49m\u001b[38;5;124;43m\"\u001b[39;49m\u001b[38;5;124;43m/package.xml\u001b[39;49m\u001b[38;5;124;43m\"\u001b[39;49m\u001b[43m]\u001b[49m\n\u001b[1;32m     38\u001b[0m \u001b[43m\u001b[49m\u001b[43m)\u001b[49m\n\u001b[1;32m     40\u001b[0m simulator \u001b[38;5;241m=\u001b[39m Simulator(station)\n\u001b[1;32m     41\u001b[0m meshcat\u001b[38;5;241m.\u001b[39mStartRecording()\n",
            "File \u001b[0;32m~/source/manipulation/.venv/lib/python3.12/site-packages/manipulation/station.py:962\u001b[0m, in \u001b[0;36mMakeHardwareStation\u001b[0;34m(scenario, meshcat, package_xmls, hardware, parser_preload_callback, parser_prefinalize_callback, prebuild_callback)\u001b[0m\n\u001b[1;32m    959\u001b[0m     parser_preload_callback(parser)\n\u001b[1;32m    961\u001b[0m \u001b[38;5;66;03m# Add model directives.\u001b[39;00m\n\u001b[0;32m--> 962\u001b[0m added_models \u001b[38;5;241m=\u001b[39m \u001b[43mProcessModelDirectives\u001b[49m\u001b[43m(\u001b[49m\n\u001b[1;32m    963\u001b[0m \u001b[43m    \u001b[49m\u001b[43mdirectives\u001b[49m\u001b[38;5;241;43m=\u001b[39;49m\u001b[43mModelDirectives\u001b[49m\u001b[43m(\u001b[49m\u001b[43mdirectives\u001b[49m\u001b[38;5;241;43m=\u001b[39;49m\u001b[43mscenario\u001b[49m\u001b[38;5;241;43m.\u001b[39;49m\u001b[43mdirectives\u001b[49m\u001b[43m)\u001b[49m\u001b[43m,\u001b[49m\n\u001b[1;32m    964\u001b[0m \u001b[43m    \u001b[49m\u001b[43mparser\u001b[49m\u001b[38;5;241;43m=\u001b[39;49m\u001b[43mparser\u001b[49m\u001b[43m,\u001b[49m\n\u001b[1;32m    965\u001b[0m \u001b[43m\u001b[49m\u001b[43m)\u001b[49m\n\u001b[1;32m    967\u001b[0m \u001b[38;5;28;01mif\u001b[39;00m parser_prefinalize_callback:\n\u001b[1;32m    968\u001b[0m     parser_prefinalize_callback(parser)\n",
            "\u001b[0;31mRuntimeError\u001b[0m: error: URI 'package://dummy_project/table_top.sdf' resolved to '/Users/mattgardner/source/manipulation/project/notebooks/table_top.sdf' which does not exist."
          ]
        }
      ],
      "source": [
        "# Note that we are using a different sugar box here, which has a hydroelastic contact model defined\n",
        "model_directive = f\"\"\"\n",
        "    directives:\n",
        "    - add_model:\n",
        "        name: table_top\n",
        "        file: package://dummy_project/table_top.sdf\n",
        "    - add_weld:\n",
        "        parent: world\n",
        "        child: table_top::table_top_center\n",
        "    - add_model:\n",
        "        name: cracker_box\n",
        "        file: package://drake_models/ycb/003_cracker_box.sdf\n",
        "        default_free_body_pose:\n",
        "            base_link_cracker:\n",
        "                translation: [0,0,0.8]\n",
        "                rotation: !Rpy {{ deg: [42, 33, 18] }}    \n",
        "    - add_model:\n",
        "        name: sugar_box\n",
        "        file: package://manipulation/hydro/004_sugar_box.sdf\n",
        "        default_free_body_pose:\n",
        "            base_link_sugar:\n",
        "                translation: [0,-0.25,0.8]\n",
        "                \n",
        "\n",
        "    plant_config:\n",
        "        time_step: 1e-3\n",
        "        contact_model: \"point\"\n",
        "        discrete_contact_approximation: \"sap\"\n",
        "    \"\"\"\n",
        "\n",
        "\n",
        "# try changing the directives string above to have hydroelastic contact properties!\n",
        "def preview_scene_given_directives(model_directive):\n",
        "    meshcat.Delete()\n",
        "    scenario = LoadScenario(data=model_directive)\n",
        "    station = MakeHardwareStation(\n",
        "        scenario, meshcat, package_xmls=[os.getcwd() + \"/package.xml\"]\n",
        "    )\n",
        "\n",
        "    simulator = Simulator(station)\n",
        "    meshcat.StartRecording()\n",
        "    simulator.AdvanceTo(2.0 if running_as_notebook else 0.1)\n",
        "    meshcat.PublishRecording()\n",
        "\n",
        "\n",
        "preview_scene_given_directives(model_directive)"
      ]
    },
    {
      "cell_type": "markdown",
      "metadata": {
        "cell_id": "d09521797c954602a33e63fa0f91ef88",
        "deepnote_cell_type": "markdown"
      },
      "source": [
        "## Create your own Simulation Setup (4 points)\n",
        "\n",
        "Now, you will create a simulation setup of your choosing into simulation. At minimum, this would include a manipulator (robot arm) and an object it might interact with. You have a lot of freedom here. Feel free to lean on examples we used earlier in this notebook! Ideally, this scene starts you off for your intended final project. \n",
        "\n",
        "We will require 3 non-robot objects and at least one thing in your simulation set-up cannot be directly taken from the existing models in Drake without modification. There is one point for each object, and one for the robot itself."
      ]
    },
    {
      "cell_type": "code",
      "execution_count": 3,
      "metadata": {
        "cell_id": "d6877e629b3f465591f586bfd1e14d20",
        "deepnote_cell_type": "code",
        "execution_context_id": "067c3e40-4c39-4d90-9e13-fe362d0c9a7c",
        "execution_millis": 105,
        "execution_start": 1729533866014,
        "source_hash": "48c91859"
      },
      "outputs": [
        {
          "ename": "FileNotFoundError",
          "evalue": "[Errno 2] No such file or directory: '../objects/environment_setup.yaml'",
          "output_type": "error",
          "traceback": [
            "\u001b[0;31m---------------------------------------------------------------------------\u001b[0m",
            "\u001b[0;31mFileNotFoundError\u001b[0m                         Traceback (most recent call last)",
            "Cell \u001b[0;32mIn[3], line 13\u001b[0m\n\u001b[1;32m      1\u001b[0m \u001b[38;5;66;03m# A rough sketch of TODOs to get you started:\u001b[39;00m\n\u001b[1;32m      2\u001b[0m \n\u001b[1;32m      3\u001b[0m \u001b[38;5;66;03m# 1. Create or save an object in a file path/string/package url.\u001b[39;00m\n\u001b[0;32m   (...)\u001b[0m\n\u001b[1;32m      9\u001b[0m \u001b[38;5;66;03m# 3. Run a simulator object on this diagram\u001b[39;00m\n\u001b[1;32m     10\u001b[0m \u001b[38;5;66;03m# try changing the directives string above to have hydroelastic contact properties!\u001b[39;00m\n\u001b[0;32m---> 13\u001b[0m scene \u001b[38;5;241m=\u001b[39m \u001b[38;5;28;43mopen\u001b[39;49m\u001b[43m(\u001b[49m\u001b[38;5;124;43m\"\u001b[39;49m\u001b[38;5;124;43m../objects/environment_setup.yaml\u001b[39;49m\u001b[38;5;124;43m\"\u001b[39;49m\u001b[43m)\u001b[49m\n\u001b[1;32m     15\u001b[0m \u001b[38;5;28;01mdef\u001b[39;00m \u001b[38;5;21mpreview_scene_given_directives\u001b[39m(model_directive):\n\u001b[1;32m     16\u001b[0m     meshcat\u001b[38;5;241m.\u001b[39mDelete()\n",
            "File \u001b[0;32m~/source/manipulation/.venv/lib/python3.12/site-packages/IPython/core/interactiveshell.py:324\u001b[0m, in \u001b[0;36m_modified_open\u001b[0;34m(file, *args, **kwargs)\u001b[0m\n\u001b[1;32m    317\u001b[0m \u001b[38;5;28;01mif\u001b[39;00m file \u001b[38;5;129;01min\u001b[39;00m {\u001b[38;5;241m0\u001b[39m, \u001b[38;5;241m1\u001b[39m, \u001b[38;5;241m2\u001b[39m}:\n\u001b[1;32m    318\u001b[0m     \u001b[38;5;28;01mraise\u001b[39;00m \u001b[38;5;167;01mValueError\u001b[39;00m(\n\u001b[1;32m    319\u001b[0m         \u001b[38;5;124mf\u001b[39m\u001b[38;5;124m\"\u001b[39m\u001b[38;5;124mIPython won\u001b[39m\u001b[38;5;124m'\u001b[39m\u001b[38;5;124mt let you open fd=\u001b[39m\u001b[38;5;132;01m{\u001b[39;00mfile\u001b[38;5;132;01m}\u001b[39;00m\u001b[38;5;124m by default \u001b[39m\u001b[38;5;124m\"\u001b[39m\n\u001b[1;32m    320\u001b[0m         \u001b[38;5;124m\"\u001b[39m\u001b[38;5;124mas it is likely to crash IPython. If you know what you are doing, \u001b[39m\u001b[38;5;124m\"\u001b[39m\n\u001b[1;32m    321\u001b[0m         \u001b[38;5;124m\"\u001b[39m\u001b[38;5;124myou can use builtins\u001b[39m\u001b[38;5;124m'\u001b[39m\u001b[38;5;124m open.\u001b[39m\u001b[38;5;124m\"\u001b[39m\n\u001b[1;32m    322\u001b[0m     )\n\u001b[0;32m--> 324\u001b[0m \u001b[38;5;28;01mreturn\u001b[39;00m \u001b[43mio_open\u001b[49m\u001b[43m(\u001b[49m\u001b[43mfile\u001b[49m\u001b[43m,\u001b[49m\u001b[43m \u001b[49m\u001b[38;5;241;43m*\u001b[39;49m\u001b[43margs\u001b[49m\u001b[43m,\u001b[49m\u001b[43m \u001b[49m\u001b[38;5;241;43m*\u001b[39;49m\u001b[38;5;241;43m*\u001b[39;49m\u001b[43mkwargs\u001b[49m\u001b[43m)\u001b[49m\n",
            "\u001b[0;31mFileNotFoundError\u001b[0m: [Errno 2] No such file or directory: '../objects/environment_setup.yaml'"
          ]
        }
      ],
      "source": [
        "# A rough sketch of TODOs to get you started:\n",
        "\n",
        "# 1. Create or save an object in a file path/string/package url.\n",
        "#       (Visualizing your model to test it first might be helpful)\n",
        "\n",
        "\n",
        "\n",
        "# 2. Add your objects to a plant/diagram\n",
        "# 3. Run a simulator object on this diagram\n",
        "# try changing the directives string above to have hydroelastic contact properties!\n",
        "\n",
        "\n",
        "scene = open(\"objects/environment_setup.yaml\")\n",
        "\n",
        "def preview_scene_given_directives(model_directive):\n",
        "    meshcat.Delete()\n",
        "    scenario = LoadScenario(data=model_directive)\n",
        "    station = MakeHardwareStation(\n",
        "        scenario, meshcat, package_xmls=[os.getcwd() + \"/package.xml\"])\n",
        "\n",
        "    simulator = Simulator(station)\n",
        "    meshcat.StartRecording()\n",
        "    simulator.AdvanceTo(2.0 if running_as_notebook else 0.1)\n",
        "    meshcat.PublishRecording()\n",
        "\n",
        "\n",
        "preview_scene_given_directives(scene)"
      ]
    },
    {
      "cell_type": "code",
      "execution_count": 22,
      "metadata": {},
      "outputs": [
        {
          "name": "stdout",
          "output_type": "stream",
          "text": [
            "/Users/mattgardner/source/manipulation/project/notebooks\n"
          ]
        }
      ],
      "source": [
        "!pwd"
      ]
    },
    {
      "cell_type": "markdown",
      "metadata": {
        "cell_id": "747d465e435f45a88c4bade357a726b0",
        "deepnote_cell_type": "markdown"
      },
      "source": [
        "**Part (c):** In your written submission, briefly describe what the object(s) in your scene are and your process of creating/obtaining them. Take a screenshot of your simulation scene. Your screenshot should include **red contact force arrows** and not green contact force arrows, which indicate that you are using **hydroelastic contact**. "
      ]
    },
    {
      "cell_type": "markdown",
      "metadata": {
        "cell_id": "662d6f6b9a1749c2a528a340ed038c39",
        "deepnote_cell_type": "markdown"
      },
      "source": [
        "## How will this notebook be Graded?\n",
        "\n",
        "If you are enrolled in the class, this notebook will be graded using [Gradescope](www.gradescope.com). You should have gotten the enrollement code on our announcement in Piazza. \n",
        "\n",
        "This notebook only consists of written questions, so please submit all responses in your PDF submission to Gradescope. For this exercise, you should have completed the following subparts:\n",
        "- [2 pts] Correct answers to part (a)\n",
        "- [2 pts] Correct answers to part (b)\n",
        "- [4 pts] A screenshot and description for part (c)"
      ]
    },
    {
      "cell_type": "markdown",
      "metadata": {
        "created_in_deepnote_cell": true,
        "deepnote_cell_type": "markdown"
      },
      "source": [
        "<a style='text-decoration:none;line-height:16px;display:flex;color:#5B5B62;padding:10px;justify-content:end;' href='https://deepnote.com?utm_source=created-in-deepnote-cell&projectId=92fbdad2-a4a9-4ef8-b493-c307060b34a1' target=\"_blank\">\n",
        "<img alt='Created in deepnote.com' style='display:inline;max-height:16px;margin:0px;margin-right:7.5px;' src='data:image/svg+xml;base64,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' > </img>\n",
        "Created in <span style='font-weight:600;margin-left:4px;'>Deepnote</span></a>"
      ]
    }
  ],
  "metadata": {
    "deepnote_execution_queue": [],
    "deepnote_notebook_id": "05c5775eb86147e09ef33048c7954dd7",
    "kernelspec": {
      "display_name": ".venv",
      "language": "python",
      "name": "python3"
    },
    "language_info": {
      "codemirror_mode": {
        "name": "ipython",
        "version": 3
      },
      "file_extension": ".py",
      "mimetype": "text/x-python",
      "name": "python",
      "nbconvert_exporter": "python",
      "pygments_lexer": "ipython3",
      "version": "3.12.4"
    }
  },
  "nbformat": 4,
  "nbformat_minor": 0
}
