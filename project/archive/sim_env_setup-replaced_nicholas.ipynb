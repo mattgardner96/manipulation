{
    "cells": [
        {
            "cell_type": "markdown",
            "metadata": {
                "cell_id": "60b8514ebdfd4fd5b45e067fd9598867",
                "deepnote_cell_type": "markdown"
            },
            "source": "## **Simulation Set-Up**",
            "block_group": "2951d5b6b4714c78b81dea8afbe8b8fc"
        },
        {
            "cell_type": "code",
            "metadata": {
                "source_hash": "1e18a8e1",
                "is_code_hidden": false,
                "execution_start": 1732027922252,
                "execution_millis": 2985,
                "execution_context_id": "9c53dc24-9940-412d-a8de-5161d5c7e6dc",
                "deepnote_app_is_code_hidden": true,
                "cell_id": "58c160b4f87146efa56aa798b705257e",
                "deepnote_cell_type": "code"
            },
            "source": "import os\nimport importlib\nimport sys\n\nimport numpy as np\nfrom pydrake.all import (\n    AbstractValue,\n    AddDefaultVisualization,\n    AddMultibodyPlantSceneGraph,\n    ConstantVectorSource,\n    DiagramBuilder,\n    LeafSystem,\n    LoadModelDirectives,\n    LoadModelDirectivesFromString,\n    Parser,\n    PiecewisePose,\n    ProcessModelDirectives,\n    RigidTransform,\n    RotationMatrix,\n    RollPitchYaw,\n    Simulator,\n    StartMeshcat,\n    LeafSystem,\n    ConstantVectorSource,\n    MultibodyPlant,\n    Frame,\n    DifferentialInverseKinematicsIntegrator,\n    StateInterpolatorWithDiscreteDerivative,\n    DifferentialInverseKinematicsParameters,\n)\nfrom IPython.display import display, SVG\nimport pydot\nimport matplotlib.pyplot as plt\nfrom pydrake.common import temp_directory\nfrom pydrake.geometry import StartMeshcat\nfrom pydrake.systems.analysis import Simulator\nfrom pydrake.systems.controllers import JointStiffnessController\nfrom pydrake.visualization import ModelVisualizer\n\nfrom manipulation import running_as_notebook\nfrom manipulation.station import LoadScenario, MakeHardwareStation, MakeMultibodyPlant\nfrom manipulation.utils import ConfigureParser\nfrom manipulation.systems import AddIiwaDifferentialIK\nfrom manipulation.meshcat_utils import AddMeshcatTriad\n\nsys.path.append('.')\nimport env_ingredient_add\nimportlib.reload(env_ingredient_add)\n",
            "block_group": "3cb043a413ba4702929b8f4dcf1b187a",
            "execution_count": 1,
            "outputs": [
                {
                    "output_type": "execute_result",
                    "execution_count": 1,
                    "data": {
                        "text/plain": "<module 'env_ingredient_add' from '/root/work/manipulation/project/env_ingredient_add.py'>"
                    },
                    "metadata": {}
                }
            ],
            "outputs_reference": "dbtable:cell_outputs/d70cb3bf-298c-47a0-a655-a0c364450b9b",
            "content_dependencies": null
        },
        {
            "cell_type": "code",
            "metadata": {
                "source_hash": "450eddfc",
                "execution_start": 1732027925282,
                "execution_millis": 40,
                "execution_context_id": "9f71a22a-7e6c-4ba4-8d29-f49ccb741ca6",
                "cell_id": "5bc03bad7d1d4364bcbcf159a2f52ccc",
                "deepnote_cell_type": "code"
            },
            "source": "# Start the visualizer. The cell will output an HTTP link after the execution.\n# Click the link and a MeshCat tab should appear in your browser.\nmeshcat = StartMeshcat()",
            "block_group": "b7b39f7932744b61a83676cc54c6eca7",
            "execution_count": 2,
            "outputs": [
                {
                    "name": "stderr",
                    "text": "INFO:drake:Meshcat listening for connections at https://92fbdad2-a4a9-4ef8-b493-c307060b34a1.deepnoteproject.com/7000/\nInstalling NginX server for MeshCat on Deepnote...\n",
                    "output_type": "stream"
                },
                {
                    "data": {
                        "text/plain": "<IPython.core.display.HTML object>",
                        "text/html": "Meshcat URL: <a href='https://92fbdad2-a4a9-4ef8-b493-c307060b34a1.deepnoteproject.com/7000/' target='_blank'>https://92fbdad2-a4a9-4ef8-b493-c307060b34a1.deepnoteproject.com/7000/</a>"
                    },
                    "metadata": {},
                    "output_type": "display_data"
                }
            ],
            "outputs_reference": "dbtable:cell_outputs/550ef36e-a151-4f20-921a-6e0112805d4f",
            "content_dependencies": null
        },
        {
            "cell_type": "markdown",
            "metadata": {
                "cell_id": "d33dec9cd61b4fc3ac7c2a008c0d717f",
                "deepnote_cell_type": "markdown"
            },
            "source": "# Simulation Set Up \n\nGenerating a useful simulation scene is the first step in successful manipulation projects. In this exercise, we will learn how to add the necessary objects to set-up a scene.\n\n**These are the learning goals of this exercise:**\n1. Be able to work with objects written in robot description formats such as URDFs and SDFs.\n2. Understand how to view and edit collision geometries\n3. Understand how to add objects to Drake to create a useful manipulation scene.\n\nA great resource is [Authoring a Multibody Simulation tutorial](https://deepnote.com/workspace/Drake-0b3b2c53-a7ad-441b-80f8-bf8350752305/project/Tutorials-2b4fc509-aef2-417d-a40d-6071dfed9199/notebook/authoring_multibody_simulation-add293478aac40a984845aa3705eefdd?). Parts of this notebook were taken from it.",
            "block_group": "c36063271b9b40539010eea3893b3fab"
        },
        {
            "cell_type": "markdown",
            "metadata": {
                "cell_id": "56b3ee0ff35e464c9491983df11e9da6",
                "deepnote_cell_type": "markdown"
            },
            "source": "## Simulated Kitchen Setup & Robot Configuration\nIn the included `objects/environment_setup.yaml` file, we instantiate all the parts of the kitchen scene.",
            "block_group": "0778187542764fc696a0f969423dcd53"
        },
        {
            "cell_type": "code",
            "metadata": {
                "source_hash": "c098aa02",
                "execution_start": 1732027925375,
                "execution_millis": 0,
                "execution_context_id": "9f71a22a-7e6c-4ba4-8d29-f49ccb741ca6",
                "cell_id": "73704c84bc994f9989de3bbe343716bf",
                "deepnote_cell_type": "code"
            },
            "source": "if os.getcwd() == \"/datasets/_deepnote_work/manipulation/project\": \n    #scene = open(\"/work/manipulation/project/objects/environment_setup.yaml\")\n    scene = env_ingredient_add.get_environment_set_up(no_scene=True,include_driver=True)\n    xmls = [os.getcwd() + \"/package.xml\", \"/work/manipulation/project/package.xml\"]\nelse:\n    #scene = open(\"objects/environment_setup.yaml\") # local setup\n    scene = env_ingredient_add.get_environment_set_up(no_scene=True,include_driver=True)\n    xmls = [os.getcwd() + \"/package.xml\"]\n\nscenario = LoadScenario(data=scene)",
            "block_group": "09aaa86dc17d4d78b299a6fe237995ff",
            "execution_count": 3,
            "outputs": [],
            "outputs_reference": null,
            "content_dependencies": null
        },
        {
            "cell_type": "code",
            "metadata": {
                "source_hash": "970a4eb4",
                "execution_start": 1732027925426,
                "execution_millis": 1,
                "execution_context_id": "9f71a22a-7e6c-4ba4-8d29-f49ccb741ca6",
                "cell_id": "3828a7c2c8a74ae69b17b1fd110220fc",
                "deepnote_cell_type": "code"
            },
            "source": "scenario",
            "block_group": "c43d9e90b7cd46ed9f54db122a00fdc8",
            "execution_count": 4,
            "outputs": [
                {
                    "output_type": "execute_result",
                    "execution_count": 4,
                    "data": {
                        "text/plain": "Scenario(random_seed=0, simulation_duration=inf, simulator_config=SimulatorConfig(integration_scheme='runge_kutta3', max_step_size=0.01, accuracy=0.01, use_error_control=False, target_realtime_rate=0.0, publish_every_time_step=False), plant_config=MultibodyPlantConfig(time_step=0.001, penetration_allowance=0.001, stiction_tolerance=0.001, contact_model='hydroelastic_with_fallback', discrete_contact_approximation='sap', discrete_contact_solver='', sap_near_rigid_threshold=1.0, contact_surface_representation='polygon', adjacent_bodies_collision_filters=True), directives=[ModelDirective(add_model=AddModel(file='package://manipulation/mobile_iiwa14_primitive_collision.urdf', name='mobile_iiwa', default_joint_positions={'iiwa_base_x': array([0.]), 'iiwa_base_y': array([0.]), 'iiwa_base_z': array([0.]), 'iiwa_joint_1': array([-1.57]), 'iiwa_joint_2': array([0.1]), 'iiwa_joint_3': array([0.]), 'iiwa_joint_4': array([-1.2]), 'iiwa_joint_5': array([0.]), 'iiwa_joint_6': array([1.6]), 'iiwa_joint_7': array([0.])}, default_free_body_pose={}), add_model_instance=None, add_frame=None, add_weld=None, add_collision_filter_group=None, add_directives=None), ModelDirective(add_model=AddModel(file='package://drake_models/wsg_50_description/sdf/schunk_wsg_50_with_tip.sdf', name='gripper', default_joint_positions={}, default_free_body_pose={}), add_model_instance=None, add_frame=None, add_weld=None, add_collision_filter_group=None, add_directives=None), ModelDirective(add_model=None, add_model_instance=None, add_frame=None, add_weld=AddWeld(parent='mobile_iiwa::iiwa_link_7', child='gripper::body', X_PC=Transform(base_frame=None, translation=array([0.  , 0.  , 0.09]), rotation=Rotation(value=Rpy(deg=array([90.,  0., 90.]))))), add_collision_filter_group=None, add_directives=None)], lcm_buses={'default': DrakeLcmParams(lcm_url='memq://null', channel_suffix='', defer_initialization=False)}, model_drivers={'mobile_iiwa': InverseDynamicsDriver()}, cameras={}, visualization=VisualizationConfig(lcm_bus='default', publish_period=0.015625, publish_illustration=True, default_illustration_color=Rgba(r=0.9, g=0.9, b=0.9, a=1.0), publish_proximity=True, default_proximity_color=Rgba(r=0.8, g=0.0, b=0.0, a=1.0), initial_proximity_alpha=0.5, publish_contacts=True, publish_inertia=True, enable_meshcat_creation=True, delete_on_initialization_event=True, enable_alpha_sliders=False))"
                    },
                    "metadata": {}
                }
            ],
            "outputs_reference": "s3:deepnote-cell-outputs-production/4046485e-ebe5-4dd9-9fc1-55c4b812635b",
            "content_dependencies": null
        },
        {
            "cell_type": "code",
            "metadata": {
                "source_hash": "a0fb91b5",
                "execution_start": 1732027925478,
                "execution_millis": 8524,
                "execution_context_id": "9c53dc24-9940-412d-a8de-5161d5c7e6dc",
                "cell_id": "58f3deb494a54375b4568444ecdef34d",
                "deepnote_cell_type": "code"
            },
            "source": "class PoseTrajectorySource(LeafSystem):\n    \"\"\"\n    returns desired list of poses of dimension 20: 10 positions, 10 velocities\n    (optional) pose_trajectory: trajectory to follow. if context does not already exist, pass it in from the plant.\n    \"\"\"\n    # pose_trajectory: PiecewisePose = PiecewisePose()\n\n    def __init__(self, pose_trajectory):\n        LeafSystem.__init__(self)\n        self._pose_trajectory = pose_trajectory\n        self.DeclareAbstractOutputPort(\n            \"pose\", lambda: AbstractValue.Make(RigidTransform()), self.CalcPose\n        )\n\n    def CalcPose(self, context, output):\n        output.set_value(self._pose_trajectory.GetPose(context.get_time()))\n        pose = self._pose_trajectory.GetPose(context.get_time())\n        print(f\"Pose dimensions: {pose.GetAsVector().size()}\")\n        output.set_value(pose)\n\ndef CreateIiwaControllerPlant():\n    #creates plant that includes only the robot and gripper, used for controllers\n    robot_sdf_path = (\"package://manipulation/mobile_iiwa14_primitive_collision.urdf\")\n    sim_timestep = 1e-3\n    plant_robot = MultibodyPlant(sim_timestep)\n    parser = Parser(plant=plant_robot)\n    ConfigureParser(parser)\n    parser.AddModelsFromUrl(robot_sdf_path)\n    plant_robot.mutable_gravity_field().set_gravity_vector([0, 0, 0])\n    plant_robot.Finalize()\n    return plant_robot\n\n\ndef AddMobileIiwaDifferentialIK(\n    builder: DiagramBuilder, plant: MultibodyPlant, frame: Frame = None\n) -> DifferentialInverseKinematicsIntegrator:\n    \"\"\"\n    Args:\n        builder: The DiagramBuilder to which the system should be added.\n\n        plant: The MultibodyPlant passed to the DifferentialInverseKinematicsIntegrator.\n\n        frame: The frame to use for the end effector command. Defaults to the body\n            frame of \"iiwa_link_7\".\n\n    Returns:\n        The DifferentialInverseKinematicsIntegrator system.\n    \"\"\"\n    # TODO(mjg): when the plant is instantiated, the mobile_iiwa has no positions or velocities\n\n    params = DifferentialInverseKinematicsParameters(\n        plant.num_positions(), plant.num_velocities()   # right now, no positions are included, so this fails.\n    )\n    time_step = plant.time_step()\n    q0 = plant.GetPositions(plant.CreateDefaultContext())\n    params.set_nominal_joint_position(q0)\n    params.set_end_effector_angular_speed_limit(2)\n    params.set_end_effector_translational_velocity_limits([-2, -2, -2], [2, 2, 2])\n\n    if frame is None:\n        frame = plant.GetFrameByName(\"iiwa_link_7\")\n    # Zero velocity for z-direction.\n    mobile_iiwa_velocity_limits = np.array([3.0, 3.0, 0.0, 1.4, 1.4, 1.7, 1.3, 2.2, 2.3, 2.3])\n    params.set_joint_velocity_limits(\n        (-mobile_iiwa_velocity_limits, mobile_iiwa_velocity_limits)\n    )\n    params.set_joint_centering_gain(10 * np.eye(10))\n    differential_ik = builder.AddNamedSystem(\n        \"diff_ik_integrator\",\n        DifferentialInverseKinematicsIntegrator(\n            plant,\n            frame,\n            time_step,\n            params,\n            log_only_when_result_state_changes=True,\n        )\n    )\n    return differential_ik\n\nclass PizzaBot:\n    # make robot station and set up simulation\n    def __init__(self, scenario=None, traj=PiecewisePose()):\n        self.meshcat = meshcat\n        builder = DiagramBuilder()\n        \n        self.station = builder.AddSystem(MakeHardwareStation(\n            scenario, meshcat, package_xmls=[os.getcwd() + \"/package.xml\"])\n        )\n        \n        # add plant (iiwa arm)\n        self.plant = self.station.GetSubsystemByName(\"plant\")\n        # self.plant.GetJointByName(\"iiwa_joint_7\").set_position_limits(\n        #     [-np.inf], [np.inf]\n        # )\n        \n        # self.diagram = builder.Build()\n        self.gripper_frame = self.plant.GetFrameByName(\"body\")\n        self.world_frame = self.plant.world_frame()\n\n        # self.controller = self.station.GetSubsystemByName(\"mobile_iiwa.controller\")\n\n\n        # this is the workaround. right now we don't have the InverseDynamicsController hooked up.\n        self.iiwa_controller_plant = CreateIiwaControllerPlant()  \n        self.controller = AddMobileIiwaDifferentialIK(\n            builder,\n            plant=self.iiwa_controller_plant,\n            frame=self.gripper_frame,\n        )\n        # NOTE: This controller plant creation requires https://github.com/RussTedrake/manipulation/pull/385\n        # A workaround for now is to create a plant that just contains the mobile iiwa. This should be easy\n        # with the existing `robot_only` directive string. This wouldn't use MakeHardwareStation but would\n        # use `parser.AddDirectives` with `MultibodyPlant`. See https://github.com/RussTedrake/manipulation/pull/371\n        # if this is unclear.\n    \n        if traj is not None:\n            self.traj_source = builder.AddSystem(PoseTrajectorySource(traj))\n            # print(self.traj_source)\n\n            # TODO(mjg): do the workaround\n\n        else:\n            assert False, \"Need to provide a trajectory\"\n        \n        builder.Connect(\n            self.traj_source.get_output_port(),\n            self.controller.get_input_port(0),\n        )\n        # If bug, see https://drake.mit.edu/doxygen_cxx/classdrake_1_1multibody_1_1_differential_inverse_kinematics_integrator.html for other ports or set positions commaned\n        \n        num_positions = 10\n        time_step = 1e-3 # TODO: the timestep you use\n        pos_to_state_sys = builder.AddSystem(\n                StateInterpolatorWithDiscreteDerivative(\n                    num_positions,\n                    time_step,\n                    suppress_initial_transient=True,\n                )\n            )\n\n        # hook up a camera if it exists\n        if scenario.cameras is not None:\n            builder.ExportOutput(self.diagram.camera0_depth_image)\n        \n        builder.Connect(\n            self.station.GetOutputPort(\"mobile_iiwa.state_estimated\"),\n            self.controller.GetInputPort(\"robot_state\"),\n        )\n        \n        builder.Connect(\n            self.controller.get_output_port(),\n            pos_to_state_sys.get_input_port(),\n        )\n        \n        builder.Connect(\n            pos_to_state_sys.get_output_port(),\n            self.station.GetInputPort(\"mobile_iiwa.desired_state\")\n        )\n\n        # builder.ExportOutput(\n        #     self.station.GetOutputPort(\"mobile_iiwa.state_estimated\"),\n        #     \"mobile_iiwa.state_estimated\"\n        # )\n\n        self.diagram = builder.Build() # IMPT: must build the diagram before visualizing it\n        self.diagram.set_name(\"diagram\")\n\n        self.simulator = Simulator(self.station)\n        \n\n\n    def print_diagram(self, output_file=\"diagram.png\"):\n        print(\"station.system names: \")\n        for sys in self.station.GetSystems():\n            print(\"- \" + sys.GetSystemName())\n\n        # Visualize and save the diagram as a PNG\n        graph = pydot.graph_from_dot_data(\n            self.diagram.GetGraphvizString(max_depth=10)\n        )[0]\n        graph.write_png(output_file)\n        print(f\"Diagram saved to {output_file}\")\n\n\n    def get_X_WG(self, context=None):\n        if not context:\n            context = self.CreateDefaultContext()\n        plant_context = self.plant.GetMyMutableContextFromRoot(context)\n        X_WG = self.plant.CalcRelativeTransform(\n            plant_context, frame_A=self.world_frame, frame_B=self.gripper_frame\n        )\n        return X_WG\n\n    def CreateDefaultContext(self):\n        context = self.diagram.CreateDefaultContext()\n\n        # provide initial states\n        q0 = np.array(\n            [\n                1.40666193e-03,\n                1.56461165e-01,\n                -3.82761069e-03,\n                -1.32296976e00,\n                -6.29097287e-03,\n                1.61181157e00,\n                -2.66900985e-03,\n                -1,\n                1,\n                0\n            ]\n        )\n        v0 = np.zeros(10)\n        # set the joint positions of the kuka arm\n        iiwa = self.plant.GetModelInstanceByName(\"mobile_iiwa\")\n        plant_context = self.plant.GetMyMutableContextFromRoot(context)\n        self.plant.SetPositions(plant_context, iiwa, q0)\n        self.plant.SetVelocities(plant_context, iiwa, v0)\n\n        gripper = self.plant.GetModelInstanceByName(\"gripper\")\n        \n        self.plant.SetPositions(plant_context, gripper, [-0.05, 0.05])\n        self.plant.SetVelocities(plant_context, gripper, [0, 0])\n\n        return context\n\n\n\n    # run simulation\n    def run_simulation(self, start_time):\n        # context = self.simulator.get_mutable_context()\n        # x0 = self.station.GetOutputPort(\"mobile_iiwa.state_estimated\").Eval(context)\n        # self.station.GetInputPort(\"mobile_iiwa.desired_state\").FixValue(context, x0)\n        self.meshcat.StartRecording()\n        self.simulator.AdvanceTo(start_time if running_as_notebook else 0.1)\n        self.meshcat.PublishRecording()\n    \n\ndef preview_scene_given_directives(model_directive):\n    meshcat.Delete()\n    scenario = LoadScenario(data=model_directive)\n    station = MakeHardwareStation(\n        scenario, meshcat, package_xmls=xmls\n    )\n    simulator = Simulator(station)\n    context = simulator.get_mutable_context()\n    x0 = station.GetOutputPort(\"mobile_iiwa.state_estimated\").Eval(context)\n    station.GetInputPort(\"mobile_iiwa.desired_state\").FixValue(context, x0)\n    meshcat.StartRecording()\n    simulator.AdvanceTo(2.0 if running_as_notebook else 0.1)\n    meshcat.PublishRecording()\n\nbot = PizzaBot(scenario)\n",
            "block_group": "5782116717d54d3f9d2fa095a9c7566c",
            "execution_count": 5,
            "outputs": [
                {
                    "name": "stderr",
                    "text": "INFO:drake:PackageMap: Downloading https://github.com/RobotLocomotion/models/archive/69c92595a391eb023c27ab6ac8f80d58a3e4612d.tar.gz\n",
                    "output_type": "stream"
                },
                {
                    "output_type": "error",
                    "ename": "AttributeError",
                    "evalue": "'PizzaBot' object has no attribute 'diagram'",
                    "traceback": [
                        "\u001b[0;31m---------------------------------------------------------------------------\u001b[0m",
                        "\u001b[0;31mAttributeError\u001b[0m                            Traceback (most recent call last)",
                        "Cell \u001b[0;32mIn [5], line 252\u001b[0m\n\u001b[1;32m    249\u001b[0m     simulator\u001b[38;5;241m.\u001b[39mAdvanceTo(\u001b[38;5;241m2.0\u001b[39m \u001b[38;5;28;01mif\u001b[39;00m running_as_notebook \u001b[38;5;28;01melse\u001b[39;00m \u001b[38;5;241m0.1\u001b[39m)\n\u001b[1;32m    250\u001b[0m     meshcat\u001b[38;5;241m.\u001b[39mPublishRecording()\n\u001b[0;32m--> 252\u001b[0m bot \u001b[38;5;241m=\u001b[39m \u001b[43mPizzaBot\u001b[49m\u001b[43m(\u001b[49m\u001b[43mscenario\u001b[49m\u001b[43m)\u001b[49m\n",
                        "Cell \u001b[0;32mIn [5], line 143\u001b[0m, in \u001b[0;36mPizzaBot.__init__\u001b[0;34m(self, scenario, traj)\u001b[0m\n\u001b[1;32m    141\u001b[0m \u001b[38;5;66;03m# hook up a camera if it exists\u001b[39;00m\n\u001b[1;32m    142\u001b[0m \u001b[38;5;28;01mif\u001b[39;00m scenario\u001b[38;5;241m.\u001b[39mcameras \u001b[38;5;129;01mis\u001b[39;00m \u001b[38;5;129;01mnot\u001b[39;00m \u001b[38;5;28;01mNone\u001b[39;00m:\n\u001b[0;32m--> 143\u001b[0m     builder\u001b[38;5;241m.\u001b[39mExportOutput(\u001b[38;5;28;43mself\u001b[39;49m\u001b[38;5;241;43m.\u001b[39;49m\u001b[43mdiagram\u001b[49m\u001b[38;5;241m.\u001b[39mcamera0_depth_image)\n\u001b[1;32m    145\u001b[0m builder\u001b[38;5;241m.\u001b[39mConnect(\n\u001b[1;32m    146\u001b[0m     \u001b[38;5;28mself\u001b[39m\u001b[38;5;241m.\u001b[39mstation\u001b[38;5;241m.\u001b[39mGetOutputPort(\u001b[38;5;124m\"\u001b[39m\u001b[38;5;124mmobile_iiwa.state_estimated\u001b[39m\u001b[38;5;124m\"\u001b[39m),\n\u001b[1;32m    147\u001b[0m     \u001b[38;5;28mself\u001b[39m\u001b[38;5;241m.\u001b[39mcontroller\u001b[38;5;241m.\u001b[39mGetInputPort(\u001b[38;5;124m\"\u001b[39m\u001b[38;5;124mrobot_state\u001b[39m\u001b[38;5;124m\"\u001b[39m),\n\u001b[1;32m    148\u001b[0m )\n\u001b[1;32m    150\u001b[0m builder\u001b[38;5;241m.\u001b[39mConnect(\n\u001b[1;32m    151\u001b[0m     \u001b[38;5;28mself\u001b[39m\u001b[38;5;241m.\u001b[39mcontroller\u001b[38;5;241m.\u001b[39mget_output_port(),\n\u001b[1;32m    152\u001b[0m     pos_to_state_sys\u001b[38;5;241m.\u001b[39mget_input_port(),\n\u001b[1;32m    153\u001b[0m )\n",
                        "\u001b[0;31mAttributeError\u001b[0m: 'PizzaBot' object has no attribute 'diagram'"
                    ]
                }
            ],
            "outputs_reference": "s3:deepnote-cell-outputs-production/bba9ef34-ee1a-44eb-b095-d67f6098cd0a",
            "content_dependencies": null
        },
        {
            "cell_type": "code",
            "metadata": {
                "source_hash": "13aefc61",
                "execution_start": 1731975103856,
                "execution_millis": 1,
                "execution_context_id": "9f71a22a-7e6c-4ba4-8d29-f49ccb741ca6",
                "deepnote_to_be_reexecuted": true,
                "cell_id": "c0cb71666fac4d33b45550bfd701beac",
                "deepnote_cell_type": "code"
            },
            "source": "scenario.cameras",
            "block_group": "030ea387240640c2bf44d99ce0564229",
            "execution_count": 15,
            "outputs": [
                {
                    "output_type": "execute_result",
                    "execution_count": 15,
                    "data": {
                        "text/plain": "{}"
                    },
                    "metadata": {}
                }
            ],
            "outputs_reference": "dbtable:cell_outputs/6b8ead71-9014-45d9-b89e-3af93bd1d258",
            "content_dependencies": null
        },
        {
            "cell_type": "code",
            "metadata": {
                "source_hash": "cafe8d2",
                "execution_start": 1731974852736,
                "execution_millis": 0,
                "execution_context_id": "9f71a22a-7e6c-4ba4-8d29-f49ccb741ca6",
                "deepnote_to_be_reexecuted": true,
                "cell_id": "28362a382f3b4b2c880802df523d4813",
                "deepnote_cell_type": "code"
            },
            "source": "# bot.print_diagram()",
            "block_group": "c2ddd6a799874a47aba61a916f9960f8",
            "execution_count": 6,
            "outputs": [],
            "outputs_reference": null,
            "content_dependencies": null
        },
        {
            "cell_type": "code",
            "metadata": {
                "source_hash": "5d6d5bef",
                "execution_start": 1731974853152,
                "execution_millis": 2138,
                "execution_context_id": "9f71a22a-7e6c-4ba4-8d29-f49ccb741ca6",
                "deepnote_to_be_reexecuted": true,
                "deepnote_output_height_limit_disabled": true,
                "cell_id": "b1125ccab5354c1bb29bcf06d4541d90",
                "deepnote_cell_type": "code"
            },
            "source": "default_joint_angles = np.array([\n    1.40666193e-05,\n    1.56461165e-01,\n    -3.82761069e-05,\n    -1.32296976e00,\n    -6.29097287e-06,\n    1.61181157e00,\n    -2.66900985e-05,\n    0,\n    0,\n    0\n])\n\nbot = PizzaBot(scenario)\n# bot.run_simulation(start_time=2.0)\n\nbot.print_diagram()",
            "block_group": "f8ff498090364cc9a4dc164f1f3cdf33",
            "execution_count": 7,
            "outputs": [
                {
                    "name": "stdout",
                    "text": "station.system names: \n- plant\n- scene_graph\n- DrakeLcm(bus_name=default)\n- DrakeLcm(bus_name=opt_out)\n- mobile_iiwa.controller\n- meshcat_visualizer(illustration)\n- meshcat_visualizer(inertia)\n- meshcat_visualizer(proximity)\n- meshcat_contact_visualizer\n- inertia_visualizer\nDiagram saved to diagram.png\n",
                    "output_type": "stream"
                }
            ],
            "outputs_reference": "dbtable:cell_outputs/e7f60178-ddc3-438b-8c86-f99a7a3ea88f",
            "content_dependencies": null
        },
        {
            "cell_type": "code",
            "metadata": {
                "source_hash": "438aa0cc",
                "execution_start": 1731974855344,
                "execution_millis": 0,
                "execution_context_id": "9f71a22a-7e6c-4ba4-8d29-f49ccb741ca6",
                "deepnote_to_be_reexecuted": true,
                "cell_id": "f12cef49c4d9435fa54972a467eb57df",
                "deepnote_cell_type": "code"
            },
            "source": "# # define center and radius\n# radius = 0.1\n# p0 = [0.45, 0.0, 0.4]\n# p_base = [0.0, 0.0, 0.0]\n# R0 = RotationMatrix(np.array([[0, 1, 0], [0, 0, -1], [-1, 0, 0]]).T)\n# X_WCenter = RigidTransform(R0, p0)\n\n# num_key_frames = 10\n# \"\"\"\n# you may use different thetas as long as your trajectory starts\n# from the Start Frame above and your rotation is positive\n# in the world frame about +z axis\n# thetas = np.linspace(0, 2*np.pi, num_key_frames)\n# \"\"\"\n# thetas = np.linspace(0, 2 * np.pi, num_key_frames)\n\n# # bot = PizzaBot(scenario)\n\n# def compose_circular_key_frames(thetas, X_WCenter, radius):\n#     \"\"\"\n#     returns: a list of RigidTransforms\n#     \"\"\"\n#     # this is an template, replace your code below\n#     key_frame_poses_in_world = []\n#     for theta in thetas:\n#         position = X_WCenter.translation() + np.array([\n#             radius * np.cos(theta),\n#             radius * np.sin(theta),\n#             0.0  # z-coordinate stays constant for a horizontal trajectory\n#         ])\n        \n#         # Use the same rotation matrix for all keyframes\n#         rotation_matrix = X_WCenter.rotation()\n#         this_pose = RigidTransform(rotation_matrix, position)\n#         key_frame_poses_in_world.append(this_pose)\n#         # print(f\"Key frame pose at theta {theta}: Position = {position}, Rotation = {rotation_matrix}\")\n\n#     return key_frame_poses_in_world\n\n\n# key_frame_poses = compose_circular_key_frames(thetas, X_WCenter, radius)\n# print(\"key_frame_poses: \", key_frame_poses)\n# # print(\"length of key_frame_poses: \", len(key_frame_poses))\n\n# X_WGinit = bot.get_X_WG(context=bot.diagram.CreateDefaultContext())\n# # print(\"X_WGinit: \", X_WGinit)\n# # TODO: This no longer works as we can't build the diagram without a traj. The reason is that the diagram expects the output type of the pose source.\n\n# total_time = 20.0\n# start_time = total_time \n# key_frame_poses = [X_WGinit] + compose_circular_key_frames(thetas, X_WCenter, radius)\n\n# for i, frame in enumerate(key_frame_poses):\n#     AddMeshcatTriad(meshcat, X_PT=frame, path=\"frame\"+str(i))\n\n# times = np.linspace(0, total_time, num_key_frames + 1)\n\n# traj = PiecewisePose.MakeLinear(times, key_frame_poses)\n# print(traj)\n\n# traj_bot = PizzaBot(scenario, traj=traj)\n# traj_bot.run_simulation(start_time=start_time)",
            "block_group": "0ba2fb656ae74b06a38d51960337d760",
            "execution_count": 8,
            "outputs": [],
            "outputs_reference": null,
            "content_dependencies": null
        },
        {
            "cell_type": "code",
            "metadata": {
                "source_hash": "4033d692",
                "execution_start": 1731974855396,
                "execution_millis": 0,
                "execution_context_id": "9f71a22a-7e6c-4ba4-8d29-f49ccb741ca6",
                "deepnote_to_be_reexecuted": true,
                "cell_id": "51fd10f0cb004c868231863fe7ab3143",
                "deepnote_cell_type": "code"
            },
            "source": "# # traj_bot.print_diagram()\n# diffik = traj_bot.diagram.GetSubsystemByName(\"diff_ik_integrator\")\n# context = diffik.GetMyContextFromRoot(traj_bot.CreateDefaultContext())\n# # diffik.GetOutputPort(\"joint_positions\").Eval(context)\n# # traj_bot.CreateDefaultContext()",
            "block_group": "16c995f7cb8b4c82a46efdd86d6aa935",
            "execution_count": 9,
            "outputs": [],
            "outputs_reference": null,
            "content_dependencies": null
        },
        {
            "cell_type": "code",
            "metadata": {
                "source_hash": "8566805",
                "execution_start": 1731974855449,
                "execution_millis": 1945,
                "execution_context_id": "9f71a22a-7e6c-4ba4-8d29-f49ccb741ca6",
                "deepnote_to_be_reexecuted": true,
                "cell_id": "7c25db993bfb4e35aabdce021dfc20c7",
                "deepnote_cell_type": "code"
            },
            "source": "bot.print_diagram()\n# context = bot.station.GetMyContextFromRoot(bot.diagram.CreateDefaultContext())\n# bot.controller.GetInputPort(\"desired_state\").FixValue(context, default_joint_angles)\n\n",
            "block_group": "382201e44ab04c4ebcba77a000b04b3f",
            "execution_count": 10,
            "outputs": [
                {
                    "name": "stdout",
                    "text": "station.system names: \n- plant\n- scene_graph\n- DrakeLcm(bus_name=default)\n- DrakeLcm(bus_name=opt_out)\n- mobile_iiwa.controller\n- meshcat_visualizer(illustration)\n- meshcat_visualizer(inertia)\n- meshcat_visualizer(proximity)\n- meshcat_contact_visualizer\n- inertia_visualizer\nDiagram saved to diagram.png\n",
                    "output_type": "stream"
                }
            ],
            "outputs_reference": "dbtable:cell_outputs/ef7211ec-0558-4752-87cb-426359b8bb9e",
            "content_dependencies": null
        },
        {
            "cell_type": "code",
            "metadata": {
                "source_hash": "c172b7fc",
                "execution_start": 1731974857444,
                "execution_millis": 0,
                "execution_context_id": "9f71a22a-7e6c-4ba4-8d29-f49ccb741ca6",
                "deepnote_to_be_reexecuted": true,
                "cell_id": "07be62f876304a239863cd7811359075",
                "deepnote_cell_type": "code"
            },
            "source": "# !pwd",
            "block_group": "cd9a554972c0432e9e93fa3c8b836059",
            "execution_count": 11,
            "outputs": [],
            "outputs_reference": null,
            "content_dependencies": null
        },
        {
            "cell_type": "markdown",
            "source": "<a style='text-decoration:none;line-height:16px;display:flex;color:#5B5B62;padding:10px;justify-content:end;' href='https://deepnote.com?utm_source=created-in-deepnote-cell&projectId=92fbdad2-a4a9-4ef8-b493-c307060b34a1' target=\"_blank\">\n<img alt='Created in deepnote.com' style='display:inline;max-height:16px;margin:0px;margin-right:7.5px;' src='data:image/svg+xml;base64,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' > </img>\nCreated in <span style='font-weight:600;margin-left:4px;'>Deepnote</span></a>",
            "metadata": {
                "created_in_deepnote_cell": true,
                "deepnote_cell_type": "markdown"
            }
        }
    ],
    "nbformat": 4,
    "nbformat_minor": 0,
    "metadata": {
        "deepnote_notebook_id": "e7e28c7e151344f59e17499c4752b266"
    }
}