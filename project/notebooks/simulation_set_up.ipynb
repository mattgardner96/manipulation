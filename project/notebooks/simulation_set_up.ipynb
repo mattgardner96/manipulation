{
  "cells": [
    {
      "cell_type": "markdown",
      "source": "## **Simulation Set-Up**",
      "metadata": {
        "cell_id": "bd9ccc445c894284a17b6001c6df060d",
        "deepnote_cell_type": "markdown"
      },
      "block_group": "5d3da2330eba4fdf916a144647e432b3"
    },
    {
      "cell_type": "code",
      "source": "import os\n\nimport numpy as np\nfrom pydrake.all import (\n    AddDefaultVisualization,\n    AddMultibodyPlantSceneGraph,\n    DiagramBuilder,\n    LoadModelDirectives,\n    LoadModelDirectivesFromString,\n    Parser,\n    ProcessModelDirectives,\n    RigidTransform,\n    RollPitchYaw,\n    Simulator,\n    StartMeshcat,\n)\nfrom pydrake.common import temp_directory\nfrom pydrake.geometry import StartMeshcat\nfrom pydrake.systems.analysis import Simulator\nfrom pydrake.visualization import ModelVisualizer\n\nfrom manipulation import running_as_notebook\nfrom manipulation.station import LoadScenario, MakeHardwareStation\nfrom manipulation.utils import ConfigureParser",
      "metadata": {
        "source_hash": "7cd8485d",
        "execution_start": 1729533822168,
        "execution_millis": 455,
        "execution_context_id": "067c3e40-4c39-4d90-9e13-fe362d0c9a7c",
        "cell_id": "f2aebfe5444b4f88bb29bc8576c31ed8",
        "deepnote_cell_type": "code"
      },
      "outputs": [],
      "outputs_reference": null,
      "execution_count": 3,
      "block_group": "7e2bc05af31743a9b9dd72293835d88e",
      "content_dependencies": null
    },
    {
      "cell_type": "code",
      "source": "# Start the visualizer. The cell will output an HTTP link after the execution.\n# Click the link and a MeshCat tab should appear in your browser.\nmeshcat = StartMeshcat()",
      "metadata": {
        "source_hash": "450eddfc",
        "execution_start": 1729533828911,
        "execution_millis": 185,
        "execution_context_id": "067c3e40-4c39-4d90-9e13-fe362d0c9a7c",
        "cell_id": "e5ebebd0a41048658f68961a1e8939c7",
        "deepnote_cell_type": "code"
      },
      "outputs": [],
      "outputs_reference": null,
      "execution_count": 4,
      "block_group": "02e251ac4ad0453bb1968a47e2415ba7",
      "content_dependencies": null
    },
    {
      "cell_type": "markdown",
      "source": "# Simulation Set Up \n\nGenerating a useful simulation scene is the first step in successful manipulation projects. In this exercise, we will learn how to add the necessary objects to set-up a scene.\n\n**These are the learning goals of this exercise:**\n1. Be able to work with objects written in robot description formats such as URDFs and SDFs.\n2. Understand how to view and edit collision geometries\n3. Understand how to add objects to Drake to create a useful manipulation scene.\n\nA great resource is [Authoring a Multibody Simulation tutorial](https://deepnote.com/workspace/Drake-0b3b2c53-a7ad-441b-80f8-bf8350752305/project/Tutorials-2b4fc509-aef2-417d-a40d-6071dfed9199/notebook/authoring_multibody_simulation-add293478aac40a984845aa3705eefdd?). Parts of this notebook were taken from it.",
      "metadata": {
        "cell_id": "5b76ec3202c84e01a08df2b8a3852285",
        "deepnote_cell_type": "markdown"
      },
      "block_group": "8ce7200d918c4687b1f35b26056775c1"
    },
    {
      "cell_type": "markdown",
      "source": "## Introducing Relevant File Formats\n\nThe most important formats for creating multibody scenarios in Drake are the [Unified Robot Description Format (URDF)](http://wiki.ros.org/urdf) and the [Simulation Description Format (SDFormat)](http://sdformat.org/).\n\nURDF and SDF are both XML formats that can specify the kinematic and dynamic properties of robots or objects. URDF can only specify the kinematic and dynamic properties of a single robot in isolation. It can't specify joint loops or things that are not robots, such as lights, heightmaps, etc. \n\nSDFormat is a complete description for everything from the world level down to the robot level. Being more scalable, it is the recommended format. However, they should be mostly interchangeable with small syntax differences.\n\nIn a high-level sense, you express different components of your robot using `<link>` tags and connect them via `<joint>` tags. Each `<link>` has three major subtags, `<visual>`, `<collision>`, and `<inertial>`, for its visualization, planning/collision checking, and dynamics aspects. For `<visual>` and `<collision>`, you can either use primitive shapes (box, sphere, cylinder, etc.) or tailored meshes (.obj, .gltf) to represent the underlying geometry. \n\nHere are two useful resources for [URDF](https://wiki.ros.org/urdf/Tutorials/Building%20a%20Visual%20Robot%20Model%20with%20URDF%20from%20Scratch) and [SDFormat](https://classic.gazebosim.org/tutorials?tut=build_model) creation. ([Another SDF reference](http://sdformat.org/spec))",
      "metadata": {
        "cell_id": "686b9b323b7641ce9d2efbc45eecbd2a",
        "deepnote_cell_type": "markdown"
      },
      "block_group": "79b6c537660049d282fa6b98b3edc32b"
    },
    {
      "cell_type": "markdown",
      "source": "Meshes and primitive shapes describe the geometry of an object. The supported types are described [here](https://drake.mit.edu/doxygen_cxx/group__geometry__file__formats.html). For meshes, glTF (.gltf) is the preferred format in Drake for visualization. Wavefront OBJ (.obj) is another well-supported alternative. obj files will often come with material descriptions or (.mtl) files that they reference. If you have other file formats (eg .stl, .dae), [Meshlab](https://www.meshlab.net/), an open-source software, is a handy tool to convert common formats to a .obj. \n\nA note about meshes. Support for meshes as collision geometry is limited as documented [here](https://drake.mit.edu/doxygen_cxx/group__geometry__file__formats.html). In certain cases--point contact, compliant hydroelastic contact, checking collision candidates, signed distance queries--the mesh will be represented by its [convex hull](https://en.wikipedia.org/wiki/Convex_hull) instead. You can convert meshes into sdf's using [manipulation/create_sdf_from_mesh.py](https://github.com/RussTedrake/manipulation/blob/master/manipulation/create_sdf_from_mesh.py), which additionally supports convex decomposition of a nonconvex mesh and mesh simplification.\n",
      "metadata": {
        "cell_id": "65373473f82d4c9d926589c1ea6936ff",
        "deepnote_cell_type": "markdown"
      },
      "block_group": "4ac91917d3b1430ea587886a2e07a1cb"
    },
    {
      "cell_type": "markdown",
      "source": "### Written Question (4 points)\nCompare and contrast two SDF files of the same YCB sugar box: [File 1](https://github.com/RobotLocomotion/drake/blob/8ed3a0264c521ffc1ea8861f5701b81dfb696af8/manipulation/models/ycb/sdf/004_sugar_box.sdf) and [File 2](https://github.com/RussTedrake/manipulation/blob/24f122591f72cc78931ea3f461d0c34845dc9aca/manipulation/models/hydro/004_sugar_box.sdf). File 2 uses hydroelastic contact, and file 1 uses the default point contact model.\n\n[Hydroelastic contact](https://drake.mit.edu/doxygen_cxx/group__hydroelastic__user__guide.html) in Drake can be used to create compliant collision geometries. This is a great tool for improving the contact dynamics between simulated objects, compared to traditional rigid contact geometries.\n\nAnswer the following questions in your written submission.\n\n**Part (a):**  How is the collision geometry and or contact models different in File 1 than File 2? What benefit do we have from having different collision geometries in both of these versions of the sugar box? (Hint: Which file has hydroelastic contact? You can also look through Chapter 5 specfically [5.2.2-5.2.4](https://manipulation.csail.mit.edu/clutter.html#section2) or read through [this blog post](https://medium.com/toyotaresearch/rethinking-contact-simulation-for-robot-manipulation-434a56b5ec88))\n\n**Part (b):**  In both files, we use the sugar box obj mesh as the visual geometry. For File 2, we could have used the obj mesh as the collision geometry too. why might we prefer to specify the collision geometry using primitives, rather than using the obj mesh?",
      "metadata": {
        "cell_id": "1fa51a4064b74446bdf22b7522782571",
        "deepnote_cell_type": "markdown"
      },
      "block_group": "4418d37d66574f83b74eb3826237f136"
    },
    {
      "cell_type": "markdown",
      "source": "### Loading and Viewing Models\n\nDrake has some pre-existing models which can be found in the [drake_models repo](https://github.com/RobotLocomotion/models) and in the [manipulation models](https://github.com/RussTedrake/manipulation/tree/master/manipulation/models). You might find some of these useful for your final project!\n\nTypically to add a model to a MultibodyPlant, you will access its [Parser](https://drake.mit.edu/pydrake/pydrake.multibody.parsing.html#pydrake.multibody.parsing.Parser) object ([C++ documentation](https://drake.mit.edu/doxygen_cxx/classdrake_1_1multibody_1_1_parser.html)). \n\nDrake provides a `ModelVisualizer` class to visualize models interactively. This will help as we start to produce our own robot description files, or port description files over from another simulator. In the next few cells, we will go over different ways to add simulated objects or models to your simulation. \n\nFirst let's start by adding an existing Drake model--a KUKA iiwa arm you've already seen in class. Under the `Scene > drake` dropdown in MeshCat, you can enable viewing 'illustration', 'inertia', and 'proximity' to see the visual model, inertia matrix, and collision model, respectively. You can also adjust the poses of the links and values of the joints in the sliders. Get familiar playing around with it. ",
      "metadata": {
        "cell_id": "f4fd9f23e9e142b7952d413d3f9b1f15",
        "deepnote_cell_type": "markdown"
      },
      "block_group": "0ac50258f9f6482e82be61ea7c54085d"
    },
    {
      "cell_type": "code",
      "source": "visualizer = ModelVisualizer(meshcat=meshcat)\nvisualizer.parser().AddModels(\n    url=\"package://drake_models/iiwa_description/sdf/iiwa7_with_box_collision.sdf\"\n)\nvisualizer.Run()",
      "metadata": {
        "cell_id": "e2a76ac86b0043e0ad39bf34159ea3fd",
        "deepnote_cell_type": "code"
      },
      "outputs": [],
      "outputs_reference": null,
      "execution_count": null,
      "block_group": "23a0efc58bd94ca18721b1ee4a6b285d",
      "content_dependencies": null
    },
    {
      "cell_type": "markdown",
      "source": "If there are no existing Drake models that work for you, you can also create your own models or find them on the internet. We define a table top in a string below and then save it to a file. Try editing parts of it to see how the object changes.",
      "metadata": {
        "cell_id": "482115b953914d2bb7f85794da327e02",
        "deepnote_cell_type": "markdown"
      },
      "block_group": "ae6afc20f153456f87f28682b210de5d"
    },
    {
      "cell_type": "code",
      "source": "# Create a table top SDFormat model.\ntable_top_sdf_path = \"table_top.sdf\"\ntable_top_sdf = \"\"\"<?xml version=\"1.0\"?>\n<sdf version=\"1.7\">\n\n  <model name=\"table_top\">\n  <link name=\"table_top_link\">\n    <inertial>\n      <mass>18.70</mass>\n      <pose>0.0 0.0 0.445 0 0 0</pose>\n      <inertia>\n          <ixx>0.619</ixx>\n          <ixy>0</ixy>\n          <ixz>0</ixz>\n          <iyy>0.374</iyy>\n          <iyz>0</iyz>\n          <izz>0.99</izz>\n      </inertia>\n    </inertial>\n    <visual name=\"bottom\">\n      <pose>0.0 0.0 0.445 0 0 0</pose>\n      <geometry>\n        <box>\n          <size>0.49 0.63 0.015</size>\n        </box>\n      </geometry>\n      <material>\n        <diffuse>0.9 0.9 0.9 1.0</diffuse>\n      </material>\n    </visual>\n    <collision name=\"bottom\">\n      <pose>0.0 0.0 0.445 0 0 0</pose>\n      <geometry>\n        <box>\n          <size>0.49 0.63 0.015</size>\n        </box>\n      </geometry>\n      <drake:proximity_properties>\n        <drake:compliant_hydroelastic/>\n        <drake:hydroelastic_modulus>1.0e6</drake:hydroelastic_modulus>\n      </drake:proximity_properties>\n    </collision>\n  </link>\n  <frame name=\"table_top_center\">\n    <pose relative_to=\"table_top_link\">0 0 0.47 0 0 0</pose>\n  </frame>\n</model>\n\n</sdf>\n\n\"\"\"\n\nwith open(table_top_sdf_path, \"w\") as f:\n    f.write(table_top_sdf)",
      "metadata": {
        "cell_id": "40bcbf455bc44683a15609d20d0bd507",
        "deepnote_cell_type": "code"
      },
      "outputs": [],
      "outputs_reference": null,
      "execution_count": null,
      "block_group": "f00d5235f94d466284e8846465d6e0bc",
      "content_dependencies": null
    },
    {
      "cell_type": "code",
      "source": "# You can parse a string directly OR\n# You can load a saved SDF file using AddModels\nvisualizer = ModelVisualizer(meshcat=meshcat)\nvisualizer.parser().AddModels(table_top_sdf_path)\n# visualizer.parser().AddModelsFromString(table_top_sdf_path)\nvisualizer.Run()",
      "metadata": {
        "cell_id": "6d54710b234a43f68fc3e6e4227e4229",
        "deepnote_cell_type": "code"
      },
      "outputs": [],
      "outputs_reference": null,
      "execution_count": null,
      "block_group": "c3aa4888186c4bafb1124d1b34bdcbec",
      "content_dependencies": null
    },
    {
      "cell_type": "markdown",
      "source": "This will create a file in your current directory. It may be a good idea to create an assets folder and put all of your model files in there. If you are collaborating across local machines, one can imagine that using paths to files might get a little unwieldy. In this case, it is a good idea to make your project into a custom xml package--allowing for better referencing of your model files! \n\nIn the cell bellow, we define and save a `package.xml` in the current directory that identifies it as a package with the name `dummy_project`. As long as you register this package with the [Parser's package map](https://drake.mit.edu/doxygen_cxx/classdrake_1_1multibody_1_1_package_map.html), you can then call any files within that package using a url the same way we call existing drake models.",
      "metadata": {
        "cell_id": "fe4b792fd1f2490daf8e4c3455f4c130",
        "deepnote_cell_type": "markdown"
      },
      "block_group": "013c2c44b4a94ecb9dc5f540a154f45c"
    },
    {
      "cell_type": "code",
      "source": "pkg_xml = \"\"\"<?xml version=\"1.0\"?>\n<package format=\"2\">\n  <name>dummy_project</name>\n  <version>0.0.0</version>\n  <description>\n    dummy project?\n  </description>\n  <maintainer email=\"manipulation-student@mit.edu\">IIWA</maintainer>\n  <author>IIWA</author>\n  <license>N/A</license>\n</package>\n\"\"\"\n\nwith open(\"package.xml\", \"w\") as f:\n    f.write(pkg_xml)\n\nvisualizer = ModelVisualizer(meshcat=meshcat)\nvisualizer.parser().package_map().PopulateFromFolder(os.getcwd())\nvisualizer.parser().AddModels(url=\"package://dummy_project/table_top.sdf\")\nvisualizer.Run()",
      "metadata": {
        "cell_id": "e8ec9df8345f47498e9a478615edb5ae",
        "deepnote_cell_type": "code"
      },
      "outputs": [],
      "outputs_reference": null,
      "execution_count": null,
      "block_group": "ef41edf187e24ac1a748c2ba60de6b55",
      "content_dependencies": null
    },
    {
      "cell_type": "markdown",
      "source": "For simpler objects and projects, sometimes it can be quicker to create your own model from scratch in a string or a new file as above. However, you can also find some 3D models online. Model files can be in any of the formats supported by the [Parser](https://drake.mit.edu/doxygen_cxx/classdrake_1_1multibody_1_1_parser.html), though SDF is recommended. Places you can find these models:\n\n- [Drake examples](https://github.com/RobotLocomotion/drake/tree/master/examples)\n\n- Object databases curated for robotics such as YCB. Some are already in drake_models [here](https://github.com/RobotLocomotion/models/tree/master/ycb)!\n\n- [Rubik's Cube](https://deepnote.com/workspace/Manipulation-ac8201a1-470a-4c77-afd0-2cc45bc229ff/project/02-Lets-get-you-a-robot-8f86172b-b597-4ceb-9bad-92d11ac7a6cc/notebook/rubiks_cube-35164353b13d4a47910ca14e588c74d6?)\n\n- It is also worth checking [final projects](https://manipulation.csail.mit.edu/misc.html#projects) that had objects you'd like to use, see if their code is open source or ask!\n\n- [TurboSquid](https://www.turbosquid.com/3d-model/free): will often need converting to an .obj file. The .obj file can then be directly turned into a SDF file by using the below terminal command, documented [here](https://drake.mit.edu/pydrake/pydrake.multibody.mesh_to_model.html). On Deepnote, you can open a terminal on the left bar and run the command after you have uploaded your .obj file. \n```sh\npython3 -m pydrake.multibody.mesh_to_model --scale=1.0 path/to/mesh.obj\n```",
      "metadata": {
        "cell_id": "6c02ff660dc84535be9dacea99c64af4",
        "deepnote_cell_type": "markdown"
      },
      "block_group": "4d8b38dfd1b94d75ad67bd289b59ebc0"
    },
    {
      "cell_type": "markdown",
      "source": "## Creating a Simulation\n\nSo far we've gone over how to create and examine individual objects. A useful scene will usually have multiple bodies within it. You can put each one in its own model file and load them in one by one to the plant as in the function below. \n\nWe weld the table top to the world frame and set the poses for each free body so they fall onto the table when the simulation starts. Note that we are recording the scene, so you can replay the scenario using the control panel!",
      "metadata": {
        "cell_id": "27775ef20c884922bb7ecc8cdd1a34cf",
        "deepnote_cell_type": "markdown"
      },
      "block_group": "c5b7a28203b24835a2042845f207e446"
    },
    {
      "cell_type": "code",
      "source": "def create_scene(sim_time_step):\n    # Clean up the Meshcat instance.\n    meshcat.Delete()\n    meshcat.DeleteAddedControls()\n\n    builder = DiagramBuilder()\n    plant, scene_graph = AddMultibodyPlantSceneGraph(builder, time_step=sim_time_step)\n    parser = Parser(plant)\n    ConfigureParser(parser)\n\n    # Load the table top we created.\n    parser.AddModels(table_top_sdf_path)\n\n    # Load a cracker box from Drake.\n    parser.AddModels(url=\"package://drake_models/ycb/003_cracker_box.sdf\")\n\n    # Load a sugar box\n    parser.AddModels(url=\"package://manipulation/hydro/004_sugar_box.sdf\")\n\n    # Weld the table to the world so that it's fixed during the simulation.\n    table_frame = plant.GetFrameByName(\"table_top_center\")\n    plant.WeldFrames(plant.world_frame(), table_frame)\n\n    # Finalize the plant after loading the scene.\n    plant.Finalize()\n\n    # We use the default context to calculate the transformation of the table\n    # in world frame but this is NOT the context the Diagram consumes.\n    plant_context = plant.CreateDefaultContext()\n\n    # Set the initial pose for the free body i,e, the cracker box\n    cracker_box = plant.GetBodyByName(\"base_link_cracker\")\n    X_WorldTable = table_frame.CalcPoseInWorld(plant_context)\n    X_TableCracker = RigidTransform(\n        RollPitchYaw(np.asarray([45, 30, 0]) * np.pi / 180), p=[0, 0, 0.8]\n    )\n    X_WorldCracker = X_WorldTable.multiply(X_TableCracker)\n    plant.SetDefaultFreeBodyPose(cracker_box, X_WorldCracker)\n\n    sugar_box = plant.GetBodyByName(\"base_link_sugar\")\n    X_TableSugar = RigidTransform(p=[0, -0.25, 0.8])\n    X_WorldSugar = X_WorldTable.multiply(X_TableSugar)\n    plant.SetDefaultFreeBodyPose(sugar_box, X_WorldSugar)\n\n    # Add visualization to see the geometries.\n    AddDefaultVisualization(builder=builder, meshcat=meshcat)\n\n    diagram = builder.Build()\n    return diagram\n\n\ndef run_simulation(sim_time_step):\n    diagram = create_scene(sim_time_step)\n    simulator = Simulator(diagram)\n    meshcat.StartRecording()\n    simulator.AdvanceTo(2.0)\n    meshcat.PublishRecording()\n\n\nrun_simulation(0.001)",
      "metadata": {
        "cell_id": "eedd6b467c324d17b4415f29cac96243",
        "deepnote_cell_type": "code"
      },
      "outputs": [],
      "outputs_reference": null,
      "execution_count": null,
      "block_group": "a6752e93ff274a2ea3aa411fd9d34774",
      "content_dependencies": null
    },
    {
      "cell_type": "markdown",
      "source": "Alternatively, you can define a [Model Directives](https://github.com/RobotLocomotion/drake/blob/master/multibody/parsing/README_model_directives.md) file. This is a YAML file that defines all your objects in the simulation and weld frames as needed to describe relative poses of your objects. In the code cell below, we define a model directive that does the same as the cell above and loads it into the plant using `LoadModelDirectivesFromString` and `ProcessModelDirectives`[(docs)](https://drake.mit.edu/doxygen_cxx/process__model__directives_8h.html). While not necessary here, it is a common final project setup to use scenarios and HardwareStation.",
      "metadata": {
        "cell_id": "7ecbbd6c5117478e91172fc582445105",
        "deepnote_cell_type": "markdown"
      },
      "block_group": "b91acb78c6e344e8b1d074c71da6db60"
    },
    {
      "cell_type": "code",
      "source": "# NOTE: I use a file here to avail you of the fact that you can do this\n# It is preferable to use the dummy project package we created earlier\n# to reference the table_top because using explicit files will need absolute paths.\nmodel_directive = f\"\"\"\n    directives:\n    - add_model:\n        name: table_top\n        file: file://{os.getcwd()}/table_top.sdf\n    - add_weld:\n        parent: world\n        child: table_top::table_top_center\n    - add_model:\n        name: cracker_box\n        file: package://drake_models/ycb/003_cracker_box.sdf\n        default_free_body_pose:\n            base_link_cracker:\n                translation: [0,0,0.8]\n                rotation: !Rpy {{ deg: [42, 33, 18] }}    \n    - add_model:\n        name: sugar_box\n        file: package://manipulation/hydro/004_sugar_box.sdf\n        default_free_body_pose:\n            base_link_sugar:\n                translation: [0,-0.25,0.8]\n    \"\"\"\n\n\ndef create_scene_directives(model_directive, sim_time_step=0.001):\n    meshcat.Delete()\n    builder = DiagramBuilder()\n    plant, scene_graph = AddMultibodyPlantSceneGraph(builder, time_step=sim_time_step)\n    parser = Parser(plant)\n    ConfigureParser(parser)\n    parser.package_map().Add(\"dummy_project\", os.path.abspath(\"\"))\n\n    directives = LoadModelDirectivesFromString(model_directive)\n    models = ProcessModelDirectives(directives, plant, parser)\n    plant.Finalize()\n\n    AddDefaultVisualization(builder=builder, meshcat=meshcat)\n\n    diagram = builder.Build()\n    return diagram\n\n\ndef run_simulation(sim_time_step):\n    diagram = create_scene_directives(model_directive, sim_time_step)\n    simulator = Simulator(diagram)\n    meshcat.StartRecording()\n    simulator.AdvanceTo(2.0)\n    meshcat.PublishRecording()\n\n\nrun_simulation(0.001)",
      "metadata": {
        "cell_id": "9d308b61cc664684b4dcd3061896f80c",
        "deepnote_cell_type": "code"
      },
      "outputs": [],
      "outputs_reference": null,
      "execution_count": null,
      "block_group": "dc480da53d3b4d41af66835f09fb1343",
      "content_dependencies": null
    },
    {
      "cell_type": "markdown",
      "source": "Using the same YAML you can also create a manipulation scenario to eventually use as a `HardwareStation`. This gives you more tools to work with manipulation setups and have a common project base as most of our questions and examples from the course etc. Using a scenario you can also define the timestep and what kind of contact model you want for your scene (set using the directives file or the [`scenario.plant_config.contact_model`](https://drake.mit.edu/doxygen_cxx/structdrake_1_1multibody_1_1_multibody_plant_config.html)).",
      "metadata": {
        "cell_id": "f0dd93fba83841818bf180dc320105c7",
        "deepnote_cell_type": "markdown"
      },
      "block_group": "72b5bf5f5a5945afa6e68e69354d37d7"
    },
    {
      "cell_type": "code",
      "source": "# Note that we are using a different sugar box here, which has a hydroelastic contact model defined\nmodel_directive = f\"\"\"\n    directives:\n    - add_model:\n        name: table_top\n        file: package://dummy_project/table_top.sdf\n    - add_weld:\n        parent: world\n        child: table_top::table_top_center\n    - add_model:\n        name: cracker_box\n        file: package://drake_models/ycb/003_cracker_box.sdf\n        default_free_body_pose:\n            base_link_cracker:\n                translation: [0,0,0.8]\n                rotation: !Rpy {{ deg: [42, 33, 18] }}    \n    - add_model:\n        name: sugar_box\n        file: package://manipulation/hydro/004_sugar_box.sdf\n        default_free_body_pose:\n            base_link_sugar:\n                translation: [0,-0.25,0.8]\n                \n\n    plant_config:\n        time_step: 1e-3\n        contact_model: \"point\"\n        discrete_contact_approximation: \"sap\"\n    \"\"\"\n\n\n# try changing the directives string above to have hydroelastic contact properties!\ndef preview_scene_given_directives(model_directive):\n    meshcat.Delete()\n    scenario = LoadScenario(data=model_directive)\n    station = MakeHardwareStation(\n        scenario, meshcat, package_xmls=[os.getcwd() + \"/package.xml\"]\n    )\n\n    simulator = Simulator(station)\n    meshcat.StartRecording()\n    simulator.AdvanceTo(2.0 if running_as_notebook else 0.1)\n    meshcat.PublishRecording()\n\n\npreview_scene_given_directives(model_directive)",
      "metadata": {
        "cell_id": "8b1e84eb8d61429fbeb0f4a0e5d4869f",
        "deepnote_cell_type": "code"
      },
      "outputs": [],
      "outputs_reference": null,
      "execution_count": null,
      "block_group": "eab8308e49d34a72ba0547ea64f0ac41",
      "content_dependencies": null
    },
    {
      "cell_type": "markdown",
      "source": "## Create your own Simulation Setup (4 points)\n\nNow, you will create a simulation setup of your choosing into simulation. At minimum, this would include a manipulator (robot arm) and an object it might interact with. You have a lot of freedom here. Feel free to lean on examples we used earlier in this notebook! Ideally, this scene starts you off for your intended final project. \n\nWe will require 3 non-robot objects and at least one thing in your simulation set-up cannot be directly taken from the existing models in Drake without modification. There is one point for each object, and one for the robot itself.",
      "metadata": {
        "cell_id": "d09521797c954602a33e63fa0f91ef88",
        "deepnote_cell_type": "markdown"
      },
      "block_group": "79975002652d478c98ba25feaada4576"
    },
    {
      "cell_type": "code",
      "source": "!cat manipulation/project/Object/environment_setup.yaml",
      "metadata": {
        "source_hash": "f1485b5a",
        "execution_start": 1729533872511,
        "execution_millis": 344,
        "execution_context_id": "067c3e40-4c39-4d90-9e13-fe362d0c9a7c",
        "cell_id": "e353311f39bd4e74ac6ed9849d36e5f0",
        "deepnote_cell_type": "code"
      },
      "outputs": [],
      "outputs_reference": null,
      "execution_count": 7,
      "block_group": "4590068ff9f54c1f91f5476cc3392e5a",
      "content_dependencies": null
    },
    {
      "cell_type": "code",
      "source": "# A rough sketch of TODOs to get you started:\n\n# 1. Create or save an object in a file path/string/package url.\n#       (Visualizing your model to test it first might be helpful)\n\n\n\n# 2. Add your objects to a plant/diagram\n# 3. Run a simulator object on this diagram\n# try changing the directives string above to have hydroelastic contact properties!\n\n\nscene = open(\"/work/manipulation/project/Object/environment_setup.yaml\")\n\ndef preview_scene_given_directives(model_directive):\n    meshcat.Delete()\n    scenario = LoadScenario(data=model_directive)\n    station = MakeHardwareStation(\n        scenario, meshcat, package_xmls=[os.getcwd() + \"/package.xml\"]\n    )\n\n    simulator = Simulator(station)\n    meshcat.StartRecording()\n    simulator.AdvanceTo(2.0 if running_as_notebook else 0.1)\n    meshcat.PublishRecording()\n\n\npreview_scene_given_directives(scene)",
      "metadata": {
        "source_hash": "48c91859",
        "execution_start": 1729533866014,
        "execution_millis": 105,
        "execution_context_id": "067c3e40-4c39-4d90-9e13-fe362d0c9a7c",
        "cell_id": "d6877e629b3f465591f586bfd1e14d20",
        "deepnote_cell_type": "code"
      },
      "outputs": [],
      "outputs_reference": null,
      "execution_count": 6,
      "block_group": "ca781dd7983a4be2b99e75458cd35d26",
      "content_dependencies": null
    },
    {
      "cell_type": "markdown",
      "source": "**Part (c):** In your written submission, briefly describe what the object(s) in your scene are and your process of creating/obtaining them. Take a screenshot of your simulation scene. Your screenshot should include **red contact force arrows** and not green contact force arrows, which indicate that you are using **hydroelastic contact**. ",
      "metadata": {
        "cell_id": "747d465e435f45a88c4bade357a726b0",
        "deepnote_cell_type": "markdown"
      },
      "block_group": "718be724440442abba958809d75d5b8b"
    },
    {
      "cell_type": "markdown",
      "source": "## How will this notebook be Graded?\n\nIf you are enrolled in the class, this notebook will be graded using [Gradescope](www.gradescope.com). You should have gotten the enrollement code on our announcement in Piazza. \n\nThis notebook only consists of written questions, so please submit all responses in your PDF submission to Gradescope. For this exercise, you should have completed the following subparts:\n- [2 pts] Correct answers to part (a)\n- [2 pts] Correct answers to part (b)\n- [4 pts] A screenshot and description for part (c)",
      "metadata": {
        "cell_id": "662d6f6b9a1749c2a528a340ed038c39",
        "deepnote_cell_type": "markdown"
      },
      "block_group": "76da294d8f324f88b51a575d0fad9dda"
    },
    {
      "cell_type": "markdown",
      "source": "<a style='text-decoration:none;line-height:16px;display:flex;color:#5B5B62;padding:10px;justify-content:end;' href='https://deepnote.com?utm_source=created-in-deepnote-cell&projectId=92fbdad2-a4a9-4ef8-b493-c307060b34a1' target=\"_blank\">\n<img alt='Created in deepnote.com' style='display:inline;max-height:16px;margin:0px;margin-right:7.5px;' src='data:image/svg+xml;base64,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' > </img>\nCreated in <span style='font-weight:600;margin-left:4px;'>Deepnote</span></a>",
      "metadata": {
        "created_in_deepnote_cell": true,
        "deepnote_cell_type": "markdown"
      }
    }
  ],
  "nbformat": 4,
  "nbformat_minor": 0,
  "metadata": {
    "deepnote_notebook_id": "05c5775eb86147e09ef33048c7954dd7",
    "deepnote_execution_queue": []
  }
}