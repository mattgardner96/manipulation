{
 "cells": [
  {
   "cell_type": "markdown",
   "metadata": {
    "cell_id": "bd9ccc445c894284a17b6001c6df060d",
    "deepnote_cell_type": "markdown"
   },
   "source": [
    "## **Simulation Set-Up**"
   ]
  },
  {
   "cell_type": "code",
   "execution_count": 1,
   "metadata": {
    "cell_id": "f2aebfe5444b4f88bb29bc8576c31ed8",
    "deepnote_cell_type": "code",
    "execution_context_id": "94d6bf79-8504-415a-84ed-801017606324",
    "execution_millis": 294,
    "execution_start": 1731305848055,
    "source_hash": "7cd8485d"
   },
   "outputs": [],
   "source": [
    "import os\n",
    "\n",
    "import numpy as np\n",
    "from pydrake.all import (\n",
    "    AddDefaultVisualization,\n",
    "    AddMultibodyPlantSceneGraph,\n",
    "    DiagramBuilder,\n",
    "    LoadModelDirectives,\n",
    "    LoadModelDirectivesFromString,\n",
    "    Parser,\n",
    "    ProcessModelDirectives,\n",
    "    RigidTransform,\n",
    "    RollPitchYaw,\n",
    "    Simulator,\n",
    "    StartMeshcat,\n",
    ")\n",
    "from pydrake.common import temp_directory\n",
    "from pydrake.geometry import StartMeshcat\n",
    "from pydrake.systems.analysis import Simulator\n",
    "from pydrake.visualization import ModelVisualizer\n",
    "\n",
    "from manipulation import running_as_notebook\n",
    "from manipulation.station import LoadScenario, MakeHardwareStation\n",
    "from manipulation.utils import ConfigureParser"
   ]
  },
  {
   "cell_type": "code",
   "execution_count": 2,
   "metadata": {
    "cell_id": "e5ebebd0a41048658f68961a1e8939c7",
    "deepnote_cell_type": "code",
    "execution_context_id": "94d6bf79-8504-415a-84ed-801017606324",
    "execution_millis": 0,
    "execution_start": 1731305848395,
    "source_hash": "450eddfc"
   },
   "outputs": [],
   "source": [
    "# Start the visualizer. The cell will output an HTTP link after the execution.\n",
    "# Click the link and a MeshCat tab should appear in your browser.\n",
    "meshcat = StartMeshcat()"
   ]
  },
  {
   "cell_type": "markdown",
   "metadata": {
    "cell_id": "5b76ec3202c84e01a08df2b8a3852285",
    "deepnote_cell_type": "markdown"
   },
   "source": [
    "# Useful links mentionned \n",
    "\n",
    "A great resource is [Authoring a Multibody Simulation tutorial](https://deepnote.com/workspace/Drake-0b3b2c53-a7ad-441b-80f8-bf8350752305/project/Tutorials-2b4fc509-aef2-417d-a40d-6071dfed9199/notebook/authoring_multibody_simulation-add293478aac40a984845aa3705eefdd?). Parts of this notebook were taken from it.\n",
    "\n",
    "Here are two useful resources for [URDF](https://wiki.ros.org/urdf/Tutorials/Building%20a%20Visual%20Robot%20Model%20with%20URDF%20from%20Scratch) and [SDFormat](https://classic.gazebosim.org/tutorials?tut=build_model) creation. ([Another SDF reference](http://sdformat.org/spec))\n",
    "\n",
    "Meshlab](https://www.meshlab.net/), an open-source software, is a handy tool to convert common formats to a .obj. \n",
    "\n",
    "A note about meshes. Support for meshes as collision geometry is limited as documented [here](https://drake.mit.edu/doxygen_cxx/group__geometry__file__formats.html). In certain cases--point contact, compliant hydroelastic contact, checking collision candidates, signed distance queries--the mesh will be represented by its [convex hull](https://en.wikipedia.org/wiki/Convex_hull) instead. You can convert meshes into sdf's using [manipulation/create_sdf_from_mesh.py](https://github.com/RussTedrake/manipulation/blob/master/manipulation/create_sdf_from_mesh.py), which additionally supports convex decomposition of a nonconvex mesh and mesh simplification.\n",
    "\n",
    "### Loading and Viewing Models\n",
    "\n",
    "Drake has some pre-existing models which can be found in the [drake_models repo](https://github.com/RobotLocomotion/models) and in the [manipulation models](https://github.com/RussTedrake/manipulation/tree/master/manipulation/models). You might find some of these useful for your final project!\n",
    "\n",
    "Typically to add a model to a MultibodyPlant, you will access its [Parser](https://drake.mit.edu/pydrake/pydrake.multibody.parsing.html#pydrake.multibody.parsing.Parser) object ([C++ documentation](https://drake.mit.edu/doxygen_cxx/classdrake_1_1multibody_1_1_parser.html)). \n",
    "\n",
    "Drake provides a `ModelVisualizer` class to visualize models interactively. This will help as we start to produce our own robot description files, or port description files over from another simulator. In the next few cells, we will go over different ways to add simulated objects or models to your simulation. \n"
   ]
  },
  {
   "cell_type": "markdown",
   "metadata": {
    "cell_id": "f4fd9f23e9e142b7952d413d3f9b1f15",
    "deepnote_cell_type": "markdown"
   },
   "source": []
  },
  {
   "cell_type": "markdown",
   "metadata": {
    "cell_id": "6c02ff660dc84535be9dacea99c64af4",
    "deepnote_cell_type": "markdown"
   },
   "source": [
    "For simpler objects and projects, sometimes it can be quicker to create your own model from scratch in a string or a new file as above. However, you can also find some 3D models online. Model files can be in any of the formats supported by the [Parser](https://drake.mit.edu/doxygen_cxx/classdrake_1_1multibody_1_1_parser.html), though SDF is recommended. Places you can find these models:\n",
    "\n",
    "- [Drake examples](https://github.com/RobotLocomotion/drake/tree/master/examples)\n",
    "\n",
    "- Object databases curated for robotics such as YCB. Some are already in drake_models [here](https://github.com/RobotLocomotion/models/tree/master/ycb)!\n",
    "\n",
    "- [Rubik's Cube](https://deepnote.com/workspace/Manipulation-ac8201a1-470a-4c77-afd0-2cc45bc229ff/project/02-Lets-get-you-a-robot-8f86172b-b597-4ceb-9bad-92d11ac7a6cc/notebook/rubiks_cube-35164353b13d4a47910ca14e588c74d6?)\n",
    "\n",
    "- It is also worth checking [final projects](https://manipulation.csail.mit.edu/misc.html#projects) that had objects you'd like to use, see if their code is open source or ask!\n",
    "\n",
    "- [TurboSquid](https://www.turbosquid.com/3d-model/free): will often need converting to an .obj file. The .obj file can then be directly turned into a SDF file by using the below terminal command, documented [here](https://drake.mit.edu/pydrake/pydrake.multibody.mesh_to_model.html). On Deepnote, you can open a terminal on the left bar and run the command after you have uploaded your .obj file. \n",
    "```sh\n",
    "python3 -m pydrake.multibody.mesh_to_model --scale=1.0 path/to/mesh.obj\n",
    "```"
   ]
  },
  {
   "cell_type": "markdown",
   "metadata": {
    "cell_id": "27775ef20c884922bb7ecc8cdd1a34cf",
    "deepnote_cell_type": "markdown"
   },
   "source": [
    "## Creating a Simulation\n",
    "\n",
    "So far we've gone over how to create and examine individual objects. A useful scene will usually have multiple bodies within it. You can put each one in its own model file and load them in one by one to the plant as in the function below. \n",
    "\n",
    "We weld the table top to the world frame and set the poses for each free body so they fall onto the table when the simulation starts. Note that we are recording the scene, so you can replay the scenario using the control panel!"
   ]
  },
  {
   "cell_type": "markdown",
   "metadata": {
    "cell_id": "7ecbbd6c5117478e91172fc582445105",
    "deepnote_cell_type": "markdown"
   },
   "source": [
    "Alternatively, you can define a [Model Directives](https://github.com/RobotLocomotion/drake/blob/master/multibody/parsing/README_model_directives.md) file. This is a YAML file that defines all your objects in the simulation and weld frames as needed to describe relative poses of your objects. In the code cell below, we define a model directive that does the same as the cell above and loads it into the plant using `LoadModelDirectivesFromString` and `ProcessModelDirectives`[(docs)](https://drake.mit.edu/doxygen_cxx/process__model__directives_8h.html). While not necessary here, it is a common final project setup to use scenarios and HardwareStation."
   ]
  },
  {
   "cell_type": "code",
   "execution_count": 3,
   "metadata": {
    "cell_id": "9d308b61cc664684b4dcd3061896f80c",
    "deepnote_cell_type": "code",
    "execution_context_id": "94d6bf79-8504-415a-84ed-801017606324",
    "execution_millis": 401,
    "execution_start": 1731305848647,
    "source_hash": "75d19a97"
   },
   "outputs": [],
   "source": [
    "# NOTE: I use a file here to avail you of the fact that you can do this\n",
    "# It is preferable to use the dummy project package we created earlier\n",
    "# to reference the table_top because using explicit files will need absolute paths.\n",
    "model_directive = f\"\"\"\n",
    "    directives:\n",
    "    - add_model:\n",
    "        name: table_top\n",
    "        file: file://{os.getcwd()}/table_top.sdf\n",
    "    - add_weld:\n",
    "        parent: world\n",
    "        child: table_top::table_top_center\n",
    "    - add_model:\n",
    "        name: cracker_box\n",
    "        file: package://drake_models/ycb/003_cracker_box.sdf\n",
    "        default_free_body_pose:\n",
    "            base_link_cracker:\n",
    "                translation: [0,0,0.8]\n",
    "                rotation: !Rpy {{ deg: [42, 33, 18] }}    \n",
    "    - add_model:\n",
    "        name: sugar_box\n",
    "        file: package://manipulation/hydro/004_sugar_box.sdf\n",
    "        default_free_body_pose:\n",
    "            base_link_sugar:\n",
    "                translation: [0,-0.25,0.8]\n",
    "    \"\"\"\n",
    "\n",
    "\n",
    "def create_scene_directives(model_directive, sim_time_step=0.001):\n",
    "    meshcat.Delete()\n",
    "    builder = DiagramBuilder()\n",
    "    plant, scene_graph = AddMultibodyPlantSceneGraph(builder, time_step=sim_time_step)\n",
    "    parser = Parser(plant)\n",
    "    ConfigureParser(parser)\n",
    "    parser.package_map().Add(\"dummy_project\", os.path.abspath(\"\"))\n",
    "\n",
    "    directives = LoadModelDirectivesFromString(model_directive)\n",
    "    models = ProcessModelDirectives(directives, plant, parser)\n",
    "    plant.Finalize()\n",
    "\n",
    "    AddDefaultVisualization(builder=builder, meshcat=meshcat)\n",
    "\n",
    "    diagram = builder.Build()\n",
    "    return diagram\n",
    "\n",
    "\n",
    "def run_simulation(sim_time_step):\n",
    "    diagram = create_scene_directives(model_directive, sim_time_step)\n",
    "    simulator = Simulator(diagram)\n",
    "    meshcat.StartRecording()\n",
    "    simulator.AdvanceTo(2.0)\n",
    "    meshcat.PublishRecording()\n",
    "\n",
    "\n",
    "run_simulation(0.001)"
   ]
  },
  {
   "cell_type": "markdown",
   "metadata": {
    "cell_id": "f0dd93fba83841818bf180dc320105c7",
    "deepnote_cell_type": "markdown"
   },
   "source": [
    "Using the same YAML you can also create a manipulation scenario to eventually use as a `HardwareStation`. This gives you more tools to work with manipulation setups and have a common project base as most of our questions and examples from the course etc. Using a scenario you can also define the timestep and what kind of contact model you want for your scene (set using the directives file or the [`scenario.plant_config.contact_model`](https://drake.mit.edu/doxygen_cxx/structdrake_1_1multibody_1_1_multibody_plant_config.html))."
   ]
  },
  {
   "cell_type": "code",
   "execution_count": null,
   "metadata": {
    "cell_id": "d6877e629b3f465591f586bfd1e14d20",
    "deepnote_cell_type": "code",
    "execution_context_id": "94d6bf79-8504-415a-84ed-801017606324",
    "execution_millis": 27869,
    "execution_start": 1731305849099,
    "source_hash": "e39b531e"
   },
   "outputs": [],
   "source": [
    "# A rough sketch of TODOs to get you started:\n",
    "\n",
    "# 1. Create or save an object in a file path/string/package url.\n",
    "#       (Visualizing your model to test it first might be helpful)\n",
    "\n",
    "\n",
    "\n",
    "# 2. Add your objects to a plant/diagram\n",
    "# 3. Run a simulator object on this diagram\n",
    "# try changing the directives string above to have hydroelastic contact properties!\n",
    "\n",
    "\n",
    "scene = open(\"/work/manipulation/project/objects/environment_setup.yaml\")\n",
    "\n",
    "if os.getcwd() == \"/datasets/_deepnote_work\": \n",
    "    scene = open(\"/work/manipulation/project/objects/environment_setup.yaml\")\n",
    "    xmls = [os.getcwd() + \"/package.xml\", \"/work/manipulation/project/package.xml\"]\n",
    "else:\n",
    "    scene = open(\"objects/environment_setup.yaml\") # local setup\n",
    "    xmls = [os.getcwd() + \"/package.xml\"]\n",
    "\n",
    "\n",
    "def preview_scene_given_directives(model_directive):\n",
    "    meshcat.Delete()\n",
    "    scenario = LoadScenario(data=model_directive)\n",
    "    station = MakeHardwareStation(\n",
    "        scenario, meshcat, package_xmls=xmls\n",
    "    )\n",
    "\n",
    "    simulator = Simulator(station)\n",
    "    context = simulator.get_mutable_context()\n",
    "    x0 = station.GetOutputPort(\"mobile_iiwa.state_estimated\").Eval(context)\n",
    "    station.GetInputPort(\"mobile_iiwa.desired_state\").FixValue(context, x0)\n",
    "    meshcat.StartRecording()\n",
    "    simulator.AdvanceTo(2.0 if running_as_notebook else 0.1)\n",
    "    meshcat.PublishRecording()\n",
    "\n",
    "\n",
    "preview_scene_given_directives(scene)\n",
    "\n",
    "# hello there"
   ]
  },
  {
   "cell_type": "markdown",
   "metadata": {
    "created_in_deepnote_cell": true,
    "deepnote_cell_type": "markdown"
   },
   "source": [
    "<a style='text-decoration:none;line-height:16px;display:flex;color:#5B5B62;padding:10px;justify-content:end;' href='https://deepnote.com?utm_source=created-in-deepnote-cell&projectId=92fbdad2-a4a9-4ef8-b493-c307060b34a1' target=\"_blank\">\n",
    "<img alt='Created in deepnote.com' style='display:inline;max-height:16px;margin:0px;margin-right:7.5px;' src='data:image/svg+xml;base64,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' > </img>\n",
    "Created in <span style='font-weight:600;margin-left:4px;'>Deepnote</span></a>"
   ]
  }
 ],
 "metadata": {
  "deepnote_notebook_id": "05c5775eb86147e09ef33048c7954dd7",
  "kernelspec": {
   "display_name": ".venv",
   "language": "python",
   "name": "python3"
  },
  "language_info": {
   "name": "python",
   "version": "3.12.4"
  }
 },
 "nbformat": 4,
 "nbformat_minor": 0
}
