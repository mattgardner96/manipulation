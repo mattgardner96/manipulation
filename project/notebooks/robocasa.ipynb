{
  "cells": [
    {
      "cell_type": "markdown",
      "source": "This notebook provides examples to go along with the [textbook](http://manipulation.csail.mit.edu/robot.html).  I recommend having both windows open, side-by-side!",
      "metadata": {
        "id": "EgiF12Hf1Dhs",
        "colab_type": "text",
        "cell_id": "601692c86f9a454b97a78ca16ad1553a",
        "deepnote_cell_type": "markdown"
      },
      "block_group": "afb2a1ee8eb84ca8b16bfc4b4e1ef6e5"
    },
    {
      "cell_type": "code",
      "source": "import os\nimport urllib\nfrom pathlib import Path\nfrom zipfile import ZipFile\n\nfrom pydrake.all import ModelVisualizer, PackageMap, Simulator, StartMeshcat\nfrom tqdm.notebook import tqdm",
      "metadata": {
        "id": "eeMrMI0-1Dhu",
        "colab": {},
        "colab_type": "code",
        "lines_to_end_of_cell_marker": 2,
        "cell_id": "009bfd9c33a6424d90b6e0502735273b",
        "deepnote_cell_type": "code"
      },
      "outputs": [],
      "outputs_reference": null,
      "execution_count": null,
      "block_group": "ddf0f5fee4c447819439ce402e30fe8a",
      "content_dependencies": null
    },
    {
      "cell_type": "code",
      "source": "# Start the visualizer.\nmeshcat = StartMeshcat()",
      "metadata": {
        "cell_id": "17f029d1f93a4a09815925819162561e",
        "deepnote_cell_type": "code"
      },
      "outputs": [],
      "outputs_reference": null,
      "execution_count": null,
      "block_group": "3d9671a4883c4f54a31106f45739459b",
      "content_dependencies": null
    },
    {
      "cell_type": "code",
      "source": "def AddRobocasaRemote(package_map):\n    package_map.AddRemote(\n        package_name=\"robocasa\",\n        params=PackageMap.RemoteParams(\n            urls=[\n                f\"https://github.com/robocasa/robocasa/archive/1370b9e0f747d84fb21ed29bacefb1654865301b.zip\"\n            ],\n            sha256=(\"a7218ed369936f96b19467eee5038870b14c2b7f91a9d6108591394ed074b337\"),\n            strip_prefix=\"robocasa-1370b9e0f747d84fb21ed29bacefb1654865301b/robocasa/\",\n        ),\n    )\n\n\ndef DownloadRobocasaKitchenAssets():\n    package_map = PackageMap()\n    AddRobocasaRemote(package_map)\n    # This will force the download if it hasn't been done before.\n    robocasa_path = package_map.GetPath(\"robocasa\")\n\n    # The asset registry dictionary is copied from\n    # https://github.com/robocasa/robocasa/blob/main/robocasa/scripts/download_kitchen_assets.py\n    # with robocasa_path updated.\n    DOWNLOAD_ASSET_REGISTRY = dict(\n        fixtures=dict(\n            message=\"Downloading fixtures\",\n            url=\"https://utexas.box.com/shared/static/956d0w2ucqs7d3eors1idsohgum57nli.zip\",\n            folder=os.path.join(robocasa_path, \"models/assets/fixtures\"),\n            check_folder_exists=False,\n        ),\n    )\n\n    def show_progress(block_num, block_size, total_size):\n        if pbar.total is None:\n            pbar.total = total_size\n        pbar.update(block_size)\n\n    for name, info in DOWNLOAD_ASSET_REGISTRY.items():\n        with tqdm(unit=\"B\", unit_scale=True, miniters=1, desc=info[\"message\"]) as pbar:\n            filename, headers = urllib.request.urlretrieve(\n                info[\"url\"], reporthook=show_progress\n            )\n        folder = Path(info[\"folder\"]).parent\n        with ZipFile(filename, \"r\") as zip_ref:\n            zip_ref.extractall(path=folder)\n        os.remove(filename)\n\n\n# You'll only want to run this once.\n# TODO(russt): Update this to MaybeDownloadRobocasaKitchenAssets.\n# DownloadRobocasaKitchenAssets()",
      "metadata": {
        "cell_id": "74bca91ecc2e45119ed97ff06cec40ca",
        "deepnote_cell_type": "code"
      },
      "outputs": [],
      "outputs_reference": null,
      "execution_count": null,
      "block_group": "561bdee84a6b4c8faabf54888ea55a29",
      "content_dependencies": null
    },
    {
      "cell_type": "markdown",
      "source": "# Browse the assets\n\nFirst we'll use the ModelVisualizer to inspect the models that are available [here](https://github.com/robocasa/robocasa/tree/1370b9e0f747d84fb21ed29bacefb1654865301b/robocasa).",
      "metadata": {
        "cell_id": "e1abf9f1dcfc492d9995a76846d5ef1d",
        "deepnote_cell_type": "markdown"
      },
      "block_group": "80b39706d7df49e782894f9fa6462f78"
    },
    {
      "cell_type": "code",
      "source": "visualizer = ModelVisualizer(meshcat=meshcat)\nAddRobocasaRemote(visualizer.parser().package_map())\nvisualizer.AddModels(\n    url=\"package://robocasa/models/assets/fixtures/accessories/knife_blocks/dark_wood/model.xml\"\n)\nvisualizer.Run(loop_once=True)\nmeshcat.DeleteAddedControls()",
      "metadata": {
        "id": "5SjOClhTltPk",
        "colab": {},
        "colab_type": "code",
        "cell_id": "8399dfe5d39c486cb1eaa3b1205b27bd",
        "deepnote_cell_type": "code"
      },
      "outputs": [],
      "outputs_reference": null,
      "execution_count": null,
      "block_group": "e7a98d5c8aa64aef883dc814c13e32ff",
      "content_dependencies": null
    },
    {
      "cell_type": "code",
      "source": "",
      "metadata": {
        "cell_id": "20a4fa89a1804a09b924048b020cb76e",
        "deepnote_cell_type": "code"
      },
      "outputs": [],
      "outputs_reference": null,
      "execution_count": null,
      "block_group": "811f04b603534d40ab403c084fc754a5",
      "content_dependencies": null
    },
    {
      "cell_type": "markdown",
      "source": "<a style='text-decoration:none;line-height:16px;display:flex;color:#5B5B62;padding:10px;justify-content:end;' href='https://deepnote.com?utm_source=created-in-deepnote-cell&projectId=92fbdad2-a4a9-4ef8-b493-c307060b34a1' target=\"_blank\">\n<img alt='Created in deepnote.com' style='display:inline;max-height:16px;margin:0px;margin-right:7.5px;' src='data:image/svg+xml;base64,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' > </img>\nCreated in <span style='font-weight:600;margin-left:4px;'>Deepnote</span></a>",
      "metadata": {
        "created_in_deepnote_cell": true,
        "deepnote_cell_type": "markdown"
      }
    }
  ],
  "nbformat": 4,
  "nbformat_minor": 0,
  "metadata": {
    "deepnote_notebook_id": "06d47988a9dc42ac9c421bae1ae58f23",
    "deepnote_execution_queue": []
  }
}