{
  "cells": [
    {
      "cell_type": "markdown",
      "source": "## **Simulation Set-Up**",
      "metadata": {
        "cell_id": "b9009cb2fcf34bf0bdf737447e9d7d94",
        "deepnote_cell_type": "markdown"
      },
      "block_group": "09b181ad5c414248bab8a5386364cca0"
    },
    {
      "cell_type": "code",
      "source": "import os\nimport importlib\nimport sys\n\nimport numpy as np\nfrom pydrake.all import (\n    AddDefaultVisualization,\n    AddMultibodyPlantSceneGraph,\n    DiagramBuilder,\n    LoadModelDirectives,\n    LoadModelDirectivesFromString,\n    Parser,\n    ProcessModelDirectives,\n    RigidTransform,\n    RollPitchYaw,\n    Simulator,\n    StartMeshcat,\n    LeafSystem,\n    ConstantVectorSource\n)\nfrom IPython.display import display, SVG\nimport pydot\nimport matplotlib.pyplot as plt\nfrom pydrake.common import temp_directory\nfrom pydrake.geometry import StartMeshcat\nfrom pydrake.systems.analysis import Simulator\nfrom pydrake.systems.controllers import JointStiffnessController\nfrom pydrake.visualization import ModelVisualizer\n\nfrom manipulation import running_as_notebook\nfrom manipulation.station import LoadScenario, MakeHardwareStation\nfrom manipulation.utils import ConfigureParser\nfrom manipulation.systems import AddIiwaDifferentialIK\n\n# sys.path.append('.')\n# import env_ingredient_add\n# importlib.reload(env_ingredient_add)\nimport PizzaBot",
      "metadata": {
        "source_hash": "84e8d06a",
        "is_code_hidden": false,
        "execution_start": 1731703792664,
        "execution_millis": 414,
        "execution_context_id": "74f9f3dc-a21e-463b-8781-d1a517824a0b",
        "deepnote_app_is_code_hidden": true,
        "cell_id": "fe63370a72e74dd588b2a774de53544c",
        "deepnote_cell_type": "code"
      },
      "outputs": [],
      "outputs_reference": null,
      "execution_count": 10,
      "block_group": "0fa7f122c3af42f3b62f9d8a6313f0cd",
      "content_dependencies": null
    },
    {
      "cell_type": "code",
      "source": "# Start the visualizer. The cell will output an HTTP link after the execution.\n# Click the link and a MeshCat tab should appear in your browser.\nmeshcat = StartMeshcat()",
      "metadata": {
        "source_hash": "450eddfc",
        "execution_start": 1731703182631,
        "execution_millis": 1,
        "execution_context_id": "74f9f3dc-a21e-463b-8781-d1a517824a0b",
        "cell_id": "20330de8d51b41c58e6c2a9625354904",
        "deepnote_cell_type": "code"
      },
      "outputs": [],
      "outputs_reference": null,
      "execution_count": 3,
      "block_group": "31cab578e35543b49c2121f607a591b2",
      "content_dependencies": null
    },
    {
      "cell_type": "markdown",
      "source": "# Simulation Set Up \n\nGenerating a useful simulation scene is the first step in successful manipulation projects. In this exercise, we will learn how to add the necessary objects to set-up a scene.\n\n**These are the learning goals of this exercise:**\n1. Be able to work with objects written in robot description formats such as URDFs and SDFs.\n2. Understand how to view and edit collision geometries\n3. Understand how to add objects to Drake to create a useful manipulation scene.\n\nA great resource is [Authoring a Multibody Simulation tutorial](https://deepnote.com/workspace/Drake-0b3b2c53-a7ad-441b-80f8-bf8350752305/project/Tutorials-2b4fc509-aef2-417d-a40d-6071dfed9199/notebook/authoring_multibody_simulation-add293478aac40a984845aa3705eefdd?). Parts of this notebook were taken from it.",
      "metadata": {
        "cell_id": "292d347062314edd9394d89d78d6c9f0",
        "deepnote_cell_type": "markdown"
      },
      "block_group": "af4bf56f30234db3ba2554c9a1b491ce"
    },
    {
      "cell_type": "markdown",
      "source": "## Simulated Kitchen Setup & Robot Configuration\nIn the included `objects/environment_setup.yaml` file, we instantiate all the parts of the kitchen scene.",
      "metadata": {
        "cell_id": "0654ad0fd7a54c50acdeb268ba3380bd",
        "deepnote_cell_type": "markdown"
      },
      "block_group": "ded390e8d13e4ad18e7848044329cd65"
    },
    {
      "cell_type": "code",
      "source": "class PoseTrajectorySource(LeafSystem):\n    def __init__(self, pose_trajectory):\n        LeafSystem.__init__(self)\n        self._pose_trajectory = pose_trajectory\n        self.DeclareAbstractOutputPort(\n            \"pose\", lambda: AbstractValue.Make(RigidTransform()), self.CalcPose\n        )\n\n    def CalcPose(self, context, output):\n        output.set_value(self._pose_trajectory.GetPose(context.get_time()))\n\ndef preview_scene_given_directives(model_directive):\n    meshcat.Delete()\n    scenario = LoadScenario(data=model_directive)\n    station = MakeHardwareStation(\n        scenario, meshcat, package_xmls=xmls\n    )\n    simulator = Simulator(station)\n    context = simulator.get_mutable_context()\n    x0 = station.GetOutputPort(\"mobile_iiwa.state_estimated\").Eval(context)\n    station.GetInputPort(\"mobile_iiwa.desired_state\").FixValue(context, x0)\n    meshcat.StartRecording()\n    simulator.AdvanceTo(2.0 if running_as_notebook else 0.1)\n    meshcat.PublishRecording()\n\n",
      "metadata": {
        "source_hash": "dd4b0776",
        "execution_start": 1731704140423,
        "execution_millis": 0,
        "execution_context_id": "74f9f3dc-a21e-463b-8781-d1a517824a0b",
        "cell_id": "f118b25283474c13ab0c4e9b3bb8c994",
        "deepnote_cell_type": "code"
      },
      "outputs": [],
      "outputs_reference": null,
      "execution_count": 15,
      "block_group": "89e915f668da4bc0a2ac93bd3830ded2",
      "content_dependencies": null
    },
    {
      "cell_type": "code",
      "source": "if os.getcwd() == \"/datasets/_deepnote_work/manipulation/project\": \n    scene = open(\"/work/manipulation/project/objects/environment_setup.yaml\")\n    # scene = env_ingredient_add.get_environment_set_up()\n    xmls = [os.getcwd() + \"/package.xml\", \"/work/manipulation/project/package.xml\"]\nelse:\n    scene = open(\"objects/environment_setup.yaml\") # local setup\n    # scene = env_ingredient_add.get_environment_set_up()\n    xmls = [os.getcwd() + \"/package.xml\"]\n\nscenario = LoadScenario(data=scene)\nbot = PizzaBot(scenario)\nbot.print_diagram()\n# bot.run_simulation(start_time=2.0)\n\n# preview_scene_given_directives(scene)",
      "metadata": {
        "source_hash": "53e0721f",
        "execution_start": 1731704157127,
        "execution_millis": 55,
        "execution_context_id": "74f9f3dc-a21e-463b-8781-d1a517824a0b",
        "cell_id": "4186cad9f965472a8cd332f92f43a955",
        "deepnote_cell_type": "code"
      },
      "outputs": [],
      "outputs_reference": null,
      "execution_count": 17,
      "block_group": "dcc48ac29e954b4a8a054d8d1875c540",
      "content_dependencies": null
    },
    {
      "cell_type": "code",
      "source": "# bot.CreateDefaultContext()\n# bot.print_diagram()\n# bot.plant.num_positions()\n\n",
      "metadata": {
        "source_hash": "778447e1",
        "execution_start": 1731702992257,
        "execution_millis": 1,
        "execution_context_id": "03b3fdb4-4f25-4757-abc7-3747d1bf494c",
        "deepnote_to_be_reexecuted": true,
        "cell_id": "86e71cb5fd2c442dbf42f0c2a9d8f2a9",
        "deepnote_cell_type": "code"
      },
      "outputs": [],
      "outputs_reference": null,
      "execution_count": 7,
      "block_group": "7ef5c1a6ca5b4f7eaf0690cc6170cc40",
      "content_dependencies": null
    },
    {
      "cell_type": "code",
      "source": "# !pwd",
      "metadata": {
        "source_hash": "c172b7fc",
        "execution_start": 1731702575291,
        "execution_millis": 0,
        "execution_context_id": "8d3a7722-acd4-4f4f-a655-1534e274f589",
        "deepnote_to_be_reexecuted": true,
        "cell_id": "b8b141e5cefe45169d0764deed9b85be",
        "deepnote_cell_type": "code"
      },
      "outputs": [],
      "outputs_reference": null,
      "execution_count": 6,
      "block_group": "7e655cb7476d47839e30c565a0c8e8d9",
      "content_dependencies": null
    },
    {
      "cell_type": "markdown",
      "source": "<a style='text-decoration:none;line-height:16px;display:flex;color:#5B5B62;padding:10px;justify-content:end;' href='https://deepnote.com?utm_source=created-in-deepnote-cell&projectId=92fbdad2-a4a9-4ef8-b493-c307060b34a1' target=\"_blank\">\n<img alt='Created in deepnote.com' style='display:inline;max-height:16px;margin:0px;margin-right:7.5px;' src='data:image/svg+xml;base64,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' > </img>\nCreated in <span style='font-weight:600;margin-left:4px;'>Deepnote</span></a>",
      "metadata": {
        "created_in_deepnote_cell": true,
        "deepnote_cell_type": "markdown"
      }
    }
  ],
  "nbformat": 4,
  "nbformat_minor": 0,
  "metadata": {
    "deepnote_notebook_id": "0e5b2253a9714e1cb9cd80d2a7b47bc7"
  }
}