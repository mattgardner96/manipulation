{
 "cells": [
  {
   "cell_type": "code",
   "execution_count": 1,
   "metadata": {},
   "outputs": [],
   "source": [
    "import os\n",
    "import numpy as np\n",
    "import env_ingredient_add as env\n",
    "import hw\n",
    "import trajectories as traj\n",
    "from importlib import reload\n",
    "from enum import Enum\n",
    "\n",
    "def get_scene():\n",
    "    if os.getcwd() == \"/datasets/_deepnote_work/manipulation/project\": \n",
    "        #scene = open(\"/work/manipulation/project/objects/environment_setup.yaml\")\n",
    "        scene = env.get_environment_set_up(no_scene=True,include_driver=True)\n",
    "        xmls = [os.getcwd() + \"/package.xml\", \"/work/manipulation/project/package.xml\"]\n",
    "    else:\n",
    "        #scene = open(\"objects/environment_setup.yaml\") # local setup\n",
    "        scene = env.get_environment_set_up(no_scene=True,include_driver=True)\n",
    "        xmls = [os.getcwd() + \"/package.xml\"]\n",
    "\n",
    "    return scene"
   ]
  },
  {
   "cell_type": "code",
   "execution_count": 2,
   "metadata": {},
   "outputs": [
    {
     "name": "stderr",
     "output_type": "stream",
     "text": [
      "INFO:drake:Meshcat listening for connections at http://localhost:7001\n"
     ]
    }
   ],
   "source": [
    "scenario = hw.LoadScenario(data=get_scene())\n",
    "meshcat = hw.StartMeshcat()"
   ]
  },
  {
   "cell_type": "markdown",
   "metadata": {},
   "source": [
    "### trajectory 0: iiwa_painter"
   ]
  },
  {
   "cell_type": "code",
   "execution_count": 42,
   "metadata": {},
   "outputs": [],
   "source": [
    "reload(env)\n",
    "reload(traj)\n",
    "reload(hw)\n",
    "\n",
    "# at present, trajectory blank doesn't work\n",
    "diagram,sim = hw.init_diagram(meshcat,scenario)\n",
    "# hw.print_diagram(diagram)\n",
    "\n",
    "context = diagram.CreateDefaultContext()\n",
    "traj0 = hw.create_painter_trajectory(diagram,meshcat,context)\n",
    "\n",
    "meshcat.Delete()\n",
    "diagram,sim = hw.init_diagram(meshcat,scenario,traj0)\n",
    "controller = diagram.GetSubsystemByName(\"diff_ik_integrator\")\n"
   ]
  },
  {
   "cell_type": "code",
   "execution_count": 43,
   "metadata": {},
   "outputs": [],
   "source": [
    "# hw.print_diagram(diagram,output_file=\"planner.png\")"
   ]
  },
  {
   "cell_type": "code",
   "execution_count": 44,
   "metadata": {},
   "outputs": [
    {
     "name": "stderr",
     "output_type": "stream",
     "text": [
      "WARNING:drake:Differential IK started returning status:\"stuck\" at time 0.\n",
      "WARNING:drake:Differential IK started finding solutions again at time 0.097.\n",
      "WARNING:drake:Differential IK started returning status:\"stuck\" at time 0.203.\n"
     ]
    },
    {
     "name": "stdout",
     "output_type": "stream",
     "text": [
      "Current state: START\n",
      "Transitioning to PLAN_IIWA_PAINTER FSM state.\n",
      "Current state: PLAN_IIWA_PAINTER\n",
      "Transitioning to EXECUTE_IIWA_PAINTER FSM state.\n",
      "Transitioning to FINISHED FSM state.\n"
     ]
    }
   ],
   "source": [
    "hw.fix_base_pos(controller.get_parameters(), 3*[True]) # z is locked to 25 cm.\n",
    "# hw.create_painter_trajectory(diagram,meshcat)\n",
    "\n",
    "hw.run_simulation(meshcat,sim,20)"
   ]
  },
  {
   "cell_type": "markdown",
   "metadata": {},
   "source": [
    "### trajectory 1: simple move to bowl"
   ]
  },
  {
   "cell_type": "code",
   "execution_count": 73,
   "metadata": {},
   "outputs": [],
   "source": [
    "# TODO(mattg): move this into some sort of planner system that can move between states.\n",
    "\n",
    "reload(traj)\n",
    "\n",
    "diagram,sim = hw.init_diagram(meshcat,scenario)\n",
    "traj1 = traj.traj_linear_move_to_bowl_0(diagram)\n",
    "meshcat.Delete()\n",
    "\n",
    "diagram,sim = hw.init_diagram(meshcat,scenario,traj1)\n",
    "\n",
    "# problem: we're missing a way to actually pass new trajectories into the robot.\n",
    "\n",
    "# pose_source = diagram.GetSubsystemByName(\"hw.PoseTrajectorySource@00007fc3283167c0\")"
   ]
  },
  {
   "cell_type": "code",
   "execution_count": 55,
   "metadata": {},
   "outputs": [
    {
     "name": "stderr",
     "output_type": "stream",
     "text": [
      "WARNING:drake:Meshcat: An obj referenced a material library 'DWG000509' that Meshcat could not open; no materials will be included. Obj: '/Users/mattgardner/source/manipulation/project/objects/serving_shelf.obj'.\n",
      "WARNING:drake:Meshcat: An obj referenced a material library 'stainless' that Meshcat could not open; no materials will be included. Obj: '/Users/mattgardner/source/manipulation/project/objects/mixing_bowl.obj'.\n",
      "WARNING:drake:Meshcat: An obj referenced a material library 'stainless' that Meshcat could not open; no materials will be included. Obj: '/Users/mattgardner/source/manipulation/project/objects/mixing_bowl.obj'.\n",
      "WARNING:drake:Meshcat: An obj referenced a material library 'stainless' that Meshcat could not open; no materials will be included. Obj: '/Users/mattgardner/source/manipulation/project/objects/mixing_bowl.obj'.\n",
      "WARNING:drake:Differential IK started returning status:\"stuck\" at time 4.963.\n",
      "WARNING:drake:Differential IK started finding solutions again at time 5.111.\n"
     ]
    }
   ],
   "source": [
    "hw.run_simulation(meshcat,sim,20)"
   ]
  },
  {
   "cell_type": "markdown",
   "metadata": {},
   "source": [
    "## Plumbing in a State Machine (WIP)"
   ]
  },
  {
   "cell_type": "code",
   "execution_count": null,
   "metadata": {},
   "outputs": [],
   "source": []
  },
  {
   "cell_type": "markdown",
   "metadata": {},
   "source": [
    "## scratch code"
   ]
  },
  {
   "cell_type": "markdown",
   "metadata": {},
   "source": [
    "### gets the name of the robot's joints"
   ]
  },
  {
   "cell_type": "code",
   "execution_count": null,
   "metadata": {},
   "outputs": [
    {
     "name": "stdout",
     "output_type": "stream",
     "text": [
      "iiwa_base_x\n",
      "iiwa_base_y\n",
      "iiwa_base_z\n",
      "iiwa_joint_1\n",
      "iiwa_joint_2\n",
      "iiwa_joint_3\n",
      "iiwa_joint_4\n",
      "iiwa_joint_5\n",
      "iiwa_joint_6\n",
      "iiwa_joint_7\n",
      "iiwa_joint_ee\n",
      "tool0_joint\n",
      "left_finger_sliding_joint\n",
      "right_finger_sliding_joint\n",
      "iiwa_link_7_welds_to_body\n"
     ]
    }
   ],
   "source": [
    "\n",
    "# plant = diagram.GetSubsystemByName(\"station\").GetSubsystemByName(\"plant\")\n",
    "\n",
    "# for index in plant.GetJointIndices():\n",
    "#     print(plant.get_joint(index).name())"
   ]
  },
  {
   "cell_type": "code",
   "execution_count": null,
   "metadata": {},
   "outputs": [],
   "source": [
    "\n",
    "\n",
    "print(controller.get_parameters().get_joint_position_limits())\n",
    "\n",
    "print(f\"after running: {controller.get_parameters().get_joint_position_limits()}\")\n",
    "\n",
    "hw.run_simulation(meshcat,sim,10)"
   ]
  }
 ],
 "metadata": {
  "kernelspec": {
   "display_name": ".venv",
   "language": "python",
   "name": "python3"
  },
  "language_info": {
   "codemirror_mode": {
    "name": "ipython",
    "version": 3
   },
   "file_extension": ".py",
   "mimetype": "text/x-python",
   "name": "python",
   "nbconvert_exporter": "python",
   "pygments_lexer": "ipython3",
   "version": "3.12.4"
  }
 },
 "nbformat": 4,
 "nbformat_minor": 2
}
