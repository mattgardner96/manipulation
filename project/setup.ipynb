{
    "cells": [
        {
            "cell_type": "code",
            "metadata": {
                "cell_id": "a0b867675fa042b4adca6d3f57777676",
                "deepnote_cell_type": "code"
            },
            "source": "import os\nimport numpy as np\nimport env_ingredient_add as env\nimport hw\nimport trajectories as traj\nfrom importlib import reload\nfrom enum import Enum\n\ndef get_scene():\n    if os.getcwd() == \"/datasets/_deepnote_work/manipulation/project\": \n        #scene = open(\"/work/manipulation/project/objects/environment_setup.yaml\")\n        scene = env.get_environment_set_up(no_scene=True,include_driver=True)\n        xmls = [os.getcwd() + \"/package.xml\", \"/work/manipulation/project/package.xml\"]\n    else:\n        #scene = open(\"objects/environment_setup.yaml\") # local setup\n        scene = env.get_environment_set_up(no_scene=False,include_driver=True)\n        xmls = [os.getcwd() + \"/package.xml\"]\n\n    return scene",
            "block_group": "bf4dfdab55094f42b99605a1daef2227",
            "execution_count": 13,
            "outputs": [],
            "outputs_reference": null,
            "content_dependencies": null
        },
        {
            "cell_type": "code",
            "metadata": {
                "cell_id": "616570e36b48417f99519f931dcd2e23",
                "deepnote_cell_type": "code"
            },
            "source": "reload(env)\nscenario = hw.LoadScenario(data=get_scene())\nmeshcat = hw.StartMeshcat()",
            "block_group": "949d2c939ca44031bd175e761278152e",
            "execution_count": 3,
            "outputs": [
                {
                    "name": "stderr",
                    "output_type": "stream",
                    "text": "INFO:drake:Meshcat listening for connections at http://localhost:7001\n"
                }
            ],
            "outputs_reference": "dbtable:cell_outputs/5d6e5de6-1e22-4cee-a04a-377e55c86dd5",
            "content_dependencies": null
        },
        {
            "cell_type": "markdown",
            "metadata": {
                "cell_id": "f1777a493f4c4a7a81974455462252ff",
                "deepnote_cell_type": "markdown"
            },
            "source": "### trajectory 0: iiwa_painter",
            "block_group": "3f1152360ebc47ed90e183e7ae844b89"
        },
        {
            "cell_type": "code",
            "metadata": {
                "cell_id": "cd06f05d55964d9cb6e54f95919a552a",
                "deepnote_cell_type": "code"
            },
            "source": "reload(env)\nreload(traj)\nreload(hw)\n\n# at present, trajectory blank doesn't work\ndiagram,sim = hw.init_diagram(meshcat,scenario)\n# hw.print_diagram(diagram)\n\ncontext = diagram.CreateDefaultContext()\n\ncontroller = diagram.GetSubsystemByName(\"diff_ik_with_params\")\nplant = diagram.GetSubsystemByName(\"station\").GetSubsystemByName(\"plant\")\n\n# hw.print_diagram(diagram,output_file=\"planner.png\")\n\nhw.run_simulation(meshcat,sim,10)",
            "block_group": "bc91126a0c8a4c3c8dc2ba7c74d9ac74",
            "execution_count": null,
            "outputs": [],
            "outputs_reference": null,
            "content_dependencies": null
        },
        {
            "cell_type": "code",
            "metadata": {
                "cell_id": "2705ffb11ef44aff8efcd570158c1cf6",
                "deepnote_cell_type": "code"
            },
            "source": "# hw.print_diagram(diagram,output_file=\"planner.png\")",
            "block_group": "f80ea07f7ada49cc9e9e5754a1597853",
            "execution_count": 6,
            "outputs": [],
            "outputs_reference": null,
            "content_dependencies": null
        },
        {
            "cell_type": "code",
            "metadata": {
                "cell_id": "47d318443b15428f8c20b3a90ea6ef01",
                "deepnote_cell_type": "code"
            },
            "source": "# hw.fix_base_pos(controller.get_parameters(), 0*[False]+3*[True]) # z is locked to 25 cm.\n# hw.create_painter_trajectory(diagram,meshcat)\n\n",
            "block_group": "3ea2bf8c794e4054a3349e173570d908",
            "execution_count": null,
            "outputs": [],
            "outputs_reference": null,
            "content_dependencies": null
        },
        {
            "cell_type": "code",
            "metadata": {
                "cell_id": "74004c160d5f44c19570b8569d7896b2",
                "deepnote_cell_type": "code"
            },
            "source": "sim.AdvanceTo(20)\nmeshcat.PublishRecording()",
            "block_group": "0570a806e1d94ca5a7c8793396aae793",
            "execution_count": 130,
            "outputs": [],
            "outputs_reference": null,
            "content_dependencies": null
        },
        {
            "cell_type": "markdown",
            "metadata": {
                "cell_id": "ae371ae980d74d8784c0b5ba405b56b7",
                "deepnote_cell_type": "markdown"
            },
            "source": "## scratch code",
            "block_group": "e7e06c2281ca4913ad41b41bf3647c7d"
        },
        {
            "cell_type": "markdown",
            "metadata": {
                "cell_id": "c28027758c8a47b7a6e2eb16f6f36b7a",
                "deepnote_cell_type": "markdown"
            },
            "source": "### gets the name of the robot's joints",
            "block_group": "b4368b7292c2467fbbacb3d2e7469bba"
        },
        {
            "cell_type": "code",
            "metadata": {
                "cell_id": "1de4aea08bc14698b18047a5d7710f93",
                "deepnote_cell_type": "code"
            },
            "source": "\n# plant = diagram.GetSubsystemByName(\"station\").GetSubsystemByName(\"plant\")\n\n# for index in plant.GetJointIndices():\n#     print(plant.get_joint(index).name())",
            "block_group": "1c0ce756ede044a8bdb7965930048b65",
            "execution_count": null,
            "outputs": [],
            "outputs_reference": null,
            "content_dependencies": null
        },
        {
            "cell_type": "code",
            "metadata": {
                "cell_id": "a18f678953ff40689acbaef93ad8c55a",
                "deepnote_cell_type": "code"
            },
            "source": "\n\nprint(controller.get_parameters().get_joint_position_limits())\n\nprint(f\"after running: {controller.get_parameters().get_joint_position_limits()}\")\n\nhw.run_simulation(meshcat,sim,10)",
            "block_group": "72ec3bbf04ed43f89adf8b9024fed760",
            "execution_count": null,
            "outputs": [],
            "outputs_reference": null,
            "content_dependencies": null
        },
        {
            "cell_type": "markdown",
            "metadata": {
                "formattedRanges": [],
                "cell_id": "3aed9531edeb4c25859110f037689d59",
                "deepnote_cell_type": "text-cell-h1"
            },
            "source": "# Camera Stuff",
            "block_group": "c7c5a9e5c7854222984a598f90136139"
        },
        {
            "cell_type": "code",
            "metadata": {
                "cell_id": "608adf685da04e1eb7438bfe994d77a1",
                "deepnote_cell_type": "code"
            },
            "source": "import pizza_state as ps \nreload(ps)\n\n\ncameras = []\ncameras.append(ps.CameraSystem(0, meshcat, diagram, context))\n\npoint_cloud = diagram.GetOutputPort(\"table_camera_0_ptcloud\").Eval(context)\n\n#Visualize the point cloud\nps.plt.imshow(cameras[0].rgb_im)\nps.plt.title(\"View from camera 0\")\nps.plt.show()\n\n\n\n# # Example Use / How to use in State Machine\n\n#Point cloud and colors: \npoints = point_cloud.xyzs().T\ncolors = point_cloud.rgbs().T.reshape(-1, 3)/255.0\n\n#Get area of pizza\narea_of_pizza = ps.calculate_pizza_area(points, colors)\n# Print the total area\nprint(f\"Total area of pizza: {area_of_pizza}\")\n\n#Get ingredient to pizza ratio\n\nratio_tomatoes = ps.calculate_tomato_to_pizza_ratio(points, colors, area_of_pizza)\nratio_mushy = ps.calculate_mushroom_to_pizza_ratio(points, colors, area_of_pizza)\n\nprint(f\"Total area covered by the filtered points (in %): {ratio_tomatoes}\")\nprint(f\"Total area covered by the filtered points (in %): {ratio_mushy}\")",
            "block_group": "884d194f953043ed94971c9b496cc4ca",
            "execution_count": null,
            "outputs": [],
            "outputs_reference": null,
            "content_dependencies": null
        },
        {
            "cell_type": "markdown",
            "source": "<a style='text-decoration:none;line-height:16px;display:flex;color:#5B5B62;padding:10px;justify-content:end;' href='https://deepnote.com?utm_source=created-in-deepnote-cell&projectId=92fbdad2-a4a9-4ef8-b493-c307060b34a1' target=\"_blank\">\n<img alt='Created in deepnote.com' style='display:inline;max-height:16px;margin:0px;margin-right:7.5px;' src='data:image/svg+xml;base64,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' > </img>\nCreated in <span style='font-weight:600;margin-left:4px;'>Deepnote</span></a>",
            "metadata": {
                "created_in_deepnote_cell": true,
                "deepnote_cell_type": "markdown"
            }
        }
    ],
    "nbformat": 4,
    "nbformat_minor": 0,
    "metadata": {
        "deepnote_notebook_id": "69e85b7bc3fd4aca8e8bf9f735fc3663"
    }
}