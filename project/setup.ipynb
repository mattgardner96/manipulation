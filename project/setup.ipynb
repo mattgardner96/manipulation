{
 "cells": [
  {
   "cell_type": "code",
   "execution_count": 67,
   "metadata": {},
   "outputs": [],
   "source": [
    "import os\n",
    "import hw\n",
    "import numpy as np\n",
    "import env_ingredient_add as env\n",
    "import trajectories as traj\n",
    "\n",
    "def get_scene():\n",
    "    if os.getcwd() == \"/datasets/_deepnote_work/manipulation/project\": \n",
    "        #scene = open(\"/work/manipulation/project/objects/environment_setup.yaml\")\n",
    "        scene = env.get_environment_set_up(no_scene=True,include_driver=True)\n",
    "        xmls = [os.getcwd() + \"/package.xml\", \"/work/manipulation/project/package.xml\"]\n",
    "    else:\n",
    "        #scene = open(\"objects/environment_setup.yaml\") # local setup\n",
    "        scene = env.get_environment_set_up(no_scene=False,include_driver=True)\n",
    "        xmls = [os.getcwd() + \"/package.xml\"]\n",
    "\n",
    "    return scene"
   ]
  },
  {
   "cell_type": "code",
   "execution_count": 62,
   "metadata": {},
   "outputs": [
    {
     "name": "stderr",
     "output_type": "stream",
     "text": [
      "INFO:drake:Meshcat listening for connections at http://localhost:7004\n"
     ]
    }
   ],
   "source": [
    "scenario = hw.LoadScenario(data=get_scene())\n",
    "meshcat = hw.StartMeshcat()"
   ]
  },
  {
   "cell_type": "code",
   "execution_count": 63,
   "metadata": {},
   "outputs": [],
   "source": [
    "# at present, trajectory blank doesn't work\n",
    "diagram,sim = hw.init_diagram(meshcat,scenario)\n",
    "# hw.print_diagram(diagram)\n",
    "\n",
    "context = diagram.CreateDefaultContext()\n",
    "traj0 = hw.create_small_trajectory(diagram,meshcat,context)\n",
    "\n",
    "meshcat.Delete()\n",
    "diagram,sim = hw.init_diagram(meshcat,scenario,traj0)\n",
    "controller = diagram.GetSubsystemByName(\"diff_ik_integrator\")\n"
   ]
  },
  {
   "cell_type": "code",
   "execution_count": 64,
   "metadata": {},
   "outputs": [
    {
     "name": "stderr",
     "output_type": "stream",
     "text": [
      "WARNING:drake:Meshcat: An obj referenced a material library 'DWG000509' that Meshcat could not open; no materials will be included. Obj: '/Users/mattgardner/source/manipulation/project/objects/serving_shelf.obj'.\n",
      "WARNING:drake:Meshcat: An obj referenced a material library 'stainless' that Meshcat could not open; no materials will be included. Obj: '/Users/mattgardner/source/manipulation/project/objects/mixing_bowl.obj'.\n",
      "WARNING:drake:Meshcat: An obj referenced a material library 'stainless' that Meshcat could not open; no materials will be included. Obj: '/Users/mattgardner/source/manipulation/project/objects/mixing_bowl.obj'.\n",
      "WARNING:drake:Meshcat: An obj referenced a material library 'stainless' that Meshcat could not open; no materials will be included. Obj: '/Users/mattgardner/source/manipulation/project/objects/mixing_bowl.obj'.\n"
     ]
    }
   ],
   "source": [
    "hw.fix_base_pos(controller.get_parameters(), 3*[True])\n",
    "hw.create_small_trajectory(diagram,meshcat)\n",
    "\n",
    "hw.run_simulation(meshcat,sim,20)"
   ]
  },
  {
   "cell_type": "code",
   "execution_count": null,
   "metadata": {},
   "outputs": [
    {
     "ename": "NameError",
     "evalue": "name 'hw' is not defined",
     "output_type": "error",
     "traceback": [
      "\u001b[0;31m---------------------------------------------------------------------------\u001b[0m",
      "\u001b[0;31mNameError\u001b[0m                                 Traceback (most recent call last)",
      "Cell \u001b[0;32mIn[65], line 4\u001b[0m\n\u001b[1;32m      1\u001b[0m \u001b[38;5;66;03m# TODO(mattg): move this into some sort of planner system that can move between states.\u001b[39;00m\n\u001b[1;32m      3\u001b[0m diagram,sim \u001b[38;5;241m=\u001b[39m hw\u001b[38;5;241m.\u001b[39minit_diagram(meshcat,scenario)\n\u001b[0;32m----> 4\u001b[0m traj1 \u001b[38;5;241m=\u001b[39m \u001b[43mtraj\u001b[49m\u001b[38;5;241;43m.\u001b[39;49m\u001b[43mtraj_linear_move_to_bowl_0\u001b[49m\u001b[43m(\u001b[49m\u001b[43mdiagram\u001b[49m\u001b[43m)\u001b[49m\n\u001b[1;32m      5\u001b[0m meshcat\u001b[38;5;241m.\u001b[39mDelete()\n\u001b[1;32m      7\u001b[0m diagram,sim \u001b[38;5;241m=\u001b[39m hw\u001b[38;5;241m.\u001b[39minit_diagram(meshcat,scenario,traj1)\n",
      "File \u001b[0;32m~/source/manipulation/project/trajectories.py:14\u001b[0m, in \u001b[0;36mtraj_linear_move_to_bowl_0\u001b[0;34m(diagram, context, move_time)\u001b[0m\n\u001b[1;32m     11\u001b[0m start_time \u001b[38;5;241m=\u001b[39m context\u001b[38;5;241m.\u001b[39mget_time()\n\u001b[1;32m     13\u001b[0m \u001b[38;5;66;03m# get a starting point\u001b[39;00m\n\u001b[0;32m---> 14\u001b[0m X_WGinit \u001b[38;5;241m=\u001b[39m \u001b[43mhw\u001b[49m\u001b[38;5;241m.\u001b[39mget_X_WG(diagram,context)\n\u001b[1;32m     16\u001b[0m \u001b[38;5;66;03m# intermediate #1\u001b[39;00m\n\u001b[1;32m     17\u001b[0m int_1 \u001b[38;5;241m=\u001b[39m hw\u001b[38;5;241m.\u001b[39mRigidTransform(\n\u001b[1;32m     18\u001b[0m     R\u001b[38;5;241m=\u001b[39mhw\u001b[38;5;241m.\u001b[39mRotationMatrix(),\n\u001b[1;32m     19\u001b[0m     p\u001b[38;5;241m=\u001b[39mnp\u001b[38;5;241m.\u001b[39marray([\u001b[38;5;241m0\u001b[39m,\u001b[38;5;241m1\u001b[39m,\u001b[38;5;241m1\u001b[39m])\n\u001b[1;32m     20\u001b[0m )\n",
      "\u001b[0;31mNameError\u001b[0m: name 'hw' is not defined"
     ]
    }
   ],
   "source": [
    "# TODO(mattg): move this into some sort of planner system that can move between states.\n",
    "\n",
    "reload(hw)\n",
    "reload(traj)\n",
    "\n",
    "diagram,sim = hw.init_diagram(meshcat,scenario)\n",
    "traj1 = traj.traj_linear_move_to_bowl_0(diagram)\n",
    "meshcat.Delete()\n",
    "\n",
    "diagram,sim = hw.init_diagram(meshcat,scenario,traj1)\n",
    "\n",
    "# problem: we're missing a way to actually pass new trajectories into the robot.\n",
    "\n",
    "# pose_source = diagram.GetSubsystemByName(\"hw.PoseTrajectorySource@00007fc3283167c0\")"
   ]
  },
  {
   "cell_type": "code",
   "execution_count": 55,
   "metadata": {},
   "outputs": [
    {
     "name": "stderr",
     "output_type": "stream",
     "text": [
      "WARNING:drake:Meshcat: An obj referenced a material library 'DWG000509' that Meshcat could not open; no materials will be included. Obj: '/Users/mattgardner/source/manipulation/project/objects/serving_shelf.obj'.\n",
      "WARNING:drake:Meshcat: An obj referenced a material library 'stainless' that Meshcat could not open; no materials will be included. Obj: '/Users/mattgardner/source/manipulation/project/objects/mixing_bowl.obj'.\n",
      "WARNING:drake:Meshcat: An obj referenced a material library 'stainless' that Meshcat could not open; no materials will be included. Obj: '/Users/mattgardner/source/manipulation/project/objects/mixing_bowl.obj'.\n",
      "WARNING:drake:Meshcat: An obj referenced a material library 'stainless' that Meshcat could not open; no materials will be included. Obj: '/Users/mattgardner/source/manipulation/project/objects/mixing_bowl.obj'.\n",
      "WARNING:drake:Differential IK started returning status:\"stuck\" at time 4.963.\n",
      "WARNING:drake:Differential IK started finding solutions again at time 5.111.\n"
     ]
    }
   ],
   "source": [
    "hw.run_simulation(meshcat,sim,20)"
   ]
  },
  {
   "cell_type": "code",
   "execution_count": null,
   "metadata": {},
   "outputs": [],
   "source": []
  },
  {
   "cell_type": "markdown",
   "metadata": {},
   "source": [
    "## scratch code"
   ]
  },
  {
   "cell_type": "markdown",
   "metadata": {},
   "source": [
    "### gets the name of the robot's joints"
   ]
  },
  {
   "cell_type": "code",
   "execution_count": null,
   "metadata": {},
   "outputs": [
    {
     "name": "stdout",
     "output_type": "stream",
     "text": [
      "iiwa_base_x\n",
      "iiwa_base_y\n",
      "iiwa_base_z\n",
      "iiwa_joint_1\n",
      "iiwa_joint_2\n",
      "iiwa_joint_3\n",
      "iiwa_joint_4\n",
      "iiwa_joint_5\n",
      "iiwa_joint_6\n",
      "iiwa_joint_7\n",
      "iiwa_joint_ee\n",
      "tool0_joint\n",
      "left_finger_sliding_joint\n",
      "right_finger_sliding_joint\n",
      "iiwa_link_7_welds_to_body\n"
     ]
    }
   ],
   "source": [
    "\n",
    "# plant = diagram.GetSubsystemByName(\"station\").GetSubsystemByName(\"plant\")\n",
    "\n",
    "# for index in plant.GetJointIndices():\n",
    "#     print(plant.get_joint(index).name())"
   ]
  },
  {
   "cell_type": "code",
   "execution_count": null,
   "metadata": {},
   "outputs": [],
   "source": [
    "\n",
    "\n",
    "print(controller.get_parameters().get_joint_position_limits())\n",
    "\n",
    "print(f\"after running: {controller.get_parameters().get_joint_position_limits()}\")\n",
    "\n",
    "hw.run_simulation(meshcat,sim,10)"
   ]
  }
 ],
 "metadata": {
  "kernelspec": {
   "display_name": ".venv",
   "language": "python",
   "name": "python3"
  },
  "language_info": {
   "codemirror_mode": {
    "name": "ipython",
    "version": 3
   },
   "file_extension": ".py",
   "mimetype": "text/x-python",
   "name": "python",
   "nbconvert_exporter": "python",
   "pygments_lexer": "ipython3",
   "version": "3.12.4"
  }
 },
 "nbformat": 4,
 "nbformat_minor": 2
}
