{
 "cells": [
  {
   "cell_type": "code",
   "execution_count": 1,
   "metadata": {},
   "outputs": [],
   "source": [
    "import os\n",
    "import hw\n",
    "import env_ingredient_add\n",
    "def get_scene():\n",
    "    if os.getcwd() == \"/datasets/_deepnote_work/manipulation/project\": \n",
    "        #scene = open(\"/work/manipulation/project/objects/environment_setup.yaml\")\n",
    "        scene = env_ingredient_add.get_environment_set_up(no_scene=True,include_driver=True)\n",
    "        xmls = [os.getcwd() + \"/package.xml\", \"/work/manipulation/project/package.xml\"]\n",
    "    else:\n",
    "        #scene = open(\"objects/environment_setup.yaml\") # local setup\n",
    "        scene = env_ingredient_add.get_environment_set_up(no_scene=True,include_driver=True)\n",
    "        xmls = [os.getcwd() + \"/package.xml\"]\n",
    "\n",
    "    return scene"
   ]
  },
  {
   "cell_type": "code",
   "execution_count": 2,
   "metadata": {},
   "outputs": [
    {
     "name": "stderr",
     "output_type": "stream",
     "text": [
      "INFO:drake:Meshcat listening for connections at http://localhost:7001\n"
     ]
    }
   ],
   "source": [
    "scenario = hw.LoadScenario(data=get_scene())\n",
    "meshcat = hw.StartMeshcat()"
   ]
  },
  {
   "cell_type": "code",
   "execution_count": null,
   "metadata": {},
   "outputs": [],
   "source": [
    "# at present, trajectory blank doesn't work\n",
    "diagram,sim = hw.init_diagram(meshcat,scenario)\n",
    "context = diagram.CreateDefaultContext()\n",
    "traj = hw.create_small_trajectory(diagram,meshcat,context)\n",
    "\n",
    "meshcat.Delete()\n",
    "diagram,sim = hw.init_diagram(meshcat,scenario,traj)\n",
    "\n",
    "hw.create_small_trajectory(diagram,meshcat)\n",
    "hw.run_simulation(meshcat,sim,20)\n",
    "\n",
    "controller = diagram.GetSubsystemByName(\"station\").GetSubsystemByName(\"controller\")\n",
    "\n",
    "print(traj_bot.controller.get_parameters().get_joint_position_limits())\n",
    "fix_base_pos(traj_bot.controller.get_parameters(), 3*[True])\n",
    "print(f\"after running: {traj_bot.controller.get_parameters().get_joint_position_limits()}\")\n",
    "\n",
    "# print_diagram(diagram)\n"
   ]
  },
  {
   "cell_type": "code",
   "execution_count": null,
   "metadata": {},
   "outputs": [],
   "source": [
    "controller = diagram.GetSubsystemByName(\"station\").GetSubsystemByName(\"mobile_iiwa.controller\")\n",
    "\n",
    "print(controller.get_parameters().get_joint_position_limits())\n",
    "fix_base_pos(traj_bot.controller.get_parameters(), 3*[True])\n",
    "print(f\"after running: {traj_bot.controller.get_parameters().get_joint_position_limits()}\")"
   ]
  }
 ],
 "metadata": {
  "kernelspec": {
   "display_name": ".venv",
   "language": "python",
   "name": "python3"
  },
  "language_info": {
   "codemirror_mode": {
    "name": "ipython",
    "version": 3
   },
   "file_extension": ".py",
   "mimetype": "text/x-python",
   "name": "python",
   "nbconvert_exporter": "python",
   "pygments_lexer": "ipython3",
   "version": "3.12.4"
  }
 },
 "nbformat": 4,
 "nbformat_minor": 2
}
