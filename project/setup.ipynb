{
    "cells": [
        {
            "cell_type": "code",
            "metadata": {
                "source_hash": "568bed17",
                "execution_start": 1733348728201,
                "execution_millis": 3731,
                "execution_context_id": "5ac7181a-aec8-4773-a83e-dea6d6e885e4",
                "cell_id": "ece38174244544de80f155fbd0ffc1ee",
                "deepnote_cell_type": "code"
            },
            "source": "import os\nimport hw\nimport numpy as np\nimport env_ingredient_add as env\nfrom hw import PoseTrajectorySource\nimport trajectories as traj\nfrom importlib import reload\n\ndef get_scene():\n    if os.getcwd() == \"/datasets/_deepnote_work/manipulation/project\": \n        #scene = open(\"/work/manipulation/project/objects/environment_setup.yaml\")\n        scene = env.get_environment_set_up(no_scene=False,include_driver=True)\n        xmls = [os.getcwd() + \"/package.xml\", \"/work/manipulation/project/package.xml\"]\n    else:\n        #scene = open(\"objects/environment_setup.yaml\") # local setup\n        scene = env.get_environment_set_up(no_scene=False,include_driver=True)\n        xmls = [os.getcwd() + \"/package.xml\"]\n\n    return scene",
            "block_group": "5f902c82444c4dd99ab5944b23e0428a",
            "execution_count": 1,
            "outputs": [],
            "outputs_reference": null,
            "content_dependencies": null
        },
        {
            "cell_type": "code",
            "metadata": {
                "source_hash": "1cb66303",
                "execution_start": 1733348732024,
                "execution_millis": 38,
                "execution_context_id": "60e68017-ee1a-47c3-8111-6b78b2ac7310",
                "cell_id": "ab25b6558534476c8de50e5f4945c26d",
                "deepnote_cell_type": "code"
            },
            "source": "scenario = hw.LoadScenario(data=get_scene())\nmeshcat = hw.StartMeshcat()",
            "block_group": "eca69f40d8304eca90809c907d6d32c5",
            "execution_count": 2,
            "outputs": [
                {
                    "name": "stderr",
                    "text": "INFO:drake:Meshcat listening for connections at https://92fbdad2-a4a9-4ef8-b493-c307060b34a1.deepnoteproject.com/7000/\nInstalling NginX server for MeshCat on Deepnote...\n",
                    "output_type": "stream"
                },
                {
                    "data": {
                        "text/plain": "<IPython.core.display.HTML object>",
                        "text/html": "Meshcat URL: <a href='https://92fbdad2-a4a9-4ef8-b493-c307060b34a1.deepnoteproject.com/7000/' target='_blank'>https://92fbdad2-a4a9-4ef8-b493-c307060b34a1.deepnoteproject.com/7000/</a>"
                    },
                    "metadata": {},
                    "output_type": "display_data"
                }
            ],
            "outputs_reference": "dbtable:cell_outputs/bce15c9e-a2e1-456a-b510-4fb87756941f",
            "content_dependencies": null
        },
        {
            "cell_type": "markdown",
            "metadata": {
                "cell_id": "09a7098cc86541c59960b7af08a16466",
                "deepnote_cell_type": "markdown"
            },
            "source": "### trajectory 0: iiwa_painter",
            "block_group": "9abe735f467d4adc83749604ae4200cb"
        },
        {
            "cell_type": "code",
            "metadata": {
                "source_hash": "54063277",
                "execution_start": 1733348732124,
                "execution_millis": 3,
                "execution_context_id": "60e68017-ee1a-47c3-8111-6b78b2ac7310",
                "cell_id": "28d7e056140248118a5e876b6978598e",
                "deepnote_cell_type": "code"
            },
            "source": "print(scenario)",
            "block_group": "b7f8b88439d9492daaab387e0f8108e2",
            "execution_count": 3,
            "outputs": [
                {
                    "name": "stdout",
                    "text": "Scenario(random_seed=0, simulation_duration=inf, simulator_config=SimulatorConfig(integration_scheme='runge_kutta3', max_step_size=0.01, accuracy=0.01, use_error_control=False, target_realtime_rate=0.0, publish_every_time_step=False), plant_config=MultibodyPlantConfig(time_step=0.01, penetration_allowance=0.001, stiction_tolerance=0.001, contact_model='hydroelastic_with_fallback', discrete_contact_approximation='sap', discrete_contact_solver='', sap_near_rigid_threshold=1.0, contact_surface_representation='polygon', adjacent_bodies_collision_filters=True), directives=[ModelDirective(add_model=AddModel(file='package://manipulation/mobile_iiwa14_primitive_collision.urdf', name='mobile_iiwa', default_joint_positions={'iiwa_base_x': array([-1.]), 'iiwa_base_y': array([1.]), 'iiwa_base_z': array([0.]), 'iiwa_joint_1': array([-1.57]), 'iiwa_joint_2': array([0.1]), 'iiwa_joint_3': array([0.]), 'iiwa_joint_4': array([-1.2]), 'iiwa_joint_5': array([0.]), 'iiwa_joint_6': array([1.6]), 'iiwa_joint_7': array([0.])}, default_free_body_pose={}), add_model_instance=None, add_frame=None, add_weld=None, add_collision_filter_group=None, add_directives=None), ModelDirective(add_model=AddModel(file='package://drake_models/wsg_50_description/sdf/schunk_wsg_50_with_tip.sdf', name='gripper', default_joint_positions={}, default_free_body_pose={}), add_model_instance=None, add_frame=None, add_weld=None, add_collision_filter_group=None, add_directives=None), ModelDirective(add_model=None, add_model_instance=None, add_frame=None, add_weld=AddWeld(parent='mobile_iiwa::iiwa_link_7', child='gripper::body', X_PC=Transform(base_frame=None, translation=array([0.  , 0.  , 0.09]), rotation=Rotation(value=Rpy(deg=array([90.,  0., 90.]))))), add_collision_filter_group=None, add_directives=None), ModelDirective(add_model=AddModel(file='package://pizzabot/objects/panV1.sdf', name='pan1', default_joint_positions={}, default_free_body_pose={'panV1': Transform(base_frame=None, translation=array([-1.  , -0.5 ,  0.75]), rotation=Rotation(value=Identity()))}), add_model_instance=None, add_frame=None, add_weld=None, add_collision_filter_group=None, add_directives=None), ModelDirective(add_model=AddModel(file='package://pizzabot/objects/ovenV1.sdf', name='oven1', default_joint_positions={}, default_free_body_pose={}), add_model_instance=None, add_frame=None, add_weld=None, add_collision_filter_group=None, add_directives=None), ModelDirective(add_model=AddModel(file='package://pizzabot/objects/serving_shelf.sdf', name='serving', default_joint_positions={}, default_free_body_pose={}), add_model_instance=None, add_frame=None, add_weld=None, add_collision_filter_group=None, add_directives=None), ModelDirective(add_model=AddModel(file='package://pizzabot/objects/mixing_bowl.sdf', name='bowl0', default_joint_positions={}, default_free_body_pose={'mixing_bowl_body_link': Transform(base_frame=None, translation=array([-3.  ,  0.5 ,  0.79]), rotation=Rotation(value=Rpy(deg=array([90.,  0.,  0.]))))}), add_model_instance=None, add_frame=None, add_weld=None, add_collision_filter_group=None, add_directives=None), ModelDirective(add_model=AddModel(file='package://pizzabot/objects/mixing_bowl.sdf', name='bowl1', default_joint_positions={}, default_free_body_pose={'mixing_bowl_body_link': Transform(base_frame=None, translation=array([-3.  ,  1.  ,  0.79]), rotation=Rotation(value=Rpy(deg=array([90.,  0.,  0.]))))}), add_model_instance=None, add_frame=None, add_weld=None, add_collision_filter_group=None, add_directives=None), ModelDirective(add_model=AddModel(file='package://pizzabot/objects/mixing_bowl.sdf', name='bowl2', default_joint_positions={}, default_free_body_pose={'mixing_bowl_body_link': Transform(base_frame=None, translation=array([-3.  ,  1.5 ,  0.79]), rotation=Rotation(value=Rpy(deg=array([90.,  0.,  0.]))))}), add_model_instance=None, add_frame=None, add_weld=None, add_collision_filter_group=None, add_directives=None), ModelDirective(add_model=AddModel(file='package://pizzabot/objects/table.sdf', name='table0', default_joint_positions={}, default_free_body_pose={}), add_model_instance=None, add_frame=None, add_weld=None, add_collision_filter_group=None, add_directives=None), ModelDirective(add_model=AddModel(file='package://pizzabot/objects/table.sdf', name='table1', default_joint_positions={}, default_free_body_pose={}), add_model_instance=None, add_frame=None, add_weld=None, add_collision_filter_group=None, add_directives=None), ModelDirective(add_model=AddModel(file='package://manipulation/camera_box.sdf', name='camera0', default_joint_positions={}, default_free_body_pose={}), add_model_instance=None, add_frame=None, add_weld=None, add_collision_filter_group=None, add_directives=None), ModelDirective(add_model=None, add_model_instance=None, add_frame=AddFrame(name='camera_table_above', X_PF=Transform(base_frame='table0::table', translation=array([0. , 0. , 1.5]), rotation=Rotation(value=Rpy(deg=array([180.,   0.,   0.]))))), add_weld=None, add_collision_filter_group=None, add_directives=None), ModelDirective(add_model=None, add_model_instance=None, add_frame=None, add_weld=AddWeld(parent='camera_table_above', child='camera0::base', X_PC=None), add_collision_filter_group=None, add_directives=None), ModelDirective(add_model=None, add_model_instance=None, add_frame=None, add_weld=AddWeld(parent='world', child='table0::table', X_PC=Transform(base_frame=None, translation=array([-1.   , -0.5  , -0.015]), rotation=Rotation(value=Identity()))), add_collision_filter_group=None, add_directives=None), ModelDirective(add_model=None, add_model_instance=None, add_frame=None, add_weld=AddWeld(parent='world', child='table1::table', X_PC=Transform(base_frame=None, translation=array([-3.   ,  1.   , -0.015]), rotation=Rotation(value=Rpy(deg=array([  0.,   0., -90.]))))), add_collision_filter_group=None, add_directives=None), ModelDirective(add_model=None, add_model_instance=None, add_frame=None, add_weld=AddWeld(parent='world', child='oven1::ovenV1', X_PC=Transform(base_frame=None, translation=array([ 1.   ,  1.5  , -0.015]), rotation=Rotation(value=Rpy(deg=array([  0.,   0., -90.]))))), add_collision_filter_group=None, add_directives=None), ModelDirective(add_model=None, add_model_instance=None, add_frame=None, add_weld=AddWeld(parent='world', child='serving::serving_shelf', X_PC=Transform(base_frame=None, translation=array([ 0.   ,  2.5  , -0.015]), rotation=Rotation(value=Rpy(deg=array([90.,  0.,  0.]))))), add_collision_filter_group=None, add_directives=None), ModelDirective(add_model=AddModel(file='package://pizzabot/objects/mush_slice.sdf', name='mushroom_0', default_joint_positions={}, default_free_body_pose={'mush_slice': Transform(base_frame=None, translation=array([-3.  ,  0.5 ,  0.81]), rotation=Rotation(value=Identity()))}), add_model_instance=None, add_frame=None, add_weld=None, add_collision_filter_group=None, add_directives=None), ModelDirective(add_model=AddModel(file='package://pizzabot/objects/mush_slice.sdf', name='mushroom_1', default_joint_positions={}, default_free_body_pose={'mush_slice': Transform(base_frame=None, translation=array([-3.  ,  0.5 ,  0.81]), rotation=Rotation(value=Identity()))}), add_model_instance=None, add_frame=None, add_weld=None, add_collision_filter_group=None, add_directives=None), ModelDirective(add_model=AddModel(file='package://pizzabot/objects/mush_slice.sdf', name='mushroom_2', default_joint_positions={}, default_free_body_pose={'mush_slice': Transform(base_frame=None, translation=array([-3.  ,  0.5 ,  0.81]), rotation=Rotation(value=Identity()))}), add_model_instance=None, add_frame=None, add_weld=None, add_collision_filter_group=None, add_directives=None), ModelDirective(add_model=AddModel(file='package://pizzabot/objects/mush_slice.sdf', name='mushroom_3', default_joint_positions={}, default_free_body_pose={'mush_slice': Transform(base_frame=None, translation=array([-3.  ,  0.5 ,  0.85]), rotation=Rotation(value=Identity()))}), add_model_instance=None, add_frame=None, add_weld=None, add_collision_filter_group=None, add_directives=None), ModelDirective(add_model=AddModel(file='package://pizzabot/objects/mush_slice.sdf', name='mushroom_4', default_joint_positions={}, default_free_body_pose={'mush_slice': Transform(base_frame=None, translation=array([-3.  ,  0.5 ,  0.85]), rotation=Rotation(value=Identity()))}), add_model_instance=None, add_frame=None, add_weld=None, add_collision_filter_group=None, add_directives=None), ModelDirective(add_model=AddModel(file='package://pizzabot/objects/mush_slice.sdf', name='mushroom_5', default_joint_positions={}, default_free_body_pose={'mush_slice': Transform(base_frame=None, translation=array([-3.  ,  0.5 ,  0.85]), rotation=Rotation(value=Identity()))}), add_model_instance=None, add_frame=None, add_weld=None, add_collision_filter_group=None, add_directives=None), ModelDirective(add_model=AddModel(file='package://pizzabot/objects/mush_slice.sdf', name='mushroom_6', default_joint_positions={}, default_free_body_pose={'mush_slice': Transform(base_frame=None, translation=array([-3.  ,  0.5 ,  0.85]), rotation=Rotation(value=Identity()))}), add_model_instance=None, add_frame=None, add_weld=None, add_collision_filter_group=None, add_directives=None), ModelDirective(add_model=AddModel(file='package://pizzabot/objects/mush_slice.sdf', name='mushroom_7', default_joint_positions={}, default_free_body_pose={'mush_slice': Transform(base_frame=None, translation=array([-3.  ,  0.5 ,  0.89]), rotation=Rotation(value=Identity()))}), add_model_instance=None, add_frame=None, add_weld=None, add_collision_filter_group=None, add_directives=None), ModelDirective(add_model=AddModel(file='package://pizzabot/objects/mush_slice.sdf', name='mushroom_8', default_joint_positions={}, default_free_body_pose={'mush_slice': Transform(base_frame=None, translation=array([-3.  ,  0.5 ,  0.89]), rotation=Rotation(value=Identity()))}), add_model_instance=None, add_frame=None, add_weld=None, add_collision_filter_group=None, add_directives=None), ModelDirective(add_model=AddModel(file='package://pizzabot/objects/mush_slice.sdf', name='mushroom_9', default_joint_positions={}, default_free_body_pose={'mush_slice': Transform(base_frame=None, translation=array([-3.  ,  0.5 ,  0.89]), rotation=Rotation(value=Identity()))}), add_model_instance=None, add_frame=None, add_weld=None, add_collision_filter_group=None, add_directives=None), ModelDirective(add_model=AddModel(file='package://pizzabot/objects/mush_slice.sdf', name='mushroom_10', default_joint_positions={}, default_free_body_pose={'mush_slice': Transform(base_frame=None, translation=array([-3.  ,  0.5 ,  0.89]), rotation=Rotation(value=Identity()))}), add_model_instance=None, add_frame=None, add_weld=None, add_collision_filter_group=None, add_directives=None), ModelDirective(add_model=AddModel(file='package://pizzabot/objects/mush_slice.sdf', name='mushroom_11', default_joint_positions={}, default_free_body_pose={'mush_slice': Transform(base_frame=None, translation=array([-3.  ,  0.5 ,  0.93]), rotation=Rotation(value=Identity()))}), add_model_instance=None, add_frame=None, add_weld=None, add_collision_filter_group=None, add_directives=None), ModelDirective(add_model=AddModel(file='package://pizzabot/objects/mush_slice.sdf', name='mushroom_12', default_joint_positions={}, default_free_body_pose={'mush_slice': Transform(base_frame=None, translation=array([-3.  ,  0.5 ,  0.93]), rotation=Rotation(value=Identity()))}), add_model_instance=None, add_frame=None, add_weld=None, add_collision_filter_group=None, add_directives=None), ModelDirective(add_model=AddModel(file='package://pizzabot/objects/mush_slice.sdf', name='mushroom_13', default_joint_positions={}, default_free_body_pose={'mush_slice': Transform(base_frame=None, translation=array([-3.  ,  0.5 ,  0.93]), rotation=Rotation(value=Identity()))}), add_model_instance=None, add_frame=None, add_weld=None, add_collision_filter_group=None, add_directives=None), ModelDirective(add_model=AddModel(file='package://pizzabot/objects/mush_slice.sdf', name='mushroom_14', default_joint_positions={}, default_free_body_pose={'mush_slice': Transform(base_frame=None, translation=array([-3.  ,  0.5 ,  0.93]), rotation=Rotation(value=Identity()))}), add_model_instance=None, add_frame=None, add_weld=None, add_collision_filter_group=None, add_directives=None), ModelDirective(add_model=AddModel(file='package://pizzabot/objects/mush_slice.sdf', name='mushroom_15', default_joint_positions={}, default_free_body_pose={'mush_slice': Transform(base_frame=None, translation=array([-3.  ,  0.5 ,  0.97]), rotation=Rotation(value=Identity()))}), add_model_instance=None, add_frame=None, add_weld=None, add_collision_filter_group=None, add_directives=None), ModelDirective(add_model=AddModel(file='package://pizzabot/objects/mush_slice.sdf', name='mushroom_16', default_joint_positions={}, default_free_body_pose={'mush_slice': Transform(base_frame=None, translation=array([-3.  ,  0.5 ,  0.97]), rotation=Rotation(value=Identity()))}), add_model_instance=None, add_frame=None, add_weld=None, add_collision_filter_group=None, add_directives=None), ModelDirective(add_model=AddModel(file='package://pizzabot/objects/mush_slice.sdf', name='mushroom_17', default_joint_positions={}, default_free_body_pose={'mush_slice': Transform(base_frame=None, translation=array([-3.  ,  0.5 ,  0.97]), rotation=Rotation(value=Identity()))}), add_model_instance=None, add_frame=None, add_weld=None, add_collision_filter_group=None, add_directives=None), ModelDirective(add_model=AddModel(file='package://pizzabot/objects/mush_slice.sdf', name='mushroom_18', default_joint_positions={}, default_free_body_pose={'mush_slice': Transform(base_frame=None, translation=array([-3.  ,  0.5 ,  0.97]), rotation=Rotation(value=Identity()))}), add_model_instance=None, add_frame=None, add_weld=None, add_collision_filter_group=None, add_directives=None), ModelDirective(add_model=AddModel(file='package://pizzabot/objects/mush_slice.sdf', name='mushroom_19', default_joint_positions={}, default_free_body_pose={'mush_slice': Transform(base_frame=None, translation=array([-3.  ,  0.5 ,  1.01]), rotation=Rotation(value=Identity()))}), add_model_instance=None, add_frame=None, add_weld=None, add_collision_filter_group=None, add_directives=None), ModelDirective(add_model=AddModel(file='package://pizzabot/objects/tomato_slice.sdf', name='tomato_0', default_joint_positions={}, default_free_body_pose={'tomato_slice': Transform(base_frame=None, translation=array([-2.97,  1.  ,  0.84]), rotation=Rotation(value=Identity()))}), add_model_instance=None, add_frame=None, add_weld=None, add_collision_filter_group=None, add_directives=None), ModelDirective(add_model=AddModel(file='package://pizzabot/objects/tomato_slice.sdf', name='tomato_1', default_joint_positions={}, default_free_body_pose={'tomato_slice': Transform(base_frame=None, translation=array([-3.  ,  1.03,  0.84]), rotation=Rotation(value=Identity()))}), add_model_instance=None, add_frame=None, add_weld=None, add_collision_filter_group=None, add_directives=None), ModelDirective(add_model=AddModel(file='package://pizzabot/objects/tomato_slice.sdf', name='tomato_2', default_joint_positions={}, default_free_body_pose={'tomato_slice': Transform(base_frame=None, translation=array([-3.06,  0.94,  0.84]), rotation=Rotation(value=Identity()))}), add_model_instance=None, add_frame=None, add_weld=None, add_collision_filter_group=None, add_directives=None), ModelDirective(add_model=AddModel(file='package://pizzabot/objects/tomato_slice.sdf', name='tomato_3', default_joint_positions={}, default_free_body_pose={'tomato_slice': Transform(base_frame=None, translation=array([-3.  ,  1.  ,  0.87]), rotation=Rotation(value=Identity()))}), add_model_instance=None, add_frame=None, add_weld=None, add_collision_filter_group=None, add_directives=None), ModelDirective(add_model=AddModel(file='package://pizzabot/objects/tomato_slice.sdf', name='tomato_4', default_joint_positions={}, default_free_body_pose={'tomato_slice': Transform(base_frame=None, translation=array([-2.97,  1.  ,  0.87]), rotation=Rotation(value=Identity()))}), add_model_instance=None, add_frame=None, add_weld=None, add_collision_filter_group=None, add_directives=None), ModelDirective(add_model=AddModel(file='package://pizzabot/objects/tomato_slice.sdf', name='tomato_5', default_joint_positions={}, default_free_body_pose={'tomato_slice': Transform(base_frame=None, translation=array([-3.  ,  1.03,  0.87]), rotation=Rotation(value=Identity()))}), add_model_instance=None, add_frame=None, add_weld=None, add_collision_filter_group=None, add_directives=None), ModelDirective(add_model=AddModel(file='package://pizzabot/objects/tomato_slice.sdf', name='tomato_6', default_joint_positions={}, default_free_body_pose={'tomato_slice': Transform(base_frame=None, translation=array([-3.06,  0.94,  0.87]), rotation=Rotation(value=Identity()))}), add_model_instance=None, add_frame=None, add_weld=None, add_collision_filter_group=None, add_directives=None), ModelDirective(add_model=AddModel(file='package://pizzabot/objects/tomato_slice.sdf', name='tomato_7', default_joint_positions={}, default_free_body_pose={'tomato_slice': Transform(base_frame=None, translation=array([-3. ,  1. ,  0.9]), rotation=Rotation(value=Identity()))}), add_model_instance=None, add_frame=None, add_weld=None, add_collision_filter_group=None, add_directives=None), ModelDirective(add_model=AddModel(file='package://pizzabot/objects/tomato_slice.sdf', name='tomato_8', default_joint_positions={}, default_free_body_pose={'tomato_slice': Transform(base_frame=None, translation=array([-2.97,  1.  ,  0.9 ]), rotation=Rotation(value=Identity()))}), add_model_instance=None, add_frame=None, add_weld=None, add_collision_filter_group=None, add_directives=None), ModelDirective(add_model=AddModel(file='package://pizzabot/objects/tomato_slice.sdf', name='tomato_9', default_joint_positions={}, default_free_body_pose={'tomato_slice': Transform(base_frame=None, translation=array([-3.  ,  1.03,  0.9 ]), rotation=Rotation(value=Identity()))}), add_model_instance=None, add_frame=None, add_weld=None, add_collision_filter_group=None, add_directives=None), ModelDirective(add_model=AddModel(file='package://pizzabot/objects/tomato_slice.sdf', name='tomato_10', default_joint_positions={}, default_free_body_pose={'tomato_slice': Transform(base_frame=None, translation=array([-3.06,  0.94,  0.9 ]), rotation=Rotation(value=Identity()))}), add_model_instance=None, add_frame=None, add_weld=None, add_collision_filter_group=None, add_directives=None), ModelDirective(add_model=AddModel(file='package://pizzabot/objects/tomato_slice.sdf', name='tomato_11', default_joint_positions={}, default_free_body_pose={'tomato_slice': Transform(base_frame=None, translation=array([-3.  ,  1.  ,  0.93]), rotation=Rotation(value=Identity()))}), add_model_instance=None, add_frame=None, add_weld=None, add_collision_filter_group=None, add_directives=None), ModelDirective(add_model=AddModel(file='package://pizzabot/objects/tomato_slice.sdf', name='tomato_12', default_joint_positions={}, default_free_body_pose={'tomato_slice': Transform(base_frame=None, translation=array([-2.97,  1.  ,  0.93]), rotation=Rotation(value=Identity()))}), add_model_instance=None, add_frame=None, add_weld=None, add_collision_filter_group=None, add_directives=None), ModelDirective(add_model=AddModel(file='package://pizzabot/objects/tomato_slice.sdf', name='tomato_13', default_joint_positions={}, default_free_body_pose={'tomato_slice': Transform(base_frame=None, translation=array([-3.  ,  1.03,  0.93]), rotation=Rotation(value=Identity()))}), add_model_instance=None, add_frame=None, add_weld=None, add_collision_filter_group=None, add_directives=None), ModelDirective(add_model=AddModel(file='package://pizzabot/objects/tomato_slice.sdf', name='tomato_14', default_joint_positions={}, default_free_body_pose={'tomato_slice': Transform(base_frame=None, translation=array([-3.06,  0.94,  0.93]), rotation=Rotation(value=Identity()))}), add_model_instance=None, add_frame=None, add_weld=None, add_collision_filter_group=None, add_directives=None), ModelDirective(add_model=AddModel(file='package://pizzabot/objects/tomato_slice.sdf', name='tomato_15', default_joint_positions={}, default_free_body_pose={'tomato_slice': Transform(base_frame=None, translation=array([-3.  ,  1.  ,  0.96]), rotation=Rotation(value=Identity()))}), add_model_instance=None, add_frame=None, add_weld=None, add_collision_filter_group=None, add_directives=None), ModelDirective(add_model=AddModel(file='package://pizzabot/objects/tomato_slice.sdf', name='tomato_16', default_joint_positions={}, default_free_body_pose={'tomato_slice': Transform(base_frame=None, translation=array([-2.97,  1.  ,  0.96]), rotation=Rotation(value=Identity()))}), add_model_instance=None, add_frame=None, add_weld=None, add_collision_filter_group=None, add_directives=None), ModelDirective(add_model=AddModel(file='package://pizzabot/objects/tomato_slice.sdf', name='tomato_17', default_joint_positions={}, default_free_body_pose={'tomato_slice': Transform(base_frame=None, translation=array([-3.  ,  1.03,  0.96]), rotation=Rotation(value=Identity()))}), add_model_instance=None, add_frame=None, add_weld=None, add_collision_filter_group=None, add_directives=None), ModelDirective(add_model=AddModel(file='package://pizzabot/objects/tomato_slice.sdf', name='tomato_18', default_joint_positions={}, default_free_body_pose={'tomato_slice': Transform(base_frame=None, translation=array([-3.06,  0.94,  0.96]), rotation=Rotation(value=Identity()))}), add_model_instance=None, add_frame=None, add_weld=None, add_collision_filter_group=None, add_directives=None), ModelDirective(add_model=AddModel(file='package://pizzabot/objects/tomato_slice.sdf', name='tomato_19', default_joint_positions={}, default_free_body_pose={'tomato_slice': Transform(base_frame=None, translation=array([-3.  ,  1.  ,  0.99]), rotation=Rotation(value=Identity()))}), add_model_instance=None, add_frame=None, add_weld=None, add_collision_filter_group=None, add_directives=None)], lcm_buses={'default': DrakeLcmParams(lcm_url='memq://null', channel_suffix='', defer_initialization=False)}, model_drivers={'mobile_iiwa': InverseDynamicsDriver()}, cameras={}, visualization=VisualizationConfig(lcm_bus='default', publish_period=0.015625, publish_illustration=True, default_illustration_color=Rgba(r=0.9, g=0.9, b=0.9, a=1.0), publish_proximity=True, default_proximity_color=Rgba(r=0.8, g=0.0, b=0.0, a=1.0), initial_proximity_alpha=0.5, publish_contacts=True, publish_inertia=True, enable_meshcat_creation=True, delete_on_initialization_event=True, enable_alpha_sliders=False))\n",
                    "output_type": "stream"
                }
            ],
            "outputs_reference": "s3:deepnote-cell-outputs-production/34c4c829-7cb6-4d6d-b08a-29e3eb503528",
            "content_dependencies": null
        },
        {
            "cell_type": "markdown",
            "metadata": {
                "formattedRanges": [],
                "cell_id": "ddf15464258745449220043fb7a1af06",
                "deepnote_cell_type": "text-cell-p"
            },
            "source": "block below takes ~4m to run -> can we bring it down?",
            "block_group": "f572aac2f92649c79621804818a4d277"
        },
        {
            "cell_type": "code",
            "metadata": {
                "source_hash": "f58db9c0",
                "execution_start": 1733348732308,
                "execution_millis": 26061,
                "execution_context_id": "5ac7181a-aec8-4773-a83e-dea6d6e885e4",
                "cell_id": "51fbcdb9f6594001bf67dc2504c6b99a",
                "deepnote_cell_type": "code"
            },
            "source": "# reload(env)\n# reload(hw)\n\n# at present, trajectory blank doesn't work\ndiagram,sim = hw.init_diagram(meshcat,scenario)\n# hw.print_diagram(diagram)\n\ncontext = diagram.CreateDefaultContext()\ntraj0 = hw.create_painter_trajectory(diagram,meshcat,context)\n\nmeshcat.Delete()\ndiagram,sim = hw.init_diagram(meshcat,scenario,traj0)\ncontroller = diagram.GetSubsystemByName(\"diff_ik_integrator\")\n",
            "block_group": "c63c118d0ee340b6a74893e51debcdee",
            "execution_count": 4,
            "outputs": [
                {
                    "name": "stderr",
                    "text": "INFO:drake:PackageMap: Downloading https://github.com/RobotLocomotion/models/archive/69c92595a391eb023c27ab6ac8f80d58a3e4612d.tar.gz\n",
                    "output_type": "stream"
                },
                {
                    "output_type": "error",
                    "ename": "RuntimeError",
                    "evalue": "The OBJ file contains multiple objects; only OBJs with a single object are supported: File name: '/datasets/_deepnote_work/manipulation/project/objects/ovenV1.obj'",
                    "traceback": [
                        "\u001b[0;31m---------------------------------------------------------------------------\u001b[0m",
                        "\u001b[0;31mRuntimeError\u001b[0m                              Traceback (most recent call last)",
                        "Cell \u001b[0;32mIn [4], line 5\u001b[0m\n\u001b[1;32m      1\u001b[0m \u001b[38;5;66;03m# reload(env)\u001b[39;00m\n\u001b[1;32m      2\u001b[0m \u001b[38;5;66;03m# reload(hw)\u001b[39;00m\n\u001b[1;32m      3\u001b[0m \n\u001b[1;32m      4\u001b[0m \u001b[38;5;66;03m# at present, trajectory blank doesn't work\u001b[39;00m\n\u001b[0;32m----> 5\u001b[0m diagram,sim \u001b[38;5;241m=\u001b[39m \u001b[43mhw\u001b[49m\u001b[38;5;241;43m.\u001b[39;49m\u001b[43minit_diagram\u001b[49m\u001b[43m(\u001b[49m\u001b[43mmeshcat\u001b[49m\u001b[43m,\u001b[49m\u001b[43mscenario\u001b[49m\u001b[43m)\u001b[49m\n\u001b[1;32m      6\u001b[0m \u001b[38;5;66;03m# hw.print_diagram(diagram)\u001b[39;00m\n\u001b[1;32m      8\u001b[0m context \u001b[38;5;241m=\u001b[39m diagram\u001b[38;5;241m.\u001b[39mCreateDefaultContext()\n",
                        "File \u001b[0;32m~/work/manipulation/project/hw.py:237\u001b[0m, in \u001b[0;36minit_diagram\u001b[0;34m(meshcat, scenario, traj)\u001b[0m\n\u001b[1;32m    236\u001b[0m \u001b[38;5;28;01mdef\u001b[39;00m \u001b[38;5;21minit_diagram\u001b[39m(meshcat, scenario, traj\u001b[38;5;241m=\u001b[39mPiecewisePose()):\n\u001b[0;32m--> 237\u001b[0m     builder, station \u001b[38;5;241m=\u001b[39m \u001b[43minit_builder\u001b[49m\u001b[43m(\u001b[49m\u001b[43mmeshcat\u001b[49m\u001b[43m,\u001b[49m\u001b[43m \u001b[49m\u001b[43mscenario\u001b[49m\u001b[43m,\u001b[49m\u001b[43m \u001b[49m\u001b[43mtraj\u001b[49m\u001b[43m)\u001b[49m\n\u001b[1;32m    239\u001b[0m     diagram \u001b[38;5;241m=\u001b[39m builder\u001b[38;5;241m.\u001b[39mBuild() \u001b[38;5;66;03m# IMPT: must build the diagram before visualizing it\u001b[39;00m\n\u001b[1;32m    240\u001b[0m     diagram\u001b[38;5;241m.\u001b[39mset_name(\u001b[38;5;124m\"\u001b[39m\u001b[38;5;124mdiagram\u001b[39m\u001b[38;5;124m\"\u001b[39m)\n",
                        "File \u001b[0;32m~/work/manipulation/project/hw.py:188\u001b[0m, in \u001b[0;36minit_builder\u001b[0;34m(meshcat, scenario, traj)\u001b[0m\n\u001b[1;32m    184\u001b[0m time_step \u001b[38;5;241m=\u001b[39m \u001b[38;5;241m1e-3\u001b[39m\n\u001b[1;32m    186\u001b[0m builder \u001b[38;5;241m=\u001b[39m DiagramBuilder()\n\u001b[0;32m--> 188\u001b[0m station \u001b[38;5;241m=\u001b[39m builder\u001b[38;5;241m.\u001b[39mAddSystem(\u001b[43mMakeHardwareStation\u001b[49m\u001b[43m(\u001b[49m\n\u001b[1;32m    189\u001b[0m \u001b[43m    \u001b[49m\u001b[43mscenario\u001b[49m\u001b[43m,\u001b[49m\u001b[43m \u001b[49m\u001b[43mmeshcat\u001b[49m\u001b[43m,\u001b[49m\u001b[43m \u001b[49m\u001b[43mpackage_xmls\u001b[49m\u001b[38;5;241;43m=\u001b[39;49m\u001b[43m[\u001b[49m\u001b[43mos\u001b[49m\u001b[38;5;241;43m.\u001b[39;49m\u001b[43mgetcwd\u001b[49m\u001b[43m(\u001b[49m\u001b[43m)\u001b[49m\u001b[43m \u001b[49m\u001b[38;5;241;43m+\u001b[39;49m\u001b[43m \u001b[49m\u001b[38;5;124;43m\"\u001b[39;49m\u001b[38;5;124;43m/package.xml\u001b[39;49m\u001b[38;5;124;43m\"\u001b[39;49m\u001b[43m]\u001b[49m\u001b[43m)\u001b[49m\n\u001b[1;32m    190\u001b[0m )\n\u001b[1;32m    192\u001b[0m plant \u001b[38;5;241m=\u001b[39m station\u001b[38;5;241m.\u001b[39mGetSubsystemByName(\u001b[38;5;124m\"\u001b[39m\u001b[38;5;124mplant\u001b[39m\u001b[38;5;124m\"\u001b[39m)\n\u001b[1;32m    193\u001b[0m gripper_frame \u001b[38;5;241m=\u001b[39m plant\u001b[38;5;241m.\u001b[39mGetFrameByName(\u001b[38;5;124m\"\u001b[39m\u001b[38;5;124mbody\u001b[39m\u001b[38;5;124m\"\u001b[39m)\n",
                        "File \u001b[0;32m/usr/local/lib/python3.10/dist-packages/manipulation/station.py:932\u001b[0m, in \u001b[0;36mMakeHardwareStation\u001b[0;34m(scenario, meshcat, package_xmls, hardware, parser_preload_callback, parser_prefinalize_callback, prebuild_callback)\u001b[0m\n\u001b[1;32m    929\u001b[0m     parser_preload_callback(parser)\n\u001b[1;32m    931\u001b[0m \u001b[38;5;66;03m# Add model directives.\u001b[39;00m\n\u001b[0;32m--> 932\u001b[0m added_models \u001b[38;5;241m=\u001b[39m \u001b[43mProcessModelDirectives\u001b[49m\u001b[43m(\u001b[49m\n\u001b[1;32m    933\u001b[0m \u001b[43m    \u001b[49m\u001b[43mdirectives\u001b[49m\u001b[38;5;241;43m=\u001b[39;49m\u001b[43mModelDirectives\u001b[49m\u001b[43m(\u001b[49m\u001b[43mdirectives\u001b[49m\u001b[38;5;241;43m=\u001b[39;49m\u001b[43mscenario\u001b[49m\u001b[38;5;241;43m.\u001b[39;49m\u001b[43mdirectives\u001b[49m\u001b[43m)\u001b[49m\u001b[43m,\u001b[49m\n\u001b[1;32m    934\u001b[0m \u001b[43m    \u001b[49m\u001b[43mparser\u001b[49m\u001b[38;5;241;43m=\u001b[39;49m\u001b[43mparser\u001b[49m\u001b[43m,\u001b[49m\n\u001b[1;32m    935\u001b[0m \u001b[43m\u001b[49m\u001b[43m)\u001b[49m\n\u001b[1;32m    937\u001b[0m \u001b[38;5;28;01mif\u001b[39;00m parser_prefinalize_callback:\n\u001b[1;32m    938\u001b[0m     parser_prefinalize_callback(parser)\n",
                        "\u001b[0;31mRuntimeError\u001b[0m: The OBJ file contains multiple objects; only OBJs with a single object are supported: File name: '/datasets/_deepnote_work/manipulation/project/objects/ovenV1.obj'"
                    ]
                }
            ],
            "outputs_reference": "s3:deepnote-cell-outputs-production/a6fb8fc9-890f-4182-89e0-3fed6034a39c",
            "content_dependencies": null
        },
        {
            "cell_type": "markdown",
            "metadata": {
                "formattedRanges": [],
                "cell_id": "1bd871b6daa34340ada2d39738378187",
                "deepnote_cell_type": "text-cell-p"
            },
            "source": "sim runs in 1min -> oven not fixed yet, with 1 ingredient each ",
            "block_group": "b422a7ec61154c7c90a240874e536450"
        },
        {
            "cell_type": "code",
            "metadata": {
                "source_hash": "ed56759c",
                "execution_start": 1733347678230,
                "execution_millis": 465060,
                "execution_context_id": "3585424f-0eb6-4fc6-ad34-8123d0044f98",
                "deepnote_to_be_reexecuted": true,
                "cell_id": "dbf2d7801f1b4b5e93b5d1d93c8dac5d",
                "deepnote_cell_type": "code"
            },
            "source": "hw.fix_base_pos(controller.get_parameters(), 3*[True]) # z is locked to 25 cm.\n# hw.create_painter_trajectory(diagram,meshcat)\n\nhw.run_simulation(meshcat,sim,20)",
            "block_group": "a1d3bc984de34efe8969dec40efd150d",
            "execution_count": 5,
            "outputs": [
                {
                    "name": "stderr",
                    "text": "WARNING:drake:Meshcat: An obj referenced a material library 'DWG000509' that Meshcat could not open; no materials will be included. Obj: '/datasets/_deepnote_work/manipulation/project/objects/serving_shelf.obj'.\nWARNING:drake:Meshcat: An obj referenced a material library 'stainless' that Meshcat could not open; no materials will be included. Obj: '/datasets/_deepnote_work/manipulation/project/objects/mixing_bowl.obj'.\nWARNING:drake:Meshcat: An obj referenced a material library 'stainless' that Meshcat could not open; no materials will be included. Obj: '/datasets/_deepnote_work/manipulation/project/objects/mixing_bowl.obj'.\nWARNING:drake:Meshcat: An obj referenced a material library 'stainless' that Meshcat could not open; no materials will be included. Obj: '/datasets/_deepnote_work/manipulation/project/objects/mixing_bowl.obj'.\nWARNING:drake:Meshcat: An obj referenced a material library 'mushroom_slice.mtl' that Meshcat could not open; no materials will be included. Obj: '/datasets/_deepnote_work/manipulation/project/objects/mush_slice.obj'.\nWARNING:drake:Meshcat: An obj referenced a material library 'mushroom_slice.mtl' that Meshcat could not open; no materials will be included. Obj: '/datasets/_deepnote_work/manipulation/project/objects/mush_slice.obj'.\nWARNING:drake:Meshcat: An obj referenced a material library 'mushroom_slice.mtl' that Meshcat could not open; no materials will be included. Obj: '/datasets/_deepnote_work/manipulation/project/objects/mush_slice.obj'.\nWARNING:drake:Meshcat: An obj referenced a material library 'mushroom_slice.mtl' that Meshcat could not open; no materials will be included. Obj: '/datasets/_deepnote_work/manipulation/project/objects/mush_slice.obj'.\nWARNING:drake:Meshcat: An obj referenced a material library 'mushroom_slice.mtl' that Meshcat could not open; no materials will be included. Obj: '/datasets/_deepnote_work/manipulation/project/objects/mush_slice.obj'.\nWARNING:drake:Meshcat: An obj referenced a material library 'mushroom_slice.mtl' that Meshcat could not open; no materials will be included. Obj: '/datasets/_deepnote_work/manipulation/project/objects/mush_slice.obj'.\nWARNING:drake:Meshcat: An obj referenced a material library 'mushroom_slice.mtl' that Meshcat could not open; no materials will be included. Obj: '/datasets/_deepnote_work/manipulation/project/objects/mush_slice.obj'.\nWARNING:drake:Meshcat: An obj referenced a material library 'mushroom_slice.mtl' that Meshcat could not open; no materials will be included. Obj: '/datasets/_deepnote_work/manipulation/project/objects/mush_slice.obj'.\nWARNING:drake:Meshcat: An obj referenced a material library 'mushroom_slice.mtl' that Meshcat could not open; no materials will be included. Obj: '/datasets/_deepnote_work/manipulation/project/objects/mush_slice.obj'.\nWARNING:drake:Meshcat: An obj referenced a material library 'mushroom_slice.mtl' that Meshcat could not open; no materials will be included. Obj: '/datasets/_deepnote_work/manipulation/project/objects/mush_slice.obj'.\nWARNING:drake:Meshcat: An obj referenced a material library 'mushroom_slice.mtl' that Meshcat could not open; no materials will be included. Obj: '/datasets/_deepnote_work/manipulation/project/objects/mush_slice.obj'.\nWARNING:drake:Meshcat: An obj referenced a material library 'mushroom_slice.mtl' that Meshcat could not open; no materials will be included. Obj: '/datasets/_deepnote_work/manipulation/project/objects/mush_slice.obj'.\nWARNING:drake:Meshcat: An obj referenced a material library 'mushroom_slice.mtl' that Meshcat could not open; no materials will be included. Obj: '/datasets/_deepnote_work/manipulation/project/objects/mush_slice.obj'.\nWARNING:drake:Meshcat: An obj referenced a material library 'mushroom_slice.mtl' that Meshcat could not open; no materials will be included. Obj: '/datasets/_deepnote_work/manipulation/project/objects/mush_slice.obj'.\nWARNING:drake:Meshcat: An obj referenced a material library 'mushroom_slice.mtl' that Meshcat could not open; no materials will be included. Obj: '/datasets/_deepnote_work/manipulation/project/objects/mush_slice.obj'.\nWARNING:drake:Meshcat: An obj referenced a material library 'mushroom_slice.mtl' that Meshcat could not open; no materials will be included. Obj: '/datasets/_deepnote_work/manipulation/project/objects/mush_slice.obj'.\nWARNING:drake:Meshcat: An obj referenced a material library 'mushroom_slice.mtl' that Meshcat could not open; no materials will be included. Obj: '/datasets/_deepnote_work/manipulation/project/objects/mush_slice.obj'.\nWARNING:drake:Meshcat: An obj referenced a material library 'mushroom_slice.mtl' that Meshcat could not open; no materials will be included. Obj: '/datasets/_deepnote_work/manipulation/project/objects/mush_slice.obj'.\nWARNING:drake:Meshcat: An obj referenced a material library 'mushroom_slice.mtl' that Meshcat could not open; no materials will be included. Obj: '/datasets/_deepnote_work/manipulation/project/objects/mush_slice.obj'.\nWARNING:drake:Meshcat: An obj referenced a material library 'mushroom_slice.mtl' that Meshcat could not open; no materials will be included. Obj: '/datasets/_deepnote_work/manipulation/project/objects/mush_slice.obj'.\nWARNING:drake:Differential IK started returning status:\"no solution\" at time 0.\n",
                    "output_type": "stream"
                }
            ],
            "outputs_reference": "s3:deepnote-cell-outputs-production/d4aa2887-9d37-460e-8920-e5a76b9f9794",
            "content_dependencies": null
        },
        {
            "cell_type": "markdown",
            "metadata": {
                "cell_id": "29080e48d99243c89c5aca1cc3e15ea6",
                "deepnote_cell_type": "markdown"
            },
            "source": "### trajectory 1: simple move to bowl",
            "block_group": "fc477bc5afa440fbb85c28d12070699c"
        },
        {
            "cell_type": "code",
            "metadata": {
                "source_hash": "dbddcdff",
                "execution_start": 1733348143338,
                "execution_millis": 0,
                "execution_context_id": "f09504d9-9bf5-414b-9470-cf78484e2dfc",
                "deepnote_to_be_reexecuted": true,
                "cell_id": "c9177cf518b14ef0beaa52fad37f9ae9",
                "deepnote_cell_type": "code"
            },
            "source": "# # TODO(mattg): move this into some sort of planner system that can move between states.\n\n# reload(traj)\n\n# diagram,sim = hw.init_diagram(meshcat,scenario)\n# traj1 = traj.traj_linear_move_to_bowl_0(diagram)\n# meshcat.Delete()\n\n# diagram,sim = hw.init_diagram(meshcat,scenario,traj1)\n\n# # problem: we're missing a way to actually pass new trajectories into the robot.\n\n# # pose_source = diagram.GetSubsystemByName(\"hw.PoseTrajectorySource@00007fc3283167c0\")",
            "block_group": "a720f2fa5ba74a819d301aaf18869e19",
            "execution_count": 6,
            "outputs": [],
            "outputs_reference": null,
            "content_dependencies": null
        },
        {
            "cell_type": "code",
            "metadata": {
                "source_hash": "3a0f3c06",
                "execution_start": 1733348143390,
                "execution_millis": 0,
                "execution_context_id": "49e27375-cfc9-4eaa-92a5-602efaf8a1d9",
                "deepnote_to_be_reexecuted": true,
                "cell_id": "f2670ededafc455795b7e5229ce5c649",
                "deepnote_cell_type": "code"
            },
            "source": "# hw.run_simulation(meshcat,sim,20)",
            "block_group": "7448d14b4f88497787a69326f0915138",
            "execution_count": 7,
            "outputs": [],
            "outputs_reference": null,
            "content_dependencies": null
        },
        {
            "cell_type": "markdown",
            "metadata": {
                "cell_id": "409dd5779e144e4cb54f8fd5c6d25b40",
                "deepnote_cell_type": "markdown"
            },
            "source": "## State Machine (WIP)",
            "block_group": "b53f11a7650e46b393cdbfd2ee59ed62"
        },
        {
            "cell_type": "code",
            "metadata": {
                "source_hash": "70cb195d",
                "execution_start": 1733348143526,
                "execution_millis": 0,
                "execution_context_id": "49e27375-cfc9-4eaa-92a5-602efaf8a1d9",
                "deepnote_to_be_reexecuted": true,
                "cell_id": "d894da3b6dcf4e6a9d274335ee9c5057",
                "deepnote_cell_type": "code"
            },
            "source": "# class PizzaRobotState(Enum):\n#     \"\"\"FSM state enumeration\"\"\"\n\n#     PLAN_IIWA_PAINTER = 0\n#     EXECUTE_IIWA_PAINTER = 1\n#     FINISHED = 2\n\n\n# class PizzaPlanner(LeafSystem):\n#     def __init__(\n#             self,\n#             num_joint_positions: int\n#         ):\n#         \"\"\"\n#         Args: \n#             (blank for now)\n\n#         Adapted from OpenLoopPlanarPushingPlanner (github user nepfaff/iiwa_setup).\n#         \"\"\"\n#         super().__init__()\n\n#         self._is_finished = False # encodes that we've reached goal state\n\n#         # internal state\n#         self._fsm_state_idx = int(\n#             self.DeclareAbstractState(\n#                 AbstractValue.Make(PizzaRobotState.PLAN_IIWA_PAINTER)\n#             )\n#         )\n#         \"\"\"current FSM state\"\"\"\n\n#         self._current_iiwa_positions_idx = int(\n#             self.DeclareDiscreteState(num_joint_positions)\n#         )\n#         \"\"\"The current iiwa positions. These are used to command the robot to stay idle.\"\"\"\n\n#         self._current_pose_trajectory_idx = int(\n#             self.DeclareAbstractState(\n#                 AbstractValue.Make(PiecewisePoseWithTimingInformation())\n#             )\n#         )\n#         \"\"\"The current pose trajectory.\"\"\"\n\n\n\n#         # input ports\n#         self._iiwa_state_estimated_input_port = self.DeclareVectorInputPort(\n#             \"mobile_iiwa.estimated_state\", num_joint_positions*2 # positions and velocities\n#         )\n\n#         # output ports\n\n#     def _get_current_iiwa_positions(\n#         self, context: Context, output: BasicVector\n#     ) -> None:\n#         positions = context.get_discrete_state(\n#             self._current_iiwa_positions_idx\n#         ).get_value()\n#         output.set_value(positions)\n\n#     def _initialize_discrete_state(\n#         self, context: Context, discrete_values: DiscreteValues\n#     ) -> None:\n#         # Initialize the current iiwa positions\n#         discrete_values.set_value(\n#             self._current_iiwa_positions_idx,\n#             self._iiwa_position_measured_input_port.Eval(context),\n#         )\n\n#     # plan move to home location\n#     def _plan_iiwa_painter(self,context: Context) -> PathParameterizedTrajectory:\n#         pass\n\n#     # iiwa painter trajectory\n#     def _execute_iiwa_painter(self, context: Context):\n#         pass\n\n\n\n#     def _run_fsm_logic(self, context: Context, state: State) -> None:\n#         \"\"\"FSM state transition logic.\"\"\"\n#         current_time = context.get_time()\n#         timing_information: OpenLoopPlanarPushingPlanarTimingInformation = (\n#             context.get_mutable_abstract_state(self._timing_information_idx).get_value()\n#         )\n\n#         mutable_fsm_state = state.get_mutable_abstract_state(self._fsm_state_idx)\n#         fsm_state_value: PizzaRobotState = context.get_abstract_state(\n#             self._fsm_state_idx\n#         ).get_value()\n\n#         if fsm_state_value == PizzaRobotState.PLAN_IIWA_PAINTER:\n#             logging.info(\"Current state: PLAN_IIWA_PAINTER\")\n\n#             # for now, this state just inits the robot position at the start time.\n            \n            \n\n\n#             # q_traj = self._plan_move_to_start(context)\n#             # state.get_mutable_abstract_state(self._current_joint_traj_idx).set_value(\n#             #     TrajectoryWithTimingInformation(\n#             #         trajectory=q_traj,\n#             #         start_time_s=timing_information.start_move_to_start,\n#             #     )\n#             # )\n#             # timing_information.end_move_to_start = (\n#             #     timing_information.start_move_to_start + q_traj.end_time()\n#             # )\n#             # state.get_mutable_abstract_state(self._timing_information_idx).set_value(\n#             #     timing_information\n#             # )\n\n#             logging.info(\"Transitioning to EXECUTE_IIWA_PAINTER FSM state.\")\n#             mutable_fsm_state.set_value(PizzaRobotState.EXECUTE_IIWA_PAINTER)\n\n#         elif fsm_state_value == PizzaRobotState.EXECUTE_IIWA_PAINTER:\n\n#             # this is where we would actually execute the \n#             # traj0 = hw.create_painter_trajectory(diagram,meshcat,context)\n\n#             logging.info(\"Transitioning to FINISHED FSM state\")\n\n\n#         elif fsm_state_value == PizzaRobotState.FINISHED:\n\n#             self._is_finished = True\n\n#         else:\n#             logging.error(f\"Invalid FSM state: {fsm_state_value}\")\n#             exit(1)\n\n    \n\n#     def is_finished(self) -> bool:\n#         \"\"\"Returns True if the task has been completed and False otherwise.\"\"\"\n#         return self._is_finished\n\n\n\n\n",
            "block_group": "bf9d595f4fec4e17a5c6c8f46cae270e",
            "execution_count": 8,
            "outputs": [],
            "outputs_reference": null,
            "content_dependencies": null
        },
        {
            "cell_type": "markdown",
            "metadata": {
                "cell_id": "582337b267264f6f9ea6c3e8953fece7",
                "deepnote_cell_type": "markdown"
            },
            "source": "## scratch code",
            "block_group": "b5436ab50fff4ea39b09ebade9886184"
        },
        {
            "cell_type": "markdown",
            "metadata": {
                "cell_id": "77e5ea715a0343648cbb578cc6ef3882",
                "deepnote_cell_type": "markdown"
            },
            "source": "### gets the name of the robot's joints",
            "block_group": "790edb12ece842c79b49f710a8c1fe8a"
        },
        {
            "cell_type": "code",
            "metadata": {
                "source_hash": "83a9b230",
                "execution_start": 1733348143578,
                "execution_millis": 0,
                "execution_context_id": "49e27375-cfc9-4eaa-92a5-602efaf8a1d9",
                "deepnote_to_be_reexecuted": true,
                "cell_id": "25be8eb60ae04300a6c425d55672afa3",
                "deepnote_cell_type": "code"
            },
            "source": "\n# plant = diagram.GetSubsystemByName(\"station\").GetSubsystemByName(\"plant\")\n\n# for index in plant.GetJointIndices():\n#     print(plant.get_joint(index).name())",
            "block_group": "62c9f9cbc10743e0805be562bc1626f6",
            "execution_count": 9,
            "outputs": [],
            "outputs_reference": null,
            "content_dependencies": null
        },
        {
            "cell_type": "code",
            "metadata": {
                "source_hash": "f4b0378b",
                "execution_start": 1733348143626,
                "execution_millis": 0,
                "execution_context_id": "49e27375-cfc9-4eaa-92a5-602efaf8a1d9",
                "deepnote_to_be_reexecuted": true,
                "cell_id": "2de649b1cdb64763a55d3aed7f73fc2f",
                "deepnote_cell_type": "code"
            },
            "source": "\n\n# print(controller.get_parameters().get_joint_position_limits())\n\n# print(f\"after running: {controller.get_parameters().get_joint_position_limits()}\")\n\n# hw.run_simulation(meshcat,sim,10)",
            "block_group": "2c1eb04ae4754acfb3813e38f8c0da67",
            "execution_count": 10,
            "outputs": [],
            "outputs_reference": null,
            "content_dependencies": null
        },
        {
            "cell_type": "markdown",
            "source": "<a style='text-decoration:none;line-height:16px;display:flex;color:#5B5B62;padding:10px;justify-content:end;' href='https://deepnote.com?utm_source=created-in-deepnote-cell&projectId=92fbdad2-a4a9-4ef8-b493-c307060b34a1' target=\"_blank\">\n<img alt='Created in deepnote.com' style='display:inline;max-height:16px;margin:0px;margin-right:7.5px;' src='data:image/svg+xml;base64,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' > </img>\nCreated in <span style='font-weight:600;margin-left:4px;'>Deepnote</span></a>",
            "metadata": {
                "created_in_deepnote_cell": true,
                "deepnote_cell_type": "markdown"
            }
        }
    ],
    "nbformat": 4,
    "nbformat_minor": 0,
    "metadata": {
        "deepnote_notebook_id": "5278fee73b75433ca3c1a94eacc1be8b"
    }
}