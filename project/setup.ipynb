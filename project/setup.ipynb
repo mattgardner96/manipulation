{
 "cells": [
  {
   "cell_type": "code",
   "execution_count": 17,
   "metadata": {},
   "outputs": [],
   "source": [
    "import os\n",
    "import numpy as np\n",
    "import env_ingredient_add as env\n",
    "import hw\n",
    "import trajectories as traj\n",
    "from importlib import reload\n",
    "from enum import Enum\n",
    "\n",
    "def get_scene():\n",
    "    if os.getcwd() == \"/datasets/_deepnote_work/manipulation/project\": \n",
    "        #scene = open(\"/work/manipulation/project/objects/environment_setup.yaml\")\n",
    "        scene = env.get_environment_set_up(no_scene=True,include_driver=True)\n",
    "        xmls = [os.getcwd() + \"/package.xml\", \"/work/manipulation/project/package.xml\"]\n",
    "    else:\n",
    "        #scene = open(\"objects/environment_setup.yaml\") # local setup\n",
    "        scene = env.get_environment_set_up(no_scene=False,include_driver=True)\n",
    "        xmls = [os.getcwd() + \"/package.xml\"]\n",
    "\n",
    "    return scene"
   ]
  },
  {
   "cell_type": "code",
   "execution_count": 18,
   "metadata": {},
   "outputs": [
    {
     "name": "stderr",
     "output_type": "stream",
     "text": [
      "INFO:drake:Meshcat listening for connections at http://localhost:7004\n"
     ]
    }
   ],
   "source": [
    "reload(env)\n",
    "scenario = hw.LoadScenario(data=get_scene())\n",
    "meshcat = hw.StartMeshcat()"
   ]
  },
  {
   "cell_type": "markdown",
   "metadata": {},
   "source": [
    "### trajectory 0: iiwa_painter"
   ]
  },
  {
   "cell_type": "code",
   "execution_count": 19,
   "metadata": {},
   "outputs": [
    {
     "name": "stderr",
     "output_type": "stream",
     "text": [
      "WARNING:drake:warning: material [ 'mat0' ] not found in .mtl\n",
      "material [ 'mat1' ] not found in .mtl\n",
      "material [ 'mat1' ] not found in .mtl\n",
      "\n",
      "WARNING:drake:warning: material [ 'material_0' ] not found in .mtl\n",
      "\n",
      "WARNING:drake:warning: material [ 'material_0' ] not found in .mtl\n",
      "\n",
      "WARNING:drake:warning: material [ 'Tinta' ] not found in .mtl\n",
      "material [ 'Tinta' ] not found in .mtl\n",
      "material [ 'Tinta' ] not found in .mtl\n",
      "material [ 'Tinta' ] not found in .mtl\n",
      "material [ 'Tinta' ] not found in .mtl\n",
      "material [ 'Tinta' ] not found in .mtl\n",
      "material [ 'Tinta' ] not found in .mtl\n",
      "material [ 'Tinta' ] not found in .mtl\n",
      "material [ 'Tinta' ] not found in .mtl\n",
      "material [ 'Tinta' ] not found in .mtl\n",
      "material [ 'Tinta' ] not found in .mtl\n",
      "material [ 'Tinta' ] not found in .mtl\n",
      "material [ 'Tinta' ] not found in .mtl\n",
      "material [ 'Tinta' ] not found in .mtl\n",
      "material [ 'Tinta' ] not found in .mtl\n",
      "material [ 'Tinta' ] not found in .mtl\n",
      "material [ 'Tinta' ] not found in .mtl\n",
      "material [ 'Tinta' ] not found in .mtl\n",
      "material [ 'Tinta' ] not found in .mtl\n",
      "material [ 'Tinta' ] not found in .mtl\n",
      "material [ 'Tinta' ] not found in .mtl\n",
      "\n",
      "WARNING:drake:warning: material [ '0.647059_0.647059_0.647059_0.000000_0.000000' ] not found in .mtl\n",
      "\n",
      "WARNING:drake:warning: material [ '1.000000_0.952941_0.827451_0.000000_0.000000' ] not found in .mtl\n",
      "\n",
      "WARNING:drake:Drake materials have been assigned to a glTF file. glTF defines its own materials, so post hoc materials will be ignored and should be removed from the model specification. glTF file: '/private/var/tmp/.cache_mattgardner/drake/package_map/bacc01fba8f324b8dce1d15ae98083fa7e61463d0d278df46f198c2e3ae14abd-d542c1cfb057a27398ab0b818609a2edb14ec9c621b58dc2d78af6daa96f8056/iiwa_description/meshes/iiwa14/visual/kuka.gltf'\n",
      "WARNING:drake:Drake materials have been assigned to a glTF file. glTF defines its own materials, so post hoc materials will be ignored and should be removed from the model specification. glTF file: '/private/var/tmp/.cache_mattgardner/drake/package_map/bacc01fba8f324b8dce1d15ae98083fa7e61463d0d278df46f198c2e3ae14abd-d542c1cfb057a27398ab0b818609a2edb14ec9c621b58dc2d78af6daa96f8056/iiwa_description/meshes/iiwa14/visual/link_1.gltf'\n",
      "WARNING:drake:Drake materials have been assigned to a glTF file. glTF defines its own materials, so post hoc materials will be ignored and should be removed from the model specification. glTF file: '/private/var/tmp/.cache_mattgardner/drake/package_map/bacc01fba8f324b8dce1d15ae98083fa7e61463d0d278df46f198c2e3ae14abd-d542c1cfb057a27398ab0b818609a2edb14ec9c621b58dc2d78af6daa96f8056/iiwa_description/meshes/iiwa14/visual/kuka.gltf'\n",
      "WARNING:drake:Drake materials have been assigned to a glTF file. glTF defines its own materials, so post hoc materials will be ignored and should be removed from the model specification. glTF file: '/private/var/tmp/.cache_mattgardner/drake/package_map/bacc01fba8f324b8dce1d15ae98083fa7e61463d0d278df46f198c2e3ae14abd-d542c1cfb057a27398ab0b818609a2edb14ec9c621b58dc2d78af6daa96f8056/iiwa_description/meshes/iiwa14/visual/link_0.gltf'\n",
      "WARNING:drake:Drake materials have been assigned to a glTF file. glTF defines its own materials, so post hoc materials will be ignored and should be removed from the model specification. glTF file: '/private/var/tmp/.cache_mattgardner/drake/package_map/bacc01fba8f324b8dce1d15ae98083fa7e61463d0d278df46f198c2e3ae14abd-d542c1cfb057a27398ab0b818609a2edb14ec9c621b58dc2d78af6daa96f8056/iiwa_description/meshes/iiwa14/visual/band.gltf'\n",
      "WARNING:drake:Drake materials have been assigned to a glTF file. glTF defines its own materials, so post hoc materials will be ignored and should be removed from the model specification. glTF file: '/private/var/tmp/.cache_mattgardner/drake/package_map/bacc01fba8f324b8dce1d15ae98083fa7e61463d0d278df46f198c2e3ae14abd-d542c1cfb057a27398ab0b818609a2edb14ec9c621b58dc2d78af6daa96f8056/iiwa_description/meshes/iiwa14/visual/link_3.gltf'\n",
      "WARNING:drake:Drake materials have been assigned to a glTF file. glTF defines its own materials, so post hoc materials will be ignored and should be removed from the model specification. glTF file: '/private/var/tmp/.cache_mattgardner/drake/package_map/bacc01fba8f324b8dce1d15ae98083fa7e61463d0d278df46f198c2e3ae14abd-d542c1cfb057a27398ab0b818609a2edb14ec9c621b58dc2d78af6daa96f8056/iiwa_description/meshes/iiwa14/visual/band.gltf'\n",
      "WARNING:drake:Drake materials have been assigned to a glTF file. glTF defines its own materials, so post hoc materials will be ignored and should be removed from the model specification. glTF file: '/private/var/tmp/.cache_mattgardner/drake/package_map/bacc01fba8f324b8dce1d15ae98083fa7e61463d0d278df46f198c2e3ae14abd-d542c1cfb057a27398ab0b818609a2edb14ec9c621b58dc2d78af6daa96f8056/iiwa_description/meshes/iiwa14/visual/link_7.gltf'\n",
      "WARNING:drake:Drake materials have been assigned to a glTF file. glTF defines its own materials, so post hoc materials will be ignored and should be removed from the model specification. glTF file: '/private/var/tmp/.cache_mattgardner/drake/package_map/bacc01fba8f324b8dce1d15ae98083fa7e61463d0d278df46f198c2e3ae14abd-d542c1cfb057a27398ab0b818609a2edb14ec9c621b58dc2d78af6daa96f8056/iiwa_description/meshes/iiwa14/visual/link_5.gltf'\n",
      "WARNING:drake:Drake materials have been assigned to a glTF file. glTF defines its own materials, so post hoc materials will be ignored and should be removed from the model specification. glTF file: '/private/var/tmp/.cache_mattgardner/drake/package_map/bacc01fba8f324b8dce1d15ae98083fa7e61463d0d278df46f198c2e3ae14abd-d542c1cfb057a27398ab0b818609a2edb14ec9c621b58dc2d78af6daa96f8056/iiwa_description/meshes/iiwa14/visual/link_4_grey.gltf'\n",
      "WARNING:drake:warning: material [ 'material_0' ] not found in .mtl\n",
      "\n",
      "WARNING:drake:Drake materials have been assigned to a glTF file. glTF defines its own materials, so post hoc materials will be ignored and should be removed from the model specification. glTF file: '/private/var/tmp/.cache_mattgardner/drake/package_map/bacc01fba8f324b8dce1d15ae98083fa7e61463d0d278df46f198c2e3ae14abd-d542c1cfb057a27398ab0b818609a2edb14ec9c621b58dc2d78af6daa96f8056/iiwa_description/meshes/iiwa14/visual/link_6_grey.gltf'\n",
      "WARNING:drake:Drake materials have been assigned to a glTF file. glTF defines its own materials, so post hoc materials will be ignored and should be removed from the model specification. glTF file: '/private/var/tmp/.cache_mattgardner/drake/package_map/bacc01fba8f324b8dce1d15ae98083fa7e61463d0d278df46f198c2e3ae14abd-d542c1cfb057a27398ab0b818609a2edb14ec9c621b58dc2d78af6daa96f8056/iiwa_description/meshes/iiwa14/visual/link_2_orange.gltf'\n",
      "WARNING:drake:Drake materials have been assigned to a glTF file. glTF defines its own materials, so post hoc materials will be ignored and should be removed from the model specification. glTF file: '/private/var/tmp/.cache_mattgardner/drake/package_map/bacc01fba8f324b8dce1d15ae98083fa7e61463d0d278df46f198c2e3ae14abd-d542c1cfb057a27398ab0b818609a2edb14ec9c621b58dc2d78af6daa96f8056/iiwa_description/meshes/iiwa14/visual/link_2_grey.gltf'\n",
      "WARNING:drake:Drake materials have been assigned to a glTF file. glTF defines its own materials, so post hoc materials will be ignored and should be removed from the model specification. glTF file: '/private/var/tmp/.cache_mattgardner/drake/package_map/bacc01fba8f324b8dce1d15ae98083fa7e61463d0d278df46f198c2e3ae14abd-d542c1cfb057a27398ab0b818609a2edb14ec9c621b58dc2d78af6daa96f8056/iiwa_description/meshes/iiwa14/visual/link_6_orange.gltf'\n",
      "WARNING:drake:Drake materials have been assigned to a glTF file. glTF defines its own materials, so post hoc materials will be ignored and should be removed from the model specification. glTF file: '/private/var/tmp/.cache_mattgardner/drake/package_map/bacc01fba8f324b8dce1d15ae98083fa7e61463d0d278df46f198c2e3ae14abd-d542c1cfb057a27398ab0b818609a2edb14ec9c621b58dc2d78af6daa96f8056/iiwa_description/meshes/iiwa14/visual/link_4_orange.gltf'\n"
     ]
    }
   ],
   "source": [
    "reload(env)\n",
    "reload(traj)\n",
    "reload(hw)\n",
    "\n",
    "# at present, trajectory blank doesn't work\n",
    "diagram,sim = hw.init_diagram(meshcat,scenario)\n",
    "# hw.print_diagram(diagram)\n",
    "\n",
    "context = diagram.CreateDefaultContext()\n",
    "\n",
    "controller = diagram.GetSubsystemByName(\"diff_ik_with_params\")\n",
    "plant = diagram.GetSubsystemByName(\"station\").GetSubsystemByName(\"plant\")"
   ]
  },
  {
   "cell_type": "code",
   "execution_count": 20,
   "metadata": {},
   "outputs": [
    {
     "name": "stdout",
     "output_type": "stream",
     "text": [
      "Diagram saved to planner.png\n"
     ]
    }
   ],
   "source": [
    "hw.print_diagram(diagram,output_file=\"planner.png\")"
   ]
  },
  {
   "cell_type": "code",
   "execution_count": 10,
   "metadata": {},
   "outputs": [
    {
     "ename": "RuntimeError",
     "evalue": "InputPort::Eval(): required InputPort[0] (joint_velocity_limits) of System ::diagram::diff_ik_with_params::hw.AddMobileIiwaDifferentialIK.<locals>.ParameterUpdater@00007f9cf5306990 (hw.AddMobileIiwaDifferentialIK.<locals>.ParameterUpdater) is not connected",
     "output_type": "error",
     "traceback": [
      "\u001b[0;31m---------------------------------------------------------------------------\u001b[0m",
      "\u001b[0;31mRuntimeError\u001b[0m                              Traceback (most recent call last)",
      "Cell \u001b[0;32mIn[10], line 4\u001b[0m\n\u001b[1;32m      1\u001b[0m \u001b[38;5;66;03m# hw.fix_base_pos(controller.get_parameters(), 0*[False]+3*[True]) # z is locked to 25 cm.\u001b[39;00m\n\u001b[1;32m      2\u001b[0m \u001b[38;5;66;03m# hw.create_painter_trajectory(diagram,meshcat)\u001b[39;00m\n\u001b[0;32m----> 4\u001b[0m \u001b[43mhw\u001b[49m\u001b[38;5;241;43m.\u001b[39;49m\u001b[43mrun_simulation\u001b[49m\u001b[43m(\u001b[49m\u001b[43mmeshcat\u001b[49m\u001b[43m,\u001b[49m\u001b[43msim\u001b[49m\u001b[43m,\u001b[49m\u001b[38;5;241;43m10\u001b[39;49m\u001b[43m)\u001b[49m\n",
      "File \u001b[0;32m~/source/manipulation/project/hw.py:484\u001b[0m, in \u001b[0;36mrun_simulation\u001b[0;34m(meshcat, simulator, start_time)\u001b[0m\n\u001b[1;32m    480\u001b[0m \u001b[38;5;66;03m# context = self.simulator.get_mutable_context()\u001b[39;00m\n\u001b[1;32m    481\u001b[0m \u001b[38;5;66;03m# x0 = self.station.GetOutputPort(\"mobile_iiwa.state_estimated\").Eval(context)\u001b[39;00m\n\u001b[1;32m    482\u001b[0m \u001b[38;5;66;03m# self.station.GetInputPort(\"mobile_iiwa.desired_state\").FixValue(context, x0)\u001b[39;00m\n\u001b[1;32m    483\u001b[0m meshcat\u001b[38;5;241m.\u001b[39mStartRecording()\n\u001b[0;32m--> 484\u001b[0m \u001b[43msimulator\u001b[49m\u001b[38;5;241;43m.\u001b[39;49m\u001b[43mAdvanceTo\u001b[49m\u001b[43m(\u001b[49m\u001b[43mstart_time\u001b[49m\u001b[43m \u001b[49m\u001b[38;5;28;43;01mif\u001b[39;49;00m\u001b[43m \u001b[49m\u001b[43mrunning_as_notebook\u001b[49m\u001b[43m \u001b[49m\u001b[38;5;28;43;01melse\u001b[39;49;00m\u001b[43m \u001b[49m\u001b[38;5;241;43m0.1\u001b[39;49m\u001b[43m)\u001b[49m\n\u001b[1;32m    485\u001b[0m meshcat\u001b[38;5;241m.\u001b[39mPublishRecording()\n",
      "File \u001b[0;32m~/source/manipulation/project/hw.py:156\u001b[0m, in \u001b[0;36mAddMobileIiwaDifferentialIK.<locals>.ParameterUpdater.UpdateParameters\u001b[0;34m(self, context, state)\u001b[0m\n\u001b[1;32m    153\u001b[0m params \u001b[38;5;241m=\u001b[39m \u001b[38;5;28mself\u001b[39m\u001b[38;5;241m.\u001b[39m_diff_ik_system\u001b[38;5;241m.\u001b[39mget_mutable_parameters()\n\u001b[1;32m    155\u001b[0m \u001b[38;5;66;03m# Update joint velocity limits\u001b[39;00m\n\u001b[0;32m--> 156\u001b[0m joint_velocity_limits \u001b[38;5;241m=\u001b[39m \u001b[38;5;28;43mself\u001b[39;49m\u001b[38;5;241;43m.\u001b[39;49m\u001b[43mget_input_port\u001b[49m\u001b[43m(\u001b[49m\u001b[38;5;241;43m0\u001b[39;49m\u001b[43m)\u001b[49m\u001b[38;5;241;43m.\u001b[39;49m\u001b[43mEval\u001b[49m\u001b[43m(\u001b[49m\u001b[43mcontext\u001b[49m\u001b[43m)\u001b[49m\n\u001b[1;32m    157\u001b[0m n \u001b[38;5;241m=\u001b[39m \u001b[38;5;28mself\u001b[39m\u001b[38;5;241m.\u001b[39m_num_positions\n\u001b[1;32m    158\u001b[0m lower_limits \u001b[38;5;241m=\u001b[39m joint_velocity_limits[:n]\n",
      "\u001b[0;31mRuntimeError\u001b[0m: InputPort::Eval(): required InputPort[0] (joint_velocity_limits) of System ::diagram::diff_ik_with_params::hw.AddMobileIiwaDifferentialIK.<locals>.ParameterUpdater@00007f9cf5306990 (hw.AddMobileIiwaDifferentialIK.<locals>.ParameterUpdater) is not connected"
     ]
    }
   ],
   "source": [
    "# hw.fix_base_pos(controller.get_parameters(), 0*[False]+3*[True]) # z is locked to 25 cm.\n",
    "# hw.create_painter_trajectory(diagram,meshcat)\n",
    "\n",
    "hw.run_simulation(meshcat,sim,10)"
   ]
  },
  {
   "cell_type": "code",
   "execution_count": 130,
   "metadata": {},
   "outputs": [],
   "source": [
    "sim.AdvanceTo(20)\n",
    "meshcat.PublishRecording()"
   ]
  },
  {
   "cell_type": "markdown",
   "metadata": {},
   "source": [
    "## scratch code"
   ]
  },
  {
   "cell_type": "markdown",
   "metadata": {},
   "source": [
    "### gets the name of the robot's joints"
   ]
  },
  {
   "cell_type": "code",
   "execution_count": null,
   "metadata": {},
   "outputs": [],
   "source": [
    "\n",
    "# plant = diagram.GetSubsystemByName(\"station\").GetSubsystemByName(\"plant\")\n",
    "\n",
    "# for index in plant.GetJointIndices():\n",
    "#     print(plant.get_joint(index).name())"
   ]
  },
  {
   "cell_type": "code",
   "execution_count": null,
   "metadata": {},
   "outputs": [],
   "source": [
    "\n",
    "\n",
    "print(controller.get_parameters().get_joint_position_limits())\n",
    "\n",
    "print(f\"after running: {controller.get_parameters().get_joint_position_limits()}\")\n",
    "\n",
    "hw.run_simulation(meshcat,sim,10)"
   ]
  }
 ],
 "metadata": {
  "kernelspec": {
   "display_name": ".venv",
   "language": "python",
   "name": "python3"
  },
  "language_info": {
   "codemirror_mode": {
    "name": "ipython",
    "version": 3
   },
   "file_extension": ".py",
   "mimetype": "text/x-python",
   "name": "python",
   "nbconvert_exporter": "python",
   "pygments_lexer": "ipython3",
   "version": "3.12.4"
  }
 },
 "nbformat": 4,
 "nbformat_minor": 2
}
