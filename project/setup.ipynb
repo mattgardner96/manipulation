{
 "cells": [
  {
   "cell_type": "code",
   "execution_count": null,
   "metadata": {},
   "outputs": [
    {
     "ename": "NameError",
     "evalue": "name 'PoseTrajectorySource' is not defined",
     "output_type": "error",
     "traceback": [
      "\u001b[0;31m---------------------------------------------------------------------------\u001b[0m",
      "\u001b[0;31mNameError\u001b[0m                                 Traceback (most recent call last)",
      "Cell \u001b[0;32mIn[1], line 5\u001b[0m\n\u001b[1;32m      3\u001b[0m \u001b[38;5;28;01mimport\u001b[39;00m \u001b[38;5;21;01mnumpy\u001b[39;00m \u001b[38;5;28;01mas\u001b[39;00m \u001b[38;5;21;01mnp\u001b[39;00m\n\u001b[1;32m      4\u001b[0m \u001b[38;5;28;01mimport\u001b[39;00m \u001b[38;5;21;01menv_ingredient_add\u001b[39;00m \u001b[38;5;28;01mas\u001b[39;00m \u001b[38;5;21;01menv\u001b[39;00m\n\u001b[0;32m----> 5\u001b[0m \u001b[38;5;28;01mimport\u001b[39;00m \u001b[38;5;21;01mtrajectories\u001b[39;00m \u001b[38;5;28;01mas\u001b[39;00m \u001b[38;5;21;01mtraj\u001b[39;00m\n\u001b[1;32m      6\u001b[0m \u001b[38;5;28;01mfrom\u001b[39;00m \u001b[38;5;21;01mimportlib\u001b[39;00m \u001b[38;5;28;01mimport\u001b[39;00m reload\n\u001b[1;32m      8\u001b[0m \u001b[38;5;28;01mdef\u001b[39;00m \u001b[38;5;21mget_scene\u001b[39m():\n",
      "File \u001b[0;32m~/source/manipulation/project/trajectories.py:15\u001b[0m\n\u001b[1;32m      7\u001b[0m \u001b[38;5;28;01mfrom\u001b[39;00m \u001b[38;5;21;01mdataclasses\u001b[39;00m \u001b[38;5;28;01mimport\u001b[39;00m dataclass\n\u001b[1;32m      8\u001b[0m \u001b[38;5;28;01mfrom\u001b[39;00m \u001b[38;5;21;01mpydrake\u001b[39;00m\u001b[38;5;21;01m.\u001b[39;00m\u001b[38;5;21;01mall\u001b[39;00m \u001b[38;5;28;01mimport\u001b[39;00m PiecewisePolynomial, PiecewisePose, Trajectory\n\u001b[1;32m     11\u001b[0m \u001b[38;5;28;01mdef\u001b[39;00m \u001b[38;5;21mtraj_linear_move_to_bowl_0\u001b[39m(\n\u001b[1;32m     12\u001b[0m         diagram,\n\u001b[1;32m     13\u001b[0m         context\u001b[38;5;241m=\u001b[39m\u001b[38;5;28;01mNone\u001b[39;00m,\n\u001b[1;32m     14\u001b[0m         move_time\u001b[38;5;241m=\u001b[39m\u001b[38;5;241m10\u001b[39m \u001b[38;5;66;03m# seconds\u001b[39;00m\n\u001b[0;32m---> 15\u001b[0m     ) \u001b[38;5;241m-\u001b[39m\u001b[38;5;241m>\u001b[39m \u001b[43mPoseTrajectorySource\u001b[49m:\n\u001b[1;32m     16\u001b[0m     \u001b[38;5;28;01mif\u001b[39;00m context \u001b[38;5;129;01mis\u001b[39;00m \u001b[38;5;28;01mNone\u001b[39;00m:\n\u001b[1;32m     17\u001b[0m         context \u001b[38;5;241m=\u001b[39m diagram\u001b[38;5;241m.\u001b[39mCreateDefaultContext()\n",
      "\u001b[0;31mNameError\u001b[0m: name 'PoseTrajectorySource' is not defined"
     ]
    }
   ],
   "source": [
    "import os\n",
    "import hw\n",
    "import numpy as np\n",
    "import env_ingredient_add as env\n",
    "from hw import PoseTrajectorySource\n",
    "import trajectories as traj\n",
    "from importlib import reload\n",
    "\n",
    "def get_scene():\n",
    "    if os.getcwd() == \"/datasets/_deepnote_work/manipulation/project\": \n",
    "        #scene = open(\"/work/manipulation/project/objects/environment_setup.yaml\")\n",
    "        scene = env.get_environment_set_up(no_scene=True,include_driver=True)\n",
    "        xmls = [os.getcwd() + \"/package.xml\", \"/work/manipulation/project/package.xml\"]\n",
    "    else:\n",
    "        #scene = open(\"objects/environment_setup.yaml\") # local setup\n",
    "        scene = env.get_environment_set_up(no_scene=False,include_driver=True)\n",
    "        xmls = [os.getcwd() + \"/package.xml\"]\n",
    "\n",
    "    return scene"
   ]
  },
  {
   "cell_type": "code",
   "execution_count": 77,
   "metadata": {},
   "outputs": [
    {
     "name": "stderr",
     "output_type": "stream",
     "text": [
      "INFO:drake:Meshcat listening for connections at http://localhost:7005\n"
     ]
    }
   ],
   "source": [
    "scenario = hw.LoadScenario(data=get_scene())\n",
    "meshcat = hw.StartMeshcat()"
   ]
  },
  {
   "cell_type": "markdown",
   "metadata": {},
   "source": [
    "### trajectory 0: iiwa_painter"
   ]
  },
  {
   "cell_type": "code",
   "execution_count": 83,
   "metadata": {},
   "outputs": [],
   "source": [
    "reload(env)\n",
    "reload(hw)\n",
    "\n",
    "# at present, trajectory blank doesn't work\n",
    "diagram,sim = hw.init_diagram(meshcat,scenario)\n",
    "# hw.print_diagram(diagram)\n",
    "\n",
    "context = diagram.CreateDefaultContext()\n",
    "traj0 = hw.create_painter_trajectory(diagram,meshcat,context)\n",
    "\n",
    "meshcat.Delete()\n",
    "diagram,sim = hw.init_diagram(meshcat,scenario,traj0)\n",
    "controller = diagram.GetSubsystemByName(\"diff_ik_integrator\")\n"
   ]
  },
  {
   "cell_type": "code",
   "execution_count": null,
   "metadata": {},
   "outputs": [],
   "source": [
    "hw.fix_base_pos(controller.get_parameters(), 3*[True]) # z is locked to 25 cm.\n",
    "# hw.create_painter_trajectory(diagram,meshcat)\n",
    "\n",
    "hw.run_simulation(meshcat,sim,20)"
   ]
  },
  {
   "cell_type": "markdown",
   "metadata": {},
   "source": [
    "### trajectory 1: simple move to bowl"
   ]
  },
  {
   "cell_type": "code",
   "execution_count": 73,
   "metadata": {},
   "outputs": [],
   "source": [
    "# TODO(mattg): move this into some sort of planner system that can move between states.\n",
    "\n",
    "reload(traj)\n",
    "\n",
    "diagram,sim = hw.init_diagram(meshcat,scenario)\n",
    "traj1 = traj.traj_linear_move_to_bowl_0(diagram)\n",
    "meshcat.Delete()\n",
    "\n",
    "diagram,sim = hw.init_diagram(meshcat,scenario,traj1)\n",
    "\n",
    "# problem: we're missing a way to actually pass new trajectories into the robot.\n",
    "\n",
    "# pose_source = diagram.GetSubsystemByName(\"hw.PoseTrajectorySource@00007fc3283167c0\")"
   ]
  },
  {
   "cell_type": "code",
   "execution_count": 55,
   "metadata": {},
   "outputs": [
    {
     "name": "stderr",
     "output_type": "stream",
     "text": [
      "WARNING:drake:Meshcat: An obj referenced a material library 'DWG000509' that Meshcat could not open; no materials will be included. Obj: '/Users/mattgardner/source/manipulation/project/objects/serving_shelf.obj'.\n",
      "WARNING:drake:Meshcat: An obj referenced a material library 'stainless' that Meshcat could not open; no materials will be included. Obj: '/Users/mattgardner/source/manipulation/project/objects/mixing_bowl.obj'.\n",
      "WARNING:drake:Meshcat: An obj referenced a material library 'stainless' that Meshcat could not open; no materials will be included. Obj: '/Users/mattgardner/source/manipulation/project/objects/mixing_bowl.obj'.\n",
      "WARNING:drake:Meshcat: An obj referenced a material library 'stainless' that Meshcat could not open; no materials will be included. Obj: '/Users/mattgardner/source/manipulation/project/objects/mixing_bowl.obj'.\n",
      "WARNING:drake:Differential IK started returning status:\"stuck\" at time 4.963.\n",
      "WARNING:drake:Differential IK started finding solutions again at time 5.111.\n"
     ]
    }
   ],
   "source": [
    "hw.run_simulation(meshcat,sim,20)"
   ]
  },
  {
   "cell_type": "markdown",
   "metadata": {},
   "source": [
    "## State Machine (WIP)"
   ]
  },
  {
   "cell_type": "code",
   "execution_count": null,
   "metadata": {},
   "outputs": [],
   "source": [
    "class PizzaRobotState(Enum):\n",
    "    \"\"\"FSM state enumeration\"\"\"\n",
    "\n",
    "    PLAN_IIWA_PAINTER = 0\n",
    "    EXECUTE_IIWA_PAINTER = 1\n",
    "    FINISHED = 2\n",
    "\n",
    "\n",
    "class PizzaPlanner(LeafSystem):\n",
    "    def __init__(\n",
    "            self,\n",
    "            num_joint_positions: int\n",
    "        ):\n",
    "        \"\"\"\n",
    "        Args: \n",
    "            (blank for now)\n",
    "\n",
    "        Adapted from OpenLoopPlanarPushingPlanner (github user nepfaff/iiwa_setup).\n",
    "        \"\"\"\n",
    "        super().__init__()\n",
    "\n",
    "        self._is_finished = False # encodes that we've reached goal state\n",
    "\n",
    "        # internal state\n",
    "        self._fsm_state_idx = int(\n",
    "            self.DeclareAbstractState(\n",
    "                AbstractValue.Make(PizzaRobotState.PLAN_IIWA_PAINTER)\n",
    "            )\n",
    "        )\n",
    "        \"\"\"current FSM state\"\"\"\n",
    "\n",
    "        self._current_iiwa_positions_idx = int(\n",
    "            self.DeclareDiscreteState(num_joint_positions)\n",
    "        )\n",
    "        \"\"\"The current iiwa positions. These are used to command the robot to stay idle.\"\"\"\n",
    "\n",
    "        self._current_pose_trajectory_idx = int(\n",
    "            self.DeclareAbstractState(\n",
    "                AbstractValue.Make(PiecewisePoseWithTimingInformation())\n",
    "            )\n",
    "        )\n",
    "        \"\"\"The current pose trajectory.\"\"\"\n",
    "\n",
    "\n",
    "\n",
    "        # input ports\n",
    "        self._iiwa_state_estimated_input_port = self.DeclareVectorInputPort(\n",
    "            \"mobile_iiwa.estimated_state\", num_joint_positions*2 # positions and velocities\n",
    "        )\n",
    "\n",
    "        # output ports\n",
    "\n",
    "    def _get_current_iiwa_positions(\n",
    "        self, context: Context, output: BasicVector\n",
    "    ) -> None:\n",
    "        positions = context.get_discrete_state(\n",
    "            self._current_iiwa_positions_idx\n",
    "        ).get_value()\n",
    "        output.set_value(positions)\n",
    "\n",
    "    def _initialize_discrete_state(\n",
    "        self, context: Context, discrete_values: DiscreteValues\n",
    "    ) -> None:\n",
    "        # Initialize the current iiwa positions\n",
    "        discrete_values.set_value(\n",
    "            self._current_iiwa_positions_idx,\n",
    "            self._iiwa_position_measured_input_port.Eval(context),\n",
    "        )\n",
    "\n",
    "    # plan move to home location\n",
    "    def _plan_iiwa_painter(self,context: Context) -> PathParameterizedTrajectory:\n",
    "        pass\n",
    "\n",
    "    # iiwa painter trajectory\n",
    "    def _execute_iiwa_painter(self, context: Context):\n",
    "        pass\n",
    "\n",
    "\n",
    "\n",
    "    def _run_fsm_logic(self, context: Context, state: State) -> None:\n",
    "        \"\"\"FSM state transition logic.\"\"\"\n",
    "        current_time = context.get_time()\n",
    "        timing_information: OpenLoopPlanarPushingPlanarTimingInformation = (\n",
    "            context.get_mutable_abstract_state(self._timing_information_idx).get_value()\n",
    "        )\n",
    "\n",
    "        mutable_fsm_state = state.get_mutable_abstract_state(self._fsm_state_idx)\n",
    "        fsm_state_value: PizzaRobotState = context.get_abstract_state(\n",
    "            self._fsm_state_idx\n",
    "        ).get_value()\n",
    "\n",
    "        if fsm_state_value == PizzaRobotState.PLAN_IIWA_PAINTER:\n",
    "            logging.info(\"Current state: PLAN_IIWA_PAINTER\")\n",
    "\n",
    "            # for now, this state just inits the robot position at the start time.\n",
    "            \n",
    "            \n",
    "\n",
    "\n",
    "            # q_traj = self._plan_move_to_start(context)\n",
    "            # state.get_mutable_abstract_state(self._current_joint_traj_idx).set_value(\n",
    "            #     TrajectoryWithTimingInformation(\n",
    "            #         trajectory=q_traj,\n",
    "            #         start_time_s=timing_information.start_move_to_start,\n",
    "            #     )\n",
    "            # )\n",
    "            # timing_information.end_move_to_start = (\n",
    "            #     timing_information.start_move_to_start + q_traj.end_time()\n",
    "            # )\n",
    "            # state.get_mutable_abstract_state(self._timing_information_idx).set_value(\n",
    "            #     timing_information\n",
    "            # )\n",
    "\n",
    "            logging.info(\"Transitioning to EXECUTE_IIWA_PAINTER FSM state.\")\n",
    "            mutable_fsm_state.set_value(PizzaRobotState.EXECUTE_IIWA_PAINTER)\n",
    "\n",
    "        elif fsm_state_value == PizzaRobotState.EXECUTE_IIWA_PAINTER:\n",
    "\n",
    "            # this is where we would actually execute the \n",
    "            # traj0 = hw.create_painter_trajectory(diagram,meshcat,context)\n",
    "\n",
    "            logging.info(\"Transitioning to FINISHED FSM state\")\n",
    "\n",
    "\n",
    "        elif fsm_state_value == PizzaRobotState.FINISHED:\n",
    "\n",
    "            self._is_finished = True\n",
    "\n",
    "        else:\n",
    "            logging.error(f\"Invalid FSM state: {fsm_state_value}\")\n",
    "            exit(1)\n",
    "\n",
    "    \n",
    "\n",
    "    def is_finished(self) -> bool:\n",
    "        \"\"\"Returns True if the task has been completed and False otherwise.\"\"\"\n",
    "        return self._is_finished\n",
    "\n",
    "\n",
    "\n",
    "\n"
   ]
  },
  {
   "cell_type": "markdown",
   "metadata": {},
   "source": [
    "## scratch code"
   ]
  },
  {
   "cell_type": "markdown",
   "metadata": {},
   "source": [
    "### gets the name of the robot's joints"
   ]
  },
  {
   "cell_type": "code",
   "execution_count": null,
   "metadata": {},
   "outputs": [
    {
     "name": "stdout",
     "output_type": "stream",
     "text": [
      "iiwa_base_x\n",
      "iiwa_base_y\n",
      "iiwa_base_z\n",
      "iiwa_joint_1\n",
      "iiwa_joint_2\n",
      "iiwa_joint_3\n",
      "iiwa_joint_4\n",
      "iiwa_joint_5\n",
      "iiwa_joint_6\n",
      "iiwa_joint_7\n",
      "iiwa_joint_ee\n",
      "tool0_joint\n",
      "left_finger_sliding_joint\n",
      "right_finger_sliding_joint\n",
      "iiwa_link_7_welds_to_body\n"
     ]
    }
   ],
   "source": [
    "\n",
    "# plant = diagram.GetSubsystemByName(\"station\").GetSubsystemByName(\"plant\")\n",
    "\n",
    "# for index in plant.GetJointIndices():\n",
    "#     print(plant.get_joint(index).name())"
   ]
  },
  {
   "cell_type": "code",
   "execution_count": null,
   "metadata": {},
   "outputs": [],
   "source": [
    "\n",
    "\n",
    "print(controller.get_parameters().get_joint_position_limits())\n",
    "\n",
    "print(f\"after running: {controller.get_parameters().get_joint_position_limits()}\")\n",
    "\n",
    "hw.run_simulation(meshcat,sim,10)"
   ]
  }
 ],
 "metadata": {
  "kernelspec": {
   "display_name": ".venv",
   "language": "python",
   "name": "python3"
  },
  "language_info": {
   "codemirror_mode": {
    "name": "ipython",
    "version": 3
   },
   "file_extension": ".py",
   "mimetype": "text/x-python",
   "name": "python",
   "nbconvert_exporter": "python",
   "pygments_lexer": "ipython3",
   "version": "3.12.4"
  }
 },
 "nbformat": 4,
 "nbformat_minor": 2
}
