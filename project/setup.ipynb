{
 "cells": [
  {
   "cell_type": "code",
   "execution_count": null,
   "metadata": {},
   "outputs": [],
   "source": [
    "import os\n",
    "import numpy as np\n",
    "import env_ingredient_add as env\n",
    "import hw\n",
    "import trajectories as traj\n",
    "from importlib import reload\n",
    "from enum import Enum\n",
    "\n",
    "def get_scene():\n",
    "    if os.getcwd() == \"/datasets/_deepnote_work/manipulation/project\": \n",
    "        #scene = open(\"/work/manipulation/project/objects/environment_setup.yaml\")\n",
    "        scene = env.get_environment_set_up(no_scene=True,include_driver=True)\n",
    "        xmls = [os.getcwd() + \"/package.xml\", \"/work/manipulation/project/package.xml\"]\n",
    "    else:\n",
    "        #scene = open(\"objects/environment_setup.yaml\") # local setup\n",
    "        scene = env.get_environment_set_up(no_scene=True,include_driver=True)\n",
    "        xmls = [os.getcwd() + \"/package.xml\"]\n",
    "\n",
    "    return scene\n",
    "\n",
    "meshcat = hw.StartMeshcat()"
   ]
  },
  {
   "cell_type": "code",
   "execution_count": null,
   "metadata": {},
   "outputs": [],
   "source": [
    "reload(env)\n",
    "scenario = hw.LoadScenario(data=get_scene())\n"
   ]
  },
  {
   "cell_type": "markdown",
   "metadata": {},
   "source": [
    "### trajectory 0: iiwa_painter"
   ]
  },
  {
   "cell_type": "code",
   "execution_count": null,
   "metadata": {},
   "outputs": [],
   "source": [
    "reload(env)\n",
    "reload(traj)\n",
    "reload(hw)\n",
    "\n",
    "# at present, trajectory blank doesn't work\n",
    "diagram,sim = hw.init_diagram(meshcat,scenario)\n",
    "# hw.print_diagram(diagram)\n",
    "\n",
    "context = diagram.CreateDefaultContext()\n",
    "\n",
    "controller = diagram.GetSubsystemByName(\"diff_ik_integrator\")\n",
    "plant = diagram.GetSubsystemByName(\"station\").GetSubsystemByName(\"plant\")\n"
   ]
  },
  {
   "cell_type": "code",
   "execution_count": null,
   "metadata": {},
   "outputs": [],
   "source": [
    "# hw.print_diagram(diagram,output_file=\"planner.png\")"
   ]
  },
  {
   "cell_type": "code",
   "execution_count": null,
   "metadata": {},
   "outputs": [],
   "source": [
    "hw.fix_base_pos(controller.get_parameters(), 0*[False]+3*[True]) # z is locked to 25 cm.\n",
    "# hw.create_painter_trajectory(diagram,meshcat)\n",
    "\n",
    "hw.run_simulation(meshcat,sim,10)"
   ]
  },
  {
   "cell_type": "markdown",
   "metadata": {},
   "source": [
    "### trajectory 1: simple move to bowl"
   ]
  },
  {
   "cell_type": "code",
   "execution_count": null,
   "metadata": {},
   "outputs": [],
   "source": [
    "hw.run_simulation(meshcat,sim,20)"
   ]
  },
  {
   "cell_type": "markdown",
   "metadata": {},
   "source": [
    "## scratch code"
   ]
  },
  {
   "cell_type": "markdown",
   "metadata": {},
   "source": [
    "### gets the name of the robot's joints"
   ]
  },
  {
   "cell_type": "code",
   "execution_count": null,
   "metadata": {},
   "outputs": [],
   "source": [
    "\n",
    "# plant = diagram.GetSubsystemByName(\"station\").GetSubsystemByName(\"plant\")\n",
    "\n",
    "# for index in plant.GetJointIndices():\n",
    "#     print(plant.get_joint(index).name())"
   ]
  },
  {
   "cell_type": "code",
   "execution_count": null,
   "metadata": {},
   "outputs": [],
   "source": [
    "\n",
    "\n",
    "print(controller.get_parameters().get_joint_position_limits())\n",
    "\n",
    "print(f\"after running: {controller.get_parameters().get_joint_position_limits()}\")\n",
    "\n",
    "hw.run_simulation(meshcat,sim,10)"
   ]
  }
 ],
 "metadata": {
  "kernelspec": {
   "display_name": ".venv",
   "language": "python",
   "name": "python3"
  },
  "language_info": {
   "codemirror_mode": {
    "name": "ipython",
    "version": 3
   },
   "file_extension": ".py",
   "mimetype": "text/x-python",
   "name": "python",
   "nbconvert_exporter": "python",
   "pygments_lexer": "ipython3",
   "version": "3.12.4"
  }
 },
 "nbformat": 4,
 "nbformat_minor": 2
}
