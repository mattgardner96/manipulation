{
 "cells": [
  {
   "cell_type": "code",
   "execution_count": 33,
   "metadata": {},
   "outputs": [],
   "source": [
    "import os\n",
    "import hw\n",
    "import numpy as np\n",
    "import env_ingredient_add as env\n",
    "from hw import PoseTrajectorySource\n",
    "\n",
    "def get_scene():\n",
    "    if os.getcwd() == \"/datasets/_deepnote_work/manipulation/project\": \n",
    "        #scene = open(\"/work/manipulation/project/objects/environment_setup.yaml\")\n",
    "        scene = env.get_environment_set_up(no_scene=True,include_driver=True)\n",
    "        xmls = [os.getcwd() + \"/package.xml\", \"/work/manipulation/project/package.xml\"]\n",
    "    else:\n",
    "        #scene = open(\"objects/environment_setup.yaml\") # local setup\n",
    "        scene = env.get_environment_set_up(no_scene=False,include_driver=True)\n",
    "        xmls = [os.getcwd() + \"/package.xml\"]\n",
    "\n",
    "    return scene"
   ]
  },
  {
   "cell_type": "code",
   "execution_count": 7,
   "metadata": {},
   "outputs": [
    {
     "name": "stderr",
     "output_type": "stream",
     "text": [
      "INFO:drake:Meshcat listening for connections at http://localhost:7002\n"
     ]
    }
   ],
   "source": [
    "scenario = hw.LoadScenario(data=get_scene())\n",
    "meshcat = hw.StartMeshcat()"
   ]
  },
  {
   "cell_type": "code",
   "execution_count": 8,
   "metadata": {},
   "outputs": [],
   "source": [
    "# at present, trajectory blank doesn't work\n",
    "diagram,sim = hw.init_diagram(meshcat,scenario)\n",
    "# hw.print_diagram(diagram)\n",
    "\n",
    "context = diagram.CreateDefaultContext()\n",
    "traj = hw.create_small_trajectory(diagram,meshcat,context)\n",
    "\n",
    "meshcat.Delete()\n",
    "diagram,sim = hw.init_diagram(meshcat,scenario,traj)\n",
    "controller = diagram.GetSubsystemByName(\"diff_ik_integrator\")\n"
   ]
  },
  {
   "cell_type": "code",
   "execution_count": 13,
   "metadata": {},
   "outputs": [
    {
     "name": "stderr",
     "output_type": "stream",
     "text": [
      "WARNING:drake:Meshcat: An obj referenced a material library 'DWG000509' that Meshcat could not open; no materials will be included. Obj: '/Users/mattgardner/source/manipulation/project/objects/serving_shelf.obj'.\n",
      "WARNING:drake:Meshcat: An obj referenced a material library 'stainless' that Meshcat could not open; no materials will be included. Obj: '/Users/mattgardner/source/manipulation/project/objects/mixing_bowl.obj'.\n",
      "WARNING:drake:Meshcat: An obj referenced a material library 'stainless' that Meshcat could not open; no materials will be included. Obj: '/Users/mattgardner/source/manipulation/project/objects/mixing_bowl.obj'.\n",
      "WARNING:drake:Meshcat: An obj referenced a material library 'stainless' that Meshcat could not open; no materials will be included. Obj: '/Users/mattgardner/source/manipulation/project/objects/mixing_bowl.obj'.\n"
     ]
    }
   ],
   "source": [
    "hw.fix_base_pos(controller.get_parameters(), 3*[True])\n",
    "hw.create_small_trajectory(diagram,meshcat)\n",
    "\n",
    "hw.run_simulation(meshcat,sim,20)"
   ]
  },
  {
   "cell_type": "code",
   "execution_count": null,
   "metadata": {},
   "outputs": [],
   "source": [
    "def traj_move_to_bowl_0(\n",
    "        diagram,\n",
    "        context=None,\n",
    "        move_time=10 # seconds\n",
    "    ) -> PoseTrajectorySource:\n",
    "    if context is None:\n",
    "        context = diagram.CreateDefaultContext()\n",
    "\n",
    "    start_time = context.get_time()\n",
    "\n",
    "    # get a starting point\n",
    "    X_WGinit = hw.get_X_WG(diagram,context)\n",
    "\n",
    "    # define a goal pose\n",
    "    goal_pose = hw.RigidTransform(\n",
    "        R=hw.RotationMatrix(),\n",
    "        p=np.array(env.bowl_0) + np.array([0.25, 0, 0.25])\n",
    "    )\n",
    "\n",
    "    poses = hw.PiecewisePose.MakeLinear([start_time, start_time + move_time], [X_WGinit, goal_pose])\n",
    "\n",
    "    return poses\n",
    "\n",
    "\n",
    "def plot_traj(meshcat,traj):\n",
    "\n",
    "    # reconstruct the full trajectory\n",
    "    poses = np.array(traj.get_times())\n",
    "    print(poses)\n",
    "\n",
    "    # for i, frame in enumerate(poses):\n",
    "    #     hw.AddMeshcatTriad(meshcat, X_PT=frame, path=\"frame\"+str(i))\n",
    "\n",
    "my_context = sim.get_context()\n",
    "\n",
    "new_traj = traj_move_to_bowl_0(diagram,my_context)\n",
    "\n",
    "# problem: we're missing a way to actually pass new trajectories into the robot.\n",
    "pose_source = diagram.GetSubsystemByName(\"hw.PoseTrajectorySource@00007fc3283167c0\")"
   ]
  },
  {
   "cell_type": "markdown",
   "metadata": {},
   "source": [
    "## scratch code"
   ]
  },
  {
   "cell_type": "markdown",
   "metadata": {},
   "source": [
    "### gets the name of the robot's joints"
   ]
  },
  {
   "cell_type": "code",
   "execution_count": null,
   "metadata": {},
   "outputs": [
    {
     "name": "stdout",
     "output_type": "stream",
     "text": [
      "iiwa_base_x\n",
      "iiwa_base_y\n",
      "iiwa_base_z\n",
      "iiwa_joint_1\n",
      "iiwa_joint_2\n",
      "iiwa_joint_3\n",
      "iiwa_joint_4\n",
      "iiwa_joint_5\n",
      "iiwa_joint_6\n",
      "iiwa_joint_7\n",
      "iiwa_joint_ee\n",
      "tool0_joint\n",
      "left_finger_sliding_joint\n",
      "right_finger_sliding_joint\n",
      "iiwa_link_7_welds_to_body\n"
     ]
    }
   ],
   "source": [
    "\n",
    "# plant = diagram.GetSubsystemByName(\"station\").GetSubsystemByName(\"plant\")\n",
    "\n",
    "# for index in plant.GetJointIndices():\n",
    "#     print(plant.get_joint(index).name())"
   ]
  },
  {
   "cell_type": "code",
   "execution_count": null,
   "metadata": {},
   "outputs": [],
   "source": [
    "\n",
    "\n",
    "print(controller.get_parameters().get_joint_position_limits())\n",
    "\n",
    "print(f\"after running: {controller.get_parameters().get_joint_position_limits()}\")\n",
    "\n",
    "hw.run_simulation(meshcat,sim,10)"
   ]
  }
 ],
 "metadata": {
  "kernelspec": {
   "display_name": ".venv",
   "language": "python",
   "name": "python3"
  },
  "language_info": {
   "codemirror_mode": {
    "name": "ipython",
    "version": 3
   },
   "file_extension": ".py",
   "mimetype": "text/x-python",
   "name": "python",
   "nbconvert_exporter": "python",
   "pygments_lexer": "ipython3",
   "version": "3.12.4"
  }
 },
 "nbformat": 4,
 "nbformat_minor": 2
}
