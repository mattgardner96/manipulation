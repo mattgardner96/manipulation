{
 "cells": [
  {
   "cell_type": "code",
   "execution_count": 21,
   "metadata": {
    "cell_id": "a0b867675fa042b4adca6d3f57777676",
    "deepnote_cell_type": "code"
   },
   "outputs": [],
   "source": [
    "import os\n",
    "import numpy as np\n",
    "import env_ingredient_add as env\n",
    "import hw\n",
    "import trajectories as traj\n",
    "from importlib import reload\n",
    "from enum import Enum\n",
    "import inverse_kinematics as ik\n",
    "from manipulation.meshcat_utils import AddMeshcatTriad\n",
    "\n",
    "def get_scene():\n",
    "    if os.getcwd() == \"/datasets/_deepnote_work/manipulation/project\": \n",
    "        #scene = open(\"/work/manipulation/project/objects/environment_setup.yaml\")\n",
    "        scene = env.get_environment_set_up(no_scene=True,include_driver=True)\n",
    "        xmls = [os.getcwd() + \"/package.xml\", \"/work/manipulation/project/package.xml\"]\n",
    "    else:\n",
    "        #scene = open(\"objects/environment_setup.yaml\") # local setup\n",
    "        scene = env.get_environment_set_up(no_scene=False,include_driver=True)\n",
    "        xmls = [os.getcwd() + \"/package.xml\"]\n",
    "\n",
    "    return scene"
   ]
  },
  {
   "cell_type": "code",
   "execution_count": null,
   "metadata": {
    "cell_id": "616570e36b48417f99519f931dcd2e23",
    "deepnote_cell_type": "code"
   },
   "outputs": [],
   "source": [
    "reload(env)\n",
    "scenario = hw.LoadScenario(data=get_scene())\n",
    "# meshcat = hw.StartMeshcat()"
   ]
  },
  {
   "cell_type": "markdown",
   "metadata": {
    "cell_id": "f1777a493f4c4a7a81974455462252ff",
    "deepnote_cell_type": "markdown"
   },
   "source": [
    "### trajectory 0: iiwa_painter"
   ]
  },
  {
   "cell_type": "code",
   "execution_count": 23,
   "metadata": {
    "cell_id": "cd06f05d55964d9cb6e54f95919a552a",
    "deepnote_cell_type": "code"
   },
   "outputs": [
    {
     "name": "stderr",
     "output_type": "stream",
     "text": [
      "WARNING:drake:warning: material [ '0.898039_0.898039_0.898039_0.000000_0.000000' ] not found in .mtl\n",
      "\n",
      "WARNING:drake:warning: material [ '0.898039_0.898039_0.898039_0.000000_0.000000' ] not found in .mtl\n",
      "\n",
      "WARNING:drake:warning: material [ 'Tinta' ] not found in .mtl\n",
      "material [ 'Tinta' ] not found in .mtl\n",
      "material [ 'Tinta' ] not found in .mtl\n",
      "material [ 'Tinta' ] not found in .mtl\n",
      "material [ 'Tinta' ] not found in .mtl\n",
      "material [ 'Tinta' ] not found in .mtl\n",
      "material [ 'Tinta' ] not found in .mtl\n",
      "material [ 'Tinta' ] not found in .mtl\n",
      "material [ 'Tinta' ] not found in .mtl\n",
      "material [ 'Tinta' ] not found in .mtl\n",
      "material [ 'Tinta' ] not found in .mtl\n",
      "material [ 'Tinta' ] not found in .mtl\n",
      "material [ 'Tinta' ] not found in .mtl\n",
      "material [ 'Tinta' ] not found in .mtl\n",
      "material [ 'Tinta' ] not found in .mtl\n",
      "material [ 'Tinta' ] not found in .mtl\n",
      "material [ 'Tinta' ] not found in .mtl\n",
      "material [ 'Tinta' ] not found in .mtl\n",
      "material [ 'Tinta' ] not found in .mtl\n",
      "material [ 'Tinta' ] not found in .mtl\n",
      "material [ 'Tinta' ] not found in .mtl\n",
      "\n",
      "WARNING:drake:warning: material [ '1.000000_0.952941_0.827451_0.000000_0.000000' ] not found in .mtl\n",
      "\n",
      "WARNING:drake:Drake materials have been assigned to a glTF file. glTF defines its own materials, so post hoc materials will be ignored and should be removed from the model specification. glTF file: '/private/var/tmp/.cache_mattgardner/drake/package_map/bacc01fba8f324b8dce1d15ae98083fa7e61463d0d278df46f198c2e3ae14abd-d542c1cfb057a27398ab0b818609a2edb14ec9c621b58dc2d78af6daa96f8056/iiwa_description/meshes/iiwa14/visual/kuka.gltf'\n",
      "WARNING:drake:Drake materials have been assigned to a glTF file. glTF defines its own materials, so post hoc materials will be ignored and should be removed from the model specification. glTF file: '/private/var/tmp/.cache_mattgardner/drake/package_map/bacc01fba8f324b8dce1d15ae98083fa7e61463d0d278df46f198c2e3ae14abd-d542c1cfb057a27398ab0b818609a2edb14ec9c621b58dc2d78af6daa96f8056/iiwa_description/meshes/iiwa14/visual/link_1.gltf'\n",
      "WARNING:drake:Drake materials have been assigned to a glTF file. glTF defines its own materials, so post hoc materials will be ignored and should be removed from the model specification. glTF file: '/private/var/tmp/.cache_mattgardner/drake/package_map/bacc01fba8f324b8dce1d15ae98083fa7e61463d0d278df46f198c2e3ae14abd-d542c1cfb057a27398ab0b818609a2edb14ec9c621b58dc2d78af6daa96f8056/iiwa_description/meshes/iiwa14/visual/band.gltf'\n",
      "WARNING:drake:Drake materials have been assigned to a glTF file. glTF defines its own materials, so post hoc materials will be ignored and should be removed from the model specification. glTF file: '/private/var/tmp/.cache_mattgardner/drake/package_map/bacc01fba8f324b8dce1d15ae98083fa7e61463d0d278df46f198c2e3ae14abd-d542c1cfb057a27398ab0b818609a2edb14ec9c621b58dc2d78af6daa96f8056/iiwa_description/meshes/iiwa14/visual/kuka.gltf'\n",
      "WARNING:drake:warning: material [ '0.647059_0.647059_0.647059_0.000000_0.000000' ] not found in .mtl\n",
      "\n",
      "WARNING:drake:Drake materials have been assigned to a glTF file. glTF defines its own materials, so post hoc materials will be ignored and should be removed from the model specification. glTF file: '/private/var/tmp/.cache_mattgardner/drake/package_map/bacc01fba8f324b8dce1d15ae98083fa7e61463d0d278df46f198c2e3ae14abd-d542c1cfb057a27398ab0b818609a2edb14ec9c621b58dc2d78af6daa96f8056/iiwa_description/meshes/iiwa14/visual/link_5.gltf'\n",
      "WARNING:drake:Drake materials have been assigned to a glTF file. glTF defines its own materials, so post hoc materials will be ignored and should be removed from the model specification. glTF file: '/private/var/tmp/.cache_mattgardner/drake/package_map/bacc01fba8f324b8dce1d15ae98083fa7e61463d0d278df46f198c2e3ae14abd-d542c1cfb057a27398ab0b818609a2edb14ec9c621b58dc2d78af6daa96f8056/iiwa_description/meshes/iiwa14/visual/band.gltf'\n",
      "WARNING:drake:Drake materials have been assigned to a glTF file. glTF defines its own materials, so post hoc materials will be ignored and should be removed from the model specification. glTF file: '/private/var/tmp/.cache_mattgardner/drake/package_map/bacc01fba8f324b8dce1d15ae98083fa7e61463d0d278df46f198c2e3ae14abd-d542c1cfb057a27398ab0b818609a2edb14ec9c621b58dc2d78af6daa96f8056/iiwa_description/meshes/iiwa14/visual/link_3.gltf'\n",
      "WARNING:drake:Drake materials have been assigned to a glTF file. glTF defines its own materials, so post hoc materials will be ignored and should be removed from the model specification. glTF file: '/private/var/tmp/.cache_mattgardner/drake/package_map/bacc01fba8f324b8dce1d15ae98083fa7e61463d0d278df46f198c2e3ae14abd-d542c1cfb057a27398ab0b818609a2edb14ec9c621b58dc2d78af6daa96f8056/iiwa_description/meshes/iiwa14/visual/link_7.gltf'\n",
      "WARNING:drake:Drake materials have been assigned to a glTF file. glTF defines its own materials, so post hoc materials will be ignored and should be removed from the model specification. glTF file: '/private/var/tmp/.cache_mattgardner/drake/package_map/bacc01fba8f324b8dce1d15ae98083fa7e61463d0d278df46f198c2e3ae14abd-d542c1cfb057a27398ab0b818609a2edb14ec9c621b58dc2d78af6daa96f8056/iiwa_description/meshes/iiwa14/visual/link_0.gltf'\n",
      "WARNING:drake:Drake materials have been assigned to a glTF file. glTF defines its own materials, so post hoc materials will be ignored and should be removed from the model specification. glTF file: '/private/var/tmp/.cache_mattgardner/drake/package_map/bacc01fba8f324b8dce1d15ae98083fa7e61463d0d278df46f198c2e3ae14abd-d542c1cfb057a27398ab0b818609a2edb14ec9c621b58dc2d78af6daa96f8056/iiwa_description/meshes/iiwa14/visual/link_2_grey.gltf'\n",
      "WARNING:drake:Drake materials have been assigned to a glTF file. glTF defines its own materials, so post hoc materials will be ignored and should be removed from the model specification. glTF file: '/private/var/tmp/.cache_mattgardner/drake/package_map/bacc01fba8f324b8dce1d15ae98083fa7e61463d0d278df46f198c2e3ae14abd-d542c1cfb057a27398ab0b818609a2edb14ec9c621b58dc2d78af6daa96f8056/iiwa_description/meshes/iiwa14/visual/link_6_grey.gltf'\n",
      "WARNING:drake:Drake materials have been assigned to a glTF file. glTF defines its own materials, so post hoc materials will be ignored and should be removed from the model specification. glTF file: '/private/var/tmp/.cache_mattgardner/drake/package_map/bacc01fba8f324b8dce1d15ae98083fa7e61463d0d278df46f198c2e3ae14abd-d542c1cfb057a27398ab0b818609a2edb14ec9c621b58dc2d78af6daa96f8056/iiwa_description/meshes/iiwa14/visual/link_4_orange.gltf'\n",
      "WARNING:drake:Drake materials have been assigned to a glTF file. glTF defines its own materials, so post hoc materials will be ignored and should be removed from the model specification. glTF file: '/private/var/tmp/.cache_mattgardner/drake/package_map/bacc01fba8f324b8dce1d15ae98083fa7e61463d0d278df46f198c2e3ae14abd-d542c1cfb057a27398ab0b818609a2edb14ec9c621b58dc2d78af6daa96f8056/iiwa_description/meshes/iiwa14/visual/link_4_grey.gltf'\n",
      "WARNING:drake:Drake materials have been assigned to a glTF file. glTF defines its own materials, so post hoc materials will be ignored and should be removed from the model specification. glTF file: '/private/var/tmp/.cache_mattgardner/drake/package_map/bacc01fba8f324b8dce1d15ae98083fa7e61463d0d278df46f198c2e3ae14abd-d542c1cfb057a27398ab0b818609a2edb14ec9c621b58dc2d78af6daa96f8056/iiwa_description/meshes/iiwa14/visual/link_6_orange.gltf'\n",
      "WARNING:drake:warning: material [ '0.898039_0.898039_0.898039_0.000000_0.000000' ] not found in .mtl\n",
      "\n",
      "WARNING:drake:Drake materials have been assigned to a glTF file. glTF defines its own materials, so post hoc materials will be ignored and should be removed from the model specification. glTF file: '/private/var/tmp/.cache_mattgardner/drake/package_map/bacc01fba8f324b8dce1d15ae98083fa7e61463d0d278df46f198c2e3ae14abd-d542c1cfb057a27398ab0b818609a2edb14ec9c621b58dc2d78af6daa96f8056/iiwa_description/meshes/iiwa14/visual/link_2_orange.gltf'\n"
     ]
    },
    {
     "name": "stdout",
     "output_type": "stream",
     "text": [
      "Transitioning to PizzaRobotState.PROX_MOVE_TO_BOWL_1 FSM state.\n",
      "Transitioning to PizzaRobotState.LIFT_BOWL_1 FSM state.\n",
      "Transitioning to PizzaRobotState.MOVE_TO_BREADPAN_QUEUE_SHAKE FSM state.\n",
      "Transitioning to PizzaRobotState.SHIMMY_SHAKE FSM state.\n",
      "Transitioning to PizzaRobotState.EXECUTE_PLANNED_TRAJECTORY FSM state.\n"
     ]
    },
    {
     "name": "stderr",
     "output_type": "stream",
     "text": [
      "WARNING:drake:Differential IK started returning status:\"stuck\" at time 36.561.\n",
      "WARNING:drake:Differential IK started finding solutions again at time 36.562.\n",
      "WARNING:drake:Differential IK started returning status:\"stuck\" at time 38.09.\n",
      "WARNING:drake:Differential IK started finding solutions again at time 38.192.\n",
      "WARNING:drake:Differential IK started returning status:\"stuck\" at time 38.738.\n",
      "WARNING:drake:Differential IK started finding solutions again at time 38.814.\n",
      "WARNING:drake:Differential IK started returning status:\"stuck\" at time 39.392.\n",
      "WARNING:drake:Differential IK started finding solutions again at time 39.437.\n"
     ]
    }
   ],
   "source": [
    "reload(env)\n",
    "reload(traj)\n",
    "reload(hw)\n",
    "\n",
    "# at present, trajectory blank doesn't work\n",
    "diagram,sim = hw.init_diagram(meshcat,scenario)\n",
    "# hw.print_diagram(diagram)\n",
    "\n",
    "context = diagram.CreateDefaultContext()\n",
    "\n",
    "controller = diagram.GetSubsystemByName(\"diff_ik_with_params\")\n",
    "plant = diagram.GetSubsystemByName(\"station\").GetSubsystemByName(\"plant\")\n",
    "\n",
    "hw.run_simulation(meshcat,sim,40)"
   ]
  },
  {
   "cell_type": "code",
   "execution_count": 19,
   "metadata": {},
   "outputs": [
    {
     "data": {
      "text/plain": [
       "<pydrake.systems.analysis.SimulatorStatus at 0x13c713030>"
      ]
     },
     "execution_count": 19,
     "metadata": {},
     "output_type": "execute_result"
    }
   ],
   "source": [
    "sim.AdvanceTo(40)"
   ]
  },
  {
   "cell_type": "code",
   "execution_count": null,
   "metadata": {},
   "outputs": [
    {
     "name": "stdout",
     "output_type": "stream",
     "text": [
      "Diagram saved to planner.png\n"
     ]
    }
   ],
   "source": [
    "# hw.print_diagram(diagram,output_file=\"planner.png\")"
   ]
  },
  {
   "cell_type": "code",
   "execution_count": 30,
   "metadata": {},
   "outputs": [
    {
     "ename": "AttributeError",
     "evalue": "'ParameterUpdater' object has no attribute 'num_positions'",
     "output_type": "error",
     "traceback": [
      "\u001b[0;31m---------------------------------------------------------------------------\u001b[0m",
      "\u001b[0;31mAttributeError\u001b[0m                            Traceback (most recent call last)",
      "Cell \u001b[0;32mIn[30], line 1\u001b[0m\n\u001b[0;32m----> 1\u001b[0m \u001b[43mhw\u001b[49m\u001b[38;5;241;43m.\u001b[39;49m\u001b[43mrun_simulation\u001b[49m\u001b[43m(\u001b[49m\u001b[43mmeshcat\u001b[49m\u001b[43m,\u001b[49m\u001b[43msim\u001b[49m\u001b[43m,\u001b[49m\u001b[38;5;241;43m0.5\u001b[39;49m\u001b[43m)\u001b[49m\n",
      "File \u001b[0;32m~/source/manipulation/project/hw.py:487\u001b[0m, in \u001b[0;36mrun_simulation\u001b[0;34m(meshcat, simulator, start_time)\u001b[0m\n\u001b[1;32m    483\u001b[0m \u001b[38;5;66;03m# context = self.simulator.get_mutable_context()\u001b[39;00m\n\u001b[1;32m    484\u001b[0m \u001b[38;5;66;03m# x0 = self.station.GetOutputPort(\"mobile_iiwa.state_estimated\").Eval(context)\u001b[39;00m\n\u001b[1;32m    485\u001b[0m \u001b[38;5;66;03m# self.station.GetInputPort(\"mobile_iiwa.desired_state\").FixValue(context, x0)\u001b[39;00m\n\u001b[1;32m    486\u001b[0m meshcat\u001b[38;5;241m.\u001b[39mStartRecording()\n\u001b[0;32m--> 487\u001b[0m \u001b[43msimulator\u001b[49m\u001b[38;5;241;43m.\u001b[39;49m\u001b[43mAdvanceTo\u001b[49m\u001b[43m(\u001b[49m\u001b[43mstart_time\u001b[49m\u001b[43m \u001b[49m\u001b[38;5;28;43;01mif\u001b[39;49;00m\u001b[43m \u001b[49m\u001b[43mrunning_as_notebook\u001b[49m\u001b[43m \u001b[49m\u001b[38;5;28;43;01melse\u001b[39;49;00m\u001b[43m \u001b[49m\u001b[38;5;241;43m0.1\u001b[39;49m\u001b[43m)\u001b[49m\n\u001b[1;32m    488\u001b[0m meshcat\u001b[38;5;241m.\u001b[39mPublishRecording()\n",
      "File \u001b[0;32m~/source/manipulation/project/hw.py:174\u001b[0m, in \u001b[0;36mAddMobileIiwaDifferentialIK.<locals>.ParameterUpdater.UpdateParameters\u001b[0;34m(self, context, state)\u001b[0m\n\u001b[1;32m    171\u001b[0m params\u001b[38;5;241m.\u001b[39mset_nominal_joint_position(nominal_joint_position)\n\u001b[1;32m    173\u001b[0m \u001b[38;5;66;03m# print(self._diff_ik_system.GetPositions(context).shape))\u001b[39;00m\n\u001b[0;32m--> 174\u001b[0m \u001b[38;5;28mprint\u001b[39m(\u001b[38;5;28;43mself\u001b[39;49m\u001b[38;5;241;43m.\u001b[39;49m\u001b[43mnum_positions\u001b[49m)\n\u001b[1;32m    175\u001b[0m \u001b[38;5;28mself\u001b[39m\u001b[38;5;241m.\u001b[39m_diff_ik_system\u001b[38;5;241m.\u001b[39mSetPositions(context, np\u001b[38;5;241m.\u001b[39mappend(nominal_joint_position,np\u001b[38;5;241m.\u001b[39mzeros(\u001b[38;5;241m30\u001b[39m)))\n",
      "\u001b[0;31mAttributeError\u001b[0m: 'ParameterUpdater' object has no attribute 'num_positions'"
     ]
    }
   ],
   "source": [
    "hw.run_simulation(meshcat,sim,0.5)"
   ]
  },
  {
   "cell_type": "code",
   "execution_count": 16,
   "metadata": {},
   "outputs": [],
   "source": [
    "gripper_frame = plant.GetFrameByName(\"body\")\n",
    "plant_context = plant.GetMyMutableContextFromRoot(context)\n",
    "gripper_pose_in_world = plant.CalcRelativeTransform(plant_context, plant.world_frame(), gripper_frame)\n",
    "# print(gripper_pose_in_world)\n",
    "AddMeshcatTriad(meshcat, X_PT=gripper_pose_in_world, path=\"gripper_frame\")"
   ]
  },
  {
   "cell_type": "code",
   "execution_count": 51,
   "metadata": {
    "cell_id": "2705ffb11ef44aff8efcd570158c1cf6",
    "deepnote_cell_type": "code"
   },
   "outputs": [
    {
     "name": "stdout",
     "output_type": "stream",
     "text": [
      "Diagram saved to planner.png\n"
     ]
    }
   ],
   "source": [
    "hw.print_diagram(diagram,output_file=\"planner.png\")"
   ]
  },
  {
   "cell_type": "code",
   "execution_count": null,
   "metadata": {
    "cell_id": "47d318443b15428f8c20b3a90ea6ef01",
    "deepnote_cell_type": "code"
   },
   "outputs": [],
   "source": [
    "# hw.fix_base_pos(controller.get_parameters(), 0*[False]+3*[True]) # z is locked to 25 cm.\n",
    "# hw.create_painter_trajectory(diagram,meshcat)\n",
    "\n"
   ]
  },
  {
   "cell_type": "code",
   "execution_count": 5,
   "metadata": {
    "cell_id": "74004c160d5f44c19570b8569d7896b2",
    "deepnote_cell_type": "code"
   },
   "outputs": [
    {
     "name": "stdout",
     "output_type": "stream",
     "text": [
      "Transitioning to PizzaRobotState.FINISHED FSM state.\n",
      "Task is finished.\n"
     ]
    }
   ],
   "source": [
    "sim.AdvanceTo(20)\n",
    "meshcat.PublishRecording()"
   ]
  },
  {
   "cell_type": "markdown",
   "metadata": {
    "cell_id": "ae371ae980d74d8784c0b5ba405b56b7",
    "deepnote_cell_type": "markdown"
   },
   "source": [
    "## scratch code"
   ]
  },
  {
   "cell_type": "code",
   "execution_count": null,
   "metadata": {},
   "outputs": [
    {
     "ename": "AttributeError",
     "evalue": "'pydrake.multibody.plant.MultibodyPlant' object has no attribute 'GetJointNames'",
     "output_type": "error",
     "traceback": [
      "\u001b[0;31m---------------------------------------------------------------------------\u001b[0m",
      "\u001b[0;31mAttributeError\u001b[0m                            Traceback (most recent call last)",
      "Cell \u001b[0;32mIn[19], line 2\u001b[0m\n\u001b[1;32m      1\u001b[0m plant \u001b[38;5;241m=\u001b[39m diagram\u001b[38;5;241m.\u001b[39mGetSubsystemByName(\u001b[38;5;124m\"\u001b[39m\u001b[38;5;124mstation\u001b[39m\u001b[38;5;124m\"\u001b[39m)\u001b[38;5;241m.\u001b[39mGetSubsystemByName(\u001b[38;5;124m\"\u001b[39m\u001b[38;5;124mplant\u001b[39m\u001b[38;5;124m\"\u001b[39m)\n\u001b[0;32m----> 2\u001b[0m \u001b[43mplant\u001b[49m\u001b[38;5;241;43m.\u001b[39;49m\u001b[43mGetJointNames\u001b[49m()\n",
      "\u001b[0;31mAttributeError\u001b[0m: 'pydrake.multibody.plant.MultibodyPlant' object has no attribute 'GetJointNames'"
     ]
    }
   ],
   "source": [
    "plant = diagram.GetSubsystemByName(\"station\").GetSubsystemByName(\"plant\")\n",
    "plant.GetJointByName(\"\")"
   ]
  },
  {
   "cell_type": "markdown",
   "metadata": {
    "cell_id": "c28027758c8a47b7a6e2eb16f6f36b7a",
    "deepnote_cell_type": "markdown"
   },
   "source": [
    "### gets the name of the robot's joints"
   ]
  },
  {
   "cell_type": "code",
   "execution_count": null,
   "metadata": {
    "cell_id": "1de4aea08bc14698b18047a5d7710f93",
    "deepnote_cell_type": "code"
   },
   "outputs": [],
   "source": [
    "\n",
    "# plant = diagram.GetSubsystemByName(\"station\").GetSubsystemByName(\"plant\")\n",
    "\n",
    "# for index in plant.GetJointIndices():\n",
    "#     print(plant.get_joint(index).name())"
   ]
  },
  {
   "cell_type": "code",
   "execution_count": null,
   "metadata": {
    "cell_id": "a18f678953ff40689acbaef93ad8c55a",
    "deepnote_cell_type": "code"
   },
   "outputs": [],
   "source": [
    "\n",
    "\n",
    "print(controller.get_parameters().get_joint_position_limits())\n",
    "\n",
    "print(f\"after running: {controller.get_parameters().get_joint_position_limits()}\")\n",
    "\n",
    "hw.run_simulation(meshcat,sim,10)"
   ]
  },
  {
   "cell_type": "markdown",
   "metadata": {
    "cell_id": "3aed9531edeb4c25859110f037689d59",
    "deepnote_cell_type": "text-cell-h1",
    "formattedRanges": []
   },
   "source": [
    "# Camera Stuff"
   ]
  },
  {
   "cell_type": "code",
   "execution_count": null,
   "metadata": {
    "cell_id": "608adf685da04e1eb7438bfe994d77a1",
    "deepnote_cell_type": "code"
   },
   "outputs": [],
   "source": [
    "import pizza_state as ps \n",
    "reload(ps)\n",
    "\n",
    "\n",
    "cameras = []\n",
    "cameras.append(ps.CameraSystem(0, meshcat, diagram, context))\n",
    "\n",
    "point_cloud = diagram.GetOutputPort(\"table_camera_0_ptcloud\").Eval(context)\n",
    "\n",
    "#Visualize the point cloud\n",
    "ps.plt.imshow(cameras[0].rgb_im)\n",
    "ps.plt.title(\"View from camera 0\")\n",
    "ps.plt.show()\n",
    "\n",
    "\n",
    "\n",
    "# # Example Use / How to use in State Machine\n",
    "\n",
    "#Point cloud and colors: \n",
    "points = point_cloud.xyzs().T\n",
    "colors = point_cloud.rgbs().T.reshape(-1, 3)/255.0\n",
    "\n",
    "#Get area of pizza\n",
    "area_of_pizza = ps.calculate_pizza_area(points, colors)\n",
    "# Print the total area\n",
    "print(f\"Total area of pizza: {area_of_pizza}\")\n",
    "\n",
    "#Get ingredient to pizza ratio\n",
    "\n",
    "ratio_tomatoes = ps.calculate_tomato_to_pizza_ratio(points, colors, area_of_pizza)\n",
    "ratio_mushy = ps.calculate_mushroom_to_pizza_ratio(points, colors, area_of_pizza)\n",
    "\n",
    "print(f\"Total area covered by the filtered points (in %): {ratio_tomatoes}\")\n",
    "print(f\"Total area covered by the filtered points (in %): {ratio_mushy}\")"
   ]
  },
  {
   "cell_type": "markdown",
   "metadata": {
    "created_in_deepnote_cell": true,
    "deepnote_cell_type": "markdown"
   },
   "source": [
    "<a style='text-decoration:none;line-height:16px;display:flex;color:#5B5B62;padding:10px;justify-content:end;' href='https://deepnote.com?utm_source=created-in-deepnote-cell&projectId=92fbdad2-a4a9-4ef8-b493-c307060b34a1' target=\"_blank\">\n",
    "<img alt='Created in deepnote.com' style='display:inline;max-height:16px;margin:0px;margin-right:7.5px;' src='data:image/svg+xml;base64,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' > </img>\n",
    "Created in <span style='font-weight:600;margin-left:4px;'>Deepnote</span></a>"
   ]
  }
 ],
 "metadata": {
  "deepnote_notebook_id": "69e85b7bc3fd4aca8e8bf9f735fc3663",
  "kernelspec": {
   "display_name": ".venv",
   "language": "python",
   "name": "python3"
  },
  "language_info": {
   "codemirror_mode": {
    "name": "ipython",
    "version": 3
   },
   "file_extension": ".py",
   "mimetype": "text/x-python",
   "name": "python",
   "nbconvert_exporter": "python",
   "pygments_lexer": "ipython3",
   "version": "3.12.4"
  }
 },
 "nbformat": 4,
 "nbformat_minor": 0
}
