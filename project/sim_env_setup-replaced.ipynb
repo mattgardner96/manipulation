{
 "cells": [
  {
   "cell_type": "markdown",
   "metadata": {
    "cell_id": "09b181ad5c414248bab8a5386364cca0",
    "deepnote_cell_type": "markdown"
   },
   "source": [
    "## **Simulation Set-Up**"
   ]
  },
  {
   "cell_type": "code",
   "execution_count": 1,
   "metadata": {
    "cell_id": "0fa7f122c3af42f3b62f9d8a6313f0cd",
    "deepnote_cell_type": "code",
    "execution_context_id": "067c3e40-4c39-4d90-9e13-fe362d0c9a7c",
    "execution_millis": 455,
    "execution_start": 1729533822168,
    "source_hash": "7cd8485d"
   },
   "outputs": [],
   "source": [
    "import os\n",
    "\n",
    "import numpy as np\n",
    "from pydrake.all import (\n",
    "    AddDefaultVisualization,\n",
    "    AddMultibodyPlantSceneGraph,\n",
    "    DiagramBuilder,\n",
    "    LoadModelDirectives,\n",
    "    LoadModelDirectivesFromString,\n",
    "    Parser,\n",
    "    ProcessModelDirectives,\n",
    "    RigidTransform,\n",
    "    RollPitchYaw,\n",
    "    Simulator,\n",
    "    StartMeshcat,\n",
    "    LeafSystem,\n",
    "    ConstantVectorSource\n",
    ")\n",
    "from IPython.display import display, SVG\n",
    "import pydot\n",
    "import matplotlib.pyplot as plt\n",
    "from pydrake.common import temp_directory\n",
    "from pydrake.geometry import StartMeshcat\n",
    "from pydrake.systems.analysis import Simulator\n",
    "from pydrake.systems.controllers import JointStiffnessController\n",
    "from pydrake.visualization import ModelVisualizer\n",
    "\n",
    "from manipulation import running_as_notebook\n",
    "from manipulation.station import LoadScenario, MakeHardwareStation\n",
    "from manipulation.utils import ConfigureParser\n",
    "from manipulation.systems import AddIiwaDifferentialIK"
   ]
  },
  {
   "cell_type": "code",
   "execution_count": 2,
   "metadata": {
    "cell_id": "31cab578e35543b49c2121f607a591b2",
    "deepnote_cell_type": "code",
    "execution_context_id": "067c3e40-4c39-4d90-9e13-fe362d0c9a7c",
    "execution_millis": 185,
    "execution_start": 1729533828911,
    "source_hash": "450eddfc"
   },
   "outputs": [
    {
     "name": "stderr",
     "output_type": "stream",
     "text": [
      "INFO:drake:Meshcat listening for connections at http://localhost:7001\n"
     ]
    }
   ],
   "source": [
    "# Start the visualizer. The cell will output an HTTP link after the execution.\n",
    "# Click the link and a MeshCat tab should appear in your browser.\n",
    "meshcat = StartMeshcat()"
   ]
  },
  {
   "cell_type": "markdown",
   "metadata": {
    "cell_id": "af4bf56f30234db3ba2554c9a1b491ce",
    "deepnote_cell_type": "markdown"
   },
   "source": [
    "# Simulation Set Up \n",
    "\n",
    "Generating a useful simulation scene is the first step in successful manipulation projects. In this exercise, we will learn how to add the necessary objects to set-up a scene.\n",
    "\n",
    "**These are the learning goals of this exercise:**\n",
    "1. Be able to work with objects written in robot description formats such as URDFs and SDFs.\n",
    "2. Understand how to view and edit collision geometries\n",
    "3. Understand how to add objects to Drake to create a useful manipulation scene.\n",
    "\n",
    "A great resource is [Authoring a Multibody Simulation tutorial](https://deepnote.com/workspace/Drake-0b3b2c53-a7ad-441b-80f8-bf8350752305/project/Tutorials-2b4fc509-aef2-417d-a40d-6071dfed9199/notebook/authoring_multibody_simulation-add293478aac40a984845aa3705eefdd?). Parts of this notebook were taken from it."
   ]
  },
  {
   "cell_type": "markdown",
   "metadata": {
    "cell_id": "ded390e8d13e4ad18e7848044329cd65",
    "deepnote_cell_type": "markdown"
   },
   "source": [
    "## Simulated Kitchen Setup & Robot Configuration\n",
    "In the included `objects/environment_setup.yaml` file, we instantiate all the parts of the kitchen scene."
   ]
  },
  {
   "cell_type": "code",
   "execution_count": 3,
   "metadata": {
    "cell_id": "89e915f668da4bc0a2ac93bd3830ded2",
    "deepnote_cell_type": "code",
    "execution_context_id": "067c3e40-4c39-4d90-9e13-fe362d0c9a7c",
    "execution_millis": 105,
    "execution_start": 1729533866014,
    "source_hash": "48c91859"
   },
   "outputs": [
    {
     "ename": "FileNotFoundError",
     "evalue": "[Errno 2] No such file or directory: 'objects/environment_setup.yaml'",
     "output_type": "error",
     "traceback": [
      "\u001b[0;31m---------------------------------------------------------------------------\u001b[0m",
      "\u001b[0;31mFileNotFoundError\u001b[0m                         Traceback (most recent call last)",
      "Cell \u001b[0;32mIn[3], line 132\u001b[0m\n\u001b[1;32m    130\u001b[0m     xmls \u001b[38;5;241m=\u001b[39m [os\u001b[38;5;241m.\u001b[39mgetcwd() \u001b[38;5;241m+\u001b[39m \u001b[38;5;124m\"\u001b[39m\u001b[38;5;124m/package.xml\u001b[39m\u001b[38;5;124m\"\u001b[39m, \u001b[38;5;124m\"\u001b[39m\u001b[38;5;124m/work/manipulation/project/package.xml\u001b[39m\u001b[38;5;124m\"\u001b[39m]\n\u001b[1;32m    131\u001b[0m \u001b[38;5;28;01melse\u001b[39;00m:\n\u001b[0;32m--> 132\u001b[0m     scene \u001b[38;5;241m=\u001b[39m \u001b[38;5;28;43mopen\u001b[39;49m\u001b[43m(\u001b[49m\u001b[38;5;124;43m\"\u001b[39;49m\u001b[38;5;124;43mobjects/environment_setup.yaml\u001b[39;49m\u001b[38;5;124;43m\"\u001b[39;49m\u001b[43m)\u001b[49m \u001b[38;5;66;03m# local setup\u001b[39;00m\n\u001b[1;32m    133\u001b[0m     xmls \u001b[38;5;241m=\u001b[39m [os\u001b[38;5;241m.\u001b[39mgetcwd() \u001b[38;5;241m+\u001b[39m \u001b[38;5;124m\"\u001b[39m\u001b[38;5;124m/package.xml\u001b[39m\u001b[38;5;124m\"\u001b[39m]\n\u001b[1;32m    136\u001b[0m \u001b[38;5;28;01mdef\u001b[39;00m \u001b[38;5;21mpreview_scene_given_directives\u001b[39m(model_directive):\n",
      "File \u001b[0;32m~/source/manipulation/.venv/lib/python3.12/site-packages/IPython/core/interactiveshell.py:324\u001b[0m, in \u001b[0;36m_modified_open\u001b[0;34m(file, *args, **kwargs)\u001b[0m\n\u001b[1;32m    317\u001b[0m \u001b[38;5;28;01mif\u001b[39;00m file \u001b[38;5;129;01min\u001b[39;00m {\u001b[38;5;241m0\u001b[39m, \u001b[38;5;241m1\u001b[39m, \u001b[38;5;241m2\u001b[39m}:\n\u001b[1;32m    318\u001b[0m     \u001b[38;5;28;01mraise\u001b[39;00m \u001b[38;5;167;01mValueError\u001b[39;00m(\n\u001b[1;32m    319\u001b[0m         \u001b[38;5;124mf\u001b[39m\u001b[38;5;124m\"\u001b[39m\u001b[38;5;124mIPython won\u001b[39m\u001b[38;5;124m'\u001b[39m\u001b[38;5;124mt let you open fd=\u001b[39m\u001b[38;5;132;01m{\u001b[39;00mfile\u001b[38;5;132;01m}\u001b[39;00m\u001b[38;5;124m by default \u001b[39m\u001b[38;5;124m\"\u001b[39m\n\u001b[1;32m    320\u001b[0m         \u001b[38;5;124m\"\u001b[39m\u001b[38;5;124mas it is likely to crash IPython. If you know what you are doing, \u001b[39m\u001b[38;5;124m\"\u001b[39m\n\u001b[1;32m    321\u001b[0m         \u001b[38;5;124m\"\u001b[39m\u001b[38;5;124myou can use builtins\u001b[39m\u001b[38;5;124m'\u001b[39m\u001b[38;5;124m open.\u001b[39m\u001b[38;5;124m\"\u001b[39m\n\u001b[1;32m    322\u001b[0m     )\n\u001b[0;32m--> 324\u001b[0m \u001b[38;5;28;01mreturn\u001b[39;00m \u001b[43mio_open\u001b[49m\u001b[43m(\u001b[49m\u001b[43mfile\u001b[49m\u001b[43m,\u001b[49m\u001b[43m \u001b[49m\u001b[38;5;241;43m*\u001b[39;49m\u001b[43margs\u001b[49m\u001b[43m,\u001b[49m\u001b[43m \u001b[49m\u001b[38;5;241;43m*\u001b[39;49m\u001b[38;5;241;43m*\u001b[39;49m\u001b[43mkwargs\u001b[49m\u001b[43m)\u001b[49m\n",
      "\u001b[0;31mFileNotFoundError\u001b[0m: [Errno 2] No such file or directory: 'objects/environment_setup.yaml'"
     ]
    }
   ],
   "source": [
    "class PoseTrajectorySource(LeafSystem):\n",
    "    def __init__(self, pose_trajectory):\n",
    "        LeafSystem.__init__(self)\n",
    "        self._pose_trajectory = pose_trajectory\n",
    "        self.DeclareAbstractOutputPort(\n",
    "            \"pose\", lambda: AbstractValue.Make(RigidTransform()), self.CalcPose\n",
    "        )\n",
    "\n",
    "    def CalcPose(self, context, output):\n",
    "        output.set_value(self._pose_trajectory.GetPose(context.get_time()))\n",
    "\n",
    "class PizzaBot:\n",
    "    # make robot station and set up simulation\n",
    "    def __init__(self, scenario=None, traj=None):\n",
    "        self.meshcat = meshcat\n",
    "        builder = DiagramBuilder()\n",
    "        \n",
    "        self.station = builder.AddSystem(MakeHardwareStation(\n",
    "            scenario, meshcat, package_xmls=[os.getcwd() + \"/package.xml\"])\n",
    "        )\n",
    "        \n",
    "        # add plant (iiwa arm)\n",
    "        self.plant = self.station.GetSubsystemByName(\"plant\")\n",
    "        self.plant.GetJointByName(\"iiwa_joint_7\").set_position_limits(\n",
    "            [-np.inf], [np.inf]\n",
    "        )\n",
    "        \n",
    "        print(\"system names: \")\n",
    "        for sys in self.station.GetSystems():\n",
    "            print(\"- \" + sys.GetSystemName())\n",
    "        \n",
    "        # controller_plant = self.station.GetSubsystemByName(\n",
    "        #     \"iiwa_controller_plant_pointer_system\",\n",
    "        # ).get()\n",
    "\n",
    "        # # optionally add trajectory source\n",
    "        # if traj is not None:\n",
    "        #     traj_source = builder.AddSystem(PoseTrajectorySource(traj))\n",
    "        #     self.controller = AddIiwaDifferentialIK(\n",
    "        #         builder,\n",
    "        #         controller_plant,\n",
    "        #         frame=controller_plant.GetFrameByName(\"body\"),\n",
    "        #     )\n",
    "        #     builder.Connect(\n",
    "        #         traj_source.get_output_port(),\n",
    "        #         self.controller.get_input_port(0),\n",
    "        #     )\n",
    "        #     builder.Connect(\n",
    "        #         self.station.GetOutputPort(\"iiwa.state_estimated\"),\n",
    "        #         self.controller.GetInputPort(\"robot_state\"),\n",
    "        #     )\n",
    "\n",
    "        #     builder.Connect(\n",
    "        #         self.controller.get_output_port(),\n",
    "        #         self.station.GetInputPort(\"iiwa.position\"),\n",
    "        #     )\n",
    "        # else:\n",
    "        #     iiwa_position = builder.AddSystem(ConstantVectorSource(np.zeros(7)))\n",
    "        #     builder.Connect(\n",
    "        #         iiwa_position.get_output_port(),\n",
    "        #         self.station.GetInputPort(\"iiwa.position\"),\n",
    "        #     )\n",
    "\n",
    "        # wsg_position = builder.AddSystem(ConstantVectorSource([0.1]))\n",
    "        # builder.Connect(\n",
    "        #     wsg_position.get_output_port(),\n",
    "        #     self.station.GetInputPort(\"wsg.position\"),\n",
    "        # )\n",
    "\n",
    "        # self.diagram = builder.Build()\n",
    "        self.gripper_frame = self.plant.GetFrameByName(\"body\")\n",
    "        self.world_frame = self.plant.world_frame()\n",
    "\n",
    "        self.diagram = builder.Build() # IMPT: must build the diagram before visualizing it\n",
    "        self.diagram.set_name(\"diagram\")\n",
    "\n",
    "\n",
    "        self.simulator = Simulator(self.diagram)\n",
    "        self.plant.SetDefaultPositions(np.zeros(self.plant.num_positions()))\n",
    "        plant_context = self.plant.GetMyContextFromRoot(self.simulator.get_mutable_context())\n",
    "\n",
    "        # Visualize the diagram. taken from pydrake tutorials\n",
    "        display(SVG(pydot.graph_from_dot_data(\n",
    "        self.diagram.GetGraphvizString(max_depth=2))[0].create_svg()))\n",
    "\n",
    "    def get_X_WG(self, context=None):\n",
    "        if not context:\n",
    "            context = self.CreateDefaultContext()\n",
    "        plant_context = self.plant.GetMyMutableContextFromRoot(context)\n",
    "        X_WG = self.plant.CalcRelativeTransform(\n",
    "            plant_context, frame_A=self.world_frame, frame_B=self.gripper_frame\n",
    "        )\n",
    "        return X_WG\n",
    "\n",
    "    def CreateDefaultContext(self):\n",
    "        context = self.diagram.CreateDefaultContext()\n",
    "        plant_context = self.diagram.GetMutableSubsystemContext(self.plant, context)\n",
    "\n",
    "        # provide initial states\n",
    "        q0 = np.array(\n",
    "            [\n",
    "                1.40666193e-05,\n",
    "                1.56461165e-01,\n",
    "                -3.82761069e-05,\n",
    "                -1.32296976e00,\n",
    "                -6.29097287e-06,\n",
    "                1.61181157e00,\n",
    "                -2.66900985e-05,\n",
    "            ]\n",
    "        )\n",
    "        # set the joint positions of the kuka arm\n",
    "        iiwa = self.plant.GetModelInstanceByName(\"iiwa\")\n",
    "        self.plant.SetPositions(plant_context, iiwa, q0)\n",
    "        self.plant.SetVelocities(plant_context, iiwa, np.zeros(7))\n",
    "        wsg = self.plant.GetModelInstanceByName(\"wsg\")\n",
    "        self.plant.SetPositions(plant_context, wsg, [-0.05, 0.05])\n",
    "        self.plant.SetVelocities(plant_context, wsg, [0, 0])\n",
    "\n",
    "        return context\n",
    "\n",
    "    # run simulation\n",
    "    def run_simulation(self, start_time):\n",
    "        self.meshcat.StartRecording()\n",
    "        self.simulator.AdvanceTo(start_time if running_as_notebook else 0.1)\n",
    "        self.meshcat.PublishRecording()\n",
    "\n",
    "\n",
    "if os.getcwd() == \"/datasets/_deepnote_work\": \n",
    "    scene = open(\"/work/manipulation/project/objects/environment_setup.yaml\")\n",
    "    xmls = [os.getcwd() + \"/package.xml\", \"/work/manipulation/project/package.xml\"]\n",
    "else:\n",
    "    scene = open(\"objects/environment_setup.yaml\") # local setup\n",
    "    xmls = [os.getcwd() + \"/package.xml\"]\n",
    "\n",
    "\n",
    "def preview_scene_given_directives(model_directive):\n",
    "    meshcat.Delete()\n",
    "    scenario = LoadScenario(data=model_directive)\n",
    "    station = MakeHardwareStation(\n",
    "        scenario, meshcat, package_xmls=xmls\n",
    "    )\n",
    "\n",
    "    simulator = Simulator(station)\n",
    "    context = simulator.get_mutable_context()\n",
    "    x0 = station.GetOutputPort(\"mobile_iiwa.state_estimated\").Eval(context)\n",
    "    station.GetInputPort(\"mobile_iiwa.desired_state\").FixValue(context, x0)\n",
    "    meshcat.StartRecording()\n",
    "    simulator.AdvanceTo(2.0 if running_as_notebook else 0.1)\n",
    "    meshcat.PublishRecording()\n",
    "\n",
    "\n",
    "# preview_scene_given_directives(scene)\n",
    "scenario = LoadScenario(data=scene)\n",
    "bot = PizzaBot(scenario)\n",
    "# bot.run_simulation(start_time=2.0)\n"
   ]
  },
  {
   "cell_type": "code",
   "execution_count": null,
   "metadata": {
    "cell_id": "72550d4478da41a2883e5ce448634de2",
    "deepnote_cell_type": "code"
   },
   "outputs": [
    {
     "name": "stdout",
     "output_type": "stream",
     "text": [
      "/Users/mattgardner/source/manipulation/project/notebooks\n"
     ]
    }
   ],
   "source": [
    "# !pwd"
   ]
  },
  {
   "cell_type": "markdown",
   "metadata": {
    "created_in_deepnote_cell": true,
    "deepnote_cell_type": "markdown"
   },
   "source": [
    "<a style='text-decoration:none;line-height:16px;display:flex;color:#5B5B62;padding:10px;justify-content:end;' href='https://deepnote.com?utm_source=created-in-deepnote-cell&projectId=92fbdad2-a4a9-4ef8-b493-c307060b34a1' target=\"_blank\">\n",
    "<img alt='Created in deepnote.com' style='display:inline;max-height:16px;margin:0px;margin-right:7.5px;' src='data:image/svg+xml;base64,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' > </img>\n",
    "Created in <span style='font-weight:600;margin-left:4px;'>Deepnote</span></a>"
   ]
  }
 ],
 "metadata": {
  "deepnote_notebook_id": "85ea0e07831543e1b6f555f74b6c3b7f",
  "kernelspec": {
   "display_name": ".venv",
   "language": "python",
   "name": "python3"
  },
  "language_info": {
   "codemirror_mode": {
    "name": "ipython",
    "version": 3
   },
   "file_extension": ".py",
   "mimetype": "text/x-python",
   "name": "python",
   "nbconvert_exporter": "python",
   "pygments_lexer": "ipython3",
   "version": "3.12.4"
  }
 },
 "nbformat": 4,
 "nbformat_minor": 0
}
