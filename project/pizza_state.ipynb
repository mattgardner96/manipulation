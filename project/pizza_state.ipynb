{
    "cells": [
        {
            "cell_type": "code",
            "metadata": {
                "source_hash": "5d2a1145",
                "execution_start": 1731947246861,
                "execution_millis": 1842,
                "execution_context_id": "ae79af36-d742-4a15-ab33-8c8354909683",
                "cell_id": "12c865721f9145c5b16e73d26852e243",
                "deepnote_cell_type": "code"
            },
            "source": "import os\nimport importlib\nimport sys\n\nimport numpy as np\nfrom pydrake.all import (\n    AbstractValue,\n    AddDefaultVisualization,\n    AddMultibodyPlantSceneGraph,\n    ConstantVectorSource,\n    DiagramBuilder,\n    LeafSystem,\n    LoadModelDirectives,\n    LoadModelDirectivesFromString,\n    Parser,\n    PiecewisePose,\n    ProcessModelDirectives,\n    RigidTransform,\n    RotationMatrix,\n    RollPitchYaw,\n    Simulator,\n    StartMeshcat,\n    LeafSystem,\n    ConstantVectorSource\n)\nfrom IPython.display import display, SVG\nimport pydot\nimport matplotlib.pyplot as plt\nfrom pydrake.common import temp_directory\nfrom pydrake.geometry import StartMeshcat\nfrom pydrake.systems.analysis import Simulator\nfrom pydrake.systems.controllers import JointStiffnessController\nfrom pydrake.visualization import ModelVisualizer\n\nfrom manipulation import running_as_notebook\nfrom manipulation.station import LoadScenario, MakeHardwareStation\nfrom manipulation.utils import ConfigureParser\nfrom manipulation.systems import AddIiwaDifferentialIK\n\nsys.path.append('.')\nimport env_ingredient_add\nimportlib.reload(env_ingredient_add)",
            "block_group": "12c865721f9145c5b16e73d26852e243",
            "execution_count": 1,
            "outputs": [
                {
                    "output_type": "error",
                    "ename": "ModuleNotFoundError",
                    "evalue": "No module named 'env_ingredient_add'",
                    "traceback": [
                        "\u001b[0;31m---------------------------------------------------------------------------\u001b[0m",
                        "\u001b[0;31mModuleNotFoundError\u001b[0m                       Traceback (most recent call last)",
                        "Cell \u001b[0;32mIn [1], line 41\u001b[0m\n\u001b[1;32m     38\u001b[0m \u001b[38;5;28;01mfrom\u001b[39;00m \u001b[38;5;21;01mmanipulation\u001b[39;00m\u001b[38;5;21;01m.\u001b[39;00m\u001b[38;5;21;01msystems\u001b[39;00m \u001b[38;5;28;01mimport\u001b[39;00m AddIiwaDifferentialIK\n\u001b[1;32m     40\u001b[0m sys\u001b[38;5;241m.\u001b[39mpath\u001b[38;5;241m.\u001b[39mappend(\u001b[38;5;124m'\u001b[39m\u001b[38;5;124m.\u001b[39m\u001b[38;5;124m'\u001b[39m)\n\u001b[0;32m---> 41\u001b[0m \u001b[38;5;28;01mimport\u001b[39;00m \u001b[38;5;21;01menv_ingredient_add\u001b[39;00m\n\u001b[1;32m     42\u001b[0m importlib\u001b[38;5;241m.\u001b[39mreload(env_ingredient_add)\n",
                        "\u001b[0;31mModuleNotFoundError\u001b[0m: No module named 'env_ingredient_add'"
                    ]
                }
            ],
            "outputs_reference": "s3:deepnote-cell-outputs-production/4d6dfff1-e7e8-41c7-9fef-cd7a3f185b66",
            "content_dependencies": null
        },
        {
            "cell_type": "code",
            "metadata": {
                "deepnote_to_be_reexecuted": true,
                "cell_id": "398ac4be912c40a085af43c7dfbe4214",
                "deepnote_cell_type": "code"
            },
            "source": "# Start the visualizer. The cell will output an HTTP link after the execution.\n# Click the link and a MeshCat tab should appear in your browser.\nmeshcat = StartMeshcat()",
            "block_group": "0e53942948114c63a2b8bea4272e33de",
            "execution_count": null,
            "outputs": [],
            "outputs_reference": null,
            "content_dependencies": null
        },
        {
            "cell_type": "markdown",
            "metadata": {
                "formattedRanges": [],
                "cell_id": "e5f48b057f51443087d674a066fe9904",
                "deepnote_cell_type": "text-cell-h1"
            },
            "source": "# Sim environment  - Table  + top down camera",
            "block_group": "17d91acb8339432291b863a3d60b69bd"
        },
        {
            "cell_type": "code",
            "metadata": {
                "deepnote_to_be_reexecuted": true,
                "cell_id": "a28a607208bb4249924c5bf5ca214efb",
                "deepnote_cell_type": "code"
            },
            "source": "def preview_scene_given_directives(model_directive):\n    meshcat.Delete()\n    scenario = LoadScenario(data=model_directive)\n    station = MakeHardwareStation(\n        scenario, meshcat, package_xmls=xmls\n    )\n    simulator = Simulator(station)\n    context = simulator.get_mutable_context()\n    x0 = station.GetOutputPort(\"mobile_iiwa.state_estimated\").Eval(context)\n    station.GetInputPort(\"mobile_iiwa.desired_state\").FixValue(context, x0)\n    meshcat.StartRecording()\n    simulator.AdvanceTo(2.0 if running_as_notebook else 0.1)\n    meshcat.PublishRecording()\n\nif os.getcwd() == \"/datasets/_deepnote_work/manipulation/project\": \n    #scene = open(\"/work/manipulation/project/objects/environment_setup.yaml\")\n    scene = env_ingredient_add.get_environment_set_up(no_scene=False)\n    xmls = [os.getcwd() + \"/package.xml\", \"/work/manipulation/project/package.xml\"]\nelse:\n    #scene = open(\"objects/environment_setup.yaml\") # local setup\n    scene = env_ingredient_add.get_environment_set_up(no_scene=False)\n    xmls = [os.getcwd() + \"/package.xml\"]\n\nscenario = LoadScenario(data=scene)\n\npreview_scene_given_directives(scene)\n\n",
            "block_group": "b8976f4e086d4147bdd9ead0d7d7b315",
            "execution_count": null,
            "outputs": [],
            "outputs_reference": null,
            "content_dependencies": null
        },
        {
            "cell_type": "markdown",
            "source": "<a style='text-decoration:none;line-height:16px;display:flex;color:#5B5B62;padding:10px;justify-content:end;' href='https://deepnote.com?utm_source=created-in-deepnote-cell&projectId=92fbdad2-a4a9-4ef8-b493-c307060b34a1' target=\"_blank\">\n<img alt='Created in deepnote.com' style='display:inline;max-height:16px;margin:0px;margin-right:7.5px;' src='data:image/svg+xml;base64,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' > </img>\nCreated in <span style='font-weight:600;margin-left:4px;'>Deepnote</span></a>",
            "metadata": {
                "created_in_deepnote_cell": true,
                "deepnote_cell_type": "markdown"
            }
        }
    ],
    "nbformat": 4,
    "nbformat_minor": 0,
    "metadata": {
        "deepnote_notebook_id": "a3942bab4d9e41e4970db2f256f0ecd9"
    }
}