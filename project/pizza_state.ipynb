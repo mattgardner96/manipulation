{
    "cells": [
        {
            "cell_type": "markdown",
            "metadata": {
                "formattedRanges": [],
                "cell_id": "58cbba8f187247df89e230f2a79a3850",
                "deepnote_cell_type": "text-cell-h1"
            },
            "source": "# Perception Block",
            "block_group": "b2d5e155bda04869912f8f0ce5cf1010"
        },
        {
            "cell_type": "code",
            "metadata": {
                "source_hash": "e08cfed7",
                "execution_start": 1731974902748,
                "execution_millis": 7329,
                "execution_context_id": "482c30bb-a0e4-4573-9939-6a7417e33629",
                "cell_id": "e56482858b8442999a4298c2b88cca9f",
                "deepnote_cell_type": "code"
            },
            "source": "import os\nimport importlib\nimport sys\n\nimport numpy as np\nfrom pydrake.all import (\n    AbstractValue,\n    AddDefaultVisualization,\n    AddMultibodyPlantSceneGraph,\n    ConstantVectorSource,\n    DiagramBuilder,\n    LeafSystem,\n    LoadModelDirectives,\n    LoadModelDirectivesFromString,\n    Parser,\n    PiecewisePose,\n    ProcessModelDirectives,\n    RigidTransform,\n    RotationMatrix,\n    RollPitchYaw,\n    Simulator,\n    StartMeshcat,\n    LeafSystem,\n    ConstantVectorSource\n)\nfrom IPython.display import display, SVG\nimport pydot\nimport matplotlib.pyplot as plt\nfrom pydrake.common import temp_directory\nfrom pydrake.geometry import StartMeshcat\nfrom pydrake.systems.analysis import Simulator\nfrom pydrake.systems.controllers import JointStiffnessController\nfrom pydrake.visualization import ModelVisualizer\n\nfrom manipulation import running_as_notebook\nfrom manipulation.station import LoadScenario, MakeHardwareStation\nfrom manipulation.utils import ConfigureParser\nfrom manipulation.systems import AddIiwaDifferentialIK\n\nsys.path.append('.')\nimport env_ingredient_add\nimportlib.reload(env_ingredient_add)\n\nimport ipynb\n%run sim_env_setup-replaced_nicholas.ipynb\n",
            "block_group": "12c865721f9145c5b16e73d26852e243",
            "execution_count": 1,
            "outputs": [
                {
                    "name": "stderr",
                    "text": "INFO:drake:Meshcat listening for connections at https://92fbdad2-a4a9-4ef8-b493-c307060b34a1.deepnoteproject.com/7001/\n",
                    "output_type": "stream"
                },
                {
                    "data": {
                        "text/plain": "<IPython.core.display.HTML object>",
                        "text/html": "Meshcat URL: <a href='https://92fbdad2-a4a9-4ef8-b493-c307060b34a1.deepnoteproject.com/7001/' target='_blank'>https://92fbdad2-a4a9-4ef8-b493-c307060b34a1.deepnoteproject.com/7001/</a>"
                    },
                    "metadata": {},
                    "output_type": "display_data"
                },
                {
                    "name": "stdout",
                    "text": "station.system names: \n- plant\n- scene_graph\n- DrakeLcm(bus_name=default)\n- DrakeLcm(bus_name=opt_out)\n- mobile_iiwa.controller\n- meshcat_visualizer(illustration)\n- meshcat_visualizer(inertia)\n- meshcat_visualizer(proximity)\n- meshcat_contact_visualizer\n- inertia_visualizer\nDiagram saved to diagram.png\nstation.system names: \n- plant\n- scene_graph\n- DrakeLcm(bus_name=default)\n- DrakeLcm(bus_name=opt_out)\n- mobile_iiwa.controller\n- meshcat_visualizer(illustration)\n- meshcat_visualizer(inertia)\n- meshcat_visualizer(proximity)\n- meshcat_contact_visualizer\n- inertia_visualizer\nDiagram saved to diagram.png\n",
                    "output_type": "stream"
                }
            ],
            "outputs_reference": "s3:deepnote-cell-outputs-production/c9a8db9a-a439-4fb2-b1ca-44cb33ae02cf",
            "content_dependencies": null
        },
        {
            "cell_type": "code",
            "metadata": {
                "source_hash": "450eddfc",
                "execution_start": 1731974910128,
                "execution_millis": 0,
                "execution_context_id": "301da5ef-263e-4dae-81b3-48e5696403eb",
                "cell_id": "cee4586cf7cc4c3fa535a5f7b4df8ab7",
                "deepnote_cell_type": "code"
            },
            "source": "# Start the visualizer. The cell will output an HTTP link after the execution.\n# Click the link and a MeshCat tab should appear in your browser.\nmeshcat = StartMeshcat()",
            "block_group": "0e53942948114c63a2b8bea4272e33de",
            "execution_count": 2,
            "outputs": [
                {
                    "name": "stderr",
                    "text": "INFO:drake:Meshcat listening for connections at https://92fbdad2-a4a9-4ef8-b493-c307060b34a1.deepnoteproject.com/7002/\n",
                    "output_type": "stream"
                },
                {
                    "data": {
                        "text/plain": "<IPython.core.display.HTML object>",
                        "text/html": "Meshcat URL: <a href='https://92fbdad2-a4a9-4ef8-b493-c307060b34a1.deepnoteproject.com/7002/' target='_blank'>https://92fbdad2-a4a9-4ef8-b493-c307060b34a1.deepnoteproject.com/7002/</a>"
                    },
                    "metadata": {},
                    "output_type": "display_data"
                }
            ],
            "outputs_reference": "dbtable:cell_outputs/f728abf4-68e8-4149-af4f-cfe024daf29d",
            "content_dependencies": null
        },
        {
            "cell_type": "markdown",
            "metadata": {
                "formattedRanges": [],
                "cell_id": "e21fca241b024937816d42a7ec72bcd9",
                "deepnote_cell_type": "text-cell-h1"
            },
            "source": "# Sim environment  - Table  + top down camera",
            "block_group": "17d91acb8339432291b863a3d60b69bd"
        },
        {
            "cell_type": "code",
            "metadata": {
                "source_hash": "3dc3b9b3",
                "execution_start": 1731974910212,
                "execution_millis": 8057,
                "execution_context_id": "482c30bb-a0e4-4573-9939-6a7417e33629",
                "cell_id": "77a8ece4284a4b19920d0a0c6dbff73d",
                "deepnote_cell_type": "code"
            },
            "source": "def preview_scene_given_directives(model_directive):\n    meshcat.Delete()\n    scenario = LoadScenario(data=model_directive)\n    station = MakeHardwareStation(\n        scenario, meshcat, package_xmls=xmls\n    )\n    simulator = Simulator(station)\n    context = simulator.get_mutable_context()\n    x0 = station.GetOutputPort(\"mobile_iiwa.state_estimated\").Eval(context)\n    station.GetInputPort(\"mobile_iiwa.desired_state\").FixValue(context, x0)\n    meshcat.StartRecording()\n    simulator.AdvanceTo(2.0 if running_as_notebook else 0.1)\n    meshcat.PublishRecording()\n\nif os.getcwd() == \"/datasets/_deepnote_work/manipulation/project\": \n    #scene = open(\"/work/manipulation/project/objects/environment_setup.yaml\")\n    scene = env_ingredient_add.pizza_state_environment_set_up()\n    xmls = [os.getcwd() + \"/package.xml\", \"/work/manipulation/project/package.xml\"]\nelse:\n    #scene = open(\"objects/environment_setup.yaml\") # local setup\n    scene = env_ingredient_add.pizza_state_environment_set_up()\n    xmls = [os.getcwd() + \"/package.xml\"]\n\nscenario = LoadScenario(data=scene)\n\npreview_scene_given_directives(scene)\n\n",
            "block_group": "b8976f4e086d4147bdd9ead0d7d7b315",
            "execution_count": 3,
            "outputs": [
                {
                    "name": "stderr",
                    "text": "WARNING:drake:Drake materials have been assigned to a glTF file. glTF defines its own materials, so post hoc materials will be ignored and should be removed from the model specification. glTF file: '/root/.cache/drake/package_map/49284e3afc7c6ccd80b0c605f070c53ef0bb5d1d96330cf15e87c68d804e78a8-178578bad0b90f28768b2e80f2688fa778c9eaa6a5b44b1043272622f95ec888/iiwa_description/meshes/iiwa14/visual/link_4_orange.gltf'\nWARNING:drake:Drake materials have been assigned to a glTF file. glTF defines its own materials, so post hoc materials will be ignored and should be removed from the model specification. glTF file: '/root/.cache/drake/package_map/49284e3afc7c6ccd80b0c605f070c53ef0bb5d1d96330cf15e87c68d804e78a8-178578bad0b90f28768b2e80f2688fa778c9eaa6a5b44b1043272622f95ec888/iiwa_description/meshes/iiwa14/visual/kuka.gltf'\nWARNING:drake:Drake materials have been assigned to a glTF file. glTF defines its own materials, so post hoc materials will be ignored and should be removed from the model specification. glTF file: '/root/.cache/drake/package_map/49284e3afc7c6ccd80b0c605f070c53ef0bb5d1d96330cf15e87c68d804e78a8-178578bad0b90f28768b2e80f2688fa778c9eaa6a5b44b1043272622f95ec888/iiwa_description/meshes/iiwa14/visual/link_2_grey.gltf'\nWARNING:drake:Drake materials have been assigned to a glTF file. glTF defines its own materials, so post hoc materials will be ignored and should be removed from the model specification. glTF file: '/root/.cache/drake/package_map/49284e3afc7c6ccd80b0c605f070c53ef0bb5d1d96330cf15e87c68d804e78a8-178578bad0b90f28768b2e80f2688fa778c9eaa6a5b44b1043272622f95ec888/iiwa_description/meshes/iiwa14/visual/link_4_grey.gltf'\nWARNING:drake:Drake materials have been assigned to a glTF file. glTF defines its own materials, so post hoc materials will be ignored and should be removed from the model specification. glTF file: '/root/.cache/drake/package_map/49284e3afc7c6ccd80b0c605f070c53ef0bb5d1d96330cf15e87c68d804e78a8-178578bad0b90f28768b2e80f2688fa778c9eaa6a5b44b1043272622f95ec888/iiwa_description/meshes/iiwa14/visual/band.gltf'\nWARNING:drake:Drake materials have been assigned to a glTF file. glTF defines its own materials, so post hoc materials will be ignored and should be removed from the model specification. glTF file: '/root/.cache/drake/package_map/49284e3afc7c6ccd80b0c605f070c53ef0bb5d1d96330cf15e87c68d804e78a8-178578bad0b90f28768b2e80f2688fa778c9eaa6a5b44b1043272622f95ec888/iiwa_description/meshes/iiwa14/visual/link_1.gltf'\nWARNING:drake:Drake materials have been assigned to a glTF file. glTF defines its own materials, so post hoc materials will be ignored and should be removed from the model specification. glTF file: '/root/.cache/drake/package_map/49284e3afc7c6ccd80b0c605f070c53ef0bb5d1d96330cf15e87c68d804e78a8-178578bad0b90f28768b2e80f2688fa778c9eaa6a5b44b1043272622f95ec888/iiwa_description/meshes/iiwa14/visual/link_0.gltf'\nWARNING:drake:Drake materials have been assigned to a glTF file. glTF defines its own materials, so post hoc materials will be ignored and should be removed from the model specification. glTF file: '/root/.cache/drake/package_map/49284e3afc7c6ccd80b0c605f070c53ef0bb5d1d96330cf15e87c68d804e78a8-178578bad0b90f28768b2e80f2688fa778c9eaa6a5b44b1043272622f95ec888/iiwa_description/meshes/iiwa14/visual/link_5.gltf'\nWARNING:drake:Drake materials have been assigned to a glTF file. glTF defines its own materials, so post hoc materials will be ignored and should be removed from the model specification. glTF file: '/root/.cache/drake/package_map/49284e3afc7c6ccd80b0c605f070c53ef0bb5d1d96330cf15e87c68d804e78a8-178578bad0b90f28768b2e80f2688fa778c9eaa6a5b44b1043272622f95ec888/iiwa_description/meshes/iiwa14/visual/band.gltf'\nWARNING:drake:Drake materials have been assigned to a glTF file. glTF defines its own materials, so post hoc materials will be ignored and should be removed from the model specification. glTF file: '/root/.cache/drake/package_map/49284e3afc7c6ccd80b0c605f070c53ef0bb5d1d96330cf15e87c68d804e78a8-178578bad0b90f28768b2e80f2688fa778c9eaa6a5b44b1043272622f95ec888/iiwa_description/meshes/iiwa14/visual/link_6_orange.gltf'\nWARNING:drake:Drake materials have been assigned to a glTF file. glTF defines its own materials, so post hoc materials will be ignored and should be removed from the model specification. glTF file: '/root/.cache/drake/package_map/49284e3afc7c6ccd80b0c605f070c53ef0bb5d1d96330cf15e87c68d804e78a8-178578bad0b90f28768b2e80f2688fa778c9eaa6a5b44b1043272622f95ec888/iiwa_description/meshes/iiwa14/visual/kuka.gltf'\nWARNING:drake:Drake materials have been assigned to a glTF file. glTF defines its own materials, so post hoc materials will be ignored and should be removed from the model specification. glTF file: '/root/.cache/drake/package_map/49284e3afc7c6ccd80b0c605f070c53ef0bb5d1d96330cf15e87c68d804e78a8-178578bad0b90f28768b2e80f2688fa778c9eaa6a5b44b1043272622f95ec888/iiwa_description/meshes/iiwa14/visual/link_6_grey.gltf'\nWARNING:drake:Drake materials have been assigned to a glTF file. glTF defines its own materials, so post hoc materials will be ignored and should be removed from the model specification. glTF file: '/root/.cache/drake/package_map/49284e3afc7c6ccd80b0c605f070c53ef0bb5d1d96330cf15e87c68d804e78a8-178578bad0b90f28768b2e80f2688fa778c9eaa6a5b44b1043272622f95ec888/iiwa_description/meshes/iiwa14/visual/link_7.gltf'\nWARNING:drake:Drake materials have been assigned to a glTF file. glTF defines its own materials, so post hoc materials will be ignored and should be removed from the model specification. glTF file: '/root/.cache/drake/package_map/49284e3afc7c6ccd80b0c605f070c53ef0bb5d1d96330cf15e87c68d804e78a8-178578bad0b90f28768b2e80f2688fa778c9eaa6a5b44b1043272622f95ec888/iiwa_description/meshes/iiwa14/visual/link_2_orange.gltf'\nWARNING:drake:Drake materials have been assigned to a glTF file. glTF defines its own materials, so post hoc materials will be ignored and should be removed from the model specification. glTF file: '/root/.cache/drake/package_map/49284e3afc7c6ccd80b0c605f070c53ef0bb5d1d96330cf15e87c68d804e78a8-178578bad0b90f28768b2e80f2688fa778c9eaa6a5b44b1043272622f95ec888/iiwa_description/meshes/iiwa14/visual/link_3.gltf'\n",
                    "output_type": "stream"
                }
            ],
            "outputs_reference": "s3:deepnote-cell-outputs-production/07cc0396-6b42-49a0-9438-d40cd52c0f36",
            "content_dependencies": null
        },
        {
            "cell_type": "markdown",
            "metadata": {
                "formattedRanges": [],
                "cell_id": "e8ef6e520f014172b00063239004ea93",
                "deepnote_cell_type": "text-cell-h2"
            },
            "source": "## Perception - Plumbing ",
            "block_group": "a97fdf9b175d4356867665f02d0a6751"
        },
        {
            "cell_type": "code",
            "metadata": {
                "source_hash": "d217dc0",
                "execution_start": 1731974963348,
                "execution_millis": 4700,
                "execution_context_id": "482c30bb-a0e4-4573-9939-6a7417e33629",
                "cell_id": "be33e2026df6423e9232ca7b1a6812a1",
                "deepnote_cell_type": "code"
            },
            "source": "class CameraSystem:\n    def __init__(self, idx, meshcat, diagram, context):\n        self.idx = idx\n\n        # Read images\n        depth_im_read = (\n            diagram.GetOutputPort(\"camera{}_depth_image\".format(idx))\n            .Eval(context)\n            .data.squeeze()\n        )\n        self.depth_im = deepcopy(depth_im_read)\n        self.depth_im[self.depth_im == np.inf] = 10.0\n        self.rgb_im = (\n            diagram.GetOutputPort(\"camera{}_rgb_image\".format(idx)).Eval(context).data\n        )\n\n        # Visualize\n        point_cloud = diagram.GetOutputPort(\"camera{}_point_cloud\".format(idx)).Eval(\n            context\n        )\n        meshcat.SetObject(f\"Camera {idx} point cloud\", point_cloud)\n\n        # Get other info about the camera\n        cam = diagram.GetSubsystemByName(\"camera\" + str(idx))\n        cam_context = cam.GetMyMutableContextFromRoot(context)\n        self.X_WC = cam.body_pose_in_world_output_port().Eval(cam_context)\n        self.cam_info = cam.default_depth_render_camera().core().intrinsics()\n\n    def project_depth_to_pC(self, depth_pixel):\n        \"\"\"\n        project depth pixels to points in camera frame\n        using pinhole camera model\n        Input:\n            depth_pixels: numpy array of (nx3) or (3,)\n        Output:\n            pC: 3D point in camera frame, numpy array of (nx3)\n        \"\"\"\n        # switch u,v due to python convention\n        v = depth_pixel[:, 0]\n        u = depth_pixel[:, 1]\n        Z = depth_pixel[:, 2]\n        cx = self.cam_info.center_x()\n        cy = self.cam_info.center_y()\n        fx = self.cam_info.focal_x()\n        fy = self.cam_info.focal_y()\n        X = (u - cx) * Z / fx\n        Y = (v - cy) * Z / fy\n        pC = np.c_[X, Y, Z]\n        return pC\n\nbot = PizzaBot(scenario)\nenvironment_diagram, environment_context = bot.diagram, bot.CreateDefaultContext()\n# environment_context = ClutteredSceneSystem()\ncameras = []\ncameras.append(CameraSystem(0, meshcat, environment_diagram, environment_context))\n",
            "block_group": "37588a4ed48441b6ad40eb01a6631d81",
            "execution_count": 5,
            "outputs": [
                {
                    "name": "stderr",
                    "text": "WARNING:drake:Drake materials have been assigned to a glTF file. glTF defines its own materials, so post hoc materials will be ignored and should be removed from the model specification. glTF file: '/root/.cache/drake/package_map/49284e3afc7c6ccd80b0c605f070c53ef0bb5d1d96330cf15e87c68d804e78a8-178578bad0b90f28768b2e80f2688fa778c9eaa6a5b44b1043272622f95ec888/iiwa_description/meshes/iiwa14/visual/link_4_orange.gltf'\nWARNING:drake:Drake materials have been assigned to a glTF file. glTF defines its own materials, so post hoc materials will be ignored and should be removed from the model specification. glTF file: '/root/.cache/drake/package_map/49284e3afc7c6ccd80b0c605f070c53ef0bb5d1d96330cf15e87c68d804e78a8-178578bad0b90f28768b2e80f2688fa778c9eaa6a5b44b1043272622f95ec888/iiwa_description/meshes/iiwa14/visual/kuka.gltf'\nWARNING:drake:Drake materials have been assigned to a glTF file. glTF defines its own materials, so post hoc materials will be ignored and should be removed from the model specification. glTF file: '/root/.cache/drake/package_map/49284e3afc7c6ccd80b0c605f070c53ef0bb5d1d96330cf15e87c68d804e78a8-178578bad0b90f28768b2e80f2688fa778c9eaa6a5b44b1043272622f95ec888/iiwa_description/meshes/iiwa14/visual/link_2_grey.gltf'\nWARNING:drake:Drake materials have been assigned to a glTF file. glTF defines its own materials, so post hoc materials will be ignored and should be removed from the model specification. glTF file: '/root/.cache/drake/package_map/49284e3afc7c6ccd80b0c605f070c53ef0bb5d1d96330cf15e87c68d804e78a8-178578bad0b90f28768b2e80f2688fa778c9eaa6a5b44b1043272622f95ec888/iiwa_description/meshes/iiwa14/visual/link_4_grey.gltf'\nWARNING:drake:Drake materials have been assigned to a glTF file. glTF defines its own materials, so post hoc materials will be ignored and should be removed from the model specification. glTF file: '/root/.cache/drake/package_map/49284e3afc7c6ccd80b0c605f070c53ef0bb5d1d96330cf15e87c68d804e78a8-178578bad0b90f28768b2e80f2688fa778c9eaa6a5b44b1043272622f95ec888/iiwa_description/meshes/iiwa14/visual/band.gltf'\nWARNING:drake:Drake materials have been assigned to a glTF file. glTF defines its own materials, so post hoc materials will be ignored and should be removed from the model specification. glTF file: '/root/.cache/drake/package_map/49284e3afc7c6ccd80b0c605f070c53ef0bb5d1d96330cf15e87c68d804e78a8-178578bad0b90f28768b2e80f2688fa778c9eaa6a5b44b1043272622f95ec888/iiwa_description/meshes/iiwa14/visual/link_1.gltf'\nWARNING:drake:Drake materials have been assigned to a glTF file. glTF defines its own materials, so post hoc materials will be ignored and should be removed from the model specification. glTF file: '/root/.cache/drake/package_map/49284e3afc7c6ccd80b0c605f070c53ef0bb5d1d96330cf15e87c68d804e78a8-178578bad0b90f28768b2e80f2688fa778c9eaa6a5b44b1043272622f95ec888/iiwa_description/meshes/iiwa14/visual/link_0.gltf'\nWARNING:drake:Drake materials have been assigned to a glTF file. glTF defines its own materials, so post hoc materials will be ignored and should be removed from the model specification. glTF file: '/root/.cache/drake/package_map/49284e3afc7c6ccd80b0c605f070c53ef0bb5d1d96330cf15e87c68d804e78a8-178578bad0b90f28768b2e80f2688fa778c9eaa6a5b44b1043272622f95ec888/iiwa_description/meshes/iiwa14/visual/link_5.gltf'\nWARNING:drake:Drake materials have been assigned to a glTF file. glTF defines its own materials, so post hoc materials will be ignored and should be removed from the model specification. glTF file: '/root/.cache/drake/package_map/49284e3afc7c6ccd80b0c605f070c53ef0bb5d1d96330cf15e87c68d804e78a8-178578bad0b90f28768b2e80f2688fa778c9eaa6a5b44b1043272622f95ec888/iiwa_description/meshes/iiwa14/visual/band.gltf'\nWARNING:drake:Drake materials have been assigned to a glTF file. glTF defines its own materials, so post hoc materials will be ignored and should be removed from the model specification. glTF file: '/root/.cache/drake/package_map/49284e3afc7c6ccd80b0c605f070c53ef0bb5d1d96330cf15e87c68d804e78a8-178578bad0b90f28768b2e80f2688fa778c9eaa6a5b44b1043272622f95ec888/iiwa_description/meshes/iiwa14/visual/link_6_orange.gltf'\nWARNING:drake:Drake materials have been assigned to a glTF file. glTF defines its own materials, so post hoc materials will be ignored and should be removed from the model specification. glTF file: '/root/.cache/drake/package_map/49284e3afc7c6ccd80b0c605f070c53ef0bb5d1d96330cf15e87c68d804e78a8-178578bad0b90f28768b2e80f2688fa778c9eaa6a5b44b1043272622f95ec888/iiwa_description/meshes/iiwa14/visual/kuka.gltf'\nWARNING:drake:Drake materials have been assigned to a glTF file. glTF defines its own materials, so post hoc materials will be ignored and should be removed from the model specification. glTF file: '/root/.cache/drake/package_map/49284e3afc7c6ccd80b0c605f070c53ef0bb5d1d96330cf15e87c68d804e78a8-178578bad0b90f28768b2e80f2688fa778c9eaa6a5b44b1043272622f95ec888/iiwa_description/meshes/iiwa14/visual/link_6_grey.gltf'\nWARNING:drake:Drake materials have been assigned to a glTF file. glTF defines its own materials, so post hoc materials will be ignored and should be removed from the model specification. glTF file: '/root/.cache/drake/package_map/49284e3afc7c6ccd80b0c605f070c53ef0bb5d1d96330cf15e87c68d804e78a8-178578bad0b90f28768b2e80f2688fa778c9eaa6a5b44b1043272622f95ec888/iiwa_description/meshes/iiwa14/visual/link_7.gltf'\nWARNING:drake:Drake materials have been assigned to a glTF file. glTF defines its own materials, so post hoc materials will be ignored and should be removed from the model specification. glTF file: '/root/.cache/drake/package_map/49284e3afc7c6ccd80b0c605f070c53ef0bb5d1d96330cf15e87c68d804e78a8-178578bad0b90f28768b2e80f2688fa778c9eaa6a5b44b1043272622f95ec888/iiwa_description/meshes/iiwa14/visual/link_2_orange.gltf'\nWARNING:drake:Drake materials have been assigned to a glTF file. glTF defines its own materials, so post hoc materials will be ignored and should be removed from the model specification. glTF file: '/root/.cache/drake/package_map/49284e3afc7c6ccd80b0c605f070c53ef0bb5d1d96330cf15e87c68d804e78a8-178578bad0b90f28768b2e80f2688fa778c9eaa6a5b44b1043272622f95ec888/iiwa_description/meshes/iiwa14/visual/link_3.gltf'\n",
                    "output_type": "stream"
                },
                {
                    "output_type": "error",
                    "ename": "RuntimeError",
                    "evalue": "System diagram does not have an output port named camera0_depth_image (valid port names: it has no output ports)",
                    "traceback": [
                        "\u001b[0;31m---------------------------------------------------------------------------\u001b[0m",
                        "\u001b[0;31mRuntimeError\u001b[0m                              Traceback (most recent call last)",
                        "Cell \u001b[0;32mIn [5], line 55\u001b[0m\n\u001b[1;32m     53\u001b[0m \u001b[38;5;66;03m# environment_context = ClutteredSceneSystem()\u001b[39;00m\n\u001b[1;32m     54\u001b[0m cameras \u001b[38;5;241m=\u001b[39m []\n\u001b[0;32m---> 55\u001b[0m cameras\u001b[38;5;241m.\u001b[39mappend(\u001b[43mCameraSystem\u001b[49m\u001b[43m(\u001b[49m\u001b[38;5;241;43m0\u001b[39;49m\u001b[43m,\u001b[49m\u001b[43m \u001b[49m\u001b[43mmeshcat\u001b[49m\u001b[43m,\u001b[49m\u001b[43m \u001b[49m\u001b[43menvironment_diagram\u001b[49m\u001b[43m,\u001b[49m\u001b[43m \u001b[49m\u001b[43menvironment_context\u001b[49m\u001b[43m)\u001b[49m)\n",
                        "Cell \u001b[0;32mIn [5], line 7\u001b[0m, in \u001b[0;36mCameraSystem.__init__\u001b[0;34m(self, idx, meshcat, diagram, context)\u001b[0m\n\u001b[1;32m      3\u001b[0m \u001b[38;5;28mself\u001b[39m\u001b[38;5;241m.\u001b[39midx \u001b[38;5;241m=\u001b[39m idx\n\u001b[1;32m      5\u001b[0m \u001b[38;5;66;03m# Read images\u001b[39;00m\n\u001b[1;32m      6\u001b[0m depth_im_read \u001b[38;5;241m=\u001b[39m (\n\u001b[0;32m----> 7\u001b[0m     \u001b[43mdiagram\u001b[49m\u001b[38;5;241;43m.\u001b[39;49m\u001b[43mGetOutputPort\u001b[49m\u001b[43m(\u001b[49m\u001b[38;5;124;43m\"\u001b[39;49m\u001b[38;5;124;43mcamera\u001b[39;49m\u001b[38;5;132;43;01m{}\u001b[39;49;00m\u001b[38;5;124;43m_depth_image\u001b[39;49m\u001b[38;5;124;43m\"\u001b[39;49m\u001b[38;5;241;43m.\u001b[39;49m\u001b[43mformat\u001b[49m\u001b[43m(\u001b[49m\u001b[43midx\u001b[49m\u001b[43m)\u001b[49m\u001b[43m)\u001b[49m\n\u001b[1;32m      8\u001b[0m     \u001b[38;5;241m.\u001b[39mEval(context)\n\u001b[1;32m      9\u001b[0m     \u001b[38;5;241m.\u001b[39mdata\u001b[38;5;241m.\u001b[39msqueeze()\n\u001b[1;32m     10\u001b[0m )\n\u001b[1;32m     11\u001b[0m \u001b[38;5;28mself\u001b[39m\u001b[38;5;241m.\u001b[39mdepth_im \u001b[38;5;241m=\u001b[39m deepcopy(depth_im_read)\n\u001b[1;32m     12\u001b[0m \u001b[38;5;28mself\u001b[39m\u001b[38;5;241m.\u001b[39mdepth_im[\u001b[38;5;28mself\u001b[39m\u001b[38;5;241m.\u001b[39mdepth_im \u001b[38;5;241m==\u001b[39m np\u001b[38;5;241m.\u001b[39minf] \u001b[38;5;241m=\u001b[39m \u001b[38;5;241m10.0\u001b[39m\n",
                        "\u001b[0;31mRuntimeError\u001b[0m: System diagram does not have an output port named camera0_depth_image (valid port names: it has no output ports)"
                    ]
                }
            ],
            "outputs_reference": "s3:deepnote-cell-outputs-production/5fd77fb2-9025-48b7-80d2-3ed7abd8cc76",
            "content_dependencies": null
        },
        {
            "cell_type": "code",
            "metadata": {
                "deepnote_to_be_reexecuted": true,
                "cell_id": "dcb2623aa4594668b77841d690cf7800",
                "deepnote_cell_type": "code"
            },
            "source": "plt.imshow(cameras[0].rgb_im)\nplt.title(\"View from camera 0\")\nplt.show()",
            "block_group": "40369b2713f34860a8b6cee9a248441c",
            "execution_count": null,
            "outputs": [],
            "outputs_reference": null,
            "content_dependencies": null
        },
        {
            "cell_type": "markdown",
            "source": "<a style='text-decoration:none;line-height:16px;display:flex;color:#5B5B62;padding:10px;justify-content:end;' href='https://deepnote.com?utm_source=created-in-deepnote-cell&projectId=92fbdad2-a4a9-4ef8-b493-c307060b34a1' target=\"_blank\">\n<img alt='Created in deepnote.com' style='display:inline;max-height:16px;margin:0px;margin-right:7.5px;' src='data:image/svg+xml;base64,PD94bWwgdmVyc2lvbj0iMS4wIiBlbmNvZGluZz0iVVRGLTgiPz4KPHN2ZyB3aWR0aD0iODBweCIgaGVpZ2h0PSI4MHB4IiB2aWV3Qm94PSIwIDAgODAgODAiIHZlcnNpb249IjEuMSIgeG1sbnM9Imh0dHA6Ly93d3cudzMub3JnLzIwMDAvc3ZnIiB4bWxuczp4bGluaz0iaHR0cDovL3d3dy53My5vcmcvMTk5OS94bGluayI+CiAgICA8IS0tIEdlbmVyYXRvcjogU2tldGNoIDU0LjEgKDc2NDkwKSAtIGh0dHBzOi8vc2tldGNoYXBwLmNvbSAtLT4KICAgIDx0aXRsZT5Hcm91cCAzPC90aXRsZT4KICAgIDxkZXNjPkNyZWF0ZWQgd2l0aCBTa2V0Y2guPC9kZXNjPgogICAgPGcgaWQ9IkxhbmRpbmciIHN0cm9rZT0ibm9uZSIgc3Ryb2tlLXdpZHRoPSIxIiBmaWxsPSJub25lIiBmaWxsLXJ1bGU9ImV2ZW5vZGQiPgogICAgICAgIDxnIGlkPSJBcnRib2FyZCIgdHJhbnNmb3JtPSJ0cmFuc2xhdGUoLTEyMzUuMDAwMDAwLCAtNzkuMDAwMDAwKSI+CiAgICAgICAgICAgIDxnIGlkPSJHcm91cC0zIiB0cmFuc2Zvcm09InRyYW5zbGF0ZSgxMjM1LjAwMDAwMCwgNzkuMDAwMDAwKSI+CiAgICAgICAgICAgICAgICA8cG9seWdvbiBpZD0iUGF0aC0yMCIgZmlsbD0iIzAyNjVCNCIgcG9pbnRzPSIyLjM3NjIzNzYyIDgwIDM4LjA0NzY2NjcgODAgNTcuODIxNzgyMiA3My44MDU3NTkyIDU3LjgyMTc4MjIgMzIuNzU5MjczOSAzOS4xNDAyMjc4IDMxLjY4MzE2ODMiPjwvcG9seWdvbj4KICAgICAgICAgICAgICAgIDxwYXRoIGQ9Ik0zNS4wMDc3MTgsODAgQzQyLjkwNjIwMDcsNzYuNDU0OTM1OCA0Ny41NjQ5MTY3LDcxLjU0MjI2NzEgNDguOTgzODY2LDY1LjI2MTk5MzkgQzUxLjExMjI4OTksNTUuODQxNTg0MiA0MS42NzcxNzk1LDQ5LjIxMjIyODQgMjUuNjIzOTg0Niw0OS4yMTIyMjg0IEMyNS40ODQ5Mjg5LDQ5LjEyNjg0NDggMjkuODI2MTI5Niw0My4yODM4MjQ4IDM4LjY0NzU4NjksMzEuNjgzMTY4MyBMNzIuODcxMjg3MSwzMi41NTQ0MjUgTDY1LjI4MDk3Myw2Ny42NzYzNDIxIEw1MS4xMTIyODk5LDc3LjM3NjE0NCBMMzUuMDA3NzE4LDgwIFoiIGlkPSJQYXRoLTIyIiBmaWxsPSIjMDAyODY4Ij48L3BhdGg+CiAgICAgICAgICAgICAgICA8cGF0aCBkPSJNMCwzNy43MzA0NDA1IEwyNy4xMTQ1MzcsMC4yNTcxMTE0MzYgQzYyLjM3MTUxMjMsLTEuOTkwNzE3MDEgODAsMTAuNTAwMzkyNyA4MCwzNy43MzA0NDA1IEM4MCw2NC45NjA0ODgyIDY0Ljc3NjUwMzgsNzkuMDUwMzQxNCAzNC4zMjk1MTEzLDgwIEM0Ny4wNTUzNDg5LDc3LjU2NzA4MDggNTMuNDE4MjY3Nyw3MC4zMTM2MTAzIDUzLjQxODI2NzcsNTguMjM5NTg4NSBDNTMuNDE4MjY3Nyw0MC4xMjg1NTU3IDM2LjMwMzk1NDQsMzcuNzMwNDQwNSAyNS4yMjc0MTcsMzcuNzMwNDQwNSBDMTcuODQzMDU4NiwzNy43MzA0NDA1IDkuNDMzOTE5NjYsMzcuNzMwNDQwNSAwLDM3LjczMDQ0MDUgWiIgaWQ9IlBhdGgtMTkiIGZpbGw9IiMzNzkzRUYiPjwvcGF0aD4KICAgICAgICAgICAgPC9nPgogICAgICAgIDwvZz4KICAgIDwvZz4KPC9zdmc+' > </img>\nCreated in <span style='font-weight:600;margin-left:4px;'>Deepnote</span></a>",
            "metadata": {
                "created_in_deepnote_cell": true,
                "deepnote_cell_type": "markdown"
            }
        }
    ],
    "nbformat": 4,
    "nbformat_minor": 0,
    "metadata": {
        "deepnote_notebook_id": "f5a2cf05ad704b878b840e20943beb2a"
    }
}