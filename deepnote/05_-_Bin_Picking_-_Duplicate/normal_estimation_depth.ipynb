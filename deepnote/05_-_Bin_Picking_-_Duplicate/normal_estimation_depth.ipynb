{
  "cells": [
    {
      "cell_type": "markdown",
      "source": "# Normal Estimation from Depth Image",
      "metadata": {
        "id": "9CagYlhclDR4",
        "cell_id": "a8fb240150d84293914429dbcb40490f",
        "deepnote_cell_type": "markdown"
      },
      "block_group": "8749b59fd0be4ffda0f8156db0f0890d"
    },
    {
      "cell_type": "code",
      "source": "from copy import deepcopy\n\nimport matplotlib.pyplot as plt\nimport numpy as np\nfrom matplotlib.patches import Rectangle\nfrom pydrake.all import RigidTransform, RotationMatrix, StartMeshcat\n\nfrom manipulation import running_as_notebook\nfrom manipulation.meshcat_utils import AddMeshcatTriad\nfrom manipulation.mustard_depth_camera_example import MustardExampleSystem",
      "metadata": {
        "id": "_GMCWQ1RjBoB",
        "cell_id": "8482383bd8a14beaba17309d9afb29cf",
        "deepnote_cell_type": "code"
      },
      "outputs": [],
      "outputs_reference": null,
      "execution_count": null,
      "block_group": "8fabb28ead404f35b6529e22056634c1",
      "content_dependencies": null
    },
    {
      "cell_type": "code",
      "source": "# Start the visualizer.\nmeshcat = StartMeshcat()",
      "metadata": {
        "cell_id": "0df3c286628647158f3b9513a7972502",
        "deepnote_cell_type": "code"
      },
      "outputs": [],
      "outputs_reference": null,
      "execution_count": null,
      "block_group": "4a2b18d0159440ea90502e1bb8a5ed74",
      "content_dependencies": null
    },
    {
      "cell_type": "markdown",
      "source": "# Problem Description\nIn the lecture, we learned about estimating the point cloud normal vectors and surface curvations. For this exercise, you will investigate a slightly different approach. In particular, you will exploit the structure already presented in a depth image to avoid computing nearest neighbors. \n\n**These are the main steps of the exercise:**\n1. Implement the `estimate_normal_by_nearest_pixels` method.\n2. Come up with an example that breaks the `estimate_normal_by_nearest_pixels` method.\n\nRun the cell below to set up the simulation environment.",
      "metadata": {
        "id": "UxATaRk3jBoH",
        "cell_id": "fa9d2349c04847c3a7e482c1095a9578",
        "deepnote_cell_type": "markdown"
      },
      "block_group": "638d4d0a7ff743a78953cee12c749dc9"
    },
    {
      "cell_type": "code",
      "source": "class NormalEstimation:\n    def __init__(self):\n        diagram = MustardExampleSystem()\n        context = diagram.CreateDefaultContext()\n\n        # setup\n        meshcat.SetProperty(\"/Background\", \"visible\", False)\n\n        # getting data\n        self.point_cloud = diagram.GetOutputPort(\"camera0_point_cloud\").Eval(context)\n        self.rgb_im = diagram.GetOutputPort(\"camera0_rgb_image\").Eval(context).data\n        self.depth_im_read = (\n            diagram.GetOutputPort(\"camera0_depth_image\").Eval(context).data.squeeze()\n        )\n        self.depth_im = deepcopy(self.depth_im_read)\n        self.depth_im[self.depth_im == np.inf] = 10.0\n        label_im = (\n            diagram.GetOutputPort(\"camera0_label_image\").Eval(context).data.squeeze()\n        )\n        self.mask = label_im == 1\n\n        # camera specs\n        cam0 = diagram.GetSubsystemByName(\"camera0\")\n        cam0_context = cam0.GetMyMutableContextFromRoot(context)\n        self.X_WC = cam0.body_pose_in_world_output_port().Eval(cam0_context)\n        self.cam_info = cam0.depth_camera_info()\n\n    def project_depth_to_pC(self, depth_pixel, uv=None):\n        \"\"\"\n        project depth pixels to points in camera frame\n        using pinhole camera model\n        Input:\n            depth_pixels: numpy array of (nx3) or (3,)\n        Output:\n            pC: 3D point in camera frame, numpy array of (nx3)\n        \"\"\"\n        # switch u,v due to python convention\n        v = depth_pixel[:, 0]\n        u = depth_pixel[:, 1]\n        Z = depth_pixel[:, 2]\n        # read camera intrinsics\n        cx = self.cam_info.center_x()\n        cy = self.cam_info.center_y()\n        fx = self.cam_info.focal_x()\n        fy = self.cam_info.focal_y()\n        X = (u - cx) * Z / fx\n        Y = (v - cy) * Z / fy\n        pC = np.c_[X, Y, Z]\n        return pC\n\n    def plot_scanning_window(self, u_range, v_range):\n        \"\"\"\n        visualize the scanning window\n        u_range: (u_start, u_end)\n        v_range: (v_start, v_end)\n        u, v are the 1st and 2nd axis of the image array\n        \"\"\"\n        # switch u, v range to get x, y\n        x0, x1 = v_range\n        y0, y1 = u_range\n        fig, ax = plt.subplots()\n        ax.imshow(self.depth_im)\n        ax.add_patch(Rectangle((x0, y0), x1 - x0, y1 - y0, alpha=0.5, fc=\"r\"))\n\n    def vis_normals(self, normals):\n        \"\"\" \"\"\"\n        for i in range(len(normals)):\n            name = \"normal_vec_{}\".format(i)\n            AddMeshcatTriad(meshcat, name, length=0.01, radius=0.001, X_PT=normals[i])\n\n\ndef bbox(img):\n    a = np.where(img != 0)\n    bbox = ([np.min(a[0]), np.max(a[0])], [np.min(a[1]), np.max(a[1])])\n    return bbox\n\n\nenv = NormalEstimation()\nmask = env.mask\ndepth_im = env.depth_im",
      "metadata": {
        "id": "STaJPvHmjBoH",
        "cell_id": "ab9d6e0b418341c0b37361ba2e59ee30",
        "deepnote_cell_type": "code"
      },
      "outputs": [],
      "outputs_reference": null,
      "execution_count": null,
      "block_group": "ad8dd56368774f229f18931a1fc87b3e",
      "content_dependencies": null
    },
    {
      "cell_type": "markdown",
      "source": "The object of interest is the mustard bottle. Our goal in this exercise is to compute the estimate of point cloud normals of the mustard bottle from a depth image. The depth image is visualized below.",
      "metadata": {
        "id": "SevGI1izjBoN",
        "cell_id": "430c7eeb95f5460db13e03bd965ab502",
        "deepnote_cell_type": "markdown"
      },
      "block_group": "eba50e99913040d6b8746b42b2eb9b0f"
    },
    {
      "cell_type": "code",
      "source": "plt.imshow(depth_im)",
      "metadata": {
        "id": "TyACO5ThjBoO",
        "cell_id": "87f1a7fb50e34b68a133de1bbb3747a7",
        "deepnote_cell_type": "code"
      },
      "outputs": [],
      "outputs_reference": null,
      "execution_count": null,
      "block_group": "c6755cfc3ac24dc5b8425f957c6c5c65",
      "content_dependencies": null
    },
    {
      "cell_type": "markdown",
      "source": "The core idea of the approach is to exploit the fact that a depth image already includes spatial information among pixels. For example, for a selected pixel, the pixels that surround it are likely to be its nearest neighbors. Therefore, instead of computing nearest neighbors, we can instead use the nearest pixels in place of nearest neighbors. \n\nThe cell below provides a sequence of screenshots of the method, where a square/rectangular window moves across the depth image. All pixels in the sliding window is used to compute the normal vector of the center point of the window. In your implementation below, you will use a smaller window and a smaller step size to get better accuracy.",
      "metadata": {
        "id": "yDpgse_ojBoS",
        "cell_id": "28121a11ed5e40e5bd9713975e266315",
        "deepnote_cell_type": "markdown"
      },
      "block_group": "ff4eef277fd04c92bc3792314702df7c"
    },
    {
      "cell_type": "code",
      "source": "uv_step = 40\nv_bound, u_bound = bbox(mask)\n\nfor v in range(v_bound[0], v_bound[1], uv_step):\n    for u in range(u_bound[0], u_bound[1], uv_step):\n        center = [v, u]\n        u_length = 30\n        v_length = 30\n        if running_as_notebook:\n            env.plot_scanning_window(\n                [center[0] - v_length, center[0] + v_length + 1],\n                [center[1] - u_length, center[1] + u_length + 1],\n            )",
      "metadata": {
        "id": "WD7U95EDjBoT",
        "cell_id": "dc49eb7e640f4a4aadfa6fa369a43b96",
        "deepnote_cell_type": "code"
      },
      "outputs": [],
      "outputs_reference": null,
      "execution_count": null,
      "block_group": "c125e4e213f847079cdcd5a87dd459da",
      "content_dependencies": null
    },
    {
      "cell_type": "markdown",
      "source": "## Mapping Depth Image to Point Cloud\n\nNote that pixel indices of a depth image is not a valid position measurement in the 3D world. Fortunately, there is a simple mapping from pixel locations to poses in the 3D world, and it is called the [pinhole camera model](https://docs.opencv.org/3.4/d9/d0c/group__calib3d.html). We have helped you map all pixels of the depth image to points in the camera frame in the cell below. In case you need to gain direct access to this mapping, please refer to the `project_depth_to_pC` method in the `NormalEstimation` class.\n\nThe diagram below is found from [OpenCV documentation](https://docs.opencv.org/3.4/d9/d0c/group__calib3d.html). Note that the $u$ and $v$ directions are reversed in Python due to the difference in convention.",
      "metadata": {
        "id": "o-8vPWxdjBoX",
        "cell_id": "548cb715a93b404fa1aed1734c30c1ef",
        "deepnote_cell_type": "markdown"
      },
      "block_group": "bfc9d5026d774807b25c5502c0f5bda0"
    },
    {
      "cell_type": "markdown",
      "source": "![](https://docs.opencv.org/3.4/pinhole_camera_model.png)",
      "metadata": {
        "id": "OaXlVRcskbDf",
        "cell_id": "d960b19299ad45c5a0e5acd581f14d54",
        "deepnote_cell_type": "markdown"
      },
      "block_group": "b46236d86c114707af8294710f664859"
    },
    {
      "cell_type": "code",
      "source": "img_h, img_w = depth_im.shape\nv_range = np.arange(img_h)\nu_range = np.arange(img_w)\ndepth_u, depth_v = np.meshgrid(u_range, v_range)\ndepth_pnts = np.dstack([depth_v, depth_u, depth_im])\ndepth_pnts = depth_pnts.reshape([img_h * img_w, 3])\n# point poses in camera frame\npC = env.project_depth_to_pC(depth_pnts)",
      "metadata": {
        "id": "JHn2SKHDjBoY",
        "cell_id": "78f6911942bd4aa68c34995f24940325",
        "deepnote_cell_type": "code"
      },
      "outputs": [],
      "outputs_reference": null,
      "execution_count": null,
      "block_group": "2442472f9a8e456895e4c9eb0ea4f2fe",
      "content_dependencies": null
    },
    {
      "cell_type": "markdown",
      "source": "## Computing Surface Normals by Nearest Pixels\nNow we should be able to calculate the surface normals. Recall from section 5.5.2 of the textbook, in each sliding window we can use the points to construct a data matrix (also known as a *scatter matrix*) **W** which exhibits special properties that allows us to estimate the local normals. \n\n**Problem 5.2.a** [2pts] Which eigenvector of **W** corresponds to the vector normal to the points in the sliding window? Assume we want the normal to align with the camera's z-axis, how can you use the eigenvectors of **W** to create a rotation matrix representing the desired orientation of the normal frame. Justify that your answer represents a valid rotation matrix. ",
      "metadata": {
        "id": "StDSt_MtjBoc",
        "cell_id": "333c80927c7c495e9db132fec8a5c328",
        "deepnote_cell_type": "markdown"
      },
      "block_group": "867b7a8c4d4f4228998e25d7d5178b8e"
    },
    {
      "cell_type": "markdown",
      "source": "**Problem 5.2.b** [4pts] **Complete the implementation of the `estimate_normal_by_nearest_pixels` below.** \n\nNote that locations of sliding windows are provided to you for the ease of grading. The pose of the depth camera is `X_WC`, **it is a different depth camera from the one shown in the meshcat visualizer**. Lastly, **make sure the +z axis of the normal frame points outward, toward the depth camera (different from the one shown in the meshcat visualizer)**. It will be useful to review section 5.5.2 in the notes for computing the normal estimate. \n\nHINT: consider using *np.linalg.eigh*",
      "metadata": {
        "cell_id": "4afbdf9800c946c08c68cc138d111fa1",
        "deepnote_cell_type": "markdown"
      },
      "block_group": "38de2dc8b3bb44f6b5b35a4c01e90367"
    },
    {
      "cell_type": "code",
      "source": "X_WC = env.X_WC\n\n\ndef estimate_normal_by_nearest_pixels(X_WC, pC, uv_step=10):\n    \"\"\"\n    compute the surface normals from the nearest pixels (by a sliding window)\n    Input:\n        X_WC: RigidTransform of the camera in world frame\n        pC: 3D points computed from the depth image in the camera frame\n        uv_step: recommended step size for the sliding window (see codes below)\n    Output:\n        normals: a list of RigidTransforms of the normal frames in world frame.\n                 The +z axis of the normal frame is the normal vector, it should\n                 points outward (towards the camera)\n    \"\"\"\n    normals = []\n    v_bound, u_bound = bbox(mask)\n    pC = pC.reshape(img_h, img_w, 3)\n    for v in range(v_bound[0], v_bound[1], uv_step):\n        for u in range(u_bound[0], u_bound[1], uv_step):\n            # center of the window at depth_im[u,v]\n            center = [v, u]\n            u_length = 3\n            v_length = 3\n            # side of the window\n            v_range = np.arange(max(v - v_length, 0), min(v + v_length + 1, img_h - 1))\n            u_range = np.arange(max(u - u_length, 0), min(u + u_length + 1, img_w - 1))\n\n            ###################\n            # fill your code here\n            ###################\n\n    return normals",
      "metadata": {
        "id": "arTPxyRMjBod",
        "cell_id": "d4b2a6c9697d42db90588eedb209948b",
        "deepnote_cell_type": "code"
      },
      "outputs": [],
      "outputs_reference": null,
      "execution_count": null,
      "block_group": "432191a02af845989c5f9a30c3545b2b",
      "content_dependencies": null
    },
    {
      "cell_type": "code",
      "source": "normals = estimate_normal_by_nearest_pixels(X_WC, pC)\nenv.vis_normals(normals)",
      "metadata": {
        "id": "PD117pt0jBol",
        "cell_id": "dc0d3c02e6944eccb59bf8f94dbd0640",
        "deepnote_cell_type": "code"
      },
      "outputs": [],
      "outputs_reference": null,
      "execution_count": null,
      "block_group": "ac1230e0ae9a49b7a5ef5b07c163ad30",
      "content_dependencies": null
    },
    {
      "cell_type": "markdown",
      "source": "## Normal Vector Estimation with Noisy Depth\n\n\nThe depth image tested in the first part of this exercise is a perfect depth image with no noise and missing values. Now imagine what will happen when noises and outliers are presented in the same depth image. \n\n**Problem 5.2.c** [2pts] **Illustrate a counter-example illustrating a case where the scanning window method cannot produce a good normal estimate.**",
      "metadata": {
        "id": "SfBjeNwmjBop",
        "cell_id": "7515e0fe2e3445b8a59f4d2de0477f07",
        "deepnote_cell_type": "markdown"
      },
      "block_group": "e9aa471f3b1f4453874d8346028a44fc"
    },
    {
      "cell_type": "markdown",
      "source": "## How will this notebook be Graded?\n\nIf you are enrolled in the class, this notebook will be graded using [Gradescope](www.gradescope.com). You should have gotten the enrollement code on our announcement in Piazza. \n\nFor submission of this assignment, you must do two things. \n- Download and submit the notebook `normal_estimation_depth.ipynb` to Gradescope's notebook submission section, along with your notebook for the other problems.\n- Answer 5.2.a and 5.2.c in the written section of Gradescope as a part of your `pdf` submission. \n\nWe will evaluate the local functions in the notebook to see if the function behaves as we have expected. For this exercise, the rubric is as follows:\n- [2 pts] Identify which eigenvector of the data matrix W corresponds to the surface normal vector and explain how the eigenvectors can be used to compute the transform of the normal frame expressed in the camera frame.\n- [4 pts] `estimate_normal_by_nearest_pixels` must be implemented correctly. \n- [2 pts] Provide a reasonable scenario that breaks the `estimate_normal_by_nearest_pixels` method.",
      "metadata": {
        "id": "w-z5MD-PjBoq",
        "cell_id": "5184b9138bd046b28ba272ad8f73cc52",
        "deepnote_cell_type": "markdown"
      },
      "block_group": "9c3c85a894324d1a886443be23a7e1ac"
    },
    {
      "cell_type": "code",
      "source": "from manipulation.exercises.clutter.test_normal import TestNormal\nfrom manipulation.exercises.grader import Grader\n\nGrader.grade_output([TestNormal], [locals()], \"results.json\")\nGrader.print_test_results(\"results.json\")",
      "metadata": {
        "id": "xWaeAZOwlz5-",
        "cell_id": "eb467dd258b14b3baa5cccd3f4980938",
        "deepnote_cell_type": "code"
      },
      "outputs": [],
      "outputs_reference": null,
      "execution_count": null,
      "block_group": "37ddcf9c1e6b4198a775a997ecc09e1d",
      "content_dependencies": null
    },
    {
      "cell_type": "code",
      "source": "",
      "metadata": {
        "cell_id": "5e315eda02754275aa191d6f10ac2b9b",
        "deepnote_cell_type": "code"
      },
      "outputs": [],
      "outputs_reference": null,
      "execution_count": null,
      "block_group": "8933f7a446ae4495a9d4d23ee1f0a79e",
      "content_dependencies": null
    },
    {
      "cell_type": "markdown",
      "source": "<a style='text-decoration:none;line-height:16px;display:flex;color:#5B5B62;padding:10px;justify-content:end;' href='https://deepnote.com?utm_source=created-in-deepnote-cell&projectId=aecebf5d-e2f1-421d-bb7d-696a860b16ba' target=\"_blank\">\n<img alt='Created in deepnote.com' style='display:inline;max-height:16px;margin:0px;margin-right:7.5px;' src='data:image/svg+xml;base64,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' > </img>\nCreated in <span style='font-weight:600;margin-left:4px;'>Deepnote</span></a>",
      "metadata": {
        "created_in_deepnote_cell": true,
        "deepnote_cell_type": "markdown"
      }
    }
  ],
  "nbformat": 4,
  "nbformat_minor": 0,
  "metadata": {
    "deepnote_notebook_id": "b9ef10a0c97e4854af9abb65add8136d",
    "deepnote_execution_queue": []
  }
}