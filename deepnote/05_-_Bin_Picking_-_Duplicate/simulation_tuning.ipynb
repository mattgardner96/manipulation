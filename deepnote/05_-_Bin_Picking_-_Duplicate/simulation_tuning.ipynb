{
  "cells": [
    {
      "cell_type": "code",
      "source": "from pydrake.all import (\n    AddMultibodyPlantSceneGraph,\n    BodyIndex,\n    Box,\n    DiagramBuilder,\n    MeshcatVisualizer,\n    MeshcatVisualizerParams,\n    Parser,\n    RigidTransform,\n    Role,\n    RollPitchYaw,\n    Simulator,\n    StartMeshcat,\n)\n\n# Start the visualizer.\nmeshcat = StartMeshcat()",
      "metadata": {
        "id": "opM0QN-CPwry",
        "source_hash": "6f0d79be",
        "execution_start": 1665697791579,
        "execution_millis": 1413,
        "deepnote_cell_height": 408.04998779296875,
        "deepnote_output_heights": [
          null,
          20
        ],
        "deepnote_to_be_reexecuted": false,
        "cell_id": "ee6e7a7973fb4bc198c6b04001211e95",
        "deepnote_cell_type": "code"
      },
      "outputs": [],
      "outputs_reference": null,
      "execution_count": null,
      "block_group": "00001-a00535fe-716d-487c-ae39-d3fc9a9714e5",
      "content_dependencies": null
    },
    {
      "cell_type": "markdown",
      "source": "## **Tuning MultibodyPlant for Simulation**",
      "metadata": {
        "id": "l8Rm5122dy2R",
        "deepnote_cell_height": 69.26666259765625,
        "cell_id": "bbe15f91aff146ad83d8994b32174692",
        "deepnote_cell_type": "markdown"
      },
      "block_group": "d1ecc126-f4ff-4a01-95a4-644e1138b85c"
    },
    {
      "cell_type": "markdown",
      "source": "# Problem Description\n\nIn earlier homework problems, you were given the simulation environment to start with. Now, it is your turn to design a simulation! Simulations are incredibly important in robotic software development. The more accurate we can make our simulation, the better our controller can be and so on. In lecture, we learned about contact modeling and what the important parameters for a stable simulation are. In this exercise, you will investigate the underlying simulation details and get prepared for your project. Specifically, we will learn both how to reproduce desired simulation output and pinpoint simulation issues, in a classic physics example of two blocks stacking on a slope.\n\n**These are the learning goals of this exercise:**\n1. Learning to debug and engineer collision geometries.\n2. Understand the relative importance of simulation parameters.",
      "metadata": {
        "tags": [],
        "deepnote_cell_height": 428.066650390625,
        "cell_id": "51ec57c9f1b341b9b257ca17a723ff7c",
        "deepnote_cell_type": "markdown"
      },
      "block_group": "00002-f029c1d2-78a1-481d-be3a-c471b90256fe"
    },
    {
      "cell_type": "code",
      "source": "# Define size of blocks and the slope\nslope = 0.1\nq1 = [0.0, 0, 0.15]\nq2 = [0.0, 0, 0.20]\n\n# Block sizes\nblock_size1 = [0.02, 0.02, 0.02]  # Red block\nblock_size2 = [0.02, 0.02, 0.02]  # Green block",
      "metadata": {
        "tags": [],
        "source_hash": "58aad2ef",
        "execution_start": 1665697792462,
        "execution_millis": 1,
        "deepnote_cell_height": 201.26666259765625,
        "deepnote_to_be_reexecuted": false,
        "cell_id": "1c96568d187043bc84f4bbd657a9095f",
        "deepnote_cell_type": "code"
      },
      "outputs": [],
      "outputs_reference": null,
      "execution_count": null,
      "block_group": "00003-13e26566-a101-4299-8797-ea67db5c4450",
      "content_dependencies": null
    },
    {
      "cell_type": "code",
      "source": "#######################################################\n### Don't change/remove! For visualization purposes ###\n#######################################################\n\nnonstack_pose1 = [\n    [9.94885056e-01, -1.55900179e-02, 9.98031851e-02, 1.95741356e-02],\n    [1.56650268e-02, 9.99877295e-01, 3.21017596e-05, -1.15839339e-04],\n    [-9.97914393e-02, 1.53148200e-03, 9.95007198e-01, 5.83171660e-02],\n    [0.00000000e00, 0.00000000e00, 0.00000000e00, 1.00000000e00],\n]\n\nnonstack_pose2 = [\n    [-1.00114398e-01, 5.89905683e-03, 9.94958446e-01, 2.11092651e-01],\n    [4.44194866e-04, 9.99982590e-01, -5.88414908e-03, 2.24353720e-03],\n    [-9.94975834e-01, -1.47132606e-04, -1.00115275e-01, 3.89206165e-02],\n    [0.00000000e00, 0.00000000e00, 0.00000000e00, 1.00000000e00],\n]\n\n\nstack_pose1 = [\n    [9.94996362e-01, -3.77459725e-05, 9.99111553e-02, 2.64605688e-01],\n    [3.79942503e-05, 9.99999999e-01, -5.82200282e-07, -1.13024604e-06],\n    [-9.99111552e-02, 4.37533660e-06, 9.94996362e-01, 3.33522993e-02],\n    [0.00000000e00, 0.00000000e00, 0.00000000e00, 1.00000000e00],\n]\n\nstack_pose2 = [\n    [9.94996470e-01, -1.41453220e-05, 9.99100858e-02, 2.66676737e-01],\n    [1.41925281e-05, 1.00000000e00, 2.38281298e-07, -9.14267754e-07],\n    [-9.99100858e-02, 1.18088765e-06, 9.94996470e-01, 5.22415534e-02],\n    [0.00000000e00, 0.00000000e00, 0.00000000e00, 1.00000000e00],\n]\n\n#######################################################",
      "metadata": {
        "tags": [],
        "source_hash": "5814eb27",
        "execution_start": 1665697792464,
        "execution_millis": 39,
        "deepnote_cell_height": 525.2666625976562,
        "deepnote_to_be_reexecuted": false,
        "cell_id": "bbc36ef6f9c841aea0b71c4f4336a166",
        "deepnote_cell_type": "code"
      },
      "outputs": [],
      "outputs_reference": null,
      "execution_count": null,
      "block_group": "00004-c722c325-eae1-4033-b3f0-bd505778106c",
      "content_dependencies": null
    },
    {
      "cell_type": "markdown",
      "source": "#  Set up your MultibodyPlant\nIn practice, you may have a pre-packaged simulation engine that is doing its job. However, to make a simulation performant, you need to tune the right physics parameters, e.g. mass and frictions, for your specific application. Run the code below to set up the simulation testing code.\n\nNote, we use [SDF (Simulation Description Format)](http://sdformat.org/spec) respresentations to construct objects and then load them directly into our simulation with MultibodyPlant. SDF files allow us to define an object or robot for simulation through an intuitive XML format. We can use them to specify custom geometry, friction, mass, and even create separate linkages / joints. Full documentation for this file format can be found [here](http://sdformat.org/spec). A similar XML file format exists called [URDF (Unified Robot Description Format)](http://wiki.ros.org/urdf/XML). You may find these resources useful for your final project.",
      "metadata": {
        "tags": [],
        "deepnote_cell_height": 164.46665954589844,
        "cell_id": "f1106bab4c9f488cade327874751f041",
        "deepnote_cell_type": "markdown"
      },
      "block_group": "00015-37133919-d71a-4d48-b6ab-a99649d53f3b"
    },
    {
      "cell_type": "code",
      "source": "ground_slope_SDF = f\"\"\"\n<?xml version=\"1.0\" ?>\n<sdf version=\"1.6\">\n<model name=\"ground\">\n    <static>true</static>\n    <link name=\"ground\">\n        <collision name=\"ground_collision\">\n            <pose>0 0 0 0 {slope} 0</pose>\n            <geometry>\n                <box>\n                    <size>10 10 0.1</size>\n                </box>\n            </geometry>\n            <surface>\n                <friction>\n                    <ode>\n                        <mu>0.085</mu>\n                        <mu2>0.085</mu2>\n                    </ode>\n                </friction>\n            </surface>\n        </collision>\n        <visual name=\"ground_visual\">\n            <pose>0 0 0 0 {slope} 0</pose>\n            <geometry>\n                <box>\n                    <size>10 10 0.1</size>\n                </box>\n            </geometry>\n            <material>\n                <diffuse>0.8 0.8 0.8 1.0</diffuse>\n            </material>\n        </visual>\n    </link>\n</model>\n</sdf>\n\"\"\"",
      "metadata": {
        "cell_id": "01606f91d1314182aa13580210019c3c",
        "deepnote_cell_type": "code"
      },
      "outputs": [],
      "outputs_reference": null,
      "execution_count": null,
      "block_group": "9f099a34deb94dc8b2f3faa8889a89fd",
      "content_dependencies": null
    },
    {
      "cell_type": "code",
      "source": "def generate_block_sdf(shape, name, mass=1, mu=1, color=[0.5, 0.5, 0.9, 1.0]):\n    return f\"\"\"\n    <?xml version=\"1.0\" ?>\n    <sdf version=\"1.6\">\n    <model name=\"{name}\">\n        <static>false</static>\n        <link name=\"{name}\">\n            <collision name=\"block_collision\">\n                <geometry>\n                    <box>\n                        <size>{shape.width()} {shape.depth()} {shape.height()}</size>\n                    </box>\n                </geometry>\n                <surface>\n                    <friction>\n                        <ode>\n                            <mu>{mu}</mu>\n                            <mu2>{mu}</mu2>\n                        </ode>\n                    </friction>\n                </surface>\n            </collision>\n            <visual name=\"block_visual\">\n                <geometry>\n                    <box>\n                        <size>{shape.width()} {shape.depth()} {shape.height()}</size>\n                    </box>\n                </geometry>\n                <material>\n                    <diffuse>{color[0]} {color[1]} {color[2]} {color[3]}</diffuse>\n                </material>\n            </visual>\n            <inertial>\n                <mass>{mass}</mass>\n                <inertia>\n                    <ixx>{1/12 * (shape.depth()**2 + shape.height()**2)}</ixx>\n                    <iyy>{1/12 * (shape.width()**2 + shape.height()**2)}</iyy>\n                    <izz>{1/12 * (shape.depth()**2 + shape.width()**2)}</izz>\n                </inertia>\n            </inertial>\n        </link>\n    </model>\n    </sdf>\n    \"\"\"",
      "metadata": {
        "cell_id": "c703961ab733442fb500de8d57c7cd83",
        "deepnote_cell_type": "code"
      },
      "outputs": [],
      "outputs_reference": null,
      "execution_count": null,
      "block_group": "59d8e0b32da34174949ed8658ed79a4d",
      "content_dependencies": null
    },
    {
      "cell_type": "code",
      "source": "def MakeSimulation(time_step, mass, mu, simulation_time=1.0):\n    \"\"\"\n    Create simple simulation with blocks and a slope based on input parameters\n    In this exercise, we will tune these parameters to achieve desired simulation results\n    \"\"\"\n    builder = DiagramBuilder()\n    plant, scene_graph = AddMultibodyPlantSceneGraph(builder, time_step=time_step)\n\n    # Add slope to the MultibodyPlant using SDF\n    parser = Parser(plant)\n    parser.AddModelsFromString(ground_slope_SDF, \".sdf\")\n\n    # Add blocks to the MultibodyPlant using generated SDF\n    block1_sdf = generate_block_sdf(\n        Box(*block_size1),\n        \"block1\",\n        mass[0],\n        mu[0],\n        color=[0.8, 0, 0, 1.0],\n    )\n    parser.AddModelsFromString(block1_sdf, \".sdf\")\n    block2_sdf = generate_block_sdf(\n        Box(*block_size2),\n        \"block2\",\n        mass[1],\n        mu[1],\n        color=[0, 0.8, 0, 1.0],\n    )\n    parser.AddModelsFromString(block2_sdf, \".sdf\")\n\n    nonstacking = simulation_time == 1\n    if simulation_time == 1:\n        pose1, pose2 = nonstack_pose1, nonstack_pose2\n    else:\n        pose1, pose2 = stack_pose1, stack_pose2\n\n    # Visualize goal block positions for parameter tuning tasks\n    plant.AddModelInstance(\"block1_goal\")\n    plant.RegisterVisualGeometry(\n        plant.world_body(),\n        RigidTransform(pose1),\n        Box(*block_size1),\n        \"block1_goal\",\n        [0.8, 0, 0, 0.3],\n    )\n    plant.AddModelInstance(\"block2_goal\")\n    plant.RegisterVisualGeometry(\n        plant.world_body(),\n        RigidTransform(pose2),\n        Box(*block_size2),\n        \"block2_goal\",\n        [0, 0.8, 0, 0.3],\n    )\n\n    # Build the plant and meshcat\n    plant.Finalize()\n    meshcat.Delete()\n    meshcat.DeleteAddedControls()\n    meshcat_param = MeshcatVisualizerParams()\n\n    # kProximity for collision geometry and kIllustration for visual geometry\n    meshcat_param.role = Role.kIllustration\n    visualizer = MeshcatVisualizer.AddToBuilder(\n        builder, scene_graph, meshcat, meshcat_param\n    )\n\n    meshcat.Set2dRenderMode(xmin=-0.2, xmax=0.2, ymin=-0.2, ymax=0.3)\n\n    # Initialize simulation\n    diagram = builder.Build()\n    simulator = Simulator(diagram)\n    if nonstacking:\n        simulator.set_target_realtime_rate(0.5)  # slow motion!\n    else:\n        simulator.set_target_realtime_rate(3)  # fast motion!\n\n    tf1 = RigidTransform(RollPitchYaw(0, 0, 0), q1)\n    tf2 = RigidTransform(RollPitchYaw(0, 0, 0), q2)\n    context = simulator.get_context()\n    plant_context = diagram.GetSubsystemContext(plant, context)\n    plant.SetFreeBodyPose(plant_context, plant.get_body(BodyIndex(2)), tf1)\n    plant.SetFreeBodyPose(plant_context, plant.get_body(BodyIndex(3)), tf2)\n\n    # Simulate and visualize\n    visualizer.StartRecording()\n    simulator.AdvanceTo(simulation_time)\n    visualizer.StopRecording()\n    visualizer.PublishRecording()\n\n    return simulator, diagram",
      "metadata": {
        "cell_id": "d9154e4e8d4a4bd98525c90c96e28e81",
        "deepnote_cell_type": "code"
      },
      "outputs": [],
      "outputs_reference": null,
      "execution_count": null,
      "block_group": "e15d0a42a96a4005983663999f013ba8",
      "content_dependencies": null
    },
    {
      "cell_type": "markdown",
      "source": "(2pt) a. Run the code block below. We notice that the green block is falling past the red block and the thin slope. Why? Anwer in your written submission.\n\n(2pt) b. There are specific algorithms that can help avoid pass-through events in simulation, which we haven't implemented yet here. But even without them, we can address the issue by tuning the timesteps. Try tuning the simulation timestep in `set_sim_timestep` such that the both block falls on (but not inside) the slope. Should we decrease or increase the timestep if we want more accurate contact dynamics? Note that if the simulation advances too fast, you can pause and reset simulation to check the initial state.\n\nHINT: You should only change timestep value by factors of 10.\n\n(NOTE: If the simulation advances too fast, you can pause and reset simulation to check the initial state.)",
      "metadata": {
        "id": "_4KTk534ex9e",
        "deepnote_cell_height": 177.6666717529297,
        "cell_id": "38cc071e7f8e4e4d8003f57a050376e2",
        "deepnote_cell_type": "markdown"
      },
      "block_group": "00019-5b12a63b-233d-4bd4-97af-6a1ec72de0c2"
    },
    {
      "cell_type": "code",
      "source": "def set_sim_timestep():\n    \"\"\"\n    Tune simulation timestep such that the blocks do not fall under the slope.\n    \"\"\"\n    time_step = 0.1  # MODIFY HERE\n    mass1, mass2 = 0.01, 5\n    return time_step, (mass1, mass2), (0.1, 0.1)\n\n\nsimulator_b, diagram_b = MakeSimulation(*set_sim_timestep())",
      "metadata": {
        "tags": [],
        "source_hash": "e051ad6f",
        "execution_start": 1665697130970,
        "execution_millis": 1968,
        "deepnote_cell_height": 255.26666259765625,
        "deepnote_to_be_reexecuted": true,
        "cell_id": "f8d1734297744b2394b34a4fd618ca96",
        "deepnote_cell_type": "code"
      },
      "outputs": [],
      "outputs_reference": null,
      "execution_count": null,
      "block_group": "9ea215398a614ae18f978de029b49093",
      "content_dependencies": null
    },
    {
      "cell_type": "markdown",
      "source": "# Sliding blocks\n\n(2pt) c. Changing the mass of simulated objects will of course impact how the simulation behaves. In our simple simulation, we can imagine changing mass will most notably impact the magnitude of gravitational force on the objects. Let's try to reproduce the following gif by tuning the masses of the blocks in `set_block_masses`.\n\nHINT: You should only change mass values by factors of 10.\n\n<img src=\"https://raw.githubusercontent.com/RussTedrake/manipulation/master/book/figures/exercises/sim_tuning_final_state1.gif\" width=\"700\"> ",
      "metadata": {
        "tags": [],
        "deepnote_cell_height": 318.066650390625,
        "cell_id": "7a1b81db637246d89be4064284b20d06",
        "deepnote_cell_type": "markdown"
      },
      "block_group": "00024-9034edd5-5e1f-4e43-9ab2-9b23b456bcde"
    },
    {
      "cell_type": "code",
      "source": "q1 = [0.0, 0, 0.065]  # Initial pose of the red block\nq2 = [0.0, 0, 0.087]  # Initial pose of the green block\n\n\ndef set_block_masses():\n    \"\"\"\n    Tune block masses to match the gif above.\n    \"\"\"\n    mass1, mass2 = 1.0, 0.001  # MODIFY HERE\n    mu1, mu2 = 0.1, 0.1\n    return 0.001, (mass1, mass2), (mu1, mu2)\n\n\nsimulator_c, diagram_c = MakeSimulation(*set_block_masses())",
      "metadata": {
        "tags": [],
        "source_hash": "523447de",
        "execution_start": 1665697137065,
        "execution_millis": 1979,
        "deepnote_cell_height": 255.26666259765625,
        "deepnote_to_be_reexecuted": true,
        "cell_id": "1d2870303ef047d0bf0df9d5b24ad410",
        "deepnote_cell_type": "code"
      },
      "outputs": [],
      "outputs_reference": null,
      "execution_count": null,
      "block_group": "425002d5f8e04ed2a61a6c28c37e6bc7",
      "content_dependencies": null
    },
    {
      "cell_type": "markdown",
      "source": "# Stacking blocks\n(3pt) d. We define the slope angle as $\\alpha$ and the mass of each block to be $m_1$ (top block) and $m_2$ (bottom block). The friction between the blocks is defined by $\\mu_1$, and the friction between the slope surface and the bottom block is $\\mu_2$. \n\nAssume the two cube blocks are on top of each other on the slope. What constraint do we need on the friction parameters $\\mu_1,\\mu_2$ to satisfy such that the top block is sticking to the bottom block (no relative velocity) and the bottom block is sliding down the slope at a constant speed? Which coefficient must be greater and do they depend on the mass $m_1,m_2$ of the blocks? Draw out the free-body [diagram](https://youtu.be/N19SU7vgX7c?t=3394) to derive an answer. Write your answer in written submission.",
      "metadata": {
        "tags": [],
        "deepnote_cell_height": 663.2666625976562,
        "cell_id": "30fb92c42cb0433bad5517ad1915d328",
        "deepnote_cell_type": "markdown"
      },
      "block_group": "00026-5744237e-0606-41ec-94ef-789475c2d982"
    },
    {
      "cell_type": "markdown",
      "source": "(3pt) e. Changing the coefficient of friction between simulated object will impact how they behave in contact will each other. Try to reproduce the simulated result below by changing the friction values in `set_friction_coeffs`. \n\nHINT: You should only change values by factors of 10.\n\n<img src=\"https://raw.githubusercontent.com/RussTedrake/manipulation/master/book/figures/exercises/sim_tuning_final_state2.gif\" width=\"700\"> ",
      "metadata": {
        "cell_id": "3c303682ec93436e853758ad9fa4e3a2",
        "deepnote_cell_type": "markdown"
      },
      "block_group": "05477b921e1b45998c80e78c6dc299c2"
    },
    {
      "cell_type": "code",
      "source": "q1 = [0.0, 0, 0.065]  # Initial pose of the red block\nq2 = [0.0, 0, 0.087]  # Initial pose of the green block\n\n\ndef set_friction_coeffs():\n    \"\"\"\n    Choose friction coefficients to make the blocks stack and move as shown above.\n    \"\"\"\n    time_step = 0.00001\n    mass1, mass2 = 0.1, 0.05\n    mu1, mu2 = 0.01, 0.1  # MODIFY HERE\n    return time_step, (mass1, mass2), (mu1, mu2)\n\n\n# We have to make simulator timestep really small, still the blocks slide relative to each other a little bit.\n# Why? Check the last section here https://drake.mit.edu/doxygen_cxx/group__contact__engineering.html\nsimulator_e, diagram_e = MakeSimulation(*set_friction_coeffs(), simulation_time=1.9)",
      "metadata": {
        "tags": [],
        "source_hash": "3b06269c",
        "execution_start": 1665697141066,
        "execution_millis": 1697,
        "deepnote_cell_height": 345.26666259765625,
        "deepnote_to_be_reexecuted": true,
        "cell_id": "133ad6f2f09e4d67b0852305088aeacb",
        "deepnote_cell_type": "code"
      },
      "outputs": [],
      "outputs_reference": null,
      "execution_count": null,
      "block_group": "4ebbf0e30d494b5886d0709155bec3f9",
      "content_dependencies": null
    },
    {
      "cell_type": "markdown",
      "source": "## How will this notebook be Graded?\n\nIf you are enrolled in the class, this notebook will be graded using [Gradescope](www.gradescope.com). You should have gotten the enrollement code on our announcement in Piazza. \n\nFor submission of this assignment, you must do two things. \n- Download and submit the notebook `simulation_tuning.ipynb` to Gradescope's notebook submission section, along with your notebook for the other problems.\n- Write down your answers to 5.6 to a separately pdf file and submit it to Gradescope's written submission section. \n\nWe will evaluate the local functions in the notebook to see if the function behaves as we have expected. For this exercise, the rubric is as follows:\n- [2 pts] 5.6.a  Reason for block falling is answered correctly and attached to written submission. \n- [2 pts] 5.6.b `set_sim_timestep` is implemented correctly. \n- [2 pts] 5.6.c `set_block_masses` is implemented correctly.\n- [3 pts] 5.6.d  The analysis is answered correctly and attached to written submission.\n- [3 pts] 5.6.e `set_friction_coeffs` is implemented correctly.",
      "metadata": {
        "id": "MwE8yNg58VQN",
        "deepnote_cell_height": 540.8333129882812,
        "cell_id": "53c7755e7e21408c97527b9ec3fe9438",
        "deepnote_cell_type": "markdown"
      },
      "block_group": "00028-02a2f40b-4f60-41f6-981a-41c544fc214f"
    },
    {
      "cell_type": "code",
      "source": "from manipulation.exercises.clutter.test_simulation_tuning import TestSimulationTuning\nfrom manipulation.exercises.grader import Grader\n\nGrader.grade_output([TestSimulationTuning], [locals()], \"results.json\")\nGrader.print_test_results(\"results.json\")",
      "metadata": {
        "id": "xj5nAh4g8VQO",
        "source_hash": "9571c437",
        "execution_start": 1665697197682,
        "execution_millis": 825,
        "deepnote_cell_height": 254.53334045410156,
        "deepnote_to_be_reexecuted": true,
        "cell_id": "1211a536548c452188f9dd8d7e09ffc7",
        "deepnote_cell_type": "code"
      },
      "outputs": [],
      "outputs_reference": null,
      "execution_count": null,
      "block_group": "00029-963d5131-c568-408e-93b9-c630bc6474f2",
      "content_dependencies": null
    },
    {
      "cell_type": "markdown",
      "source": "<a style='text-decoration:none;line-height:16px;display:flex;color:#5B5B62;padding:10px;justify-content:end;' href='https://deepnote.com?utm_source=created-in-deepnote-cell&projectId=a9f4175d-ea21-49c3-83c9-e5c3a0936239' target=\"_blank\">\n<img alt='Created in deepnote.com' style='display:inline;max-height:16px;margin:0px;margin-right:7.5px;' src='data:image/svg+xml;base64,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' > </img>\nCreated in <span style='font-weight:600;margin-left:4px;'>Deepnote</span></a>",
      "metadata": {
        "created_in_deepnote_cell": true,
        "deepnote_cell_type": "markdown"
      }
    }
  ],
  "nbformat": 4,
  "nbformat_minor": 0,
  "metadata": {
    "deepnote_notebook_id": "71e18fdd5b054a5989823dcdf535fed1",
    "deepnote_execution_queue": []
  }
}