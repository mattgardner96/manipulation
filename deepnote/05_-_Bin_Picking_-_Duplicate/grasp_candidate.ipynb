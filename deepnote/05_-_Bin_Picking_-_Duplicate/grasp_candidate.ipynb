{
  "cells": [
    {
      "cell_type": "markdown",
      "source": "## **Grasp Candidate Sampling**\n",
      "metadata": {
        "id": "VEYe67K6E6j0",
        "cell_id": "b27f08a89d794a9d8bdacbb8c7a8d778",
        "deepnote_cell_type": "markdown"
      },
      "block_group": "5f6b3d563ab74c0daad9466dcae8badc"
    },
    {
      "cell_type": "code",
      "source": "import numpy as np\nfrom pydrake.all import (\n    AddMultibodyPlantSceneGraph,\n    Box,\n    DiagramBuilder,\n    MeshcatVisualizer,\n    MeshcatVisualizerParams,\n    Parser,\n    PointCloud,\n    Rgba,\n    RigidTransform,\n    RotationMatrix,\n    StartMeshcat,\n)\nfrom scipy.spatial import KDTree\n\nfrom manipulation import running_as_notebook\nfrom manipulation.meshcat_utils import AddMeshcatTriad\nfrom manipulation.mustard_depth_camera_example import MustardPointCloud\nfrom manipulation.scenarios import AddMultibodyTriad\nfrom manipulation.utils import ConfigureParser",
      "metadata": {
        "id": "v5OrhpSmxkGH",
        "cell_id": "39737c35c2144603a0e0b88bb3d7b70d",
        "deepnote_cell_type": "code"
      },
      "outputs": [],
      "outputs_reference": null,
      "execution_count": null,
      "block_group": "b00086c8d1b64d01983fbe2547f7e4db",
      "content_dependencies": null
    },
    {
      "cell_type": "code",
      "source": "# Start the visualizer.\nmeshcat = StartMeshcat()",
      "metadata": {
        "cell_id": "43f02f0c23e34f39bb543eb803071894",
        "deepnote_cell_type": "code"
      },
      "outputs": [],
      "outputs_reference": null,
      "execution_count": null,
      "block_group": "b57c84695a4f4a40b7cede83de6c31d8",
      "content_dependencies": null
    },
    {
      "cell_type": "code",
      "source": "# Basic setup\npcd = MustardPointCloud(normals=True, down_sample=False)\n\nmeshcat.SetProperty(\"/Background\", \"visible\", False)\nmeshcat.SetObject(\"cloud\", pcd, point_size=0.001)\n\n\ndef setup_grasp_diagram(draw_frames=True):\n    builder = DiagramBuilder()\n    plant, scene_graph = AddMultibodyPlantSceneGraph(builder, time_step=0.001)\n    parser = Parser(plant)\n    ConfigureParser(parser)\n    parser.AddModelsFromUrl(\"package://manipulation/schunk_wsg_50_welded_fingers.sdf\")\n    if draw_frames:\n        AddMultibodyTriad(plant.GetFrameByName(\"body\"), scene_graph)\n    plant.Finalize()\n\n    MeshcatVisualizer.AddToBuilder(builder, scene_graph, meshcat)\n    diagram = builder.Build()\n    context = diagram.CreateDefaultContext()\n\n    return plant, scene_graph, diagram, context\n\n\ndef draw_grasp_candidate(X_G, prefix=\"gripper\", draw_frames=True, refresh=False):\n    if refresh:\n        meshcat.Delete()\n    builder = DiagramBuilder()\n    plant, scene_graph = AddMultibodyPlantSceneGraph(builder, time_step=0.001)\n    parser = Parser(plant)\n    ConfigureParser(parser)\n    gripper = parser.AddModelsFromUrl(\n        \"package://manipulation/schunk_wsg_50_welded_fingers.sdf\"\n    )\n    plant.WeldFrames(plant.world_frame(), plant.GetFrameByName(\"body\"), X_G)\n    if draw_frames:\n        AddMultibodyTriad(plant.GetFrameByName(\"body\"), scene_graph)\n    plant.Finalize()\n\n    params = MeshcatVisualizerParams()\n    params.prefix = prefix\n    meshcat_vis = MeshcatVisualizer.AddToBuilder(builder, scene_graph, meshcat, params)\n    diagram = builder.Build()\n    context = diagram.CreateDefaultContext()\n    diagram.ForcedPublish(context)\n\n\ndef compute_sdf(pcd, X_G, visualize=False):\n    plant, scene_graph, diagram, context = setup_grasp_diagram()\n    plant_context = plant.GetMyContextFromRoot(context)\n    scene_graph_context = scene_graph.GetMyContextFromRoot(context)\n    plant.SetFreeBodyPose(plant_context, plant.GetBodyByName(\"body\"), X_G)\n\n    if visualize:\n        diagram.ForcedPublish(context)\n\n    query_object = scene_graph.get_query_output_port().Eval(scene_graph_context)\n\n    pcd_sdf = np.inf\n    for pt in pcd.xyzs().T:\n        distances = query_object.ComputeSignedDistanceToPoint(pt)\n        for body_index in range(len(distances)):\n            distance = distances[body_index].distance\n            if distance < pcd_sdf:\n                pcd_sdf = distance\n\n    return pcd_sdf\n\n\ndef check_collision(pcd, X_G, visualize=False):\n    sdf = compute_sdf(pcd, X_G, visualize)\n    return sdf > 0",
      "metadata": {
        "cell_id": "b1c4cb8614d24bc4938e2517be708873",
        "deepnote_cell_type": "code"
      },
      "outputs": [],
      "outputs_reference": null,
      "execution_count": null,
      "block_group": "e12941cdaae341fc920e135ea3c3a87a",
      "content_dependencies": null
    },
    {
      "cell_type": "markdown",
      "source": "## Grasp Candidate based on Local Curvature \n\nThis is an implementation-heavy assignment, where we will implement a variation of the grasp candidate sampling algorithm on [this paper](https://arxiv.org/pdf/1706.09911.pdf). from 2017. Parts of the [library](https://github.com/atenpas/gpg) based on the paper, which the authors have named \"Grasp Pose Generator\" (GPG), is used in real grasp selection systems including the one being run at Toyota Research Institute. \n\nAs opposed to sampling candidate grasp poses using the \"antipodal heuristic\", this sampling algorithm uses a heuristic based on the local curvature. This heursitic can work quite well especially for smoother / symmetrical objects which has relatively consistent curvature characteristics. \n",
      "metadata": {
        "id": "ZUg7IbDmIyeo",
        "cell_id": "a59fb8a5afe84e3ca28f54334704b800",
        "deepnote_cell_type": "markdown"
      },
      "block_group": "471bd4a353b246eca03ab26a4207fcb3"
    },
    {
      "cell_type": "markdown",
      "source": "## Computing the Darboux Frame\n\nFirst, let's work on formalizing our notion of a \"local curvature\" by bringing up the [**Darboux Frame**](https://en.wikipedia.org/wiki/Darboux_frame) from differential geometry. It has a fancy French name (after its creator), but the concept is quite simple.\n\nGiven a point $p\\in\\mathbb{R}^3$ on a differentiable surface $\\mathcal{S}\\subset\\mathbb{R}^3$, we've seen that we can compute the normal vector at point $p$. Let's denote this vector as $n(p)$. \n\nThe Darboux frame first aligns the $y$-axis with the inward normal vector, and aligns the $x$ and $z$ axis with principal axii of the tangent surface given the curvature. We will define the axis as \n- x-axis: aligned with the major axis of curvature at point $p$.\n- y-axis: aligned with the inward normal vector at point $p$.\n- z-axis: aligned with the minor axis of curvature at point $p$. \n\nWhere major axis of curvature has a smaller radius of curvature compared to the minor axis. The below figure might clear things up. \n\n<img src=\"https://raw.githubusercontent.com/RussTedrake/manipulation/master/book/figures/exercises/darboux_frame.png\" width=\"400\">",
      "metadata": {
        "id": "1PAeSQRiHRNi",
        "cell_id": "a8b24a872dbd4a4da67b47217a63dc20",
        "deepnote_cell_type": "markdown"
      },
      "block_group": "c08ebf71dfb14436b3a273580b88aae1"
    },
    {
      "cell_type": "markdown",
      "source": "Below, your job is to compute the RigidTransform from the world to the Darboux frame of a specific point on the pointcloud. \n\nHere is a simple outline of the algorithm that we've seeen in class:\n1. Compute the set of points $\\mathcal{S}$ around the given point using [`kdtree.query`](https://docs.scipy.org/doc/scipy/reference/generated/scipy.spatial.KDTree.query.html), with `ball_radius` as the distance upper bound.  \n2. Compute the $3\\times3$ matrix with sum of outer-products of the normal vectors. \n$$\\mathbf{N}=\\sum_{p\\in\\mathcal{S}} n(p)n^T(p)$$\n3. Run eigen decomposition and get the eigenvectors using `np.linalg.eig`. Denote the eigen vectors as $[v_1, v_2, v_3]$, in order of decreasing corresponding eigenvalues. Convince yourself that:\n- $v_1$ is the normal vector,\n- $v_2$ is the major tangent vector, \n- $v_3$ is the minor tangent vector. \nNote that `np.linalg.eig` does **not** necessarily return the eigenvectors in the correct order. (The function `np.argsort` may come in handy.)\n4. If $v_1$ is heading outwards (same direction as $n(p)$), negate $v_1$. (You can check this using the dot product.)\n5. Using $v_1,v_2,v_3$, construct the Rotation matrix by horizontally stacking the vertical vectors: $\\mathbf{R} = [v_2 | v_1 | v_3]$\n6. If the rotation is improper, negate $v_2$. (You can check this by checking the sign of the determinant.)\n5. Return a `RigidTransform` that has the rotation set as defined in the figure above, and translation defined at the desired point.\n\nThe [textbook example on normal estimation](https://manipulation.csail.mit.edu/clutter.html#normal_estimation) may be useful to reference in this problem.\n\nNOTE: Convince yourself of the following: if you knew the orthonormal basis vectors of a frame ${}^W[i,j,k]$, then the Rotation matrix of of that frame with respect to the world ${}^W\\mathbf{R}^F$ can be computed by horizontally stacking the vertical vectors ($[i|j|k]$). Why would this be? (This doesn't necessarily mean the eigenvector matrix is always a rotation matrix due to improper rotations)",
      "metadata": {
        "id": "J5WdmM8hQkQ7",
        "cell_id": "918762d7d68c482f98c471942a53523f",
        "deepnote_cell_type": "markdown"
      },
      "block_group": "5b96f35da38144cfa99a23e9951d76cb"
    },
    {
      "cell_type": "code",
      "source": "def compute_darboux_frame(index, pcd, kdtree, ball_radius=0.002, max_nn=50):\n    \"\"\"\n    Given a index of the pointcloud, return a RigidTransform from world to the\n    Darboux frame at that point.\n    Args:\n    - index (int): index of the pointcloud.\n    - pcd (PointCloud object): pointcloud of the object.\n    - kdtree (scipy.spatial.KDTree object): kd tree to use for nn search.\n    - ball_radius (float): ball_radius used for nearest-neighbors search\n    - max_nn (int): maximum number of points considered in nearest-neighbors search.\n    \"\"\"\n    points = pcd.xyzs()  # 3xN np array of points\n    normals = pcd.normals()  # 3xN np array of normals\n\n    # Fill in your code here.\n    X_WF = RigidTransform()  # modify here.\n\n    return X_WF",
      "metadata": {
        "id": "WRuwFwcuTQtw",
        "cell_id": "0eb88ff209f04728b0af525b28f93b99",
        "deepnote_cell_type": "code"
      },
      "outputs": [],
      "outputs_reference": null,
      "execution_count": null,
      "block_group": "b31044785f8e48b6958484aead03e50a",
      "content_dependencies": null
    },
    {
      "cell_type": "markdown",
      "source": "You can check your work by running the cell below and looking at the frame visualization in Meshcat. ",
      "metadata": {
        "id": "O3Nmr31JUZPB",
        "cell_id": "cc0899605ff144e38c6351e22125e1e9",
        "deepnote_cell_type": "markdown"
      },
      "block_group": "b4154bf7122541379d54187f7768f2a0"
    },
    {
      "cell_type": "code",
      "source": "# 151, 11121 are pretty good verifiers of the implementation.\nindex = 151\nmeshcat.Delete()\n\n# Build KD tree.\nkdtree = KDTree(pcd.xyzs().T)\nX_WP = compute_darboux_frame(index, pcd, kdtree)\nprint(X_WP.GetAsMatrix4())\nmeshcat.SetObject(\"cloud\", pcd)\nAddMeshcatTriad(meshcat, \"frame\", length=0.025, radius=0.001, X_PT=X_WP)",
      "metadata": {
        "id": "TcNpDwGiZw1n",
        "cell_id": "d6635faf0de3485c9a39ea370f797547",
        "deepnote_cell_type": "code"
      },
      "outputs": [],
      "outputs_reference": null,
      "execution_count": null,
      "block_group": "d1a112b1235246769a035852843c366a",
      "content_dependencies": null
    },
    {
      "cell_type": "markdown",
      "source": "## Collision Line Search \n\nNow we wish to align our gripper frame with the Darboux frame that we found, but naively doing it will result in collision / being too far from the object.\n\nAn important heuristic that is used in the GPG work is that grasps are more stable when contact area is maximized. For that, we would need the gripper to be as inwards as possible towards the object but avoid collisions.\n\nTo implement this, we will use a line search along a grid along the y-axis, and find the **maximum** value of $y$ (remember that our $y$ is towards the inwards normal) that results in no-collision. \n\nWe've given you the grid you should search over, and the function `distance=compute_sdf(pcd, X_WG)` that will return the signed distance function between the set of pointclouds, and the gripper, given the transform `X_WG`. You are required to use this to detect the presence of collisions. \n\nFinally, if there is no value of $y$ that results in no collisions, you should return `np.nan` for the signed distance, and `None` for the rigid transform. ",
      "metadata": {
        "id": "HrdDJyHzU4W_",
        "cell_id": "c3e50a9399a940f2a800490cce56197f",
        "deepnote_cell_type": "markdown"
      },
      "block_group": "da38599f68bd432883a08748d3da321c"
    },
    {
      "cell_type": "code",
      "source": "# Compute static rotation between the frame and the gripper.\n\n\ndef find_minimum_distance(pcd, X_WG):\n    \"\"\"\n    By doing line search, compute the maximum allowable distance along the y axis before penetration.\n    Return the maximum distance, as well as the new transform.\n    Args:\n      - pcd (PointCloud object): pointcloud of the object.\n      - X_WG (Drake RigidTransform object): RigidTransform. You can expect this to be the return from compute_darboux_frame.\n    Return:\n      - Tuple (signed_distance, X_WGnew) where\n      - signed_distance (float): signed distance between gripper and object pointcloud at X_WGnew.\n      - X_WGnew: New rigid transform that moves X_WG along the y axis while maximizing the y-translation subject to no collision.\n      If there is no value of y that results in no collisions, return (np.nan, None).\n    \"\"\"\n    y_grid = np.linspace(-0.05, 0.05, 10)  # do not modify\n\n    # modify here.\n    signed_distance = 0.0  # modify here\n    X_WGnew = RigidTransform()  # modify here\n\n    return signed_distance, X_WGnew",
      "metadata": {
        "id": "tUgWtIoDW-x2",
        "cell_id": "4999623d9b094818af1d949314f1f541",
        "deepnote_cell_type": "code"
      },
      "outputs": [],
      "outputs_reference": null,
      "execution_count": null,
      "block_group": "b4a8c32dbc70426d95c780091a6c49c4",
      "content_dependencies": null
    },
    {
      "cell_type": "markdown",
      "source": "You can check your work below by running the cell below. If the visualization results in a collision, or the gripper is excessively far from the object, your implementation is probably wrong. ",
      "metadata": {
        "id": "s3E771RFXO7N",
        "cell_id": "6265395624b646d89dea153a6ae1f3f1",
        "deepnote_cell_type": "markdown"
      },
      "block_group": "323efcdd4d8b47f4b492db5ef4ba4b8d"
    },
    {
      "cell_type": "code",
      "source": "meshcat.Delete()\nmeshcat.SetObject(\"cloud\", pcd, point_size=0.001)\nAddMeshcatTriad(meshcat, \"frame\", length=0.025, radius=0.001, X_PT=X_WP)\nshortest_distance, X_WGnew = find_minimum_distance(pcd, X_WP)\ndraw_grasp_candidate(X_WGnew, refresh=False)",
      "metadata": {
        "id": "NvPNcEzpWqzt",
        "cell_id": "4bdd9bf05f47429289238fa099b7790e",
        "deepnote_cell_type": "code"
      },
      "outputs": [],
      "outputs_reference": null,
      "execution_count": null,
      "block_group": "dcdb92e077184832bb25e97bfc7b532a",
      "content_dependencies": null
    },
    {
      "cell_type": "markdown",
      "source": "## Nonempty Grasp \n\nLet's add one more heuristic: when we close the gripper, we don't want what is in between the two fingers to be an empty region. That would make our robot look not very smart! \n\nThere is a simple way to check this: let's define a volumetric region swept by the gripper's closing trajectory, and call it $\\mathcal{B}(^{W}X^{G})$. We will also call the gripper body (when fully open) as the set $\\mathcal{C}(^{W}X^G)$. If there are no object pointclouds within the set $\\mathcal{B}(^{W}X^{G})$, we can simply discard it. \n\n<img src=\"https://raw.githubusercontent.com/RussTedrake/manipulation/master/book/figures/exercises/closing_plane.png\" width=\"800\">\n\nYou're probably thinking - how do I do a rigid transform on a set? Generally it's doable if the transform is affine, the set is polytopic, etc., but there is an easier trick - we just transform all the pointclouds to the gripper frame $G$! \n\nThe function below follows these steps:\n  1. Transform the pointcloud points `pcd` from world frame to gripper frame.\n  2. For each point, check if it is within the bounding box we have provided.\n  3. If there is a point inside the set, return True. If not, return false. ",
      "metadata": {
        "cell_id": "b447eb94442f4d1ca51c1584a2eb31c5",
        "deepnote_cell_type": "markdown"
      },
      "block_group": "e899b8010abb4220984bdad778cdca09"
    },
    {
      "cell_type": "code",
      "source": "def check_nonempty(pcd, X_WG, visualize=False):\n    \"\"\"\n    Check if the \"closing region\" of the gripper is nonempty by transforming the pointclouds to gripper coordinates.\n    Args:\n      - pcd (PointCloud object): pointcloud of the object.\n      - X_WG (Drake RigidTransform): transform of the gripper.\n    Return:\n      - is_nonempty (boolean): boolean set to True if there is a point within the cropped region.\n    \"\"\"\n    pcd_W_np = pcd.xyzs()\n\n    # Bounding box of the closing region written in the coordinate frame of the gripper body.\n    # Do not modify\n    crop_min = [-0.05, 0.1, -0.00625]\n    crop_max = [0.05, 0.1125, 0.00625]\n\n    # Transform the pointcloud to gripper frame.\n    X_GW = X_WG.inverse()\n    pcd_G_np = X_GW.multiply(pcd_W_np)\n\n    # Check if there are any points within the cropped region.\n    indices = np.all(\n        (\n            crop_min[0] <= pcd_G_np[0, :],\n            pcd_G_np[0, :] <= crop_max[0],\n            crop_min[1] <= pcd_G_np[1, :],\n            pcd_G_np[1, :] <= crop_max[1],\n            crop_min[2] <= pcd_G_np[2, :],\n            pcd_G_np[2, :] <= crop_max[2],\n        ),\n        axis=0,\n    )\n\n    is_nonempty = indices.any()\n\n    if visualize:\n        meshcat.Delete()\n        pcd_G = PointCloud(pcd)\n        pcd_G.mutable_xyzs()[:] = pcd_G_np\n\n        draw_grasp_candidate(RigidTransform())\n        meshcat.SetObject(\"cloud\", pcd_G)\n\n        box_length = np.array(crop_max) - np.array(crop_min)\n        box_center = (np.array(crop_max) + np.array(crop_min)) / 2.0\n        meshcat.SetObject(\n            \"closing_region\",\n            Box(box_length[0], box_length[1], box_length[2]),\n            Rgba(1, 0, 0, 0.3),\n        )\n        meshcat.SetTransform(\"closing_region\", RigidTransform(box_center))\n\n    return is_nonempty",
      "metadata": {
        "id": "8aUP5vcLt-Cm",
        "cell_id": "e15ab95d8612429f9b2ebc8d7035db77",
        "deepnote_cell_type": "code"
      },
      "outputs": [],
      "outputs_reference": null,
      "execution_count": null,
      "block_group": "4689be44f2f8407587be77987162818c",
      "content_dependencies": null
    },
    {
      "cell_type": "markdown",
      "source": "The following cell demonstrates the functionality of `check_nonempty`, where we have visualized the pointclouds and $\\mathcal{B}({}^W X^G)$ from the gripper frame. ",
      "metadata": {
        "cell_id": "60a9b3cc6c67485fb3575e9b70b5a9d5",
        "deepnote_cell_type": "markdown"
      },
      "block_group": "005d45da84f5482793c407689311b00a"
    },
    {
      "cell_type": "code",
      "source": "# Lower and upper bounds of the closing region in gripper coordinates. Do not modify.\ncheck_nonempty(pcd, X_WGnew, visualize=True)",
      "metadata": {
        "id": "BBg0NCWd2qI8",
        "cell_id": "cb98994ca4bb4c7ea7617d4e984be9e3",
        "deepnote_cell_type": "code"
      },
      "outputs": [],
      "outputs_reference": null,
      "execution_count": null,
      "block_group": "1ebab7b8a32b4e47bde2ae09a3d94ad4",
      "content_dependencies": null
    },
    {
      "cell_type": "markdown",
      "source": "## Grasp Sampling Algorithm\n\nThat was a lot of subcomponents, but we're finally onto the grand assembly. You will now generate `candidate_num` candidate grasps using everything we have written so far. The sampling algorithm goes as follows:\n\n1. Select a random point $p$ from the pointcloud (use `np.random.randint()`)\n2. Compute the Darboux frame ${}^WX^F(p)$ of the point $p$ using `compute_darboux_frame`. \n3. Randomly sample an $x$ direction translation $x\\in[x_{min},x_{max}]$, and a $z$ direction rotation $\\phi\\in[\\phi_{min},\\phi_{max}]$. Compute a grasp frame $T$ that has the relative transformation `X_FT=(RotateZ(phi),TranslateX(x))`. Convince yourself this makes the point $p$ stay in the \"closing plane\" (drawn in red) defined in the figure above. (NOTE: For ease of grading, make sure you compute the $x$ direction first with `np.random.rand()`, then compute the $\\phi$ direction with another call to `np.random.rand()`, not the other way around.) \n4. From the grasp frame $T$, translate along the $y$ axis such that the gripper is closest to the object without collision. Use `find_minimum_distance`, and call this frame $G$. Remember that `find_minimum_distance` can return `np.nan`. Skip the loop if this happens. \n5. If $G$ results in no collisions (see `check_collision`) and results in non-empty grasp (use `check_nonempty`), append it to the candidate list. If not, continue the loop until we have desired number of candidates. \n",
      "metadata": {
        "id": "dwGE2JDnXmY5",
        "cell_id": "8a8d3bbce87b4c879f67ae840230d99c",
        "deepnote_cell_type": "markdown"
      },
      "block_group": "57abea171ab54f5e9d827c1164eebecf"
    },
    {
      "cell_type": "code",
      "source": "def compute_candidate_grasps(pcd, candidate_num=10, random_seed=5):\n    \"\"\"\n    Compute candidate grasps.\n    Args:\n        - pcd (PointCloud object): pointcloud of the object.\n        - candidate_num (int) : number of desired candidates.\n        - random_seed (int) : seed for rng, used for grading.\n    Return:\n        - candidate_lst (list of drake RigidTransforms) : candidate list of grasps.\n    \"\"\"\n\n    # Do not modify.\n    x_min = -0.03\n    x_max = 0.03\n    phi_min = -np.pi / 3\n    phi_max = np.pi / 3\n    np.random.seed(random_seed)\n\n    # Build KD tree for the pointcloud.\n    kdtree = KDTree(pcd.xyzs().T)\n    ball_radius = 0.002\n\n    candidate_count = 0\n    candidate_lst = []  # list of candidates, given by RigidTransforms.\n\n    # Modify from here.\n\n    return candidate_lst",
      "metadata": {
        "id": "LvKVHqv8fnq1",
        "cell_id": "2795d2c9ff0f4f2d91c2cf92ffae940c",
        "deepnote_cell_type": "code"
      },
      "outputs": [],
      "outputs_reference": null,
      "execution_count": null,
      "block_group": "b15666aaa29f4b90babc22a69ae4171c",
      "content_dependencies": null
    },
    {
      "cell_type": "markdown",
      "source": "You can check your implementation by running the cell below. Note that although we've only sampled 20 candidates, a lot of them look promising. ",
      "metadata": {
        "id": "dypaCKcOf9cn",
        "cell_id": "91354e3fc34a4dcb8c2f1ad115dff51d",
        "deepnote_cell_type": "markdown"
      },
      "block_group": "acf24d7a048c45ff9d30d8bb673bdc47"
    },
    {
      "cell_type": "code",
      "source": "pcd_downsampled = pcd.VoxelizedDownSample(voxel_size=0.005)\n\nif running_as_notebook:\n    grasp_candidates = compute_candidate_grasps(\n        pcd_downsampled, candidate_num=3, random_seed=5\n    )\n\n    meshcat.Delete()\n    meshcat.SetObject(\"cloud\", pcd_downsampled)\n    for i in range(len(grasp_candidates)):\n        draw_grasp_candidate(\n            grasp_candidates[i], prefix=\"gripper\" + str(i), draw_frames=False\n        )",
      "metadata": {
        "id": "ItS9GtKaZ39w",
        "cell_id": "76ce094bd236480980865da3c2bed3ac",
        "deepnote_cell_type": "code"
      },
      "outputs": [],
      "outputs_reference": null,
      "execution_count": null,
      "block_group": "554f0d06aaaa4ee38db8081bd5056b6a",
      "content_dependencies": null
    },
    {
      "cell_type": "markdown",
      "source": "## Note on Running Time\n\nYou might be disappointed in how slowly this runs, but the same algorithm written in C++ with optimized libraries can run much faster. (I would expect around a 20 times speedup). \n\nBut more fundamentally, it's important to note how trivially parallelizable the candidate sampling process is. With a parallelized and optimized implementation, hundreds of grasp candidates can be sampled in real time.",
      "metadata": {
        "id": "7jcCyk-q2U3L",
        "cell_id": "5089b6a8d4b3468ea3c334d46b7ade6f",
        "deepnote_cell_type": "markdown"
      },
      "block_group": "aad089ff72d1497387795e197bc5b39b"
    },
    {
      "cell_type": "markdown",
      "source": "## How will this notebook be Graded?\n\nIf you are enrolled in the class, this notebook will be graded using [Gradescope](www.gradescope.com). You should have gotten the enrollement code on our announcement in Piazza. \n\nFor submission of this assignment, you must do two things. \n- Download and submit the notebook `grasp_candidate.ipynb` to Gradescope's notebook submission section, along with your notebook for the other problems.\n\nWe will evaluate the local functions in the notebook to see if the function behaves as we have expected. For this exercise, the rubric is as follows:\n- [4 pts] `compute_darboux_frame` must be implemented correctly.\n- [4 pts] `find_minimum_distance` must be implemented correctly.\n- [4 pts] `compute_candidate_grasps` must be implemented correctly.",
      "metadata": {
        "id": "MwE8yNg58VQN",
        "cell_id": "8a14115c58ad4634898b61a2fc9fcdf6",
        "deepnote_cell_type": "markdown"
      },
      "block_group": "ccf47cd4230c45a9ad5d31fdfa222e66"
    },
    {
      "cell_type": "code",
      "source": "from manipulation.exercises.clutter.test_grasp_candidate import TestGraspCandidate\nfrom manipulation.exercises.grader import Grader\n\nGrader.grade_output([TestGraspCandidate], [locals()], \"results.json\")\nGrader.print_test_results(\"results.json\")",
      "metadata": {
        "id": "xj5nAh4g8VQO",
        "cell_id": "ea911ef0a9d94295ae7d3e64bd35ad59",
        "deepnote_cell_type": "code"
      },
      "outputs": [],
      "outputs_reference": null,
      "execution_count": null,
      "block_group": "b92b320e9683403abaf9a33274b1a399",
      "content_dependencies": null
    },
    {
      "cell_type": "code",
      "source": "",
      "metadata": {
        "cell_id": "3678363dfd694995b70867a9956dd14b",
        "deepnote_cell_type": "code"
      },
      "outputs": [],
      "outputs_reference": null,
      "execution_count": null,
      "block_group": "d5afdb37535c445e8c30fa9fb2050c94",
      "content_dependencies": null
    },
    {
      "cell_type": "markdown",
      "source": "<a style='text-decoration:none;line-height:16px;display:flex;color:#5B5B62;padding:10px;justify-content:end;' href='https://deepnote.com?utm_source=created-in-deepnote-cell&projectId=aecebf5d-e2f1-421d-bb7d-696a860b16ba' target=\"_blank\">\n<img alt='Created in deepnote.com' style='display:inline;max-height:16px;margin:0px;margin-right:7.5px;' src='data:image/svg+xml;base64,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' > </img>\nCreated in <span style='font-weight:600;margin-left:4px;'>Deepnote</span></a>",
      "metadata": {
        "created_in_deepnote_cell": true,
        "deepnote_cell_type": "markdown"
      }
    }
  ],
  "nbformat": 4,
  "nbformat_minor": 0,
  "metadata": {
    "deepnote_notebook_id": "e6b960fd4135401098b29cd12128c610",
    "deepnote_execution_queue": []
  }
}