{
  "cells": [
    {
      "cell_type": "markdown",
      "source": "## **Analytic Antipodal Grasps**",
      "metadata": {
        "id": "l8Rm5122dy2R",
        "cell_id": "6c4ee5cab95c46d09d428ea0bceb1813",
        "deepnote_cell_type": "markdown"
      },
      "block_group": "b88ac3c655f2494eb6c84fbd246100ad"
    },
    {
      "cell_type": "code",
      "source": "import matplotlib.pyplot as plt\nimport mpld3\nimport numpy as np\nfrom pydrake.all import (\n    Evaluate,\n    Jacobian,\n    MathematicalProgram,\n    Solve,\n    Variable,\n    atan,\n    cos,\n    eq,\n    sin,\n)\n\nfrom manipulation import running_as_notebook\n\nif running_as_notebook:\n    mpld3.enable_notebook()",
      "metadata": {
        "id": "opM0QN-CPwry",
        "cell_id": "91b4fdffe1a74e1eaad065a81b3ca6a5",
        "deepnote_cell_type": "code"
      },
      "outputs": [],
      "outputs_reference": null,
      "execution_count": null,
      "block_group": "4a029eb4e1644a3bb34a86ae4a11a5b9",
      "content_dependencies": null
    },
    {
      "cell_type": "markdown",
      "source": "## Introduction to Symbolic Differentiation \n\nFor this assignment, you will need [symbolic differentiation](https://en.wikipedia.org/wiki/Computer_algebra), supported by Drake's symbolic library. We will demonstrate how to use it with a simple function: \n$$T=\\cos^2(x) + y^5$$\n\nand it's Jacobian (first-order derivative), \n$$J = \\begin{pmatrix} \\frac{\\partial T}{\\partial x} & \\frac{\\partial T}{\\partial y} \\end{pmatrix}=\\begin{pmatrix} -2\\cos(x)\\sin(x) & 5y^4 \\end{pmatrix}$$\n\nas well as the Hessian (second-order derivative), \n$$H = \\begin{pmatrix} \\frac{\\partial^2 T}{\\partial x^2} & \\frac{\\partial^2 T}{\\partial x \\partial y} \\\\ \\frac{\\partial^2 T}{\\partial y \\partial x} & \\frac{\\partial^2 T}{\\partial y^2} \\end{pmatrix}=\\begin{pmatrix} 2 \\sin^2(x) - 2\\cos^2(x) & 0 \\\\ 0 & 20y^3 \\end{pmatrix}$$\n\nBelow are some snippets of how to define symbolic variables, differentiate expressions, and evaluate them using numerical values. ",
      "metadata": {
        "id": "_4KTk534ex9e",
        "cell_id": "43fc10b707fe4f29957e9b172d241645",
        "deepnote_cell_type": "markdown"
      },
      "block_group": "f597f91525f54957a307b4f15ffa439e"
    },
    {
      "cell_type": "code",
      "source": "# 1. Symbolic variables are defined\nx = Variable(\"x\")\ny = Variable(\"y\")\n\n# 2. Expressions can be written by composing operations on Variables.\nT = cos(x) ** 2.0 + y**5.0\nprint(T)\n\n# 3. Use Evaluate to query the numerical value of the expression given the variable values.\n# Use function for multi-dimensional quantities\nprint(Evaluate(np.array([T]), {x: 3.0, y: 5.0}))\n# Use method for scalar quantities\nprint(T.Evaluate({x: 3.0, y: 5.0}))\n\n# 4. Differentiate a quantity using Jacobian, or Differentiate.\nJ = np.array([T.Differentiate(x), T.Differentiate(y)])\nprint(J)\n# Use method for scalar quantities\nJ = T.Jacobian([x, y])\nprint(J)\nprint(Evaluate(J, {x: 3.0, y: 5.0}))\n\n# Use function for taking Jacobian of multi-dimensional quantities.\nH = Jacobian(J, [x, y])\nprint(H)\nprint(Evaluate(H, {x: 3.0, y: 5.0}))",
      "metadata": {
        "id": "FbI9kuNKe9fb",
        "cell_id": "71510395e41e471eac7efb5390167fd1",
        "deepnote_cell_type": "code"
      },
      "outputs": [],
      "outputs_reference": null,
      "execution_count": null,
      "block_group": "f3f2452aec0a42b8960813ed8961de85",
      "content_dependencies": null
    },
    {
      "cell_type": "markdown",
      "source": "Are the symbolic values of the Jacobian and Hessian what you expect? ",
      "metadata": {
        "id": "A7Xm7hVkhbF0",
        "cell_id": "48314a0ec6624e8da998d1ca69fae0fa",
        "deepnote_cell_type": "markdown"
      },
      "block_group": "5e5c885151f845afa02312b237649029"
    },
    {
      "cell_type": "markdown",
      "source": "## The Cycloidal Gear\n\nNow we enter the main part of the problem. \n\nAfter graduating from MIT, you decide to work at a company producing cutting-edge [hypercycloidal gears](https://youtu.be/MBWkibie_5I?t=74). You are in charge of designing a robotic pick-and-place system for these parts. In order to reliably grasp the gears, you decide to use your knowledge of antipodal points. \n\nThe mechanical design department gave you a pretty ugly parametric equation for what the shape looks like, which we won't even bother writing in latex! Instead, we provided it via the function `shape`. \n\nGiven a angle in polar coordinates (parameter $t$), it returns $p(t)=[x(t),y(t)]$, a position in 2D.  \n\nThe below cell implements the function and shows you what the gear part looks like. ",
      "metadata": {
        "id": "KncJ9HEed94E",
        "cell_id": "d9a9f188f201464d9db65bb47ef0bb38",
        "deepnote_cell_type": "markdown"
      },
      "block_group": "a57fa45b48f74f9aa52b0759ce02acc8"
    },
    {
      "cell_type": "code",
      "source": "def shape(t):\n    x = (\n        (10 * cos(t))\n        - (1.5 * cos(t + atan(sin(-9 * t) / ((4 / 3) - cos(-9 * t)))))\n        - (0.75 * cos(10 * t))\n    )\n    y = (\n        (-10 * sin(t))\n        + (1.5 * sin(t + atan(sin(-9 * t) / ((4 / 3) - cos(-9 * t)))))\n        + (0.75 * sin(10 * t))\n    )\n    return np.array([x, y])\n\n\ndef plot_gear():\n    theta = np.linspace(0, 2 * np.pi, 500)\n    gear_shape = []\n    for i in range(500):\n        gear_shape.append(Evaluate(shape(theta[i])).squeeze())\n    gear_shape = np.array(gear_shape)\n    plt.axis(\"equal\")\n    plt.plot(gear_shape[:, 0], gear_shape[:, 1], \"k-\")\n\n\nplot_gear()",
      "metadata": {
        "id": "K9tnarjr8FnB",
        "cell_id": "0e99c5e8710546808fb99223aca54d86",
        "deepnote_cell_type": "code"
      },
      "outputs": [],
      "outputs_reference": null,
      "execution_count": null,
      "block_group": "c550625e147042109b4f8832043aa2c2",
      "content_dependencies": null
    },
    {
      "cell_type": "markdown",
      "source": "## Grasp Energy Function\n\nHow can we analytically find a pair of antipodal points given the parametric equation of a shape? We make the following claim: \n\n**Claim**: Let $p(t_1)$ and $p(t_2)$ be a pair of antipodal points given in parametric space. Then $t_1$ and $t_2$ are critical points of the following energy function:\n$$E=\\frac{1}{2}\\kappa\\|p(t_1)-p(t_2)\\|^2$$\n\nthat is, they satisfy $\\frac{\\partial E}{\\partial \\mathbf{t}}=[0, 0]$ where $\\mathbf{t}=[t_1,t_2]$. \n\nFor the subsequent problems, you may assume $\\kappa=2$. \n\n**Problem 5.1.a** [2pts]: Prove the claim. \\\\\n**Problem 5.1.b** [2pts]: Prove that the converse may not necessarily hold. \n\nHINT: The derivative of $p(t)$ respect to $t$ gives the tangent 'velocity' vector: $v(t)=p'(t)$\n\nWrite down your answer in a paper / pdf file, and submit to the Gradescope written submission section! ",
      "metadata": {
        "id": "m-W34GnXCG_N",
        "cell_id": "b7c4b363c9a94d8cb93b944f1c12f55c",
        "deepnote_cell_type": "markdown"
      },
      "block_group": "567afd7f8eae4c5b824c0b82cd376ec9"
    },
    {
      "cell_type": "markdown",
      "source": "## Implementation\n\n**Problem 5.1.c** [4pts]\nUsing this knowledge, we will write a Mathematical Program to find the antipodal points. Since we are looking for $t_1$ and $t_2$ such that the Jacobians is a zero vector, we are solving a root finding problem. Problems of this nature can still be transcribed as an instance of a Mathematical program;  it simply doesn't have a cost. \n\nWe will write down our problem as follows: \n\n$$\\begin{aligned} \\text{find} \\quad & \\mathbf{t}  \\\\ \\text{s.t.} \\quad &  \\frac{\\partial E}{\\partial \\mathbf{t}}(\\mathbf{t}) = \\mathbf{0} \\\\ \\quad & 0 \\leq \\mathbf{t} \\leq 2\\pi - \\varepsilon  \\\\ \\quad & t_1 - t_2 \\geq \\varepsilon \\end{aligned}$$\n\nThe first constraint makes sure that they are critical points of the energy function, while the last two makes sure the points are not overlapping. You will write the following outer loop to check for the validity of solutions.\n\n1. Pick a random guess for $\\mathbf{t}$ using [SetInitialGuess](https://drake.mit.edu/doxygen_cxx/classdrake_1_1solvers_1_1_mathematical_program.html#ae48cb6d2263ccf09e38932dcd27f769f) by uniform sampling over $[0, 2\\pi - \\varepsilon]$ (use `np.random.rand(2)`). \n2. Using `MathematicalProgram`, solve the above problem. Remember there is no cost in this problem, so we simply only add the constraints. \n3. If the solution is not valid (i.e. problem doesn't return success), repeat 1-2 with random guesses until a valid solution is found. \n4. If a valid solution $\\mathbf{t}^*$ is found, return the Eigenvalues of the Hessian of $E$ at $\\mathbf{t}^*$. (Use `np.linalg.eigvals`)",
      "metadata": {
        "id": "iNo0LiKyq0CO",
        "cell_id": "9954aa07613b48998f744bb80bc53755",
        "deepnote_cell_type": "markdown"
      },
      "block_group": "d774081db4a14df3b02b1cc571daf9fc"
    },
    {
      "cell_type": "code",
      "source": "def find_antipodal_pts(shape):\n    \"\"\"\n    Finds antipodal points given the parametric function that describes the shape of the object.\n    Args:\n      - shape: function from parametric space t to position R2.\n    Returns:\n      - result: 2-dim np array that contains antipodal grasp locations parametrized by [t1, t2]\n      - H_eig: 2-dim np array that contains eigenvalues of the Hessian.\n    \"\"\"\n\n    eps = 1e-3  # do not modify, but use it for epsilon variable above.\n\n    ## Fill your code here\n    result = np.array([0.0, 0.0])  # modify here\n    H_eig = np.array([0.0, 0.0])  # modify here\n\n    return result, H_eig",
      "metadata": {
        "id": "WYPS22sY80WD",
        "cell_id": "e8c47cd03e7848c0a292e4759e880fbf",
        "deepnote_cell_type": "code"
      },
      "outputs": [],
      "outputs_reference": null,
      "execution_count": null,
      "block_group": "4d5e61f611cc416cab4bb6286aa0124a",
      "content_dependencies": null
    },
    {
      "cell_type": "markdown",
      "source": "You can run the cell below to check the correctnes of your implementation. As the constraint is nonlinear, it might take some time to compute. (Typically, the solve time will still be less than 2~3 seconds).",
      "metadata": {
        "id": "LuOUVR5Vys3p",
        "cell_id": "5ced077f213a4eee9248972a724c30bb",
        "deepnote_cell_type": "markdown"
      },
      "block_group": "8b51ccacac9a477693bfecd4e6e949b2"
    },
    {
      "cell_type": "code",
      "source": "def get_antipodal_pts_on_shape(pts, shape):\n    antipodal_pts = []\n    for i in range(2):\n        val = Evaluate(shape(pts[i])).squeeze()\n        antipodal_pts.append(val)\n    antipodal_pts = np.array(antipodal_pts)\n    return antipodal_pts\n\n\ndef plot_antipodal_pts(pts, shape):\n    antipodal_pts = get_antipodal_pts_on_shape(pts, shape)\n    plt.scatter(antipodal_pts[:, 0], antipodal_pts[:, 1], color=\"red\")\n\n\nplot_gear()\nresult, H_eig = find_antipodal_pts(shape)\nplot_antipodal_pts(result, shape)\nprint(H_eig)",
      "metadata": {
        "id": "Hzm6QrdGT88d",
        "cell_id": "e8706dc38424418e90a3b52dabbc62c3",
        "deepnote_cell_type": "code"
      },
      "outputs": [],
      "outputs_reference": null,
      "execution_count": null,
      "block_group": "22e625dc801946639267d9b15f6f08fd",
      "content_dependencies": null
    },
    {
      "cell_type": "markdown",
      "source": "## Hessian Analysis\n\nWhy did we implement the Hessian? You may remember that if the Hessian is used for the second-derivative test. For a function $f(x)$ with a critical point $x^*$, this critical point is:\n- A local minima if the Hessian is positive-definite (i.e. all positive eigenvalues)\n- A local maxima if the Hessian is negative-definite (i.e. all negative eigenvalues)\n- A saddle point if the Hessian has mixed positive / negative eigenvalues. \n\n**Problem 5.1.d** [2pts] Describe what grasps the local minima, maxima, and saddle points correspond to in terms of the geometry of the object. In a very simple sentence, explain why you might prefer one configuration over another. \n\nHINT: The cell below will visualize each of the cases.",
      "metadata": {
        "id": "tvstL9DDHIk3",
        "cell_id": "acc39d7d45cc47ecbae1a6a05847d603",
        "deepnote_cell_type": "markdown"
      },
      "block_group": "70d6d7e722994337b0ba37f49ec01438"
    },
    {
      "cell_type": "code",
      "source": "if running_as_notebook:\n    plt.subplot(1, 3, 1)\n    plot_gear()\n    plt.title(\"Local Minima\")\n    np.random.seed(45)\n    while True:\n        result, H_eig = find_antipodal_pts(shape)\n        if (H_eig > 0).all():\n            break\n    plot_antipodal_pts(result, shape)\n\n    plt.subplot(1, 3, 2)\n    plot_gear()\n    plt.title(\"Local Maxima\")\n    np.random.seed(4)\n    while True:\n        result, H_eig = find_antipodal_pts(shape)\n        if (H_eig < 0).all():\n            break\n    plot_antipodal_pts(result, shape)\n\n    plt.subplot(1, 3, 3)\n    plot_gear()\n    plt.title(\"Saddle Point\")\n    np.random.seed(13)\n    while True:\n        result, H_eig = find_antipodal_pts(shape)\n        if (H_eig[0] > 0) and (H_eig[1] < 0):\n            break\n    plot_antipodal_pts(result, shape)",
      "metadata": {
        "id": "MF16oJya8-WM",
        "cell_id": "e139fc18f2ba4b4289286e06f5f7c325",
        "deepnote_cell_type": "code"
      },
      "outputs": [],
      "outputs_reference": null,
      "execution_count": null,
      "block_group": "f6a1c9aa7d484628ad16e935bb289ba3",
      "content_dependencies": null
    },
    {
      "cell_type": "markdown",
      "source": "## How will this notebook be Graded?\n\nIf you are enrolled in the class, this notebook will be graded using [Gradescope](www.gradescope.com). You should have gotten the enrollement code on our announcement in Piazza. \n\nFor submission of this assignment, you must do two things. \n- Download and submit the notebook `analytic_antipodal_grasps.ipynb` to Gradescope's notebook submission section, along with your notebook for the other problems.\n- Write down your answers to 5.1.a, 5.1.b, and 5.1.d to a separately pdf file and submit it to Gradescope's written submission section. \n\nWe will evaluate the local functions in the notebook to see if the function behaves as we have expected. For this exercise, the rubric is as follows:\n- [2 pts] 5.1.a is answered correctly.\n- [2 pts] 5.1.b is answered correctly. \n- [4 pts] `find_antipodal_points` must be implemented correctly.\n- [2 pts] 5.1.d is answered correctly.",
      "metadata": {
        "id": "MwE8yNg58VQN",
        "cell_id": "e90e271fd88b4e2a9fd4cbb924b18e56",
        "deepnote_cell_type": "markdown"
      },
      "block_group": "54fc19b87cc44ab5ae73cae9e8dad538"
    },
    {
      "cell_type": "code",
      "source": "from manipulation.exercises.clutter.test_analytic_grasp import TestAnalyticGrasp\nfrom manipulation.exercises.grader import Grader\n\nGrader.grade_output([TestAnalyticGrasp], [locals()], \"results.json\")\nGrader.print_test_results(\"results.json\")",
      "metadata": {
        "id": "xj5nAh4g8VQO",
        "cell_id": "4a903cc8bd1d4df1a1e2ddae3ba3f236",
        "deepnote_cell_type": "code"
      },
      "outputs": [],
      "outputs_reference": null,
      "execution_count": null,
      "block_group": "c59322e662a44afabb30cca8d9506e95",
      "content_dependencies": null
    },
    {
      "cell_type": "code",
      "source": "",
      "metadata": {
        "cell_id": "725b8b7a1f2348a9be69d9fdf65f92be",
        "deepnote_cell_type": "code"
      },
      "outputs": [],
      "outputs_reference": null,
      "execution_count": null,
      "block_group": "e88724b6eb1f438bb33df4d15c43a150",
      "content_dependencies": null
    },
    {
      "cell_type": "markdown",
      "source": "<a style='text-decoration:none;line-height:16px;display:flex;color:#5B5B62;padding:10px;justify-content:end;' href='https://deepnote.com?utm_source=created-in-deepnote-cell&projectId=aecebf5d-e2f1-421d-bb7d-696a860b16ba' target=\"_blank\">\n<img alt='Created in deepnote.com' style='display:inline;max-height:16px;margin:0px;margin-right:7.5px;' src='data:image/svg+xml;base64,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' > </img>\nCreated in <span style='font-weight:600;margin-left:4px;'>Deepnote</span></a>",
      "metadata": {
        "created_in_deepnote_cell": true,
        "deepnote_cell_type": "markdown"
      }
    }
  ],
  "nbformat": 4,
  "nbformat_minor": 0,
  "metadata": {
    "deepnote_notebook_id": "b38cd85c495f426db7ea2a4130420ac8",
    "deepnote_execution_queue": []
  }
}