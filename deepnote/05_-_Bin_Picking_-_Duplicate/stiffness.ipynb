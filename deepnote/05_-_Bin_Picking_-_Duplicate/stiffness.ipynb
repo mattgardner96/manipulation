{
  "cells": [
    {
      "cell_type": "markdown",
      "source": "This notebook provides examples to go along with the [textbook](http://manipulation.csail.mit.edu/clutter.html).  I recommend having both windows open, side-by-side!",
      "metadata": {
        "id": "TKvYiJgnYExi",
        "cell_id": "5c062ea4e97245d1ab5ca4d8230494bb",
        "deepnote_cell_type": "markdown"
      },
      "block_group": "d549caa875b74e4c8f5ec4d5aa5f1955"
    },
    {
      "cell_type": "code",
      "source": "import numpy as np\nfrom pydrake.all import Rgba, StartMeshcat\nfrom pydrake.multibody.benchmarks import MassDamperSpringAnalyticalSolution\n\nfrom manipulation import running_as_notebook",
      "metadata": {
        "id": "A4QOaw_zYLfI",
        "lines_to_end_of_cell_marker": 2,
        "cell_id": "cfab4cb16d0f44e1aae3d34259d87555",
        "deepnote_cell_type": "code"
      },
      "outputs": [],
      "outputs_reference": null,
      "execution_count": null,
      "block_group": "f6899d35db534f64adfd1b3a4f2b0f08",
      "content_dependencies": null
    },
    {
      "cell_type": "code",
      "source": "# Start the visualizer.\nmeshcat = StartMeshcat()",
      "metadata": {
        "cell_id": "48aa03a0825343a882940d7e3003194c",
        "deepnote_cell_type": "code"
      },
      "outputs": [],
      "outputs_reference": null,
      "execution_count": null,
      "block_group": "5ea97fbe2e1e4811bbeb0bcc471958c5",
      "content_dependencies": null
    },
    {
      "cell_type": "markdown",
      "source": "# Let's explore stiffness\n\nAs \"spring-mass-damper\" system is enough to make the basic point.",
      "metadata": {
        "id": "7aGJ9e3lJlF8",
        "cell_id": "bbb5cffbcf4044dc84d66df485931819",
        "deepnote_cell_type": "markdown"
      },
      "block_group": "4f164e8bacb8495a85b0f447c4265a3f"
    },
    {
      "cell_type": "code",
      "source": "def spring_mass_damper_example():\n    meshcat.Delete()\n    meshcat.DeleteAddedControls()\n    meshcat.SetProperty(\"/Background\", \"visible\", False)\n    meshcat.Set2dRenderMode(xmin=-2, xmax=2, ymin=-2, ymax=2)\n\n    meshcat.AddSlider(name=\"mass\", min=0.02, max=10, value=1.0, step=0.1)\n    meshcat.AddSlider(name=\"b\", min=0.02, max=10, value=1.0, step=0.1)\n    meshcat.AddSlider(\n        name=\"k\",\n        min=0.02,\n        max=10,\n        value=1.0,\n        step=0.1,\n        decrement_keycode=\"ArrowLeft\",\n        increment_keycode=\"ArrowRight\",\n    )\n    meshcat.AddSlider(\n        name=\"h\",\n        min=0.02,\n        max=10,\n        value=0.1,\n        step=0.1,\n        decrement_keycode=\"ArrowDown\",\n        increment_keycode=\"ArrowUp\",\n    )\n\n    meshcat.AddButton(\"Stop Demo\", \"Escape\")\n\n    N = 200\n    tf = 20\n    ts = np.linspace(0, tf, N)\n    xs = np.zeros((N, 2))\n    Xs = np.zeros((3, N))\n\n    Nd = 200\n    xd = np.zeros((Nd, 2))\n    Xd = np.zeros((3, Nd))\n\n    prev = None\n\n    while meshcat.GetButtonClicks(\"Stop Demo\") < 1:\n        mass = meshcat.GetSliderValue(\"mass\")\n        b = meshcat.GetSliderValue(\"b\")\n        k = meshcat.GetSliderValue(\"k\")\n        h = meshcat.GetSliderValue(\"h\")\n        if [mass, b, k, h] == prev:\n            continue\n        prev = [mass, b, k, h]\n\n        sol = MassDamperSpringAnalyticalSolution(mass, b, k)\n        sol.SetInitialValue(1, 0)\n\n        for i in range(N):\n            xs[i] = [sol.get_x(ts[i]), sol.get_xDt(ts[i])]\n        Xs[0, :] = xs[:, 0]\n        Xs[2, :] = xs[:, 1]\n        meshcat.SetLine(\"analytical\", Xs, line_width=4, rgba=Rgba(0, 0, 1, 1))\n\n        xd[0] = [1, 0]\n        Ad = np.eye(2) + h * np.array([[0, h], [-k * h / mass, -b * h / mass]])\n        for i in range(1, Nd):\n            xd[i] = Ad @ xd[i - 1]\n        Xd[0, :] = xd[:, 0]\n        Xd[2, :] = xd[:, 1]\n        meshcat.SetLine(\"euler\", Xd, line_width=4, rgba=Rgba(1, 0, 0, 1))\n\n        if not running_as_notebook:\n            break\n\n    meshcat.DeleteButton(\"Stop Demo\")\n\n\nspring_mass_damper_example()",
      "metadata": {
        "id": "7dimkJhd9DjP",
        "cell_id": "ecfca34cc112427586d7317d4f2f4469",
        "deepnote_cell_type": "code"
      },
      "outputs": [],
      "outputs_reference": null,
      "execution_count": null,
      "block_group": "d9fab4011c05425aa09ee709f99254b6",
      "content_dependencies": null
    },
    {
      "cell_type": "markdown",
      "source": "<a style='text-decoration:none;line-height:16px;display:flex;color:#5B5B62;padding:10px;justify-content:end;' href='https://deepnote.com?utm_source=created-in-deepnote-cell&projectId=aecebf5d-e2f1-421d-bb7d-696a860b16ba' target=\"_blank\">\n<img alt='Created in deepnote.com' style='display:inline;max-height:16px;margin:0px;margin-right:7.5px;' src='data:image/svg+xml;base64,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' > </img>\nCreated in <span style='font-weight:600;margin-left:4px;'>Deepnote</span></a>",
      "metadata": {
        "created_in_deepnote_cell": true,
        "deepnote_cell_type": "markdown"
      }
    }
  ],
  "nbformat": 4,
  "nbformat_minor": 0,
  "metadata": {
    "deepnote_notebook_id": "12f4acde86554ce28d60c23d085b8311",
    "deepnote_execution_queue": []
  }
}