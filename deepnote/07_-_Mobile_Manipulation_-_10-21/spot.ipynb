{
  "cells": [
    {
      "cell_type": "markdown",
      "source": "This notebook provides examples to go along with the [textbook](http://manipulation.csail.mit.edu/robot.html).  I recommend having both windows open, side-by-side!",
      "metadata": {
        "id": "EgiF12Hf1Dhs",
        "colab_type": "text",
        "cell_id": "8eddedc47bb24576b2c4a02a34060466",
        "deepnote_cell_type": "markdown"
      },
      "block_group": "5c55d8fb084f41708927cadb0c835cbe"
    },
    {
      "cell_type": "code",
      "source": "from pydrake.all import ModelVisualizer, PackageMap, Simulator, StartMeshcat\n\nfrom manipulation import ConfigureParser, FindResource, running_as_notebook\nfrom manipulation.station import LoadScenario, MakeHardwareStation",
      "metadata": {
        "id": "eeMrMI0-1Dhu",
        "colab": {},
        "colab_type": "code",
        "lines_to_end_of_cell_marker": 2,
        "cell_id": "4b12defa141440538a4d557c36b2d91a",
        "deepnote_cell_type": "code"
      },
      "outputs": [],
      "outputs_reference": null,
      "execution_count": null,
      "block_group": "c1675a1071e940f4b60762ded394fec1",
      "content_dependencies": null
    },
    {
      "cell_type": "code",
      "source": "# Start the visualizer.\nmeshcat = StartMeshcat()",
      "metadata": {
        "cell_id": "c03b0c51ce3249fdbd12e7a2c8b673e7",
        "deepnote_cell_type": "code"
      },
      "outputs": [],
      "outputs_reference": null,
      "execution_count": null,
      "block_group": "6bb24bad4c7d49408630cc693517d00c",
      "content_dependencies": null
    },
    {
      "cell_type": "code",
      "source": "def AddSpotRemote(parser):\n    parser.package_map().AddRemote(\n        package_name=\"spot_description\",\n        params=PackageMap.RemoteParams(\n            urls=[\n                f\"https://github.com/wrangel-bdai/spot_ros2/archive/20965ef7bba98598ee10878c7b54e6ef28a300c6.tar.gz\"\n            ],\n            sha256=(\"20a4f12896b04cc73e186cf876bf2c7e905ee88f8add8ea51bf52dfc888674b4\"),\n            strip_prefix=\"spot_ros2-20965ef7bba98598ee10878c7b54e6ef28a300c6/spot_description/\",\n        ),\n    )",
      "metadata": {
        "cell_id": "fec0582a358d4f17b36fc19e88e5aa92",
        "deepnote_cell_type": "code"
      },
      "outputs": [],
      "outputs_reference": null,
      "execution_count": null,
      "block_group": "4b0a631958df4373b3d961297a1b9088",
      "content_dependencies": null
    },
    {
      "cell_type": "markdown",
      "source": "# Simplified Spot model for mobile manipulation\n\nFirst we'll use the ModelVisualizer to inspect the model.",
      "metadata": {
        "cell_id": "5b40add14d734e25aad7035bd2c405dd",
        "deepnote_cell_type": "markdown"
      },
      "block_group": "678d059897d94b9b9958e3bcd1e98d28"
    },
    {
      "cell_type": "code",
      "source": "visualizer = ModelVisualizer(meshcat=meshcat)\nConfigureParser(visualizer.parser())\nAddSpotRemote(visualizer.parser())\nvisualizer.AddModels(\n    url=\"package://manipulation/spot/spot_with_arm_and_floating_base_actuators.urdf\"\n)\nvisualizer.Run(loop_once=not running_as_notebook)\nmeshcat.DeleteAddedControls()",
      "metadata": {
        "id": "5SjOClhTltPk",
        "colab": {},
        "colab_type": "code",
        "cell_id": "2905485b1b144ca8bb05d2719ebf1b73",
        "deepnote_cell_type": "code"
      },
      "outputs": [],
      "outputs_reference": null,
      "execution_count": null,
      "block_group": "1717cc1a3a5a455fa057f9021968e3dd",
      "content_dependencies": null
    },
    {
      "cell_type": "markdown",
      "source": "Now we can use HardwareStation to create a basic simulation.",
      "metadata": {
        "cell_id": "b71af3e649b0488ca275a576f9c91012",
        "deepnote_cell_type": "markdown"
      },
      "block_group": "c016998437bb462baf234891bcb7852f"
    },
    {
      "cell_type": "code",
      "source": "scenario = LoadScenario(\n    filename=FindResource(\n        \"models/spot/spot_with_arm_and_floating_base_actuators.scenario.yaml\"\n    )\n)\nstation = MakeHardwareStation(scenario, meshcat, parser_preload_callback=AddSpotRemote)\nsimulator = Simulator(station)\ncontext = simulator.get_mutable_context()\nx0 = station.GetOutputPort(\"spot.state_estimated\").Eval(context)\nstation.GetInputPort(\"spot.desired_state\").FixValue(context, x0)\nsimulator.AdvanceTo(0.1);",
      "metadata": {
        "cell_id": "d22de45059544bf391b52048eee569d2",
        "deepnote_cell_type": "code"
      },
      "outputs": [],
      "outputs_reference": null,
      "execution_count": null,
      "block_group": "dda7fad3c1d2447996c77486624b5be3",
      "content_dependencies": null
    },
    {
      "cell_type": "code",
      "source": "",
      "metadata": {
        "cell_id": "767bbfae8352461091de04f050e56b18",
        "deepnote_cell_type": "code"
      },
      "outputs": [],
      "outputs_reference": null,
      "execution_count": null,
      "block_group": "c83b16e642b7499cac7679f74240a36c",
      "content_dependencies": null
    },
    {
      "cell_type": "markdown",
      "source": "<a style='text-decoration:none;line-height:16px;display:flex;color:#5B5B62;padding:10px;justify-content:end;' href='https://deepnote.com?utm_source=created-in-deepnote-cell&projectId=157857d4-6367-4a01-a572-0646c5286123' target=\"_blank\">\n<img alt='Created in deepnote.com' style='display:inline;max-height:16px;margin:0px;margin-right:7.5px;' src='data:image/svg+xml;base64,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' > </img>\nCreated in <span style='font-weight:600;margin-left:4px;'>Deepnote</span></a>",
      "metadata": {
        "created_in_deepnote_cell": true,
        "deepnote_cell_type": "markdown"
      }
    }
  ],
  "nbformat": 4,
  "nbformat_minor": 0,
  "metadata": {
    "deepnote_notebook_id": "4e301fb6f6674ef280844f0ab51ce8d6",
    "deepnote_execution_queue": []
  }
}