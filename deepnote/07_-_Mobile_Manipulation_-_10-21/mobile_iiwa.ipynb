{
  "cells": [
    {
      "cell_type": "markdown",
      "source": "This notebook provides examples to go along with the [textbook](http://manipulation.csail.mit.edu/robot.html).  I recommend having both windows open, side-by-side!",
      "metadata": {
        "id": "EgiF12Hf1Dhs",
        "colab_type": "text",
        "cell_id": "6de631712dfe4ba48717b128995024ec",
        "deepnote_cell_type": "markdown"
      },
      "block_group": "7a4b1a852a1c4168889e6ceda4192853"
    },
    {
      "cell_type": "code",
      "source": "from pydrake.all import ModelVisualizer, Simulator, StartMeshcat\n\nfrom manipulation import ConfigureParser, running_as_notebook\nfrom manipulation.station import LoadScenario, MakeHardwareStation",
      "metadata": {
        "id": "eeMrMI0-1Dhu",
        "colab": {},
        "colab_type": "code",
        "lines_to_end_of_cell_marker": 2,
        "cell_id": "7a0b022c6d514b83ab6b1cec94c338d6",
        "deepnote_cell_type": "code"
      },
      "outputs": [],
      "outputs_reference": null,
      "execution_count": null,
      "block_group": "de94b38a07ff41c687db7ea275a6a27c",
      "content_dependencies": null
    },
    {
      "cell_type": "code",
      "source": "# Start the visualizer.\nmeshcat = StartMeshcat()",
      "metadata": {
        "cell_id": "6972a0f931bc4b8ea7e4354ca1c76ba8",
        "deepnote_cell_type": "code"
      },
      "outputs": [],
      "outputs_reference": null,
      "execution_count": null,
      "block_group": "7f61491781844335a52af7d94a1e9b21",
      "content_dependencies": null
    },
    {
      "cell_type": "markdown",
      "source": "# IIWA with a mobile base\n\n",
      "metadata": {
        "cell_id": "23a7dcf751444ce0b320895bdef10b41",
        "deepnote_cell_type": "markdown"
      },
      "block_group": "c52a586759174319870f73a22a11f417"
    },
    {
      "cell_type": "code",
      "source": "visualizer = ModelVisualizer(meshcat=meshcat)\nConfigureParser(visualizer.parser())\nvisualizer.AddModels(\n    url=\"package://manipulation/mobile_iiwa14_primitive_collision.urdf\"\n)\nvisualizer.Run(loop_once=not running_as_notebook)\nmeshcat.DeleteAddedControls()",
      "metadata": {
        "id": "5SjOClhTltPk",
        "colab": {},
        "colab_type": "code",
        "cell_id": "9370f7676fc74821bfa5cde09a487321",
        "deepnote_cell_type": "code"
      },
      "outputs": [],
      "outputs_reference": null,
      "execution_count": null,
      "block_group": "b9913d7b62314a23a9f476179d5ff851",
      "content_dependencies": null
    },
    {
      "cell_type": "markdown",
      "source": "Here is a version using the HardwareStation interface.  Note that we use a generic InverseDynamics driver instead of the existing IiwaDriver (and the ports are now more generic, too), because we need the controller to also reason about the mobile base joints.",
      "metadata": {
        "cell_id": "46e6941fe9c245b685ea2413f0455139",
        "deepnote_cell_type": "markdown"
      },
      "block_group": "603dd34fc5714f758a0c0e89880111ff"
    },
    {
      "cell_type": "code",
      "source": "scenario_data = \"\"\"\ndirectives:\n- add_model:\n    name: mobile_iiwa\n    file: package://manipulation/mobile_iiwa14_primitive_collision.urdf\n    default_joint_positions:\n        iiwa_joint_1: [-1.57]\n        iiwa_joint_2: [0.1]\n        iiwa_joint_3: [0]\n        iiwa_joint_4: [-1.2]\n        iiwa_joint_5: [0]\n        iiwa_joint_6: [ 1.6]\n        iiwa_joint_7: [0]\nmodel_drivers:\n    mobile_iiwa: !InverseDynamicsDriver {}\n\"\"\"\n\nscenario = LoadScenario(data=scenario_data)\nstation = MakeHardwareStation(scenario, meshcat)\nsimulator = Simulator(station)\ncontext = simulator.get_mutable_context()\nx0 = station.GetOutputPort(\"mobile_iiwa.state_estimated\").Eval(context)\nstation.GetInputPort(\"mobile_iiwa.desired_state\").FixValue(context, x0)\nsimulator.AdvanceTo(0.1)",
      "metadata": {
        "cell_id": "3a03243201174b34aaff7731f85a62f4",
        "deepnote_cell_type": "code"
      },
      "outputs": [],
      "outputs_reference": null,
      "execution_count": null,
      "block_group": "b41405b502b342688dfafd83810b2007",
      "content_dependencies": null
    },
    {
      "cell_type": "markdown",
      "source": "<a style='text-decoration:none;line-height:16px;display:flex;color:#5B5B62;padding:10px;justify-content:end;' href='https://deepnote.com?utm_source=created-in-deepnote-cell&projectId=157857d4-6367-4a01-a572-0646c5286123' target=\"_blank\">\n<img alt='Created in deepnote.com' style='display:inline;max-height:16px;margin:0px;margin-right:7.5px;' src='data:image/svg+xml;base64,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' > </img>\nCreated in <span style='font-weight:600;margin-left:4px;'>Deepnote</span></a>",
      "metadata": {
        "created_in_deepnote_cell": true,
        "deepnote_cell_type": "markdown"
      }
    }
  ],
  "nbformat": 4,
  "nbformat_minor": 0,
  "metadata": {
    "deepnote_notebook_id": "561362ef52e743a6afc62b6fede63633",
    "deepnote_execution_queue": []
  }
}