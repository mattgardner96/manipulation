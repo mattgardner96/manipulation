{
  "cells": [
    {
      "cell_type": "markdown",
      "source": "# **The Effect of Reflected Inertia on Gain Tuning**",
      "metadata": {
        "id": "a42nCSrUsB9Z",
        "colab_type": "text",
        "cell_id": "f007a8d078374d70a5b4b8df145274b8",
        "deepnote_cell_type": "markdown"
      },
      "block_group": "086c16032695485598858fa71b665d91"
    },
    {
      "cell_type": "code",
      "source": "# python libraries\nimport mpld3\nimport numpy as np\nfrom matplotlib import pyplot as plt\nfrom pydrake.all import (\n    ConstantVectorSource,\n    DiagramBuilder,\n    PidController,\n    Simulator,\n    SymbolicVectorSystem,\n    Variable,\n    VectorLogSink,\n    sin,\n)\n\nfrom manipulation import running_as_notebook\nfrom manipulation.exercises.grader import Grader\nfrom manipulation.exercises.robot.test_reflected_inertia import (\n    TestSimplePendulumWithGearbox,\n)\nfrom manipulation.utils import RenderDiagram\n\n# enable mpld3 notebook\nif running_as_notebook:\n    mpld3.enable_notebook()",
      "metadata": {
        "id": "KUmZ8IkzJDCR",
        "colab": {},
        "colab_type": "code",
        "source_hash": null,
        "execution_start": 1725822875754,
        "execution_millis": 1840,
        "deepnote_to_be_reexecuted": false,
        "cell_id": "ac699670b4ba46eaa3451765d7c6bb44",
        "deepnote_cell_type": "code"
      },
      "outputs": [],
      "outputs_reference": null,
      "execution_count": null,
      "block_group": "8b60fe0f71674d188a4a47d73e34950c",
      "content_dependencies": null
    },
    {
      "cell_type": "markdown",
      "source": "## Problem Description\nYou will notice that in the first few weeks of the lecture, we don't think a lot about the full second-order dynamics of the arm (a more complicated version of $F=ma$), although we will come to revisit this later. This problem set helps to understand one of the reasons why we can abstract many manipulation problems kinematically (purely in terms of joint angles and end-effector positions), as opposed to worrying about dynamics (joint torques and inertias). Even before going to the multi-link case, let's think about how we should control the position of a single pendulum.\n\nIn this problem you will investigate the role of reflected inertia in position control of a simple pendulum. At the end of the notebook, you will be able to check your work in a simulation environment.\n\n**These are the main steps of the exercise:**\n1. Write down the state-space dynamics function for the simple pendulum with motor and gearbox.\n2. Set up a PID Controller to do position control for the simple pendulum.\n3. Qualitatively answer the difference in behavior between direct-drive and gearbox cases.\n\n\n**Your job for this problem set**\nWill be to do step 1 and 3 of the main steps.\n\n",
      "metadata": {
        "id": "mcSz0hOVtBd5",
        "colab_type": "text",
        "cell_id": "39f1aba4faf1449db334c4518d61f721",
        "deepnote_cell_type": "markdown"
      },
      "block_group": "2c77256932bb45bd8f1dd044d7809af0"
    },
    {
      "cell_type": "markdown",
      "source": "## The Simple Pendulum\n\n<img src=\"https://raw.githubusercontent.com/RussTedrake/manipulation/master/book/figures/exercises/simple_pendulum.png\" width=\"400\">\n\nThe [simple pendulum](https://underactuated.csail.mit.edu/pend.html) is perhaps the simplest abstraction of a 'manipulator', with the following equation for dynamics:\n\n$$ ml^2 \\ddot{q} = -mgl\\sin(q) + \\tau$$\n\nLet's first write down the dynamics of a pendulum in a first-order form,\n$$\\dot{x}=f(x,u)$$\n\nwhere $x=[q,\\dot{q}]^T$ is now our state vector, and our input $u=\\tau$.\n\n$$\\frac{d}{dt}\\begin{bmatrix} q \\\\ \\dot{q} \\end{bmatrix}=\\begin{bmatrix} \\dot{q} \\\\ (-mgl\\sin(q) + \\tau) / ml^2 \\end{bmatrix}$$\n\nThe following function returns $\\dot{x}$ given $x,u$, and the parameters.\n\nNOTE: For a sine implementation, we will be using `pydrake`'s `sin` for this problem set instead of the numpy implementation. We've already imported it above, so it is available by simply calling `sin()`. This version will not only support numeric, but also symbolic computation.",
      "metadata": {
        "id": "zGGyX76oBXGN",
        "colab_type": "text",
        "cell_id": "b6a60f69eab74928b914bbc41e8fb48e",
        "deepnote_cell_type": "markdown"
      },
      "block_group": "28998e2df90448ac855e06758cfe319a"
    },
    {
      "cell_type": "code",
      "source": "def pendulum_dynamics(x, u, p):\n    q = x[0]\n    qdot = x[1]\n    tau = u[0]\n    return [\n        qdot,\n        ((-p[\"m\"] * p[\"g\"] * p[\"l\"] * sin(q) + tau) / (p[\"m\"] * p[\"l\"] ** 2)),\n    ]",
      "metadata": {
        "id": "6IRgS5ftCc71",
        "colab": {},
        "colab_type": "code",
        "source_hash": null,
        "execution_start": 1725822882360,
        "execution_millis": 104,
        "deepnote_to_be_reexecuted": false,
        "cell_id": "a59c54c41d814c62b3948bb0f0ca53f1",
        "deepnote_cell_type": "code"
      },
      "outputs": [],
      "outputs_reference": null,
      "execution_count": null,
      "block_group": "a1c8049d15c14f45b718629ce6175f9f",
      "content_dependencies": null
    },
    {
      "cell_type": "markdown",
      "source": "## System Dynamics\n\nFrom a systems viewpoint, how should this dynamics be abstracted into a system that we can define inputs and outputs on?\n\nAs explained in the lecture notes, we can abstract the dynamics as a \"plant\" that will tell us what the current state $x$ is, given the torque  $\\tau$ into the system. If we were to draw a system diagram of this plant, it would look like:\n\n<img src=\"https://raw.githubusercontent.com/RussTedrake/manipulation/master/book/figures/exercises/simple_pendulum_diagram.png\" width=\"500\">\n\n\nTo implement this system in [drake](https://drake.mit.edu), we will be using a [`SymbolicVectorSystem`](https://drake.mit.edu/pydrake/pydrake.systems.primitives.html#pydrake.systems.primitives.SymbolicVectorSystem). This is one of the convenient ways to define a system if you have access to a relatively simple, symbolic form of your dynamics. But these equations will get complicated as we move to the multi-link case!\n\nNote that the output of the system doesn't have to be the state $x$ - it can be a subset of the state, or simply some sensor attached to the pendulum! In this case we will assume full access to the state for feedback (i.e. doing full-state feedback), so we simply set `output=x` as well.",
      "metadata": {
        "id": "uOFeXrnUwtXA",
        "colab_type": "text",
        "cell_id": "f83ec88011ef412b869ef0744f130630",
        "deepnote_cell_type": "markdown"
      },
      "block_group": "6caf3c26b5a646de8584e220dc7926ad"
    },
    {
      "cell_type": "code",
      "source": "# Symbolic Variables from pydrake.symbolic\nx = [Variable(\"theta\"), Variable(\"thetadot\")]\nu = [Variable(\"tau\")]\n\n# Example parameters of pendulum dynamics\np = {\"m\": 1.0, \"g\": 9.81, \"l\": 0.5}  # kg  # m / s^2  # m\n\n# Declaration of a symbolic vector system\nsystem = SymbolicVectorSystem(\n    state=x, output=x, input=u, dynamics=pendulum_dynamics(x, u, p)\n)",
      "metadata": {
        "id": "fo_dj5WgxPQH",
        "colab": {},
        "colab_type": "code",
        "source_hash": null,
        "execution_start": 1725822886786,
        "execution_millis": 117,
        "deepnote_to_be_reexecuted": false,
        "cell_id": "e26c781d154e463ab24d880eddc85e6e",
        "deepnote_cell_type": "code"
      },
      "outputs": [],
      "outputs_reference": null,
      "execution_count": null,
      "block_group": "5e381283f3724b35997f7335e07ab1f8",
      "content_dependencies": null
    },
    {
      "cell_type": "markdown",
      "source": "Note that since this system is deterministic, we can completely predict the future value of the system given the current time, state, and input of the system. Sometimes if our system did something unexpected, we may want to know what those states were so that we can replay the simulation and fix our systems.\n\nTo make the simulation completely repeatable, Drake stores all the relevant states and parameters in the [context](https://drake.mit.edu/doxygen_cxx/classdrake_1_1systems_1_1_context.html), which can act like a systematic log.",
      "metadata": {
        "id": "epwXiNR43OHt",
        "colab_type": "text",
        "cell_id": "ff25eb70f9d34ad9b20907d6329c564d",
        "deepnote_cell_type": "markdown"
      },
      "block_group": "b4aa756ee7394fd4ab5f7af06c24fbea"
    },
    {
      "cell_type": "code",
      "source": "context = system.CreateDefaultContext()\nprint(context)",
      "metadata": {
        "id": "-ryw0KL_3Yzl",
        "colab": {},
        "colab_type": "code",
        "source_hash": null,
        "execution_start": 1725822890969,
        "execution_millis": 104,
        "deepnote_to_be_reexecuted": false,
        "cell_id": "0513f2189f5c4cb493f16be07df012a6",
        "deepnote_cell_type": "code"
      },
      "outputs": [],
      "outputs_reference": null,
      "execution_count": null,
      "block_group": "638e359f46ad4ebc9ffcb81e53bb627b",
      "content_dependencies": null
    },
    {
      "cell_type": "markdown",
      "source": "## The Simple Pendulum with Motor and Gearbox\n\nIn class, we saw that the presence of a physical motor and a gearbox can affect the dynamics significantly.\n\n**Now it's your turn to code!**\n\nBelow, you will implement a similar dynamics function for a simple pendulum, which now has a physical motor and a gearbox attached to it.\n\n<img src=\"https://raw.githubusercontent.com/RussTedrake/manipulation/master/book/figures/exercises/pendulum_with_motor.png\" width=\"700\">\n\nIn addition to the given parameters of mass (`p[\"m\"]`), gravity (`p[\"g\"]`), and length (`p[\"l\"]`), you will need rotor inertia of the motor $I_m$, as well as the gear ratio, $N$. You can assume these can be accessed by `p[\"I_m\"]` and `p[\"N\"]`.\n\nNOTE: For this model, we want the state, $x = [q, \\dot{q}],$ to be the joint angles (not $q_{motor}$), but we want the input, $u = \\tau_{motor},$ to be the _motor_ torque.\n\nNOTE: Again, do not use `np.sin`!\n\nHINT: Are the dynamics what you expect when `N=1` (i.e. direct-drive)?",
      "metadata": {
        "id": "qO8u0nZ3DSu9",
        "colab_type": "text",
        "cell_id": "6a75cfb87c8748d0923f4f25db76078f",
        "deepnote_cell_type": "markdown"
      },
      "block_group": "43df406d4bcf4df49d0e1cacf82813de"
    },
    {
      "cell_type": "code",
      "source": "# Modify this function. you may not change the function name, inputs, or size of the output.\n\n\ndef pendulum_with_motor_dynamics(x, u, p):\n    x[0]\n    x[1]\n    u[0] = \n    return [0.0, 0.0]  # modify here  # modify here",
      "metadata": {
        "id": "CLd4u2ebE3bx",
        "colab": {},
        "colab_type": "code",
        "source_hash": null,
        "execution_start": 1725822921207,
        "execution_millis": 206,
        "deepnote_to_be_reexecuted": false,
        "cell_id": "a2e3a20b9899431d880e31ab19bb1a3a",
        "deepnote_cell_type": "code"
      },
      "outputs": [],
      "outputs_reference": null,
      "execution_count": null,
      "block_group": "74fed72d986346fab02e1a270330df53",
      "content_dependencies": null
    },
    {
      "cell_type": "markdown",
      "source": "You can check if you got the dynamics correct by running the below autograder.",
      "metadata": {
        "id": "V_lotS75Xb8C",
        "colab_type": "text",
        "cell_id": "87d1c6af2d754127a047ff6d1d147497",
        "deepnote_cell_type": "markdown"
      },
      "block_group": "544ebe258fc34988b26e190364b1abc4"
    },
    {
      "cell_type": "code",
      "source": "Grader.grade_output([TestSimplePendulumWithGearbox], [locals()], \"results.json\")\nGrader.print_test_results(\"results.json\")",
      "metadata": {
        "id": "-mHMxD1oYBuj",
        "colab": {},
        "colab_type": "code",
        "source_hash": null,
        "execution_start": 1725822923392,
        "execution_millis": 622,
        "deepnote_to_be_reexecuted": false,
        "cell_id": "46b649bf4bd14b6986e5163dd4098ace",
        "deepnote_cell_type": "code"
      },
      "outputs": [],
      "outputs_reference": null,
      "execution_count": null,
      "block_group": "9bda21e0121846278ef709bf92646605",
      "content_dependencies": null
    },
    {
      "cell_type": "markdown",
      "source": "## Parameter Setting\n\nNow we have defined the dynamics, we can play around with the parameters. We will try to control a pendulum of endpoint mass `m=1kg`, at length `0.5m`. To make the case more fun, let's base the gear ratio `N` and motor inertia `I_m` from Kuka iiwa [(DLR LWR III)](https://www.dlr.de/rm/en/desktopdefault.aspx/tabid-12464/21732_read-49777 )'s 3rd joint.\n\nThe iiwa uses a [harmonic drive](https://en.wikipedia.org/wiki/Strain_wave_gearing) geared 160:1, directly from the [HD Company](https://www.harmonicdrive.net/) , and high-performance frameless motors [RoboDrive ILM](https://www.tq-group.com/en/products/tq-robodrive/) from TQ (originally developed at DLR). We will make an educated guess for what exact models they are using:\n\n- RoboDrive ILM 85, with `I_m=0.61e-4 kg m^2`\n- HD SHF-32-160-2UH-LW, with `I_m=2.85e-4 kg m^2`\n\nThe \"motor inertia\" in the problem is in fact the armature inertia of the motor, as well as the part of the transmission attached to the motor shaft!",
      "metadata": {
        "id": "-HYq6kSj3U_-",
        "colab_type": "text",
        "cell_id": "5bbbe281cb8f4d8c80dc1b0293ded007",
        "deepnote_cell_type": "markdown"
      },
      "block_group": "25dbd2634d564d6c98b0b1323b690334"
    },
    {
      "cell_type": "code",
      "source": "# Add motor and gearbox parameters\n\np = {\n    \"N\": 160,\n    \"I_m\": 3.46e-4,\n    \"m\": 1.0,  # kg\n    \"g\": 9.81,  # m / s^2\n    \"l\": 0.5,  # m\n}",
      "metadata": {
        "id": "HmrSNzG6p8eb",
        "colab": {},
        "colab_type": "code",
        "cell_id": "95544ece27c54a538c46a38e12e3ba3e",
        "deepnote_cell_type": "code"
      },
      "outputs": [],
      "outputs_reference": null,
      "execution_count": null,
      "block_group": "a09ac69f3d2f4b38b7418291be433c70",
      "content_dependencies": null
    },
    {
      "cell_type": "markdown",
      "source": "## Building a PID Controlled System\n\nNow we have to do some plumbing to simulate the system in [Drake](https://drake.mit.edu). We've defined the plant for our dynamics before, but we need to hook it up to a PID controller to do position control, so we will need another system to act as a controller.\n\nDrake offers a built-in [PID Controller](https://drake.mit.edu/pydrake/pydrake.systems.controllers.html#pydrake.systems.controllers.PidController). The role of the controller is to compute the error based on the current and desired states, and command the input, so it could be abstracted by a system with\n- Input ports: x_now ($x$), x_desired ($x_d$)\n- Output ports: torque command ($\\tau_{cmd}$)\n\nAre there any other systems that we need to consider? Let's think about the requirements of what we need to implement. Since we need to command $x_d$, we might want a `Slider` or a `ConstantVectorSource` to do so. Also, we would like to plot the trajectory of the system, so we might need a `Logger` to do this for us.\n\nBefore we code and hook everything up, it pays to think about what our diagram will actually look like:\n\n<img src=\"https://raw.githubusercontent.com/RussTedrake/manipulation/master/book/figures/exercises/system_diagram.png\" width=\"1000\">\n\n\n\nDid we get all the systems that we want? Are all the IO ports hooked up to the right places? Seems like we are ready to code!",
      "metadata": {
        "id": "0iKx8BDL_sj4",
        "colab_type": "text",
        "cell_id": "b3aac0496ca946c390d8f54fd8d4d2fa",
        "deepnote_cell_type": "markdown"
      },
      "block_group": "bf5667107cf74ed986ebb4e6348f4f78"
    },
    {
      "cell_type": "code",
      "source": "def BuildAndSimulate(q_d, pendulum_params, gains, visualize=False):\n    # This defines the plant using the pendulum with motor dynamics.\n    system = SymbolicVectorSystem(\n        state=x,\n        output=x,\n        input=u,\n        dynamics=pendulum_with_motor_dynamics(x, u, pendulum_params),\n    )\n\n    kp, ki, kd = gains\n\n    builder = DiagramBuilder()\n\n    # Add all the systems into the diagram\n    builder.AddSystem(system)\n    logger = builder.AddSystem(VectorLogSink(2))\n    pid_controller = builder.AddSystem(PidController([kp], [ki], [kd]))\n    desired_state = builder.AddSystem(ConstantVectorSource([q_d, 0.0]))\n\n    # Connect the IO ports of the systems.\n    builder.Connect(pid_controller.get_output_port(0), system.get_input_port(0))\n    builder.Connect(system.get_output_port(0), logger.get_input_port(0))\n    builder.Connect(system.get_output_port(0), pid_controller.get_input_port(0))\n    builder.Connect(desired_state.get_output_port(0), pid_controller.get_input_port(1))\n\n    diagram = builder.Build()\n    diagram.set_name(\"diagram\")\n\n    # Plot the diagram if visualize is true.\n    if visualize and running_as_notebook:\n        RenderDiagram(diagram, max_depth=1)\n\n    simulator = Simulator(diagram)\n    context = simulator.get_mutable_context()\n\n    # The simulator has three states since the plant has 2, and the PID controller\n    # keeps an additional state for the integral term. We set all of them to zero\n    # initialization.\n    context.SetContinuousState([0.0, 0.0, 0.0])\n\n    return simulator, logger.FindLog(context)",
      "metadata": {
        "id": "JjBkuba9qR13",
        "colab": {},
        "colab_type": "code",
        "cell_id": "d7af78c621aa4a4ebe73b23045bda11f",
        "deepnote_cell_type": "code"
      },
      "outputs": [],
      "outputs_reference": null,
      "execution_count": null,
      "block_group": "f3542ed67bae4014938970a567e8f8d3",
      "content_dependencies": null
    },
    {
      "cell_type": "markdown",
      "source": "Now let's visualize the diagram and see if everything is properly connected for simulation. Does this topologically resemble our diagram above?",
      "metadata": {
        "id": "2orRbwNpMVZv",
        "colab_type": "text",
        "cell_id": "db48f7253cf24e99a9c4d65746d8036b",
        "deepnote_cell_type": "markdown"
      },
      "block_group": "1ab755b4a8ea413795d75a9be2d3ab50"
    },
    {
      "cell_type": "code",
      "source": "gains = [5, 2, 1]\nsimulator, logger = BuildAndSimulate(0.0, p, gains, visualize=True)",
      "metadata": {
        "id": "biHnaJtcHNMg",
        "colab": {},
        "colab_type": "code",
        "cell_id": "546372e46d734edbaa62a8ff3731b33d",
        "deepnote_cell_type": "code"
      },
      "outputs": [],
      "outputs_reference": null,
      "execution_count": null,
      "block_group": "a953c043a098471da774c6e2685374c1",
      "content_dependencies": null
    },
    {
      "cell_type": "markdown",
      "source": "## Simulating the Closed-Loop System\n\nWe are now ready to simulate our system with motor dynamics! Let's start off with the direct-drive case (i.e. `N=1`).",
      "metadata": {
        "id": "kiR00H1zXeqp",
        "colab_type": "text",
        "cell_id": "77bae93a28da4e31ae66b914a8c2d2ea",
        "deepnote_cell_type": "markdown"
      },
      "block_group": "2077295e7ab543389440b9e2eb3afd21"
    },
    {
      "cell_type": "code",
      "source": "q_d = (5.0 / 8.0) * np.pi  # Feel free to play around with different final positions.\ngains = [5, 2, 1]  # [P, I, D] gains.\np[\"N\"] = 1\nsimulator, logger = BuildAndSimulate(q_d, p, gains)\n\nsimulator.Initialize()\nsimulator.AdvanceTo(20.0 if running_as_notebook else 0.1)\n\ntime = logger.sample_times()\ntraj = logger.data()\n\nplt.figure()\nplt.plot(time, traj[0, :], \"b-\")\nplt.plot(time, q_d * np.ones(traj.shape[1]), \"r--\")\nplt.xlabel(\"time (s)\")\nplt.ylabel(\"q (rads)\")\nmpld3.display()",
      "metadata": {
        "id": "t_dXpC95OrwZ",
        "colab": {},
        "colab_type": "code",
        "cell_id": "47a818c3bdb847a69ebb18c137b947e6",
        "deepnote_cell_type": "code"
      },
      "outputs": [],
      "outputs_reference": null,
      "execution_count": null,
      "block_group": "b0162a1184ea49749845cbe67e1dbcad",
      "content_dependencies": null
    },
    {
      "cell_type": "markdown",
      "source": "You might have noticed that the closed-loop system is unstable for some desired joint configurations. For the gains above, if we ask the controller to stabilize to an upright position (do a swing-up), then the controller seems to be having trouble stabilizing.\n\nLet's try to analyze this effect a bit more systematically by plotting how the state behaves depending on how we set the desired position.\n\n",
      "metadata": {
        "id": "rbe_hU7wfnWg",
        "colab_type": "text",
        "cell_id": "43d0adeb7c5e40b383b0d248a66f268c",
        "deepnote_cell_type": "markdown"
      },
      "block_group": "6976153adf29434dbf1259d9505a1e33"
    },
    {
      "cell_type": "code",
      "source": "plt.figure()\np[\"N\"] = 1\n\nq_d_lst = np.linspace(-np.pi, np.pi, 10)\nfor i in range(len(q_d_lst)):\n    simulator, logger = BuildAndSimulate(q_d_lst[i], p, gains)\n\n    simulator.Initialize()\n    simulator.AdvanceTo(20.0 if running_as_notebook else 0.1)\n\n    time = logger.sample_times()\n    traj = logger.data()\n\n    plt.plot(time, traj[0, :], \"b--\")\n    plt.plot(time, q_d_lst[i] * np.ones(traj.shape[1]), \"r--\")\n\nplt.xlabel(\"time (s)\")\nplt.ylabel(\"q (rads)\")\nmpld3.display()",
      "metadata": {
        "id": "fGP8bnm7h_D7",
        "colab": {},
        "colab_type": "code",
        "cell_id": "cc4ac4d4e40044fdb8fb336c94080dd6",
        "deepnote_cell_type": "code"
      },
      "outputs": [],
      "outputs_reference": null,
      "execution_count": null,
      "block_group": "a35ceb1d1be64baa8e290ddd4605e30b",
      "content_dependencies": null
    },
    {
      "cell_type": "markdown",
      "source": "Note how that the system not only destabilizes for more upright positions, but also shows **different behavior** depending on what angle we ask it to stabilize to. Lower angles don't have overshoots, while higher angles do.\n\nThis speaks to the effect of the nonlinear, state-dependent gravity term\n$-mgl\\sin(q)$.\n",
      "metadata": {
        "id": "sGswFQm2ilQe",
        "colab_type": "text",
        "cell_id": "bf62480e96f14ac78774a2abb2ee0cab",
        "deepnote_cell_type": "markdown"
      },
      "block_group": "adf159cf0aca4ba196fe3a3562ea6a4c"
    },
    {
      "cell_type": "markdown",
      "source": "## Testing out Gearbox Case\n\nNow we will test the same dynamics with a high gear ratio of `N=160`, with the same gains.",
      "metadata": {
        "id": "QumuOJNOgkrh",
        "colab_type": "text",
        "cell_id": "7a1eef97db2c415b98f633ac68e8c911",
        "deepnote_cell_type": "markdown"
      },
      "block_group": "e6373a69b5314d60ad085d7b57617ba7"
    },
    {
      "cell_type": "code",
      "source": "q_d = np.pi / 1  # Feel free to play around with different gains.\ngains = [5, 2, 1]  # [P, I, D] gains\np[\"N\"] = 160\nsimulator, logger = BuildAndSimulate(q_d, p, gains)\n\nsimulator.Initialize()\nsimulator.AdvanceTo(20.0 if running_as_notebook else 0.1)\n\ntime = logger.sample_times()\ntraj = logger.data()\n\nplt.figure()\nplt.plot(time, traj[0, :], \"b-\")\nplt.plot(time, q_d * np.ones(traj.shape[1]), \"r--\")\nplt.xlabel(\"time (s)\")\nplt.ylabel(\"q (rads)\")\nmpld3.display()",
      "metadata": {
        "id": "jxfyWP-ufmji",
        "colab": {},
        "colab_type": "code",
        "cell_id": "a5a77e2905734b06af21c17001d23a21",
        "deepnote_cell_type": "code"
      },
      "outputs": [],
      "outputs_reference": null,
      "execution_count": null,
      "block_group": "48ec0b07a6e846f283fd9027f5db384e",
      "content_dependencies": null
    },
    {
      "cell_type": "markdown",
      "source": "Observe that with the same gains, the controller stabilizes is now able to stabilize to an upright position! Let's plot this over a range of different final joint positions as well.",
      "metadata": {
        "id": "IRKy7cINhWqF",
        "colab_type": "text",
        "cell_id": "f205c24fd2b444da8cc7b679b950d07c",
        "deepnote_cell_type": "markdown"
      },
      "block_group": "024729ce0966456b90a952096f08f9f0"
    },
    {
      "cell_type": "code",
      "source": "plt.figure()\np[\"N\"] = 160\n\nq_d_lst = np.linspace(-np.pi, np.pi, 10)\nfor i in range(len(q_d_lst)):\n    simulator, logger = BuildAndSimulate(q_d_lst[i], p, gains)\n\n    simulator.Initialize()\n    simulator.AdvanceTo(20.0 if running_as_notebook else 0.1)\n\n    time = logger.sample_times()\n    traj = logger.data()\n\n    plt.plot(time, traj[0, :], \"b--\")\n    plt.plot(time, q_d_lst[i] * np.ones(traj.shape[1]), \"r--\")\n\nplt.xlabel(\"time (s)\")\nplt.ylabel(\"q (rads)\")\nmpld3.display()",
      "metadata": {
        "id": "Sq7Ev_lxja-J",
        "colab": {},
        "colab_type": "code",
        "cell_id": "4114eb4f939844b9a9cfcfe0d5a08a67",
        "deepnote_cell_type": "code"
      },
      "outputs": [],
      "outputs_reference": null,
      "execution_count": null,
      "block_group": "159a79be52af4b0f8c26873778f75851",
      "content_dependencies": null
    },
    {
      "cell_type": "markdown",
      "source": "This is looking great! Now we are able to stabilize to most configurations. But not only did we achieve stability, but observe how **consistent** the curves are regardless of what joint configuration we ask it to stabilize to.\n\nYou will notice that with a higher gain, we might be able to achieve stability for the direct-drive case as well since we impose no torque bounds. But you are still likely to see that gravity affects the direct-drive case more than the gearbox case.\n\n\n",
      "metadata": {
        "id": "k0KiqeyCjtCR",
        "colab_type": "text",
        "cell_id": "e1b1421727fb45e99525a0c0c1e139cd",
        "deepnote_cell_type": "markdown"
      },
      "block_group": "ca538976184f47a292b24560618fbc64"
    },
    {
      "cell_type": "markdown",
      "source": "## Qualitative Problem ##\n\nBelow, we have a question for you:\n\n**Why are we seeing such consistent behavior of closed-loop dynamics for the gearbox case, as opposed to the direct-drive case?**\n\nYou can answer in words using 3-5 sentences.",
      "metadata": {
        "id": "vohZdqXrkZJH",
        "colab_type": "text",
        "cell_id": "ef8a46610e4744afa900d4c662759507",
        "deepnote_cell_type": "markdown"
      },
      "block_group": "11fc987d56df4145a55794a7d382a02d"
    },
    {
      "cell_type": "markdown",
      "source": "## Your Answer\n\nSubmit your response to the above question in the Gradescope 'written submission' section!",
      "metadata": {
        "id": "-xr2qacVj2kI",
        "colab_type": "text",
        "cell_id": "ecb10fdfd3f346a7bb144440bff9af0b",
        "deepnote_cell_type": "markdown"
      },
      "block_group": "098e6f64cda8451f8b3829c3a46b5692"
    },
    {
      "cell_type": "markdown",
      "source": "## How will this notebook be Graded?\n\nIf you are enrolled in the class, this notebook will be graded using [Gradescope](www.gradescope.com). You should have gotten the enrollement code on our announcement in Piazza.\n\nFor submission of this assignment, you must do two things.\n- Download and submit the notebook `reflected_inertia.ipynb` to Gradescope's notebook submission section, along with your notebook for the second problem.\n- Copy and Paste your answer to the qualitative problem to Gradescope's written submission section.\n\nWe will evaluate the local functions in the notebook to see if the function behaves as we have expected. For this exercise, the rubric is as follows:\n- [5 pts] `pendulum_with_motor_dynamics` must be implemented correctly\n- [5 pts] You must answer correctly on why the gearbox and direct-drive cases show different qualitative behavior.",
      "metadata": {
        "id": "zPmeRLtJk410",
        "colab_type": "text",
        "cell_id": "d7df78de7f604f6292cb818bbf66750c",
        "deepnote_cell_type": "markdown"
      },
      "block_group": "757c02f4a7474659addd1bdba7f6adf7"
    },
    {
      "cell_type": "markdown",
      "source": "",
      "metadata": {
        "cell_id": "f9e809d92fb34e0d90fe9538ec28bd4c",
        "deepnote_cell_type": "markdown"
      },
      "block_group": "a838f13a744b410eb89ec595900b6e30"
    },
    {
      "cell_type": "markdown",
      "source": "<a style='text-decoration:none;line-height:16px;display:flex;color:#5B5B62;padding:10px;justify-content:end;' href='https://deepnote.com?utm_source=created-in-deepnote-cell&projectId=734a308b-b08c-4099-95e1-334644e7d9c6' target=\"_blank\">\n<img alt='Created in deepnote.com' style='display:inline;max-height:16px;margin:0px;margin-right:7.5px;' src='data:image/svg+xml;base64,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' > </img>\nCreated in <span style='font-weight:600;margin-left:4px;'>Deepnote</span></a>",
      "metadata": {
        "created_in_deepnote_cell": true,
        "deepnote_cell_type": "markdown"
      }
    }
  ],
  "nbformat": 4,
  "nbformat_minor": 0,
  "metadata": {
    "deepnote_notebook_id": "b1b5dcf582d04cd2be51a243415510d3",
    "deepnote_execution_queue": []
  }
}