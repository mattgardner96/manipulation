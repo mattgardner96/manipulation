{
  "cells": [
    {
      "cell_type": "markdown",
      "source": "This notebook provides examples to go along with the [textbook](http://manipulation.csail.mit.edu/robot.html).  I recommend having both windows open, side-by-side!",
      "metadata": {
        "id": "EgiF12Hf1Dhs",
        "colab_type": "text",
        "cell_id": "58dbf967268f4ee8abb7b5756485e587",
        "deepnote_cell_type": "markdown"
      },
      "block_group": "840c30c3580f4d52ba878715f4f018f4"
    },
    {
      "cell_type": "code",
      "source": "from pydrake.all import DiagramBuilder, MeshcatVisualizer, Simulator, StartMeshcat\n\nfrom manipulation.station import LoadScenario, MakeHardwareStation\nfrom manipulation.utils import RenderDiagram",
      "metadata": {
        "id": "eeMrMI0-1Dhu",
        "colab": {},
        "colab_type": "code",
        "source_hash": null,
        "execution_start": 1725814119308,
        "execution_millis": 465,
        "deepnote_to_be_reexecuted": false,
        "cell_id": "d47be2afae1d49649c42f26157b550e6",
        "deepnote_cell_type": "code"
      },
      "outputs": [],
      "outputs_reference": null,
      "execution_count": null,
      "block_group": "5ba4906b44e14f0faa090a89535054ae",
      "content_dependencies": null
    },
    {
      "cell_type": "code",
      "source": "# Start the visualizer.\nmeshcat = StartMeshcat()",
      "metadata": {
        "source_hash": null,
        "execution_start": 1725814120556,
        "execution_millis": 76,
        "deepnote_to_be_reexecuted": false,
        "cell_id": "529246e4df444638a83bfadad35ba950",
        "deepnote_cell_type": "code"
      },
      "outputs": [],
      "outputs_reference": null,
      "execution_count": null,
      "block_group": "972f7f8d311d4871bad4fc6f887bde14",
      "content_dependencies": null
    },
    {
      "cell_type": "markdown",
      "source": "# A simple bimanual manipulation example\n\nThe `MakeHardwareStation` code will add all of the controller code / logic for you, even if you have multiple iiwa/wsg-pairs in the scene.",
      "metadata": {
        "id": "wJWL-ldv5REK",
        "colab_type": "text",
        "cell_id": "426da3a1ff3c4ff796762aff015c5f68",
        "deepnote_cell_type": "markdown"
      },
      "block_group": "c40fbc18b3ca456b9a39a6c7dca09abb"
    },
    {
      "cell_type": "code",
      "source": "scenario_data = \"\"\"\ndirectives:\n- add_model:\n    name: iiwa_left\n    file: package://drake_models/iiwa_description/sdf/iiwa7_no_collision.sdf\n    default_joint_positions:\n        iiwa_joint_1: [-1.57]\n        iiwa_joint_2: [0.1]\n        iiwa_joint_3: [0]\n        iiwa_joint_4: [-1.2]\n        iiwa_joint_5: [0]\n        iiwa_joint_6: [ 1.6]\n        iiwa_joint_7: [0]\n- add_weld:\n    parent: world\n    child: iiwa_left::iiwa_link_0\n- add_model:\n    name: wsg_left\n    file: package://drake_models/wsg_50_description/sdf/schunk_wsg_50_with_tip.sdf\n- add_weld:\n    parent: iiwa_left::iiwa_link_7\n    child: wsg_left::body\n    X_PC:\n        translation: [0, 0, 0.09]\n        rotation: !Rpy { deg: [90, 0, 90]}\n- add_model:\n    name: iiwa_right\n    file: package://drake_models/iiwa_description/sdf/iiwa7_no_collision.sdf\n    default_joint_positions:\n        iiwa_joint_1: [-1.57]\n        iiwa_joint_2: [0.1]\n        iiwa_joint_3: [0]\n        iiwa_joint_4: [-1.2]\n        iiwa_joint_5: [0]\n        iiwa_joint_6: [ 1.6]\n        iiwa_joint_7: [0]\n- add_weld:\n    parent: world\n    child: iiwa_right::iiwa_link_0\n    X_PC:\n        translation: [.6, 0, 0]\n        rotation: !Rpy { deg: [0, 0, 0]}\n- add_model:\n    name: wsg_right\n    file: package://drake_models/wsg_50_description/sdf/schunk_wsg_50_with_tip.sdf\n- add_weld:\n    parent: iiwa_right::iiwa_link_7\n    child: wsg_right::body\n    X_PC:\n        translation: [0, 0, 0.09]\n        rotation: !Rpy { deg: [90, 0, 90]}\nmodel_drivers:\n    iiwa_left: !IiwaDriver\n      control_mode: position_only\n      hand_model_name: wsg_left\n    wsg_left: !SchunkWsgDriver {}\n    iiwa_right: !IiwaDriver\n      control_mode: position_only\n      hand_model_name: wsg_right\n    wsg_right: !SchunkWsgDriver {}\n\"\"\"\n\nscenario = LoadScenario(data=scenario_data)\nbuilder = DiagramBuilder()\n\nstation = builder.AddSystem(MakeHardwareStation(scenario))\nplant = station.GetSubsystemByName(\"plant\")\n\nvisualizer = MeshcatVisualizer.AddToBuilder(\n    builder, station.GetOutputPort(\"query_object\"), meshcat\n)\n\ndiagram = builder.Build()\n\nRenderDiagram(diagram, max_depth=1)\n\nsimulator = Simulator(diagram)\ncontext = simulator.get_mutable_context()\nstation_context = station.GetMyMutableContextFromRoot(context)\nplant_context = plant.GetMyMutableContextFromRoot(context)\n\nq0 = plant.GetPositions(plant_context, plant.GetModelInstanceByName(\"iiwa_left\"))\nstation.GetInputPort(\"iiwa_left.position\").FixValue(station_context, q0)\nstation.GetInputPort(\"iiwa_right.position\").FixValue(station_context, q0)\n\nstation.GetInputPort(\"wsg_left.position\").FixValue(station_context, [0])\nstation.GetInputPort(\"wsg_right.position\").FixValue(station_context, [0])\n\n# Confirm that simulation works:\nsimulator.AdvanceTo(0.1)",
      "metadata": {
        "id": "9GSF52A8ExQa",
        "colab": {},
        "colab_type": "code",
        "source_hash": null,
        "execution_start": 1725814135586,
        "execution_millis": 1178,
        "deepnote_to_be_reexecuted": false,
        "cell_id": "7248238ea279404ba6e83cb037d4e682",
        "deepnote_cell_type": "code"
      },
      "outputs": [],
      "outputs_reference": null,
      "execution_count": null,
      "block_group": "0d6ce970586946f995dd4ecddca91efb",
      "content_dependencies": null
    },
    {
      "cell_type": "code",
      "source": "",
      "metadata": {
        "id": "5SjOClhTltPk",
        "colab": {},
        "colab_type": "code",
        "cell_id": "e09d1329ce494530943b336d3728b76e",
        "deepnote_cell_type": "code"
      },
      "outputs": [],
      "outputs_reference": null,
      "execution_count": null,
      "block_group": "cca96ad2ef284c90918fc257563737fa",
      "content_dependencies": null
    },
    {
      "cell_type": "markdown",
      "source": "<a style='text-decoration:none;line-height:16px;display:flex;color:#5B5B62;padding:10px;justify-content:end;' href='https://deepnote.com?utm_source=created-in-deepnote-cell&projectId=734a308b-b08c-4099-95e1-334644e7d9c6' target=\"_blank\">\n<img alt='Created in deepnote.com' style='display:inline;max-height:16px;margin:0px;margin-right:7.5px;' src='data:image/svg+xml;base64,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' > </img>\nCreated in <span style='font-weight:600;margin-left:4px;'>Deepnote</span></a>",
      "metadata": {
        "created_in_deepnote_cell": true,
        "deepnote_cell_type": "markdown"
      }
    }
  ],
  "nbformat": 4,
  "nbformat_minor": 0,
  "metadata": {
    "deepnote_notebook_id": "cd5dcb2221004d7da8753abf5723c291",
    "deepnote_execution_queue": []
  }
}