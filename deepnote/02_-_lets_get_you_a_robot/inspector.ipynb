{
  "cells": [
    {
      "cell_type": "markdown",
      "source": "This notebook provides examples to go along with the [textbook](http://manipulation.csail.mit.edu/robot.html).  I recommend having both windows open, side-by-side!",
      "metadata": {
        "id": "EgiF12Hf1Dhs",
        "colab_type": "text",
        "cell_id": "594ece0859ca4e80a504d5e21459b6de",
        "deepnote_cell_type": "markdown"
      },
      "block_group": "68eb2a6f849e4833ba5b190fd5ad6a42"
    },
    {
      "cell_type": "code",
      "source": "from pydrake.all import ModelVisualizer, PackageMap, StartMeshcat\n\nfrom manipulation import running_as_notebook",
      "metadata": {
        "id": "eeMrMI0-1Dhu",
        "colab": {},
        "colab_type": "code",
        "source_hash": "2f30b7f9",
        "execution_start": 1725810063215,
        "execution_millis": 654,
        "deepnote_to_be_reexecuted": false,
        "lines_to_end_of_cell_marker": 2,
        "cell_id": "1bedf1e254c6436b84ae0dd19d91d954",
        "deepnote_cell_type": "code"
      },
      "outputs": [],
      "outputs_reference": null,
      "execution_count": 2,
      "block_group": "a126b6a7ed954dcfa1e6fef7d2866d12",
      "content_dependencies": null
    },
    {
      "cell_type": "code",
      "source": "# Start the visualizer.\nmeshcat = StartMeshcat()",
      "metadata": {
        "source_hash": "6d42057f",
        "execution_start": 1725810064738,
        "execution_millis": 96,
        "deepnote_to_be_reexecuted": false,
        "cell_id": "4440719b2fbf428ba6682fcfa1cb548b",
        "deepnote_cell_type": "code"
      },
      "outputs": [],
      "outputs_reference": null,
      "execution_count": 3,
      "block_group": "8e708eba118541a7a1b5e16e802e3db6",
      "content_dependencies": null
    },
    {
      "cell_type": "markdown",
      "source": "# Robot arms\n\nThe next two cells will give you a simple interface to move the joints around on a variety of robot arm models.  I highly recommend opening the \"controls\" menu in the meshcat visualizer. You can expand the tree under \"drake\", then check and uncheck the different properties (illustration / inertia / proximity) to explore the model (and the visualization tool).\n\nHave a favorite robot that I haven't included here?  If you send me a link to a properly licensed URDF or SDF description of the robot and it's mesh files, I'm happy to add it!  It's worth taking a look at the files quickly, to get a sense for how they work: [SDF](https://github.com/RobotLocomotion/models/blob/master/iiwa_description/sdf/iiwa14_no_collision.sdf), [URDF](https://github.com/RobotLocomotion/models/blob/master/iiwa_description/urdf/iiwa14_no_collision.urdf).",
      "metadata": {
        "id": "wJWL-ldv5REK",
        "colab_type": "text",
        "cell_id": "c03e983164d746a58c7cb5cd951e5c72",
        "deepnote_cell_type": "markdown"
      },
      "block_group": "ceb2e6bd42f24f078027d666ff531949"
    },
    {
      "cell_type": "code",
      "source": "# First pick your robot by un-commenting one of these:\n# robot = \"Kuka LBR iiwa 7\"\n# robot = \"Kuka LBR iiwa 14\"\n# robot = \"Kinova Jaco Gen2 (7 DoF)\"\nrobot = \"Franka Emika Panda\"\n# robot = \"UR3e\"\n\n\ndef get_model_url(description):\n    # Note: I could download remote model resources here if necessary.\n    if description == \"Kuka LBR iiwa 7\":\n        return (\n            \"package://drake_models/iiwa_description/sdf/iiwa7_with_box_collision.sdf\"\n        )\n    elif description == \"Kuka LBR iiwa 14\":\n        return \"package://drake_models/iiwa_description/urdf/iiwa14_primitive_collision.urdf\"\n    elif description == \"Kinova Jaco Gen2 (7 DoF)\":\n        return \"package://drake_models/jaco_description/urdf/j2s7s300.urdf\"\n    elif description == \"Franka Emika Panda\":\n        return \"package://drake_models/franka_description/urdf/panda_arm_hand.urdf\"\n    elif description == \"UR3e\":\n        return \"package://drake_models/ur_description/ur3e_cylinders_collision.urdf\"\n    raise Exception(\"Unknown model\")\n\n\nvisualizer = ModelVisualizer(meshcat=meshcat)\nvisualizer.AddModels(url=get_model_url(robot))\n\nvisualizer.Run(loop_once=not running_as_notebook)\nmeshcat.DeleteAddedControls()",
      "metadata": {
        "id": "9GSF52A8ExQa",
        "colab": {},
        "colab_type": "code",
        "source_hash": null,
        "execution_start": 1725810011772,
        "execution_millis": 12363,
        "deepnote_to_be_reexecuted": false,
        "cell_id": "ddf3d0f46e35451f9b22d6165bd9ce25",
        "deepnote_cell_type": "code"
      },
      "outputs": [],
      "outputs_reference": null,
      "execution_count": null,
      "block_group": "0731dbc28ff14e37b2d68848250dab74",
      "content_dependencies": null
    },
    {
      "cell_type": "markdown",
      "source": "# Robot hands\n\nI don't have the same smörgåsbord of robot models to offer for robot hands (yet).  We do have the allegro hand model available, and I'm happy to add more here (though many will require some care to handle their kinematic constraints).  For now, you can at least try out the [Allegro Hand](http://www.wonikrobotics.com/Allegro-Hand.htm).\n\nTODO(russt): Consider porting Robotiq, Sandia, or IHY-hand from our [openhumanoids](https://github.com/openhumanoids/oh-distro/tree/master/software/models/common_components) project.",
      "metadata": {
        "id": "7q0A14bAilIX",
        "colab_type": "text",
        "cell_id": "7961a70ef53f41ca82ca6dadd26287b9",
        "deepnote_cell_type": "markdown"
      },
      "block_group": "5ff1bbaad99a460f8dbfb68dd6dcd5d0"
    },
    {
      "cell_type": "code",
      "source": "meshcat.Delete()\n\nvisualizer = ModelVisualizer(meshcat=meshcat)\nvisualizer.AddModels(\n    url=\"package://drake_models/allegro_hand_description/sdf/allegro_hand_description_right.sdf\"\n)\n\nvisualizer.Run(loop_once=not running_as_notebook)\n\nmeshcat.DeleteAddedControls()",
      "metadata": {
        "id": "ILYLouFTjv6e",
        "colab": {},
        "colab_type": "code",
        "source_hash": "41c7c2e6",
        "execution_start": 1725810084532,
        "execution_millis": 27714,
        "deepnote_to_be_reexecuted": false,
        "cell_id": "f864afe5b24e43fe9802d2cb56b1a991",
        "deepnote_cell_type": "code"
      },
      "outputs": [],
      "outputs_reference": null,
      "execution_count": 4,
      "block_group": "24b098f0cdaf4dacbb8a51bcb583e64a",
      "content_dependencies": null
    },
    {
      "cell_type": "markdown",
      "source": "# Robots description files from other repositories\n\nWe've tried to make it very easy to pull in resources from other repositories.  Here's an example of pulling in files directly from github. Drake's MuJoCo parser is the least used/complete of our parsers (I only added a minimal version of it quite recently), so many of these don't parse beautifully yet -- I'm working on it! But it's a good example of how to pull in resources from other repositories, and if there is a particular model you need that doesn't parse well for you, you can let me know.",
      "metadata": {
        "cell_id": "33042cf302a54b21b8abe95336b48948",
        "deepnote_cell_type": "markdown"
      },
      "block_group": "333edde7599f44d696d3179ed3b08b21"
    },
    {
      "cell_type": "markdown",
      "source": "## MuJoCo Menagerie\n\nNote that I'm tracking the remaining issues for parsing models from this repo [Drake issue #20444](https://github.com/RobotLocomotion/drake/issues/20444).",
      "metadata": {
        "cell_id": "295d93d96cf24e419b34ee77f8e85f4c",
        "deepnote_cell_type": "markdown"
      },
      "block_group": "6c75f73ff8204f5498d1c3d26af6c035"
    },
    {
      "cell_type": "code",
      "source": "if running_as_notebook:  # I don't want to download the menagerie in CI.\n    meshcat.Delete()\n    visualizer = ModelVisualizer(meshcat=meshcat)\n    package_map = visualizer.parser().package_map()\n    package_map.AddRemote(\n        package_name=\"mujoco_menagerie\",\n        params=PackageMap.RemoteParams(\n            # This repository doesn't have up-to-date tags/releases; the scary\n            # hash in the url is the most recent commit sha at the time of my\n            # writing.\n            urls=[\n                f\"https://github.com/google-deepmind/mujoco_menagerie/archive/bf110a75a56e5bd146c7ed76965737c71d48425d.tar.gz\"\n            ],\n            sha256=(\"2562301c38ac82b593b31e523004b94c263b20952f99d2bcbb9939fa5c6bebd2\"),\n            strip_prefix=\"mujoco_menagerie-bf110a75a56e5bd146c7ed76965737c71d48425d/\",\n        ),\n    )\n    visualizer.AddModels(url=\"package://mujoco_menagerie/kuka_iiwa_14/iiwa14.xml\")\n    visualizer.Run(loop_once=not running_as_notebook)\n    meshcat.DeleteAddedControls()",
      "metadata": {
        "id": "5SjOClhTltPk",
        "colab": {},
        "colab_type": "code",
        "cell_id": "ad9833cb56d641a19afb0fb56b5bf1d5",
        "deepnote_cell_type": "code"
      },
      "outputs": [],
      "outputs_reference": null,
      "execution_count": null,
      "block_group": "1e0e3929988741d994a0b98d9373fb67",
      "content_dependencies": null
    },
    {
      "cell_type": "markdown",
      "source": "## DeepMind Control Suite",
      "metadata": {
        "cell_id": "8066cc35bb9a423f9a945e925e1eadd2",
        "deepnote_cell_type": "markdown"
      },
      "block_group": "56039b8b66af4625b7912349d9e1c78e"
    },
    {
      "cell_type": "code",
      "source": "if running_as_notebook:  # I don't want to download the dm_control suite in CI.\n    meshcat.Delete()\n    visualizer = ModelVisualizer(meshcat=meshcat)\n    visualizer.parser().package_map().AddRemote(\n        package_name=\"dm_control\",\n        params=PackageMap.RemoteParams(\n            urls=[\n                f\"https://github.com/google-deepmind/dm_control/archive/refs/tags/1.0.15.tar.gz\"\n            ],\n            sha256=(\"bac091b18689330a99b7c18ddf86baa916527f5e4ab8e3ded0c8caff1dab2048\"),\n            strip_prefix=\"dm_control-1.0.15/\",\n        ),\n    )\n    visualizer.AddModels(url=\"package://dm_control/dm_control/suite/cheetah.xml\")\n    plant = visualizer.parser().plant()\n    visualizer.Run(loop_once=not running_as_notebook)\n    meshcat.DeleteAddedControls()",
      "metadata": {
        "cell_id": "973ed9f230ce4035bd9200112f8445f1",
        "deepnote_cell_type": "code"
      },
      "outputs": [],
      "outputs_reference": null,
      "execution_count": null,
      "block_group": "fae7de37dd8b458189b6019338647574",
      "content_dependencies": null
    },
    {
      "cell_type": "code",
      "source": "",
      "metadata": {
        "cell_id": "4d6ec524694942039bf75b1c3b200ada",
        "deepnote_cell_type": "code"
      },
      "outputs": [],
      "outputs_reference": null,
      "execution_count": null,
      "block_group": "1269919f90f942d1818232899488c558",
      "content_dependencies": null
    },
    {
      "cell_type": "markdown",
      "source": "<a style='text-decoration:none;line-height:16px;display:flex;color:#5B5B62;padding:10px;justify-content:end;' href='https://deepnote.com?utm_source=created-in-deepnote-cell&projectId=734a308b-b08c-4099-95e1-334644e7d9c6' target=\"_blank\">\n<img alt='Created in deepnote.com' style='display:inline;max-height:16px;margin:0px;margin-right:7.5px;' src='data:image/svg+xml;base64,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' > </img>\nCreated in <span style='font-weight:600;margin-left:4px;'>Deepnote</span></a>",
      "metadata": {
        "created_in_deepnote_cell": true,
        "deepnote_cell_type": "markdown"
      }
    }
  ],
  "nbformat": 4,
  "nbformat_minor": 0,
  "metadata": {
    "deepnote_notebook_id": "a917cc71c60144cda692276ab26865b4",
    "deepnote_execution_queue": []
  }
}