{
  "cells": [
    {
      "cell_type": "markdown",
      "metadata": {
        "cell_id": "594ece0859ca4e80a504d5e21459b6de",
        "colab_type": "text",
        "deepnote_cell_type": "markdown",
        "id": "EgiF12Hf1Dhs"
      },
      "source": [
        "This notebook provides examples to go along with the [textbook](http://manipulation.csail.mit.edu/robot.html).  I recommend having both windows open, side-by-side!"
      ]
    },
    {
      "cell_type": "code",
      "execution_count": 2,
      "metadata": {
        "cell_id": "1bedf1e254c6436b84ae0dd19d91d954",
        "colab": {},
        "colab_type": "code",
        "deepnote_cell_type": "code",
        "deepnote_to_be_reexecuted": false,
        "execution_millis": 654,
        "execution_start": 1725810063215,
        "id": "eeMrMI0-1Dhu",
        "lines_to_end_of_cell_marker": 2,
        "source_hash": "2f30b7f9"
      },
      "outputs": [],
      "source": [
        "from pydrake.all import ModelVisualizer, PackageMap, StartMeshcat\n",
        "\n",
        "from manipulation import running_as_notebook"
      ]
    },
    {
      "cell_type": "code",
      "execution_count": 3,
      "metadata": {
        "cell_id": "4440719b2fbf428ba6682fcfa1cb548b",
        "deepnote_cell_type": "code",
        "deepnote_to_be_reexecuted": false,
        "execution_millis": 96,
        "execution_start": 1725810064738,
        "source_hash": "6d42057f"
      },
      "outputs": [
        {
          "name": "stderr",
          "output_type": "stream",
          "text": [
            "INFO:drake:Meshcat listening for connections at http://localhost:7001\n"
          ]
        }
      ],
      "source": [
        "# Start the visualizer.\n",
        "meshcat = StartMeshcat()"
      ]
    },
    {
      "cell_type": "markdown",
      "metadata": {
        "cell_id": "c03e983164d746a58c7cb5cd951e5c72",
        "colab_type": "text",
        "deepnote_cell_type": "markdown",
        "id": "wJWL-ldv5REK"
      },
      "source": [
        "# Robot arms\n",
        "\n",
        "The next two cells will give you a simple interface to move the joints around on a variety of robot arm models.  I highly recommend opening the \"controls\" menu in the meshcat visualizer. You can expand the tree under \"drake\", then check and uncheck the different properties (illustration / inertia / proximity) to explore the model (and the visualization tool).\n",
        "\n",
        "Have a favorite robot that I haven't included here?  If you send me a link to a properly licensed URDF or SDF description of the robot and it's mesh files, I'm happy to add it!  It's worth taking a look at the files quickly, to get a sense for how they work: [SDF](https://github.com/RobotLocomotion/models/blob/master/iiwa_description/sdf/iiwa14_no_collision.sdf), [URDF](https://github.com/RobotLocomotion/models/blob/master/iiwa_description/urdf/iiwa14_no_collision.urdf)."
      ]
    },
    {
      "cell_type": "code",
      "execution_count": 5,
      "metadata": {
        "cell_id": "ddf3d0f46e35451f9b22d6165bd9ce25",
        "colab": {},
        "colab_type": "code",
        "deepnote_cell_type": "code",
        "deepnote_to_be_reexecuted": false,
        "execution_millis": 12363,
        "execution_start": 1725810011772,
        "id": "9GSF52A8ExQa",
        "source_hash": null
      },
      "outputs": [
        {
          "ename": "RuntimeError",
          "evalue": "error: URI 'package://drake_models/ur_description/ur3e_cylinders_collision.urdf' resolved to '/private/var/tmp/.cache_mattgardner/drake/package_map/bacc01fba8f324b8dce1d15ae98083fa7e61463d0d278df46f198c2e3ae14abd-d542c1cfb057a27398ab0b818609a2edb14ec9c621b58dc2d78af6daa96f8056/ur_description/ur3e_cylinders_collision.urdf' which does not exist.",
          "output_type": "error",
          "traceback": [
            "\u001b[0;31m---------------------------------------------------------------------------\u001b[0m",
            "\u001b[0;31mRuntimeError\u001b[0m                              Traceback (most recent call last)",
            "Cell \u001b[0;32mIn[5], line 27\u001b[0m\n\u001b[1;32m     23\u001b[0m     \u001b[38;5;28;01mraise\u001b[39;00m \u001b[38;5;167;01mException\u001b[39;00m(\u001b[38;5;124m\"\u001b[39m\u001b[38;5;124mUnknown model\u001b[39m\u001b[38;5;124m\"\u001b[39m)\n\u001b[1;32m     26\u001b[0m visualizer \u001b[38;5;241m=\u001b[39m ModelVisualizer(meshcat\u001b[38;5;241m=\u001b[39mmeshcat)\n\u001b[0;32m---> 27\u001b[0m \u001b[43mvisualizer\u001b[49m\u001b[38;5;241;43m.\u001b[39;49m\u001b[43mAddModels\u001b[49m\u001b[43m(\u001b[49m\u001b[43murl\u001b[49m\u001b[38;5;241;43m=\u001b[39;49m\u001b[43mget_model_url\u001b[49m\u001b[43m(\u001b[49m\u001b[43mrobot\u001b[49m\u001b[43m)\u001b[49m\u001b[43m)\u001b[49m\n\u001b[1;32m     29\u001b[0m visualizer\u001b[38;5;241m.\u001b[39mRun(loop_once\u001b[38;5;241m=\u001b[39m\u001b[38;5;129;01mnot\u001b[39;00m running_as_notebook)\n\u001b[1;32m     30\u001b[0m meshcat\u001b[38;5;241m.\u001b[39mDeleteAddedControls()\n",
            "File \u001b[0;32m~/source/manipulation/.venv/lib/python3.12/site-packages/pydrake/visualization/_model_visualizer.py:267\u001b[0m, in \u001b[0;36mModelVisualizer.AddModels\u001b[0;34m(self, filename, url)\u001b[0m\n\u001b[1;32m    265\u001b[0m     \u001b[38;5;28;01massert\u001b[39;00m url \u001b[38;5;129;01mis\u001b[39;00m \u001b[38;5;129;01mnot\u001b[39;00m \u001b[38;5;28;01mNone\u001b[39;00m\n\u001b[1;32m    266\u001b[0m     kwargs \u001b[38;5;241m=\u001b[39m \u001b[38;5;28mdict\u001b[39m(url\u001b[38;5;241m=\u001b[39murl)\n\u001b[0;32m--> 267\u001b[0m \u001b[38;5;28;43mself\u001b[39;49m\u001b[38;5;241;43m.\u001b[39;49m\u001b[43m_builder\u001b[49m\u001b[38;5;241;43m.\u001b[39;49m\u001b[43mparser\u001b[49m\u001b[43m(\u001b[49m\u001b[43m)\u001b[49m\u001b[38;5;241;43m.\u001b[39;49m\u001b[43mAddModels\u001b[49m\u001b[43m(\u001b[49m\u001b[38;5;241;43m*\u001b[39;49m\u001b[38;5;241;43m*\u001b[39;49m\u001b[43mkwargs\u001b[49m\u001b[43m)\u001b[49m\n\u001b[1;32m    268\u001b[0m \u001b[38;5;28;01mif\u001b[39;00m \u001b[38;5;28mself\u001b[39m\u001b[38;5;241m.\u001b[39m_added_models \u001b[38;5;129;01mis\u001b[39;00m \u001b[38;5;129;01mnot\u001b[39;00m \u001b[38;5;28;01mNone\u001b[39;00m:\n\u001b[1;32m    269\u001b[0m     \u001b[38;5;28mself\u001b[39m\u001b[38;5;241m.\u001b[39m_added_models\u001b[38;5;241m.\u001b[39mappend(kwargs)\n",
            "\u001b[0;31mRuntimeError\u001b[0m: error: URI 'package://drake_models/ur_description/ur3e_cylinders_collision.urdf' resolved to '/private/var/tmp/.cache_mattgardner/drake/package_map/bacc01fba8f324b8dce1d15ae98083fa7e61463d0d278df46f198c2e3ae14abd-d542c1cfb057a27398ab0b818609a2edb14ec9c621b58dc2d78af6daa96f8056/ur_description/ur3e_cylinders_collision.urdf' which does not exist."
          ]
        }
      ],
      "source": [
        "# First pick your robot by un-commenting one of these:\n",
        "# robot = \"Kuka LBR iiwa 7\"\n",
        "# robot = \"Kuka LBR iiwa 14\"\n",
        "robot = \"Kinova Jaco Gen2 (7 DoF)\"\n",
        "# robot = \"Franka Emika Panda\"\n",
        "# robot = \"UR3e\"\n",
        "\n",
        "\n",
        "def get_model_url(description):\n",
        "    # Note: I could download remote model resources here if necessary.\n",
        "    if description == \"Kuka LBR iiwa 7\":\n",
        "        return (\n",
        "            \"package://drake_models/iiwa_description/sdf/iiwa7_with_box_collision.sdf\"\n",
        "        )\n",
        "    elif description == \"Kuka LBR iiwa 14\":\n",
        "        return \"package://drake_models/iiwa_description/urdf/iiwa14_primitive_collision.urdf\"\n",
        "    elif description == \"Kinova Jaco Gen2 (7 DoF)\":\n",
        "        return \"package://drake_models/jaco_description/urdf/j2s7s300.urdf\"\n",
        "    elif description == \"Franka Emika Panda\":\n",
        "        return \"package://drake_models/franka_description/urdf/panda_arm_hand.urdf\"\n",
        "    elif description == \"UR3e\":\n",
        "        return \"package://drake_models/ur_description/ur3e_cylinders_collision.urdf\"\n",
        "    raise Exception(\"Unknown model\")\n",
        "\n",
        "\n",
        "visualizer = ModelVisualizer(meshcat=meshcat)\n",
        "visualizer.AddModels(url=get_model_url(robot))\n",
        "\n",
        "visualizer.Run(loop_once=not running_as_notebook)\n",
        "meshcat.DeleteAddedControls()"
      ]
    },
    {
      "cell_type": "markdown",
      "metadata": {
        "cell_id": "7961a70ef53f41ca82ca6dadd26287b9",
        "colab_type": "text",
        "deepnote_cell_type": "markdown",
        "id": "7q0A14bAilIX"
      },
      "source": [
        "# Robot hands\n",
        "\n",
        "I don't have the same smörgåsbord of robot models to offer for robot hands (yet).  We do have the allegro hand model available, and I'm happy to add more here (though many will require some care to handle their kinematic constraints).  For now, you can at least try out the [Allegro Hand](http://www.wonikrobotics.com/Allegro-Hand.htm).\n",
        "\n",
        "TODO(russt): Consider porting Robotiq, Sandia, or IHY-hand from our [openhumanoids](https://github.com/openhumanoids/oh-distro/tree/master/software/models/common_components) project."
      ]
    },
    {
      "cell_type": "code",
      "execution_count": 4,
      "metadata": {
        "cell_id": "f864afe5b24e43fe9802d2cb56b1a991",
        "colab": {},
        "colab_type": "code",
        "deepnote_cell_type": "code",
        "deepnote_to_be_reexecuted": false,
        "execution_millis": 27714,
        "execution_start": 1725810084532,
        "id": "ILYLouFTjv6e",
        "source_hash": "41c7c2e6"
      },
      "outputs": [],
      "source": [
        "meshcat.Delete()\n",
        "\n",
        "visualizer = ModelVisualizer(meshcat=meshcat)\n",
        "visualizer.AddModels(\n",
        "    url=\"package://drake_models/allegro_hand_description/sdf/allegro_hand_description_right.sdf\"\n",
        ")\n",
        "\n",
        "visualizer.Run(loop_once=not running_as_notebook)\n",
        "\n",
        "meshcat.DeleteAddedControls()"
      ]
    },
    {
      "cell_type": "markdown",
      "metadata": {
        "cell_id": "33042cf302a54b21b8abe95336b48948",
        "deepnote_cell_type": "markdown"
      },
      "source": [
        "# Robots description files from other repositories\n",
        "\n",
        "We've tried to make it very easy to pull in resources from other repositories.  Here's an example of pulling in files directly from github. Drake's MuJoCo parser is the least used/complete of our parsers (I only added a minimal version of it quite recently), so many of these don't parse beautifully yet -- I'm working on it! But it's a good example of how to pull in resources from other repositories, and if there is a particular model you need that doesn't parse well for you, you can let me know."
      ]
    },
    {
      "cell_type": "markdown",
      "metadata": {
        "cell_id": "295d93d96cf24e419b34ee77f8e85f4c",
        "deepnote_cell_type": "markdown"
      },
      "source": [
        "## MuJoCo Menagerie\n",
        "\n",
        "Note that I'm tracking the remaining issues for parsing models from this repo [Drake issue #20444](https://github.com/RobotLocomotion/drake/issues/20444)."
      ]
    },
    {
      "cell_type": "code",
      "execution_count": null,
      "metadata": {
        "cell_id": "ad9833cb56d641a19afb0fb56b5bf1d5",
        "colab": {},
        "colab_type": "code",
        "deepnote_cell_type": "code",
        "id": "5SjOClhTltPk"
      },
      "outputs": [],
      "source": [
        "if running_as_notebook:  # I don't want to download the menagerie in CI.\n",
        "    meshcat.Delete()\n",
        "    visualizer = ModelVisualizer(meshcat=meshcat)\n",
        "    package_map = visualizer.parser().package_map()\n",
        "    package_map.AddRemote(\n",
        "        package_name=\"mujoco_menagerie\",\n",
        "        params=PackageMap.RemoteParams(\n",
        "            # This repository doesn't have up-to-date tags/releases; the scary\n",
        "            # hash in the url is the most recent commit sha at the time of my\n",
        "            # writing.\n",
        "            urls=[\n",
        "                f\"https://github.com/google-deepmind/mujoco_menagerie/archive/bf110a75a56e5bd146c7ed76965737c71d48425d.tar.gz\"\n",
        "            ],\n",
        "            sha256=(\"2562301c38ac82b593b31e523004b94c263b20952f99d2bcbb9939fa5c6bebd2\"),\n",
        "            strip_prefix=\"mujoco_menagerie-bf110a75a56e5bd146c7ed76965737c71d48425d/\",\n",
        "        ),\n",
        "    )\n",
        "    visualizer.AddModels(url=\"package://mujoco_menagerie/kuka_iiwa_14/iiwa14.xml\")\n",
        "    visualizer.Run(loop_once=not running_as_notebook)\n",
        "    meshcat.DeleteAddedControls()"
      ]
    },
    {
      "cell_type": "markdown",
      "metadata": {
        "cell_id": "8066cc35bb9a423f9a945e925e1eadd2",
        "deepnote_cell_type": "markdown"
      },
      "source": [
        "## DeepMind Control Suite"
      ]
    },
    {
      "cell_type": "code",
      "execution_count": null,
      "metadata": {
        "cell_id": "973ed9f230ce4035bd9200112f8445f1",
        "deepnote_cell_type": "code"
      },
      "outputs": [],
      "source": [
        "if running_as_notebook:  # I don't want to download the dm_control suite in CI.\n",
        "    meshcat.Delete()\n",
        "    visualizer = ModelVisualizer(meshcat=meshcat)\n",
        "    visualizer.parser().package_map().AddRemote(\n",
        "        package_name=\"dm_control\",\n",
        "        params=PackageMap.RemoteParams(\n",
        "            urls=[\n",
        "                f\"https://github.com/google-deepmind/dm_control/archive/refs/tags/1.0.15.tar.gz\"\n",
        "            ],\n",
        "            sha256=(\"bac091b18689330a99b7c18ddf86baa916527f5e4ab8e3ded0c8caff1dab2048\"),\n",
        "            strip_prefix=\"dm_control-1.0.15/\",\n",
        "        ),\n",
        "    )\n",
        "    visualizer.AddModels(url=\"package://dm_control/dm_control/suite/cheetah.xml\")\n",
        "    plant = visualizer.parser().plant()\n",
        "    visualizer.Run(loop_once=not running_as_notebook)\n",
        "    meshcat.DeleteAddedControls()"
      ]
    },
    {
      "cell_type": "code",
      "execution_count": null,
      "metadata": {
        "cell_id": "4d6ec524694942039bf75b1c3b200ada",
        "deepnote_cell_type": "code"
      },
      "outputs": [],
      "source": []
    },
    {
      "cell_type": "markdown",
      "metadata": {
        "created_in_deepnote_cell": true,
        "deepnote_cell_type": "markdown"
      },
      "source": [
        "<a style='text-decoration:none;line-height:16px;display:flex;color:#5B5B62;padding:10px;justify-content:end;' href='https://deepnote.com?utm_source=created-in-deepnote-cell&projectId=734a308b-b08c-4099-95e1-334644e7d9c6' target=\"_blank\">\n",
        "<img alt='Created in deepnote.com' style='display:inline;max-height:16px;margin:0px;margin-right:7.5px;' src='data:image/svg+xml;base64,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' > </img>\n",
        "Created in <span style='font-weight:600;margin-left:4px;'>Deepnote</span></a>"
      ]
    }
  ],
  "metadata": {
    "deepnote_execution_queue": [],
    "deepnote_notebook_id": "a917cc71c60144cda692276ab26865b4",
    "kernelspec": {
      "display_name": ".venv",
      "language": "python",
      "name": "python3"
    },
    "language_info": {
      "codemirror_mode": {
        "name": "ipython",
        "version": 3
      },
      "file_extension": ".py",
      "mimetype": "text/x-python",
      "name": "python",
      "nbconvert_exporter": "python",
      "pygments_lexer": "ipython3",
      "version": "3.12.4"
    }
  },
  "nbformat": 4,
  "nbformat_minor": 0
}
