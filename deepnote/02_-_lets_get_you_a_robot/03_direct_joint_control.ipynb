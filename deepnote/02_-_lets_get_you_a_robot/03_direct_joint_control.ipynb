{
  "cells": [
    {
      "cell_type": "markdown",
      "source": "# Drake practice - \"Direct\" Joint Angle Teleop\nFirst, we provide a reference to the first example notebook of chapter 1. Then, in the bottom cell, you will find a similar function with slightly different functionality, and code missing that you are required to fill in. Take a look below for further instructions!",
      "metadata": {
        "cell_id": "47a2e2339eb147c6b228a2c77bda8f42",
        "deepnote_cell_type": "markdown"
      },
      "block_group": "f86f4f9405e747408e5f0c658d0a9e1a"
    },
    {
      "cell_type": "markdown",
      "source": "## Review: 2D End-effector Teleop (from Chapter 1)\n\nIn the chapter 1 [example](https://manipulation.csail.mit.edu/intro.html#teleop2d), we assembled a diagram with the manipulation station, a meshcat visualizer, some systems that provide a minimal teleop interface, along with some systems to convert the teleop output from end-effector commands into joint commands.\n\nIn this problem, your goal is to build an even simpler diagram, which instead directly controls the joint angles of the robot.\n",
      "metadata": {
        "cell_id": "b136fed3a4df4a81ac4741aeb662f1a8",
        "deepnote_cell_type": "markdown"
      },
      "block_group": "746b2be80ca04d32924f525bbbfeb14a"
    },
    {
      "cell_type": "markdown",
      "source": "## Setup\nImports from drake and starting the Meshcat viewer.",
      "metadata": {
        "cell_id": "40d639f2ca6847ef8cc1e33031d1ad63",
        "deepnote_cell_type": "markdown"
      },
      "block_group": "f6f4810925744ebba1555c4dc747a010"
    },
    {
      "cell_type": "code",
      "source": "import numpy as np\nfrom pydrake.all import DiagramBuilder, LeafSystem, Simulator, StartMeshcat\n\nfrom manipulation import running_as_notebook\nfrom manipulation.exercises.grader import Grader\nfrom manipulation.exercises.robot.test_direct_joint_control import (\n    TestDirectJointControl,\n)\nfrom manipulation.station import LoadScenario, MakeHardwareStation",
      "metadata": {
        "cell_id": "c518fdc1f38f40b88fa1b7c272ef67eb",
        "deepnote_cell_type": "code"
      },
      "outputs": [],
      "outputs_reference": null,
      "execution_count": null,
      "block_group": "cabfd561a1b340158414ac30d7e05ed3",
      "content_dependencies": null
    },
    {
      "cell_type": "code",
      "source": "# Start the visualizer.\nmeshcat = StartMeshcat()\nmeshcat.Set2dRenderMode(xmin=-0.25, xmax=1.5, ymin=-0.1, ymax=1.3)",
      "metadata": {
        "cell_id": "9ea1ab8bc23b483fb3f170ef02122519",
        "deepnote_cell_type": "code"
      },
      "outputs": [],
      "outputs_reference": null,
      "execution_count": null,
      "block_group": "7c9d9c19ee73425c97ba990bff8479f6",
      "content_dependencies": null
    },
    {
      "cell_type": "code",
      "source": "scenario_data = \"\"\"\ndirectives:\n- add_model:\n    name: iiwa\n    file: package://manipulation/planar_iiwa14_no_collision.urdf\n    default_joint_positions:\n        iiwa_joint_2: [0.1]\n        iiwa_joint_4: [-1.2]\n        iiwa_joint_6: [1.6]\n- add_weld:\n    parent: world\n    child: iiwa::iiwa_link_0\nmodel_drivers:\n    iiwa: !IiwaDriver\n        control_mode: position_only\n\"\"\"\nscenario = LoadScenario(data=scenario_data)",
      "metadata": {
        "cell_id": "5e81b75da5294403a52ef3c619cc235d",
        "deepnote_cell_type": "code"
      },
      "outputs": [],
      "outputs_reference": null,
      "execution_count": null,
      "block_group": "6b8d8d0213244990a5c044b7733f3959",
      "content_dependencies": null
    },
    {
      "cell_type": "markdown",
      "source": "## Directly control the robot joints\nYou'll now get a chance to replace the teleop functionality in the 2D example above with a direct \"joint angle setter\".\n\nCompete the `teleop_2d_direct` function below accepting a desired angle of each joint from the user.\n- Reference `teleop_2d` in the chapter 1 example.\n- You can leave out all the components that were used in `teleop_2d` which are no longer needed.\n\n### The goals of this exercise are twofold:\n- Understand the way core subsystems in Drake are wired together well enough to know what parts of the `teleop_2d` function must be removed.\n- Use the information in the examples from the textbook, other exercises, and Drake documentation, to correctly implement the same high-level joint-space control behavior, but using a different Drake function.\n",
      "metadata": {
        "cell_id": "9bd744273420405c9e86cdb9d0155755",
        "deepnote_cell_type": "markdown"
      },
      "block_group": "b9940a5c9ebf44e2a6ba3fcdfa475afa"
    },
    {
      "cell_type": "code",
      "source": "class CommandInputSystem(LeafSystem):\n    def __init__(self, interactive, q_cmd):\n        LeafSystem.__init__(self)\n\n        self._interactive = interactive\n        self._q_cmd = q_cmd\n\n        # Declare input and output ports.\n        self._q_current_input = self.DeclareVectorInputPort(name=\"q_current\", size=3)\n        self.DeclareVectorOutputPort(name=\"q_cmd\", size=3, calc=self.CalcOutput)\n\n    def CalcOutput(self, context, output):\n        # Read the input port.\n        q_current = self._q_current_input.Eval(context)\n\n        if self._interactive and running_as_notebook and self._q_cmd is None:\n            q_cmd = q_current.copy()\n            q_cmd[0] = float(\n                input(\n                    f\"Please enter value for first movable joint (current value: {q_current[0]:.3f})\"\n                )\n            )\n            q_cmd[1] = float(\n                input(\n                    f\"Please enter value for second movable joint (current value: {q_current[1]:.3f})\"\n                )\n            )\n            q_cmd[2] = input(\n                f\"Please enter value for third movable joint (current value: {q_current[2]:.3f})\"\n            )\n            self._q_cmd = q_cmd\n        else:\n            q_cmd = self._q_cmd\n\n        if q_cmd is None:\n            q_cmd = np.zeros(3)\n\n        # Write to the output port.\n        output.SetFromVector(q_cmd)\n\n    def reset(self):\n        self._q_cmd = None\n\n\ndef teleop_2d_direct(interactive=False, q_cmd=None):\n    \"\"\"\n    Joint position control of the Kuka iiwa robot, without using teleop sliders or differential IK.\n\n    Args:\n        interactive (bool): If True, function will query the user to manually set the desired joint positions\n            while running the simulator. Otherwise, function will use \"q_cmd\" as the target joint position.\n        q_cmd (np.ndarray, list): Shape (3,). Desired positions of the three movable joints on the 2D robot.\n            \"q_cmd\" cannot be None if \"interactive\" is set to False.\n    \"\"\"\n    assert (\n        not interactive and q_cmd is not None\n    ) or interactive, 'Variable \"q_cmd\" must not be None if the function is run in non-interactive mode'\n\n    builder = DiagramBuilder()\n\n    station = builder.AddSystem(MakeHardwareStation(scenario, meshcat=meshcat))\n\n    command_input_system = builder.AddSystem(CommandInputSystem(interactive, q_cmd))\n\n    #######################################################################\n    # Your code here\n    # (connect the input and output port of `command_input_system` to the `station` ports)\n    # (hint: what output ports does the `station` instance have available?)\n\n    #######################################################################\n\n    diagram = builder.Build()\n\n    #######################################################################\n    # Your code here. We wish to construct the following:\n    # 1. simulator\n    # 2. context: The context variable is set to the context owned by the simulator. What public member function can we use to get this context? See https://drake.mit.edu/doxygen_cxx/classdrake_1_1systems_1_1_simulator.html\n    # 3. station_context: We want a context for the station that is retrieved from the context owned by the simulator. See \"Subcontext access\" at https://drake.mit.edu/doxygen_cxx/classdrake_1_1systems_1_1_system.html\n\n    simulator = None\n    context = None\n    station_context = None\n    #######################################################################\n\n    if simulator is None:\n        print(\"You must set the simulator variable above\")\n        return station, station_context\n\n    simulator.set_target_realtime_rate(1.0 if interactive else 0)\n    meshcat.AddButton(\"Stop Simulation\")\n    while meshcat.GetButtonClicks(\"Stop Simulation\") < 1:\n        # Command the desired positions for 2s while simulating.\n        simulator.AdvanceTo(simulator.get_context().get_time() + 2.0)\n\n        q_current_cmd = station.GetOutputPort(\"iiwa.position_commanded\").Eval(\n            station_context\n        )\n        print(f\"Current commanded joint angles: {q_current_cmd}\")\n\n        if not interactive or not running_as_notebook:\n            break\n        else:\n            # Reset the input system so that it asks for user input.\n            command_input_system.reset()\n\n    meshcat.DeleteButton(\"Stop Simulation\")\n\n    return station, station_context",
      "metadata": {
        "cell_id": "3bef2e99959f446fb38374d42e4a0197",
        "deepnote_cell_type": "code"
      },
      "outputs": [],
      "outputs_reference": null,
      "execution_count": null,
      "block_group": "926040e319d14fe8a69e47d35adc4f2c",
      "content_dependencies": null
    },
    {
      "cell_type": "markdown",
      "source": "Run the cell below to use the function you wrote in an interactive mode, but note that the autograder will test the functionality of your code in non-interactive mode.",
      "metadata": {
        "cell_id": "d3fb2713555a4f2f852ce149c457c806",
        "deepnote_cell_type": "markdown"
      },
      "block_group": "d47c3619ee474980bb302fd358cf2fc9"
    },
    {
      "cell_type": "code",
      "source": "teleop_2d_direct(interactive=True)",
      "metadata": {
        "cell_id": "4c65398de3e84b81bc4a7b0863f2c441",
        "deepnote_cell_type": "code"
      },
      "outputs": [],
      "outputs_reference": null,
      "execution_count": null,
      "block_group": "b1cfd1935f6d403dbf81d8c66174ddc4",
      "content_dependencies": null
    },
    {
      "cell_type": "markdown",
      "source": "## How will this notebook be Graded?\n\nIf you are enrolled in the class, this notebook will be graded using [Gradescope](www.gradescope.com). You should have gotten the enrollement code on our announcement in Piazza.\n\nFor submission of this assignment, you must do as follows:.\n- Download and submit the notebook `direct_joint_control.ipynb` to Gradescope's notebook submission section, along with your notebook for the other problems.\n\nWe will evaluate the local functions in the notebook to see if the function behaves as we have expected. For this exercise, the rubric is as follows:\n- [5pts] `teleop_2d_direct` must be implemented correctly (i.e., we will check if you are properly sending position commands to the robot)\n\nBelow is our autograder where you can check your score!",
      "metadata": {
        "cell_id": "efbb7c0f5a364ff0aa9440dcbc45fc45",
        "deepnote_cell_type": "markdown"
      },
      "block_group": "4aa9dc34def647b7b6eef2399b94b690"
    },
    {
      "cell_type": "code",
      "source": "Grader.grade_output([TestDirectJointControl], [locals()], \"results.json\")\nGrader.print_test_results(\"results.json\")",
      "metadata": {
        "cell_id": "290c4307e0c54d32a1048d138be078da",
        "deepnote_cell_type": "code"
      },
      "outputs": [],
      "outputs_reference": null,
      "execution_count": null,
      "block_group": "284c1a914c21414a9ad5bdcbcba0e6a9",
      "content_dependencies": null
    },
    {
      "cell_type": "markdown",
      "source": "<a style='text-decoration:none;line-height:16px;display:flex;color:#5B5B62;padding:10px;justify-content:end;' href='https://deepnote.com?utm_source=created-in-deepnote-cell&projectId=734a308b-b08c-4099-95e1-334644e7d9c6' target=\"_blank\">\n<img alt='Created in deepnote.com' style='display:inline;max-height:16px;margin:0px;margin-right:7.5px;' src='data:image/svg+xml;base64,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' > </img>\nCreated in <span style='font-weight:600;margin-left:4px;'>Deepnote</span></a>",
      "metadata": {
        "created_in_deepnote_cell": true,
        "deepnote_cell_type": "markdown"
      }
    }
  ],
  "nbformat": 4,
  "nbformat_minor": 0,
  "metadata": {
    "deepnote_notebook_id": "6bbaa3603e934d95bdfacbe8244d0fe5",
    "deepnote_execution_queue": []
  }
}