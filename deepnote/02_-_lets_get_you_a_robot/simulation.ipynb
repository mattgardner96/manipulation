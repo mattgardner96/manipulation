{
  "cells": [
    {
      "cell_type": "markdown",
      "source": "This notebook provides examples to go along with the [textbook](http://manipulation.csail.mit.edu/robot.html).  I recommend having both windows open, side-by-side!",
      "metadata": {
        "id": "EgiF12Hf1Dhs",
        "colab_type": "text",
        "cell_id": "940e0fb3d50c4ae6bda28c93ef67f845",
        "deepnote_cell_type": "markdown"
      },
      "block_group": "9778b7f698a844079abbc34f8b629412"
    },
    {
      "cell_type": "code",
      "source": "import numpy as np\nfrom pydrake.all import (\n    AddMultibodyPlantSceneGraph,\n    DiagramBuilder,\n    InverseDynamicsController,\n    MeshcatVisualizer,\n    MultibodyPlant,\n    Parser,\n    Simulator,\n    StartMeshcat,\n)\n\nfrom manipulation import running_as_notebook\nfrom manipulation.utils import RenderDiagram",
      "metadata": {
        "id": "eeMrMI0-1Dhu",
        "colab": {},
        "colab_type": "code",
        "source_hash": null,
        "execution_start": 1725811023005,
        "execution_millis": 511,
        "deepnote_to_be_reexecuted": false,
        "cell_id": "e08491ee98ca48cbaf7aa599415b012b",
        "deepnote_cell_type": "code"
      },
      "outputs": [],
      "outputs_reference": null,
      "execution_count": null,
      "block_group": "801f5052f30d464ab57f2857d582ce20",
      "content_dependencies": null
    },
    {
      "cell_type": "code",
      "source": "# Start the visualizer.\nmeshcat = StartMeshcat()",
      "metadata": {
        "source_hash": null,
        "execution_start": 1725811027114,
        "execution_millis": 65,
        "deepnote_to_be_reexecuted": false,
        "cell_id": "5e90bd95dd3d44f0ae57d6bad778cdc3",
        "deepnote_cell_type": "code"
      },
      "outputs": [],
      "outputs_reference": null,
      "execution_count": null,
      "block_group": "a6db6743109d409182e46b8174221e05",
      "content_dependencies": null
    },
    {
      "cell_type": "markdown",
      "source": "# Simulation with block diagrams\n\nIn this chapter, and throughout the notes, we will be building up our simulations and controllers using drake's block diagram modeling language (we call it the \"systems framework\").  [This tutorial](https://deepnote.com/workspace/Drake-0b3b2c53-a7ad-441b-80f8-bf8350752305/project/Tutorials-2b4fc509-aef2-417d-a40d-6071dfed9199/notebook/dynamical_systems-51e3befa8950475d88002fce5d910abf)  provides a brief introduction.  \n",
      "metadata": {
        "id": "nPy2VgSH1Dh5",
        "colab_type": "text",
        "cell_id": "8db9957c134c469b9c6d35afd297c572",
        "deepnote_cell_type": "markdown"
      },
      "block_group": "9d03715631f14825b958e3da3fea59ff"
    },
    {
      "cell_type": "markdown",
      "source": "# Simulating the (passive) iiwa\n\nLet's load our robot of choice (the Kuka iiwa) into the physics engine, which we call [MultibodyPlant](https://drake.mit.edu/doxygen_cxx/classdrake_1_1multibody_1_1_multibody_plant.html).\n",
      "metadata": {
        "id": "Dl9NDxDR1Dh6",
        "colab_type": "text",
        "cell_id": "07b50a50c4f348f188e515315c58a260",
        "deepnote_cell_type": "markdown"
      },
      "block_group": "96f4c302e78d483a8dc77427ba901b2f"
    },
    {
      "cell_type": "code",
      "source": "plant = MultibodyPlant(time_step=1e-4)\nParser(plant).AddModelsFromUrl(\n    \"package://drake_models/iiwa_description/sdf/iiwa14_no_collision.sdf\"\n)\nplant.WeldFrames(plant.world_frame(), plant.GetFrameByName(\"iiwa_link_0\"))\nplant.Finalize()",
      "metadata": {
        "id": "DyfpxsGR1Dh6",
        "colab": {},
        "colab_type": "code",
        "source_hash": null,
        "execution_start": 1725811074882,
        "execution_millis": 31,
        "deepnote_to_be_reexecuted": false,
        "cell_id": "fac19a53e07341eab348fc6a54a6f7cf",
        "deepnote_cell_type": "code"
      },
      "outputs": [],
      "outputs_reference": null,
      "execution_count": null,
      "block_group": "45ba0078bd484f368f9af1102e2b42ca",
      "content_dependencies": null
    },
    {
      "cell_type": "markdown",
      "source": "In Drake, we are very careful to separate the *state* of a system from the system itself.  For example, let's think of a dynamical system as given by the difference equation: $$x[n+1] = f(n, x[n], u[n]),$$ where $n$ is the \"time\", $x$ is the state, and $u$ is any inputs to the system.  The `System` describes $f()$, but we use a structure called the [`Context`](https://drake.mit.edu/doxygen_cxx/classdrake_1_1systems_1_1_context.html) to hold the runtime values: $n, x, u$.  We use a structure, because some systems have even more runtime values, that describe system parameters, random noise inputs, etc, and it is cleaner to pass a structure around than have each system accept a different list of possible inputs.  As a rule `System` is constant over the duration of a simulation, and you should be able to obtain repeatable, deterministic simulations given any value `Context`.\n\nLet's see what the `Context` looks like for the physics engine now that we've loaded the iiwa into it.",
      "metadata": {
        "id": "H3G-pTB5bit8",
        "colab_type": "text",
        "cell_id": "446eac2657c343c9b5f349dd2a19ec47",
        "deepnote_cell_type": "markdown"
      },
      "block_group": "0ae19f19f5c44eb4b1b9afb88861ab24"
    },
    {
      "cell_type": "code",
      "source": "context = plant.CreateDefaultContext()\nprint(context)",
      "metadata": {
        "id": "P8HoF2KPdXNL",
        "colab": {},
        "colab_type": "code",
        "source_hash": null,
        "execution_start": 1725811132021,
        "execution_millis": 97,
        "deepnote_to_be_reexecuted": false,
        "cell_id": "fd428c2a55284a8da2cf8dde58bb6027",
        "deepnote_cell_type": "code"
      },
      "outputs": [],
      "outputs_reference": null,
      "execution_count": null,
      "block_group": "d0cbc6ab7e6741e0bb6f54ec793dbb6f",
      "content_dependencies": null
    },
    {
      "cell_type": "markdown",
      "source": "The system has 14 state variables -- these are the 7 joint positions and 7 joint velocities for the iiwa.  Those states are discrete, because we passed a non-zero `time_step` to the constructor of the `MultibodyPlant`, which means the physics engine will be use a time-stepping simulation scheme (this will be the most performant when we start simulating contact).  Go ahead and try changing `time_step` to zero, and see what happens.\n\nYou'll notice the context has lots of parameters (currently these include the mass, the center of mass, and the inertia of each body).  You won't need those any time soon, but it does enable some super cool advanced features.\n\nBecause the `Context` for a `MultibodyPlant` can get quite complicated, `MultibodyPlant` offers some methods that help you get/set the values.  Let's set some non-zero initial positions.",
      "metadata": {
        "id": "vr80vD3Be7uZ",
        "colab_type": "text",
        "cell_id": "17842eb419f54079b960fdc3829e1d25",
        "deepnote_cell_type": "markdown"
      },
      "block_group": "3ea326e071294d1587fff88d4d486ee8"
    },
    {
      "cell_type": "code",
      "source": "# Set all of the joint positions at once in a single vector.\nplant.SetPositions(context, [-1.57, 0.1, 0, 0, 0, 1.6, 0])\n# You can also set them by referencing particular joints.\nplant.GetJointByName(\"iiwa_joint_4\").set_angle(context, -1.2)\nprint(context)",
      "metadata": {
        "id": "73whw6YZf9PP",
        "colab": {},
        "colab_type": "code",
        "source_hash": null,
        "execution_start": 1725811181013,
        "execution_millis": 16,
        "deepnote_to_be_reexecuted": false,
        "cell_id": "2c539a6b7fab4409a8e6189511d05458",
        "deepnote_cell_type": "code"
      },
      "outputs": [],
      "outputs_reference": null,
      "execution_count": null,
      "block_group": "d5a1a5db8be340d6a724538b176fc762",
      "content_dependencies": null
    },
    {
      "cell_type": "markdown",
      "source": "The iiwa model also defined 7 actuators.  Before we can run a simulation, we need to provide some values for those inputs to the `MultibodyPlant` `actuation_input_port`.  For this warm-up, we'll just set them to zero.",
      "metadata": {
        "id": "LpQlGh1Ai27g",
        "colab_type": "text",
        "cell_id": "445ba95a88e84df1a739800f026a3e9f",
        "deepnote_cell_type": "markdown"
      },
      "block_group": "7b740c547258474b98cb4ce4082bceeb"
    },
    {
      "cell_type": "code",
      "source": "plant.get_actuation_input_port().FixValue(context, np.zeros(7))",
      "metadata": {
        "id": "dJx-KrGUjR8x",
        "colab": {},
        "colab_type": "code",
        "source_hash": null,
        "execution_start": 1725811213626,
        "execution_millis": 286,
        "deepnote_to_be_reexecuted": false,
        "cell_id": "ec5233c1ed5643abbe6794e016f6154a",
        "deepnote_cell_type": "code"
      },
      "outputs": [],
      "outputs_reference": null,
      "execution_count": null,
      "block_group": "ec9ce4adfc204dffabb8e3dacc4587a0",
      "content_dependencies": null
    },
    {
      "cell_type": "markdown",
      "source": "Now we can set up and run a simulation.",
      "metadata": {
        "id": "zqb66IBcierZ",
        "colab_type": "text",
        "cell_id": "ede246cbce4e4b4089f99822f4cf4865",
        "deepnote_cell_type": "markdown"
      },
      "block_group": "ecb9cf97c0a64132b12fd84f651ab034"
    },
    {
      "cell_type": "code",
      "source": "simulator = Simulator(plant, context)\nsimulator.AdvanceTo(5.0)\nprint(context)",
      "metadata": {
        "id": "6DYEtGbtimit",
        "colab": {},
        "colab_type": "code",
        "source_hash": null,
        "execution_start": 1725811217301,
        "execution_millis": 1027,
        "deepnote_to_be_reexecuted": false,
        "cell_id": "39ea754a32fc4ace87f565044f241394",
        "deepnote_cell_type": "code"
      },
      "outputs": [],
      "outputs_reference": null,
      "execution_count": null,
      "block_group": "ee25f2daea644c26a68e7312f0851397",
      "content_dependencies": null
    },
    {
      "cell_type": "markdown",
      "source": "# Visualizing the scene\n\nThe best way to visualize the results of a physics engine is with a 2D or 3D visualizer. For that, we need to add the system which curates the geometry of a scene (the geometry engine); in Drake with call it the [`SceneGraph`](https://drake.mit.edu/doxygen_cxx/classdrake_1_1geometry_1_1_scene_graph.html). Once we have a `SceneGraph`, then there are a number of different visualizers and sensors that we can add to the system to actually render the scene.\n\nWe support a number of visualizers in drake (we ship a simple VTK-based \"drake-visualizer\" with our binary releases, or you can use RViz).  But because we're working in a jupyter notebook, and want you to be able to run 3D graphics on any machine without any installation required, we'll use the [MeshCat](https://github.com/rdeits/meshcat) visualizer throughout these notes.  \n\nTo use all three systems (`MultibodyPlant`, `SceneGraph`, and `MeshcatVisualizer`), we need to assemble them into a [`Diagram`](https://drake.mit.edu/doxygen_cxx/classdrake_1_1systems_1_1_diagram.html) using a [`DiagramBuilder`](https://drake.mit.edu/doxygen_cxx/classdrake_1_1systems_1_1_diagram_builder.html).  Often you would add each system and then connect the ports together, but for common cases like we have here, we provide helper methods to reduce the boilerplate.",
      "metadata": {
        "id": "8ZKEl1QU1Dh9",
        "colab_type": "text",
        "cell_id": "950130b3647a4d4897c8413a5435ccbc",
        "deepnote_cell_type": "markdown"
      },
      "block_group": "2c46a85457504acc9e334c9eebe5c106"
    },
    {
      "cell_type": "code",
      "source": "meshcat.Delete()\nmeshcat.DeleteAddedControls()\nbuilder = DiagramBuilder()\n\n# Adds both MultibodyPlant and the SceneGraph, and wires them together.\nplant, scene_graph = AddMultibodyPlantSceneGraph(builder, time_step=1e-4)\n# Note that we parse into both the plant and the scene_graph here.\nParser(plant, scene_graph).AddModelsFromUrl(\n    \"package://drake_models/iiwa_description/sdf/iiwa14_no_collision.sdf\"\n)\nplant.WeldFrames(plant.world_frame(), plant.GetFrameByName(\"iiwa_link_0\"))\nplant.Finalize()\n\n# Adds the MeshcatVisualizer and wires it to the SceneGraph.\nvisualizer = MeshcatVisualizer.AddToBuilder(builder, scene_graph, meshcat)\n\ndiagram = builder.Build()\ndiagram.set_name(\"plant and scene_graph\")",
      "metadata": {
        "id": "WkfjAgrL1Dh-",
        "colab": {},
        "colab_type": "code",
        "source_hash": null,
        "execution_start": 1725811746711,
        "execution_millis": 76,
        "deepnote_to_be_reexecuted": false,
        "cell_id": "9efa747d9bbe49d59be7191475fba5e1",
        "deepnote_cell_type": "code"
      },
      "outputs": [],
      "outputs_reference": null,
      "execution_count": null,
      "block_group": "c664b4b95ed042339d89004b95ad02b3",
      "content_dependencies": null
    },
    {
      "cell_type": "markdown",
      "source": "If you click on the link above, you can open a browser window to see the visualization.\n\nBut the scene will be empty so far.  We need to actually construct the diagram and ask it to publish.  (You normally don't have to call these; MeshcatVisualizer will automatically load at initialization and publish on a fixed period during simulation).",
      "metadata": {
        "id": "Rm4kVRMS1DiF",
        "colab_type": "text",
        "cell_id": "6676c7f7bea04375b7aa5fbd3b8cb08a",
        "deepnote_cell_type": "markdown"
      },
      "block_group": "6c28dfb022e24d8a8636c040b8cdfa43"
    },
    {
      "cell_type": "code",
      "source": "context = diagram.CreateDefaultContext()\ndiagram.ForcedPublish(context)",
      "metadata": {
        "id": "2YMNZBi11DiN",
        "colab": {},
        "colab_type": "code",
        "source_hash": null,
        "execution_start": 1725811778875,
        "execution_millis": 16,
        "deepnote_to_be_reexecuted": false,
        "cell_id": "5515944b14f34ef4929cf1fdb9c7a14b",
        "deepnote_cell_type": "code"
      },
      "outputs": [],
      "outputs_reference": null,
      "execution_count": null,
      "block_group": "2a56a218725d4e8eab71cbcf2441ad57",
      "content_dependencies": null
    },
    {
      "cell_type": "markdown",
      "source": "We've put together quite a complex system now.  A `Diagram` is just another `System`, so it has an associated context.",
      "metadata": {
        "id": "kPcyp3zv1Dir",
        "colab_type": "text",
        "cell_id": "ae4b5433d48542998f3b56a226d88cc5",
        "deepnote_cell_type": "markdown"
      },
      "block_group": "7ad5a76b6aab43d9bc9fb7ed403799c6"
    },
    {
      "cell_type": "code",
      "source": "print(context)",
      "metadata": {
        "id": "Kr9BgEkcCQaZ",
        "colab": {},
        "colab_type": "code",
        "source_hash": null,
        "execution_start": 1725811796251,
        "execution_millis": 103,
        "deepnote_to_be_reexecuted": false,
        "cell_id": "b3feee6c695443dab450a85e8ed16bc4",
        "deepnote_cell_type": "code"
      },
      "outputs": [],
      "outputs_reference": null,
      "execution_count": null,
      "block_group": "a93f0c902a9047948076711d157c4cde",
      "content_dependencies": null
    },
    {
      "cell_type": "markdown",
      "source": "It's also very useful to draw the actual block diagram.",
      "metadata": {
        "id": "gu6_NRm_Cl-O",
        "colab_type": "text",
        "cell_id": "3e793d5ec927465aaedd42dc9f97237d",
        "deepnote_cell_type": "markdown"
      },
      "block_group": "7a1399126be6427182c919a5e9bb47eb"
    },
    {
      "cell_type": "code",
      "source": "RenderDiagram(diagram)",
      "metadata": {
        "id": "XTeyZc7n1Dit",
        "colab": {},
        "colab_type": "code",
        "source_hash": null,
        "execution_start": 1725811835554,
        "execution_millis": 309,
        "deepnote_to_be_reexecuted": false,
        "cell_id": "31b6360707964e8fa1dd336bcc1fe555",
        "deepnote_cell_type": "code"
      },
      "outputs": [],
      "outputs_reference": null,
      "execution_count": null,
      "block_group": "f4768452ee564e49a4fc8edf4a0aab14",
      "content_dependencies": null
    },
    {
      "cell_type": "markdown",
      "source": "There is one more important detail: **The `Context` for the `Diagram` is not the `Context` of the `MultibodyPlant`.  But you can extract the plant `Context`; and we need to in order to set the initial conditions of the robot.",
      "metadata": {
        "id": "5OwrpdeGE5aa",
        "colab_type": "text",
        "cell_id": "5567ba8bca254b78a342d425e266c228",
        "deepnote_cell_type": "markdown"
      },
      "block_group": "ca80b66af7974f28a1e1e539f56cecb1"
    },
    {
      "cell_type": "code",
      "source": "plant_context = plant.GetMyMutableContextFromRoot(context)\nplant.SetPositions(plant_context, [-1.57, 0.1, 0, -1.2, 0, 1.6, 0])\nplant.get_actuation_input_port().FixValue(plant_context, np.zeros(7))\nprint(context)\n\nstarting_context = plant_context",
      "metadata": {
        "id": "aA5dasXyFWXo",
        "colab": {},
        "colab_type": "code",
        "source_hash": null,
        "execution_start": 1725812006204,
        "execution_millis": 235,
        "deepnote_to_be_reexecuted": false,
        "cell_id": "e07490abf44b4d6791ef45d10e975147",
        "deepnote_cell_type": "code"
      },
      "outputs": [],
      "outputs_reference": null,
      "execution_count": null,
      "block_group": "8862c57f653748c4809014858d04a251",
      "content_dependencies": null
    },
    {
      "cell_type": "markdown",
      "source": "Accidentally using `context` instead of `plant_context` is a very common mistake!\n\nOk, now we're ready to simulate.  Make sure your visualizer window is visible, then run the following cell.",
      "metadata": {
        "id": "Js2ulEaFF0yD",
        "colab_type": "text",
        "cell_id": "dd1a2588f66d42a485ade2fc8ff466f2",
        "deepnote_cell_type": "markdown"
      },
      "block_group": "3ac77da2ff0045bb8e0b1d5f6626b32c"
    },
    {
      "cell_type": "code",
      "source": "simulator = Simulator(diagram, context)\nsimulator.set_target_realtime_rate(1.0)\nsimulator.AdvanceTo(5.0 if running_as_notebook else 0.1)",
      "metadata": {
        "id": "ZySlXAKSGLaS",
        "colab": {},
        "colab_type": "code",
        "source_hash": null,
        "execution_start": 1725812726378,
        "execution_millis": 136,
        "deepnote_to_be_reexecuted": false,
        "cell_id": "24287a91aa7b426ea1d8d379c2a8e377",
        "deepnote_cell_type": "code"
      },
      "outputs": [],
      "outputs_reference": null,
      "execution_count": null,
      "block_group": "be92189134c94f2889d03ab1905fcfb8",
      "content_dependencies": null
    },
    {
      "cell_type": "markdown",
      "source": "Glorious!\n\nHere's one more trick.  You can ask MeshCat to record the animation, and then review it in the visualizer using the sliders in the controls dialog.  \n\nI'll repeat the preamble here to make this cell stand-alone.  (Plus we cannot reuse a system in multiple diagrams; the ownership is restricted).",
      "metadata": {
        "id": "Fdkx17YxGPSz",
        "colab_type": "text",
        "cell_id": "4999961fcfd74801bcbcf3d9a82ba079",
        "deepnote_cell_type": "markdown"
      },
      "block_group": "fd5e09de3f384096ac31c2eca963b036"
    },
    {
      "cell_type": "code",
      "source": "def animation_demo():\n    builder = DiagramBuilder()\n\n    # Adds both MultibodyPlant and the SceneGraph, and wires them together.\n    plant, scene_graph = AddMultibodyPlantSceneGraph(builder, time_step=1e-4)\n    # Note that we parse into both the plant and the scene_graph here.\n    Parser(plant, scene_graph).AddModelsFromUrl(\n        \"package://drake_models/iiwa_description/sdf/iiwa14_no_collision.sdf\"\n    )\n    plant.WeldFrames(plant.world_frame(), plant.GetFrameByName(\"iiwa_link_0\"))\n    plant.Finalize()\n\n    # Adds the MeshcatVisualizer and wires it to the SceneGraph.\n    MeshcatVisualizer.AddToBuilder(builder, scene_graph, meshcat)\n\n    diagram = builder.Build()\n    context = diagram.CreateDefaultContext()\n    plant_context = plant.GetMyMutableContextFromRoot(context)\n    plant.SetPositions(plant_context, [-1.57, 0.1, 0, -1.2, 0, 1.6, 0])\n    plant.get_actuation_input_port().FixValue(plant_context, np.zeros(7))\n\n    simulator = Simulator(diagram, context)\n    simulator.set_target_realtime_rate(1.0)\n\n    meshcat.StartRecording()\n    simulator.AdvanceTo(5.0 if running_as_notebook else 0.1)\n    meshcat.StopRecording()\n    meshcat.PublishRecording()\n\n\nanimation_demo()",
      "metadata": {
        "id": "HUeu3reLWw_H",
        "colab": {},
        "colab_type": "code",
        "source_hash": null,
        "execution_start": 1725812739585,
        "execution_millis": 4953,
        "deepnote_to_be_reexecuted": false,
        "cell_id": "94725cc443644f8ea8ea6e8f7ff0759e",
        "deepnote_cell_type": "code"
      },
      "outputs": [],
      "outputs_reference": null,
      "execution_count": null,
      "block_group": "668795a0d8c1423bb702d86203345c7a",
      "content_dependencies": null
    },
    {
      "cell_type": "markdown",
      "source": "# Adding the iiwa controller\n\nThe iiwa hardware interface runs through a control system provided by the manufacturer.  We can't turn it off.  The best we can do is add our approximation of it to our simulation.  I'll repeat everything we've set up before (to keep this example self-contained), but we'll add one more system for the controller.",
      "metadata": {
        "id": "8SPr8dXoY3IT",
        "colab_type": "text",
        "cell_id": "c7a21ebf8b3141a8989c5f829580c633",
        "deepnote_cell_type": "markdown"
      },
      "block_group": "c4973d35d60c41c684d3406acbd0d299"
    },
    {
      "cell_type": "code",
      "source": "builder = DiagramBuilder()\n\n# Adds both MultibodyPlant and the SceneGraph, and wires them together.\nplant, scene_graph = AddMultibodyPlantSceneGraph(builder, time_step=1e-4)\n# Note that we parse into both the plant and the scene_graph here.\niiwa_model = Parser(plant, scene_graph).AddModelsFromUrl(\n    \"package://drake_models/iiwa_description/sdf/iiwa14_no_collision.sdf\"\n)[0]\nplant.WeldFrames(plant.world_frame(), plant.GetFrameByName(\"iiwa_link_0\"))\nplant.Finalize()\n\n# Adds the MeshcatVisualizer and wires it to the SceneGraph.\nvisualizer = MeshcatVisualizer.AddToBuilder(builder, scene_graph, meshcat)\n\n# Adds an approximation of the iiwa controller.\n# TODO(russt): replace this with the joint impedance controller.\nkp = [100] * plant.num_positions()\nki = [1] * plant.num_positions()\nkd = [20] * plant.num_positions()\niiwa_controller = builder.AddSystem(InverseDynamicsController(plant, kp, ki, kd, False))\niiwa_controller.set_name(\"iiwa_controller\")\nbuilder.Connect(\n    plant.get_state_output_port(iiwa_model),\n    iiwa_controller.get_input_port_estimated_state(),\n)\nbuilder.Connect(\n    iiwa_controller.get_output_port_control(), plant.get_actuation_input_port()\n)\ndiagram = builder.Build()\ndiagram.set_name(\"with iiwa controller\")",
      "metadata": {
        "id": "Qd245P5kY666",
        "colab": {},
        "colab_type": "code",
        "source_hash": null,
        "execution_start": 1725812782394,
        "execution_millis": 119,
        "deepnote_to_be_reexecuted": false,
        "cell_id": "0840edf28bcf42e28bdbd2b9e674b2bb",
        "deepnote_cell_type": "code"
      },
      "outputs": [],
      "outputs_reference": null,
      "execution_count": null,
      "block_group": "87d54fcebf0f4d5e9dde1020c87ee643",
      "content_dependencies": null
    },
    {
      "cell_type": "markdown",
      "source": "Let's see what our diagram looks like...",
      "metadata": {
        "id": "SwmwcTcOX-pm",
        "colab_type": "text",
        "cell_id": "c3b281bd119644ec90639061da54cd76",
        "deepnote_cell_type": "markdown"
      },
      "block_group": "b0f090fecedb44dcb83f99e55b7f2ac6"
    },
    {
      "cell_type": "code",
      "source": "RenderDiagram(diagram)",
      "metadata": {
        "id": "1SMxPMvdxk99",
        "colab": {},
        "colab_type": "code",
        "source_hash": null,
        "execution_start": 1725812799326,
        "execution_millis": 1127,
        "deepnote_to_be_reexecuted": false,
        "cell_id": "3827002deea74b6ca98a34667a51aab0",
        "deepnote_cell_type": "code"
      },
      "outputs": [],
      "outputs_reference": null,
      "execution_count": null,
      "block_group": "6c2ad89b107a4b83834081f67598a680",
      "content_dependencies": null
    },
    {
      "cell_type": "markdown",
      "source": "As our diagrams get more complex, you might pass the `max_depth` argument to the `RenderDiagram` method.\n\nTODO(russt): Update to javascript rendering [#13874](https://github.com/RobotLocomotion/drake/issues/13874). ",
      "metadata": {
        "id": "ZWoEJzsixwGj",
        "colab_type": "text",
        "cell_id": "6869af3b218742e0b3a7c0bbac70a3d1",
        "deepnote_cell_type": "markdown"
      },
      "block_group": "812c418086764a78bdd83ec5549eb550"
    },
    {
      "cell_type": "code",
      "source": "RenderDiagram(diagram, max_depth=1)",
      "metadata": {
        "id": "EjJzh5veYA6e",
        "colab": {},
        "colab_type": "code",
        "source_hash": null,
        "execution_start": 1725812889827,
        "execution_millis": 247,
        "deepnote_to_be_reexecuted": false,
        "cell_id": "801ad89a1cc74054b30cda3033acf871",
        "deepnote_cell_type": "code"
      },
      "outputs": [],
      "outputs_reference": null,
      "execution_count": null,
      "block_group": "d3fc11b68d234ed8be74dfc8fd755c3e",
      "content_dependencies": null
    },
    {
      "cell_type": "markdown",
      "source": "To set up the `Context` now, instead of setting the `actuation_input` to zero, we set the `desired_state` of the iiwa controller to be the current position of the arm.  But the desired *state* must also include desired velocities, so we set those to zero.",
      "metadata": {
        "id": "wuo1q8PgXzrp",
        "colab_type": "text",
        "cell_id": "ca1493167c6f42298d50c1cbe800545b",
        "deepnote_cell_type": "markdown"
      },
      "block_group": "5f730f64f6ef45fbaf22c5fbd1d88ea7"
    },
    {
      "cell_type": "code",
      "source": "context = diagram.CreateDefaultContext()\nplant_context = plant.GetMyMutableContextFromRoot(context)\nq0 = np.array([-1.57, 0.1, 0, -1.2, 0, 1.6, 0])\nx0 = np.hstack((q0, 0 * q0))\nplant.SetPositions(plant_context, q0)\niiwa_controller.GetInputPort(\"desired_state\").FixValue(\n    iiwa_controller.GetMyMutableContextFromRoot(context), x0\n)\nprint(context)",
      "metadata": {
        "id": "GHrnvvpXXixB",
        "colab": {},
        "colab_type": "code",
        "source_hash": null,
        "execution_start": 1725813194653,
        "execution_millis": 118,
        "deepnote_to_be_reexecuted": false,
        "cell_id": "f0036243dc9d40f58cd1742f7fab6093",
        "deepnote_cell_type": "code"
      },
      "outputs": [],
      "outputs_reference": null,
      "execution_count": null,
      "block_group": "9d96178422da45c6aeb3b607f7408fd4",
      "content_dependencies": null
    },
    {
      "cell_type": "markdown",
      "source": "Now, if we simulate, the robot just stays put.  Just like the real robot would.",
      "metadata": {
        "id": "kAWFX5H7atro",
        "colab_type": "text",
        "cell_id": "96b2904cc6094dc281317abb1a0433b8",
        "deepnote_cell_type": "markdown"
      },
      "block_group": "cff16bbb2dd5411c8e80335f3897e52c"
    },
    {
      "cell_type": "code",
      "source": "simulator = Simulator(diagram, context)\nsimulator.set_target_realtime_rate(1.0)\nsimulator.AdvanceTo(5.0 if running_as_notebook else 0.1);",
      "metadata": {
        "id": "qvJ2PptyYuz2",
        "colab": {},
        "colab_type": "code",
        "source_hash": null,
        "execution_start": 1725813213722,
        "execution_millis": 4960,
        "deepnote_to_be_reexecuted": false,
        "cell_id": "6bcfa9056fae48228ecc92a32a0ef4a9",
        "deepnote_cell_type": "code"
      },
      "outputs": [],
      "outputs_reference": null,
      "execution_count": null,
      "block_group": "8e37aad099d643b18a36c198c975d7ed",
      "content_dependencies": null
    },
    {
      "cell_type": "code",
      "source": "",
      "metadata": {
        "cell_id": "3331bb95685e4a99bb79e90b381b5934",
        "deepnote_cell_type": "code"
      },
      "outputs": [],
      "outputs_reference": null,
      "execution_count": null,
      "block_group": "b356c7e9cd0c453d82c0630132015cde",
      "content_dependencies": null
    },
    {
      "cell_type": "markdown",
      "source": "<a style='text-decoration:none;line-height:16px;display:flex;color:#5B5B62;padding:10px;justify-content:end;' href='https://deepnote.com?utm_source=created-in-deepnote-cell&projectId=734a308b-b08c-4099-95e1-334644e7d9c6' target=\"_blank\">\n<img alt='Created in deepnote.com' style='display:inline;max-height:16px;margin:0px;margin-right:7.5px;' src='data:image/svg+xml;base64,PD94bWwgdmVyc2lvbj0iMS4wIiBlbmNvZGluZz0iVVRGLTgiPz4KPHN2ZyB3aWR0aD0iODBweCIgaGVpZ2h0PSI4MHB4IiB2aWV3Qm94PSIwIDAgODAgODAiIHZlcnNpb249IjEuMSIgeG1sbnM9Imh0dHA6Ly93d3cudzMub3JnLzIwMDAvc3ZnIiB4bWxuczp4bGluaz0iaHR0cDovL3d3dy53My5vcmcvMTk5OS94bGluayI+CiAgICA8IS0tIEdlbmVyYXRvcjogU2tldGNoIDU0LjEgKDc2NDkwKSAtIGh0dHBzOi8vc2tldGNoYXBwLmNvbSAtLT4KICAgIDx0aXRsZT5Hcm91cCAzPC90aXRsZT4KICAgIDxkZXNjPkNyZWF0ZWQgd2l0aCBTa2V0Y2guPC9kZXNjPgogICAgPGcgaWQ9IkxhbmRpbmciIHN0cm9rZT0ibm9uZSIgc3Ryb2tlLXdpZHRoPSIxIiBmaWxsPSJub25lIiBmaWxsLXJ1bGU9ImV2ZW5vZGQiPgogICAgICAgIDxnIGlkPSJBcnRib2FyZCIgdHJhbnNmb3JtPSJ0cmFuc2xhdGUoLTEyMzUuMDAwMDAwLCAtNzkuMDAwMDAwKSI+CiAgICAgICAgICAgIDxnIGlkPSJHcm91cC0zIiB0cmFuc2Zvcm09InRyYW5zbGF0ZSgxMjM1LjAwMDAwMCwgNzkuMDAwMDAwKSI+CiAgICAgICAgICAgICAgICA8cG9seWdvbiBpZD0iUGF0aC0yMCIgZmlsbD0iIzAyNjVCNCIgcG9pbnRzPSIyLjM3NjIzNzYyIDgwIDM4LjA0NzY2NjcgODAgNTcuODIxNzgyMiA3My44MDU3NTkyIDU3LjgyMTc4MjIgMzIuNzU5MjczOSAzOS4xNDAyMjc4IDMxLjY4MzE2ODMiPjwvcG9seWdvbj4KICAgICAgICAgICAgICAgIDxwYXRoIGQ9Ik0zNS4wMDc3MTgsODAgQzQyLjkwNjIwMDcsNzYuNDU0OTM1OCA0Ny41NjQ5MTY3LDcxLjU0MjI2NzEgNDguOTgzODY2LDY1LjI2MTk5MzkgQzUxLjExMjI4OTksNTUuODQxNTg0MiA0MS42NzcxNzk1LDQ5LjIxMjIyODQgMjUuNjIzOTg0Niw0OS4yMTIyMjg0IEMyNS40ODQ5Mjg5LDQ5LjEyNjg0NDggMjkuODI2MTI5Niw0My4yODM4MjQ4IDM4LjY0NzU4NjksMzEuNjgzMTY4MyBMNzIuODcxMjg3MSwzMi41NTQ0MjUgTDY1LjI4MDk3Myw2Ny42NzYzNDIxIEw1MS4xMTIyODk5LDc3LjM3NjE0NCBMMzUuMDA3NzE4LDgwIFoiIGlkPSJQYXRoLTIyIiBmaWxsPSIjMDAyODY4Ij48L3BhdGg+CiAgICAgICAgICAgICAgICA8cGF0aCBkPSJNMCwzNy43MzA0NDA1IEwyNy4xMTQ1MzcsMC4yNTcxMTE0MzYgQzYyLjM3MTUxMjMsLTEuOTkwNzE3MDEgODAsMTAuNTAwMzkyNyA4MCwzNy43MzA0NDA1IEM4MCw2NC45NjA0ODgyIDY0Ljc3NjUwMzgsNzkuMDUwMzQxNCAzNC4zMjk1MTEzLDgwIEM0Ny4wNTUzNDg5LDc3LjU2NzA4MDggNTMuNDE4MjY3Nyw3MC4zMTM2MTAzIDUzLjQxODI2NzcsNTguMjM5NTg4NSBDNTMuNDE4MjY3Nyw0MC4xMjg1NTU3IDM2LjMwMzk1NDQsMzcuNzMwNDQwNSAyNS4yMjc0MTcsMzcuNzMwNDQwNSBDMTcuODQzMDU4NiwzNy43MzA0NDA1IDkuNDMzOTE5NjYsMzcuNzMwNDQwNSAwLDM3LjczMDQ0MDUgWiIgaWQ9IlBhdGgtMTkiIGZpbGw9IiMzNzkzRUYiPjwvcGF0aD4KICAgICAgICAgICAgPC9nPgogICAgICAgIDwvZz4KICAgIDwvZz4KPC9zdmc+' > </img>\nCreated in <span style='font-weight:600;margin-left:4px;'>Deepnote</span></a>",
      "metadata": {
        "created_in_deepnote_cell": true,
        "deepnote_cell_type": "markdown"
      }
    }
  ],
  "nbformat": 4,
  "nbformat_minor": 0,
  "metadata": {
    "deepnote_notebook_id": "9f13f4991f2d49e39d11e4b591be2987",
    "deepnote_execution_queue": []
  }
}