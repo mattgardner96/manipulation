{
  "cells": [
    {
      "cell_type": "markdown",
      "source": "# **Input and Output Ports of the Hardware Station**\n",
      "metadata": {
        "id": "EgiF12Hf1Dhs",
        "colab_type": "text",
        "cell_id": "bc831217aa4743ef8a3aa31593b05993",
        "deepnote_cell_type": "markdown"
      },
      "block_group": "c552865f2d7c4d89932af920f060778c"
    },
    {
      "cell_type": "code",
      "source": "import numpy as np\nfrom pydrake.all import StartMeshcat, namedview\n\nfrom manipulation.exercises.grader import Grader\nfrom manipulation.exercises.robot.test_hardware_station_io import TestHardwareStationIO\nfrom manipulation.station import LoadScenario, MakeHardwareStation\nfrom manipulation.utils import RenderDiagram",
      "metadata": {
        "lines_to_end_of_cell_marker": 2,
        "cell_id": "73ae243ff4494c5a84417c5280d25b5e",
        "deepnote_cell_type": "code"
      },
      "outputs": [],
      "outputs_reference": null,
      "execution_count": null,
      "block_group": "b2b0cba84a9c4d4a83e64358042a1ca4",
      "content_dependencies": null
    },
    {
      "cell_type": "code",
      "source": "meshcat = StartMeshcat()",
      "metadata": {
        "cell_id": "c69594e46fb841fab9f6be65a2b2328b",
        "deepnote_cell_type": "code"
      },
      "outputs": [],
      "outputs_reference": null,
      "execution_count": null,
      "block_group": "19f17136a89f48e4b914ea62a03c1ee5",
      "content_dependencies": null
    },
    {
      "cell_type": "markdown",
      "source": "## Access System Input/Output Values\nIn this exercise, you will explore the [`HardwareStation`](http://manipulation.mit.edu/robot.html#hardware_station) that was mentioned during the lecture. You should recall that the orange ports are the ones that do not exist for the actual hardware platform.\n\n<html>\n<table align=\"center\" cellpadding=\"0\" cellspacing=\"0\"><tbody><tr align=\"center\"><td style=\"vertical-align:middle\"><table cellspacing=\"0\" cellpadding=\"0\"><tbody><tr><td align=\"right\" style=\"padding:5px 0px 5px 0px\">iiwa.position→</td></tr><tr><td align=\"right\" style=\"padding:5px 0px 5px 0px\">iiwa.torque→</td></tr><tr><td align=\"right\" style=\"padding:5px 0px 5px 0px\">wsg.position→</td></tr><tr><td align=\"right\" style=\"padding:5px 0px 5px 0px\">wsg.force_limit (optional)→</td></tr></tbody></table></td><td align=\"center\" style=\"border:solid;padding-left:20px;padding-right:20px;vertical-align:middle\" bgcolor=\"#F0F0F0\"><a href=\"https://github.com/RussTedrake/manipulation/blob/ceb817b527cbf1826c5b9a573ffbef415cb0f013/manipulation/scenarios.py#L453\">HardwareStation</a></td><td style=\"vertical-align:middle\"><table cellspacing=\"0\" cellpadding=\"0\"><tbody><tr><td align=\"left\" style=\"padding:5px 0px 5px 0px\">→ iiwa.position_commanded</td></tr><tr><td align=\"left\" style=\"padding:5px 0px 5px 0px\">→ iiwa.position_measured</td></tr><tr><td align=\"left\" style=\"padding:5px 0px 5px 0px\">→ iiwa.velocity_estimated</td></tr><tr><td align=\"left\" style=\"padding:5px 0px 5px 0px\">→ iiwa.state_estimated</td></tr><tr><td align=\"left\" style=\"padding:5px 0px 5px 0px\">→ iiwa.torque_commanded</td></tr><tr><td align=\"left\" style=\"padding:5px 0px 5px 0px\">→ iiwa.torque_measured</td></tr><tr><td align=\"left\" style=\"padding:5px 0px 5px 0px\">→ iiwa.torque_external</td></tr><tr><td align=\"left\" style=\"padding:5px 0px 5px 0px\">→ wsg.state_measured</td></tr><tr><td align=\"left\" style=\"padding:5px 0px 5px 0px\">→ wsg.force_measured</td></tr><tr><td align=\"left\" style=\"padding:5px 0px 5px 0px\">→ camera_[NAME].rgb_image</td></tr><tr><td align=\"left\" style=\"padding:5px 0px 5px 0px\">→ camera_[NAME].depth_image</td></tr><tr><td align=\"left\" style=\"padding:5px 0px 5px 0px\">→ <b style=\"color:orange\">camera_[NAME].label_image</b></td></tr><tr><td align=\"left\" style=\"padding:5px 0px 5px 0px\">→ ...</td></tr><tr><td align=\"left\" style=\"padding:5px 0px 5px 0px\">→ camera_[NAME].rgb_image</td></tr><tr><td align=\"left\" style=\"padding:5px 0px 5px 0px\">→ camera_[NAME].depth_image</td></tr><tr><td align=\"left\" style=\"padding:5px 0px 5px 0px\">→ <b style=\"color:orange\">camera_[NAME].label_image</b></td></tr><tr><td align=\"left\" style=\"padding:5px 0px 5px 0px\">→ <b style=\"color:orange\">query_object</b></td></tr><tr><td align=\"left\" style=\"padding:5px 0px 5px 0px\">→ <b style=\"color:orange\">contact_results</b></td></tr><tr><td align=\"left\" style=\"padding:5px 0px 5px 0px\">→ <b style=\"color:orange\">plant_continuous_state</b></td></tr><tr><td align=\"left\" style=\"padding:5px 0px 5px 0px\">→ <b style=\"color:orange\">body_poses</b></td></tr></tbody></table></td></tr></tbody></table>\n</html>\n\nNow we construct a `HardwareStation` object and finalize the system setting. To get a sense of what this hardware station scenario looks like, you can open the meshcat viewer from the generated link as usual. There should be a bookshelf and a Kuka arm with a gripper attached (it might take a few seconds to load).\n\nNOTE: The above iiwa input ports are for the default `position_and_torque` control mode. The `iiwa.torque` port does not exist in the `position_only`\ncontrol mode and the `iiwa.position` port does not exist in the `torque_only` control mode. ",
      "metadata": {
        "id": "bClJCCHTKBb5",
        "colab_type": "text",
        "cell_id": "dc2887a65537475980ad05eea1be12f7",
        "deepnote_cell_type": "markdown"
      },
      "block_group": "24016f9c17634f908aee9e33e370b1b2"
    },
    {
      "cell_type": "code",
      "source": "scenario_data = \"\"\"\ndirectives:\n- add_directives:\n    file: package://manipulation/clutter.dmd.yaml\nmodel_drivers:\n    iiwa: !IiwaDriver\n      hand_model_name: wsg\n    wsg: !SchunkWsgDriver {}\n\"\"\"\nscenario = LoadScenario(data=scenario_data)\nstation = MakeHardwareStation(scenario, meshcat=meshcat)\ncontext = station.CreateDefaultContext()\n\nstation.GetInputPort(\"iiwa.position\").FixValue(context, np.zeros(7))\nstation.GetInputPort(\"iiwa.torque\").FixValue(context, np.zeros(7))\nstation.GetInputPort(\"wsg.position\").FixValue(context, [0.1])\nstation.ForcedPublish(context)",
      "metadata": {
        "id": "SN1HkYCy8VJo",
        "colab": {},
        "colab_type": "code",
        "cell_id": "ce8d2a7bc67d49ccb11704dbd3aa25d4",
        "deepnote_cell_type": "code"
      },
      "outputs": [],
      "outputs_reference": null,
      "execution_count": null,
      "block_group": "dcc82831293b4c63bb3dac47b93cfbfa",
      "content_dependencies": null
    },
    {
      "cell_type": "markdown",
      "source": "[**Context**](https://drake.mit.edu/pydrake/pydrake.systems.framework.html?highlight=context#pydrake.systems.framework.Context_) is an abstract class template that represents all the typed values that are used in a System’s computations: time, numeric-valued input ports, numerical state, and numerical parameters. There are also type-erased abstract state variables, abstract-valued input ports, abstract parameters, and a double accuracy setting. It is important to note that a **Context** is designed to be used only with the System that created it. State and Parameter data can be copied between contexts for compatible systems as necessary. One of the most common mistakes is to pass the wrong context. Most methods in Drake should throw an error if you pass a context from the wrong system, but a few do not perform this check yet.\n\nIn the cell below, we first create a root context from the diagram, and then we retrieve the contexts of the subsystems from the root context.",
      "metadata": {
        "id": "82VsgQ938k7v",
        "colab_type": "text",
        "cell_id": "cf9442573d0a4a669fc796027eb745fc",
        "deepnote_cell_type": "markdown"
      },
      "block_group": "55b3b8a0bc5f4a64bcbbb71a5e4d0cfb"
    },
    {
      "cell_type": "code",
      "source": "# initialize context\nstation_context = station.CreateDefaultContext()\nplant = station.GetSubsystemByName(\"plant\")\nplant_context = plant.GetMyContextFromRoot(station_context)",
      "metadata": {
        "id": "BS7uvKcIjwp0",
        "colab": {},
        "colab_type": "code",
        "cell_id": "646feeb5429a42fc88ec1acf73fb4b54",
        "deepnote_cell_type": "code"
      },
      "outputs": [],
      "outputs_reference": null,
      "execution_count": null,
      "block_group": "f84df075d90c459d92e532e26ff1c53a",
      "content_dependencies": null
    },
    {
      "cell_type": "markdown",
      "source": "In this exercise, you will familiarize yourself with the input and output mechanism from the hardware station system. Remember you can always generate a schematic view of your system by running the cell below. By clicking the \"+\" sign on the manipulation_station, you can get a more detailed view of the diverse modules within the hardware station. (You might need to run the cell twice to see the diagram)",
      "metadata": {
        "id": "_AuF4TWGlbFp",
        "colab_type": "text",
        "cell_id": "2dd9a5ac32264301817c92f4f9f35377",
        "deepnote_cell_type": "markdown"
      },
      "block_group": "fc24479a3bdf4c9596e3ea29dce294bd"
    },
    {
      "cell_type": "code",
      "source": "RenderDiagram(station, max_depth=1)",
      "metadata": {
        "id": "OvSvFZH4_9Ni",
        "colab": {},
        "colab_type": "code",
        "cell_id": "989702e2c2a14dd5845e773c07345257",
        "deepnote_cell_type": "code"
      },
      "outputs": [],
      "outputs_reference": null,
      "execution_count": null,
      "block_group": "047c9006db344211b6c85ef2e52ac945",
      "content_dependencies": null
    },
    {
      "cell_type": "markdown",
      "source": "Now if we set the joint position of the Kuka arm, we should expect to get the same values from the `iiwa.position_measured port`, which can be found from the output ports of `station` object. Below we demonstrate how this can be done using Drake's syntax. You may also find it useful to review the `System` class documentation [here](https://drake.mit.edu/pydrake/pydrake.systems.framework.html?highlight=output_port#pydrake.systems.framework.System_).",
      "metadata": {
        "id": "FKDGlrCFqb15",
        "colab_type": "text",
        "cell_id": "9baf6e1286ec4a9889511d8d68ebd26f",
        "deepnote_cell_type": "markdown"
      },
      "block_group": "a504823e45324b7090a86fe2451f986f"
    },
    {
      "cell_type": "code",
      "source": "# provide initial states\nq0 = np.array([-1.57, 0.1, 0, -1.2, 0, 1.6, 0])\niiwa = plant.GetModelInstanceByName(\"iiwa\")\n# set the joint positions of the kuka arm\nplant.SetPositions(plant_context, iiwa, q0)\n# examine the output port\nstation.GetOutputPort(\"iiwa.position_measured\").Eval(station_context)",
      "metadata": {
        "id": "PwWvrx1_cPLl",
        "colab": {},
        "colab_type": "code",
        "cell_id": "c0580bd847294825ba24024dad79ca80",
        "deepnote_cell_type": "code"
      },
      "outputs": [],
      "outputs_reference": null,
      "execution_count": null,
      "block_group": "31bc0282a9d54e33b18d75f8a484481a",
      "content_dependencies": null
    },
    {
      "cell_type": "markdown",
      "source": "Note that the [output port](https://drake.mit.edu/pydrake/pydrake.systems.framework.html?highlight=outputport#pydrake.systems.framework.OutputPort) named `iiwa.position_measured` is first retrieved from the station and then evaluated using **Eval** method. This is a very common approach to read the values of a selected output port.\n",
      "metadata": {
        "cell_id": "d6d19cbbcb7b4ce7a420ab0d3d2eb1c9",
        "deepnote_cell_type": "markdown"
      },
      "block_group": "c42247ee234242168d9aaa6c82effd6c"
    },
    {
      "cell_type": "markdown",
      "source": "*Drake advice:* use `namedview` to refer to positions by name.",
      "metadata": {
        "cell_id": "c7f0b17d33354be2bc43d96910668831",
        "deepnote_cell_type": "markdown"
      },
      "block_group": "47d8afc97bc042cca9a55dcb9dd6270d"
    },
    {
      "cell_type": "code",
      "source": "IiwaPositionView = namedview(\n    \"IiwaPositions\",\n    plant.GetPositionNames(iiwa, always_add_suffix=False),\n)\nq0 = IiwaPositionView.Zero()\nq0.iiwa_joint_1 = -1.57\nq0.iiwa_joint_2 = 0.1\nq0.iiwa_joint_4 = -1.2\nq0.iiwa_joint_6 = 1.6\nprint(q0)\nplant.SetPositions(plant_context, iiwa, q0[:])",
      "metadata": {
        "cell_id": "78a16aae774149c2a3851333832d7743",
        "deepnote_cell_type": "code"
      },
      "outputs": [],
      "outputs_reference": null,
      "execution_count": null,
      "block_group": "56776b336306477a886639607ad882af",
      "content_dependencies": null
    },
    {
      "cell_type": "markdown",
      "source": "Sometimes, when working directly with a `MultibodyPlant`, you may retrieve the joint angles directly from the **plant**. But this will not work when we're running on real hardware. Use the input and output ports to properly leverage the \"sim 2 real\" abstraction.",
      "metadata": {
        "id": "8d7sH3kzrnYL",
        "colab_type": "text",
        "cell_id": "0eca15327ab64d028bc73871343befa6",
        "deepnote_cell_type": "markdown"
      },
      "block_group": "5bf9cceec96144c09b87f6ffd5357748"
    },
    {
      "cell_type": "code",
      "source": "print(plant.GetPositions(plant_context, iiwa))",
      "metadata": {
        "id": "gbpZuVa_axTY",
        "colab": {},
        "colab_type": "code",
        "cell_id": "c27634fc944a47899113535918db8935",
        "deepnote_cell_type": "code"
      },
      "outputs": [],
      "outputs_reference": null,
      "execution_count": null,
      "block_group": "d776f1565be942bc88eb5cc16374d85e",
      "content_dependencies": null
    },
    {
      "cell_type": "markdown",
      "source": "These examples show you how to manually set and get the positions from the command line, but please note that when you are writing a controller in Drake, you will typically not use these directly. Instead you will be constructing a `Diagram` with many `System`s whose output ports are connected to the input ports of the `HardwareStation`, and whose input ports are connected to the output ports of the `HardwareStation`.",
      "metadata": {
        "cell_id": "38c6485fd4424db68d295ce09b6f1251",
        "deepnote_cell_type": "markdown"
      },
      "block_group": "09f0883e91f94f8fbdca9a9538759004"
    },
    {
      "cell_type": "markdown",
      "source": "# Exercise a: Code Submission\nNow, it's your time to code! Use `GetOutputPort` and `Eval` to retrieve the joint velocities from the `iiwa.velocity_estimated` output port. Note that we have set the velocities for you.",
      "metadata": {
        "id": "Ey-t3M_Usun3",
        "colab_type": "text",
        "cell_id": "5fe9d1ba543242d9bf09f5c105eba211",
        "deepnote_cell_type": "markdown"
      },
      "block_group": "c915194d346c4e1993bda5a73af2253a"
    },
    {
      "cell_type": "code",
      "source": "plant.SetVelocities(\n    plant_context,\n    iiwa,\n    np.zeros(\n        7,\n    ),\n)",
      "metadata": {
        "id": "A34DVaMRcVKV",
        "colab": {},
        "colab_type": "code",
        "cell_id": "43312da850e24068840aca881734cbdf",
        "deepnote_cell_type": "code"
      },
      "outputs": [],
      "outputs_reference": null,
      "execution_count": null,
      "block_group": "562f56ae288748fcb6f93cea9d767c38",
      "content_dependencies": null
    },
    {
      "cell_type": "markdown",
      "source": "Below, `get_velocity(station, station_context)` is the function you must modify to query values from `iiwa.velocity_estimated`.",
      "metadata": {
        "id": "449kizGfUuwR",
        "colab_type": "text",
        "cell_id": "8df8bc6983b54b9ebbe98375d0c860c8",
        "deepnote_cell_type": "markdown"
      },
      "block_group": "d199f23c1cfb469b9a8c4d2711c51024"
    },
    {
      "cell_type": "code",
      "source": "def get_velocity(station, station_context):\n    \"\"\"\n    fill in your code in this method\n    \"\"\"\n    velocity_estimated = None\n    return velocity_estimated",
      "metadata": {
        "id": "RWa-mQwKRG4z",
        "colab": {},
        "colab_type": "code",
        "cell_id": "29cf5706035b47f08b205fcbd7d6d9d7",
        "deepnote_cell_type": "code"
      },
      "outputs": [],
      "outputs_reference": null,
      "execution_count": null,
      "block_group": "8ea49b7c82a649628c64451494e88d89",
      "content_dependencies": null
    },
    {
      "cell_type": "markdown",
      "source": "You can check if you got the implementation correct by running the below autograder.",
      "metadata": {
        "id": "X8FLrTP-U3bH",
        "colab_type": "text",
        "cell_id": "1c58826155bb456c84c503847b601fcc",
        "deepnote_cell_type": "markdown"
      },
      "block_group": "b34eb2e0b629424197eadc9c26634f48"
    },
    {
      "cell_type": "code",
      "source": "Grader.grade_output([TestHardwareStationIO], [locals()], \"results.json\")\nGrader.print_test_results(\"results.json\")",
      "metadata": {
        "id": "fVShh5kyRG44",
        "colab": {},
        "colab_type": "code",
        "cell_id": "8d076ccd61064ee6b7fcac7bf17d402d",
        "deepnote_cell_type": "code"
      },
      "outputs": [],
      "outputs_reference": null,
      "execution_count": null,
      "block_group": "e9e905d4c8014d4ea03a89582ce7e7c9",
      "content_dependencies": null
    },
    {
      "cell_type": "markdown",
      "source": "Please note that the `iiwa.position_commanded` and the `iiwa.position_measured` are NOT the same variable. The `iiwa.position_commanded` are the commanded positions sent to the robot, whereas the `iiwa.positions` are the current positions of the simulated robot. We also expect to have different values for the feed-forward torque (system input) and the commanded torque (system output). Next, you will investigate why. First, let us provide a zero feed-forward torque to the `iiwa.torque` port.",
      "metadata": {
        "id": "EEbQAd8SuvzQ",
        "colab_type": "text",
        "cell_id": "9a45000338ef45afb9a8f81516ddaa4d",
        "deepnote_cell_type": "markdown"
      },
      "block_group": "3a93ed7d98054498a97475cb8dbc981d"
    },
    {
      "cell_type": "code",
      "source": "station.GetInputPort(\"iiwa.position\").FixValue(station_context, np.zeros(7))\nstation.GetInputPort(\"iiwa.torque\").FixValue(\n    station_context,\n    np.zeros(\n        7,\n    ),\n)\ntau_no_ff = station.GetOutputPort(\"iiwa.torque_commanded\").Eval(station_context)\nprint(\n    \"feedforward torque: {}\".format(\n        np.zeros(\n            7,\n        )\n    )\n)\nprint(\"commanded torque with no feedforward torque:{}\".format(tau_no_ff))",
      "metadata": {
        "id": "gDV6v7YMlKzl",
        "colab": {},
        "colab_type": "code",
        "cell_id": "7311f15b26b84d788463771b00f0902f",
        "deepnote_cell_type": "code"
      },
      "outputs": [],
      "outputs_reference": null,
      "execution_count": null,
      "block_group": "7cedff09d67c49c78eefb3cb32fe885a",
      "content_dependencies": null
    },
    {
      "cell_type": "markdown",
      "source": "Now try the same experiment with a non-zero feedforward torque as shown below.",
      "metadata": {
        "id": "WDP0uoxtvtrq",
        "colab_type": "text",
        "cell_id": "1c66ce45a50948398735441ced1f7d4b",
        "deepnote_cell_type": "markdown"
      },
      "block_group": "5b76a2e156be4a3f8938d466ea12738f"
    },
    {
      "cell_type": "code",
      "source": "tau_ff = np.linspace(3.1, 3.7, 7)\nprint(\"feedforward torque: {}\".format(tau_ff))\nstation.GetInputPort(\"iiwa.torque\").FixValue(station_context, tau_ff)\ntorque_commanded = station.GetOutputPort(\"iiwa.torque_commanded\").Eval(station_context)\nprint(\"the commanded torque: {}\".format(torque_commanded))",
      "metadata": {
        "id": "zRxNOJKTfDbT",
        "colab": {},
        "colab_type": "code",
        "cell_id": "63239ec0cb744e84bc362ba2c77f6320",
        "deepnote_cell_type": "code"
      },
      "outputs": [],
      "outputs_reference": null,
      "execution_count": null,
      "block_group": "74f55b10e00a42eaba01bd5138f66df0",
      "content_dependencies": null
    },
    {
      "cell_type": "markdown",
      "source": "# Exercise b: Written Problem.\nBelow, we have a question for you.\n\n**In this exercise, please explain what causes the discrepancy between the feedforward torque and the commanded torque.**\n\nHINT: can you find any relationship among *tau_ff*, *tau_no_ff*, *torque_commanded*?",
      "metadata": {
        "id": "WKh2ETazw5-W",
        "colab_type": "text",
        "cell_id": "d46b964aad61465291e52dc1c1758959",
        "deepnote_cell_type": "markdown"
      },
      "block_group": "117e6218b7a346e1a55e730e419feb1e"
    },
    {
      "cell_type": "markdown",
      "source": "## Your Answer\n\nAnswer the Question here, and copy-paste to the Gradescope 'written submission' section!\n",
      "metadata": {
        "id": "U2cjfMsITgVF",
        "colab_type": "text",
        "cell_id": "c027b608a43241f7bda24c2160103b38",
        "deepnote_cell_type": "markdown"
      },
      "block_group": "8ed8048163b342b7a441a22685beb9ea"
    },
    {
      "cell_type": "markdown",
      "source": "## How will this notebook be graded?",
      "metadata": {
        "id": "SCvUhPHMTqiH",
        "colab_type": "text",
        "cell_id": "a0799eb6daaa48a0a3861e797dd76238",
        "deepnote_cell_type": "markdown"
      },
      "block_group": "c678d23021d249849b05170f22c369ec"
    },
    {
      "cell_type": "markdown",
      "source": "We will evaluate the local functions in the notebook to see if the function behaves as we have expected. For this exercise, the rubric is as follows:\n- [5pts] `get_velocity` must be implemented correctly.\n- [5pts] You must answer correctly why there is a difference between feed-forward torque and commanded torque.",
      "metadata": {
        "id": "l5OAsgvJTt1M",
        "colab_type": "text",
        "cell_id": "9d4c690ea86f4ac09f857dc6a7346f4f",
        "deepnote_cell_type": "markdown"
      },
      "block_group": "df86b86718954ef5aff6504f03970d9c"
    },
    {
      "cell_type": "markdown",
      "source": "## Additional Note.",
      "metadata": {
        "id": "w48SCV0HUbcJ",
        "colab_type": "text",
        "cell_id": "3f984f3e83c84694bb69779ec8dfe902",
        "deepnote_cell_type": "markdown"
      },
      "block_group": "01ee415a69d346ecae4dbe1f330d20b9"
    },
    {
      "cell_type": "markdown",
      "source": "So far we have not looked into the outputs of simulated camera sensors. Fortunately, accessing the camera data can be done in an almost exactly the same way as we have shown above. We will get to it soon!",
      "metadata": {
        "id": "R324XG0CvLiN",
        "colab_type": "text",
        "cell_id": "a303e803d455487dbc8ca8938d423303",
        "deepnote_cell_type": "markdown"
      },
      "block_group": "2c8890b8dfa545caa915e80521505a4a"
    },
    {
      "cell_type": "markdown",
      "source": "<a style='text-decoration:none;line-height:16px;display:flex;color:#5B5B62;padding:10px;justify-content:end;' href='https://deepnote.com?utm_source=created-in-deepnote-cell&projectId=734a308b-b08c-4099-95e1-334644e7d9c6' target=\"_blank\">\n<img alt='Created in deepnote.com' style='display:inline;max-height:16px;margin:0px;margin-right:7.5px;' src='data:image/svg+xml;base64,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' > </img>\nCreated in <span style='font-weight:600;margin-left:4px;'>Deepnote</span></a>",
      "metadata": {
        "created_in_deepnote_cell": true,
        "deepnote_cell_type": "markdown"
      }
    }
  ],
  "nbformat": 4,
  "nbformat_minor": 0,
  "metadata": {
    "deepnote_notebook_id": "8603598884f240809bac760555bb30c2",
    "deepnote_execution_queue": []
  }
}