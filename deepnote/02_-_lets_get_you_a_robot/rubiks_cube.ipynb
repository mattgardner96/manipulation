{
  "cells": [
    {
      "cell_type": "markdown",
      "source": "This notebook provides examples to go along with the [textbook](http://manipulation.csail.mit.edu/robot.html).  I recommend having both windows open, side-by-side!",
      "metadata": {
        "id": "EgiF12Hf1Dhs",
        "colab_type": "text",
        "cell_id": "b12aa86adc61437f9f68b03ee9747cbf",
        "deepnote_cell_type": "markdown"
      },
      "block_group": "a40ad0ba1b1a4a71bf9e25f6d3ee86fd"
    },
    {
      "cell_type": "code",
      "source": "from itertools import product\n\nimport numpy as np\nfrom pydrake.all import (\n    AddMultibodyPlantSceneGraph,\n    ContactVisualizer,\n    DiagramBuilder,\n    ExternallyAppliedSpatialForce,\n    LeafSystem,\n    List,\n    MeshcatVisualizer,\n    ModelVisualizer,\n    Parser,\n    Simulator,\n    SpatialForce,\n    StartMeshcat,\n    Value,\n)\n\nfrom manipulation import ConfigureParser, FindResource, running_as_notebook",
      "metadata": {
        "id": "eeMrMI0-1Dhu",
        "colab": {},
        "colab_type": "code",
        "cell_id": "e215573b3a654dbf97d856f8d727274e",
        "deepnote_cell_type": "code"
      },
      "outputs": [],
      "outputs_reference": null,
      "execution_count": null,
      "block_group": "b2d5d5cf705e48d1af2abf2e743e142e",
      "content_dependencies": null
    },
    {
      "cell_type": "code",
      "source": "# Start the visualizer.\nmeshcat = StartMeshcat()",
      "metadata": {
        "cell_id": "5ada7b375d7e477d9599335211242dc3",
        "deepnote_cell_type": "code"
      },
      "outputs": [],
      "outputs_reference": null,
      "execution_count": null,
      "block_group": "6658bb465e9e4b86a3681bd1ddb96181",
      "content_dependencies": null
    },
    {
      "cell_type": "markdown",
      "source": "# Rubik's Cube (2x2)\n\nTODO(russt): Use the quaternion ball joint when it's available:\nhttps://github.com/RobotLocomotion/drake/issues/12404\n(rotating around y can hit a singularity)",
      "metadata": {
        "id": "wJWL-ldv5REK",
        "colab_type": "text",
        "cell_id": "ec9b098b847c4b98aaaf04e87c508685",
        "deepnote_cell_type": "markdown"
      },
      "block_group": "24d98f09c0ee4d0aa0813d0133a439f9"
    },
    {
      "cell_type": "code",
      "source": "cube_file = \"package://manipulation/rubiks_cube_2_by_2.sdf\"\n\nmeshcat.Delete()\n\nvisualizer = ModelVisualizer(meshcat=meshcat)\nConfigureParser(visualizer.parser())\nvisualizer.parser().AddModelsFromUrl(cube_file)\n\nvisualizer.Run(loop_once=not running_as_notebook)\n\nmeshcat.DeleteAddedControls()",
      "metadata": {
        "id": "ILYLouFTjv6e",
        "colab": {},
        "colab_type": "code",
        "cell_id": "aa2de0460e0c4eb7b482eeab9fa6c898",
        "deepnote_cell_type": "code"
      },
      "outputs": [],
      "outputs_reference": null,
      "execution_count": null,
      "block_group": "ae91b6e26ff1413382f6116b66288db7",
      "content_dependencies": null
    },
    {
      "cell_type": "code",
      "source": "rotate_about = \"x\"\n# rotate_about = 'y'\n# rotate_about = 'z'\n\nmeshcat.Delete()\nbuilder = DiagramBuilder()\n\nplant, scene_graph = AddMultibodyPlantSceneGraph(builder, 0.001)\nparser = Parser(plant)\nConfigureParser(parser)\nparser.AddModelsFromUrl(cube_file)\n\nplant.WeldFrames(plant.world_frame(), plant.GetFrameByName(\"center\"))\nplant.Finalize()\n\nvisualizer = MeshcatVisualizer.AddToBuilder(builder, scene_graph, meshcat)\nContactVisualizer.AddToBuilder(builder, plant, meshcat)\n# logger = LogVectorOutput(plant.get_state_output_port(), builder)\n\n\nclass CubePusher(LeafSystem):\n    def __init__(self):\n        LeafSystem.__init__(self)\n        forces_cls = Value[List[ExternallyAppliedSpatialForce]]\n        self.DeclareAbstractOutputPort(\n            \"applied_force\", lambda: forces_cls(), self.CalcOutput\n        )\n\n    def CalcOutput(self, context, output):\n        forces = []\n        for x, y, z in product([0, 1], repeat=3):\n            force = ExternallyAppliedSpatialForce()\n            force.body_index = plant.GetBodyByName(f\"box_{x}_{y}_{z}\").index()\n            # shift from [0, 1] to [-1, 1]\n            x = 2 * x - 1\n            y = 2 * y - 1\n            z = 2 * z - 1\n            force.p_BoBq_B = -0.0125 * np.array([x, y, z])  # world 0, 0, 0\n            if rotate_about == \"x\":\n                force.F_Bq_W = SpatialForce(\n                    tau=-0.2 * np.array([1 if x < 0 else -1, 0, 0]),\n                    f=[0, 0, 0],\n                )\n            elif rotate_about == \"y\":\n                force.F_Bq_W = SpatialForce(\n                    tau=0.2 * np.array([0, 1 if y > 0 else -1, 0]), f=[0, 0, 0]\n                )\n            else:\n                force.F_Bq_W = SpatialForce(\n                    tau=0.2 * np.array([0, 0, 1 if z > 0 else -1]), f=[0, 0, 0]\n                )\n        forces.append(force)\n        output.set_value(forces)\n\n\npusher = builder.AddSystem(CubePusher())\nbuilder.Connect(pusher.get_output_port(), plant.get_applied_spatial_force_input_port())\n\ndiagram = builder.Build()\n\nsimulator = Simulator(diagram)\ncontext = simulator.get_context()\n\nif running_as_notebook:\n    simulator.set_target_realtime_rate(1.0)\n    simulator.AdvanceTo(10)\nelse:\n    simulator.AdvanceTo(0.1)",
      "metadata": {
        "id": "5SjOClhTltPk",
        "colab": {},
        "colab_type": "code",
        "cell_id": "eba6fbc62cac4d9ab9a2faaba3d121e3",
        "deepnote_cell_type": "code"
      },
      "outputs": [],
      "outputs_reference": null,
      "execution_count": null,
      "block_group": "ce02d9c8e479466292b820ccca7d00c0",
      "content_dependencies": null
    },
    {
      "cell_type": "markdown",
      "source": "# Rubik's Cube (3x3)",
      "metadata": {
        "cell_id": "cd46644217dc46fc836df05c5e681b12",
        "deepnote_cell_type": "markdown"
      },
      "block_group": "a6f51e3f552d47238a5ac9884df01778"
    },
    {
      "cell_type": "code",
      "source": "def generate_3_by_3():\n    filename = FindResource(\"models/rubiks_cube.sdf\")\n    box_size = 0.025\n    box_mass = 0.03\n    inertia = box_mass * (box_size**2) / 6\n    inertia = inertia * 100  # scale inertia to help numerics\n\n    with open(filename, \"w\") as f:\n        f.write(\n            \"\"\"\n<?xml version=\"1.0\"?>\n<!-- Autogenerated by rubiks_cube.ipynb -->\n<sdf version=\"1.7\">\n  <model name=\"rubiks_cube\">\n    <link name=\"center\"/>\n\"\"\"\n        )\n\n        # TODO(russt): I could reduce the dofs for the center cubes, since\n        # box_m1_0_0 and box_1_0_0, must have their relative poses\n        # constrained up to a single-axis rotation, etc.\n\n        # TODO(russt): Currently I'm adding some faces on the inside of the\n        # internal blocks (e.g. the x face when x==0). They are inelegant and\n        # mildly inefficiently, but won't be visible.\n        for x, y, z in product([-1, 0, 1], repeat=3):\n            if x == 0 and y == 0 and z == 0:\n                # No cube in the very center\n                continue\n            sx = x if x >= 0 else \"m1\"\n            sy = y if y >= 0 else \"m1\"\n            sz = z if z >= 0 else \"m1\"\n            suffix = f\"_{sx}_{sy}_{sz}\"\n            x_color = [0, 0, 1] if x < 0 else [0, 1, 0]\n            y_color = [1, 0.5, 0] if y < 0 else [1, 0, 0]\n            z_color = [1, 1, 0] if z < 0 else [1, 1, 1]\n            f.write(\n                f\"\"\"\n    <link name=\"box{suffix}\">\n      <pose>{box_size*x} {box_size*y} {box_size*z} 0 0 0</pose>\n      <inertial>\n        <mass>0.03</mass>\n        <inertia>\n          <ixx>0.0003125</ixx>\n          <ixy>0.0</ixy>\n          <ixz>0.0</ixz>\n          <iyy>0.0003125</iyy>\n          <iyz>0.0</iyz>\n          <izz>0.0003125</izz>\n        </inertia>\n      </inertial>\n      <collision name=\"collision\">\n        <geometry>\n          <box>\n            <size>{box_size} {box_size} {box_size}</size>\n          </box>\n        </geometry>\n      </collision>\n      <visual name=\"black\">\n        <geometry>\n          <box>\n            <size>{box_size} {box_size} {box_size}</size>\n          </box>\n        </geometry>\n        <material>\n          <diffuse>0 0 0 1</diffuse>\n        </material>\n      </visual>\n      <visual name=\"x\">\n        <pose>{x*box_size/2} 0 0 0 0 0</pose>\n        <geometry>\n          <box>\n            <size>0.0002 {box_size*4/5} {box_size*4/5}</size>\n          </box>\n        </geometry>\n        <material>\n          <diffuse>{x_color[0]} {x_color[1]} {x_color[2]} 1</diffuse>\n        </material>\n      </visual>\n      <visual name=\"y\">\n        <pose>0 {y*box_size/2} 0 0 0 0</pose>\n        <geometry>\n          <box>\n            <size>{box_size*4/5} 0.0002 {box_size*4/5}</size>\n          </box>\n        </geometry>\n        <material>\n          <diffuse>{y_color[0]} {y_color[1]} {y_color[2]} 1</diffuse>\n        </material>\n      </visual>\n      <visual name=\"z\">\n        <pose>0 0 {z*box_size/2} 0 0 0</pose>\n        <geometry>\n          <box>\n            <size>{box_size*4/5} {box_size*4/5} 0.0002</size>\n          </box>\n        </geometry>\n        <material>\n          <diffuse>{z_color[0]} {z_color[1]} {z_color[2]} 1</diffuse>\n        </material>\n      </visual>\n    </link>      \n    <joint name=\"ball{suffix}\" type=\"ball\">\n        <pose>{-x*box_size} {-y*box_size} {-z*box_size} 0 0 0</pose> <!-- in child frame -->\n        <parent>center</parent>\n        <child>box{suffix}</child>\n        <axis>\n            <dynamics><damping>0.1</damping></dynamics>\n            <limit><effort>0</effort></limit>\n        </axis>\n    </joint>\n\"\"\"\n            )\n\n        f.write(\n            \"\"\"\n  </model>\n</sdf>\n\"\"\"\n        )\n\n\nif running_as_notebook:\n    generate_3_by_3()",
      "metadata": {
        "cell_id": "f73b93cc187145309ba2720d771fd3d4",
        "deepnote_cell_type": "code"
      },
      "outputs": [],
      "outputs_reference": null,
      "execution_count": null,
      "block_group": "3db10130f4ed4c7ab84f45768d8cf01c",
      "content_dependencies": null
    },
    {
      "cell_type": "code",
      "source": "cube_file = \"package://manipulation/rubiks_cube.sdf\"\n\nmeshcat.Delete()\n\nvisualizer = ModelVisualizer(meshcat=meshcat)\nConfigureParser(visualizer.parser())\nvisualizer.parser().AddModelsFromUrl(cube_file)\n\nvisualizer.Run(loop_once=not running_as_notebook)\n\nmeshcat.DeleteAddedControls()",
      "metadata": {
        "cell_id": "d9c0adf54496457a96ea48b00a1e4ef7",
        "deepnote_cell_type": "code"
      },
      "outputs": [],
      "outputs_reference": null,
      "execution_count": null,
      "block_group": "41e72ffb33534f9a9fafa2e5116236e7",
      "content_dependencies": null
    },
    {
      "cell_type": "code",
      "source": "",
      "metadata": {
        "cell_id": "32445c66839b4541a8b6057439d71f13",
        "deepnote_cell_type": "code"
      },
      "outputs": [],
      "outputs_reference": null,
      "execution_count": null,
      "block_group": "b8ed89dd8f174714839e952c36df68ee",
      "content_dependencies": null
    },
    {
      "cell_type": "markdown",
      "source": "<a style='text-decoration:none;line-height:16px;display:flex;color:#5B5B62;padding:10px;justify-content:end;' href='https://deepnote.com?utm_source=created-in-deepnote-cell&projectId=734a308b-b08c-4099-95e1-334644e7d9c6' target=\"_blank\">\n<img alt='Created in deepnote.com' style='display:inline;max-height:16px;margin:0px;margin-right:7.5px;' src='data:image/svg+xml;base64,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' > </img>\nCreated in <span style='font-weight:600;margin-left:4px;'>Deepnote</span></a>",
      "metadata": {
        "created_in_deepnote_cell": true,
        "deepnote_cell_type": "markdown"
      }
    }
  ],
  "nbformat": 4,
  "nbformat_minor": 0,
  "metadata": {
    "deepnote_notebook_id": "dfde54dfdf4b480a96503a5e26a6a353",
    "deepnote_execution_queue": []
  }
}