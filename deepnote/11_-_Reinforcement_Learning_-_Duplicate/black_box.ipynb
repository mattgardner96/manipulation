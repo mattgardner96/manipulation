{
  "cells": [
    {
      "cell_type": "markdown",
      "source": "This notebook provides examples to go along with the [textbook](http://manipulation.csail.mit.edu/rl.html).  I recommend having both windows open, side-by-side!",
      "metadata": {
        "id": "EgiF12Hf1Dhs",
        "colab_type": "text",
        "cell_id": "c6324857cf3d4a219c0ad53b0e8c62e3",
        "deepnote_cell_type": "markdown"
      },
      "block_group": "a110babcb7434ee29319859bf69b5b33"
    },
    {
      "cell_type": "code",
      "source": "import numpy as np\nfrom pydrake.all import Rgba, RigidTransform, Sphere, StartMeshcat\n\n# Optional imports (these are heavy dependencies for just this one notebook)\n# TODO(russt): Consume nevergrad without the (heavy) bayesian-optimization\n# dependency.\nng_available = False\ntry:\n    import nevergrad as ng\n\n    ng_available = True\nexcept ImportError:\n    print(\"nevergrad not found.\")\n    print(\"Consider 'pip3 install nevergrad'.\")",
      "metadata": {
        "cell_id": "b55b8e0e3e7246379e233e92055c2d1b",
        "deepnote_cell_type": "code"
      },
      "outputs": [],
      "outputs_reference": null,
      "execution_count": null,
      "block_group": "2cf4cb8dd09d4a2ea7fab7c2a689f8b5",
      "content_dependencies": null
    },
    {
      "cell_type": "code",
      "source": "meshcat = StartMeshcat()",
      "metadata": {
        "cell_id": "1756a45a3e314d679c540d4e3ad0a965",
        "deepnote_cell_type": "code"
      },
      "outputs": [],
      "outputs_reference": null,
      "execution_count": null,
      "block_group": "e120659fd0dd4df4900794b5212b86a5",
      "content_dependencies": null
    },
    {
      "cell_type": "markdown",
      "source": "First, let's define a few interesting cost functions that have multiple local minima.",
      "metadata": {
        "cell_id": "836b5a296fe44e08871332382b0eaea2",
        "deepnote_cell_type": "markdown"
      },
      "block_group": "53e31a42bacd4c7f8898149a9615e5ff"
    },
    {
      "cell_type": "code",
      "source": "def three_hump_camel(x, y, path=None):\n    z = (2 * x**2 - 1.05 * x**4 + x**6 / 6 + x * y + y**2) / 4\n    if path:\n        pt = f\"{path}/{x}_{y}\"\n        meshcat.SetObject(pt, Sphere(0.01), Rgba(0, 0, 1, 1))\n        meshcat.SetTransform(pt, RigidTransform([x, y, z]))\n    return z\n\n\ndef plot_three_hump_camel():\n    X, Y = np.meshgrid(np.arange(-2.5, 2.5, 0.05), np.arange(-3, 3, 0.05))\n    Z = three_hump_camel(X, Y)\n    # TODO(russt): Finish the per-vertex coloring variant.\n    meshcat.PlotSurface(\"three_hump_camel\", X, Y, Z, wireframe=True)\n\n\ndef six_hump_camel(x, y, path=None):\n    z = x**2 * (4 - 2.1 * x**2 + x**4 / 3) + x * y + y**2 * (-4 + 4 * y**2)\n    if path:\n        pt = f\"{path}/{x}_{y}\"\n        meshcat.SetObject(pt, Sphere(0.01), Rgba(0, 0, 1, 1))\n        meshcat.SetTransform(pt, RigidTransform([x, y, z]))\n    return z\n\n\ndef plot_six_hump_camel():\n    X, Y = np.meshgrid(np.arange(-2, 2, 0.05), np.arange(-1.2, 1.2, 0.05))\n    Z = six_hump_camel(X, Y)\n    # TODO(russt): Finish the per-vertex coloring variant.\n    meshcat.PlotSurface(\"six_hump_camel\", X, Y, Z, wireframe=True)",
      "metadata": {
        "cell_id": "addc2715c3574854a9c98b3777efda40",
        "deepnote_cell_type": "code"
      },
      "outputs": [],
      "outputs_reference": null,
      "execution_count": null,
      "block_group": "b73dfd7d821645a08c927c30e3c25cec",
      "content_dependencies": null
    },
    {
      "cell_type": "markdown",
      "source": "# Black-box optimization\n\nLet's explore a few of the algorithms from Nevergrad on these simple cost landscapes",
      "metadata": {
        "cell_id": "dd2694a63992482a82528c300646242a",
        "deepnote_cell_type": "markdown"
      },
      "block_group": "6be7f33cd56a480dbc90aaf0f3517215"
    },
    {
      "cell_type": "code",
      "source": "if ng_available:\n    meshcat.Delete()\n    plot_six_hump_camel()\n\n    # Note: You can print nevergrad's available optimizers using\n    # print(sorted(ng.optimizers.registry.keys()))\n\n    # Uncomment some of these to try...\n    # solver='NGOpt'\n    # solver='RandomSearch'\n    solver = \"CMA\"\n    optimizer = ng.optimizers.registry[solver](parametrization=2, budget=100)\n    recommendation = optimizer.minimize(lambda x: six_hump_camel(x[0], x[1], \"NGOpt\"))\n    xstar = recommendation.value\n    meshcat.SetObject(\"recommendation\", Sphere(0.02), Rgba(0, 1, 0, 1))\n    meshcat.SetTransform(\n        \"recommendation\",\n        RigidTransform([xstar[0], xstar[1], six_hump_camel(xstar[0], xstar[1])]),\n    )\n    print(xstar)  # recommended value",
      "metadata": {
        "cell_id": "0610d1c622e641c1ae75a036ac5c3c05",
        "deepnote_cell_type": "code"
      },
      "outputs": [],
      "outputs_reference": null,
      "execution_count": null,
      "block_group": "83a5f998e6ad403699206d4bf69fe50f",
      "content_dependencies": null
    },
    {
      "cell_type": "markdown",
      "source": "<a style='text-decoration:none;line-height:16px;display:flex;color:#5B5B62;padding:10px;justify-content:end;' href='https://deepnote.com?utm_source=created-in-deepnote-cell&projectId=367d7a89-1517-48ab-a267-79886422c5d7' target=\"_blank\">\n<img alt='Created in deepnote.com' style='display:inline;max-height:16px;margin:0px;margin-right:7.5px;' src='data:image/svg+xml;base64,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' > </img>\nCreated in <span style='font-weight:600;margin-left:4px;'>Deepnote</span></a>",
      "metadata": {
        "created_in_deepnote_cell": true,
        "deepnote_cell_type": "markdown"
      }
    }
  ],
  "nbformat": 4,
  "nbformat_minor": 0,
  "metadata": {
    "deepnote_notebook_id": "0283fb21fef7481f9dc357c1a1db4a18"
  }
}