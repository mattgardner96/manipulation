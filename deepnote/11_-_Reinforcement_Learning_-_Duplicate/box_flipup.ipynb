{
  "cells": [
    {
      "cell_type": "markdown",
      "source": "This notebook provides examples to go along with the [textbook](http://manipulation.csail.mit.edu/rl.html).  I recommend having both windows open, side-by-side!",
      "metadata": {
        "id": "EgiF12Hf1Dhs",
        "colab_type": "text",
        "cell_id": "34fa789617e8460a8c936d25d606b0cd",
        "deepnote_cell_type": "markdown"
      },
      "block_group": "1ad39fab2af34664a8300f52d89e36ef"
    },
    {
      "cell_type": "code",
      "source": "import gymnasium as gym\nimport numpy as np\nimport torch\nfrom psutil import cpu_count\nfrom pydrake.all import StartMeshcat\n\nimport manipulation.envs.box_flipup  # no-member\nfrom manipulation.utils import FindDataResource, RenderDiagram, running_as_notebook\n\nnum_cpu = int(cpu_count() / 2) if running_as_notebook else 2\n\nfrom stable_baselines3 import PPO\nfrom stable_baselines3.common.env_util import make_vec_env\nfrom stable_baselines3.common.vec_env import DummyVecEnv, SubprocVecEnv",
      "metadata": {
        "cell_id": "3af69b7c69ca41bab78e268b44894200",
        "deepnote_cell_type": "code"
      },
      "outputs": [],
      "outputs_reference": null,
      "execution_count": null,
      "block_group": "d2c1ed731ea7477093b87615f9ef6ace",
      "content_dependencies": null
    },
    {
      "cell_type": "code",
      "source": "meshcat = StartMeshcat()",
      "metadata": {
        "cell_id": "8d3d8addf8564592aab96bbf94bf7fbc",
        "deepnote_cell_type": "code"
      },
      "outputs": [],
      "outputs_reference": null,
      "execution_count": null,
      "block_group": "723eada4435a45caa5f7998b5df5c10a",
      "content_dependencies": null
    },
    {
      "cell_type": "markdown",
      "source": "# RL for box flip-up\n\n## State-feedback policy via PPO (with stiffness control)",
      "metadata": {
        "cell_id": "f8d5992930bc48018dac629abf3128c6",
        "deepnote_cell_type": "markdown"
      },
      "block_group": "e46142664bc14f3eab25f8ff44e84b34"
    },
    {
      "cell_type": "code",
      "source": "observations = \"state\"\ntime_limit = 10 if running_as_notebook else 0.5\n\n# Note: Models saved in stable baselines are version specific.  This one\n# requires python3.8 (and cloudpickle==1.6.0).\nzip = f\"box_flipup_ppo_{observations}.zip\"\n\n\n# Use a callback so that the forked process imports the environment.\ndef make_boxflipup():\n    import manipulation.envs.box_flipup\n\n    return gym.make(\"BoxFlipUp-v0\", observations=observations, time_limit=time_limit)\n\n\nenv = make_vec_env(\n    make_boxflipup,\n    n_envs=num_cpu,\n    seed=0,\n    vec_env_cls=SubprocVecEnv if running_as_notebook else DummyVecEnv,\n)\n\nuse_pretrained_model = True\nif use_pretrained_model:\n    # TODO(russt): Save a trained model that works on Deepnote.\n    model = PPO.load(FindDataResource(zip), env)\nelif running_as_notebook:\n    # This is a relatively small amount of training.  See rl/train_boxflipup.py\n    # for a version that runs the heavyweight version with multiprocessing.\n    model = PPO(\"MlpPolicy\", env, verbose=1)\n    model.learn(total_timesteps=100000)\nelse:\n    # For testing this notebook, we simply want to make sure that the code runs.\n    model = PPO(\"MlpPolicy\", env, n_steps=4, n_epochs=2, batch_size=8)\n    model.learn(total_timesteps=4)",
      "metadata": {
        "cell_id": "05d0af21bef64e99949a0263809b7d07",
        "deepnote_cell_type": "code"
      },
      "outputs": [],
      "outputs_reference": null,
      "execution_count": null,
      "block_group": "90b7fa00c28946f4a566edb2cade0fbd",
      "content_dependencies": null
    },
    {
      "cell_type": "code",
      "source": "# Make a version of the env with meshcat.\nenv = gym.make(\"BoxFlipUp-v0\", meshcat=meshcat, observations=observations)\n\nobs, _ = env.reset()\nmeshcat.StartRecording()\nfor i in range(500 if running_as_notebook else 5):\n    action, _state = model.predict(obs, deterministic=True)\n    obs, reward, terminated, truncated, info = env.step(action)\n    env.render()\n    if terminated:\n        obs, _ = env.reset()\nmeshcat.PublishRecording()",
      "metadata": {
        "cell_id": "eaa025a65265447fb16c6b3107a6a32f",
        "deepnote_cell_type": "code"
      },
      "outputs": [],
      "outputs_reference": null,
      "execution_count": null,
      "block_group": "4a0bfd8641c04fd482533dd6a5198090",
      "content_dependencies": null
    },
    {
      "cell_type": "code",
      "source": "obs, _ = env.reset()\nQ, Qdot = np.meshgrid(np.arange(0, np.pi, 0.05), np.arange(-2, 2, 0.05))\n# TODO(russt): tensorize this...\nV = 0 * Q\nfor i in range(Q.shape[0]):\n    for j in range(Q.shape[1]):\n        obs[2] = Q[i, j]\n        obs[7] = Qdot[i, j]\n        with torch.no_grad():\n            V[i, j] = (\n                model.policy.predict_values(model.policy.obs_to_tensor(obs)[0])[0]\n                .cpu()\n                .numpy()[0]\n            )\nV = V - np.min(np.min(V))\nV = V / np.max(np.max(V))\n\nmeshcat.Delete()\nmeshcat.ResetRenderMode()\nmeshcat.PlotSurface(\"Critic\", Q, Qdot, V, wireframe=True)",
      "metadata": {
        "cell_id": "4ba689cfa7a84e148dff2461943044cc",
        "deepnote_cell_type": "code"
      },
      "outputs": [],
      "outputs_reference": null,
      "execution_count": null,
      "block_group": "f0ca477bcdb24a4e9d1f4a6fcfa93bf5",
      "content_dependencies": null
    },
    {
      "cell_type": "code",
      "source": "env = gym.make(\"BoxFlipUp-v0\")\n\nRenderDiagram(env.simulator.get_system(), max_depth=1)",
      "metadata": {
        "cell_id": "e6a6ee3418b742d8ab06f947c78a0340",
        "deepnote_cell_type": "code"
      },
      "outputs": [],
      "outputs_reference": null,
      "execution_count": null,
      "block_group": "32fc68a256f74495b3d7dc46c77c40cc",
      "content_dependencies": null
    },
    {
      "cell_type": "code",
      "source": "",
      "metadata": {
        "cell_id": "7443b37b6fc247e59949d9cb5eae2d45",
        "deepnote_cell_type": "code"
      },
      "outputs": [],
      "outputs_reference": null,
      "execution_count": null,
      "block_group": "73988f3487f04c8ca3258a5fbba1e6b0",
      "content_dependencies": null
    },
    {
      "cell_type": "markdown",
      "source": "<a style='text-decoration:none;line-height:16px;display:flex;color:#5B5B62;padding:10px;justify-content:end;' href='https://deepnote.com?utm_source=created-in-deepnote-cell&projectId=367d7a89-1517-48ab-a267-79886422c5d7' target=\"_blank\">\n<img alt='Created in deepnote.com' style='display:inline;max-height:16px;margin:0px;margin-right:7.5px;' src='data:image/svg+xml;base64,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' > </img>\nCreated in <span style='font-weight:600;margin-left:4px;'>Deepnote</span></a>",
      "metadata": {
        "created_in_deepnote_cell": true,
        "deepnote_cell_type": "markdown"
      }
    }
  ],
  "nbformat": 4,
  "nbformat_minor": 0,
  "metadata": {
    "deepnote_notebook_id": "1d24a36212f14268a7edd8014f4b90ec"
  }
}