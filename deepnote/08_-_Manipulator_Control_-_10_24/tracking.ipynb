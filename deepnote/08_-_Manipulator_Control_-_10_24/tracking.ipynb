{
  "cells": [
    {
      "cell_type": "markdown",
      "source": "This notebook provides examples to go along with the [textbook](http://manipulation.csail.mit.edu/force.html).  I recommend having both windows open, side-by-side!\n",
      "metadata": {
        "id": "EgiF12Hf1Dhs",
        "cell_id": "be282b54d5de47279a52b3fa609f0696",
        "deepnote_cell_type": "markdown"
      },
      "block_group": "82b2064fc82c4062adfaca4e155ad6f4"
    },
    {
      "cell_type": "code",
      "source": "import matplotlib.pyplot as plt\nimport mpld3\nimport numpy as np\nfrom pydrake.all import (\n    DiagramBuilder,\n    LogVectorOutput,\n    Simulator,\n    SymbolicVectorSystem,\n    Variable,\n)\n\nfrom manipulation import running_as_notebook\n\nif running_as_notebook:\n    mpld3.enable_notebook()\n\nq = Variable(\"q\")\nv = Variable(\"v\")\nt = Variable(\"t\")\nkp = 10\nkd = 1\nm = 1\ng = 10\nc = 10  # amplitude.  set to zero to see the steady-state response.\nq_d = c * np.sin(t)\nv_d = c * np.cos(t)\na_d = -c * np.sin(t)\n\nplt.figure()\nts = np.linspace(0, 10, 100)\nplt.plot(ts, c * np.sin(ts), label=\"desired\")\n\nfor control in [\"pd\", \"stiffness\", \"inverse_dynamics\"]:\n    if control == \"pd\":\n        u = kp * (q_d - q) + kd * (v_d - v)\n    if control == \"stiffness\":\n        u = kp * (q_d - q) + kd * (v_d - v) + m * g\n    if control == \"inverse_dynamics\":\n        u = m * (a_d + kp * (q_d - q) + kd * (v_d - v)) + m * g\n\n    sys = SymbolicVectorSystem(\n        state=[q, v], time=t, dynamics=[v, -g + u / m], output=[q]\n    )\n\n    builder = DiagramBuilder()\n    system = builder.AddSystem(sys)\n    logger = LogVectorOutput(system.get_output_port(0), builder)\n    diagram = builder.Build()\n\n    context = diagram.CreateDefaultContext()\n    context.SetContinuousState([0.9, 0])\n\n    simulator = Simulator(diagram, context)\n    simulator.AdvanceTo(10)\n\n    # Plot the results.\n    log = logger.FindLog(context)\n    plt.plot(log.sample_times(), log.data().transpose(), label=control)\n\nplt.legend()\nplt.xlabel(\"t (seconds)\")\nplt.ylabel(\"z (meters)\");",
      "metadata": {
        "id": "eeMrMI0-1Dhu",
        "cell_id": "b2e981ac0c174d7797ebe3d8ff70c2dd",
        "deepnote_cell_type": "code"
      },
      "outputs": [],
      "outputs_reference": null,
      "execution_count": null,
      "block_group": "abe1f4aae9b1426fad0cfe20a60f9f62",
      "content_dependencies": null
    },
    {
      "cell_type": "code",
      "source": "",
      "metadata": {
        "cell_id": "b6bd834285264a528d4ee518e931ce54",
        "deepnote_cell_type": "code"
      },
      "outputs": [],
      "outputs_reference": null,
      "execution_count": null,
      "block_group": "bed292d8489342d19bb2751175c15749",
      "content_dependencies": null
    },
    {
      "cell_type": "markdown",
      "source": "<a style='text-decoration:none;line-height:16px;display:flex;color:#5B5B62;padding:10px;justify-content:end;' href='https://deepnote.com?utm_source=created-in-deepnote-cell&projectId=b7f087ac-1523-4a5b-a9fa-205e230f3627' target=\"_blank\">\n<img alt='Created in deepnote.com' style='display:inline;max-height:16px;margin:0px;margin-right:7.5px;' src='data:image/svg+xml;base64,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' > </img>\nCreated in <span style='font-weight:600;margin-left:4px;'>Deepnote</span></a>",
      "metadata": {
        "created_in_deepnote_cell": true,
        "deepnote_cell_type": "markdown"
      }
    }
  ],
  "nbformat": 4,
  "nbformat_minor": 0,
  "metadata": {
    "deepnote_notebook_id": "35bc64caebec4fb48987e7e90d3b15b6",
    "deepnote_execution_queue": []
  }
}