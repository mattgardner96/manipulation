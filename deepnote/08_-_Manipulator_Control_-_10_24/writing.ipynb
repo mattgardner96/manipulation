{
  "cells": [
    {
      "cell_type": "markdown",
      "source": "This notebook provides examples to go along with the [textbook](http://manipulation.csail.mit.edu/force.html).  I recommend having both windows open, side-by-side!",
      "metadata": {
        "id": "EgiF12Hf1Dhs",
        "cell_id": "72605b6a5e9f4ca49ed42531a76cdbdd",
        "deepnote_cell_type": "markdown"
      },
      "block_group": "89637164e056422392a30265b0ef6452"
    },
    {
      "cell_type": "code",
      "source": "import numpy as np\nfrom pydrake.all import (\n    AbstractValue,\n    AddMultibodyPlantSceneGraph,\n    Box,\n    Capsule,\n    ContactResults,\n    DiagramBuilder,\n    InverseDynamicsController,\n    JointSliders,\n    LeafSystem,\n    MeshcatVisualizer,\n    MultibodyPlant,\n    Rgba,\n    RigidTransform,\n    Role,\n    RotationMatrix,\n    Simulator,\n    StartMeshcat,\n    StateInterpolatorWithDiscreteDerivative,\n)\n\nfrom manipulation import running_as_notebook\nfrom manipulation.meshcat_utils import StopButton\nfrom manipulation.scenarios import AddFloatingXyzJoint, AddShape",
      "metadata": {
        "id": "eeMrMI0-1Dhu",
        "cell_id": "8719e14ddca54fa8beeb1ec2377ccd19",
        "deepnote_cell_type": "code"
      },
      "outputs": [],
      "outputs_reference": null,
      "execution_count": null,
      "block_group": "6ddf7a3f738543feae74d3a3137abec7",
      "content_dependencies": null
    },
    {
      "cell_type": "code",
      "source": "# Start the visualizer.\nmeshcat = StartMeshcat()",
      "metadata": {
        "cell_id": "0fdb8b23c4fb401dacc3a886b9ce472c",
        "deepnote_cell_type": "code"
      },
      "outputs": [],
      "outputs_reference": null,
      "execution_count": null,
      "block_group": "68e9ad2309004026aff7aa4cd578b5ec",
      "content_dependencies": null
    },
    {
      "cell_type": "markdown",
      "source": "# A simple writing example\n\nA popular example for class projects is to have a robot pick up a pen/pencil/chalk and write or draw something on the board. And that always begs the question \"how do we make the actual ink/graphite/chalk lines appear?\"\n\nHere is a simple teleop example with a LeafSystem that will help you visualize the drawing in meshcat.  You should be able to write on basically any (one) surface at any orientation.  Go ahead and try making the chalkboard into a sphere. ;-)\n\nYou control the chalk, and see what you can draw.  \n- X : arrow left/right\n- Y : arrow down/up\n- Z : key A / Key D",
      "metadata": {
        "cell_id": "85bd378011954ccdad98a94f14ffa132",
        "deepnote_cell_type": "markdown"
      },
      "block_group": "05c43de0b17a4ef588150d8f332927bf"
    },
    {
      "cell_type": "code",
      "source": "# Writing System.\n\n\nclass MeshcatWriter(LeafSystem):\n    def __init__(\n        self,\n        meshcat,\n        drawing_geometry_ids,\n        canvas_geometry_ids,\n        rgba,\n        line_width=0.01,\n        draw_threshold=0.01,\n    ):\n        LeafSystem.__init__(self)\n        self._meshcat = meshcat\n        self._drawing_geometry_ids = drawing_geometry_ids\n        self._canvas_geometry_ids = canvas_geometry_ids\n\n        self._rgba = rgba\n        self._line_width = line_width\n        self._draw_threshold = draw_threshold\n\n        self.DeclareAbstractInputPort(\n            \"contact_results\", AbstractValue.Make(ContactResults())\n        )\n        self.DeclarePeriodicDiscreteUpdateEvent(0.01, 0, self.MaybeDraw)\n\n        self._p_WLastDraw_index = self.DeclareDiscreteState(3)\n        self._was_in_contact_index = self.DeclareDiscreteState([0])\n        self._num_drawn_index = self.DeclareDiscreteState([0])\n\n    def MaybeDraw(self, context, discrete_state):\n        results = self.get_input_port().Eval(context)\n\n        # The point on the canvas that most deeply penetrates the chalk.\n        p_WDraw = None\n        for i in range(results.num_point_pair_contacts()):\n            info = results.point_pair_contact_info(i)\n            pair = info.point_pair()\n            if (\n                pair.id_A in self._drawing_geometry_ids\n                and pair.id_B in self._canvas_geometry_ids\n            ):\n                p_WDraw = pair.p_WCb\n                break\n            elif (\n                pair.id_B in self._drawing_geometry_ids\n                and pair.id_B in self._canvas_geometry_ids\n            ):\n                p_WDraw = pair.p_WCa\n                break\n        for i in range(results.num_hydroelastic_contacts()):\n            surface = results.hydroelastic_contact_info(i).contact_surface()\n            if (\n                surface.id_M() in self._drawing_geometry_ids\n                and surface.id_N() in self._canvas_geometry_ids\n            ):\n                p_WDraw = surface.centroid()\n                break\n            elif (\n                surface.id_N() in self._drawing_geometry_ids\n                and surface.id_M() in self._canvas_geometry_ids\n            ):\n                p_WDraw = surface.centroid()\n                break\n\n        if p_WDraw is not None:\n            p_WLastDraw = context.get_discrete_state(\n                self._p_WLastDraw_index\n            ).get_value()\n            was_in_contact = context.get_discrete_state(self._was_in_contact_index)[0]\n            num_drawn = context.get_discrete_state(self._num_drawn_index)[0]\n\n            length = np.linalg.norm(p_WDraw - p_WLastDraw)\n            if was_in_contact and length > self._draw_threshold:\n                meshcat.SetObject(\n                    f\"writer/{num_drawn}\",\n                    Capsule(self._line_width, length),\n                    self._rgba,\n                )\n                p_WMidpoint = (p_WDraw + p_WLastDraw) / 2\n                X_WCapsule = RigidTransform(\n                    RotationMatrix.MakeFromOneVector(p_WDraw - p_WLastDraw, 2),\n                    p_WMidpoint,\n                )\n                meshcat.SetTransform(f\"writer/{num_drawn}\", X_WCapsule)\n                discrete_state.set_value(self._num_drawn_index, [num_drawn + 1])\n                discrete_state.set_value(self._p_WLastDraw_index, p_WDraw)\n            elif not was_in_contact:\n                discrete_state.set_value(self._p_WLastDraw_index, p_WDraw)\n\n            discrete_state.set_value(self._was_in_contact_index, [1])\n        else:\n            discrete_state.set_value(self._was_in_contact_index, [0])\n\n\ndef writing_example():\n    builder = DiagramBuilder()\n\n    time_step = 0.001\n    plant, scene_graph = AddMultibodyPlantSceneGraph(builder, time_step)\n    controller_plant = MultibodyPlant(time_step)\n    # Add the chalk to both\n    chalk_instance = AddShape(\n        plant,\n        Capsule(0.01, 0.2),\n        \"chalk\",\n        mass=1,\n        mu=1,\n        color=[1, 0.34, 0.2, 1.0],\n    )\n    AddFloatingXyzJoint(\n        plant, plant.GetFrameByName(\"chalk\"), chalk_instance, actuators=True\n    )\n    chalk_instance = AddShape(\n        controller_plant,\n        Capsule(0.01, 0.2),\n        \"chalk\",\n        mass=1,\n        mu=1,\n        color=[1, 0.34, 0.2, 1.0],\n    )\n    AddFloatingXyzJoint(\n        controller_plant,\n        controller_plant.GetFrameByName(\"chalk\"),\n        controller_plant.GetModelInstanceByName(\"chalk\"),\n        actuators=True,\n    )\n\n    # Add a writing surface to the sim plant only\n    board_instance = AddShape(\n        plant, Box(2, 2, 0.2), \"board\", color=[0.05, 0.05, 0.05, 1]\n    )\n    plant.WeldFrames(\n        plant.world_frame(),\n        plant.GetFrameByName(\"board\"),\n        RigidTransform([0, 0, -0.1]),\n    )\n\n    plant.Finalize()\n    controller_plant.Finalize()\n\n    q0 = [0, 0, 0.2]\n    plant.SetDefaultPositions(q0)\n\n    MeshcatVisualizer.AddToBuilder(builder, scene_graph, meshcat)\n    meshcat.Delete()\n    meshcat.DeleteAddedControls()\n\n    # InverseDynamicsController\n    # TODO(russt): Tune the gains better\n    controller = builder.AddSystem(\n        InverseDynamicsController(\n            controller_plant,\n            kp=[20] * 3,\n            ki=[0] * 3,\n            kd=[10] * 3,\n            has_reference_acceleration=False,\n        )\n    )\n    builder.Connect(\n        plant.get_state_output_port(chalk_instance),\n        controller.get_input_port_estimated_state(),\n    )\n    builder.Connect(\n        controller.get_output_port_control(), plant.get_actuation_input_port()\n    )\n\n    # Pose Sliders\n    teleop = builder.AddSystem(\n        JointSliders(\n            meshcat,\n            plant,\n            q0,\n            [-1, -1, -0.1],\n            [1, 1, 0.2],\n            0.02,\n            decrement_keycodes=[\"ArrowLeft\", \"ArrowDown\", \"KeyA\"],\n            increment_keycodes=[\"ArrowRight\", \"ArrowUp\", \"KeyD\"],\n        )\n    )\n\n    desired_state_from_position = builder.AddSystem(\n        StateInterpolatorWithDiscreteDerivative(\n            3, time_step, suppress_initial_transient=True\n        )\n    )\n    builder.Connect(\n        teleop.get_output_port(), desired_state_from_position.get_input_port()\n    )\n    builder.Connect(\n        desired_state_from_position.get_output_port(),\n        controller.get_input_port_desired_state(),\n    )\n\n    inspector = scene_graph.model_inspector()\n    chalk_frame_id = plant.GetBodyFrameIdOrThrow(plant.GetBodyByName(\"chalk\").index())\n    board_frame_id = plant.GetBodyFrameIdOrThrow(plant.GetBodyByName(\"board\").index())\n    writer = builder.AddSystem(\n        MeshcatWriter(\n            meshcat,\n            inspector.GetGeometries(chalk_frame_id, Role.kProximity),\n            inspector.GetGeometries(board_frame_id, Role.kProximity),\n            Rgba(1, 0.34, 0.2, 1.0),\n            line_width=0.005,\n        )\n    )\n    builder.Connect(plant.get_contact_results_output_port(), writer.get_input_port())\n    builder.AddSystem(StopButton(meshcat))\n\n    # Simulate.\n    diagram = builder.Build()\n\n    simulator = Simulator(diagram)\n\n    if running_as_notebook:\n        simulator.set_target_realtime_rate(1.0)\n        simulator.AdvanceTo(np.inf)\n    else:\n        simulator.AdvanceTo(0.1)\n\n\nwriting_example()",
      "metadata": {
        "cell_id": "6941eb25ed744341b8c10cf63b4c7b92",
        "deepnote_cell_type": "code"
      },
      "outputs": [],
      "outputs_reference": null,
      "execution_count": null,
      "block_group": "f54d7b50f105490c964c4bc4e8a5dd35",
      "content_dependencies": null
    },
    {
      "cell_type": "code",
      "source": "51 / 255",
      "metadata": {
        "cell_id": "f1b7ada54f91442c8808959adc38d166",
        "deepnote_cell_type": "code"
      },
      "outputs": [],
      "outputs_reference": null,
      "execution_count": null,
      "block_group": "3deaa19d3f3d4aa0b6916af7e865cc58",
      "content_dependencies": null
    },
    {
      "cell_type": "code",
      "source": "",
      "metadata": {
        "cell_id": "0032624ac8724c33ba71c3e6ed5d507a",
        "deepnote_cell_type": "code"
      },
      "outputs": [],
      "outputs_reference": null,
      "execution_count": null,
      "block_group": "f5ce215838da4cdcbe8684e683ecae77",
      "content_dependencies": null
    },
    {
      "cell_type": "markdown",
      "source": "<a style='text-decoration:none;line-height:16px;display:flex;color:#5B5B62;padding:10px;justify-content:end;' href='https://deepnote.com?utm_source=created-in-deepnote-cell&projectId=b7f087ac-1523-4a5b-a9fa-205e230f3627' target=\"_blank\">\n<img alt='Created in deepnote.com' style='display:inline;max-height:16px;margin:0px;margin-right:7.5px;' src='data:image/svg+xml;base64,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' > </img>\nCreated in <span style='font-weight:600;margin-left:4px;'>Deepnote</span></a>",
      "metadata": {
        "created_in_deepnote_cell": true,
        "deepnote_cell_type": "markdown"
      }
    }
  ],
  "nbformat": 4,
  "nbformat_minor": 0,
  "metadata": {
    "deepnote_notebook_id": "23f0730375704e0ebd37642899758f45",
    "deepnote_execution_queue": []
  }
}