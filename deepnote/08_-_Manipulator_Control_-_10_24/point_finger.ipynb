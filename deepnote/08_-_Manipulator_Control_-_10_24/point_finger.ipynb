{
  "cells": [
    {
      "cell_type": "markdown",
      "source": "This notebook provides examples to go along with the [textbook](http://manipulation.csail.mit.edu/force.html).  I recommend having both windows open, side-by-side!\n",
      "metadata": {
        "id": "EgiF12Hf1Dhs",
        "cell_id": "3d68f72c156b4993b91ab4759b126a20",
        "deepnote_cell_type": "markdown"
      },
      "block_group": "ffb2b320bdc942e69397d506a2a27e5d"
    },
    {
      "cell_type": "code",
      "source": "import matplotlib.pyplot as plt\nimport numpy as np\nfrom pydrake.all import (\n    AddMultibodyPlantSceneGraph,\n    Box,\n    ConstantVectorSource,\n    ContactVisualizer,\n    ContactVisualizerParams,\n    DiagramBuilder,\n    DiscreteContactApproximation,\n    FixedOffsetFrame,\n    InverseDynamicsController,\n    JointSliders,\n    LeafSystem,\n    LogVectorOutput,\n    MathematicalProgram,\n    MeshcatVisualizer,\n    MeshcatVisualizerParams,\n    MultibodyPlant,\n    MultibodyPositionToGeometryPose,\n    Multiplexer,\n    OsqpSolver,\n    Parser,\n    PiecewisePolynomial,\n    PlanarJoint,\n    PrismaticJoint,\n    RevoluteJoint,\n    RigidTransform,\n    RotationMatrix,\n    SceneGraph,\n    Simulator,\n    SpatialInertia,\n    Sphere,\n    StartMeshcat,\n    TrajectorySource,\n    UnitInertia,\n)\n\nfrom manipulation import running_as_notebook\nfrom manipulation.meshcat_utils import MeshcatSliders, StopButton\nfrom manipulation.scenarios import AddShape, SetColor, SetTransparency\nfrom manipulation.utils import ConfigureParser",
      "metadata": {
        "id": "eeMrMI0-1Dhu",
        "cell_id": "ca39d91cb7ae4da081be1b53b5f4e24c",
        "deepnote_cell_type": "code"
      },
      "outputs": [],
      "outputs_reference": null,
      "execution_count": null,
      "block_group": "1cc1f0838b9440e7977513d58b2b3b0f",
      "content_dependencies": null
    },
    {
      "cell_type": "code",
      "source": "# Start the visualizer.\nmeshcat = StartMeshcat()",
      "metadata": {
        "cell_id": "d160c2b47cee4035bdf32e877a8e8508",
        "deepnote_cell_type": "code"
      },
      "outputs": [],
      "outputs_reference": null,
      "execution_count": null,
      "block_group": "f35fb9033c004bbd973e12e8b2cd32d8",
      "content_dependencies": null
    },
    {
      "cell_type": "code",
      "source": "def AddPlanarBinAndCracker(plant):\n    parser = Parser(plant)\n    ConfigureParser(parser)\n    bin = parser.AddModelsFromUrl(\"package://manipulation/planar_bin.sdf\")[0]\n    plant.WeldFrames(\n        plant.world_frame(),\n        plant.GetFrameByName(\"bin_base\", bin),\n        RigidTransform(RotationMatrix.MakeZRotation(np.pi / 2.0), [0, 0, -0.015]),\n    )\n\n    planar_joint_frame = plant.AddFrame(\n        FixedOffsetFrame(\n            \"planar_joint_frame\",\n            plant.world_frame(),\n            RigidTransform(RotationMatrix.MakeXRotation(np.pi / 2)),\n        )\n    )\n    box = parser.AddModelsFromUrl(\"package://drake_models/ycb/003_cracker_box.sdf\")[0]\n    box_frame = plant.AddFrame(\n        FixedOffsetFrame(\n            \"box_frame\",\n            plant.GetFrameByName(\"base_link_cracker\", box),\n            RigidTransform(RotationMatrix.MakeXRotation(np.pi / 2)),\n        )\n    )\n    box_joint = plant.AddJoint(PlanarJoint(\"box_joint\", planar_joint_frame, box_frame))\n    box_joint.set_default_translation([0, 0.033400])\n    return box\n\n\ndef AddPlanarBinAndSimpleBox(\n    plant, mass=1.0, mu=1.0, width=0.2, depth=0.05, height=0.3\n):\n    parser = Parser(plant)\n    ConfigureParser(parser)\n    bin = parser.AddModelsFromUrl(\"package://manipulation/planar_bin.sdf\")[0]\n    plant.WeldFrames(\n        plant.world_frame(),\n        plant.GetFrameByName(\"bin_base\", bin),\n        RigidTransform(RotationMatrix.MakeZRotation(np.pi / 2.0), [0, 0, -0.015]),\n    )\n\n    planar_joint_frame = plant.AddFrame(\n        FixedOffsetFrame(\n            \"planar_joint_frame\",\n            plant.world_frame(),\n            RigidTransform(RotationMatrix.MakeXRotation(np.pi / 2)),\n        )\n    )\n\n    # TODO(russt): make this a *random* box?\n    # TODO(russt): move random box to a shared py file.\n    box_instance = AddShape(plant, Box(width, depth, height), \"box\", mass, mu)\n    box_joint = plant.AddJoint(\n        PlanarJoint(\n            \"box_joint\",\n            planar_joint_frame,\n            plant.GetFrameByName(\"box\", box_instance),\n        )\n    )\n    box_joint.set_default_translation([0, height / 2.0])\n    return box_instance\n\n\ndef AddPlanarGripper(plant):\n    parser = Parser(plant)\n    ConfigureParser(parser)\n    gripper = parser.AddModelsFromUrl(\n        \"package://manipulation/schunk_wsg_50_welded_fingers.sdf\"\n    )[0]\n\n    # Add a planar joint the old fashioned way (so that I can have three actuators):\n    gripper_false_body1 = plant.AddRigidBody(\n        \"false_body1\",\n        gripper,\n        SpatialInertia(0, [0, 0, 0], UnitInertia(0, 0, 0)),\n    )\n    gripper_false_body2 = plant.AddRigidBody(\n        \"false_body2\",\n        gripper,\n        SpatialInertia(0, [0, 0, 0], UnitInertia(0, 0, 0)),\n    )\n    gripper_x = plant.AddJoint(\n        PrismaticJoint(\n            \"gripper_x\",\n            plant.world_frame(),\n            plant.GetFrameByName(\"false_body1\"),\n            [1, 0, 0],\n            -0.3,\n            0.3,\n        )\n    )\n    plant.AddJointActuator(\"gripper_x\", gripper_x)\n    gripper_z = plant.AddJoint(\n        PrismaticJoint(\n            \"gripper_z\",\n            plant.GetFrameByName(\"false_body1\"),\n            plant.GetFrameByName(\"false_body2\"),\n            [0, 0, 1],\n            0.0,\n            0.5,\n        )\n    )\n    gripper_z.set_default_translation(0.3)\n    plant.AddJointActuator(\"gripper_z\", gripper_z)\n    gripper_frame = plant.AddFrame(\n        FixedOffsetFrame(\n            \"gripper_frame\",\n            plant.GetFrameByName(\"body\", gripper),\n            RigidTransform(RotationMatrix.MakeXRotation(np.pi / 2)),\n        )\n    )\n    gripper_theta = plant.AddJoint(\n        RevoluteJoint(\n            \"gripper_theta\",\n            plant.GetFrameByName(\"false_body2\"),\n            gripper_frame,\n            [0, -1, 0],\n            -np.pi,\n            np.pi,\n        )\n    )\n    plant.AddJointActuator(\"gripper_theta\", gripper_theta)\n\n    return gripper\n\n\ndef MakePlanarGripperOnlyPlant():\n    plant = MultibodyPlant(time_step=0.005)\n    AddPlanarGripper(plant)\n    plant.Finalize()\n    return plant\n\n\ndef AddPointFinger(plant):\n    finger = AddShape(plant, Sphere(0.01), \"finger\", color=[0.9, 0.5, 0.5, 1.0])\n    false_body1 = plant.AddRigidBody(\n        \"false_body1\",\n        finger,\n        SpatialInertia(0, [0, 0, 0], UnitInertia(0, 0, 0)),\n    )\n    finger_x = plant.AddJoint(\n        PrismaticJoint(\n            \"finger_x\",\n            plant.world_frame(),\n            plant.GetFrameByName(\"false_body1\"),\n            [1, 0, 0],\n            -0.3,\n            0.3,\n        )\n    )\n    plant.AddJointActuator(\"finger_x\", finger_x)\n    finger_z = plant.AddJoint(\n        PrismaticJoint(\n            \"finger_z\",\n            plant.GetFrameByName(\"false_body1\"),\n            plant.GetFrameByName(\"finger\"),\n            [0, 0, 1],\n            0.0,\n            0.5,\n        )\n    )\n    finger_z.set_default_translation(0.25)\n    plant.AddJointActuator(\"finger_z\", finger_z)\n\n    return finger\n\n\ndef MakeFingerOnlyPlant():\n    plant = MultibodyPlant(time_step=0.005)\n    AddPointFinger(plant)\n    plant.Finalize()\n    return plant\n\n\nclass PointFingerForceControl(LeafSystem):\n    def __init__(self, plant):\n        LeafSystem.__init__(self)\n        self._plant = plant\n\n        self.DeclareVectorInputPort(\"desired_contact_force\", 2)\n        self.DeclareVectorOutputPort(\"finger_actuation\", 2, self.CalcOutput)\n\n    def CalcOutput(self, context, output):\n        finger_mass = 1\n        g = self._plant.gravity_field().gravity_vector()[[0, 2]]\n\n        desired_force = self.get_input_port(0).Eval(context)\n        output.SetFromVector(-finger_mass * g - desired_force)",
      "metadata": {
        "id": "gOFIUWF2KBPN",
        "cell_id": "3ad731c4901547159325bd7bdd0f6d73",
        "deepnote_cell_type": "code"
      },
      "outputs": [],
      "outputs_reference": null,
      "execution_count": null,
      "block_group": "7a0fd845de6a4c52a0dfcdc9b11298e1",
      "content_dependencies": null
    },
    {
      "cell_type": "markdown",
      "source": "# Commanding a constant force",
      "metadata": {
        "cell_id": "ca2996d6c6ea4735b7ca4eabb258d16e",
        "deepnote_cell_type": "markdown"
      },
      "block_group": "b59c25b19738489e978f50d3374b42a7"
    },
    {
      "cell_type": "code",
      "source": "def force_control_point_finger(\n    desired_horizontal_forces=[4.0], duration=1.0, draw=False\n):\n    builder = DiagramBuilder()\n\n    plant, scene_graph = AddMultibodyPlantSceneGraph(builder, time_step=0.001)\n    AddPlanarBinAndCracker(plant)\n    finger = AddPointFinger(plant)\n    plant.GetJointByName(\"finger_x\").set_default_translation(0.15)\n    plant.GetJointByName(\"finger_z\").set_default_translation(0.05)\n    plant.Finalize()\n\n    if draw:\n        MeshcatVisualizer.AddToBuilder(builder, scene_graph, meshcat)\n        #        vis.vis['drake']['4'].delete()  # Only flush the gripper geometry.\n        #    vis.set_planar_viewpoint(xmin=-.5, xmax=.5, ymin=-0.1, ymax=0.6)\n        ContactVisualizer.AddToBuilder(\n            builder, plant, meshcat, ContactVisualizerParams(radius=0.005)\n        )\n    controller = builder.AddSystem(PointFingerForceControl(plant))\n    builder.Connect(controller.get_output_port(), plant.get_actuation_input_port())\n    builder.ExportInput(controller.get_input_port(), \"desired_contact_force\")\n\n    logger = LogVectorOutput(plant.get_state_output_port(finger), builder)\n\n    diagram = builder.Build()\n\n    plt.figure()\n    lines = []\n    for f in desired_horizontal_forces:\n        simulator = Simulator(diagram)\n        context = simulator.get_mutable_context()\n        diagram.get_input_port().FixValue(context, [f, 0])\n\n        simulator.AdvanceTo(duration)\n        log = logger.FindMutableLog(context)\n        t = log.sample_times()\n        x = log.data()\n        lines.append(plt.plot(t, x[0, :])[0])\n\n    plt.legend(\n        lines,\n        [(\"$f^{F_c}_{desired}$ = \" + str(f)) for f in desired_horizontal_forces],\n    )\n    plt.xlabel(\"t (sec)\")\n    plt.ylabel(\"x (m)\")\n\n\nforce_control_point_finger([0.25, 0.5, 1.0, 2.0, 3.0, 4.0, 5.0])",
      "metadata": {
        "cell_id": "8ea971a2795947199569edc92c497ddb",
        "deepnote_cell_type": "code"
      },
      "outputs": [],
      "outputs_reference": null,
      "execution_count": null,
      "block_group": "52896eee94ca43b0a791cb08c7e7e4ef",
      "content_dependencies": null
    },
    {
      "cell_type": "markdown",
      "source": "#  A force-based flip-up strategy",
      "metadata": {
        "id": "VBc7zDKlElKu",
        "cell_id": "1f472303bf564f8dbd04eb4b6aa8eff6",
        "deepnote_cell_type": "markdown"
      },
      "block_group": "774b04be04544a37b8ea18f73e53470b"
    },
    {
      "cell_type": "code",
      "source": "def force_control_point_finger(teleop=True):\n    builder = DiagramBuilder()\n\n    plant, scene_graph = AddMultibodyPlantSceneGraph(builder, time_step=0.005)\n    plant.set_discrete_contact_approximation(DiscreteContactApproximation.kSap)\n    box = AddPlanarBinAndCracker(plant)\n    finger = AddPointFinger(plant)\n    plant.GetJointByName(\"finger_x\").set_default_translation(0.15)\n    plant.GetJointByName(\"finger_z\").set_default_translation(0.025)\n    plant.Finalize()\n\n    vis = MeshcatVisualizer.AddToBuilder(builder, scene_graph, meshcat)\n    # vis.vis['drake']['4'].delete()  # Only flush the gripper geometry.\n    # vis.set_planar_viewpoint(xmin=-.5, xmax=.5, ymin=-0.1, ymax=0.6)\n    contact_vis = ContactVisualizer.AddToBuilder(\n        builder,\n        plant,\n        meshcat,\n        ContactVisualizerParams(radius=0.005, newtons_per_meter=40.0),\n    )\n\n    class RotateBoxOnTopCorner(LeafSystem):\n        def __init__(self, plant):\n            LeafSystem.__init__(self)\n            self._plant = plant\n\n            # One state variable for the integral error.\n            self.DeclareContinuousState(1)\n\n            self.DeclareVectorInputPort(\"desired_box_angle\", 1)\n            self.DeclareVectorInputPort(\"box_state\", 6)\n            self.DeclareVectorInputPort(\"finger_state\", 4)\n            self.DeclareVectorOutputPort(\"finger_force\", 2, self.CalcOutput)\n            self.solver = OsqpSolver()\n\n        def DoCalcTimeDerivatives(self, context, derivatives):\n            # Compute integral of the angle error.\n            theta_desired = self.get_input_port(0).Eval(context)[0]\n            theta = self.get_input_port(1).Eval(context)[2]\n            derivatives.get_mutable_vector().SetFromVector([theta_desired - theta])\n\n        def CalcOutput(self, context, output):\n            # TODO(russt): Clean this up to match the cleaned up derivation in\n            # the text.\n            box_mass = 0.411  # Let's revisit whether we need this!\n            mu_A = 1.0\n            mu_C = 1.0\n            w = 0.2  # Approximate box width\n            g = -self._plant.gravity_field().gravity_vector()[2]\n\n            theta_desired = self.get_input_port(0).Eval(context)[0]\n            box_state = self.get_input_port(1).Eval(context)\n            theta = box_state[2]\n            theta_dot = box_state[5]\n\n            R_WC = np.array(\n                [\n                    [-np.sin(theta), -np.cos(theta)],\n                    [np.cos(theta), -np.sin(theta)],\n                ]\n            )\n            R_CW = R_WC.T\n            self.get_input_port(2).Eval(context)\n\n            prog = MathematicalProgram()\n            f_C_W = prog.NewContinuousVariables(2, \"f_C_W\")  # force from finger to box\n            f_C_C = np.matmul(R_CW, f_C_W)\n\n            # PID control on f_CC[1]\n            kp = 20.0\n            ki = 0.5\n            kd = 2.0 * np.sqrt(kp)  # should really be kp*I on inside\n            integral_error = context.get_continuous_state_vector().GetAtIndex(0)\n            pid = kp * (theta_desired - theta) + ki * integral_error - kd * theta_dot\n            prog.AddQuadraticCost((w * f_C_C[0] - pid) ** 2, True)\n\n            prog.AddConstraint(f_C_W[0] <= mu_A * (box_mass * g - f_C_W[1]))\n            prog.AddConstraint(-f_C_W[0] <= mu_A * (box_mass * g - f_C_W[1]))\n            prog.AddConstraint(f_C_C[1] >= 0.1)  # To ensure I make and stay in contact.\n            prog.AddConstraint(f_C_C[0] <= mu_C * f_C_C[1])\n            prog.AddConstraint(-f_C_C[0] <= mu_C * f_C_C[1])\n\n            result = self.solver.Solve(prog)\n\n            if not result.is_success():\n                print(result.GetInfeasibleConstraintNames(prog))\n                output.SetFromVector([0, 0])\n                return\n\n            f_C_W = result.GetSolution(f_C_W)\n            output.SetFromVector(-f_C_W)\n\n    controller = builder.AddSystem(PointFingerForceControl(plant))\n    builder.Connect(controller.get_output_port(), plant.get_actuation_input_port())\n\n    rotate_box = builder.AddSystem(RotateBoxOnTopCorner(plant))\n    builder.Connect(rotate_box.get_output_port(), controller.get_input_port())\n    builder.Connect(plant.get_state_output_port(box), rotate_box.get_input_port(1))\n    builder.Connect(plant.get_state_output_port(finger), rotate_box.get_input_port(2))\n\n    if teleop:\n        meshcat.AddSlider(\n            \"desired box angle\",\n            value=0,\n            min=0,\n            max=np.pi / 2,\n            step=0.05,\n            increment_keycode=\"ArrowLeft\",\n            decrement_keycode=\"ArrowRight\",\n        )\n        teleop = builder.AddSystem(MeshcatSliders(meshcat, [[\"desired box angle\"]]))\n        builder.Connect(teleop.get_output_port(), rotate_box.get_input_port(0))\n        builder.AddSystem(StopButton(meshcat))\n    else:\n        theta_trajectory = PiecewisePolynomial.FirstOrderHold(\n            [0, 2, 20], [[0, 0, np.pi / 2.0]]\n        )\n        trajectory_source = builder.AddSystem(TrajectorySource(theta_trajectory))\n        builder.Connect(\n            trajectory_source.get_output_port(), rotate_box.get_input_port(0)\n        )\n\n    diagram = builder.Build()\n    simulator = Simulator(diagram)\n\n    if not running_as_notebook:\n        simulator.AdvanceTo(0.01)\n    elif teleop:\n        simulator.AdvanceTo(np.inf)\n        meshcat.DeleteAddedControls()\n    else:\n        simulator.set_target_realtime_rate(0.5)  # slow motion!\n        vis.StartRecording()\n        simulator.AdvanceTo(theta_trajectory.end_time())\n        vis.StopRecording()\n        contact_vis.Delete()  # TODO: make my recording include the contact forces!\n        vis.PublishRecording()\n\n\nforce_control_point_finger(teleop=True)",
      "metadata": {
        "id": "xJ7sDtzbEfYw",
        "tags": [],
        "cell_id": "911b652209ae4ba88b2dc7956ca228c9",
        "deepnote_cell_type": "code"
      },
      "outputs": [],
      "outputs_reference": null,
      "execution_count": null,
      "block_group": "df72111c8d284ee0b471509de6134961",
      "content_dependencies": null
    },
    {
      "cell_type": "markdown",
      "source": "# Teleop with Stiffness Control\n",
      "metadata": {
        "id": "7q0A14bAilIX",
        "cell_id": "312cb0a0899f4865894301d2e8bc946f",
        "deepnote_cell_type": "markdown"
      },
      "block_group": "31b4c760fc83486db70c0e96714968e9"
    },
    {
      "cell_type": "code",
      "source": "def stiffness_box_flipup(point_finger=True, teleop=False):\n    builder = DiagramBuilder()\n\n    plant, scene_graph = AddMultibodyPlantSceneGraph(builder, time_step=0.001)\n    # plant.set_discrete_contact_approximation(DiscreteContactApproximation.kLagged)\n\n    AddPlanarBinAndSimpleBox(plant)\n    # AddPlanarBinAndCracker(plant)\n    SetTransparency(scene_graph, alpha=0.5, source_id=plant.get_source_id())\n\n    gripper = AddPointFinger(plant) if point_finger else AddPlanarGripper(plant)\n    plant.Finalize()\n\n    MeshcatVisualizer.AddToBuilder(builder, scene_graph, meshcat)\n    meshcat.Set2dRenderMode(xmin=-0.5, xmax=0.5, ymin=-0.1, ymax=0.6)\n    ContactVisualizer.AddToBuilder(\n        builder,\n        plant,\n        meshcat,\n        ContactVisualizerParams(radius=0.005, newtons_per_meter=40.0),\n    )\n\n    # Use the controller plant to visualize the set point geometry.\n    controller_scene_graph = builder.AddSystem(SceneGraph())\n    controller_plant = MultibodyPlant(time_step=0.005)\n    controller_plant.RegisterAsSourceForSceneGraph(controller_scene_graph)\n    (\n        AddPointFinger(controller_plant)\n        if point_finger\n        else AddPlanarGripper(controller_plant)\n    )\n    controller_plant.Finalize()\n    SetColor(\n        controller_scene_graph,\n        color=[1.0, 165.0 / 255, 0.0, 1.0],\n        source_id=controller_plant.get_source_id(),\n    )\n    controller_vis = MeshcatVisualizer.AddToBuilder(\n        builder,\n        controller_scene_graph,\n        meshcat,\n        MeshcatVisualizerParams(prefix=\"controller\"),\n    )\n    controller_vis.set_name(\"controller meshcat\")\n\n    # TODO(russt): Implement the proper JointStiffnessController in drake and\n    # use it here. (For a point finger with unit mass, the\n    # InverseDynamicsController is identical)\n    N = controller_plant.num_positions()\n    kp = [100] * N\n    ki = [1] * N\n    kd = [2 * np.sqrt(kp[0])] * N\n    controller = builder.AddSystem(\n        InverseDynamicsController(controller_plant, kp, ki, kd, False)\n    )\n    builder.Connect(\n        plant.get_state_output_port(gripper),\n        controller.get_input_port_estimated_state(),\n    )\n\n    positions_to_state = builder.AddSystem(Multiplexer([N, N]))\n    zeros = builder.AddSystem(ConstantVectorSource([0] * N))\n    builder.Connect(zeros.get_output_port(0), positions_to_state.get_input_port(1))\n    builder.Connect(\n        positions_to_state.get_output_port(),\n        controller.get_input_port_desired_state(),\n    )\n    positions_to_poses = builder.AddSystem(\n        MultibodyPositionToGeometryPose(controller_plant)\n    )\n    builder.Connect(\n        positions_to_poses.get_output_port(),\n        controller_scene_graph.get_source_pose_port(controller_plant.get_source_id()),\n    )\n    builder.Connect(\n        controller.get_output_port_control(), plant.get_actuation_input_port()\n    )\n\n    if teleop:\n        position_sliders = builder.AddSystem(\n            JointSliders(\n                meshcat,\n                controller_plant,\n                step=0.01,\n                decrement_keycodes=[\"ArrowLeft\", \"ArrowDown\"],\n                increment_keycodes=[\"ArrowRight\", \"ArrowUp\"],\n            )\n        )\n        builder.Connect(\n            position_sliders.get_output_port(),\n            positions_to_state.get_input_port(0),\n        )\n        builder.Connect(\n            position_sliders.get_output_port(),\n            positions_to_poses.get_input_port(),\n        )\n        builder.AddSystem(StopButton(meshcat))\n    else:\n        traj = PiecewisePolynomial.FirstOrderHold(\n            [0, 10.0, 20.0],\n            np.array([[0.15, 0.025], [-0.25, 0.025], [-0.25, 0.125]]).T,\n        )\n        traj_system = builder.AddSystem(TrajectorySource(traj))\n        builder.Connect(\n            traj_system.get_output_port(), positions_to_state.get_input_port(0)\n        )\n        builder.Connect(\n            traj_system.get_output_port(), positions_to_poses.get_input_port()\n        )\n\n    diagram = builder.Build()\n    simulator = Simulator(diagram)\n\n    if not running_as_notebook:\n        simulator.AdvanceTo(0.01)\n    elif teleop:\n        simulator.set_target_realtime_rate(1.0)\n        simulator.AdvanceTo(np.inf)\n        meshcat.DeleteAddedControls()\n    else:\n        simulator.set_target_realtime_rate(1.0)\n        simulator.AdvanceTo(traj.end_time() + 1.0)",
      "metadata": {
        "id": "JX1Oq7gfWsBD",
        "cell_id": "8b580dfa948742a2959eb399c3bdd4f9",
        "deepnote_cell_type": "code"
      },
      "outputs": [],
      "outputs_reference": null,
      "execution_count": null,
      "block_group": "847d2d2ab0d4416490664a2f1d5e4604",
      "content_dependencies": null
    },
    {
      "cell_type": "markdown",
      "source": "# A stiffness-control-based flip-up strategy",
      "metadata": {
        "cell_id": "b0f33f6ddd01425aa2493c05bfe6d352",
        "deepnote_cell_type": "markdown"
      },
      "block_group": "86dbde0c8c2940af9d1bf50aa270466d"
    },
    {
      "cell_type": "code",
      "source": "stiffness_box_flipup(point_finger=True, teleop=True)",
      "metadata": {
        "cell_id": "7e50dd0110b142f48380cdd45ea80be8",
        "deepnote_cell_type": "code"
      },
      "outputs": [],
      "outputs_reference": null,
      "execution_count": null,
      "block_group": "bbeb2a3f13fb4599a035db13d0d8e7d3",
      "content_dependencies": null
    },
    {
      "cell_type": "code",
      "source": "stiffness_box_flipup(point_finger=True, teleop=False)",
      "metadata": {
        "cell_id": "7d35319f6f064e428969fa71999efe18",
        "deepnote_cell_type": "code"
      },
      "outputs": [],
      "outputs_reference": null,
      "execution_count": null,
      "block_group": "fd0436a63ac84e92ac5e0627f2bbbfad",
      "content_dependencies": null
    },
    {
      "cell_type": "code",
      "source": "",
      "metadata": {
        "id": "g3lNMaloEfY3",
        "cell_id": "2d3dfd5e4e6245e2b3e737e6917581f7",
        "deepnote_cell_type": "code"
      },
      "outputs": [],
      "outputs_reference": null,
      "execution_count": null,
      "block_group": "417de0dd69594382811a4a0f23964067",
      "content_dependencies": null
    },
    {
      "cell_type": "markdown",
      "source": "<a style='text-decoration:none;line-height:16px;display:flex;color:#5B5B62;padding:10px;justify-content:end;' href='https://deepnote.com?utm_source=created-in-deepnote-cell&projectId=b7f087ac-1523-4a5b-a9fa-205e230f3627' target=\"_blank\">\n<img alt='Created in deepnote.com' style='display:inline;max-height:16px;margin:0px;margin-right:7.5px;' src='data:image/svg+xml;base64,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' > </img>\nCreated in <span style='font-weight:600;margin-left:4px;'>Deepnote</span></a>",
      "metadata": {
        "created_in_deepnote_cell": true,
        "deepnote_cell_type": "markdown"
      }
    }
  ],
  "nbformat": 4,
  "nbformat_minor": 0,
  "metadata": {
    "deepnote_notebook_id": "4ecbb8bf91614cc79859bde1f8593c33",
    "deepnote_execution_queue": []
  }
}