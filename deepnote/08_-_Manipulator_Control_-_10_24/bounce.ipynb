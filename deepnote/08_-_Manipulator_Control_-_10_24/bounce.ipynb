{
  "cells": [
    {
      "cell_type": "markdown",
      "source": "This notebook provides examples to go along with the [textbook](http://manipulation.csail.mit.edu/force.html).  I recommend having both windows open, side-by-side!",
      "metadata": {
        "id": "EgiF12Hf1Dhs",
        "cell_id": "68126381a88c4c638de33c57da9a924c",
        "deepnote_cell_type": "markdown"
      },
      "block_group": "34fcbdd4a99d4638add93c60671e96f9"
    },
    {
      "cell_type": "code",
      "source": "import matplotlib.pyplot as plt\nimport numpy as np\nfrom pydrake.all import (\n    AddMultibodyPlantSceneGraph,\n    DiagramBuilder,\n    LogVectorOutput,\n    MeshcatVisualizer,\n    Parser,\n    Simulator,\n    StartMeshcat,\n)\n\nfrom manipulation import running_as_notebook",
      "metadata": {
        "id": "eeMrMI0-1Dhu",
        "cell_id": "42d8892eeeb34b2f91ab29dd5c3ab6ec",
        "deepnote_cell_type": "code"
      },
      "outputs": [],
      "outputs_reference": null,
      "execution_count": null,
      "block_group": "55d41837107243509d5793675902b594",
      "content_dependencies": null
    },
    {
      "cell_type": "code",
      "source": "# Start the visualizer.\nmeshcat = StartMeshcat()",
      "metadata": {
        "cell_id": "8dd9e5dea75c4e148a0477a9cc63e055",
        "deepnote_cell_type": "code"
      },
      "outputs": [],
      "outputs_reference": null,
      "execution_count": null,
      "block_group": "7146a87c9eed4e11b6aa39ac158da566",
      "content_dependencies": null
    },
    {
      "cell_type": "markdown",
      "source": "# Getting some bounce\n\nIt's possible to [achieve bouncing](https://www.youtube.com/watch?v=m5UnMWihWC4&t=108s) using the default contact parameters [(models)](https://github.com/mattbev/robot-juggler/tree/main/utils/models). But adjusting those parameters can get you more bounce.  Here is a simulation of a ball being dropped from 1m. \n\nThe two most relevant parameters are the contact stiffness and damping (dissipation).  Search for \"point_contact_stiffness\" and/or \"hunt_crossley_dissipation\" in the [MultibodyPlant documentation]([hunt_crossley_dissipation](https://drake.mit.edu/doxygen_cxx/classdrake_1_1multibody_1_1_multibody_plant.html)). The way to specify them in the SDF is documented [here](https://drake.mit.edu/doxygen_cxx/group__multibody__parsing.html).\n\nNote: This example uses TAMSI as the contact solver.  The SAP solver uses slightly different parameters.",
      "metadata": {
        "cell_id": "175f705a77694889a76019d5e38aef83",
        "deepnote_cell_type": "markdown"
      },
      "block_group": "1c4d1b5a6210490d9aa3f37a34218ba9"
    },
    {
      "cell_type": "code",
      "source": "def ball_drop(stiffness, dissipation):\n    sdf = f\"\"\"\n<?xml version=\"1.0\"?>\n<sdf version=\"1.7\">\n  <model name=\"bouncing_ball\">\n    <link name=\"ball\">\n      <pose>0 0 0.1 0 0 0</pose> \n      <inertial>\n        <mass>1</mass>\n        <inertia>\n          <ixx>0.001</ixx>\n          <iyy>0.001</iyy>\n          <izz>0.001</izz>\n          <ixy>0</ixy>\n          <ixz>0</ixz>\n          <iyz>0</iyz>\n        </inertia>\n      </inertial>\n      <visual name=\"visual\">\n        <geometry>\n          <sphere>\n            <radius>0.1</radius>\n          </sphere>\n        </geometry>\n        <material>\n          <diffuse>1.0 0.34 0.25 1.0</diffuse>\n        </material>\n      </visual>\n      <collision name=\"collision\">\n        <geometry>\n          <sphere>\n            <radius>0.1</radius>\n          </sphere>\n        </geometry>\n        <drake:proximity_properties>\n          <drake:point_contact_stiffness>\n            {stiffness}\n          </drake:point_contact_stiffness>\n          <drake:hunt_crossley_dissipation>\n            {dissipation}\n          </drake:hunt_crossley_dissipation>\n        </drake:proximity_properties>\n      </collision>\n    </link>\n    <joint name=\"ball_z\" type=\"prismatic\">\n      <parent>world</parent>\n      <child>ball</child>\n      <axis>\n        <xyz>0 0 1</xyz>\n        <limit>\n          <effort>0</effort>\n        </limit>\n      </axis>\n    </joint>\n    <link name=\"ground\">\n      <pose>0 0 -0.5 0 0 0</pose>\n      <visual name=\"visual\">\n        <geometry>\n          <box>\n            <size>2 2 1</size>\n          </box>\n        </geometry>\n      </visual>\n      <collision name=\"collision\">\n        <geometry>\n          <box>\n            <size>2 2 1</size>\n          </box>\n        </geometry>\n        <drake:proximity_properties>\n          <drake:point_contact_stiffness>\n            {stiffness}\n          </drake:point_contact_stiffness>\n          <drake:hunt_crossley_dissipation>\n            {dissipation}\n          </drake:hunt_crossley_dissipation>\n        </drake:proximity_properties>\n      </collision>\n    </link>\n    <joint name=\"ground_weld\" type=\"fixed\">\n      <parent>world</parent>\n      <child>ground</child>\n      <pose>0 0 0 0 0 0</pose>\n    </joint>\n  </model>\n</sdf>\n\"\"\"\n    builder = DiagramBuilder()\n    time_step = 0.001\n    plant, scene_graph = AddMultibodyPlantSceneGraph(builder, time_step)\n    Parser(plant).AddModelsFromString(sdf, \".sdf\")\n    plant.Finalize()\n\n    visualizer = MeshcatVisualizer.AddToBuilder(builder, scene_graph, meshcat)\n    logger = LogVectorOutput(plant.get_state_output_port(), builder)\n\n    diagram = builder.Build()\n    simulator = Simulator(diagram)\n\n    context = simulator.get_mutable_context()\n    plant_context = plant.GetMyMutableContextFromRoot(context)\n    plant.SetPositions(plant_context, [1])\n\n    visualizer.StartRecording()\n    simulator.AdvanceTo(3 if running_as_notebook else 0.1)\n    visualizer.PublishRecording()\n\n    log = logger.FindLog(context)\n    t = log.sample_times()\n    z = log.data()[0]\n    plt.plot(t, z)\n    first_contact = np.argmax(z < 0)\n    bounce_height = np.max(z[first_contact:])\n    print(f\"bounce height = {bounce_height}\")\n\n\n# These are the default values that MultibodyPlant picked (on Nov 16, 2022) for\n# this system.\nball_drop(stiffness=19620, dissipation=10.096375546923044)",
      "metadata": {
        "cell_id": "281e8c9ec5984cbeb40c03b602722b2f",
        "deepnote_cell_type": "code"
      },
      "outputs": [],
      "outputs_reference": null,
      "execution_count": null,
      "block_group": "fd55b60f0c274a45a759b8a71594f963",
      "content_dependencies": null
    },
    {
      "cell_type": "code",
      "source": "ball_drop(stiffness=1000, dissipation=0)",
      "metadata": {
        "cell_id": "9de81f85f2284b1a8e6449876f39e1a8",
        "deepnote_cell_type": "code"
      },
      "outputs": [],
      "outputs_reference": null,
      "execution_count": null,
      "block_group": "cf0efd0987a346d2895c71d027e4d9a4",
      "content_dependencies": null
    },
    {
      "cell_type": "code",
      "source": "ball_drop(stiffness=20000, dissipation=0.1)",
      "metadata": {
        "cell_id": "910aec8a008245af8a33e743814c6898",
        "deepnote_cell_type": "code"
      },
      "outputs": [],
      "outputs_reference": null,
      "execution_count": null,
      "block_group": "3336ca12414d4e3e841eeca3b098eb81",
      "content_dependencies": null
    },
    {
      "cell_type": "code",
      "source": "",
      "metadata": {
        "cell_id": "45fb93381acb455683fcd723badd6078",
        "deepnote_cell_type": "code"
      },
      "outputs": [],
      "outputs_reference": null,
      "execution_count": null,
      "block_group": "3a8ca4ee059d46aeab05b8ea6582bee2",
      "content_dependencies": null
    },
    {
      "cell_type": "markdown",
      "source": "<a style='text-decoration:none;line-height:16px;display:flex;color:#5B5B62;padding:10px;justify-content:end;' href='https://deepnote.com?utm_source=created-in-deepnote-cell&projectId=b7f087ac-1523-4a5b-a9fa-205e230f3627' target=\"_blank\">\n<img alt='Created in deepnote.com' style='display:inline;max-height:16px;margin:0px;margin-right:7.5px;' src='data:image/svg+xml;base64,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' > </img>\nCreated in <span style='font-weight:600;margin-left:4px;'>Deepnote</span></a>",
      "metadata": {
        "created_in_deepnote_cell": true,
        "deepnote_cell_type": "markdown"
      }
    }
  ],
  "nbformat": 4,
  "nbformat_minor": 0,
  "metadata": {
    "deepnote_notebook_id": "c5b46ea96b454ea2be662d6135388b41",
    "deepnote_execution_queue": []
  }
}