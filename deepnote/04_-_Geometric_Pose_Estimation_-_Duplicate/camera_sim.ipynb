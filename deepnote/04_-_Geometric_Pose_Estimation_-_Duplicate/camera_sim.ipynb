{
  "cells": [
    {
      "cell_type": "markdown",
      "source": "This notebook provides examples to go along with the [textbook](http://manipulation.csail.mit.edu/pose.html).  I recommend having both windows open, side-by-side!",
      "metadata": {
        "id": "EgiF12Hf1Dhs",
        "colab_type": "text",
        "cell_id": "a7ddbe4c57f4429bb2735936bc840380",
        "deepnote_cell_type": "markdown"
      },
      "block_group": "6f0950953d9c446fbc4edbb4fd2bdc72"
    },
    {
      "cell_type": "code",
      "source": "import mpld3\nimport numpy as np\nfrom matplotlib import pyplot as plt\nfrom pydrake.all import DiagramBuilder, StartMeshcat\n\nfrom manipulation import FindResource, running_as_notebook\nfrom manipulation.scenarios import AddMultibodyTriad\nfrom manipulation.station import AddPointClouds, LoadScenario, MakeHardwareStation\nfrom manipulation.utils import RenderDiagram\n\nif running_as_notebook:\n    mpld3.enable_notebook()",
      "metadata": {
        "id": "eeMrMI0-1Dhu",
        "colab": {},
        "colab_type": "code",
        "cell_id": "f7dc227f4458474e8a05ba1f097c17f6",
        "deepnote_cell_type": "code"
      },
      "outputs": [],
      "outputs_reference": null,
      "execution_count": null,
      "block_group": "c57d1817a11d4fea9db168885501a0c2",
      "content_dependencies": null
    },
    {
      "cell_type": "code",
      "source": "# Start the visualizer.\nmeshcat = StartMeshcat()",
      "metadata": {
        "cell_id": "9301903bbf674a3ead5d8ad0597b6ad7",
        "deepnote_cell_type": "code"
      },
      "outputs": [],
      "outputs_reference": null,
      "execution_count": null,
      "block_group": "296f8b0005704db2a5847403fbc29680",
      "content_dependencies": null
    },
    {
      "cell_type": "markdown",
      "source": "# Simulating an RGB-D camera\n\n",
      "metadata": {
        "id": "7q0A14bAilIX",
        "colab_type": "text",
        "cell_id": "9059f1499ce04dcdb8cee6bda74610e8",
        "deepnote_cell_type": "markdown"
      },
      "block_group": "80d3236bac5847c7aaf937be0ec16a00"
    },
    {
      "cell_type": "code",
      "source": "scenario_data = \"\"\"\ndirectives:\n- add_model:\n    name: mustard\n    file: package://drake_models/ycb/006_mustard_bottle.sdf\n- add_weld:\n    parent: world\n    child: mustard::base_link_mustard\n    X_PC:\n        translation: [0, 0, 0.09515]\n        rotation: !Rpy { deg: [-90, 0, -90]}\n- add_model:\n    name: camera\n    file: package://manipulation/camera_box.sdf\n- add_weld:\n    parent: world\n    child: camera::base\n    X_PC:\n        translation: [0.5, 0.1, 0.2]\n        # Point slightly down towards camera\n        # RollPitchYaw(0, -0.2, 0.2) @ RollPitchYaw(-np.pi/2, 0, np.pi/2)\n        rotation: !Rpy { deg: [-100, 0, 100] }\ncameras:\n    main_camera:\n        name: camera0\n        depth: True\n        X_PB:\n            base_frame: camera::base\n\"\"\"\n\n\ndef DepthCameraDemoSystem():\n    builder = DiagramBuilder()\n\n    scenario = LoadScenario(data=scenario_data)\n    station = builder.AddSystem(MakeHardwareStation(scenario, meshcat))\n\n    # Export the camera outputs\n    builder.ExportOutput(station.GetOutputPort(\"camera0.rgb_image\"), \"rgb_image\")\n    builder.ExportOutput(station.GetOutputPort(\"camera0.depth_image\"), \"depth_image\")\n\n    to_point_cloud = AddPointClouds(\n        scenario=scenario, station=station, builder=builder, meshcat=meshcat\n    )\n\n    # Add a box for the camera in the environment.\n    plant = station.GetSubsystemByName(\"plant\")\n    camera_instance = plant.GetModelInstanceByName(\"camera\")\n    scene_graph = station.GetSubsystemByName(\"scene_graph\")\n    AddMultibodyTriad(\n        plant.GetFrameByName(\"base\", camera_instance),\n        scene_graph,\n        length=0.1,\n        radius=0.005,\n    )\n\n    # Export the point cloud output.\n    builder.ExportOutput(\n        to_point_cloud[\"camera0\"].point_cloud_output_port(), \"point_cloud\"\n    )\n\n    diagram = builder.Build()\n    diagram.set_name(\"depth_camera_demo_system\")\n    return diagram\n\n\ndef plot_camera_images():\n    system = DepthCameraDemoSystem()\n\n    # Evaluate the camera output ports to get the images.\n    context = system.CreateDefaultContext()\n    system.ForcedPublish(context)\n    color_image = system.GetOutputPort(\"rgb_image\").Eval(context)\n    depth_image = system.GetOutputPort(\"depth_image\").Eval(context)\n\n    # Plot the two images.\n    plt.subplot(121)\n    plt.imshow(color_image.data)\n    plt.title(\"Color image\")\n    plt.subplot(122)\n    plt.imshow(np.squeeze(depth_image.data))\n    plt.title(\"Depth image\")\n    # mpld3.display()\n    plt.show()\n\n\nplot_camera_images()",
      "metadata": {
        "id": "ILYLouFTjv6e",
        "colab": {},
        "colab_type": "code",
        "cell_id": "c8686bb558dc49dfa81c3249f38f02c5",
        "deepnote_cell_type": "code"
      },
      "outputs": [],
      "outputs_reference": null,
      "execution_count": null,
      "block_group": "93a2241e9ae64457b9d340161547b68e",
      "content_dependencies": null
    },
    {
      "cell_type": "code",
      "source": "RenderDiagram(DepthCameraDemoSystem(), max_depth=2)",
      "metadata": {
        "id": "Wya-_6_3MUa1",
        "colab": {},
        "colab_type": "code",
        "cell_id": "c591c59e37634206a3828c7d222d8f16",
        "deepnote_cell_type": "code"
      },
      "outputs": [],
      "outputs_reference": null,
      "execution_count": null,
      "block_group": "787098f3dbb847c6a44ed9075a6ddec8",
      "content_dependencies": null
    },
    {
      "cell_type": "code",
      "source": "def plot_manipulation_station_camera_images():\n    scenario = LoadScenario(\n        filename=FindResource(\"models/clutter.scenarios.yaml\"),\n        scenario_name=\"Mustard\",\n    )\n    station = MakeHardwareStation(scenario, meshcat)\n\n    context = station.CreateDefaultContext()\n\n    index = 1\n    plt.figure(figsize=(6, 12))\n    for camera_num in range(6):\n        color_image = station.GetOutputPort(f\"camera{camera_num}.rgb_image\").Eval(\n            context\n        )\n        depth_image = station.GetOutputPort(f\"camera{camera_num}.depth_image\").Eval(\n            context\n        )\n\n        plt.subplot(6, 2, index)\n        plt.imshow(color_image.data)\n        index += 1\n        plt.title(\"Color image\")\n        plt.subplot(6, 2, index)\n        plt.imshow(np.squeeze(depth_image.data))\n        index += 1\n        plt.title(\"Depth image\")\n\n    plt.show()\n\n\nplot_manipulation_station_camera_images()",
      "metadata": {
        "id": "mFNDRsZ1MUa4",
        "colab": {},
        "colab_type": "code",
        "cell_id": "d243c9936f3549bbb282e05c57a63817",
        "deepnote_cell_type": "code"
      },
      "outputs": [],
      "outputs_reference": null,
      "execution_count": null,
      "block_group": "e3a6ffbcd76641a8a726ec2920215fa1",
      "content_dependencies": null
    },
    {
      "cell_type": "markdown",
      "source": "<a style='text-decoration:none;line-height:16px;display:flex;color:#5B5B62;padding:10px;justify-content:end;' href='https://deepnote.com?utm_source=created-in-deepnote-cell&projectId=ea20f703-e3e0-4399-93f9-5b4dd11062c2' target=\"_blank\">\n<img alt='Created in deepnote.com' style='display:inline;max-height:16px;margin:0px;margin-right:7.5px;' src='data:image/svg+xml;base64,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' > </img>\nCreated in <span style='font-weight:600;margin-left:4px;'>Deepnote</span></a>",
      "metadata": {
        "created_in_deepnote_cell": true,
        "deepnote_cell_type": "markdown"
      }
    }
  ],
  "nbformat": 4,
  "nbformat_minor": 0,
  "metadata": {
    "deepnote_notebook_id": "9252b708b30743d090f89d809e8808fa",
    "deepnote_execution_queue": []
  }
}