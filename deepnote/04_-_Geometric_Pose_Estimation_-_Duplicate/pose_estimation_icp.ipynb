{
  "cells": [
    {
      "cell_type": "markdown",
      "source": "## Pose Estimation with ICP",
      "metadata": {
        "id": "Fi0-b4FfOFDm",
        "colab_type": "text",
        "cell_id": "8ea52ecfa8f143d4bfe12614dc5cfecd",
        "deepnote_cell_type": "markdown"
      },
      "block_group": "0fac87ad48f84f3d99c32a0eac4a3d68"
    },
    {
      "cell_type": "code",
      "source": "import numpy as np\nfrom pydrake.all import (\n    AddMultibodyPlantSceneGraph,\n    BaseField,\n    DiagramBuilder,\n    Fields,\n    MeshcatVisualizer,\n    Parser,\n    PointCloud,\n    Rgba,\n    RigidTransform,\n    RollPitchYaw,\n    RotationMatrix,\n    StartMeshcat,\n)\n\nfrom manipulation import running_as_notebook\nfrom manipulation.exercises.grader import Grader\nfrom manipulation.exercises.pose.test_pose_estimation import TestPoseEstimation\nfrom manipulation.icp import IterativeClosestPoint\nfrom manipulation.scenarios import AddMultibodyTriad\nfrom manipulation.station import AddPointClouds, LoadScenario, MakeHardwareStation",
      "metadata": {
        "id": "0pI7YvFePCOG",
        "colab": {},
        "colab_type": "code",
        "lines_to_end_of_cell_marker": 2,
        "cell_id": "0c35f1e210bc48f2bcb196650cb7808e",
        "deepnote_cell_type": "code"
      },
      "outputs": [],
      "outputs_reference": null,
      "execution_count": null,
      "block_group": "640b4b8484ec4b60a9d551e9cd17f0f0",
      "content_dependencies": null
    },
    {
      "cell_type": "code",
      "source": "# Start the visualizer.\nmeshcat = StartMeshcat()",
      "metadata": {
        "cell_id": "821dc6de3add478b9e0d6427165b4b13",
        "deepnote_cell_type": "code"
      },
      "outputs": [],
      "outputs_reference": null,
      "execution_count": null,
      "block_group": "0b6e6b69865e48c08ae86b6199b22279",
      "content_dependencies": null
    },
    {
      "cell_type": "markdown",
      "source": "## Problem Description\nLast lecture, we designed pick and place trajectories **assuming** that the object pose ${}^W X^O$ was known. With all the tools we have learned for goemetric perception, it is time to relax this assumption and finally do pose estimation from sensor data.\n\nThe goal of the exercise is to give you some real-world experience into what dealing with depth cameras, and what it takes to go from a real depth image to the clean ICP formulation we learned.\n\n**These are the main steps of the exercise:**\n1. Perform Segmentation on the raw pointcloud of the scene to extract pointcloud from the object.\n2. Tune an off-the-shelf ICP solver and estimate the pose of the object.",
      "metadata": {
        "id": "mcSz0hOVtBd5",
        "colab_type": "text",
        "cell_id": "c917998e3bf54ac6a456739b2be9543e",
        "deepnote_cell_type": "markdown"
      },
      "block_group": "f02f6aa0dc6c46dabfe98d4965b8e182"
    },
    {
      "cell_type": "markdown",
      "source": "Before jumping into the main exercise, how should we computationally represent a pointcloud? If we say that pointcloud has $N$ points, then each point has a position in 3D, ${}^Cp^i$, as well as an associated color. Throughout this exercise, we will tend to store them as separate arrays of:\n- `3xN` numpy array where each row stores the XYZ position of the point in meters.\n- `3xN` numpy array where each row stores the RGB information of the point in `uint8` format.\n\nUnfortunately, numpy prefers a rowwise representation, so you might find yourself using the `.T` transpose operator to make numpy operations more natural/efficient.",
      "metadata": {
        "id": "NowURj8YP9qb",
        "colab_type": "text",
        "cell_id": "a641f32dd72145d3bada1f60bd60557d",
        "deepnote_cell_type": "markdown"
      },
      "block_group": "866fd7eed3fc43d8a563c27ebe2ca6e1"
    },
    {
      "cell_type": "code",
      "source": "def ToPointCloud(xyzs, rgbs=None):\n    if rgbs:\n        cloud = PointCloud(xyzs.shape[1], Fields(BaseField.kXYZs | BaseField.kRGBs))\n        cloud.mutable_rgbs()[:] = rgbs\n    else:\n        cloud = PointCloud(xyzs.shape[1])\n    cloud.mutable_xyzs()[:] = xyzs\n    return cloud",
      "metadata": {
        "cell_id": "1f2f966b12824e5f8eaf831fd3b47f52",
        "deepnote_cell_type": "code"
      },
      "outputs": [],
      "outputs_reference": null,
      "execution_count": null,
      "block_group": "33185712c8cb4b0eabfcd17e0525bb7c",
      "content_dependencies": null
    },
    {
      "cell_type": "markdown",
      "source": "## Getting a Pointcloud of the Model ##\n\nBefore taking a pointcloud of the **scene**, we will need a pointcloud of the **model** to compare against. Generally, this can be done by using existing tools that convert 3D representations (meshes, signed distance functions, etc.) into pointclouds.\n\nSince our red foam brick is of rectangular shape, we'll cheat a bit and generate the points procedurally. When you click the cell below, you should be able to see the red brick and our pointcloud representation of the brick as blue dots.\n\nWe will save the model pointcloud in the variable `model_pcl_np`.",
      "metadata": {
        "id": "e9fQyeITSQkD",
        "colab_type": "text",
        "cell_id": "6fe868c4836b4505b9339f5a6e0b5bb2",
        "deepnote_cell_type": "markdown"
      },
      "block_group": "19e5ee499f5044e4a8d1a656904e04f1"
    },
    {
      "cell_type": "code",
      "source": "def visualize_red_foam_brick():\n    \"\"\"\n    Visualize red foam brick in Meshcat.\n    \"\"\"\n    builder = DiagramBuilder()\n    plant, scene_graph = AddMultibodyPlantSceneGraph(builder, time_step=0.0)\n    parser = Parser(plant)\n    parser.AddModelsFromUrl(\n        \"package://drake_models/manipulation_station/061_foam_brick.sdf\"\n    )\n    AddMultibodyTriad(plant.GetFrameByName(\"base_link\"), scene_graph)\n    plant.Finalize()\n\n    # Setup Meshcat\n    MeshcatVisualizer.AddToBuilder(builder, scene_graph, meshcat)\n    diagram = builder.Build()\n    context = diagram.CreateDefaultContext()\n    diagram.ForcedPublish(context)\n\n\ndef generate_model_pointcloud(xrange, yrange, zrange, res):\n    \"\"\"\n    Procedurally generate pointcloud of a rectangle for each side.\n    \"\"\"\n    # Decide on how many samples\n    x_lst = np.linspace(xrange[0], xrange[1], int((xrange[1] - xrange[0]) / res))\n    y_lst = np.linspace(yrange[0], yrange[1], int((yrange[1] - yrange[0]) / res))\n    z_lst = np.linspace(zrange[0], zrange[1], int((zrange[1] - zrange[0]) / res))\n\n    pcl_lst = []\n    # Do XY Plane\n    for x in x_lst:\n        for y in y_lst:\n            pcl_lst.append([x, y, zrange[0]])\n            pcl_lst.append([x, y, zrange[1]])\n\n    # Do YZ Plane\n    for y in y_lst:\n        for z in z_lst:\n            pcl_lst.append([xrange[0], y, z])\n            pcl_lst.append([xrange[1], y, z])\n\n    # Do XZ Plane\n    for x in x_lst:\n        for z in z_lst:\n            pcl_lst.append([x, yrange[0], z])\n            pcl_lst.append([x, yrange[1], z])\n\n    return np.array(pcl_lst).T\n\n\nvisualize_red_foam_brick()\nmodel_pcl_np = generate_model_pointcloud(\n    [-0.0375, 0.0375], [-0.025, 0.025], [0.0, 0.05], 0.002\n)\nmeshcat.SetObject(\"pcl_model\", ToPointCloud(model_pcl_np), rgba=Rgba(0, 0, 1, 1))",
      "metadata": {
        "id": "kfyNbppxqGhr",
        "colab": {},
        "colab_type": "code",
        "cell_id": "8ab4720aa18945709f4765ea5be0e4ae",
        "deepnote_cell_type": "code"
      },
      "outputs": [],
      "outputs_reference": null,
      "execution_count": null,
      "block_group": "ed2d2fc6f3ec4af99d5c133e0fa1de0d",
      "content_dependencies": null
    },
    {
      "cell_type": "markdown",
      "source": "## Getting the Scene Pointcloud\n\nNow let's set up the ClutteringStation from last lecture and actually take a pointcloud snapshot of the scene with the `red_foam_brick`. We'll place the camera where we have good coverage of the bin. We'll also take a pointcloud snapshot without the `red_foam_brick` so that we can use it for segmentation later.\n\nNOTE: There are around `3e7` points that are trying to be published to the visualizer, so things might load slowly, and occasionally the Colab session might crash. Keep calm and run the cells from the beginning!",
      "metadata": {
        "id": "g6yaPL78TUhD",
        "colab_type": "text",
        "cell_id": "bb5c58f4adb1403a8cc389308b4ff106",
        "deepnote_cell_type": "markdown"
      },
      "block_group": "ded836a93f824461bd08b01a1a437f17"
    },
    {
      "cell_type": "code",
      "source": "meshcat.Delete()\n\n\ndef setup_clutter_station(with_brick=True):\n    builder = DiagramBuilder()\n\n    scenario_data = \"\"\"\ndirectives:\n- add_model:\n    name: bin0\n    file: package://manipulation/hydro/bin.sdf\n\n- add_weld:\n    parent: world\n    child: bin0::bin_base\n    X_PC:\n      rotation: !Rpy { deg: [0.0, 0.0, 90.0 ]}\n      translation: [-0.145, -0.63, 0.075]\n\n- add_model:\n    name: bin1\n    file: package://manipulation/hydro/bin.sdf\n\n- add_weld:\n    parent: world\n    child: bin1::bin_base\n    X_PC:\n      rotation: !Rpy { deg: [0.0, 0.0, 180.0 ]}\n      translation: [0.5, -0.1, 0.075]\n\"\"\"\n    if with_brick:\n        scenario_data += \"\"\"\n- add_model:\n    name: brick\n    file: package://manipulation/hydro/061_foam_brick.sdf\n    default_free_body_pose:\n        base_link:\n            translation: [-0.1, -0.6, 0.09]\n            rotation: !Rpy { deg: [0, 0, 18] }    \n\"\"\"\n    scenario_data += \"\"\"\n- add_model:\n    name: camera\n    file: package://manipulation/camera_box.sdf\n- add_weld:\n    parent: world\n    child: camera::base\n    X_PC:\n        translation: [-0.1, -0.8, 0.5]\n        rotation: !Rpy { deg: [-150, 0, 0] }\ncameras:\n    main_camera:\n        name: camera0\n        depth: True\n        X_PB:\n            base_frame: camera::base\n\"\"\"\n\n    scenario = LoadScenario(data=scenario_data)\n    station = builder.AddSystem(MakeHardwareStation(scenario, meshcat))\n    plant = station.GetSubsystemByName(\"plant\")\n    scene_graph = station.GetSubsystemByName(\"scene_graph\")\n    AddMultibodyTriad(\n        plant.GetFrameByName(\"base\", plant.GetModelInstanceByName(\"camera\")),\n        scene_graph,\n    )\n\n    # Send the point cloud to meshcat for visualization, too.\n    to_point_cloud = AddPointClouds(\n        scenario=scenario, station=station, builder=builder, meshcat=meshcat\n    )\n    if isinstance(to_point_cloud, list):\n        # TODO(russt): Remove this after Fall 2023 pset 4 is safely wrapped up\n        builder.ExportOutput(to_point_cloud[0].get_output_port(), \"camera_point_cloud\")\n    else:\n        builder.ExportOutput(\n            to_point_cloud[\"camera0\"].get_output_port(), \"camera_point_cloud\"\n        )\n\n    diagram = builder.Build()\n    diagram.set_name(\"clutter_station\")\n    return diagram\n\n\n# Take a pointcloud snapshot of the background to use for subtraction\ndiagram = setup_clutter_station(with_brick=False)\ncontext = diagram.CreateDefaultContext()\ndiagram.ForcedPublish(context)\n# Note: The use of Crop here removes non-finite returns, and also makes a copy of\n# the data, which is important since the diagram that owns it will be garbage\n# collected.\nscene_pcl_drake_background = (\n    diagram.GetOutputPort(\"camera_point_cloud\")\n    .Eval(context)\n    .Crop(lower_xyz=[-5, -5, -5], upper_xyz=[5, 5, 5])\n)\n\n# Take a pointcloud snapshot of the scene with the brick.\ndiagram = setup_clutter_station(with_brick=True)\ncontext = diagram.CreateDefaultContext()\ndiagram.ForcedPublish(context)\nscene_pcl_drake = (\n    diagram.GetOutputPort(\"camera_point_cloud\")\n    .Eval(context)\n    .Crop(lower_xyz=[-5, -5, -5], upper_xyz=[5, 5, 5])\n)\n\nplant = diagram.GetSubsystemByName(\"station\").GetSubsystemByName(\"plant\")\nplant_context = plant.GetMyContextFromRoot(context)\nX_WO = plant.EvalBodyPoseInWorld(plant_context, plant.GetBodyByName(\"base_link\"))",
      "metadata": {
        "id": "lA_9j_2pSsTY",
        "colab": {},
        "colab_type": "code",
        "cell_id": "ce0a0f6f8cce4d5e84e9549727178e77",
        "deepnote_cell_type": "code"
      },
      "outputs": [],
      "outputs_reference": null,
      "execution_count": null,
      "block_group": "473b3c9a312b47f28a4826f011f71680",
      "content_dependencies": null
    },
    {
      "cell_type": "markdown",
      "source": "## Visualizing the Problem ##\n\nThat was a lot of work, but if you run the below cell, Meshcat will finally show you a clean formulation of the main problem. We have 3 pointcloud objects in Meshcat:\n\n- `pcl_model`: Pointcloud of models\n- `pcl_scene`: Raw pointcloud of the foam-brick scene obtained from a RGBD camera.\n- `pcl_scene_background`: Raw pointcloud of the background obtained from a RGBD camera.\n\nIn case you forgot, In Meshcat's menu you can go into the `meshcat` tab and turn different objects on and off so that you can see what the background pointcloud looks like as well.\n\nNOTE: You might have to wait a bit until the bin pointcloud shows up.\n\n",
      "metadata": {
        "id": "MbgWqzgcUaAX",
        "colab_type": "text",
        "cell_id": "b70afa0c37c346c395156a2170bd6e01",
        "deepnote_cell_type": "markdown"
      },
      "block_group": "56da1defa94247bfa30e123577921af3"
    },
    {
      "cell_type": "code",
      "source": "meshcat.Delete()\n\nmeshcat.SetObject(\"pcl_model\", ToPointCloud(model_pcl_np), rgba=Rgba(0, 0, 1, 1))\nmeshcat.SetObject(\"pcl_scene\", scene_pcl_drake)\nmeshcat.SetObject(\"pcl_scene_background\", scene_pcl_drake_background)",
      "metadata": {
        "id": "0zMWmIMh5upv",
        "colab": {},
        "colab_type": "code",
        "cell_id": "49bf8a371b104b7f82423931a35af320",
        "deepnote_cell_type": "code"
      },
      "outputs": [],
      "outputs_reference": null,
      "execution_count": null,
      "block_group": "bb6c830da4b842028740eebc2e54f605",
      "content_dependencies": null
    },
    {
      "cell_type": "markdown",
      "source": "If we simply run ICP with `pcl_model` and `pcl_scene`, we might get a terrible result because there might be features in the background that the model is trying to run correspondence with. So we'd like to vet the problem a bit and perform **segmentation**: which parts of the scene pointcloud corresponds to an actual point on the `red_foam_brick`?\n\n\n**Now it's your turn to code!**\n\nBelow, you will implement a function `segment_scene_pcl` that takes in a pointcloud of the scene and return the relevant points that are actually on the `red_foam_brick`. But here are the rules of the game:\n- You **may** use color data, the background pointcloud, and any outlier detection algorithm that you can write to perform segmentation.\n- You may **not** explicitly impose conditions on the position to filter out the data. Remember that our goal is to estimate the pose in the first place, so using position will be considered cheating.\n- You may **not** use external libraries that are not in this notebook already.\n\nIn order to get full score for this assignment, you need to satisfy both criteria:\n- The number of false outliers (points which are not on the red brick but was caught by segmentation) must not exceed 80 points.\n- The number of missed inliers (points that are on the red brick but was not caught by segmentation) must not exceed 80 points.\n\nYou will be able to visualize your segmented pointclouds on Meshcat by running the cell.",
      "metadata": {
        "id": "TriejkVOWlsN",
        "colab_type": "text",
        "cell_id": "d65333a2154e443c98bf86f3f4b5ab9a",
        "deepnote_cell_type": "markdown"
      },
      "block_group": "c816adab2ab441f39cac0f26162dd0d1"
    },
    {
      "cell_type": "code",
      "source": "def segment_scene_pcl(\n    scene_pcl_np,\n    scene_rgb_np,\n    scene_pcl_np_background,\n    scene_rgb_np_background,\n):\n    \"\"\"\n    Inputs:\n    scene_pcl_np: 3xN np.float32 array of pointclouds, each row containing xyz\n                    position of each point in meters.\n    scene_rgb_np: 3xN np.uint8   array of pointclouds, each row containing rgb\n                    color data of each point.\n    scene_pcl_np_background: 3xN np.float32 array of pointclouds, each row\n                    containing xyz position of each point in meters.\n    scene_rgb_np_background: 3xN np.uint8   array of pointclouds, each row\n                    containing rgb color data of each point.\n\n    Outputs:\n    scene_pcl_np_filtered: 3xM np.float32 array of pointclouds that are on the\n                    foam brick.\n    \"\"\"\n    ####################\n    # Fill your code here.\n\n    scene_pcl_np_filtered = scene_pcl_np\n    ####################\n\n    return scene_pcl_np_filtered\n\n\nscene_pcl_np_filtered = segment_scene_pcl(\n    scene_pcl_drake.xyzs(),\n    scene_pcl_drake.rgbs(),\n    scene_pcl_drake_background.xyzs(),\n    scene_pcl_drake_background.rgbs(),\n)\nmeshcat.SetObject(\n    \"pcl_scene_filtered\",\n    ToPointCloud(scene_pcl_np_filtered),\n    rgba=Rgba(0, 1, 0, 1),\n)",
      "metadata": {
        "id": "2OY3fQjJGU3A",
        "colab": {},
        "colab_type": "code",
        "cell_id": "1f3ba192248b4ca3a50d3c3b7a936886",
        "deepnote_cell_type": "code"
      },
      "outputs": [],
      "outputs_reference": null,
      "execution_count": null,
      "block_group": "091c866298034cdc809bc6df9f3546bc",
      "content_dependencies": null
    },
    {
      "cell_type": "markdown",
      "source": "## ICP for Pose Estimation\n\nNow that we have a subset of scene points that we want to use to estimate the pose, let's do ICP to figure out what ${}^W X^O$ is. Instead of implementing your own ICP this time, we will use the version we developed in the chapter notes.\n\nWe know that ICP can't work very well without even a rough initialization. Let's assume that we at least know that the `red_foam_brick` is inside the bin, so that we can initialize the ${}^W X^O$ to be at the center of the bin with an identity rotation.",
      "metadata": {
        "id": "FiZex_EDa-RC",
        "colab_type": "text",
        "cell_id": "0333bd7e73ad46ad97343a04577d7fc4",
        "deepnote_cell_type": "markdown"
      },
      "block_group": "420ce0671b334911b1a7ff5cb0c23412"
    },
    {
      "cell_type": "code",
      "source": "initial_guess = RigidTransform()\ninitial_guess.set_translation([-0.145, -0.63, 0.09])\ninitial_guess.set_rotation(RotationMatrix.MakeZRotation(np.pi / 2))",
      "metadata": {
        "id": "XADq9uCGK2rV",
        "colab": {},
        "colab_type": "code",
        "cell_id": "ba32b86aa4ce490bb923164ae8c32945",
        "deepnote_cell_type": "code"
      },
      "outputs": [],
      "outputs_reference": null,
      "execution_count": null,
      "block_group": "0e7b9cd26e914a9db6aec9bde866320b",
      "content_dependencies": null
    },
    {
      "cell_type": "markdown",
      "source": "Let's run the algorithm on your processed point cloud and see how we do!\n",
      "metadata": {
        "id": "Cr4AkNyohLYF",
        "colab_type": "text",
        "cell_id": "64db87f2c7054ae8a010a6cbcec4eb17",
        "deepnote_cell_type": "markdown"
      },
      "block_group": "904054cbf80e4802a17c1e24c988f948"
    },
    {
      "cell_type": "code",
      "source": "X_MS_hat, chat = IterativeClosestPoint(\n    p_Om=model_pcl_np,\n    p_Ws=scene_pcl_np_filtered,\n    X_Ohat=initial_guess,\n    meshcat=meshcat,\n    meshcat_scene_path=\"icp\",\n    max_iterations=25 if running_as_notebook else 2,\n)\nmeshcat.SetObject(\"pcl_estimated\", ToPointCloud(model_pcl_np), rgba=Rgba(1, 0, 1, 1))\nmeshcat.SetTransform(\"pcl_estimated\", X_MS_hat)\n\nnp.set_printoptions(precision=3, suppress=True)\nX_OOhat = X_MS_hat.inverse().multiply(X_WO)\n\nrpy = RollPitchYaw(X_OOhat.rotation()).vector()\nxyz = X_OOhat.translation()\n\nprint(\"RPY Error: \" + str(rpy))\nprint(\"XYZ Error: \" + str(xyz))",
      "metadata": {
        "id": "n-wijftedyAH",
        "colab": {},
        "colab_type": "code",
        "cell_id": "c0f4fdd7798a48f8bc56ba72e766e5ea",
        "deepnote_cell_type": "code"
      },
      "outputs": [],
      "outputs_reference": null,
      "execution_count": null,
      "block_group": "2fc5aae02a1247149eb9c0608d335bf4",
      "content_dependencies": null
    },
    {
      "cell_type": "markdown",
      "source": "## How will this notebook be Graded?\n\nIf you are enrolled in the class, this notebook will be graded using [Gradescope](www.gradescope.com). You should have gotten the enrollement code on our announcement in Piazza.\n\nFor submission of this assignment, you must do as follows:.\n- Download and submit the notebook `pose_estimation_icp.ipynb` to Gradescope's notebook submission section, along with your notebook for the other problems.\n\nWe will evaluate the local functions in the notebook to see if the function behaves as we have expected. For this exercise, the rubric is as follows:\n- [4 pts] `segment_scene_pcl` correctly segments the scene by having less than 80 missed inliers and 80 false outliers.\n\nBelow is our autograder where you can check your score!",
      "metadata": {
        "id": "zPmeRLtJk410",
        "colab_type": "text",
        "cell_id": "dfea83cb19154d408e91041a149782e0",
        "deepnote_cell_type": "markdown"
      },
      "block_group": "d1ea683e0d9c49beb1da18886d0359e1"
    },
    {
      "cell_type": "code",
      "source": "Grader.grade_output([TestPoseEstimation], [locals()], \"results.json\")\nGrader.print_test_results(\"results.json\")",
      "metadata": {
        "id": "WrTSDUHk3S_J",
        "colab": {},
        "colab_type": "code",
        "cell_id": "b186464c11f64454b4fce0b8db32dc37",
        "deepnote_cell_type": "code"
      },
      "outputs": [],
      "outputs_reference": null,
      "execution_count": null,
      "block_group": "350be08e9da94130b051f80e8b119b3f",
      "content_dependencies": null
    },
    {
      "cell_type": "markdown",
      "source": "<a style='text-decoration:none;line-height:16px;display:flex;color:#5B5B62;padding:10px;justify-content:end;' href='https://deepnote.com?utm_source=created-in-deepnote-cell&projectId=ea20f703-e3e0-4399-93f9-5b4dd11062c2' target=\"_blank\">\n<img alt='Created in deepnote.com' style='display:inline;max-height:16px;margin:0px;margin-right:7.5px;' src='data:image/svg+xml;base64,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' > </img>\nCreated in <span style='font-weight:600;margin-left:4px;'>Deepnote</span></a>",
      "metadata": {
        "created_in_deepnote_cell": true,
        "deepnote_cell_type": "markdown"
      }
    }
  ],
  "nbformat": 4,
  "nbformat_minor": 0,
  "metadata": {
    "deepnote_notebook_id": "3408e3fda5ee44d8a304cc4d64575700",
    "deepnote_execution_queue": []
  }
}