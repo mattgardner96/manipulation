{
  "cells": [
    {
      "cell_type": "markdown",
      "metadata": {
        "cell_id": "fd14fe71299d4e7b86be53aa797c415e",
        "colab_type": "text",
        "deepnote_cell_type": "markdown",
        "id": "OE4xjKWgtIX2"
      },
      "source": [
        "# Bunny ICP"
      ]
    },
    {
      "cell_type": "code",
      "execution_count": 3,
      "metadata": {
        "cell_id": "34e2d80a77854e37a43e6ef940590371",
        "colab": {},
        "colab_type": "code",
        "deepnote_cell_type": "code",
        "id": "KdXAerwV13rQ",
        "lines_to_end_of_cell_marker": 2
      },
      "outputs": [],
      "source": [
        "# Imports\n",
        "import numpy as np\n",
        "from pydrake.all import PointCloud, Rgba, RigidTransform, RotationMatrix, StartMeshcat\n",
        "from scipy.spatial import KDTree\n",
        "\n",
        "from manipulation import FindResource\n",
        "from manipulation.exercises.grader import Grader\n",
        "from manipulation.exercises.pose.test_icp import TestICP"
      ]
    },
    {
      "cell_type": "code",
      "execution_count": 4,
      "metadata": {
        "cell_id": "f56761358d79492ea649ac56a5111cb1",
        "deepnote_cell_type": "code"
      },
      "outputs": [
        {
          "name": "stderr",
          "output_type": "stream",
          "text": [
            "INFO:drake:Meshcat listening for connections at http://localhost:7002\n"
          ]
        }
      ],
      "source": [
        "# Start the visualizer.\n",
        "meshcat = StartMeshcat()"
      ]
    },
    {
      "cell_type": "markdown",
      "metadata": {
        "cell_id": "94a8d51a176646e6a41bff4cefd3ce75",
        "colab_type": "text",
        "deepnote_cell_type": "markdown",
        "id": "jigwRNW7tIYQ"
      },
      "source": [
        "## Problem Description\n",
        "In the lecture, we learned about the Iterative Closest Point (ICP) algorithm. In this exercise, you will implement the ICP algorithm to solve the standard Stanford Bunny problem!\n",
        "\n",
        "**These are the main steps of the exercise:**\n",
        "1. Implement the ```least_squares_transform``` function to optimize transformation given correspondence\n",
        "2. Implement the ```icp``` algorithm using the functions implemented above.\n",
        "\n",
        "Let's first visualize the point clouds of Stanford bunny in meshcat!"
      ]
    },
    {
      "cell_type": "code",
      "execution_count": 7,
      "metadata": {
        "cell_id": "4286f11404f645d4ad4af53d34662308",
        "colab": {
          "base_uri": "https://localhost:8080/",
          "height": 51
        },
        "colab_type": "code",
        "deepnote_cell_type": "code",
        "id": "VnQvdI6nOl4d",
        "outputId": "866d6e69-d188-4669-8b01-825d8e616b0d"
      },
      "outputs": [],
      "source": [
        "# Visualize Stanford Bunny\n",
        "xyzs = np.load(FindResource(\"models/bunny/bunny.npy\"))\n",
        "cloud = PointCloud(xyzs.shape[1])\n",
        "cloud.mutable_xyzs()[:] = xyzs\n",
        "\n",
        "# Pose for the blue bunny\n",
        "X_blue = RigidTransform(RotationMatrix.MakeXRotation(np.pi / 6), [-0.1, 0.1, 0.1])\n",
        "\n",
        "pointcloud_model = xyzs\n",
        "pointcloud_scene = X_blue.multiply(xyzs)\n",
        "\n",
        "meshcat.Delete()\n",
        "meshcat.SetProperty(\"/Background\", \"visible\", False)\n",
        "meshcat.SetProperty(\"/Cameras/default/rotated/<object>\", \"zoom\", 10.5)\n",
        "meshcat.SetObject(\"red_bunny\", cloud, point_size=0.01, rgba=Rgba(1.0, 0, 0))\n",
        "meshcat.SetTransform(\"red_bunny\", RigidTransform())\n",
        "meshcat.SetObject(\"blue_bunny\", cloud, point_size=0.01, rgba=Rgba(0, 0, 1.0))\n",
        "meshcat.SetTransform(\"blue_bunny\", X_blue)"
      ]
    },
    {
      "cell_type": "markdown",
      "metadata": {
        "cell_id": "0012cd0d05c04d55889ca27e8b48e952",
        "colab_type": "text",
        "deepnote_cell_type": "markdown",
        "id": "abo92_2stIYW"
      },
      "source": [
        "## Point cloud registration with known correspondences\n",
        "\n",
        "In this section, you will follow the [derivation](http://manipulation.csail.mit.edu/pose.html#registration) to solve the optimization problem below.\n",
        "\n",
        "$$\\begin{aligned} \\min_{p\\in\\mathbb{R}^3,R\\in\\mathbb{R}^{3\\times3}} \\quad & \\sum_{i=1}^{N_s} \\| p + R \\hspace{.1cm} {^Op^{m_{c_i}}} - p^{s_i}\\|^2, \\\\ s.t. \\quad & RR^T = I, \\quad \\det(R)=1\\end{aligned}$$\n",
        "\n",
        "The goal is to find the transform that registers the point clouds of the model and the scene, assuming the correspondence is known.  You may refer to the implementation from [deepnote](https://deepnote.com/workspace/Manipulation-ac8201a1-470a-4c77-afd0-2cc45bc229ff/project/4-Geometric-Pose-Estimation-cc6340f5-374e-449a-a195-839a3cedec4a/%2Ficp.ipynb) and the explanation from [textbook](http://manipulation.csail.mit.edu/pose.html#icp).\n",
        "\n",
        "In the cell below, implement the ```least_squares_transform``` nethod."
      ]
    },
    {
      "cell_type": "code",
      "execution_count": 91,
      "metadata": {},
      "outputs": [],
      "source": [
        "def least_squares_transform(scene, model) -> RigidTransform:\n",
        "    \"\"\"\n",
        "    Calculates the least-squares best-fit transform that maps corresponding\n",
        "    points scene to model.\n",
        "    Args:\n",
        "      scene: 3xN numpy array of corresponding points\n",
        "      model: 3xM numpy array of corresponding points\n",
        "    Returns:\n",
        "      X_BA: A RigidTransform object that maps point_cloud_A on to point_cloud_B\n",
        "            such that\n",
        "                        X_BA.multiply(model) ~= scene,\n",
        "    \"\"\"\n",
        "    # Compute centroids\n",
        "    p_sbar = np.mean(scene, axis=1)\n",
        "    p_Ombar = np.mean(model, axis=1)\n",
        "\n",
        "    # Center the points\n",
        "    centered_scene = scene - p_sbar[:, np.newaxis]\n",
        "    centered_model = model - p_Ombar[:, np.newaxis]\n",
        "    merr = model - p_Ombar[:, np.newaxis]\n",
        "    serr = scene - p_sbar[:, np.newaxis]\n",
        "\n",
        "    W = np.matmul(serr.T, merr)\n",
        "\n",
        "    # SVD\n",
        "    U, Sigma, Vt = np.linalg.svd(W)\n",
        "    R = np.matmul(U, Vt)\n",
        "    if np.linalg.det(R) < 0:\n",
        "        print(\"fixing improper rotation\")\n",
        "        Vt[-1, :] *= -1\n",
        "        R = np.matmul(U, Vt)\n",
        "\n",
        "    # Ensure a right-handed coordinate system\n",
        "    # if np.linalg.det(R_matrix) < 0:\n",
        "    #     Vt[2, :] *= -1\n",
        "    #     R_matrix = Vt.T @ U.T\n",
        "\n",
        "    # Compute translation\n",
        "    t = p_sbar - np.matmul(R,p_Ombar)\n",
        "\n",
        "    # Construct the RigidTransform object\n",
        "    X_BA = RigidTransform(R=RotationMatrix(R), p=t)\n",
        "\n",
        "    return X_BA"
      ]
    },
    {
      "cell_type": "code",
      "execution_count": 92,
      "metadata": {
        "cell_id": "1216873b944b4c2dbf893f539867246c",
        "colab": {},
        "colab_type": "code",
        "deepnote_cell_type": "code",
        "id": "ll_FlqVotIYX"
      },
      "outputs": [],
      "source": [
        "# def least_squares_transform(scene, model) -> RigidTransform:\n",
        "#     \"\"\"\n",
        "#     Calculates the least-squares best-fit transform that maps corresponding\n",
        "#     points scene to model.\n",
        "#     Args:\n",
        "#       scene: 3xN numpy array of corresponding points\n",
        "#       model: 3xM numpy array of corresponding points\n",
        "#     Returns:\n",
        "#       X_BA: A RigidTransform object that maps point_cloud_A on to point_cloud_B\n",
        "#             such that\n",
        "#                         X_BA.multiply(model) ~= scene,\n",
        "#     \"\"\"\n",
        "#     X_BA = RigidTransform()\n",
        "\n",
        "#     # first, compute the central points of the model and scene\n",
        "#     p_Ombar = np.mean(model, axis=1)\n",
        "#     p_sbar = np.mean(scene, axis=1)\n",
        "\n",
        "#     scene_p_diffs = scene - p_sbar[:,None]\n",
        "#     model_p_diffs = model - p_Ombar[:,None]\n",
        "\n",
        "#     U,S,Vt = np.linalg.svd(scene_p_diffs @ model_p_diffs.T)\n",
        "\n",
        "#     D = np.array([1, 1, np.linalg.det(U@Vt)])\n",
        "#     Rstar = RotationMatrix(R=(U.T * D * Vt.T))\n",
        "    \n",
        "#     # calculate optimal translation\n",
        "#     pstar = p_sbar - Rstar @ p_Ombar\n",
        "\n",
        "#     # print(f\"{Rstar=}, {pstar=}\")\n",
        "\n",
        "#     X_BA = RigidTransform(R=Rstar, p=pstar)\n",
        "\n",
        "#     return X_BA"
      ]
    },
    {
      "cell_type": "markdown",
      "metadata": {
        "cell_id": "59789d8dee9c47e4a84d0d763b8b64cd",
        "colab_type": "text",
        "deepnote_cell_type": "markdown",
        "id": "IejlqJ3vtIYg"
      },
      "source": [
        "## Point correspondence from closest point\n",
        "The ```least_squares_transform``` function assumes that the point correspondence is known. Unfortunately, this is often not the case, so we will have to estimate the point correspondence as well. A common heuristics for estimating point correspondence is the closest point/nearest neighbor.\n",
        "\n",
        "We have implemented the closest neighbors using [scipy's implementation](https://docs.scipy.org/doc/scipy/reference/generated/scipy.spatial.KDTree.html) of [k-d trees](https://en.wikipedia.org/wiki/K-d_tree)."
      ]
    },
    {
      "cell_type": "code",
      "execution_count": 93,
      "metadata": {
        "cell_id": "91a4cb35d025401496f05eded5092b20",
        "colab": {},
        "colab_type": "code",
        "deepnote_cell_type": "code",
        "id": "_-bGj1a1OkbU"
      },
      "outputs": [],
      "source": [
        "def nearest_neighbors(scene, model):\n",
        "    \"\"\"\n",
        "    Find the nearest (Euclidean) neighbor in model for each\n",
        "    point in scene\n",
        "    Args:\n",
        "        scene: 3xN numpy array of points\n",
        "        model: 3xM numpy array of points\n",
        "    Returns:\n",
        "        distances: (N, ) numpy array of Euclidean distances from each point in\n",
        "            scene to its nearest neighbor in model.\n",
        "        indices: (N, ) numpy array of the indices in model of each\n",
        "            scene point's nearest neighbor - these are the c_i's\n",
        "    \"\"\"\n",
        "    kdtree = KDTree(model.T)\n",
        "\n",
        "    distances, indices = kdtree.query(scene.T, k=1)\n",
        "\n",
        "    return distances.flatten(), indices.flatten()"
      ]
    },
    {
      "cell_type": "markdown",
      "metadata": {
        "cell_id": "c0a0cce6d2c34a6c858425d79b47fe5c",
        "colab_type": "text",
        "deepnote_cell_type": "markdown",
        "id": "KtvN0kBntIYo"
      },
      "source": [
        "## Iterative Closest Point (ICP)\n",
        "Now you should be able to register two point clouds iteratively by first finding/updating the estimate of point correspondence with ```nearest_neighbors``` and then computing the transform using ```least_squares_transform```. You may refer to the explanation from [textbook](http://manipulation.csail.mit.edu/pose.html#icp).\n",
        "\n",
        "**In the cell below, complete the implementation of ICP algorithm using the  ```nearest_neighbors``` and ```least_squares_transform``` methods from above.**"
      ]
    },
    {
      "cell_type": "code",
      "execution_count": 94,
      "metadata": {
        "cell_id": "6ffafa0e56cd46a69041fbdc56bdbe7f",
        "colab": {},
        "colab_type": "code",
        "deepnote_cell_type": "code",
        "id": "wETDMjk4tIYp"
      },
      "outputs": [],
      "source": [
        "def icp(scene, model, max_iterations=20, tolerance=1e-3):\n",
        "    \"\"\"\n",
        "    Perform ICP to return the correct relative transform between two set of points.\n",
        "    Args:\n",
        "        scene: 3xN numpy array of points\n",
        "        model: 3xM numpy array of points\n",
        "        max_iterations: max amount of iterations the algorithm can perform.\n",
        "        tolerance: tolerance before the algorithm converges.\n",
        "    Returns:\n",
        "      X_BA: A RigidTransform object that maps point_cloud_A on to point_cloud_B\n",
        "            such that\n",
        "                        X_BA.multiply(model) ~= scene,\n",
        "      mean_error: Mean of all pairwise distances.\n",
        "      num_iters: Number of iterations it took the ICP to converge.\n",
        "    \"\"\"\n",
        "    X_BA = RigidTransform()\n",
        "\n",
        "    mean_error = 0\n",
        "    num_iters = 0\n",
        "    prev_error = 0\n",
        "\n",
        "    while True:\n",
        "        num_iters += 1\n",
        "\n",
        "        # your code here\n",
        "        ##################\n",
        "        corr_distances, corr_indices = nearest_neighbors(scene, model)\n",
        "        X_BA = least_squares_transform(scene, model[:, corr_indices])\n",
        "\n",
        "        transformed_model = X_BA.multiply(model)\n",
        "\n",
        "        # Modify to add mean error.\n",
        "        mean_error = np.mean(corr_distances)\n",
        "        \n",
        "        ##################\n",
        "\n",
        "        if abs(mean_error - prev_error) < tolerance or num_iters >= max_iterations:\n",
        "            break\n",
        "\n",
        "        prev_error = mean_error\n",
        "\n",
        "        meshcat.SetTransform(\"red_bunny\", X_BA)\n",
        "\n",
        "    return X_BA, mean_error, num_iters"
      ]
    },
    {
      "cell_type": "markdown",
      "metadata": {
        "cell_id": "dcf53bf373b2454fa9cb7f67432e26ca",
        "colab_type": "text",
        "deepnote_cell_type": "markdown",
        "id": "WChfoIVWtIYy"
      },
      "source": [
        "Now you should be able to visualize the registration of the Stanford bunny! Have fun!"
      ]
    },
    {
      "cell_type": "code",
      "execution_count": 95,
      "metadata": {
        "cell_id": "e8e2f85cd82d4b36a70d760784fa2ac6",
        "colab": {},
        "colab_type": "code",
        "deepnote_cell_type": "code",
        "id": "P8oIuMsCDMJM"
      },
      "outputs": [],
      "source": [
        "icp(pointcloud_scene, pointcloud_model, max_iterations=30, tolerance=1e-5)"
      ]
    },
    {
      "cell_type": "markdown",
      "metadata": {
        "cell_id": "b533b63676bb41b49ad6d643353acddd",
        "colab_type": "text",
        "deepnote_cell_type": "markdown",
        "id": "ucRnypactIY2"
      },
      "source": [
        "## How will this notebook be Graded?\n",
        "\n",
        "If you are enrolled in the class, this notebook will be graded using [Gradescope](www.gradescope.com). You should have gotten the enrollement code on our announcement in Piazza.\n",
        "\n",
        "For submission of this assignment, you must:\n",
        "- Download and submit the notebook `bunny_icp.ipynb` to Gradescope's notebook submission section, along with your notebook for the other problems.\n",
        "\n",
        "We will evaluate the local functions in the notebook to see if the function behaves as we have expected. For this exercise, the rubric is as follows:\n",
        "- [3 pts] `least_squares_transform` must be implemented correctly.\n",
        "- [3 pts] `icp` must be implemented correctly."
      ]
    },
    {
      "cell_type": "code",
      "execution_count": 90,
      "metadata": {
        "cell_id": "dd6b7c0d6f944d738f3849bd9c697c48",
        "colab": {},
        "colab_type": "code",
        "deepnote_cell_type": "code",
        "id": "lfmnYSMItIY3",
        "outputId": "21d3a0f9-0e63-4eb7-cc7f-d95677e38c5e"
      },
      "outputs": [
        {
          "name": "stdout",
          "output_type": "stream",
          "text": [
            "Total score is 0/6.\n",
            "\n",
            "Score for Test icp implementation is 0/3.\n",
            "- Test Failed: False is not true : icp implementation is incorrect\n",
            "\n",
            "\n",
            "Score for Test least square transform is 0/3.\n",
            "- Test Failed: False is not true : least square transform is incorrect\n",
            "\n"
          ]
        }
      ],
      "source": [
        "Grader.grade_output([TestICP], [locals()], \"results.json\")\n",
        "Grader.print_test_results(\"results.json\")"
      ]
    },
    {
      "cell_type": "markdown",
      "metadata": {
        "created_in_deepnote_cell": true,
        "deepnote_cell_type": "markdown"
      },
      "source": [
        "<a style='text-decoration:none;line-height:16px;display:flex;color:#5B5B62;padding:10px;justify-content:end;' href='https://deepnote.com?utm_source=created-in-deepnote-cell&projectId=ea20f703-e3e0-4399-93f9-5b4dd11062c2' target=\"_blank\">\n",
        "<img alt='Created in deepnote.com' style='display:inline;max-height:16px;margin:0px;margin-right:7.5px;' src='data:image/svg+xml;base64,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' > </img>\n",
        "Created in <span style='font-weight:600;margin-left:4px;'>Deepnote</span></a>"
      ]
    }
  ],
  "metadata": {
    "deepnote_execution_queue": [],
    "deepnote_notebook_id": "a5e7f54980fc4fe680daf82aea393c48",
    "kernelspec": {
      "display_name": ".venv",
      "language": "python",
      "name": "python3"
    },
    "language_info": {
      "codemirror_mode": {
        "name": "ipython",
        "version": 3
      },
      "file_extension": ".py",
      "mimetype": "text/x-python",
      "name": "python",
      "nbconvert_exporter": "python",
      "pygments_lexer": "ipython3",
      "version": "3.12.4"
    }
  },
  "nbformat": 4,
  "nbformat_minor": 0
}
