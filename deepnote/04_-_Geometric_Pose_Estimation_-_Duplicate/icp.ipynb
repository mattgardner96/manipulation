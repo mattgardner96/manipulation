{
  "cells": [
    {
      "cell_type": "markdown",
      "source": "This notebook provides examples to go along with the [textbook](http://manipulation.csail.mit.edu/pose.html).  I recommend having both windows open, side-by-side!",
      "metadata": {
        "id": "EgiF12Hf1Dhs",
        "colab_type": "text",
        "cell_id": "b46d5e9f9a27490c8914afc5baa86c2b",
        "deepnote_cell_type": "markdown"
      },
      "block_group": "2f0fa964776d463482123857401c0c2e"
    },
    {
      "cell_type": "code",
      "source": "from functools import partial\n\nimport matplotlib.animation as animation\nimport matplotlib.pyplot as plt\nimport mpld3\nimport numpy as np\nfrom IPython.display import HTML, display\nfrom pydrake.all import (\n    CsdpSolver,\n    MathematicalProgram,\n    RigidTransform,\n    RotationMatrix,\n    Solve,\n    ge,\n)\nfrom scipy.spatial import KDTree\n\nfrom manipulation import running_as_notebook\n\nif running_as_notebook:\n    mpld3.enable_notebook()",
      "metadata": {
        "id": "eeMrMI0-1Dhu",
        "colab": {},
        "colab_type": "code",
        "cell_id": "6de34699e9594e32a788edceb8727697",
        "deepnote_cell_type": "code"
      },
      "outputs": [],
      "outputs_reference": null,
      "execution_count": null,
      "block_group": "f3901fb9319b49ac999fc188fce781b4",
      "content_dependencies": null
    },
    {
      "cell_type": "markdown",
      "source": "# Point cloud registration with known correspondences",
      "metadata": {
        "cell_id": "a18ac8eb68274d5bb0dfacc08fa894ff",
        "deepnote_cell_type": "markdown"
      },
      "block_group": "3a08d88923e342cb96788585f599f6a1"
    },
    {
      "cell_type": "code",
      "source": "def MakeRandomObjectModelAndScenePoints(\n    num_model_points=20,\n    noise_std=0,\n    num_outliers=0,\n    yaw_O=None,\n    p_O=None,\n    num_viewable_points=None,\n    seed=None,\n):\n    \"\"\"Returns p_Om, p_s\"\"\"\n    rng = np.random.default_rng(seed)\n\n    # Make a random set of points to define our object in the x,y plane\n    theta = np.arange(0, 2.0 * np.pi, 2.0 * np.pi / num_model_points)\n    l = 1.0 + 0.5 * np.sin(2.0 * theta) + 0.4 * rng.random((1, num_model_points))\n    p_Om = np.vstack((l * np.sin(theta), l * np.cos(theta), 0 * l))\n\n    # Make a random object pose if one is not specified, and apply it to get the scene points.\n    if p_O is None:\n        p_O = [2.0 * rng.random(), 2.0 * rng.random(), 0.0]\n    if len(p_O) == 2:\n        p_O.append(0.0)\n    if yaw_O is None:\n        yaw_O = 0.5 * rng.random()\n    X_O = RigidTransform(RotationMatrix.MakeZRotation(yaw_O), p_O)\n    if num_viewable_points is None:\n        num_viewable_points = num_model_points\n    assert num_viewable_points <= num_model_points\n    p_s = X_O.multiply(p_Om[:, :num_viewable_points])\n    p_s[:2, :] += rng.normal(scale=noise_std, size=(2, num_viewable_points))\n    if num_outliers:\n        outliers = rng.uniform(low=-1.5, high=3.5, size=(3, num_outliers))\n        outliers[2, :] = 0\n        p_s = np.hstack((p_s, outliers))\n\n    return p_Om, p_s, X_O\n\n\ndef MakeRectangleModelAndScenePoints(\n    num_points_per_side=7,\n    noise_std=0,\n    num_outliers=0,\n    yaw_O=None,\n    p_O=None,\n    num_viewable_points=None,\n    seed=None,\n):\n    rng = np.random.default_rng(seed)\n    if p_O is None:\n        p_O = [2.0 * rng.random(), 2.0 * rng.random(), 0.0]\n    if len(p_O) == 2:\n        p_O.append(0.0)\n    if yaw_O is None:\n        yaw_O = 0.5 * rng.random()\n    X_O = RigidTransform(RotationMatrix.MakeZRotation(yaw_O), p_O)\n    if num_viewable_points is None:\n        num_viewable_points = 4 * num_points_per_side\n\n    x = np.arange(-1, 1, 2 / num_points_per_side)\n    half_width = 2\n    half_height = 1\n    top = np.vstack((half_width * x, half_height + 0 * x))\n    right = np.vstack((half_width + 0 * x, -half_height * x))\n    bottom = np.vstack((-half_width * x, -half_height + 0 * x))\n    left = np.vstack((-half_width + 0 * x, half_height * x))\n    p_Om = np.vstack(\n        (\n            np.hstack((top, right, bottom, left)),\n            np.zeros((1, 4 * num_points_per_side)),\n        )\n    )\n    p_s = X_O.multiply(p_Om[:, :num_viewable_points])\n    p_s[:2, :] += rng.normal(scale=noise_std, size=(2, num_viewable_points))\n    if num_outliers:\n        outliers = rng.uniform(low=-1.5, high=3.5, size=(3, num_outliers))\n        outliers[2, :] = 0\n        p_s = np.hstack((p_s, outliers))\n\n    return p_Om, p_s, X_O\n\n\ndef PlotEstimate(p_Om, p_s, Xhat_O=RigidTransform(), chat=None, X_O=None, ax=None):\n    p_m = Xhat_O.multiply(p_Om)\n    if ax is None:\n        ax = plt.subplot()\n    Nm = p_Om.shape[1]\n    artists = ax.plot(p_m[0, :], p_m[1, :], \"bo\")\n    artists += ax.fill(p_m[0, :], p_m[1, :], \"lightblue\", alpha=0.5)\n    artists += ax.plot(p_s[0, :], p_s[1, :], \"ro\")\n    if chat is not None:\n        artists += ax.plot(\n            np.vstack((p_m[0, chat], p_s[0, :])),\n            np.vstack((p_m[1, chat], p_s[1, :])),\n            \"g--\",\n        )\n    if X_O:\n        p_s = X_O.multiply(p_Om)\n    artists += ax.fill(p_s[0, :Nm], p_s[1, :Nm], \"lightsalmon\")\n    ax.axis(\"equal\")\n    return artists\n\n\ndef PrintResults(X_O, Xhat_O):\n    p = X_O.translation()\n    aa = X_O.rotation().ToAngleAxis()\n    print(f\"True position: {p}\")\n    print(f\"True orientation: {aa}\")\n    p = Xhat_O.translation()\n    aa = Xhat_O.rotation().ToAngleAxis()\n    print(f\"Estimated position: {p}\")\n    print(f\"Estimated orientation: {aa}\")\n\n\ndef PoseEstimationGivenCorrespondences(p_Om, p_s, chat):\n    \"\"\"Returns optimal X_O given the correspondences\"\"\"\n    # Apply correspondences, and transpose data to support numpy broadcasting\n    p_Omc = p_Om[:, chat].T\n    p_s = p_s.T\n\n    # Calculate the central points\n    p_Ombar = p_Omc.mean(axis=0)\n    p_sbar = p_s.mean(axis=0)\n\n    # Calculate the \"error\" terms, and form the data matrix\n    merr = p_Omc - p_Ombar\n    serr = p_s - p_sbar\n    W = np.matmul(serr.T, merr)\n\n    # Compute R\n    U, Sigma, Vt = np.linalg.svd(W)\n    R = np.matmul(U, Vt)\n    if np.linalg.det(R) < 0:\n        print(\"fixing improper rotation\")\n        Vt[-1, :] *= -1\n        R = np.matmul(U, Vt)\n\n    # Compute p\n    p = p_sbar - np.matmul(R, p_Ombar)\n\n    return RigidTransform(RotationMatrix(R), p)\n\n\np_Om, p_s, X_O = MakeRandomObjectModelAndScenePoints(num_model_points=20)\n# p_Om, p_s, X_O = MakeRectangleModelAndScenePoints()\nXhat = RigidTransform()\nc = range(p_Om.shape[1])  # perfect, known correspondences\nfig, ax = plt.subplots(1, 2)\nPlotEstimate(p_Om, p_s, Xhat, c, ax=ax[0])\nXhat = PoseEstimationGivenCorrespondences(p_Om, p_s, c)\nax[1].set_xlim(ax[0].get_xlim())\nax[1].set_ylim(ax[0].get_ylim())\nPlotEstimate(p_Om, p_s, Xhat, c, ax=ax[1])\nax[0].set_title(\"Original Data\")\nax[1].set_title(\"After Registration\")\nPrintResults(X_O, Xhat)",
      "metadata": {
        "cell_id": "c5ee3c4d4951445ab96b787424720e1e",
        "deepnote_cell_type": "code"
      },
      "outputs": [],
      "outputs_reference": null,
      "execution_count": null,
      "block_group": "35ca78f5f24143b2b653e95a372b7b6b",
      "content_dependencies": null
    },
    {
      "cell_type": "markdown",
      "source": "# Iterative Closest Point (ICP)",
      "metadata": {
        "id": "AHfxMwrvb1mz",
        "colab_type": "text",
        "cell_id": "849914239d6e426b984e321a464f81f0",
        "deepnote_cell_type": "markdown"
      },
      "block_group": "9e7e0a23f5954faa99ad815771d5f2e9"
    },
    {
      "cell_type": "code",
      "source": "def FindClosestPoints(point_cloud_A, point_cloud_B):\n    \"\"\"\n    Finds the nearest (Euclidean) neighbor in point_cloud_B for each\n    point in point_cloud_A.\n    @param point_cloud_A A 3xN numpy array of points.\n    @param point_cloud_B A 3xN numpy array of points.\n    @return indices An (N, ) numpy array of the indices in point_cloud_B of each\n        point_cloud_A point's nearest neighbor.\n    \"\"\"\n    indices = np.empty(point_cloud_A.shape[1], dtype=int)\n\n    kdtree = KDTree(point_cloud_B.T)\n    for i in range(point_cloud_A.shape[1]):\n        distance, indices[i] = kdtree.query(point_cloud_A[:, i], k=1)\n\n    return indices\n\n\ndef IterativeClosestPoint(p_Om, p_s, X_O=None, animate=True):\n    Xhat = RigidTransform()\n    Nm = p_s.shape[1]\n    chat_previous = (\n        np.zeros(Nm) - 1\n    )  # Set chat to a value that FindClosePoints will never return.\n\n    if animate:\n        fig, ax = plt.subplots()\n        frames = []\n        frames.append(\n            PlotEstimate(p_Om=p_Om, p_s=p_s, Xhat_O=Xhat, chat=None, X_O=X_O, ax=ax)\n        )\n\n    while True:\n        chat = FindClosestPoints(p_s, Xhat.multiply(p_Om))\n        if np.array_equal(chat, chat_previous):\n            # Then I've converged.\n            break\n        chat_previous = chat\n        if animate:\n            frames.append(\n                PlotEstimate(p_Om=p_Om, p_s=p_s, Xhat_O=Xhat, chat=chat, X_O=X_O, ax=ax)\n            )\n        Xhat = PoseEstimationGivenCorrespondences(p_Om, p_s, chat)\n        if animate:\n            frames.append(\n                PlotEstimate(p_Om=p_Om, p_s=p_s, Xhat_O=Xhat, chat=None, X_O=X_O, ax=ax)\n            )\n\n    if animate:\n        ani = animation.ArtistAnimation(fig, frames, interval=400, repeat=False)\n\n        display(HTML(ani.to_jshtml()))\n        plt.close()\n\n    if X_O:\n        PrintResults(X_O, Xhat)\n\n    return Xhat, chat\n\n\np_Om, p_s, X_O = MakeRandomObjectModelAndScenePoints(num_model_points=20)\nIterativeClosestPoint(p_Om, p_s, X_O);",
      "metadata": {
        "id": "N2cYjTpub1m0",
        "tags": [],
        "colab": {},
        "colab_type": "code",
        "cell_id": "08c8b6e5a8d4418685afe2e2fecfa0b1",
        "deepnote_cell_type": "code"
      },
      "outputs": [],
      "outputs_reference": null,
      "execution_count": null,
      "block_group": "04ec4d2e17de4bcc972e0185f2c6bd14",
      "content_dependencies": null
    },
    {
      "cell_type": "markdown",
      "source": "Try increasing the standard deviation on yaw in the example above.  At some point, the performance can get pretty poor!\n\n# ICP with messy point clouds\n\nTry changing the amount of noise, the number of outliers, and/or the partial views.  There are not particularly good theorems here, but I hope that a little bit of play will get you a lot of intuition.",
      "metadata": {
        "id": "WLMLxAJJb1m2",
        "colab_type": "text",
        "cell_id": "49a7cf0acf4a47beb90252da2ead3ca7",
        "deepnote_cell_type": "markdown"
      },
      "block_group": "b375c1037d1c4d07a1a8af1148d92b5e"
    },
    {
      "cell_type": "code",
      "source": "p_Om, p_s, X_O = MakeRectangleModelAndScenePoints(\n    #    noise_std=0.2, # adds noise to each scene point (default is 0.0)\n    #    num_outliers=3, # adds random points from a uniform distribution\n    #    num_viewable_points=9, # only this number of model points appear in the scene points\n    yaw_O=0.2,  # object orientation (comment it out for random rotations)\n    p_O=[1, 2],  # object position (comment it out for random positions)\n)\nIterativeClosestPoint(p_Om, p_s, X_O);",
      "metadata": {
        "tags": [],
        "cell_id": "a96c4836199d4c88aea522511f610747",
        "deepnote_cell_type": "code"
      },
      "outputs": [],
      "outputs_reference": null,
      "execution_count": null,
      "block_group": "bc7f7644a82240a3ab23c5a938ccaf1a",
      "content_dependencies": null
    },
    {
      "cell_type": "markdown",
      "source": "## Is least-squares the right cost function?\n\nHere is a particular setup that is interesting.  The configuration I've given you below results in ICP getting stuck in a local minima.  You will find that the system converges to this local minima from a wide variety of initial conditions.",
      "metadata": {
        "cell_id": "4dfc79ef83024b99984636d5f5b0536b",
        "deepnote_cell_type": "markdown"
      },
      "block_group": "5d6eb831229a47ae88c1ee2edd5a215d"
    },
    {
      "cell_type": "code",
      "source": "p_Om, p_s, X_O = MakeRectangleModelAndScenePoints(\n    num_viewable_points=9,\n    yaw_O=0.2,\n    p_O=[1, 2],\n)\nIterativeClosestPoint(p_Om, p_s, X_O);",
      "metadata": {
        "cell_id": "b896a87dafc248388a29601af8367c93",
        "deepnote_cell_type": "code"
      },
      "outputs": [],
      "outputs_reference": null,
      "execution_count": null,
      "block_group": "281bf86619334b89a9d78a759679b40e",
      "content_dependencies": null
    },
    {
      "cell_type": "markdown",
      "source": "# Non-penetration constraints with nonlinear optimization",
      "metadata": {
        "cell_id": "6618fe69c42d49738ac968fff1bc6883",
        "deepnote_cell_type": "markdown"
      },
      "block_group": "2c5edc13af1f467eaff3bd2a87d3745b"
    },
    {
      "cell_type": "code",
      "source": "def ConstrainedKnownCorrespondenceNonlinearOptimization(p_Om, p_s, chat):\n    \"\"\"This version adds a non-penetration constraint (x,y >= 0)\"\"\"\n\n    p_Omc = p_Om[:2, chat]\n    p_s = p_s[:2, :]\n    Ns = p_s.shape[1]\n\n    prog = MathematicalProgram()\n    p = prog.NewContinuousVariables(2, \"p\")\n    theta = prog.NewContinuousVariables(1, \"theta\")\n\n    def position_model_in_world(vars, i):\n        [p, theta] = np.split(vars, [2])\n        R = np.array(\n            [\n                [np.cos(theta[0]), -np.sin(theta[0])],\n                [np.sin(theta[0]), np.cos(theta[0])],\n            ]\n        )\n        p_Wmci = p + R @ p_Omc[:, i]\n        return p_Wmci\n\n    def squared_distance(vars, i):\n        p_Wmci = position_model_in_world(vars, i)\n        err = p_Wmci - p_s[:, i]\n        return err.dot(err)\n\n    for i in range(Ns):\n        # forall i, |p + R*p_Omi - p_si|²\n        prog.AddCost(partial(squared_distance, i=i), np.concatenate([p[:], theta]))\n        # forall i, p + R*p_Omi >= 0.\n        prog.AddConstraint(\n            partial(position_model_in_world, i=i),\n            vars=np.concatenate([p[:], theta]),\n            lb=[0, 0],\n            ub=[np.inf, np.inf],\n        )\n\n    result = Solve(prog)\n\n    theta_sol = result.GetSolution(theta[0])\n    Rsol = np.array(\n        [\n            [np.cos(theta_sol), -np.sin(theta_sol), 0],\n            [np.sin(theta_sol), np.cos(theta_sol), 0],\n            [0, 0, 1],\n        ]\n    )\n    psol = np.zeros(3)\n    psol[:2] = result.GetSolution(p)\n\n    return RigidTransform(RotationMatrix(Rsol), psol)\n\n\np_Om, p_s, X_O = MakeRectangleModelAndScenePoints(\n    yaw_O=0.2,\n    p_O=[1.5, 1.2],\n)\nc = range(p_Om.shape[1])  # perfect, known correspondences\nXhat_O = ConstrainedKnownCorrespondenceNonlinearOptimization(p_Om, p_s, c)\nPlotEstimate(p_Om=p_Om, p_s=p_s, Xhat_O=Xhat_O, chat=c, X_O=X_O)\nPrintResults(X_O, Xhat_O)\nplt.gca().plot([0, 0], [0, 2.5], \"g-\", linewidth=3)\nplt.gca().plot([0, 4], [0, 0], \"g-\", linewidth=3);",
      "metadata": {
        "cell_id": "dc68d62ac87e43869ab8859d53c65c00",
        "deepnote_cell_type": "code"
      },
      "outputs": [],
      "outputs_reference": null,
      "execution_count": null,
      "block_group": "851d2099d9a644db86dee3668e50840b",
      "content_dependencies": null
    },
    {
      "cell_type": "markdown",
      "source": "# Non-penetration (half-plane) constraints with convex optimization",
      "metadata": {
        "cell_id": "d4ada1b9bad04ffb8e32ca4dd70ccf89",
        "deepnote_cell_type": "markdown"
      },
      "block_group": "ef1b277cb619468eb3ccbf3eab6b9765"
    },
    {
      "cell_type": "code",
      "source": "def ConstrainedKnownCorrespondenceConvexRelaxation(p_Om, p_s, chat):\n    \"\"\"This version adds a non-penetration constraint (x,y >= 0)\"\"\"\n\n    p_Omc = p_Om[:2, chat]\n    p_s = p_s[:2, :]\n    Ns = p_s.shape[1]\n\n    prog = MathematicalProgram()\n    [a, b] = prog.NewContinuousVariables(2)\n    # We use the slack variable as an upper bound on the cost of each point to make the objective linear.\n    slack = prog.NewContinuousVariables(Ns)\n    p = prog.NewContinuousVariables(2)\n    prog.AddBoundingBoxConstraint(0, 1, [a, b])  # This makes Csdp happier\n    R = np.array([[a, -b], [b, a]])\n    prog.AddLorentzConeConstraint([1.0, a, b])\n\n    # Note: Could do this more efficiently, exploiting trace.  But I'm keeping it simpler here.\n    prog.AddCost(np.sum(slack))\n    for i in range(Ns):\n        c = p + np.matmul(R, p_Omc[:, i]) - p_s[:, i]\n        # forall i, slack[i]^2 >= |c|^2\n        prog.AddLorentzConeConstraint([slack[i], c[0], c[1]])\n        # forall i, p + R*mi >= 0.\n        prog.AddConstraint(ge(p + np.matmul(R, p_Omc[:, i]), [0, 0]))\n\n    result = CsdpSolver().Solve(prog)\n\n    [a, b] = result.GetSolution([a, b])\n    Rsol = np.array([[a, -b, 0], [b, a, 0], [0, 0, 1]])\n    psol = np.zeros(3)\n    psol[:2] = result.GetSolution(p)\n\n    return RigidTransform(RotationMatrix(Rsol), psol)\n\n\np_Om, p_s, X_O = MakeRectangleModelAndScenePoints(\n    yaw_O=0.2,\n    p_O=[1.5, 1.2],\n)\nc = range(p_Om.shape[1])  # perfect, known correspondences\nXhat_O = ConstrainedKnownCorrespondenceConvexRelaxation(p_Om, p_s, c)\nPlotEstimate(p_Om=p_Om, p_s=p_s, Xhat_O=Xhat_O, chat=c, X_O=X_O)\nPrintResults(X_O, Xhat_O)\nplt.gca().plot([0, 0], [0, 2.5], \"g-\", linewidth=3)\nplt.gca().plot([0, 4], [0, 0], \"g-\", linewidth=3);",
      "metadata": {
        "cell_id": "833fbd678afb4680bf93c1a38e2b0ac9",
        "deepnote_cell_type": "code"
      },
      "outputs": [],
      "outputs_reference": null,
      "execution_count": null,
      "block_group": "4cc55c8ac5b14243be5fffef0547c2d4",
      "content_dependencies": null
    },
    {
      "cell_type": "code",
      "source": "",
      "metadata": {
        "cell_id": "99cd2e2a108c4668bf9d7a7af2ee440c",
        "deepnote_cell_type": "code"
      },
      "outputs": [],
      "outputs_reference": null,
      "execution_count": null,
      "block_group": "da1c903a5b07487484e43d1bcdf6cb3c",
      "content_dependencies": null
    },
    {
      "cell_type": "markdown",
      "source": "<a style='text-decoration:none;line-height:16px;display:flex;color:#5B5B62;padding:10px;justify-content:end;' href='https://deepnote.com?utm_source=created-in-deepnote-cell&projectId=ea20f703-e3e0-4399-93f9-5b4dd11062c2' target=\"_blank\">\n<img alt='Created in deepnote.com' style='display:inline;max-height:16px;margin:0px;margin-right:7.5px;' src='data:image/svg+xml;base64,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' > </img>\nCreated in <span style='font-weight:600;margin-left:4px;'>Deepnote</span></a>",
      "metadata": {
        "created_in_deepnote_cell": true,
        "deepnote_cell_type": "markdown"
      }
    }
  ],
  "nbformat": 4,
  "nbformat_minor": 0,
  "metadata": {
    "deepnote_notebook_id": "0442f19841884fbfa5437736cc1d93f9",
    "deepnote_execution_queue": []
  }
}