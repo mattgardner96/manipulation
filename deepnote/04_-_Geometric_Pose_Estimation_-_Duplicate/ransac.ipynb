{
  "cells": [
    {
      "cell_type": "markdown",
      "source": "# Ransac and Outlier Removal",
      "metadata": {
        "id": "9CagYlhclDR4",
        "colab_type": "text",
        "cell_id": "6df4938f095b46d8ada2fee2270bcda3",
        "deepnote_cell_type": "markdown"
      },
      "block_group": "7e7200ba900b43bc9bf63751d01a8055"
    },
    {
      "cell_type": "code",
      "source": "import numpy as np\nfrom pydrake.all import (\n    Cylinder,\n    PointCloud,\n    Rgba,\n    RigidTransform,\n    RollPitchYaw,\n    RotationMatrix,\n    StartMeshcat,\n)\n\nfrom manipulation import FindResource\nfrom manipulation.exercises.grader import Grader\nfrom manipulation.exercises.pose.test_ransac import TestRANSAC",
      "metadata": {
        "id": "3kqzbo_AlDR6",
        "colab": {},
        "colab_type": "code",
        "lines_to_end_of_cell_marker": 2,
        "cell_id": "f09a00a64b6840c7947555650ca22cfe",
        "deepnote_cell_type": "code"
      },
      "outputs": [],
      "outputs_reference": null,
      "execution_count": null,
      "block_group": "8a444fe40ea74b099778ec2ed8d6f706",
      "content_dependencies": null
    },
    {
      "cell_type": "code",
      "source": "# Start the visualizer.\nmeshcat = StartMeshcat()\nmeshcat.SetProperty(\"/Background\", \"visible\", False)\nmeshcat.SetProperty(\"/Cameras/default/rotated/<object>\", \"zoom\", 10.5)",
      "metadata": {
        "cell_id": "7a99e0d3b555487daaed0d25acb53924",
        "deepnote_cell_type": "code"
      },
      "outputs": [],
      "outputs_reference": null,
      "execution_count": null,
      "block_group": "65c0295fa31544128b0b6700a4f038ec",
      "content_dependencies": null
    },
    {
      "cell_type": "code",
      "source": "# Visualize Stanford Bunny\nxyzs = np.load(FindResource(\"models/bunny/bunny.npy\"))\n\n# point clouds of planar surface\ngrid_spec = 50\nxy_axis = np.linspace(-0.5, 0.5, grid_spec)\nplane_x, plane_y = np.meshgrid(xy_axis, xy_axis)\npoints_plane_xy = np.c_[plane_x.flatten(), plane_y.flatten(), np.zeros(grid_spec**2)]\nbunny_w_plane = np.c_[points_plane_xy.T, xyzs]\n\n\ndef fit_plane(xyzs):\n    \"\"\"\n    Args:\n      xyzs is (3, N) numpy array\n    Returns:\n      (4,) numpy array\n    \"\"\"\n    center = np.mean(xyzs, axis=1)\n    cxyzs = xyzs.T - center\n    U, S, V = np.linalg.svd(cxyzs)\n    normal = V[-1]  # last row of V\n    d = -center.dot(normal)\n    plane_equation = np.hstack([normal, d])\n    return plane_equation\n\n\n# visualize a facet\ndef DrawFacet(abcd, name, center=None):\n    # TODO(russt): Clean up the math in here.\n    normal = np.array(abcd[:3]).astype(float)\n    normal /= np.linalg.norm(normal)\n    d = -abcd[3] / np.linalg.norm(normal)\n\n    R = np.eye(3)\n    R[:, 2] = normal\n    z = normal\n    if abs(z[0]) < 1e-8:\n        x = np.array([0, -normal[2], normal[1]])\n    else:\n        x = np.array([-normal[1], normal[0], 0])\n    x /= np.linalg.norm(x)\n    R[:, 0] = x\n    R[:, 1] = np.cross(z, x)\n\n    X = np.eye(4)\n    Rz = RollPitchYaw(np.pi / 2, 0, 0).ToRotationMatrix().matrix()\n    X[:3, :3] = R.dot(Rz)\n    if center is None:\n        X[:3, 3] = d * normal\n    else:\n        X[:3, 3] = center\n\n    meshcat.SetObject(\"facets/\" + name + \"/plane\", Cylinder(0.1, 0.005))\n    meshcat.SetTransform(\n        \"facets/\" + name + \"/plane\",\n        RigidTransform(X) @ RigidTransform(RotationMatrix.MakeXRotation(np.pi / 2.0)),\n    )\n\n    meshcat.SetObject(\"facets/\" + name + \"/normal\", Cylinder(0.001, 0.2), Rgba(0, 0, 1))\n    meshcat.SetTransform(\n        \"facets/\" + name + \"/normal\",\n        RigidTransform(X)\n        @ RigidTransform(RotationMatrix.MakeXRotation(np.pi / 2.0), [0, 0.1, 0]),\n    )\n\n\ndef visualize_point_clouds(points, name):\n    cloud = PointCloud(points.shape[1])\n    cloud.mutable_xyzs()[:] = points\n    meshcat.SetObject(name, cloud, point_size=0.01, rgba=Rgba(1.0, 0, 0))",
      "metadata": {
        "cell_id": "7819dfe7ad3b461c9090a7ed645259e1",
        "deepnote_cell_type": "code"
      },
      "outputs": [],
      "outputs_reference": null,
      "execution_count": null,
      "block_group": "c4089839ca9e42cf8ffc301e95fbd759",
      "content_dependencies": null
    },
    {
      "cell_type": "markdown",
      "source": "# Problem Description\nIn the lecture, we learned about the RANSAC algorithm. In this exercise, you will implement the RANSAC algorithm to separate the Stanford bunny from its environment!\n\n**These are the main steps of the exercise:**\n1. Implement the `ransac` method.\n2. Implement the `remove_plane` method to remove the points that belong to the planar surface.\n\nLet's first visualize the point clouds of Stanford bunny in meshcat!",
      "metadata": {
        "id": "Bva0aj0GlDSI",
        "colab_type": "text",
        "cell_id": "da3333673dad4b9a99644f2028bdd767",
        "deepnote_cell_type": "markdown"
      },
      "block_group": "b2ace88d66334bbeb501770c7c1e2435"
    },
    {
      "cell_type": "code",
      "source": "visualize_point_clouds(bunny_w_plane, \"bunny_w_plane\")",
      "metadata": {
        "id": "XtPLYaZhlDSJ",
        "colab": {},
        "colab_type": "code",
        "cell_id": "204ef63488074fb6b05a620da458a462",
        "deepnote_cell_type": "code"
      },
      "outputs": [],
      "outputs_reference": null,
      "execution_count": null,
      "block_group": "d1d10ed0884943699fcfdfbc6c950be7",
      "content_dependencies": null
    },
    {
      "cell_type": "markdown",
      "source": "You should notice that now there is a planar surface underneath the bunny. You may assume the bunny is currently placed on a table, where the planar surface is the tabletop. In this exercise, your objective is to remove the planar surface.",
      "metadata": {
        "id": "zF54ocy-lDSR",
        "colab_type": "text",
        "cell_id": "817643014ae7442290214f07c28cabf4",
        "deepnote_cell_type": "markdown"
      },
      "block_group": "71dc64d71bee48ed8533a1d01452f2b5"
    },
    {
      "cell_type": "markdown",
      "source": "A straightforward way to achieve a better fit is to remove the planar surface underneath the bunny. To do so, we provide you a function to fit a planar surface.\n\nRecall that a plane equation is of the form\n$$a x + b y + c z + d = 0$$\nwhere $[a,b,c]^T$ is a vector normal to the plane and (if it's a unit normal) $d$ is the negative of the distance from the origin to the plane in the direction of the normal.  We'll represent a plane by the vector $[a,b,c,d]$.\n\nThe fitted planes are shown as translucent disks of radius $r$ centered at the points. The gray lines represent the planes' normals.",
      "metadata": {
        "id": "ki2f7sxZlDSS",
        "colab_type": "text",
        "cell_id": "cb0c141d1d964133a7b5f10879c9cf29",
        "deepnote_cell_type": "markdown"
      },
      "block_group": "5cfe691f2f3a4e88b6210ffe40b34eb8"
    },
    {
      "cell_type": "code",
      "source": "plane_equation = fit_plane(bunny_w_plane)\nprint(plane_equation)\nDrawFacet(plane_equation, \"naive_plane\", center=[0, 0, -plane_equation[-1]])",
      "metadata": {
        "id": "g2tMdp5PlDSS",
        "colab": {},
        "colab_type": "code",
        "cell_id": "28c216570a9144f6999531bc6e7f4b86",
        "deepnote_cell_type": "code"
      },
      "outputs": [],
      "outputs_reference": null,
      "execution_count": null,
      "block_group": "e540741ec9b64c5eae0b86bc25c1d54e",
      "content_dependencies": null
    },
    {
      "cell_type": "markdown",
      "source": "You should notice that the planar surface cannot be fitted exactly either. This is because it takes account of all points in the scene to fit the plane. Since a significant portion of the point cloud belongs to the bunny, the fitted plane is noticeably elevated above the ground.\n\nTo improve the result of the fitted plane, you will use RANSAC!",
      "metadata": {
        "id": "HQs47D9SlDSX",
        "colab_type": "text",
        "cell_id": "098fc815f50748838eaa440b4d0e5c1a",
        "deepnote_cell_type": "markdown"
      },
      "block_group": "dc65b20e106446c293b6a47ce80d22b7"
    },
    {
      "cell_type": "markdown",
      "source": "## RANSAC\nWith the presence of outliers (bunny), we can use RANSAC to get more reliable estimates. The idea is to fit a plane using many random choices of a minimal set of points (3), fit a plane for each one, count how many points are within a distance tolerance to that plane (the inliers), and return the estimate with the most inliers.\n\n**Complete the function `ransac`.  It takes a data matrix, a tolerance, a value of iterations, and a model regressor. It returns an equation constructed by the model regressor and a count of inliers.**",
      "metadata": {
        "id": "8VB5_NrqlDSX",
        "colab_type": "text",
        "cell_id": "3a461ddf0d2a4fcb968cb667e75a1302",
        "deepnote_cell_type": "markdown"
      },
      "block_group": "cb7a77fd0f214ab69af0657b05a2da9e"
    },
    {
      "cell_type": "code",
      "source": "def ransac(point_cloud, model_fit_func, rng, tolerance=1e-3, max_iterations=500):\n    \"\"\"\n    Args:\n      point_cloud is (3, N) numpy array\n      tolerance is a float\n      rng is a random number generator\n      max_iterations is a (small) integer\n      model_fit_func: the function to fit the model (point clouds)\n\n    Returns:\n      (4,) numpy array\n    \"\"\"\n    best_ic = 0  # inlier count\n    best_model = np.ones(4)  # plane equation ((4,) array)\n\n    ##################\n    # your code here\n    ##################\n\n    return best_ic, best_model",
      "metadata": {
        "id": "8PZI0rU_lDSY",
        "colab": {},
        "colab_type": "code",
        "cell_id": "2ac6c719862c45bf8d2f6ca320936fa9",
        "deepnote_cell_type": "code"
      },
      "outputs": [],
      "outputs_reference": null,
      "execution_count": null,
      "block_group": "3d91b0a043ee4a7f93438592cb44dee7",
      "content_dependencies": null
    },
    {
      "cell_type": "markdown",
      "source": "Now you should have a lot better estimate of the planar surface with the use of RANSAC! Let's visualize the plane now!",
      "metadata": {
        "id": "ubTmMUnelDSi",
        "colab_type": "text",
        "cell_id": "06f97374f1844c8994e2b70a44f24443",
        "deepnote_cell_type": "markdown"
      },
      "block_group": "0599c2bdaa7e44f5a4ad4e01400d57d8"
    },
    {
      "cell_type": "code",
      "source": "rng = np.random.default_rng(135)  # random number generator\ninlier_count, ransac_plane = ransac(bunny_w_plane, fit_plane, rng, 0.001, 500)\nprint(ransac_plane)\nDrawFacet(ransac_plane, \"ransac_plane\", center=[0, 0, -ransac_plane[-1]])",
      "metadata": {
        "id": "OST0NACZlDSi",
        "colab": {},
        "colab_type": "code",
        "cell_id": "5487b8b33cbe41c99a33f14aaed5e76f",
        "deepnote_cell_type": "code"
      },
      "outputs": [],
      "outputs_reference": null,
      "execution_count": null,
      "block_group": "88a5707ce7354229865d4f7e975e32bd",
      "content_dependencies": null
    },
    {
      "cell_type": "markdown",
      "source": "## Remove Planar Surface\n\nNow all you need to do is to remove the points that belong to the planar surface. You may do so by rejecting all points that are\n$$|| a x + b y + c z + d || < tol$$\n\nNote that since you are fitting a plane, the bunny is this case is the \"outlier\". Your job, however, is to keep the bunny and remove the planar surface.\n\n**Complete the function below to remove the points that belongs to the planar surface**.",
      "metadata": {
        "id": "IjB0y8hAlDSm",
        "colab_type": "text",
        "cell_id": "dc2727acaa204f249c5e53544f77cfc5",
        "deepnote_cell_type": "markdown"
      },
      "block_group": "a54655fd1c8e4efea19123457198c8a7"
    },
    {
      "cell_type": "code",
      "source": "def remove_plane(point_cloud, ransac, rng, tol=1e-4):\n    \"\"\"\n    Args:\n        point_cloud: 3xN numpy array of points\n        ransac: The RANSAC function to use (call ransac(args))\n        rng is a random number generator\n        tol: points less than this distance tolerance should be removed\n    Returns:\n        point_cloud_wo_plane: 3xN numpy array of points\n    \"\"\"\n    point_cloud_wo_plane = np.zeros((3, 100))\n    return point_cloud_wo_plane",
      "metadata": {
        "id": "M7Bt0qYqlDSn",
        "colab": {},
        "colab_type": "code",
        "cell_id": "120baf4af2a24dc08fdd94419378c894",
        "deepnote_cell_type": "code"
      },
      "outputs": [],
      "outputs_reference": null,
      "execution_count": null,
      "block_group": "27c90d663b11487086a4baf17845f4f3",
      "content_dependencies": null
    },
    {
      "cell_type": "code",
      "source": "meshcat.Delete()\nrng = np.random.default_rng(135)  # random number generator\nbunny_wo_plane = remove_plane(bunny_w_plane, ransac, rng)\nvisualize_point_clouds(bunny_wo_plane, \"bunny\")",
      "metadata": {
        "id": "oizYYZ1KlDSw",
        "colab": {},
        "colab_type": "code",
        "cell_id": "f9b120c10fec46968127574253578090",
        "deepnote_cell_type": "code"
      },
      "outputs": [],
      "outputs_reference": null,
      "execution_count": null,
      "block_group": "bf356cffb3fa42da95e91b675c49b28f",
      "content_dependencies": null
    },
    {
      "cell_type": "markdown",
      "source": "## How will this notebook be Graded?\n\nIf you are enrolled in the class, this notebook will be graded using [Gradescope](www.gradescope.com). You should have gotten the enrollement code on our announcement in Piazza.\n\nFor submission of this assignment, you must:\n- Download and submit the notebook `ransac.ipynb` to Gradescope's notebook submission section, along with your notebook for the other problems.\n\nWe will evaluate the local functions in the notebook to see if the function behaves as we have expected. For this exercise, the rubric is as follows:\n- [4 pts] `ransac` must be implemented correctly.\n- [2 pts] `remove_plane` must be implemented correctly.",
      "metadata": {
        "id": "MwE8yNg58VQN",
        "colab_type": "text",
        "cell_id": "fc31d4551dc6464b93710f33f7e7a70b",
        "deepnote_cell_type": "markdown"
      },
      "block_group": "4c8f5fb331b44052bd5f1135f5ff1c08"
    },
    {
      "cell_type": "code",
      "source": "Grader.grade_output([TestRANSAC], [locals()], \"results.json\")\nGrader.print_test_results(\"results.json\")",
      "metadata": {
        "id": "xj5nAh4g8VQO",
        "colab": {},
        "colab_type": "code",
        "cell_id": "cb9c2284b25545b1af79065d350955e2",
        "deepnote_cell_type": "code"
      },
      "outputs": [],
      "outputs_reference": null,
      "execution_count": null,
      "block_group": "f2d33e44a37a4ddf9b2a2a00529a2d2a",
      "content_dependencies": null
    },
    {
      "cell_type": "markdown",
      "source": "<a style='text-decoration:none;line-height:16px;display:flex;color:#5B5B62;padding:10px;justify-content:end;' href='https://deepnote.com?utm_source=created-in-deepnote-cell&projectId=ea20f703-e3e0-4399-93f9-5b4dd11062c2' target=\"_blank\">\n<img alt='Created in deepnote.com' style='display:inline;max-height:16px;margin:0px;margin-right:7.5px;' src='data:image/svg+xml;base64,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' > </img>\nCreated in <span style='font-weight:600;margin-left:4px;'>Deepnote</span></a>",
      "metadata": {
        "created_in_deepnote_cell": true,
        "deepnote_cell_type": "markdown"
      }
    }
  ],
  "nbformat": 4,
  "nbformat_minor": 0,
  "metadata": {
    "deepnote_notebook_id": "15ef53209c5d4b33922b48c13e96ca4f",
    "deepnote_execution_queue": []
  }
}