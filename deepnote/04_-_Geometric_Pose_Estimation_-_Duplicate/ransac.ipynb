{
  "cells": [
    {
      "cell_type": "markdown",
      "metadata": {
        "cell_id": "6df4938f095b46d8ada2fee2270bcda3",
        "colab_type": "text",
        "deepnote_cell_type": "markdown",
        "id": "9CagYlhclDR4"
      },
      "source": [
        "# Ransac and Outlier Removal"
      ]
    },
    {
      "cell_type": "code",
      "execution_count": 40,
      "metadata": {
        "cell_id": "f09a00a64b6840c7947555650ca22cfe",
        "colab": {},
        "colab_type": "code",
        "deepnote_cell_type": "code",
        "id": "3kqzbo_AlDR6",
        "lines_to_end_of_cell_marker": 2
      },
      "outputs": [],
      "source": [
        "import numpy as np\n",
        "from pydrake.all import (\n",
        "    Cylinder,\n",
        "    PointCloud,\n",
        "    Rgba,\n",
        "    RigidTransform,\n",
        "    RollPitchYaw,\n",
        "    RotationMatrix,\n",
        "    StartMeshcat,\n",
        ")\n",
        "\n",
        "from manipulation import FindResource\n",
        "from manipulation.exercises.grader import Grader\n",
        "from manipulation.exercises.pose.test_ransac import TestRANSAC"
      ]
    },
    {
      "cell_type": "code",
      "execution_count": 41,
      "metadata": {
        "cell_id": "7a99e0d3b555487daaed0d25acb53924",
        "deepnote_cell_type": "code"
      },
      "outputs": [
        {
          "name": "stderr",
          "output_type": "stream",
          "text": [
            "INFO:drake:Meshcat listening for connections at http://localhost:7002\n"
          ]
        }
      ],
      "source": [
        "# Start the visualizer.\n",
        "meshcat = StartMeshcat()\n",
        "meshcat.SetProperty(\"/Background\", \"visible\", False)\n",
        "meshcat.SetProperty(\"/Cameras/default/rotated/<object>\", \"zoom\", 10.5)"
      ]
    },
    {
      "cell_type": "code",
      "execution_count": 42,
      "metadata": {
        "cell_id": "7819dfe7ad3b461c9090a7ed645259e1",
        "deepnote_cell_type": "code"
      },
      "outputs": [],
      "source": [
        "# Visualize Stanford Bunny\n",
        "xyzs = np.load(FindResource(\"models/bunny/bunny.npy\"))\n",
        "\n",
        "# point clouds of planar surface\n",
        "grid_spec = 50\n",
        "xy_axis = np.linspace(-0.5, 0.5, grid_spec)\n",
        "plane_x, plane_y = np.meshgrid(xy_axis, xy_axis)\n",
        "points_plane_xy = np.c_[plane_x.flatten(), plane_y.flatten(), np.zeros(grid_spec**2)]\n",
        "bunny_w_plane = np.c_[points_plane_xy.T, xyzs]\n",
        "\n",
        "\n",
        "def fit_plane(xyzs):\n",
        "    \"\"\"\n",
        "    Args:\n",
        "      xyzs is (3, N) numpy array\n",
        "    Returns:\n",
        "      (4,) numpy array\n",
        "    \"\"\"\n",
        "    center = np.mean(xyzs, axis=1)\n",
        "    cxyzs = xyzs.T - center\n",
        "    U, S, V = np.linalg.svd(cxyzs)\n",
        "    normal = V[-1]  # last row of V\n",
        "    d = -center.dot(normal)\n",
        "    plane_equation = np.hstack([normal, d])\n",
        "    return plane_equation\n",
        "\n",
        "\n",
        "# visualize a facet\n",
        "def DrawFacet(abcd, name, center=None):\n",
        "    # TODO(russt): Clean up the math in here.\n",
        "    normal = np.array(abcd[:3]).astype(float)\n",
        "    normal /= np.linalg.norm(normal)\n",
        "    d = -abcd[3] / np.linalg.norm(normal)\n",
        "\n",
        "    R = np.eye(3)\n",
        "    R[:, 2] = normal\n",
        "    z = normal\n",
        "    if abs(z[0]) < 1e-8:\n",
        "        x = np.array([0, -normal[2], normal[1]])\n",
        "    else:\n",
        "        x = np.array([-normal[1], normal[0], 0])\n",
        "    x /= np.linalg.norm(x)\n",
        "    R[:, 0] = x\n",
        "    R[:, 1] = np.cross(z, x)\n",
        "\n",
        "    X = np.eye(4)\n",
        "    Rz = RollPitchYaw(np.pi / 2, 0, 0).ToRotationMatrix().matrix()\n",
        "    X[:3, :3] = R.dot(Rz)\n",
        "    if center is None:\n",
        "        X[:3, 3] = d * normal\n",
        "    else:\n",
        "        X[:3, 3] = center\n",
        "\n",
        "    meshcat.SetObject(\"facets/\" + name + \"/plane\", Cylinder(0.1, 0.005))\n",
        "    meshcat.SetTransform(\n",
        "        \"facets/\" + name + \"/plane\",\n",
        "        RigidTransform(X) @ RigidTransform(RotationMatrix.MakeXRotation(np.pi / 2.0)),\n",
        "    )\n",
        "\n",
        "    meshcat.SetObject(\"facets/\" + name + \"/normal\", Cylinder(0.001, 0.2), Rgba(0, 0, 1))\n",
        "    meshcat.SetTransform(\n",
        "        \"facets/\" + name + \"/normal\",\n",
        "        RigidTransform(X)\n",
        "        @ RigidTransform(RotationMatrix.MakeXRotation(np.pi / 2.0), [0, 0.1, 0]),\n",
        "    )\n",
        "\n",
        "\n",
        "def visualize_point_clouds(points, name):\n",
        "    cloud = PointCloud(points.shape[1])\n",
        "    cloud.mutable_xyzs()[:] = points\n",
        "    meshcat.SetObject(name, cloud, point_size=0.01, rgba=Rgba(1.0, 0, 0))"
      ]
    },
    {
      "cell_type": "markdown",
      "metadata": {
        "cell_id": "da3333673dad4b9a99644f2028bdd767",
        "colab_type": "text",
        "deepnote_cell_type": "markdown",
        "id": "Bva0aj0GlDSI"
      },
      "source": [
        "# Problem Description\n",
        "In the lecture, we learned about the RANSAC algorithm. In this exercise, you will implement the RANSAC algorithm to separate the Stanford bunny from its environment!\n",
        "\n",
        "**These are the main steps of the exercise:**\n",
        "1. Implement the `ransac` method.\n",
        "2. Implement the `remove_plane` method to remove the points that belong to the planar surface.\n",
        "\n",
        "Let's first visualize the point clouds of Stanford bunny in meshcat!"
      ]
    },
    {
      "cell_type": "code",
      "execution_count": 43,
      "metadata": {
        "cell_id": "204ef63488074fb6b05a620da458a462",
        "colab": {},
        "colab_type": "code",
        "deepnote_cell_type": "code",
        "id": "XtPLYaZhlDSJ"
      },
      "outputs": [],
      "source": [
        "visualize_point_clouds(bunny_w_plane, \"bunny_w_plane\")"
      ]
    },
    {
      "cell_type": "markdown",
      "metadata": {
        "cell_id": "817643014ae7442290214f07c28cabf4",
        "colab_type": "text",
        "deepnote_cell_type": "markdown",
        "id": "zF54ocy-lDSR"
      },
      "source": [
        "You should notice that now there is a planar surface underneath the bunny. You may assume the bunny is currently placed on a table, where the planar surface is the tabletop. In this exercise, your objective is to remove the planar surface."
      ]
    },
    {
      "cell_type": "markdown",
      "metadata": {
        "cell_id": "cb0c141d1d964133a7b5f10879c9cf29",
        "colab_type": "text",
        "deepnote_cell_type": "markdown",
        "id": "ki2f7sxZlDSS"
      },
      "source": [
        "A straightforward way to achieve a better fit is to remove the planar surface underneath the bunny. To do so, we provide you a function to fit a planar surface.\n",
        "\n",
        "Recall that a plane equation is of the form\n",
        "$$a x + b y + c z + d = 0$$\n",
        "where $[a,b,c]^T$ is a vector normal to the plane and (if it's a unit normal) $d$ is the negative of the distance from the origin to the plane in the direction of the normal.  We'll represent a plane by the vector $[a,b,c,d]$.\n",
        "\n",
        "The fitted planes are shown as translucent disks of radius $r$ centered at the points. The gray lines represent the planes' normals."
      ]
    },
    {
      "cell_type": "code",
      "execution_count": 44,
      "metadata": {
        "cell_id": "28c216570a9144f6999531bc6e7f4b86",
        "colab": {},
        "colab_type": "code",
        "deepnote_cell_type": "code",
        "id": "g2tMdp5PlDSS"
      },
      "outputs": [
        {
          "name": "stdout",
          "output_type": "stream",
          "text": [
            "[-0.00617359 -0.03380922 -0.99940924  0.03336162]\n"
          ]
        }
      ],
      "source": [
        "plane_equation = fit_plane(bunny_w_plane)\n",
        "print(plane_equation)\n",
        "DrawFacet(plane_equation, \"naive_plane\", center=[0, 0, -plane_equation[-1]])"
      ]
    },
    {
      "cell_type": "markdown",
      "metadata": {
        "cell_id": "098fc815f50748838eaa440b4d0e5c1a",
        "colab_type": "text",
        "deepnote_cell_type": "markdown",
        "id": "HQs47D9SlDSX"
      },
      "source": [
        "You should notice that the planar surface cannot be fitted exactly either. This is because it takes account of all points in the scene to fit the plane. Since a significant portion of the point cloud belongs to the bunny, the fitted plane is noticeably elevated above the ground.\n",
        "\n",
        "To improve the result of the fitted plane, you will use RANSAC!"
      ]
    },
    {
      "cell_type": "markdown",
      "metadata": {
        "cell_id": "3a461ddf0d2a4fcb968cb667e75a1302",
        "colab_type": "text",
        "deepnote_cell_type": "markdown",
        "id": "8VB5_NrqlDSX"
      },
      "source": [
        "## RANSAC\n",
        "With the presence of outliers (bunny), we can use RANSAC to get more reliable estimates. The idea is to fit a plane using many random choices of a minimal set of points (3), fit a plane for each one, count how many points are within a distance tolerance to that plane (the inliers), and return the estimate with the most inliers.\n",
        "\n",
        "**Complete the function `ransac`.  It takes a data matrix, a tolerance, a value of iterations, and a model regressor. It returns an equation constructed by the model regressor and a count of inliers.**"
      ]
    },
    {
      "cell_type": "code",
      "execution_count": 57,
      "metadata": {
        "cell_id": "2ac6c719862c45bf8d2f6ca320936fa9",
        "colab": {},
        "colab_type": "code",
        "deepnote_cell_type": "code",
        "id": "8PZI0rU_lDSY"
      },
      "outputs": [],
      "source": [
        "def ransac(point_cloud, model_fit_func, rng, tolerance=1e-3, max_iterations=500):\n",
        "    \"\"\"\n",
        "    Args:\n",
        "      point_cloud is (3, N) numpy array\n",
        "      tolerance is a float\n",
        "      rng is a random number generator\n",
        "      max_iterations is a (small) integer\n",
        "      model_fit_func: the function to fit the model (point clouds)\n",
        "\n",
        "    Returns:\n",
        "      (4,) numpy array\n",
        "    \"\"\"\n",
        "    best_ic = 0  # inlier count\n",
        "    best_model = np.ones(4)  # plane equation ((4,) array)\n",
        "\n",
        "    iter_num = 0\n",
        "\n",
        "    while iter_num < max_iterations:\n",
        "        iter_num += 1\n",
        "\n",
        "        # sample 3 points\n",
        "        sample_point_indices = rng.choice(point_cloud.shape[1], 3, replace=False)\n",
        "        sample_points = point_cloud[:, sample_point_indices]\n",
        "\n",
        "        model = model_fit_func(sample_points)\n",
        "\n",
        "        new_point_cloud = np.vstack((point_cloud, np.ones((1,point_cloud.shape[1]))))\n",
        "\n",
        "        residuals = np.abs(model.dot(new_point_cloud))\n",
        "\n",
        "        # convert from shape\n",
        "\n",
        "        inliers = residuals < tolerance\n",
        "        ic = np.sum(inliers)\n",
        "\n",
        "        if ic > best_ic:\n",
        "            best_ic = ic\n",
        "            best_model = model\n",
        "\n",
        "    return best_ic, best_model"
      ]
    },
    {
      "cell_type": "markdown",
      "metadata": {
        "cell_id": "06f97374f1844c8994e2b70a44f24443",
        "colab_type": "text",
        "deepnote_cell_type": "markdown",
        "id": "ubTmMUnelDSi"
      },
      "source": [
        "Now you should have a lot better estimate of the planar surface with the use of RANSAC! Let's visualize the plane now!"
      ]
    },
    {
      "cell_type": "code",
      "execution_count": 58,
      "metadata": {
        "cell_id": "5487b8b33cbe41c99a33f14aaed5e76f",
        "colab": {},
        "colab_type": "code",
        "deepnote_cell_type": "code",
        "id": "OST0NACZlDSi"
      },
      "outputs": [
        {
          "name": "stdout",
          "output_type": "stream",
          "text": [
            "[ 0.  0.  1. -0.]\n"
          ]
        }
      ],
      "source": [
        "rng = np.random.default_rng(135)  # random number generator\n",
        "inlier_count, ransac_plane = ransac(bunny_w_plane, fit_plane, rng, 0.001, 500)\n",
        "print(ransac_plane)\n",
        "DrawFacet(ransac_plane, \"ransac_plane\", center=[0, 0, -ransac_plane[-1]])"
      ]
    },
    {
      "cell_type": "markdown",
      "metadata": {
        "cell_id": "dc2727acaa204f249c5e53544f77cfc5",
        "colab_type": "text",
        "deepnote_cell_type": "markdown",
        "id": "IjB0y8hAlDSm"
      },
      "source": [
        "## Remove Planar Surface\n",
        "\n",
        "Now all you need to do is to remove the points that belong to the planar surface. You may do so by rejecting all points that are\n",
        "$$|| a x + b y + c z + d || < tol$$\n",
        "\n",
        "Note that since you are fitting a plane, the bunny is this case is the \"outlier\". Your job, however, is to keep the bunny and remove the planar surface.\n",
        "\n",
        "**Complete the function below to remove the points that belongs to the planar surface**."
      ]
    },
    {
      "cell_type": "code",
      "execution_count": 61,
      "metadata": {
        "cell_id": "120baf4af2a24dc08fdd94419378c894",
        "colab": {},
        "colab_type": "code",
        "deepnote_cell_type": "code",
        "id": "M7Bt0qYqlDSn"
      },
      "outputs": [],
      "source": [
        "def remove_plane(point_cloud, ransac, rng, tol=1e-4):\n",
        "    \"\"\"\n",
        "    Args:\n",
        "        point_cloud: 3xN numpy array of points\n",
        "        ransac: The RANSAC function to use (call ransac(args))\n",
        "        rng is a random number generator\n",
        "        tol: points less than this distance tolerance should be removed\n",
        "    Returns:\n",
        "        point_cloud_wo_plane: 3xN numpy array of points\n",
        "    \"\"\"\n",
        "    best_inliers, best_model = ransac(point_cloud, fit_plane, rng, tolerance=tol)\n",
        "\n",
        "    new_point_cloud = np.vstack((point_cloud, np.ones((1, point_cloud.shape[1]))))\n",
        "    residuals = np.abs(best_model.dot(new_point_cloud))\n",
        "\n",
        "    inliers = residuals < tol\n",
        "\n",
        "    point_cloud_wo_plane = point_cloud[:, ~inliers]\n",
        "\n",
        "    return point_cloud_wo_plane"
      ]
    },
    {
      "cell_type": "code",
      "execution_count": 62,
      "metadata": {
        "cell_id": "f9b120c10fec46968127574253578090",
        "colab": {},
        "colab_type": "code",
        "deepnote_cell_type": "code",
        "id": "oizYYZ1KlDSw"
      },
      "outputs": [],
      "source": [
        "meshcat.Delete()\n",
        "rng = np.random.default_rng(135)  # random number generator\n",
        "bunny_wo_plane = remove_plane(bunny_w_plane, ransac, rng)\n",
        "visualize_point_clouds(bunny_wo_plane, \"bunny\")"
      ]
    },
    {
      "cell_type": "markdown",
      "metadata": {
        "cell_id": "fc31d4551dc6464b93710f33f7e7a70b",
        "colab_type": "text",
        "deepnote_cell_type": "markdown",
        "id": "MwE8yNg58VQN"
      },
      "source": [
        "## How will this notebook be Graded?\n",
        "\n",
        "If you are enrolled in the class, this notebook will be graded using [Gradescope](www.gradescope.com). You should have gotten the enrollement code on our announcement in Piazza.\n",
        "\n",
        "For submission of this assignment, you must:\n",
        "- Download and submit the notebook `ransac.ipynb` to Gradescope's notebook submission section, along with your notebook for the other problems.\n",
        "\n",
        "We will evaluate the local functions in the notebook to see if the function behaves as we have expected. For this exercise, the rubric is as follows:\n",
        "- [4 pts] `ransac` must be implemented correctly.\n",
        "- [2 pts] `remove_plane` must be implemented correctly."
      ]
    },
    {
      "cell_type": "code",
      "execution_count": 63,
      "metadata": {
        "cell_id": "cb9c2284b25545b1af79065d350955e2",
        "colab": {},
        "colab_type": "code",
        "deepnote_cell_type": "code",
        "id": "xj5nAh4g8VQO"
      },
      "outputs": [
        {
          "name": "stdout",
          "output_type": "stream",
          "text": [
            "Total score is 6/6.\n",
            "\n",
            "Score for Test outlier removal is 2/2.\n",
            "\n",
            "Score for Test ransac method is 4/4.\n"
          ]
        }
      ],
      "source": [
        "Grader.grade_output([TestRANSAC], [locals()], \"results.json\")\n",
        "Grader.print_test_results(\"results.json\")"
      ]
    },
    {
      "cell_type": "markdown",
      "metadata": {
        "created_in_deepnote_cell": true,
        "deepnote_cell_type": "markdown"
      },
      "source": [
        "<a style='text-decoration:none;line-height:16px;display:flex;color:#5B5B62;padding:10px;justify-content:end;' href='https://deepnote.com?utm_source=created-in-deepnote-cell&projectId=ea20f703-e3e0-4399-93f9-5b4dd11062c2' target=\"_blank\">\n",
        "<img alt='Created in deepnote.com' style='display:inline;max-height:16px;margin:0px;margin-right:7.5px;' src='data:image/svg+xml;base64,PD94bWwgdmVyc2lvbj0iMS4wIiBlbmNvZGluZz0iVVRGLTgiPz4KPHN2ZyB3aWR0aD0iODBweCIgaGVpZ2h0PSI4MHB4IiB2aWV3Qm94PSIwIDAgODAgODAiIHZlcnNpb249IjEuMSIgeG1sbnM9Imh0dHA6Ly93d3cudzMub3JnLzIwMDAvc3ZnIiB4bWxuczp4bGluaz0iaHR0cDovL3d3dy53My5vcmcvMTk5OS94bGluayI+CiAgICA8IS0tIEdlbmVyYXRvcjogU2tldGNoIDU0LjEgKDc2NDkwKSAtIGh0dHBzOi8vc2tldGNoYXBwLmNvbSAtLT4KICAgIDx0aXRsZT5Hcm91cCAzPC90aXRsZT4KICAgIDxkZXNjPkNyZWF0ZWQgd2l0aCBTa2V0Y2guPC9kZXNjPgogICAgPGcgaWQ9IkxhbmRpbmciIHN0cm9rZT0ibm9uZSIgc3Ryb2tlLXdpZHRoPSIxIiBmaWxsPSJub25lIiBmaWxsLXJ1bGU9ImV2ZW5vZGQiPgogICAgICAgIDxnIGlkPSJBcnRib2FyZCIgdHJhbnNmb3JtPSJ0cmFuc2xhdGUoLTEyMzUuMDAwMDAwLCAtNzkuMDAwMDAwKSI+CiAgICAgICAgICAgIDxnIGlkPSJHcm91cC0zIiB0cmFuc2Zvcm09InRyYW5zbGF0ZSgxMjM1LjAwMDAwMCwgNzkuMDAwMDAwKSI+CiAgICAgICAgICAgICAgICA8cG9seWdvbiBpZD0iUGF0aC0yMCIgZmlsbD0iIzAyNjVCNCIgcG9pbnRzPSIyLjM3NjIzNzYyIDgwIDM4LjA0NzY2NjcgODAgNTcuODIxNzgyMiA3My44MDU3NTkyIDU3LjgyMTc4MjIgMzIuNzU5MjczOSAzOS4xNDAyMjc4IDMxLjY4MzE2ODMiPjwvcG9seWdvbj4KICAgICAgICAgICAgICAgIDxwYXRoIGQ9Ik0zNS4wMDc3MTgsODAgQzQyLjkwNjIwMDcsNzYuNDU0OTM1OCA0Ny41NjQ5MTY3LDcxLjU0MjI2NzEgNDguOTgzODY2LDY1LjI2MTk5MzkgQzUxLjExMjI4OTksNTUuODQxNTg0MiA0MS42NzcxNzk1LDQ5LjIxMjIyODQgMjUuNjIzOTg0Niw0OS4yMTIyMjg0IEMyNS40ODQ5Mjg5LDQ5LjEyNjg0NDggMjkuODI2MTI5Niw0My4yODM4MjQ4IDM4LjY0NzU4NjksMzEuNjgzMTY4MyBMNzIuODcxMjg3MSwzMi41NTQ0MjUgTDY1LjI4MDk3Myw2Ny42NzYzNDIxIEw1MS4xMTIyODk5LDc3LjM3NjE0NCBMMzUuMDA3NzE4LDgwIFoiIGlkPSJQYXRoLTIyIiBmaWxsPSIjMDAyODY4Ij48L3BhdGg+CiAgICAgICAgICAgICAgICA8cGF0aCBkPSJNMCwzNy43MzA0NDA1IEwyNy4xMTQ1MzcsMC4yNTcxMTE0MzYgQzYyLjM3MTUxMjMsLTEuOTkwNzE3MDEgODAsMTAuNTAwMzkyNyA4MCwzNy43MzA0NDA1IEM4MCw2NC45NjA0ODgyIDY0Ljc3NjUwMzgsNzkuMDUwMzQxNCAzNC4zMjk1MTEzLDgwIEM0Ny4wNTUzNDg5LDc3LjU2NzA4MDggNTMuNDE4MjY3Nyw3MC4zMTM2MTAzIDUzLjQxODI2NzcsNTguMjM5NTg4NSBDNTMuNDE4MjY3Nyw0MC4xMjg1NTU3IDM2LjMwMzk1NDQsMzcuNzMwNDQwNSAyNS4yMjc0MTcsMzcuNzMwNDQwNSBDMTcuODQzMDU4NiwzNy43MzA0NDA1IDkuNDMzOTE5NjYsMzcuNzMwNDQwNSAwLDM3LjczMDQ0MDUgWiIgaWQ9IlBhdGgtMTkiIGZpbGw9IiMzNzkzRUYiPjwvcGF0aD4KICAgICAgICAgICAgPC9nPgogICAgICAgIDwvZz4KICAgIDwvZz4KPC9zdmc+' > </img>\n",
        "Created in <span style='font-weight:600;margin-left:4px;'>Deepnote</span></a>"
      ]
    }
  ],
  "metadata": {
    "deepnote_execution_queue": [],
    "deepnote_notebook_id": "15ef53209c5d4b33922b48c13e96ca4f",
    "kernelspec": {
      "display_name": ".venv",
      "language": "python",
      "name": "python3"
    },
    "language_info": {
      "codemirror_mode": {
        "name": "ipython",
        "version": 3
      },
      "file_extension": ".py",
      "mimetype": "text/x-python",
      "name": "python",
      "nbconvert_exporter": "python",
      "pygments_lexer": "ipython3",
      "version": "3.12.4"
    }
  },
  "nbformat": 4,
  "nbformat_minor": 0
}
