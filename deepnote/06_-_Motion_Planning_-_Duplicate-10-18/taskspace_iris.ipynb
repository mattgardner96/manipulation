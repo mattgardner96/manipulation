{
  "cells": [
    {
      "cell_type": "markdown",
      "source": "# Task Space Decomposition via Convex Optimization\n\nOne approach to guaranteeing safe paths during motion planning is to certify that large regions in the search space are collision free. In this problem we'll explore one algorithm, [IRIS](https://groups.csail.mit.edu/robotics-center/public_papers/Deits14.pdf), for accomplishing this.\nFor manipulation planning, we typically want to certify paths in configuration space.  Simple convex obstacles in 3D become nonconvex when we map them into the joint space of the iiwa!  But for this problem, we'll explore the more straightforward version of IRIS which assumes that obstacles are convex, in a 2D space.",
      "metadata": {
        "cell_id": "12c7acb7bda1456bb9a928301f9777e8",
        "deepnote_cell_type": "markdown"
      },
      "block_group": "171967b442c84eea8860f76938199e4c"
    },
    {
      "cell_type": "code",
      "source": "import matplotlib.pyplot as plt\nimport numpy as np\nfrom matplotlib.animation import FuncAnimation\nfrom matplotlib.patches import Polygon\nfrom pydrake.all import MathematicalProgram, Solve, eq, ge\nfrom scipy.spatial import HalfspaceIntersection\n\nfrom manipulation import running_as_notebook",
      "metadata": {
        "cell_id": "561c9a7af459499194b59e7e5ce4268b",
        "deepnote_cell_type": "code"
      },
      "outputs": [],
      "outputs_reference": null,
      "execution_count": null,
      "block_group": "c823526cc4dd4883b83de17c38e60b2f",
      "content_dependencies": null
    },
    {
      "cell_type": "markdown",
      "source": "We'll start with some helper functions to set up the environment with our obstacles (we are using a random set of triangles) along with some plotting functions",
      "metadata": {
        "cell_id": "3097765e924f4b66ac53ce64fb28b24c",
        "deepnote_cell_type": "markdown"
      },
      "block_group": "28d4ad71a4dc45fb8a711372aec64c3f"
    },
    {
      "cell_type": "code",
      "source": "#####################\n### Don't change! ###\n\nnp.random.seed(1)\n\nseed_point = None\nAs = []\nbs = []\nCs = []\nds = []\ntolerance = 0.00001\nlimits = [[0, 1], [0, 1]]\nmax_iters = 10\n\nframe_time = 0.25\n\nregions = []\ncurrent_region = []\n\n#######################\n\n\n# Function to set up random set of triangle obstacles\ndef gen_obstacles():\n    n_points = 50\n\n    points = np.random.random(size=(n_points, 2))\n\n    tris = []\n    for i, pt in enumerate(points):\n        r = np.random.random() * 0.06 + 0.03\n        delta1 = r * np.array([np.cos(np.pi / 2), np.sin(np.pi / 2)])\n        delta2 = r * np.array(\n            [\n                np.cos(2 * np.pi / 3 + np.pi / 2),\n                np.sin(2 * np.pi / 3 + np.pi / 2),\n            ]\n        )\n        delta3 = r * np.array(\n            [\n                np.cos(4 * np.pi / 3 + np.pi / 2),\n                np.sin(4 * np.pi / 3 + np.pi / 2),\n            ]\n        )\n\n        tris.append(np.vstack([pt + delta1, pt + delta2, pt + delta3]))\n\n    tris.append(np.array([[0, 0], [1, 0], [0.5, -0.5]]))\n    tris.append(np.array([[1, 0], [1, 1], [1.5, 0.5]]))\n    tris.append(np.array([[1, 1], [0, 1], [0.5, 1.5]]))\n    tris.append(np.array([[0, 1], [0, 0], [-0.5, 0.5]]))\n\n    return tris\n\n\n# plotting to draw an ellipse\ndef draw_ellipse(C, d):\n    ts = np.linspace(0, 2 * np.pi)\n    points = np.array([np.cos(ts), np.sin(ts)])\n    points = C @ points + d.reshape(-1, 1)\n    ax.plot(*(points))\n\n\n# plotting to draw intersection of halfspaces\ndef draw_intersection(A, b, d):\n    global current_region\n    ineq = np.hstack((A.T, -b))\n    hs = HalfspaceIntersection(ineq, d, incremental=False)\n    points = hs.intersections\n    centered_points = points - d\n    thetas = np.arctan2(centered_points[:, 1], centered_points[:, 0])\n    idxs = np.argsort(thetas)\n    current_region = points[idxs]\n    ax.add_patch(Polygon(current_region, color=\"blue\", alpha=0.25))\n\n\n# plotting\ndef draw(ax):\n    global seed_point, As, bs, Cs, ds, regions\n    ax.cla()\n    ax.set_xlim(limits[0])\n    ax.set_ylim(limits[1])\n    ax.set_aspect(\"equal\")\n    for tri in tris:\n        ax.add_patch(Polygon(tri, color=\"red\"))\n    if not (seed_point is None):\n        ax.scatter([seed_point[0]], [seed_point[1]])\n    if len(Cs) > 0:\n        C = Cs[-1]\n        d = ds[-1]\n        draw_ellipse(C, d)\n    if len(As) > 0:\n        A = As[-1]\n        b = bs[-1]\n        for i in range(len(b)):\n            w = A[:, i]\n            intercept = b[i]\n            xx = np.linspace(*limits[0])\n            yy = (-w[0] / w[1]) * xx + (intercept / w[1])\n            ax.plot(xx, yy, color=\"blue\")\n        draw_intersection(A, b, ds[-1])\n    for region in regions:\n        plt.plot(region[:, 0], region[:, 1], color=\"green\", alpha=0.5)\n        plt.plot(region[[0, -1], 0], region[[0, -1], 1], color=\"green\", alpha=0.5)\n        ax.add_patch(Polygon(region, color=\"green\", alpha=0.25))",
      "metadata": {
        "cell_id": "ef9e78f1e0fd42808b656210a61d7611",
        "deepnote_cell_type": "code"
      },
      "outputs": [],
      "outputs_reference": null,
      "execution_count": null,
      "block_group": "98cfefb285a54add81d88d7155a48288",
      "content_dependencies": null
    },
    {
      "cell_type": "markdown",
      "source": "Run the cell below to see what the random workspace looks like!",
      "metadata": {
        "cell_id": "d3262b4d7c5d411a8b8e38e630665478",
        "deepnote_cell_type": "markdown"
      },
      "block_group": "c3867c9b5ca34638a6cfddce5bef83e1"
    },
    {
      "cell_type": "code",
      "source": "tris = gen_obstacles()\n\nfig, ax = plt.subplots()\ndraw(ax)",
      "metadata": {
        "cell_id": "78c64f10db7d42d388223c28b234bcae",
        "deepnote_cell_type": "code"
      },
      "outputs": [],
      "outputs_reference": null,
      "execution_count": null,
      "block_group": "62c7db5a092b4764b56eab4291b43e21",
      "content_dependencies": null
    },
    {
      "cell_type": "markdown",
      "source": "# [IRIS](https://groups.csail.mit.edu/robotics-center/public_papers/Deits14.pdf) algorithm \nOur goal with IRIS is to form an explicit representation of large convex subsets of the free space (since [new optimization-based planning algorithms](https://arxiv.org/pdf/2101.11565.pdf) can consume this representation of the free space). Given a seed point (provided by the user) and a small initial ellipse centered at the seed point, IRIS alternates between two steps:\n1. Find a set of separating hyperplanes which forms a polytope with the ellipsoid on the inside and all of the obstacles on the outside\n2. Obtain a new maximum volume ellipsoid inscribed within the polytope formed by the current set of hyperplanes. \n\nEach of these steps can be completed using an optimization program. Finding the maximum volume ellipse contained inside an intersection of halfspaces can be written as a semidefinite program. Finding a set of hyperplanes that separates each of the obstacles and an ellipse can be broken into a set of steps:\n- For a given convex obstacle in the workspace, represented as its vertex.\n- Find the point on the obstacle that is closest to the ellipse. \n- Compute the separating hyper-plane that separates the ellipse from the obstacle and tangents to that point.\n- If the obstacles are convex, this plane is guaranteed to have the entire obstacle on one side and the entire ellipse on the other side\n\n**Note about runtime efficiency**\nIf we repeat this for each obstacle, the intersection of each halfspace formed by the tangent planes we compute are guaranteed to contain the ellipse and none of the obstacles. However, if we perform each step in an environment with many obstacles, we might perform a lot of redundant computation. It is far more efficient if, on each iteration, we check if any of the *other* obstacles also satisfy the constraint of being fully on one side of the hyperplane we compute from the tangent. If this constraint is already satisfied for a hyperplane that's already been computed, we don't have to compute a new one for this obstacle. \n\nThe following cell block sets up some of the helper functions involved in these steps. In the cells below, you are required to implement the logic for `SeparatingHyperplanes` and the QP in `ClosestPointOnObstacle`. \n",
      "metadata": {
        "cell_id": "18e0545100554fc2bb9323a5db8cf0fa",
        "deepnote_cell_type": "markdown"
      },
      "block_group": "17e625fd33894c4f9f2d8145d80dce48"
    },
    {
      "cell_type": "code",
      "source": "# Helper functions\n\n\ndef TangentPlane(C, C_inv2, d, x_star):\n    a = 2 * C_inv2 @ (x_star - d).reshape(-1, 1)\n    b = np.dot(a.flatten(), x_star)\n    return a, b\n\n\ndef update_polytope(A, b, d):\n    global current_region\n    ineq = np.hstack((A.T, -b))\n    hs = HalfspaceIntersection(ineq, d, incremental=False)\n    points = hs.intersections\n    centered_points = points - d\n    thetas = np.arctan2(centered_points[:, 1], centered_points[:, 0])\n    idxs = np.argsort(thetas)\n    current_region = points[idxs]\n\n\ndef InscribedEllipsoid(A, b):\n    n = 2\n\n    prog = MathematicalProgram()\n\n    C = prog.NewContinuousVariables(n, n)\n    d = prog.NewContinuousVariables(n)\n    prog.AddPositiveSemidefiniteConstraint(C)\n    prog.AddMaximizeLogDeterminantCost(C)\n\n    for ai, bi in zip(A.T, b):\n        z0 = bi - ai.T @ d\n        z1 = ai.T @ C\n        z = np.concatenate([z0, z1])\n        prog.AddLorentzConeConstraint(z)\n\n    result = Solve(prog)\n\n    C_best, d_best = result.GetSolution(C), result.GetSolution(d)\n\n    return C_best, d_best",
      "metadata": {
        "cell_id": "f0002f246afa4f4d91f9ee98c5cd8c53",
        "deepnote_cell_type": "code"
      },
      "outputs": [],
      "outputs_reference": null,
      "execution_count": null,
      "block_group": "c6557d686cf04b429dbe434f728e367c",
      "content_dependencies": null
    },
    {
      "cell_type": "markdown",
      "source": "### Your turn to code - `ClosestPointOnObstacle`\nImplement `ClosestPointOnObstacle` function in page 10 (equation 4) of the IRIS paper. The implementation should have the following steps:\n - Compute the closest point to the origin in the transformed (\"ball space\") obstacle. \n - Transform that point back to the original \"ellipsoid space\". \n\nFollow the description in the paper to implement the algorithm. Here are some useful sections to understand how the QP works:\n> Our ellipsoid $\\mathcal{E}$ is defined as an image of the unit ball in $\\mathbb{R^n}$: $\\mathcal{E} = \\{ C\\tilde{x} + d ~|~ ||\\tilde{x}|| \\leq 1 \\}$ , so we construct the inverse of this image map: $\\tilde{v}_{j, k} = C^{-1}(v_{j, k} - d)$ (where $v_{j,k}$ is the k-th vertex of the j-th obstacle)\n\n> This optimization yields a point $\\tilde{x}^{*}$. Applying the original map gives $x^{*} = C\\tilde{x}^{*} + d$, which is the point on obstacle j closest to the ellipsoid.\n\nUsing this description (along with any other relevant details from the paper) along with the mathematical description of the QP below, implement the mapping from/to ball-to-ellipsoid space and implement the quadratic program using Drake's `MathematicalProgram`. \n \nHere is the QP we want you to implement in code (see Eq. (4) in the paper):\n\n$$\\begin{aligned} \\underset{\\tilde{x} \\in \\mathbb{R}^{n}, w \\in \\mathbb{R}^{m}}{\\text{arg}\\min} \\quad & ||\\tilde{x}||^{2} \\\\ \\textrm{s.t.} \\quad & [\\tilde{v}_{j, 1}, \\tilde{v}_{j, 2} ... \\tilde{v}_{j, m}]w = \\tilde{x}\\\\ \\quad & \\sum_{i=1}^{m}w_i = 1 \\\\ \\quad & w_i \\geq 0 \\end{aligned}$$",
      "metadata": {
        "cell_id": "46c90912fceb460f9349a104b6b5cc37",
        "deepnote_cell_type": "markdown"
      },
      "block_group": "fb087b427709440e9fa7802309acdabd"
    },
    {
      "cell_type": "code",
      "source": "def ClosestPointOnObstacle(C, C_inv, d, o):\n    \"\"\"\n    Computes the closest point on a convex polygonal obstacle (described\n    in terms of its vertices) to an ellipse described by a positive\n    semidefinite matrix applied to a unit sphere and a center point.\n\n    Args:\n        C (np.ndarray): Shape (2, 2), positive semidefinite matrix,\n            describing the ellipse (i.e., Ellipse = {Cx + d | ||x|| < 1})\n        C_inv (np.ndarray): Shape (2, 2), precomputed inverse of C\n        d (np.ndarray): Shape (2,), center point of the ellipse\n        o (np.ndarray): Shape (3, 2), containing the 2D coordinates\n            of the vertices on the convex (triangular) obstacle\n\n    Returns:\n        np.ndarray: Shape (2,), 2D coordinate of the closest point on the\n            obstacle to the ellipse\n        float: Distance from the center of the ellipse to the sample point\n            (in the ellipsoidal metric)\n\n    \"\"\"\n    v_tildes = C_inv @ (o - d).T\n    n = 2\n    m = len(o)\n\n    prog = MathematicalProgram()\n    x_tilde = prog.NewContinuousVariables(n)\n    w = prog.NewContinuousVariables(m)\n\n    \"\"\"\n    Your code here (set up a QP to find the closest point\n    on the obstacle defined by the corners in o)\n    \"\"\"\n\n    x_star = np.zeros(n)\n    dist = np.inf\n\n    return x_star, dist",
      "metadata": {
        "cell_id": "48b2f04ef4da41099c6f11c2d9ad71d1",
        "deepnote_cell_type": "code"
      },
      "outputs": [],
      "outputs_reference": null,
      "execution_count": null,
      "block_group": "50986e79862b4248bb49725782e9d680",
      "content_dependencies": null
    },
    {
      "cell_type": "markdown",
      "source": "### Your turn to code - `SeparatingHyperplane`\n\nImplement `SeparatingHyperplane` function in page 11 (Algorithm 2) of the IRIS paper. The implementation should have the following steps:      \n        - Find the closest obstacle to the center of the ellipsoid\n        - Find the closest point on this obstacle to the ellipsoid\n        - Compute the tangent plane (represented via a normal and an offset)\n        - Save the parameters of the tangent plane (so that we can build an intersection of the half spaces represented by these planes)\n        - Check if this half plane allows us to check of any other obstacles in the same iteration (i.e., if other obstacles also satisfy the condition of being fully on one side of the plane, with the ellipse on the other side, then we can remove them from out list of remaining obstacles)\n     \nHere is the pseudocode for this algorithm from the IRIS paper:\n<img src=\"https://raw.githubusercontent.com/anthonysimeonov/manipulation/master/book/figures/exercises/iris_sep_hyperplane_opt.png\" width=\"500\"> \n\nYou should use the `ClosestPointOnObstacle` function you implemented, as well as the `TangentPlane` and `InscribedEllipsoid` functions we provided above. \n\n**hint** -- don't forget to check and remove any additional obstacles that you can with the hyperplane you compute on each iteration!",
      "metadata": {
        "cell_id": "c9c0d01d71244fac89d0924e8353e862",
        "deepnote_cell_type": "markdown"
      },
      "block_group": "331635c88e2140f9a6ad1a99d5276442"
    },
    {
      "cell_type": "code",
      "source": "def SeparatingHyperplanes(C, d, O, max_iters=40):\n    \"\"\"\n    Finds a set of separating hyperplanes between a set of\n    convex obstacles and an ellipsoid.\n\n    Args:\n        C (np.ndarray): Shape (2, 2), positive semidefinite matrix,\n            describing the ellipse (i.e., Ellipse = {Cx + d | ||x|| < 1})\n        d (np.ndarray): Shape (2,), center point of the ellipse\n        O (list): Length is the number of obstacles, each element\n            contains a (3, 2) numpy array containing the 2D coordinates\n            of the vertices on the convex (triangular) obstacle\n        max_iters (int): Maximum iterations\n\n    Returns:\n        np.ndarray: Shape (2, N) (where N is the number of hyperplanes you found),\n            each column represents the normal of one hyperplane\n            (i.e., a in a.T @ x = b)\n        np.ndarray: Shape (N, 1) (where N is the number of hyperplanes you found),\n            each row represents the offset of one hyperplane\n            (i.e., b in a.T @ x = b)\n        bool: True if solution is found within maximum number of iterations, else False\n\n    \"\"\"\n    C_inv = np.linalg.inv(C)\n    C_inv2 = C_inv @ C_inv.T\n    O_excluded = []\n    O_remaining = O\n    ais = []\n    bis = []\n    iters = 0\n    solution_found = False\n    while len(O_remaining) > 0:\n        iters += 1\n        if iters > max_iters:\n            print(\"Maximum iterations reached\")\n            return None, None, solution_found\n\n        \"\"\"\n        Your code here\n        - Find the closest obstacle to the center of the ellipsoid\n        - Find the closest point on this obstacle to the ellipsoid\n        - Compute the tangent plane\n        - Save the parameters of the tangent plane to build an intersection of half spaces\n        - Check if this half plane allows us to check of any other obstacles in the same iteration\n        \"\"\"\n\n    solution_found = True\n    A = np.array(ais).T[0]\n    b = np.array(bis).reshape(-1, 1)\n    return A, b, solution_found",
      "metadata": {
        "cell_id": "363e6570615a4632b94b3a7f188583bb",
        "deepnote_cell_type": "code"
      },
      "outputs": [],
      "outputs_reference": null,
      "execution_count": null,
      "block_group": "184f21696a2d40df81752240688397b7",
      "content_dependencies": null
    },
    {
      "cell_type": "markdown",
      "source": "Once you have these functions running, you can run the two cell blocks below to perform the full optimization, and show the final result along with an animation of the iterations performed by the optimizer. \n\nIf you want to view the intermediate results along the way to debug what your implementations are doing, you can set `plot_debug` to True, and view the halfspaces you create and the ellipsoids that are contained within them. ",
      "metadata": {
        "cell_id": "c803022b013c4c169cd13b0e120cc700",
        "deepnote_cell_type": "markdown"
      },
      "block_group": "eff573e333964bdcbd742409c296e3f0"
    },
    {
      "cell_type": "code",
      "source": "plot_debug = False\n\n\ndef optim():\n    global As, bs, Cs, ds, seed_point, regions, current_region\n    As = []\n    bs = []\n    Cs = []\n    ds = []\n\n    C0 = np.eye(2) * 0.01\n    Cs.append(C0)\n    ds.append(seed_point.copy())\n    O = tris\n\n    iters = 0\n    sol_found = True\n\n    while True:\n        print(\"Iteration %d\" % iters)\n\n        iters += 1\n\n        if iters > max_iters:\n            sol_found = False\n            break\n\n        A, b, hyp_sol = SeparatingHyperplanes(Cs[-1], ds[-1], O.copy())\n        if not hyp_sol:\n            print('Couldn\"t find hyperplanes')\n            continue\n        As.append(A)\n        bs.append(b)\n\n        if running_as_notebook and plot_debug:\n            fig, ax = plt.subplots()\n            draw(ax)\n            plt.show()\n\n        C, d = InscribedEllipsoid(As[-1], bs[-1])\n        Cs.append(C)\n        ds.append(d)\n\n        if (np.linalg.det(Cs[-1]) - np.linalg.det(Cs[-2])) / np.linalg.det(\n            Cs[-2]\n        ) < tolerance:\n            break\n\n    print(\"Done\")\n\n    if sol_found:\n        update_polytope(As[-1], bs[-1], ds[-1])\n        regions.append(current_region)\n\n    return As, bs, Cs, ds, sol_found",
      "metadata": {
        "cell_id": "0ccd9c8898fd43de9d4011d11d667191",
        "deepnote_cell_type": "code"
      },
      "outputs": [],
      "outputs_reference": null,
      "execution_count": null,
      "block_group": "48f12a61c9c149eb82d3e5f3a58037ab",
      "content_dependencies": null
    },
    {
      "cell_type": "code",
      "source": "regions = []\ncurrent_region = []\n\nseed_point = np.array([0.2, 0.61])\nAs, bs, Cs, ds, sol_found = optim()\nprint(f\"Solution found: {sol_found}\")\n\n\ndef ani_draw(ii):\n    global seed_point, As, bs, Cs, ds, regions\n    ax.cla()\n    ax.set_xlim(limits[0])\n    ax.set_ylim(limits[1])\n    ax.set_aspect(\"equal\")\n    eps = 1e-7\n    for tri in tris:\n        ax.add_patch(Polygon(tri, color=\"red\"))\n\n    if not (seed_point is None):\n        ax.scatter([seed_point[0]], [seed_point[1]])\n\n    if len(Cs) > 0:\n        C = Cs[ii]\n        d = ds[ii]\n        draw_ellipse(C, d)\n    if len(As) > 0:\n        A = As[ii]\n        b = bs[ii]\n        for i in range(len(b)):\n            w = A[:, i]\n            intercept = b[i]\n            xx = np.linspace(*limits[0])\n            yy = (-w[0] / (w[1] + eps)) * xx + (intercept / (w[1] + eps))\n            ax.plot(xx, yy, color=\"blue\")\n        draw_intersection(A, b, ds[-1])\n\n    if ii == (len(As) - 1):\n        for region in regions:\n            plt.plot(region[:, 0], region[:, 1], color=\"green\", alpha=0.5)\n            plt.plot(\n                region[[0, -1], 0],\n                region[[0, -1], 1],\n                color=\"green\",\n                alpha=0.5,\n            )\n            ax.add_patch(Polygon(region, color=\"green\", alpha=0.25))\n\n\nfrom IPython.display import HTML, display\n\nif sol_found:\n    fig, ax = plt.subplots()\n    anim = FuncAnimation(fig, ani_draw, frames=len(As), interval=500)\n\n    from IPython.display import HTML\n\n    display(HTML(anim.to_jshtml()))\nelse:\n    print(\"No solution found, nothing to plot\")",
      "metadata": {
        "scrolled": false,
        "cell_id": "92e3866516f94116a8b89eccabe81201",
        "deepnote_cell_type": "code"
      },
      "outputs": [],
      "outputs_reference": null,
      "execution_count": null,
      "block_group": "ea3b61f67a704976b80bb5f6206d8c2a",
      "content_dependencies": null
    },
    {
      "cell_type": "markdown",
      "source": "## How will this notebook be Graded?\n\nIf you are enrolled in the class, this notebook will be graded using [Gradescope](www.gradescope.com). You should have gotten the enrollement code on our announcement in Piazza. \n\nFor submission of this assignment, you must do two things. \n- Download and submit the notebook `taskspace_iris.ipynb` to Gradescope's notebook submission section, along with your notebook for the other problems.\n\nWe will evaluate the local functions in the notebook to see if the function behaves as we have expected. For this exercise, the rubric is as follows:\n- [4 pts] `ClosestPointOnObstacle` must be implemented correctly. \n- [4 pts] `SeparatingHyperplanes` must be implemented correctly.",
      "metadata": {
        "id": "MwE8yNg58VQN",
        "cell_id": "1c6985524df549debc8188f64195aa86",
        "deepnote_cell_type": "markdown"
      },
      "block_group": "d38469290fc042ab8ad6287a932e7edc"
    },
    {
      "cell_type": "code",
      "source": "from manipulation.exercises.grader import Grader\nfrom manipulation.exercises.trajectories.test_taskspace_iris import TestTaskspaceIRIS\n\nGrader.grade_output([TestTaskspaceIRIS], [locals()], \"results.json\")\nGrader.print_test_results(\"results.json\")",
      "metadata": {
        "id": "XjQh6E-r_CNx",
        "cell_id": "6403ef957512464f8fb72baca6a39b0b",
        "deepnote_cell_type": "code"
      },
      "outputs": [],
      "outputs_reference": null,
      "execution_count": null,
      "block_group": "aabf6f72d2ae4ca39abd61dd2e99109b",
      "content_dependencies": null
    },
    {
      "cell_type": "markdown",
      "source": "<a style='text-decoration:none;line-height:16px;display:flex;color:#5B5B62;padding:10px;justify-content:end;' href='https://deepnote.com?utm_source=created-in-deepnote-cell&projectId=1ffa96e9-51f5-40a2-b71d-52faca4ce7bc' target=\"_blank\">\n<img alt='Created in deepnote.com' style='display:inline;max-height:16px;margin:0px;margin-right:7.5px;' src='data:image/svg+xml;base64,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' > </img>\nCreated in <span style='font-weight:600;margin-left:4px;'>Deepnote</span></a>",
      "metadata": {
        "created_in_deepnote_cell": true,
        "deepnote_cell_type": "markdown"
      }
    }
  ],
  "nbformat": 4,
  "nbformat_minor": 0,
  "metadata": {
    "deepnote_notebook_id": "7b1884687334427298c731bb2a301dfb",
    "deepnote_execution_queue": []
  }
}