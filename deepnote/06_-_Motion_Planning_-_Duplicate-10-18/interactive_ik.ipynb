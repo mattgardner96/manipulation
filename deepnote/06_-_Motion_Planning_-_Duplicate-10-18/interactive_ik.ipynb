{
  "cells": [
    {
      "cell_type": "markdown",
      "source": "This notebook provides examples to go along with the [textbook](http://manipulation.csail.mit.edu/trajectories.html).  I recommend having both windows open, side-by-side!",
      "metadata": {
        "id": "EgiF12Hf1Dhs",
        "cell_id": "30bd17aca2d949878df1a232c0e3fd46",
        "deepnote_cell_type": "markdown"
      },
      "block_group": "124815358c164dfab7f45b326b8b6fc4"
    },
    {
      "cell_type": "code",
      "source": "import numpy as np\nfrom IPython.display import clear_output\nfrom pydrake.all import (\n    AddMultibodyPlantSceneGraph,\n    Box,\n    Cylinder,\n    DiagramBuilder,\n    InverseKinematics,\n    MeshcatVisualizer,\n    MeshcatVisualizerParams,\n    RigidTransform,\n    Role,\n    RollPitchYaw,\n    RotationMatrix,\n    Solve,\n    StartMeshcat,\n)\n\nfrom manipulation.meshcat_utils import (  # TODO(russt): switch to pydrake version\n    _MeshcatPoseSliders,\n)\nfrom manipulation.scenarios import AddIiwa, AddShape, AddWsg",
      "metadata": {
        "id": "eeMrMI0-1Dhu",
        "cell_id": "397a44d3188e42b891be636403722af5",
        "deepnote_cell_type": "code"
      },
      "outputs": [],
      "outputs_reference": null,
      "execution_count": null,
      "block_group": "c2f90580d26c41589e1ec3725143b12e",
      "content_dependencies": null
    },
    {
      "cell_type": "code",
      "source": "# Start the visualizer.\nmeshcat = StartMeshcat()",
      "metadata": {
        "cell_id": "78415fbfd721443399c76b091b35aff2",
        "deepnote_cell_type": "code"
      },
      "outputs": [],
      "outputs_reference": null,
      "execution_count": null,
      "block_group": "ec51eaa0c4d149baaa80b0dd9d8c8a17",
      "content_dependencies": null
    },
    {
      "cell_type": "markdown",
      "source": "# Interactive inverse kinematics\n\nThis first cell gives us an interface that is very similar to the differential IK teleop interface that we used before.  See if you can spot any differences.",
      "metadata": {
        "cell_id": "84f0fdb11ec14b5a807ea0a8e6c156ab",
        "deepnote_cell_type": "markdown"
      },
      "block_group": "a3e5a50dbe064af5ade0c3394a2a584b"
    },
    {
      "cell_type": "code",
      "source": "def teleop_inverse_kinematics():\n    builder = DiagramBuilder()\n\n    plant, scene_graph = AddMultibodyPlantSceneGraph(builder, time_step=0.001)\n    iiwa = AddIiwa(plant)\n    wsg = AddWsg(plant, iiwa, welded=True)\n    plant.Finalize()\n\n    visualizer = MeshcatVisualizer.AddToBuilder(\n        builder,\n        scene_graph,\n        meshcat,\n        MeshcatVisualizerParams(delete_prefix_initialization_event=False),\n    )\n\n    diagram = builder.Build()\n    context = diagram.CreateDefaultContext()\n    plant_context = plant.GetMyContextFromRoot(context)\n\n    q0 = plant.GetPositions(plant_context)\n    gripper_frame = plant.GetFrameByName(\"body\", wsg)\n\n    def my_callback(context, pose):\n        ik = InverseKinematics(plant, plant_context)\n        ik.AddPositionConstraint(\n            gripper_frame,\n            [0, 0, 0],\n            plant.world_frame(),\n            pose.translation(),\n            pose.translation(),\n        )\n        ik.AddOrientationConstraint(\n            gripper_frame,\n            RotationMatrix(),\n            plant.world_frame(),\n            pose.rotation(),\n            0.0,\n        )\n        prog = ik.get_mutable_prog()\n        q = ik.q()\n        prog.AddQuadraticErrorCost(np.identity(len(q)), q0, q)\n        prog.SetInitialGuess(q, q0)\n        result = Solve(ik.prog())\n        if result.is_success():\n            print(\"IK success\")\n        else:\n            print(\"IK failure\")\n        clear_output(wait=True)\n\n    meshcat.DeleteAddedControls()\n    sliders = _MeshcatPoseSliders(meshcat)\n    sliders.SetPose(\n        plant.EvalBodyPoseInWorld(plant_context, plant.GetBodyByName(\"body\", wsg))\n    )\n    sliders.Run(visualizer, context, my_callback)\n\n\nteleop_inverse_kinematics()",
      "metadata": {
        "cell_id": "b3d6834f164b41f98c99572bb8595e10",
        "deepnote_cell_type": "code"
      },
      "outputs": [],
      "outputs_reference": null,
      "execution_count": null,
      "block_group": "58d5b1a8d2734428b9aacbf1278f405d",
      "content_dependencies": null
    },
    {
      "cell_type": "markdown",
      "source": "This one has a collision to avoid.  Try moving it in positive $y$.",
      "metadata": {
        "cell_id": "be75ba17b7f7411ea7e5b9b23bac0dd3",
        "deepnote_cell_type": "markdown"
      },
      "block_group": "968bcec011f947459932e89605062f37"
    },
    {
      "cell_type": "code",
      "source": "def teleop_inverse_kinematics():\n    builder = DiagramBuilder()\n\n    plant, scene_graph = AddMultibodyPlantSceneGraph(builder, time_step=0.001)\n    iiwa = AddIiwa(plant, \"with_box_collision\")\n    wsg = AddWsg(plant, iiwa, welded=True)\n    box = AddShape(plant, Box(0.1, 0.1, 1.0), \"box\")\n    plant.WeldFrames(\n        plant.world_frame(),\n        plant.GetFrameByName(\"box\", box),\n        RigidTransform([0.25, 0.0, 0.5]),\n    )\n    plant.Finalize()\n\n    meshcat.Delete()\n    meshcat.DeleteAddedControls()\n    visualizer = MeshcatVisualizer.AddToBuilder(\n        builder, scene_graph, meshcat, MeshcatVisualizerParams()\n    )\n    collision = MeshcatVisualizer.AddToBuilder(\n        builder,\n        scene_graph,\n        meshcat,\n        MeshcatVisualizerParams(\n            prefix=\"collision\", role=Role.kProximity, visible_by_default=False\n        ),\n    )\n\n    diagram = builder.Build()\n    context = diagram.CreateDefaultContext()\n    plant_context = plant.GetMyContextFromRoot(context)\n\n    q0 = plant.GetPositions(plant_context)\n    gripper_frame = plant.GetFrameByName(\"body\", wsg)\n\n    def my_callback(context, pose):\n        ik = InverseKinematics(plant, plant_context)\n        ik.AddPositionConstraint(\n            gripper_frame,\n            [0, 0, 0],\n            plant.world_frame(),\n            pose.translation(),\n            pose.translation(),\n        )\n        ik.AddOrientationConstraint(\n            gripper_frame,\n            RotationMatrix(),\n            plant.world_frame(),\n            pose.rotation(),\n            0.0,\n        )\n        ik.AddMinimumDistanceLowerBoundConstraint(0.001, 0.1)\n        prog = ik.get_mutable_prog()\n        q = ik.q()\n        prog.AddQuadraticErrorCost(np.identity(len(q)), q0, q)\n        prog.SetInitialGuess(q, q0)\n        result = Solve(ik.prog())\n        if result.is_success():\n            print(\"IK success\")\n        else:\n            print(\"IK failure\")\n        clear_output(wait=True)\n\n    sliders = _MeshcatPoseSliders(meshcat)\n    sliders.SetPose(\n        plant.EvalBodyPoseInWorld(plant_context, plant.GetBodyByName(\"body\", wsg))\n    )\n    # set the initial z lower, to make the interaction interesting.\n    sliders.SetXyz([0.4, -0.2, 0.35])\n    sliders.Run(diagram, context, my_callback)\n\n\nteleop_inverse_kinematics()",
      "metadata": {
        "cell_id": "5d24da35ab4f429996a398420fefa339",
        "deepnote_cell_type": "code"
      },
      "outputs": [],
      "outputs_reference": null,
      "execution_count": null,
      "block_group": "00b8beafd91a4cc588360923a5a3b3ee",
      "content_dependencies": null
    },
    {
      "cell_type": "markdown",
      "source": "This one has the hand tracking a cylinder, but is allowed to touch anywhere along the cylinder.  The sliders are controlling the pose of the cylinder. Or you can set `grasp_cylinder` to `False` and just chase the robot around with a stick.",
      "metadata": {
        "cell_id": "7cf204a3c7ce4d64af2082708f1ed5fa",
        "deepnote_cell_type": "markdown"
      },
      "block_group": "6f14add7aeeb424dbfb5f9bfee21b782"
    },
    {
      "cell_type": "code",
      "source": "def teleop_inverse_kinematics(grasp_cylinder=True):\n    builder = DiagramBuilder()\n\n    plant, scene_graph = AddMultibodyPlantSceneGraph(builder, time_step=0.001)\n    iiwa = AddIiwa(plant, \"with_box_collision\")\n    wsg = AddWsg(plant, iiwa, welded=True)\n    cylinder = AddShape(plant, Cylinder(0.02, 1.0), \"cylinder\")\n    plant.Finalize()\n\n    meshcat.Delete()\n    meshcat.DeleteAddedControls()\n    visualizer = MeshcatVisualizer.AddToBuilder(\n        builder, scene_graph, meshcat, MeshcatVisualizerParams()\n    )\n\n    diagram = builder.Build()\n    context = diagram.CreateDefaultContext()\n    plant_context = plant.GetMyContextFromRoot(context)\n\n    q0 = plant.GetPositions(plant_context)\n    gripper_frame = plant.GetFrameByName(\"body\", wsg)\n    cylinder_frame = plant.GetFrameByName(\"cylinder\", cylinder)\n\n    def my_callback(context, pose):\n        ik = InverseKinematics(plant, plant_context)\n        ik.AddPositionConstraint(\n            cylinder_frame,\n            [0, 0, 0],\n            plant.world_frame(),\n            pose.translation(),\n            pose.translation(),\n        )\n        ik.AddOrientationConstraint(\n            cylinder_frame,\n            RotationMatrix(),\n            plant.world_frame(),\n            pose.rotation(),\n            0.0,\n        )\n        if grasp_cylinder:\n            ik.AddPositionConstraint(\n                frameB=gripper_frame,\n                p_BQ=[0, 0.1, -0.02],\n                frameA=cylinder_frame,\n                p_AQ_lower=[0, 0, -0.5],\n                p_AQ_upper=[0, 0, 0.5],\n            )\n            ik.AddPositionConstraint(\n                frameB=gripper_frame,\n                p_BQ=[0, 0.1, 0.02],\n                frameA=cylinder_frame,\n                p_AQ_lower=[0, 0, -0.5],\n                p_AQ_upper=[0, 0, 0.5],\n            )\n        else:\n            ik.AddMinimumDistanceLowerBoundConstraint(0.001, 0.1)\n        prog = ik.get_mutable_prog()\n        q = ik.q()\n        prog.AddQuadraticErrorCost(np.identity(len(q)), q0, q)\n        prog.SetInitialGuess(q, q0)\n        result = Solve(ik.prog())\n        if result.is_success():\n            print(\"IK success\")\n        else:\n            print(\"IK failure\")\n        clear_output(wait=True)\n\n    sliders = _MeshcatPoseSliders(meshcat)\n    sliders.SetPose(RigidTransform(RollPitchYaw(np.pi / 2.0, 0, 0), [0.5, 0, 0.5]))\n    sliders.Run(visualizer, context, my_callback)\n\n\n# Set grasp_cylinder=False if you just want to antagonize the robot with a stick.\nteleop_inverse_kinematics(grasp_cylinder=True)",
      "metadata": {
        "cell_id": "5ca6863fe0a54d38898623f39cb61ff2",
        "deepnote_cell_type": "code"
      },
      "outputs": [],
      "outputs_reference": null,
      "execution_count": null,
      "block_group": "48e2b3267c4140d3aba65f97862832b0",
      "content_dependencies": null
    },
    {
      "cell_type": "code",
      "source": "",
      "metadata": {
        "cell_id": "fb076f03e4c0413bb847dae200a1fed0",
        "deepnote_cell_type": "code"
      },
      "outputs": [],
      "outputs_reference": null,
      "execution_count": null,
      "block_group": "4872a2c0088449ad894762437b5a9579",
      "content_dependencies": null
    },
    {
      "cell_type": "markdown",
      "source": "<a style='text-decoration:none;line-height:16px;display:flex;color:#5B5B62;padding:10px;justify-content:end;' href='https://deepnote.com?utm_source=created-in-deepnote-cell&projectId=1ffa96e9-51f5-40a2-b71d-52faca4ce7bc' target=\"_blank\">\n<img alt='Created in deepnote.com' style='display:inline;max-height:16px;margin:0px;margin-right:7.5px;' src='data:image/svg+xml;base64,PD94bWwgdmVyc2lvbj0iMS4wIiBlbmNvZGluZz0iVVRGLTgiPz4KPHN2ZyB3aWR0aD0iODBweCIgaGVpZ2h0PSI4MHB4IiB2aWV3Qm94PSIwIDAgODAgODAiIHZlcnNpb249IjEuMSIgeG1sbnM9Imh0dHA6Ly93d3cudzMub3JnLzIwMDAvc3ZnIiB4bWxuczp4bGluaz0iaHR0cDovL3d3dy53My5vcmcvMTk5OS94bGluayI+CiAgICA8IS0tIEdlbmVyYXRvcjogU2tldGNoIDU0LjEgKDc2NDkwKSAtIGh0dHBzOi8vc2tldGNoYXBwLmNvbSAtLT4KICAgIDx0aXRsZT5Hcm91cCAzPC90aXRsZT4KICAgIDxkZXNjPkNyZWF0ZWQgd2l0aCBTa2V0Y2guPC9kZXNjPgogICAgPGcgaWQ9IkxhbmRpbmciIHN0cm9rZT0ibm9uZSIgc3Ryb2tlLXdpZHRoPSIxIiBmaWxsPSJub25lIiBmaWxsLXJ1bGU9ImV2ZW5vZGQiPgogICAgICAgIDxnIGlkPSJBcnRib2FyZCIgdHJhbnNmb3JtPSJ0cmFuc2xhdGUoLTEyMzUuMDAwMDAwLCAtNzkuMDAwMDAwKSI+CiAgICAgICAgICAgIDxnIGlkPSJHcm91cC0zIiB0cmFuc2Zvcm09InRyYW5zbGF0ZSgxMjM1LjAwMDAwMCwgNzkuMDAwMDAwKSI+CiAgICAgICAgICAgICAgICA8cG9seWdvbiBpZD0iUGF0aC0yMCIgZmlsbD0iIzAyNjVCNCIgcG9pbnRzPSIyLjM3NjIzNzYyIDgwIDM4LjA0NzY2NjcgODAgNTcuODIxNzgyMiA3My44MDU3NTkyIDU3LjgyMTc4MjIgMzIuNzU5MjczOSAzOS4xNDAyMjc4IDMxLjY4MzE2ODMiPjwvcG9seWdvbj4KICAgICAgICAgICAgICAgIDxwYXRoIGQ9Ik0zNS4wMDc3MTgsODAgQzQyLjkwNjIwMDcsNzYuNDU0OTM1OCA0Ny41NjQ5MTY3LDcxLjU0MjI2NzEgNDguOTgzODY2LDY1LjI2MTk5MzkgQzUxLjExMjI4OTksNTUuODQxNTg0MiA0MS42NzcxNzk1LDQ5LjIxMjIyODQgMjUuNjIzOTg0Niw0OS4yMTIyMjg0IEMyNS40ODQ5Mjg5LDQ5LjEyNjg0NDggMjkuODI2MTI5Niw0My4yODM4MjQ4IDM4LjY0NzU4NjksMzEuNjgzMTY4MyBMNzIuODcxMjg3MSwzMi41NTQ0MjUgTDY1LjI4MDk3Myw2Ny42NzYzNDIxIEw1MS4xMTIyODk5LDc3LjM3NjE0NCBMMzUuMDA3NzE4LDgwIFoiIGlkPSJQYXRoLTIyIiBmaWxsPSIjMDAyODY4Ij48L3BhdGg+CiAgICAgICAgICAgICAgICA8cGF0aCBkPSJNMCwzNy43MzA0NDA1IEwyNy4xMTQ1MzcsMC4yNTcxMTE0MzYgQzYyLjM3MTUxMjMsLTEuOTkwNzE3MDEgODAsMTAuNTAwMzkyNyA4MCwzNy43MzA0NDA1IEM4MCw2NC45NjA0ODgyIDY0Ljc3NjUwMzgsNzkuMDUwMzQxNCAzNC4zMjk1MTEzLDgwIEM0Ny4wNTUzNDg5LDc3LjU2NzA4MDggNTMuNDE4MjY3Nyw3MC4zMTM2MTAzIDUzLjQxODI2NzcsNTguMjM5NTg4NSBDNTMuNDE4MjY3Nyw0MC4xMjg1NTU3IDM2LjMwMzk1NDQsMzcuNzMwNDQwNSAyNS4yMjc0MTcsMzcuNzMwNDQwNSBDMTcuODQzMDU4NiwzNy43MzA0NDA1IDkuNDMzOTE5NjYsMzcuNzMwNDQwNSAwLDM3LjczMDQ0MDUgWiIgaWQ9IlBhdGgtMTkiIGZpbGw9IiMzNzkzRUYiPjwvcGF0aD4KICAgICAgICAgICAgPC9nPgogICAgICAgIDwvZz4KICAgIDwvZz4KPC9zdmc+' > </img>\nCreated in <span style='font-weight:600;margin-left:4px;'>Deepnote</span></a>",
      "metadata": {
        "created_in_deepnote_cell": true,
        "deepnote_cell_type": "markdown"
      }
    }
  ],
  "nbformat": 4,
  "nbformat_minor": 0,
  "metadata": {
    "deepnote_notebook_id": "f3b126402d284addb50745f9a6e3e2b0",
    "deepnote_execution_queue": []
  }
}