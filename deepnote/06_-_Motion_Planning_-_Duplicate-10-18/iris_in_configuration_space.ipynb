{
  "cells": [
    {
      "cell_type": "markdown",
      "source": "# Finding large collision-free configuration-space regions with IRIS\n\nThis notebook provides examples to go along with the [textbook](http://manipulation.csail.mit.edu/trajectories.html).  I recommend having both windows open, side-by-side!\n",
      "metadata": {
        "id": "EgiF12Hf1Dhs",
        "cell_id": "a6d3f97cf65e43b68f9bc08c06e6af8e",
        "deepnote_cell_type": "markdown"
      },
      "block_group": "2ff85b882e564707b5e54c378c32c55d"
    },
    {
      "cell_type": "code",
      "source": "import time\n\nimport numpy as np\nfrom pydrake.all import (\n    AddDefaultVisualization,\n    AddMultibodyPlantSceneGraph,\n    Context,\n    Diagram,\n    DiagramBuilder,\n    HPolyhedron,\n    Hyperellipsoid,\n    InverseKinematics,\n    IrisInConfigurationSpace,\n    IrisOptions,\n    MathematicalProgram,\n    MultibodyPlant,\n    Parser,\n    Rgba,\n    RigidTransform,\n    Solve,\n    Sphere,\n    StartMeshcat,\n)\n\nfrom manipulation import running_as_notebook\nfrom manipulation.scenarios import AddIiwa, AddWsg\nfrom manipulation.utils import ConfigureParser",
      "metadata": {
        "id": "eeMrMI0-1Dhu",
        "cell_id": "91679d0e882248bf9a10a79a68641002",
        "deepnote_cell_type": "code"
      },
      "outputs": [],
      "outputs_reference": null,
      "execution_count": null,
      "block_group": "c482913f89ba41f7a258851bb8f3a8d6",
      "content_dependencies": null
    },
    {
      "cell_type": "code",
      "source": "# Start the visualizer.\nmeshcat = StartMeshcat()",
      "metadata": {
        "cell_id": "30721bb97a914b608ad28811e0935a1e",
        "deepnote_cell_type": "code"
      },
      "outputs": [],
      "outputs_reference": null,
      "execution_count": null,
      "block_group": "a3292f73fcd34b5aa9348672888374fb",
      "content_dependencies": null
    },
    {
      "cell_type": "markdown",
      "source": "### Helper methods",
      "metadata": {
        "cell_id": "efa3ed1a77c740438dc7a4e3154b9bf9",
        "deepnote_cell_type": "markdown"
      },
      "block_group": "79bc4bd3364d4dbf99eb5e390dbf42a1"
    },
    {
      "cell_type": "code",
      "source": "def AnimateIris(\n    root_diagram: Diagram,\n    root_context: Context,\n    plant: MultibodyPlant,\n    region: HPolyhedron,\n    speed: float,\n):\n    \"\"\"\n    A simple hit-and-run-style idea for visualizing the IRIS regions:\n    1. Start at the center. Pick a random direction and run to the boundary.\n    2. Pick a new random direction; project it onto the current boundary, and run along it. Repeat\n    \"\"\"\n\n    plant_context = plant.GetMyContextFromRoot(root_context)\n\n    q = region.ChebyshevCenter()\n    plant.SetPositions(plant_context, q)\n    root_diagram.ForcedPublish(root_context)\n\n    print(\"Press the 'Stop Animation' button in Meshcat to continue.\")\n    meshcat.AddButton(\"Stop Animation\", \"Escape\")\n\n    rng = np.random.default_rng()\n    nq = plant.num_positions()\n    prog = MathematicalProgram()\n    qvar = prog.NewContinuousVariables(nq, \"q\")\n    prog.AddLinearConstraint(region.A(), 0 * region.b() - np.inf, region.b(), qvar)\n    cost = prog.AddLinearCost(np.ones((nq, 1)), qvar)\n\n    while meshcat.GetButtonClicks(\"Stop Animation\") < 1:\n        direction = rng.standard_normal(nq)\n        cost.evaluator().UpdateCoefficients(direction)\n\n        result = Solve(prog)\n        assert result.is_success()\n\n        q_next = result.GetSolution(qvar)\n\n        # Animate between q and q_next (at speed):\n        # TODO: normalize step size to speed... e.g. something like\n        # 20 * np.linalg.norm(q_next - q) / speed)\n        for t in np.append(np.arange(0, 1, 0.05), 1):\n            qs = t * q_next + (1 - t) * q\n            plant.SetPositions(plant_context, qs)\n            root_diagram.ForcedPublish(root_context)\n            if running_as_notebook:\n                time.sleep(0.05)\n\n        q = q_next\n\n        if not running_as_notebook:\n            break\n\n    meshcat.DeleteButton(\"Stop Animation\")\n\n\ndef BuildIiwaWithShelves() -> Diagram:\n    builder = DiagramBuilder()\n\n    plant, scene_graph = AddMultibodyPlantSceneGraph(builder, time_step=0.001)\n    iiwa = AddIiwa(plant)\n    wsg = AddWsg(plant, iiwa, welded=True, sphere=False)\n\n    parser = Parser(plant)\n    ConfigureParser(parser)\n    bin = parser.AddModelsFromUrl(\"package://manipulation/shelves.sdf\")[0]\n    plant.WeldFrames(\n        plant.world_frame(),\n        plant.GetFrameByName(\"shelves_body\", bin),\n        RigidTransform([0.88, 0, 0.4]),\n    )\n\n    plant.Finalize()\n    AddDefaultVisualization(builder, meshcat)\n\n    return builder.Build()",
      "metadata": {
        "cell_id": "5bbfdfca340245b38ef5ff723353a31d",
        "deepnote_cell_type": "code"
      },
      "outputs": [],
      "outputs_reference": null,
      "execution_count": null,
      "block_group": "da889ebe36e9419dbd3037fb0090a333",
      "content_dependencies": null
    },
    {
      "cell_type": "markdown",
      "source": "## Using the \"HOME\" region as an obstacle for the \"SHELF\" region\n\nIf we only start IRIS with a seed point inside the shelf, then it will attempt to cover the space outside of the shelf in order to maximize volume. So we run IRIS once in the home configuration, and use that as an obstacle for the IRIS region we grow in the shelf.",
      "metadata": {
        "cell_id": "9de2b7abb81d4e4eafcbfcc9157899f2",
        "deepnote_cell_type": "markdown"
      },
      "block_group": "ce448df5102b434d89b0cd9cde92bd76"
    },
    {
      "cell_type": "code",
      "source": "def home_region_as_obstacle():\n    diagram = BuildIiwaWithShelves()\n    context = diagram.CreateDefaultContext()\n    plant = diagram.GetSubsystemByName(\"plant\")\n    plant_context = plant.GetMyContextFromRoot(context)\n\n    q0 = plant.GetPositions(plant_context)\n    gripper_frame = plant.GetFrameByName(\"body\")\n\n    # First seed should just be the home position.\n    options = IrisOptions()\n    # You'll see a few glancing collisions in the resulting region; increase this number\n    # to reduce them (at the cost of IRIS running for longer)\n    options.num_collision_infeasible_samples = 3 if running_as_notebook else 1\n    options.random_seed = 1235\n    options.require_sample_point_is_contained = True\n    region = IrisInConfigurationSpace(plant, plant_context, options)\n\n    # Add a seed for reaching into the top shelf.\n    ik = InverseKinematics(plant, plant_context)\n    ik.AddMinimumDistanceLowerBoundConstraint(0.001, 0.01)\n    p_TopShelf = [0.95, 0, 0.65]\n    grasp_constraint = ik.AddPositionConstraint(\n        gripper_frame, [0, 0.1, 0], plant.world_frame(), p_TopShelf, p_TopShelf\n    )\n\n    q = ik.q()\n    prog = ik.get_mutable_prog()\n    prog.AddQuadraticErrorCost(np.eye(len(q)), q0, q)\n    prog.SetInitialGuess(q, q0)\n    result = Solve(ik.prog())\n    if not result.is_success():\n        print(\"IK failed\")\n    plant.SetPositions(plant_context, result.GetSolution(q))\n    diagram.ForcedPublish(context)\n\n    options.configuration_obstacles = [region]\n    shelf_region = IrisInConfigurationSpace(plant, plant_context, options)\n    AnimateIris(diagram, context, plant, shelf_region, speed=0.1)\n\n\nmeshcat.Delete()\nhome_region_as_obstacle()",
      "metadata": {
        "cell_id": "15d47324f0f448708bc59b8318e875a7",
        "deepnote_cell_type": "code"
      },
      "outputs": [],
      "outputs_reference": null,
      "execution_count": null,
      "block_group": "be310177d0c0417d9ec19a9585a46d5b",
      "content_dependencies": null
    },
    {
      "cell_type": "markdown",
      "source": "## Using a \"starting ellipse\" covering multiple IK solutions\n\nInstead of defining a region outside the shelf as an obstacle, we can instead call IK many times inside the shelf, and use the resulting configurations to define a local metric for the \"volume\" that we wish to cover with IRIS.",
      "metadata": {
        "cell_id": "5c72c4ab08fc4057849f09becad48328",
        "deepnote_cell_type": "markdown"
      },
      "block_group": "b075af1a5a4e4153a0565e3cc835f187"
    },
    {
      "cell_type": "code",
      "source": "def starting_ellipse():\n    diagram = BuildIiwaWithShelves()\n    context = diagram.CreateDefaultContext()\n    plant = diagram.GetSubsystemByName(\"plant\")\n    plant_context = plant.GetMyContextFromRoot(context)\n\n    q0 = plant.GetPositions(plant_context)\n    gripper_frame = plant.GetFrameByName(\"body\")\n\n    # Solve IK (with collision-avoidance constraints) for each of the 8 corners inside\n    # the top shelf.\n    q_samples = np.zeros((plant.num_positions(), 8))\n    count = 0\n    for back in [True, False]:\n        for right in [True, False]:\n            for top in [True, False]:\n                ik = InverseKinematics(plant, plant_context)\n                ik.AddMinimumDistanceLowerBoundConstraint(0.001, 0.01)\n                p_WTarget = np.array(\n                    [\n                        1.0 if back else 0.8,\n                        0.23 if right else -0.23,\n                        0.78 if top else 0.55,\n                    ]\n                )\n                meshcat.SetObject(f\"target{count}\", Sphere(0.03), Rgba(1, 0, 0, 1))\n                meshcat.SetTransform(f\"target{count}\", RigidTransform(p_WTarget))\n                ik.AddPositionConstraint(\n                    gripper_frame,\n                    [0.01, 0.1, 0],\n                    plant.world_frame(),\n                    [0.8, -0.23, 0.55],\n                    [1.04, 0.23, 0.78],\n                )\n                ik.AddPositionConstraint(\n                    gripper_frame,\n                    [-0.01, 0.1, 0],\n                    plant.world_frame(),\n                    [0.8, -0.23, 0.55],\n                    [1.04, 0.23, 0.78],\n                )\n                ik.AddPositionCost(\n                    gripper_frame,\n                    [0, 0.1, 0],\n                    plant.world_frame(),\n                    p_WTarget,\n                    np.eye(3),\n                )\n                q = ik.q()\n                prog = ik.get_mutable_prog()\n                prog.AddQuadraticErrorCost(0.01 * np.eye(len(q)), q0, q)\n                # Don't take the solution with the base rotated the other direction\n                prog.AddBoundingBoxConstraint(-0.2, 0.2, q[0])\n                prog.SetInitialGuess(q, q0)\n                result = Solve(ik.prog())\n                # Note: IK may fail for some of the points; this is fine. We're just\n                # trying to approximately define a configuration space volume.\n                q_samples[:, count - 1] = result.GetSolution(q)\n                plant.SetPositions(plant_context, result.GetSolution(q))\n                diagram.ForcedPublish(context)\n                count += 1\n                # Uncomment this to see the sample points animated in Meshcat.\n                # time.sleep(2)\n\n    E = Hyperellipsoid.MinimumVolumeCircumscribedEllipsoid(q_samples)\n    plant.SetPositions(plant_context, E.center())\n    diagram.ForcedPublish(context)\n    options = IrisOptions()\n    # You'll see a few glancing collisions in the resulting region; increase this number\n    # to reduce them (at the cost of IRIS running for longer)\n    options.num_collision_infeasible_samples = 10 if running_as_notebook else 1\n    options.random_seed = 1235\n    options.starting_ellipse = E\n    options.iteration_limit = 1\n    region = IrisInConfigurationSpace(plant, plant_context, options)\n    AnimateIris(diagram, context, plant, region, speed=0.1)\n\n\nmeshcat.Delete()\nstarting_ellipse()",
      "metadata": {
        "cell_id": "6caef0809c2b4fe599245076148f6083",
        "deepnote_cell_type": "code"
      },
      "outputs": [],
      "outputs_reference": null,
      "execution_count": null,
      "block_group": "46441f1ff2074594a75b97bf4da1ca26",
      "content_dependencies": null
    },
    {
      "cell_type": "code",
      "source": "",
      "metadata": {
        "cell_id": "dcfa0bf0e6304298aab43434115b469e",
        "deepnote_cell_type": "code"
      },
      "outputs": [],
      "outputs_reference": null,
      "execution_count": null,
      "block_group": "f87fb1fca3f646f4a482f0059b10acff",
      "content_dependencies": null
    },
    {
      "cell_type": "markdown",
      "source": "<a style='text-decoration:none;line-height:16px;display:flex;color:#5B5B62;padding:10px;justify-content:end;' href='https://deepnote.com?utm_source=created-in-deepnote-cell&projectId=1ffa96e9-51f5-40a2-b71d-52faca4ce7bc' target=\"_blank\">\n<img alt='Created in deepnote.com' style='display:inline;max-height:16px;margin:0px;margin-right:7.5px;' src='data:image/svg+xml;base64,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' > </img>\nCreated in <span style='font-weight:600;margin-left:4px;'>Deepnote</span></a>",
      "metadata": {
        "created_in_deepnote_cell": true,
        "deepnote_cell_type": "markdown"
      }
    }
  ],
  "nbformat": 4,
  "nbformat_minor": 0,
  "metadata": {
    "deepnote_notebook_id": "bebbcdec492c40ca8c1ff7eb297d86bb",
    "deepnote_execution_queue": []
  }
}