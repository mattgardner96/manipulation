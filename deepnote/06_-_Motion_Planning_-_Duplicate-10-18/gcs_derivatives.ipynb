{
  "cells": [
    {
      "cell_type": "code",
      "source": "import numpy as np\nimport pydot\nfrom IPython.display import SVG, display\nfrom matplotlib import gridspec\nfrom matplotlib import pyplot as plt\nfrom pydrake.geometry.optimization import GraphOfConvexSetsOptions, HPolyhedron, Point\nfrom pydrake.planning import GcsTrajectoryOptimization\nfrom pydrake.solvers import CommonSolverOption, SolverOptions",
      "metadata": {
        "lines_to_end_of_cell_marker": 2,
        "cell_id": "cc3e8fb870734ca886a00a534e316256",
        "deepnote_cell_type": "code"
      },
      "outputs": [],
      "outputs_reference": null,
      "execution_count": null,
      "block_group": "669c03e501014383b78daeff476f51ec",
      "content_dependencies": null
    },
    {
      "cell_type": "markdown",
      "source": "# GCS Trajectory Optimization with Derivative Constraints\n\nGCS Trajectory Optimization provides a powerful tool for obtaining globally-optimal solution. With the more powerful solver, you might have be a bit more careful what you wish for! In particular, the interplay between shortest paths and derivative constraints can be quite subtle. This simple notebook tries to make that point.\n\nConsider a very simple GCSTrajOpt problem with (effectively) two regions -- one to the left of the origin (in light blue), and one to the right of the origin (light green). We'll put the start at the bottom left, the goal at the bottom right, and use an edge constraint to ensure that the trajectory passes through the origin.",
      "metadata": {
        "cell_id": "2dda4080a3514f4ea3fbfac8e5183e5d",
        "deepnote_cell_type": "markdown"
      },
      "block_group": "057464dd9520477494517594d61ceb36"
    },
    {
      "cell_type": "code",
      "source": "def PlotEnvironment():\n    plt.axis(\"square\")\n    plt.fill([-1, 0, 0, -1], [-1, -1, 1, 1], \"lightblue\", alpha=0.5)\n    plt.fill([0, 1, 1, 0], [-1, -1, 1, 1], \"lightgreen\", alpha=0.5)\n    plt.plot([-1, 0, 1], [-1, 0, -1], \"r*\")\n    plt.xlim([-1.25, 1.25])\n    plt.ylim([-1.25, 1.25])\n    plt.xlabel(\"x\")\n    plt.ylabel(\"y\")\n    plt.xticks()\n    plt.yticks()\n    plt.grid(1)\n\n\ndef PlotSolution(traj, result):\n    assert result.is_success()\n\n    gs = gridspec.GridSpec(2, 1, height_ratios=[4, 1])  # 4:1 ratio for height\n    plt.subplot(gs[0])\n    PlotEnvironment()\n\n    plt.plot(*traj.value(traj.start_time()), \"kx\")\n    plt.plot(*traj.value(traj.end_time()), \"kx\")\n    times = np.linspace(traj.start_time(), traj.end_time(), 1000)\n    waypoints = traj.vector_values(times)\n    plt.plot(*waypoints, \"b\", zorder=5)\n    for seg in [traj.segment(i) for i in range(traj.get_number_of_segments())]:\n        plt.plot(seg.control_points()[0], seg.control_points()[1], \"ro\")\n\n    plt.subplot(gs[1])\n    plt.plot(times, waypoints.T)\n    plt.xlabel(\"time (s)\")\n    plt.legend([\"x\", \"y\"])\n\n\nPlotEnvironment()\n\n\ndef AddRegionsAndEdges(trajopt, order=4):\n    left = trajopt.AddRegions(\n        [HPolyhedron.MakeBox([-1, -1], [0, 1])], order=order, name=\"left\"\n    )\n    right = trajopt.AddRegions(\n        [HPolyhedron.MakeBox([0, -1], [1, 1])], order=order, name=\"right\"\n    )\n    source = trajopt.AddRegions([Point([-1, -1])], order=0, name=\"source\")\n    target = trajopt.AddRegions([Point([1, -1])], order=0, name=\"target\")\n    trajopt.AddEdges(source, left)\n    trajopt.AddEdges(right, target)\n    trajopt.AddEdges(left, right)\n    e = left.Vertices()[0].outgoing_edges()[0]\n    e.AddConstraint(e.xu()[-2] == 0).evaluator().set_description(\n        \"left-right edge: y = 0\"\n    )\n    return source, left, right, target\n\n\ntrajopt = GcsTrajectoryOptimization(2)\nsource, left, right, target = AddRegionsAndEdges(trajopt, order=4)\n\n# Note: the active_path argument can be removed once we have https://github.com/RobotLocomotion/drake/pull/21817.\ndisplay(\n    SVG(\n        pydot.graph_from_dot_data(\n            trajopt.graph_of_convex_sets().GetGraphvizString(active_path=[])\n        )[0].create_svg()\n    )\n)",
      "metadata": {
        "cell_id": "2a294dc63cb94f4f84ac0db100d446fa",
        "deepnote_cell_type": "code"
      },
      "outputs": [],
      "outputs_reference": null,
      "execution_count": null,
      "block_group": "8d8382088214435e8bca9d70841c53ec",
      "content_dependencies": null
    },
    {
      "cell_type": "markdown",
      "source": "## Minimum distance, no derivative constraints\n\nNaturally, the shortest path given this setup is the straight line from the start to the origin, then the origin to the goal. Solving GcsTrajOpt without any derivative constraints recovers this solution.",
      "metadata": {
        "cell_id": "58dfa2448d28470e9e2247611be1928d",
        "deepnote_cell_type": "markdown"
      },
      "block_group": "4e0f1e61c75c43f5930e1ccc701f564e"
    },
    {
      "cell_type": "code",
      "source": "trajopt = GcsTrajectoryOptimization(2)\nsource, left, right, target = AddRegionsAndEdges(trajopt, order=4)\n\ntrajopt.AddPathLengthCost()\n[traj, result] = trajopt.SolvePath(source, target)\n\nPlotSolution(traj, result)",
      "metadata": {
        "cell_id": "0b6ef9cec07b45c2ad8828053f4da713",
        "deepnote_cell_type": "code"
      },
      "outputs": [],
      "outputs_reference": null,
      "execution_count": null,
      "block_group": "e64bcba0f15c4603ba2784e228975be6",
      "content_dependencies": null
    },
    {
      "cell_type": "markdown",
      "source": "Notice the time duration in the solution. Why did it choose that for the time duration? Our problem formulation so far has underspecified the timing. It could be infinitely fast or infinitely slow.  This can lead to strange numerical artifacts. An alternative formulation would be to solve for minimum time, subject to some velocity bounds.\n\n## Minimum distance, with velocity limits",
      "metadata": {
        "cell_id": "a0990f9ae58744119981e22f188d31b3",
        "deepnote_cell_type": "markdown"
      },
      "block_group": "51b3bf0a896743eab6a5a58cb92c8864"
    },
    {
      "cell_type": "code",
      "source": "trajopt = GcsTrajectoryOptimization(2)\nsource, left, right, target = AddRegionsAndEdges(trajopt, order=4)\n\ntrajopt.AddPathLengthCost()\ntrajopt.AddVelocityBounds([-1, -1], [1, 1])\n[traj, result] = trajopt.SolvePath(source, target)\n\nPlotSolution(traj, result)",
      "metadata": {
        "cell_id": "f2fd40d69dd14ed894eede366ee179fe",
        "deepnote_cell_type": "code"
      },
      "outputs": [],
      "outputs_reference": null,
      "execution_count": null,
      "block_group": "9a2ca3bac1964f4380fb7e98efa41966",
      "content_dependencies": null
    },
    {
      "cell_type": "markdown",
      "source": "## Minimum time, with velocity limits",
      "metadata": {
        "cell_id": "69bca5a45b294c9c99da2528e7addaf5",
        "deepnote_cell_type": "markdown"
      },
      "block_group": "fdaeee5a7a5243cba8cd22f3c3cd8a51"
    },
    {
      "cell_type": "code",
      "source": "trajopt = GcsTrajectoryOptimization(2)\nsource, left, right, target = AddRegionsAndEdges(trajopt, order=4)\n\ntrajopt.AddVelocityBounds([-1, -1], [1, 1])\ntrajopt.AddTimeCost()\n[traj, result] = trajopt.SolvePath(source, target)\n\nPlotSolution(traj, result)",
      "metadata": {
        "cell_id": "3a184e6741e74936bcfdffc3b16d02cb",
        "deepnote_cell_type": "code"
      },
      "outputs": [],
      "outputs_reference": null,
      "execution_count": null,
      "block_group": "7c25539dd07e42beb324683159e0cc00",
      "content_dependencies": null
    },
    {
      "cell_type": "markdown",
      "source": "## Minimum time, velocity limits and C(1) continuity",
      "metadata": {
        "cell_id": "05e209cac99445b8a3a622af24c45729",
        "deepnote_cell_type": "markdown"
      },
      "block_group": "6cf2f88773ee4daba3cee87085507b24"
    },
    {
      "cell_type": "code",
      "source": "trajopt = GcsTrajectoryOptimization(2)\nsource, left, right, target = AddRegionsAndEdges(trajopt, order=4)\n\ntrajopt.AddVelocityBounds([-1, -1], [1, 1])\ntrajopt.AddContinuityConstraints(continuity_order=1)\ntrajopt.AddTimeCost()\n[traj, result] = trajopt.SolvePath(source, target)\n\nPlotSolution(traj, result)",
      "metadata": {
        "cell_id": "18ab096a7f8048089f82e679d8601b1c",
        "deepnote_cell_type": "code"
      },
      "outputs": [],
      "outputs_reference": null,
      "execution_count": null,
      "block_group": "1ccbeb08005f4f1fa0609887e83eadbb",
      "content_dependencies": null
    },
    {
      "cell_type": "markdown",
      "source": "Now here's the tricky one.  If you ask for minimum distance + continuity constraints, you might be surprised with what you get.\n\n## Minimum distance with C(1) continuity",
      "metadata": {
        "cell_id": "8268e0481eec46f7b86b1d56179e20a6",
        "deepnote_cell_type": "markdown"
      },
      "block_group": "213467e50e604446a02aa5ae715360c0"
    },
    {
      "cell_type": "code",
      "source": "trajopt = GcsTrajectoryOptimization(2)\nsource, left, right, target = AddRegionsAndEdges(trajopt, order=4)\n\ntrajopt.AddVelocityBounds([-1, -1], [1, 1])\ntrajopt.AddContinuityConstraints(continuity_order=1)\ntrajopt.AddPathLengthCost()\noptions = GraphOfConvexSetsOptions()\n# NOTE: I have to disable rounding... otherwise SNOPT will fail.\noptions.max_rounded_paths = 0\n[traj, result] = trajopt.SolvePath(source, target, options)\n\nPlotSolution(traj, result)",
      "metadata": {
        "cell_id": "e18c0c064f194ac9bb4ecddea1f7eb97",
        "deepnote_cell_type": "code"
      },
      "outputs": [],
      "outputs_reference": null,
      "execution_count": null,
      "block_group": "374e5953e597403fa27a22f3a234fcf1",
      "content_dependencies": null
    },
    {
      "cell_type": "markdown",
      "source": "The solution in time looks reasonable. The solution in x-y looks a little surprising... that doesn't look like a smooth curve?  What's going on here?\nThe optimal solution puts multiple control points immediately on top of each other. So the velocity is continuous in time, but could change very rapidly in space. Adding higher derivative limits does not help... the trajectory can slow down in time, but still change direction very rapidly in space in order minimize the distance.\n\nThis feels like a bad formulation... it drives the solver towards a solution that is numerically bad. In fact, SNOPT fails to solve it... so I've actually had to disable the rounding step in the code cell above.\n\n## Takeaways\n\nBe careful with your formulation. If your optimal solution is arbitrarily bad numerically, then you might need to rethink your formulation.",
      "metadata": {
        "cell_id": "31c8d67f4f5c4eb694df03d3a0411698",
        "deepnote_cell_type": "markdown"
      },
      "block_group": "17f84f2fb8a14552a233f54bb180c8cd"
    },
    {
      "cell_type": "markdown",
      "source": "# For debugging\n\nMy strong preference would be for SNOPT to still perform well in that final example. Here is a version that spews the SNOPT output to help with debugging. (We already suspected the Hessian might become indefinite, and the `Hessian updates........  99999999` certainly looks worrisome.)",
      "metadata": {
        "cell_id": "920d2fda9f4a41d394e51305bb1ccd39",
        "deepnote_cell_type": "markdown"
      },
      "block_group": "9ddced90cf8f4dfda451e78f63c79c82"
    },
    {
      "cell_type": "code",
      "source": "trajopt = GcsTrajectoryOptimization(2)\nsource, left, right, target = AddRegionsAndEdges(trajopt, order=4)\n\ntrajopt.AddVelocityBounds([-1, -1], [1, 1])\ntrajopt.AddContinuityConstraints(continuity_order=1)\ntrajopt.AddPathLengthCost()\noptions = GraphOfConvexSetsOptions()\noptions.restriction_solver_options = SolverOptions()\noptions.restriction_solver_options.SetOption(\n    CommonSolverOption.kPrintFileName, \"/tmp/snopt.out\"\n)\n[traj, result] = trajopt.SolveConvexRestriction(\n    source.Vertices() + left.Vertices() + right.Vertices() + target.Vertices(), options\n)\nprint(f\"SNOPT returned INFO {result.get_solver_details().info}\")\nprint(\"See /tmp/snopt.out for more details\")",
      "metadata": {
        "cell_id": "3e5254855d2c4f819fe5d67f73a98f6e",
        "deepnote_cell_type": "code"
      },
      "outputs": [],
      "outputs_reference": null,
      "execution_count": null,
      "block_group": "0e72af9bc3214ebc893685321eeae701",
      "content_dependencies": null
    },
    {
      "cell_type": "markdown",
      "source": "",
      "metadata": {
        "cell_id": "455331badd6d48c5a8554c0785baf38b",
        "deepnote_cell_type": "markdown"
      },
      "block_group": "37f400fbd0f9419cb3aa32b64076974a"
    },
    {
      "cell_type": "markdown",
      "source": "<a style='text-decoration:none;line-height:16px;display:flex;color:#5B5B62;padding:10px;justify-content:end;' href='https://deepnote.com?utm_source=created-in-deepnote-cell&projectId=1ffa96e9-51f5-40a2-b71d-52faca4ce7bc' target=\"_blank\">\n<img alt='Created in deepnote.com' style='display:inline;max-height:16px;margin:0px;margin-right:7.5px;' src='data:image/svg+xml;base64,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' > </img>\nCreated in <span style='font-weight:600;margin-left:4px;'>Deepnote</span></a>",
      "metadata": {
        "created_in_deepnote_cell": true,
        "deepnote_cell_type": "markdown"
      }
    }
  ],
  "nbformat": 4,
  "nbformat_minor": 0,
  "metadata": {
    "deepnote_notebook_id": "a21fb24cca3e471a9ef5e8f25e3a5359",
    "deepnote_execution_queue": []
  }
}