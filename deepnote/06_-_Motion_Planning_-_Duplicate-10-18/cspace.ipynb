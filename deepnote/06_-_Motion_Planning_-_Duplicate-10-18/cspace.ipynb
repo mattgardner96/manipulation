{
  "cells": [
    {
      "cell_type": "markdown",
      "source": "This notebook provides examples to go along with the [textbook](http://manipulation.csail.mit.edu/trajectories.html).  I recommend having both windows open, side-by-side!",
      "metadata": {
        "id": "EgiF12Hf1Dhs",
        "cell_id": "2ef7f1381ebb47c89e5b640e7d47e78b",
        "deepnote_cell_type": "markdown"
      },
      "block_group": "8a0e6155c0d2430183c37793c5561976"
    },
    {
      "cell_type": "code",
      "source": "from functools import partial\n\nfrom pydrake.all import (\n    AddMultibodyPlantSceneGraph,\n    DiagramBuilder,\n    InverseKinematics,\n    Parser,\n    Rgba,\n    RigidTransform,\n    Solve,\n    Sphere,\n    StartMeshcat,\n)\n\nfrom manipulation import running_as_notebook\nfrom manipulation.scenarios import AddPlanarIiwa, AddShape, AddWsg\nfrom manipulation.utils import ConfigureParser",
      "metadata": {
        "id": "eeMrMI0-1Dhu",
        "cell_id": "b6edc17395fe4256950498c62f7424fe",
        "deepnote_cell_type": "code"
      },
      "outputs": [],
      "outputs_reference": null,
      "execution_count": null,
      "block_group": "67fc8b15fc8a41158285ed48be2b977e",
      "content_dependencies": null
    },
    {
      "cell_type": "code",
      "source": "# Start the visualizer.\nmeshcat = StartMeshcat()",
      "metadata": {
        "cell_id": "27a73cabf6f8447195750be7c8d0e360",
        "deepnote_cell_type": "code"
      },
      "outputs": [],
      "outputs_reference": null,
      "execution_count": null,
      "block_group": "2a6b366a474f4861a0a75f9cc03dc1cf",
      "content_dependencies": null
    },
    {
      "cell_type": "markdown",
      "source": "# Visualizing the configuration space\n\nI've got the default sampling resolution set fairly fine; it will take a minute or so to run.",
      "metadata": {
        "cell_id": "2136aeee5c1d41d099b557eda412fb5f",
        "deepnote_cell_type": "markdown"
      },
      "block_group": "fab3a7b8c5394c02b25cb7055cb6ede4"
    },
    {
      "cell_type": "code",
      "source": "def draw_configuration_space(shelves=True):\n    builder = DiagramBuilder()\n\n    plant, scene_graph = AddMultibodyPlantSceneGraph(builder, time_step=0.001)\n    iiwa = AddPlanarIiwa(plant)\n    wsg = AddWsg(plant, iiwa, roll=0.0, welded=True)\n    sphere = AddShape(plant, Sphere(0.02), \"sphere\")\n    X_WO = RigidTransform([0.6, 0, 0.65])\n    plant.WeldFrames(plant.world_frame(), plant.GetFrameByName(\"sphere\"), X_WO)\n\n    if shelves:\n        parser = Parser(plant)\n        ConfigureParser(parser)\n        bin = parser.AddModelsFromUrl(\"package://manipulation/shelves.sdf\")[0]\n        plant.WeldFrames(\n            plant.world_frame(),\n            plant.GetFrameByName(\"shelves_body\", bin),\n            RigidTransform([0.6, 0, 0.4]),\n        )\n\n    plant.Finalize()\n\n    #    visualizer = MeshcatVisualizer.AddToBuilder(\n    #        builder,\n    #        scene_graph,\n    #        meshcat,\n    #        MeshcatVisualizerParams(delete_prefix_initialization_event=False))\n\n    diagram = builder.Build()\n    context = diagram.CreateDefaultContext()\n    plant_context = plant.GetMyContextFromRoot(context)\n\n    q0 = plant.GetPositions(plant_context)\n    gripper_frame = plant.GetFrameByName(\"body\", wsg)\n    sphere_frame = plant.GetFrameByName(\"sphere\", sphere)\n\n    ik = InverseKinematics(plant, plant_context)\n    collision_constraint = ik.AddMinimumDistanceLowerBoundConstraint(0.001, 0.01)\n    grasp_constraint = ik.AddPositionConstraint(\n        gripper_frame, [0, 0.1, 0], sphere_frame, [0, 0, 0], [0, 0, 0]\n    )\n\n    prog = ik.get_mutable_prog()\n    q = ik.q()\n    prog.SetInitialGuess(q, q0)\n    result = Solve(ik.prog())\n    if not result.is_success():\n        print(\"IK failed\")\n\n    diagram.ForcedPublish(context)\n\n    def eval(q0, q1, q2, c, tol):\n        return float(c.evaluator().CheckSatisfied([q0, q1, q2], tol))\n\n    meshcat.Delete()\n    meshcat.SetProperty(\"/Background\", \"visible\", False)\n    meshcat.SetObject(\"initial_guess\", Sphere(0.05), Rgba(0.4, 1, 1, 1))\n    meshcat.SetTransform(\"initial_guess\", RigidTransform(q0))\n    meshcat.SetObject(\"ik_solution\", Sphere(0.05), Rgba(0.4, 0.4, 1, 1))\n    meshcat.SetTransform(\"ik_solution\", RigidTransform(result.GetSolution(q)))\n\n    low = plant.GetPositionLowerLimits()\n    up = plant.GetPositionUpperLimits()\n    N = 70 if running_as_notebook else 5\n    vertices, triangles = mcubes.marching_cubes_func(\n        tuple(low),\n        tuple(up),\n        N,\n        N,\n        N,\n        partial(eval, c=grasp_constraint, tol=0.05),\n        0.5,\n    )\n    meshcat.SetTriangleMesh(\n        \"grasp_constraint\", vertices.T, triangles.T, Rgba(0.5, 0.9, 0.5)\n    )\n\n    if shelves:\n        vertices, triangles = mcubes.marching_cubes_func(\n            tuple(low),\n            tuple(up),\n            N,\n            N,\n            N,\n            partial(eval, c=collision_constraint, tol=0.0),\n            0.5,\n        )\n        meshcat.SetTriangleMesh(\n            \"collision_constraint\",\n            vertices.T,\n            triangles.T,\n            Rgba(0.9, 0.5, 0.5, 1),\n        )\n\n\n# I've made pymcubes optional (it's a heavy dependency)\ntry:\n    import mcubes\n\n    draw_configuration_space(shelves=True)\nexcept ImportError:\n    pass",
      "metadata": {
        "cell_id": "9216a8acd5d94a6bae6f3bef71e27026",
        "deepnote_cell_type": "code"
      },
      "outputs": [],
      "outputs_reference": null,
      "execution_count": null,
      "block_group": "7aea1957248d4ad0812684e0321f140a",
      "content_dependencies": null
    },
    {
      "cell_type": "markdown",
      "source": "<a style='text-decoration:none;line-height:16px;display:flex;color:#5B5B62;padding:10px;justify-content:end;' href='https://deepnote.com?utm_source=created-in-deepnote-cell&projectId=1ffa96e9-51f5-40a2-b71d-52faca4ce7bc' target=\"_blank\">\n<img alt='Created in deepnote.com' style='display:inline;max-height:16px;margin:0px;margin-right:7.5px;' src='data:image/svg+xml;base64,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' > </img>\nCreated in <span style='font-weight:600;margin-left:4px;'>Deepnote</span></a>",
      "metadata": {
        "created_in_deepnote_cell": true,
        "deepnote_cell_type": "markdown"
      }
    }
  ],
  "nbformat": 4,
  "nbformat_minor": 0,
  "metadata": {
    "deepnote_notebook_id": "cb37cb59ccc342a0ae5ad4980318973f",
    "deepnote_execution_queue": []
  }
}