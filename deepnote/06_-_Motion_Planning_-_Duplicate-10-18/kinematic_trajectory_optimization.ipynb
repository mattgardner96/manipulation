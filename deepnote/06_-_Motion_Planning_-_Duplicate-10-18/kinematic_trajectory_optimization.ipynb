{
  "cells": [
    {
      "cell_type": "markdown",
      "source": "# Kinematic Trajectory Optimization\n\nThis notebook provides examples to go along with the [textbook](http://manipulation.csail.mit.edu/trajectories.html).  I recommend having both windows open, side-by-side!\n",
      "metadata": {
        "id": "EgiF12Hf1Dhs",
        "cell_id": "bc2aecbcbaf84da8bb20045ab07d8995",
        "deepnote_cell_type": "markdown"
      },
      "block_group": "6736d1859847480fb33c5257b5585282"
    },
    {
      "cell_type": "code",
      "source": "import numpy as np\nfrom pydrake.all import (\n    AddMultibodyPlantSceneGraph,\n    BsplineTrajectory,\n    DiagramBuilder,\n    KinematicTrajectoryOptimization,\n    MeshcatVisualizer,\n    MeshcatVisualizerParams,\n    MinimumDistanceLowerBoundConstraint,\n    Parser,\n    PositionConstraint,\n    Rgba,\n    RigidTransform,\n    Role,\n    Solve,\n    Sphere,\n    StartMeshcat,\n)\n\nfrom manipulation.meshcat_utils import PublishPositionTrajectory\nfrom manipulation.scenarios import AddIiwa, AddPlanarIiwa, AddWsg\nfrom manipulation.utils import ConfigureParser",
      "metadata": {
        "id": "eeMrMI0-1Dhu",
        "cell_id": "a10ffac71e454823a4e102c428137bce",
        "deepnote_cell_type": "code"
      },
      "outputs": [],
      "outputs_reference": null,
      "execution_count": null,
      "block_group": "6a9def68927e40d1a77acde94cc460e2",
      "content_dependencies": null
    },
    {
      "cell_type": "code",
      "source": "# Start the visualizer.\nmeshcat = StartMeshcat()",
      "metadata": {
        "cell_id": "3282873979e548829f2ea6e4ab23050c",
        "deepnote_cell_type": "code"
      },
      "outputs": [],
      "outputs_reference": null,
      "execution_count": null,
      "block_group": "ea353673b4d04241a13281654c74a08a",
      "content_dependencies": null
    },
    {
      "cell_type": "markdown",
      "source": "## Reaching into the shelves",
      "metadata": {
        "cell_id": "94e94adfea19453daceddd471b709ff1",
        "deepnote_cell_type": "markdown"
      },
      "block_group": "14aeb4deb03b47b79fd38fcf18b5ccb1"
    },
    {
      "cell_type": "code",
      "source": "def trajopt_shelves_demo(avoid_collisions=True):\n    meshcat.Delete()\n    builder = DiagramBuilder()\n\n    plant, scene_graph = AddMultibodyPlantSceneGraph(builder, time_step=0.001)\n    iiwa = AddPlanarIiwa(plant)\n    wsg = AddWsg(plant, iiwa, roll=0.0, welded=True, sphere=True)\n    X_WStart = RigidTransform([0.8, 0, 0.65])\n    meshcat.SetObject(\"start\", Sphere(0.02), rgba=Rgba(0.9, 0.1, 0.1, 1))\n    meshcat.SetTransform(\"start\", X_WStart)\n    X_WGoal = RigidTransform([0.8, 0, 0.4])\n    meshcat.SetObject(\"goal\", Sphere(0.02), rgba=Rgba(0.1, 0.9, 0.1, 1))\n    meshcat.SetTransform(\"goal\", X_WGoal)\n\n    parser = Parser(plant)\n    ConfigureParser(parser)\n    bin = parser.AddModelsFromUrl(\"package://manipulation/shelves.sdf\")[0]\n    plant.WeldFrames(\n        plant.world_frame(),\n        plant.GetFrameByName(\"shelves_body\", bin),\n        RigidTransform([0.88, 0, 0.4]),\n    )\n\n    plant.Finalize()\n\n    visualizer = MeshcatVisualizer.AddToBuilder(\n        builder,\n        scene_graph,\n        meshcat,\n        MeshcatVisualizerParams(role=Role.kIllustration),\n    )\n    collision_visualizer = MeshcatVisualizer.AddToBuilder(\n        builder,\n        scene_graph,\n        meshcat,\n        MeshcatVisualizerParams(\n            prefix=\"collision\", role=Role.kProximity, visible_by_default=False\n        ),\n    )\n\n    diagram = builder.Build()\n    context = diagram.CreateDefaultContext()\n    plant_context = plant.GetMyContextFromRoot(context)\n\n    num_q = plant.num_positions()\n    q0 = plant.GetPositions(plant_context)\n    gripper_frame = plant.GetFrameByName(\"body\", wsg)\n\n    trajopt = KinematicTrajectoryOptimization(plant.num_positions(), 10)\n    prog = trajopt.get_mutable_prog()\n    trajopt.AddDurationCost(1.0)\n    trajopt.AddPathLengthCost(1.0)\n    trajopt.AddPositionBounds(\n        plant.GetPositionLowerLimits(), plant.GetPositionUpperLimits()\n    )\n    trajopt.AddVelocityBounds(\n        plant.GetVelocityLowerLimits(), plant.GetVelocityUpperLimits()\n    )\n\n    trajopt.AddDurationConstraint(0.5, 5)\n\n    # start constraint\n    start_constraint = PositionConstraint(\n        plant,\n        plant.world_frame(),\n        X_WStart.translation(),\n        X_WStart.translation(),\n        gripper_frame,\n        [0, 0.1, 0],\n        plant_context,\n    )\n    trajopt.AddPathPositionConstraint(start_constraint, 0)\n    prog.AddQuadraticErrorCost(np.eye(num_q), q0, trajopt.control_points()[:, 0])\n\n    # goal constraint\n    goal_constraint = PositionConstraint(\n        plant,\n        plant.world_frame(),\n        X_WGoal.translation(),\n        X_WGoal.translation(),\n        gripper_frame,\n        [0, 0.1, 0],\n        plant_context,\n    )\n    trajopt.AddPathPositionConstraint(goal_constraint, 1)\n    prog.AddQuadraticErrorCost(np.eye(num_q), q0, trajopt.control_points()[:, -1])\n\n    # start and end with zero velocity\n    trajopt.AddPathVelocityConstraint(np.zeros((num_q, 1)), np.zeros((num_q, 1)), 0)\n    trajopt.AddPathVelocityConstraint(np.zeros((num_q, 1)), np.zeros((num_q, 1)), 1)\n\n    # Solve once without the collisions and set that as the initial guess for\n    # the version with collisions.\n    result = Solve(prog)\n    if not result.is_success():\n        print(\"Trajectory optimization failed, even without collisions!\")\n        print(result.get_solver_id().name())\n    trajopt.SetInitialGuess(trajopt.ReconstructTrajectory(result))\n\n    if avoid_collisions:\n        # collision constraints\n        collision_constraint = MinimumDistanceLowerBoundConstraint(\n            plant, 0.01, plant_context, None, 0.1\n        )\n        evaluate_at_s = np.linspace(0, 1, 25)\n        for s in evaluate_at_s:\n            trajopt.AddPathPositionConstraint(collision_constraint, s)\n\n        def PlotPath(control_points):\n            traj = BsplineTrajectory(trajopt.basis(), control_points.reshape((3, -1)))\n            meshcat.SetLine(\"positions_path\", traj.vector_values(np.linspace(0, 1, 50)))\n\n        prog.AddVisualizationCallback(PlotPath, trajopt.control_points().reshape((-1,)))\n        result = Solve(prog)\n        if not result.is_success():\n            print(\"Trajectory optimization failed\")\n            print(result.get_solver_id().name())\n\n    PublishPositionTrajectory(\n        trajopt.ReconstructTrajectory(result), context, plant, visualizer\n    )\n    collision_visualizer.ForcedPublish(\n        collision_visualizer.GetMyContextFromRoot(context)\n    )\n\n\ntrajopt_shelves_demo(avoid_collisions=True)",
      "metadata": {
        "cell_id": "67319518f7c84821a27b3b3fc33658e0",
        "deepnote_cell_type": "code"
      },
      "outputs": [],
      "outputs_reference": null,
      "execution_count": null,
      "block_group": "ca3dd06586494e5d8ab9d12323c82bf2",
      "content_dependencies": null
    },
    {
      "cell_type": "markdown",
      "source": "## Moving between bins (without hitting the cameras!)",
      "metadata": {
        "cell_id": "86c2dd1f2e3a40318b912c45b66b55f2",
        "deepnote_cell_type": "markdown"
      },
      "block_group": "f12db0bca52044139ef8b2c7e26513e4"
    },
    {
      "cell_type": "code",
      "source": "def trajopt_bins_demo():\n    meshcat.Delete()\n    builder = DiagramBuilder()\n\n    plant, scene_graph = AddMultibodyPlantSceneGraph(builder, time_step=0.001)\n\n    parser = Parser(plant)\n    ConfigureParser(parser)\n    bin = parser.AddModelsFromUrl(\"package://manipulation/two_bins_w_cameras.dmd.yaml\")[\n        0\n    ]\n    iiwa = AddIiwa(plant, collision_model=\"with_box_collision\")\n    wsg = AddWsg(plant, iiwa, welded=True, sphere=True)\n    X_WStart = RigidTransform([0.5, 0, 0.15])\n    meshcat.SetObject(\"start\", Sphere(0.02), rgba=Rgba(0.9, 0.1, 0.1, 1))\n    meshcat.SetTransform(\"start\", X_WStart)\n    X_WGoal = RigidTransform([0, -0.6, 0.15])\n    meshcat.SetObject(\"goal\", Sphere(0.02), rgba=Rgba(0.1, 0.9, 0.1, 1))\n    meshcat.SetTransform(\"goal\", X_WGoal)\n\n    plant.Finalize()\n\n    visualizer = MeshcatVisualizer.AddToBuilder(\n        builder,\n        scene_graph,\n        meshcat,\n        MeshcatVisualizerParams(role=Role.kIllustration),\n    )\n    collision_visualizer = MeshcatVisualizer.AddToBuilder(\n        builder,\n        scene_graph,\n        meshcat,\n        MeshcatVisualizerParams(\n            prefix=\"collision\", role=Role.kProximity, visible_by_default=False\n        ),\n    )\n\n    diagram = builder.Build()\n    context = diagram.CreateDefaultContext()\n    plant_context = plant.GetMyContextFromRoot(context)\n\n    num_q = plant.num_positions()\n    q0 = plant.GetPositions(plant_context)\n    gripper_frame = plant.GetFrameByName(\"body\", wsg)\n\n    trajopt = KinematicTrajectoryOptimization(plant.num_positions(), 10)\n    prog = trajopt.get_mutable_prog()\n\n    q_guess = np.tile(q0.reshape((7, 1)), (1, trajopt.num_control_points()))\n    q_guess[0, :] = np.linspace(0, -np.pi / 2, trajopt.num_control_points())\n    path_guess = BsplineTrajectory(trajopt.basis(), q_guess)\n    trajopt.SetInitialGuess(path_guess)\n\n    # Uncomment this to see the initial guess:\n    PublishPositionTrajectory(path_guess, context, plant, visualizer)\n\n    trajopt.AddDurationCost(1.0)\n    trajopt.AddPathLengthCost(1.0)\n    trajopt.AddPositionBounds(\n        plant.GetPositionLowerLimits(), plant.GetPositionUpperLimits()\n    )\n    trajopt.AddVelocityBounds(\n        plant.GetVelocityLowerLimits(), plant.GetVelocityUpperLimits()\n    )\n\n    trajopt.AddDurationConstraint(0.5, 50)\n\n    # start constraint\n    start_constraint = PositionConstraint(\n        plant,\n        plant.world_frame(),\n        X_WStart.translation(),\n        X_WStart.translation(),\n        gripper_frame,\n        [0, 0.1, 0],\n        plant_context,\n    )\n    trajopt.AddPathPositionConstraint(start_constraint, 0)\n    prog.AddQuadraticErrorCost(np.eye(num_q), q0, trajopt.control_points()[:, 0])\n\n    # goal constraint\n    goal_constraint = PositionConstraint(\n        plant,\n        plant.world_frame(),\n        X_WGoal.translation(),\n        X_WGoal.translation(),\n        gripper_frame,\n        [0, 0.1, 0],\n        plant_context,\n    )\n    trajopt.AddPathPositionConstraint(goal_constraint, 1)\n    prog.AddQuadraticErrorCost(np.eye(num_q), q0, trajopt.control_points()[:, -1])\n\n    # start and end with zero velocity\n    trajopt.AddPathVelocityConstraint(np.zeros((num_q, 1)), np.zeros((num_q, 1)), 0)\n    trajopt.AddPathVelocityConstraint(np.zeros((num_q, 1)), np.zeros((num_q, 1)), 1)\n\n    # collision constraints\n    collision_constraint = MinimumDistanceLowerBoundConstraint(\n        plant, 0.001, plant_context, None, 0.01\n    )\n    evaluate_at_s = np.linspace(0, 1, 50)\n    for s in evaluate_at_s:\n        trajopt.AddPathPositionConstraint(collision_constraint, s)\n\n    result = Solve(prog)\n    if not result.is_success():\n        print(\"Trajectory optimization failed\")\n        print(result.get_solver_id().name())\n\n    PublishPositionTrajectory(\n        trajopt.ReconstructTrajectory(result), context, plant, visualizer\n    )\n    collision_visualizer.ForcedPublish(\n        collision_visualizer.GetMyContextFromRoot(context)\n    )\n\n\ntrajopt_bins_demo()",
      "metadata": {
        "cell_id": "94131ef73a744717a755acad196b32c6",
        "deepnote_cell_type": "code"
      },
      "outputs": [],
      "outputs_reference": null,
      "execution_count": null,
      "block_group": "a492c291ac884db4a96d542ed1794b99",
      "content_dependencies": null
    },
    {
      "cell_type": "code",
      "source": "",
      "metadata": {
        "cell_id": "4056523169bd445e9ad3c06623845857",
        "deepnote_cell_type": "code"
      },
      "outputs": [],
      "outputs_reference": null,
      "execution_count": null,
      "block_group": "81aaef10d9de43479b68dc01a78442b6",
      "content_dependencies": null
    },
    {
      "cell_type": "markdown",
      "source": "<a style='text-decoration:none;line-height:16px;display:flex;color:#5B5B62;padding:10px;justify-content:end;' href='https://deepnote.com?utm_source=created-in-deepnote-cell&projectId=1ffa96e9-51f5-40a2-b71d-52faca4ce7bc' target=\"_blank\">\n<img alt='Created in deepnote.com' style='display:inline;max-height:16px;margin:0px;margin-right:7.5px;' src='data:image/svg+xml;base64,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' > </img>\nCreated in <span style='font-weight:600;margin-left:4px;'>Deepnote</span></a>",
      "metadata": {
        "created_in_deepnote_cell": true,
        "deepnote_cell_type": "markdown"
      }
    }
  ],
  "nbformat": 4,
  "nbformat_minor": 0,
  "metadata": {
    "deepnote_notebook_id": "ec7b76b611ff447f97da9572468ca626",
    "deepnote_execution_queue": []
  }
}