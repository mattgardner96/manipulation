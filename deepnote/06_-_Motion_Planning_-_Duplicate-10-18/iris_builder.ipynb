{
  "cells": [
    {
      "cell_type": "markdown",
      "source": "# The IRIS Builder for approximate convex decompositions of configuration space\n\n[IRIS in Configuration Space](https://drake.mit.edu/doxygen_cxx/group__geometry__optimization.html#ga3a51e0fec449a0abcf498f78a2a390a8) is a surprisingly effective and very useful tools for decomposing the (collision-free) configuration space into convex sets. IRIS itself only creates one convex region, but this notebook provides a number of algorithms and tools for calling IRIS in Configuration Space repeatedly to achieve an approximate convex cover of the space.\n\nThe current version of the notebook uses the [IRIS-NP](https://arxiv.org/abs/2303.14737) algorithm -- which uses random samples to seed nonlinear optimization to find counter-examples. The certification of non-collision is only probabilistic -- the more samples you take, the more likely you are to have found all possible collisions. For rigorous certification of non-collision, we have [C-IRIS](https://arxiv.org/abs/2302.12219), which uses sums-of-squares optimization to guarantee non-collision. The final public implementation of that algorithm is under active development -- we will add it to the notebook soon!\n\n## How to use this notebook\n\n<center><iframe width=\"560\" height=\"315\" src=\"https://www.youtube.com/embed/vaFlIxtiz4M\" title=\"YouTube video player\" frameborder=\"0\" allow=\"accelerometer; autoplay; clipboard-write; encrypted-media; gyroscope; picture-in-picture; web-share\" allowfullscreen></iframe></center>\n\nThe first few cells are used to set up your robot/environment and your IRIS configuration options. The rest of the cells are optional... you might run some of them multiple times, and might not use all of them. They are provided as a suite of tools for you to work with.",
      "metadata": {
        "cell_id": "5203a6dc9ddd49aebc6486de1d67ba86",
        "deepnote_cell_type": "markdown"
      },
      "block_group": "5f447ffdc61e4b9a8d55dfd78966417b"
    },
    {
      "cell_type": "code",
      "source": "import multiprocessing as mp\nimport os.path\nimport time\nfrom collections import OrderedDict\nfrom typing import Dict\n\nimport numpy as np\nimport pydot\nfrom IPython.display import SVG, display\nfrom pydrake.common.value import AbstractValue\nfrom pydrake.geometry import (\n    Meshcat,\n    MeshcatVisualizer,\n    QueryObject,\n    Rgba,\n    Role,\n    SceneGraph,\n    Sphere,\n    StartMeshcat,\n)\nfrom pydrake.geometry.optimization import (\n    HPolyhedron,\n    IrisInConfigurationSpace,\n    IrisOptions,\n    LoadIrisRegionsYamlFile,\n    SaveIrisRegionsYamlFile,\n)\nfrom pydrake.math import RigidTransform, RollPitchYaw, RotationMatrix\nfrom pydrake.multibody.inverse_kinematics import InverseKinematics\nfrom pydrake.multibody.meshcat import JointSliders\nfrom pydrake.multibody.parsing import PackageMap, Parser\nfrom pydrake.multibody.plant import AddMultibodyPlantSceneGraph, MultibodyPlant\nfrom pydrake.multibody.tree import Body\nfrom pydrake.solvers import MathematicalProgram, Solve\nfrom pydrake.systems.framework import DiagramBuilder, LeafSystem\nfrom pydrake.visualization import AddDefaultVisualization, ModelVisualizer\n\nfrom manipulation import running_as_notebook\nfrom manipulation.utils import FindDataResource",
      "metadata": {
        "cell_id": "8dd9ead6ec8b4b9d89ceb26c9a620dbe",
        "deepnote_cell_type": "code"
      },
      "outputs": [],
      "outputs_reference": null,
      "execution_count": null,
      "block_group": "6574edec9a9d466cb6561ef7d862c7b6",
      "content_dependencies": null
    },
    {
      "cell_type": "code",
      "source": "# Start the visualizer (only run this once).\nmeshcat = StartMeshcat()",
      "metadata": {
        "cell_id": "74bba94881ac4d9980902fb083a734b2",
        "deepnote_cell_type": "code"
      },
      "outputs": [],
      "outputs_reference": null,
      "execution_count": null,
      "block_group": "0c1e3b4b262e4368b6362a5c64905221",
      "content_dependencies": null
    },
    {
      "cell_type": "markdown",
      "source": "# Setup\n\n",
      "metadata": {
        "cell_id": "edd5ad8cb0af417b91cdef582f1f1568",
        "deepnote_cell_type": "markdown"
      },
      "block_group": "575a4e493a7e4091b5e17ead72a2075d"
    },
    {
      "cell_type": "code",
      "source": "# iris_filename = \"my_iris.yaml\"\niris_filename = FindDataResource(\"iiwa_shelve_and_bins_science_robotics.yaml\")\niris_regions = dict()\nq = []",
      "metadata": {
        "cell_id": "b9097faf6c7c4f998ce68ae5ed0b0bc5",
        "deepnote_cell_type": "code"
      },
      "outputs": [],
      "outputs_reference": null,
      "execution_count": null,
      "block_group": "3e93dd2fa2234edbbf37c10d8d101a9d",
      "content_dependencies": null
    },
    {
      "cell_type": "markdown",
      "source": "## Configure IRIS\n\nYou can find the documentation for IrisOptions [here](https://drake.mit.edu/doxygen_cxx/structdrake_1_1geometry_1_1optimization_1_1_iris_options.html).",
      "metadata": {
        "cell_id": "643289460f6d4f7db9323552485b8f49",
        "deepnote_cell_type": "markdown"
      },
      "block_group": "000da877faa84071a9e94d3f7b6877ed"
    },
    {
      "cell_type": "code",
      "source": "iris_options = IrisOptions()\niris_options.iteration_limit = 10\n# increase num_collision_infeasible_samples to improve the (probabilistic)\n# certificate of having no collisions.\niris_options.num_collision_infeasible_samples = 3\niris_options.require_sample_point_is_contained = True\niris_options.relative_termination_threshold = 0.01\niris_options.termination_threshold = -1\n\n# Additional options for this notebook:\n\n# If use_existing_regions_as_obstacles is True, then iris_regions will be\n# shrunk by regions_as_obstacles_margin, and then passed to\n# iris_options.configuration_obstacles.\nuse_existing_regions_as_obstacles = True\nregions_as_obstacles_scale_factor = 0.95\n\n# We can compute some regions in parallel.\nnum_parallel = mp.cpu_count()",
      "metadata": {
        "cell_id": "20d148d603264b83983b16bdc829ad49",
        "deepnote_cell_type": "code"
      },
      "outputs": [],
      "outputs_reference": null,
      "execution_count": null,
      "block_group": "af990e398db047849a9942b5376fdea3",
      "content_dependencies": null
    },
    {
      "cell_type": "markdown",
      "source": "## Some helper/worker methods",
      "metadata": {
        "cell_id": "87ae9699a5e84a9fbde8243b3b823571",
        "deepnote_cell_type": "markdown"
      },
      "block_group": "7d4a8f86a5a84baa92cef35e2d55174a"
    },
    {
      "cell_type": "code",
      "source": "def ScaleHPolyhedron(hpoly, scale_factor):\n    # Shift to the center.\n    xc = hpoly.ChebyshevCenter()\n    A = hpoly.A()\n    b = hpoly.b() - A @ xc\n    # Scale\n    b = scale_factor * b\n    # Shift back\n    b = b + A @ xc\n    return HPolyhedron(A, b)\n\n\ndef _CheckNonEmpty(region):\n    prog = MathematicalProgram()\n    x = prog.NewContinuousVariables(region.ambient_dimension())\n    region.AddPointInSetConstraints(prog, x)\n    result = Solve(prog)\n    assert result.is_success()\n\n\ndef _CalcRegion(name, seed):\n    builder = DiagramBuilder()\n    plant = AddMultibodyPlantSceneGraph(builder, 0.0)[0]\n    LoadRobot(plant)\n    plant.Finalize()\n    diagram = builder.Build()\n    diagram_context = diagram.CreateDefaultContext()\n    plant_context = plant.GetMyContextFromRoot(diagram_context)\n    plant.SetPositions(plant_context, seed)\n    if use_existing_regions_as_obstacles:\n        iris_options.configuration_obstacles = [\n            ScaleHPolyhedron(r, regions_as_obstacles_scale_factor)\n            for k, r in iris_regions.items()\n            if k != name\n        ]\n        for h in iris_options.configuration_obstacles:\n            _CheckNonEmpty(h)\n    else:\n        iris_options.configuration_obstacles = None\n    display(f\"Computing region for seed: {name}\")\n    start_time = time.time()\n    hpoly = IrisInConfigurationSpace(plant, plant_context, iris_options)\n    display(\n        f\"Finished seed {name}; Computation time: {(time.time() - start_time):.2f} seconds\"\n    )\n\n    _CheckNonEmpty(hpoly)\n    reduced = hpoly.ReduceInequalities()\n    _CheckNonEmpty(reduced)\n\n    return reduced\n\n\ndef GenerateRegion(name, seed):\n    global iris_regions\n    iris_regions[name] = _CalcRegion(name, seed)\n    SaveIrisRegionsYamlFile(f\"{iris_filename}.autosave\", iris_regions)\n\n\ndef GenerateRegions(seed_dict, verbose=True):\n    if use_existing_regions_as_obstacles:\n        # Then run serially\n        for k, v in seed_dict.items():\n            GenerateRegion(k, v)\n        return\n\n    loop_time = time.time()\n    with mp.Pool(processes=num_parallel) as pool:\n        new_regions = pool.starmap(_CalcRegion, [[k, v] for k, v in seed_dict.items()])\n\n    if verbose:\n        print(\"Loop time:\", time.time() - loop_time)\n\n    global iris_regions\n    iris_regions.update(dict(list(zip(seed_dict.keys(), new_regions))))\n\n\ndef DrawRobot(query_object: QueryObject, meshcat_prefix: str, draw_world: bool = True):\n    rgba = Rgba(0.7, 0.7, 0.7, 0.3)\n    role = Role.kProximity\n    # This is a minimal replication of the work done in MeshcatVisualizer.\n    inspector = query_object.inspector()\n    for frame_id in inspector.GetAllFrameIds():\n        if frame_id == inspector.world_frame_id():\n            if not draw_world:\n                continue\n            frame_path = meshcat_prefix\n        else:\n            frame_path = f\"{meshcat_prefix}/{inspector.GetName(frame_id)}\"\n        frame_path.replace(\"::\", \"/\")\n        frame_has_any_geometry = False\n        for geom_id in inspector.GetGeometries(frame_id, role):\n            path = f\"{frame_path}/{geom_id.get_value()}\"\n            path.replace(\"::\", \"/\")\n            meshcat.SetObject(path, inspector.GetShape(geom_id), rgba)\n            meshcat.SetTransform(path, inspector.GetPoseInFrame(geom_id))\n            frame_has_any_geometry = True\n\n        if frame_has_any_geometry:\n            X_WF = query_object.GetPoseInWorld(frame_id)\n            meshcat.SetTransform(frame_path, X_WF)\n\n\ndef VisualizeRegion(region_name, num_to_draw=30, draw_illustration_role_once=True):\n    \"\"\"\n    A simple hit-and-run-style idea for visualizing the IRIS regions:\n    1. Start at the center. Pick a random direction and run to the boundary.\n    2. Pick a new random direction; project it onto the current boundary, and run along it. Repeat\n    \"\"\"\n\n    builder = DiagramBuilder()\n    plant, scene_graph = AddMultibodyPlantSceneGraph(builder, time_step=0.0)\n    LoadRobot(plant)\n    plant.Finalize()\n    if draw_illustration_role_once:\n        MeshcatVisualizer.AddToBuilder(builder, scene_graph, meshcat)\n    diagram = builder.Build()\n    context = diagram.CreateDefaultContext()\n    plant_context = plant.GetMyMutableContextFromRoot(context)\n    scene_graph_context = scene_graph.GetMyContextFromRoot(context)\n\n    global iris_regions\n    region = iris_regions[region_name]\n\n    q = region.ChebyshevCenter()\n    plant.SetPositions(plant_context, q)\n    diagram.ForcedPublish(context)\n\n    query = scene_graph.get_query_output_port().Eval(scene_graph_context)\n    DrawRobot(query, f\"{region_name}/0\", True)\n\n    rng = np.random.default_rng()\n    nq = plant.num_positions()\n    prog = MathematicalProgram()\n    qvar = prog.NewContinuousVariables(nq, \"q\")\n    prog.AddLinearConstraint(region.A(), 0 * region.b() - np.inf, region.b(), qvar)\n    cost = prog.AddLinearCost(np.ones((nq, 1)), qvar)\n\n    for i in range(1, num_to_draw):\n        direction = rng.standard_normal(nq)\n        cost.evaluator().UpdateCoefficients(direction)\n\n        result = Solve(prog)\n        assert result.is_success()\n\n        q = result.GetSolution(qvar)\n        plant.SetPositions(plant_context, q)\n        query = scene_graph.get_query_output_port().Eval(scene_graph_context)\n        DrawRobot(query, f\"{region_name}/{i}\", False)\n\n\ndef VisualizeRegions():\n    for k in iris_regions.keys():\n        meshcat.Delete()\n        VisualizeRegion(k)\n        button_name = f\"Visualizing {k}; Press for next region\"\n        meshcat.AddButton(button_name, \"Enter\")\n        print(\"Press Enter to visualize the next region\")\n        while meshcat.GetButtonClicks(button_name) < 1:\n            time.sleep(1.0)\n        meshcat.DeleteButton(button_name)\n\n\n# TODO(russt): See https://github.com/RobotLocomotion/drake/pull/19520\nclass PoseSelector(LeafSystem):\n    def __init__(\n        self,\n        body_index=None,\n    ):\n        LeafSystem.__init__(self)\n        self._body_index = body_index\n        self.DeclareAbstractInputPort(\n            \"body_poses\", AbstractValue.Make([RigidTransform()])\n        )\n        self.DeclareAbstractOutputPort(\n            \"pose\",\n            lambda: AbstractValue.Make(RigidTransform()),\n            self.CalcOutput,\n        )\n\n    def CalcOutput(self, context, output):\n        body_poses = self.get_input_port().Eval(context)\n        output.set_value(body_poses[self._body_index])",
      "metadata": {
        "cell_id": "5b92b831ddf0464282f7a95185bfcf62",
        "deepnote_cell_type": "code"
      },
      "outputs": [],
      "outputs_reference": null,
      "execution_count": null,
      "block_group": "401dcfe3d580465fae5fcac72c835847",
      "content_dependencies": null
    },
    {
      "cell_type": "markdown",
      "source": "## Define your robot/environment\n\nYou should edit the `LoadRobot` method in this cell to set up your robot/environment. See the [Authoring Multibody Simulation](authoring_multibody_simulation.ipynb) tutorial for more background about the supported input formats.",
      "metadata": {
        "cell_id": "426abc3e42ac4992ac980d23e6c398ad",
        "deepnote_cell_type": "markdown"
      },
      "block_group": "16fcb6c061b745ceae30cebf5a9cd9fe"
    },
    {
      "cell_type": "code",
      "source": "def LoadRobot(plant: MultibodyPlant) -> Body:\n    \"\"\"Setup your plant, and return the body corresponding to your\n    end-effector.\"\"\"\n    parser = Parser(plant)\n\n    # We'll use some tables, shelves, and bins from a remote resource.\n    parser.package_map().AddRemote(\n        package_name=\"gcs\",\n        params=PackageMap.RemoteParams(\n            urls=[\n                f\"https://github.com/mpetersen94/gcs/archive/refs/tags/arxiv_paper_version.tar.gz\"\n            ],\n            sha256=(\"6dd5e841c8228561b6d622f592359c36517cd3c3d5e1d3e04df74b2f5435680c\"),\n            strip_prefix=\"gcs-arxiv_paper_version\",\n        ),\n    )\n\n    model_directives = \"\"\"    \ndirectives:\n\n# Add iiwa\n- add_model:\n    name: iiwa\n    file: package://drake_models/iiwa_description/urdf/iiwa14_primitive_collision.urdf\n    default_joint_positions:\n        iiwa_joint_1: [0]\n        iiwa_joint_2: [0.3]\n        iiwa_joint_3: [0]\n        iiwa_joint_4: [-1.8]\n        iiwa_joint_5: [0]\n        iiwa_joint_6: [1]\n        iiwa_joint_7: [1.57]\n\n- add_weld:\n    parent: world\n    child: iiwa::base\n\n# Add schunk\n- add_model:\n    name: wsg\n    file: package://drake_models/wsg_50_description/sdf/schunk_wsg_50_welded_fingers.sdf\n\n- add_weld:\n    parent: iiwa::iiwa_link_7\n    child: wsg::body\n    X_PC:\n      translation: [0, 0, 0.114]\n      rotation: !Rpy { deg: [90.0, 0.0, 0.0 ]}\n\n# Add shelves\n- add_model:\n    name: shelves\n    file: package://gcs/models/shelves/shelves.sdf\n\n- add_weld:\n    parent: world\n    child: shelves::shelves_body\n    X_PC:\n      translation: [0.85, 0, 0.4]\n\n# Add Bins\n- add_model:\n    name: binR\n    file: package://gcs/models/bin/bin.sdf\n\n- add_weld:\n    parent: world\n    child: binR::bin_base\n    X_PC:\n      translation: [0, -0.6, 0]\n      rotation: !Rpy { deg: [0.0, 0.0, 90.0 ]}\n\n- add_model:\n    name: binL\n    file: package://gcs/models/bin/bin.sdf\n\n- add_weld:\n    parent: world\n    child: binL::bin_base\n    X_PC:\n      translation: [0, 0.6, 0]\n      rotation: !Rpy { deg: [0.0, 0.0, 90.0 ]}\n\n# Add table\n- add_model:\n    name: table\n    file: package://gcs/models/table/table_wide.sdf\n\n- add_weld:\n    parent: world\n    child: table::table_body\n    X_PC:\n      translation: [0.4, 0.0, 0.0]\n      rotation: !Rpy { deg: [0., 0., 00]}\n\"\"\"\n\n    parser.AddModelsFromString(model_directives, \".dmd.yaml\")\n    gripper = plant.GetModelInstanceByName(\"wsg\")\n    end_effector_body = plant.GetBodyByName(\"body\", gripper)\n    return end_effector_body\n\n\n# Sometimes it's useful to use inverse kinematics to find the seeds. You might\n# need to adapt this to your robot. This helper takes an end-effector frame, E,\n# and a desired pose for that frame in the world coordinates, X_WE.\ndef MyInverseKinematics(X_WE, plant=None, context=None):\n    if not plant:\n        plant = MultibodyPlant(0.0)\n        LoadRobot(plant)\n        plant.Finalize()\n    if not context:\n        context = plant.CreateDefaultContext()\n    # E = ee_body.body_frame()\n    E = plant.GetBodyByName(\"body\").body_frame()\n\n    ik = InverseKinematics(plant, context)\n\n    ik.AddPositionConstraint(\n        E, [0, 0, 0], plant.world_frame(), X_WE.translation(), X_WE.translation()\n    )\n\n    ik.AddOrientationConstraint(\n        E, RotationMatrix(), plant.world_frame(), X_WE.rotation(), 0.001\n    )\n\n    prog = ik.get_mutable_prog()\n    q = ik.q()\n\n    q0 = plant.GetPositions(context)\n    prog.AddQuadraticErrorCost(np.identity(len(q)), q0, q)\n    prog.SetInitialGuess(q, q0)\n    result = Solve(ik.prog())\n    if not result.is_success():\n        print(\"IK failed\")\n        return None\n    plant.SetPositions(context, result.GetSolution(q))\n    return result.GetSolution(q)",
      "metadata": {
        "cell_id": "86056533820947bf925b2e3bb0d6e620",
        "deepnote_cell_type": "code"
      },
      "outputs": [],
      "outputs_reference": null,
      "execution_count": null,
      "block_group": "e27396858c4c4b66bd4dd10356b3a996",
      "content_dependencies": null
    },
    {
      "cell_type": "code",
      "source": "# This is a handy way to test your model.\nv = ModelVisualizer(meshcat=meshcat)\nLoadRobot(v.parser().plant());\n# v.Run()",
      "metadata": {
        "cell_id": "5a8f6a483b2448918c576448e7c6ea00",
        "deepnote_cell_type": "code"
      },
      "outputs": [],
      "outputs_reference": null,
      "execution_count": null,
      "block_group": "7990ffc1bff447dfaa734adb311b54a6",
      "content_dependencies": null
    },
    {
      "cell_type": "markdown",
      "source": "## Load any previously computed regions\n\nTODO(russt): Should we somehow validate that these are still valid for the robot/environment?",
      "metadata": {
        "cell_id": "0f221806721549d283d76e9331fbeacf",
        "deepnote_cell_type": "markdown"
      },
      "block_group": "be03593f33d1402bac6c82d6d08084b9"
    },
    {
      "cell_type": "code",
      "source": "if os.path.isfile(iris_filename):\n    iris_regions.update(LoadIrisRegionsYamlFile(iris_filename))\n    print(f\"Loaded iris regions from {iris_filename}.\")\nelse:\n    print(f\"{iris_filename} not found. No previously computed regions were loaded.\")",
      "metadata": {
        "cell_id": "a808937564694ee98f56c89e7cb4a2a3",
        "deepnote_cell_type": "code"
      },
      "outputs": [],
      "outputs_reference": null,
      "execution_count": null,
      "block_group": "410b97b8183743ed9b8bda4e87d5f6b8",
      "content_dependencies": null
    },
    {
      "cell_type": "markdown",
      "source": "# Make new IRIS regions\n\n",
      "metadata": {
        "cell_id": "a4f9c4515521471da09baa1bf46c8b24",
        "deepnote_cell_type": "markdown"
      },
      "block_group": "637568fe81704a4ebe3530f660647cb7"
    },
    {
      "cell_type": "markdown",
      "source": "## Consider your collision geometry\n\nComputing configuration space regions is a challenging computational problem! The runtime will scale with the number of collision candidate pairs.  This cell displays some information about the collision geometries.  Consider using [collision filters](https://drake.mit.edu/doxygen_cxx/classdrake_1_1geometry_1_1_collision_filter_manager.html) to reduce the complexity of the problem.  You can also add the filters in urdf/sdf using the [drake:collision_filter_group](https://drake.mit.edu/doxygen_cxx/group__multibody__parsing.html#tag_drake_collision_filter_group) tag. ",
      "metadata": {
        "cell_id": "7146b964a8b541eb907b03af68391843",
        "deepnote_cell_type": "markdown"
      },
      "block_group": "3fcd777992154b879b622d8952e46076"
    },
    {
      "cell_type": "code",
      "source": "def CollisionGeometryReport():\n    builder = DiagramBuilder()\n    plant, scene_graph = AddMultibodyPlantSceneGraph(builder, time_step=0.0)\n    LoadRobot(plant)\n    plant.Finalize()\n    diagram = builder.Build()\n    context = diagram.CreateDefaultContext()\n    plant_context = plant.GetMyContextFromRoot(context)\n\n    query_object = plant.get_geometry_query_input_port().Eval(plant_context)\n    inspector = query_object.inspector()\n    pairs = inspector.GetCollisionCandidates()\n    for geomA, geomB in pairs:\n        frameA = inspector.GetFrameId(geomA)\n        frameB = inspector.GetFrameId(geomB)\n        print(\n            f\"{inspector.GetName(geomA)} (in {inspector.GetName(frameA)}) + {inspector.GetName(geomB)} (in {inspector.GetName(frameB)})\"\n        )\n\n\nCollisionGeometryReport()",
      "metadata": {
        "cell_id": "63f52383a57c49a0af3ebdb452f69621",
        "deepnote_cell_type": "code"
      },
      "outputs": [],
      "outputs_reference": null,
      "execution_count": null,
      "block_group": "abeba31b4e31429780daad3e90582418",
      "content_dependencies": null
    },
    {
      "cell_type": "markdown",
      "source": "## Run IRIS on manually-specified seeds",
      "metadata": {
        "cell_id": "0ab20d5836624ce7afdffa45b25f41ff",
        "deepnote_cell_type": "markdown"
      },
      "block_group": "d2c0d72b70694e788480800b1c62e083"
    },
    {
      "cell_type": "code",
      "source": "def get_default_position():\n    plant = MultibodyPlant(0.0)\n    LoadRobot(plant)\n    plant.Finalize()\n    context = plant.CreateDefaultContext()\n    return plant.GetPositions(context)\n\n\n# Note: The order of the seeds matters when we are using existing regions as\n# configuration_obstacles.\nseeds = OrderedDict()\nseeds[\"Home Position\"] = get_default_position()\nseeds[\"Above Shelve\"] = MyInverseKinematics(\n    RigidTransform(RollPitchYaw(0, -np.pi, -np.pi / 2), [0.75, 0, 0.9])\n)\nseeds[\"Top Rack\"] = MyInverseKinematics(\n    RigidTransform(RollPitchYaw(0, -np.pi, -np.pi / 2), [0.75, 0, 0.67])\n)\nseeds[\"Middle Rack\"] = MyInverseKinematics(\n    RigidTransform(RollPitchYaw(0, -np.pi, -np.pi / 2), [0.75, 0, 0.41])\n)\nseeds[\"Left Bin\"] = MyInverseKinematics(\n    RigidTransform(RollPitchYaw(np.pi / 2, np.pi, 0), [0.0, 0.6, 0.22])\n)\nseeds[\"Right Bin\"] = MyInverseKinematics(\n    RigidTransform(RollPitchYaw(np.pi / 2, np.pi, np.pi), [0.0, -0.6, 0.22])\n)\nseeds[\"Front to Shelve\"] = np.array([0, 0.2, 0, -2.09, 0, -0.3, np.pi / 2])\nseeds[\"Left to Shelve\"] = np.array([0.8, 0.7, 0, -1.6, 0, 0, np.pi / 2])\nseeds[\"Right to Shelve\"] = np.array([-0.8, 0.7, 0, -1.6, 0, 0, np.pi / 2])",
      "metadata": {
        "cell_id": "8f3399aee59b497dac41b46f477d321c",
        "deepnote_cell_type": "code"
      },
      "outputs": [],
      "outputs_reference": null,
      "execution_count": null,
      "block_group": "420179fe6c6c4716937f71c1818ed989",
      "content_dependencies": null
    },
    {
      "cell_type": "code",
      "source": "# v = ModelVisualizer(meshcat=meshcat)\n# LoadRobot(v.parser().plant())\n# v.Run(position=seeds[\"Top Rack\"], loop_once=True)",
      "metadata": {
        "cell_id": "d501f64a56714d898855afdccdf3dc08",
        "deepnote_cell_type": "code"
      },
      "outputs": [],
      "outputs_reference": null,
      "execution_count": null,
      "block_group": "1da8d917d8bb44379ca98b99d9a4e482",
      "content_dependencies": null
    },
    {
      "cell_type": "code",
      "source": "# You generate one region at a time, e.g.\n# GenerateRegion(\"Top Rack\", seeds[\"Top Rack\"])\n\n# Or (re-)generate all of the regions\n# This will run in parallel iff use_existing_regions_as_obstacles is False\nif running_as_notebook:\n    iris_regions = dict()  # reset the iris regions\n    GenerateRegions(seeds)",
      "metadata": {
        "cell_id": "635aa7aceee4449895fee4a9c6fb915e",
        "deepnote_cell_type": "code"
      },
      "outputs": [],
      "outputs_reference": null,
      "execution_count": null,
      "block_group": "0fc3fff6dbdf4de99e440fa9bcccc835",
      "content_dependencies": null
    },
    {
      "cell_type": "code",
      "source": "# VisualizeRegion(\"Top Rack\")\n# VisualizeRegions()",
      "metadata": {
        "cell_id": "3b2cf833f2734ed2b48eb1acd53e2642",
        "deepnote_cell_type": "code"
      },
      "outputs": [],
      "outputs_reference": null,
      "execution_count": null,
      "block_group": "6a708801f6cf40dcaffab0e83a9952d4",
      "content_dependencies": null
    },
    {
      "cell_type": "markdown",
      "source": "## End-effector Teleop",
      "metadata": {
        "cell_id": "58c40eb25ce14b36b177059878cd07ac",
        "deepnote_cell_type": "markdown"
      },
      "block_group": "925733387af24af38abb35eb3f635207"
    },
    {
      "cell_type": "code",
      "source": "from collections import namedtuple\nfrom copy import copy\n\nfrom pydrake.all import Context, Meshcat, MeshcatPoseSliders, SceneGraph\n\nRpyXyz = namedtuple(\"RpyXyz\", (\"roll\", \"pitch\", \"yaw\", \"x\", \"y\", \"z\"))\n\n\n# Creates an indicator \"light\" (a colored sphere in the workspace)\n# TODO(russt): use meshcat.SetProperty(path, \"color\", rgba) instead\ndef IrisIndicator(\n    scene_graph: SceneGraph,\n    scene_graph_context: Context,\n    meshcat: Meshcat,\n    iris_regions: Dict[str, HPolyhedron],\n    p_WIndicator: list,\n):\n    radius = 0.1\n\n    meshcat.SetTransform(\"iris_indicator\", RigidTransform(p_WIndicator))\n\n    query_object = scene_graph.get_query_output_port().Eval(scene_graph_context)\n    has_collisions = query_object.HasCollisions()\n    if has_collisions:\n        meshcat.SetObject(\"iris_indicator\", Sphere(radius), Rgba(1, 0, 0, 1))\n\n    in_any_region = False\n    for r in iris_regions.values():\n        if r.PointInSet(q):\n            if has_collisions:\n                print(\"You found a counter-example!\")\n                # TODO(russt): Automatically shrink the iris region.\n            elif not in_any_region:\n                in_any_region = True\n                meshcat.SetObject(\"iris_indicator\", Sphere(radius), Rgba(0, 1, 0, 1))\n\n    if not has_collisions and not in_any_region:\n        meshcat.SetObject(\"iris_indicator\", Sphere(radius), Rgba(0.5, 0.5, 0.5, 1))\n\n\ndef EndEffectorTeleop():\n    meshcat.Delete()\n    meshcat.DeleteAddedControls()\n\n    builder = DiagramBuilder()\n    plant, scene_graph = AddMultibodyPlantSceneGraph(builder, 0.0)\n    ee_body = LoadRobot(plant)\n    plant.Finalize()\n\n    # Set up teleop widgets.\n    sliders = builder.AddSystem(\n        MeshcatPoseSliders(\n            meshcat,\n            lower_limit=RpyXyz(roll=0, pitch=-0.5, yaw=-np.pi, x=-0.6, y=-0.8, z=0.0),\n            upper_limit=RpyXyz(\n                roll=2 * np.pi, pitch=np.pi, yaw=np.pi, x=0.8, y=0.3, z=1.1\n            ),\n        )\n    )\n    print(\n        \"\"\"\nControl the end-effector position/orientation with the sliders or the keyboard:\n  ┌───────┬┬───────┬┬───────┐      ┌───────┬┬───────┬┬───────┐\n  │   Q   ││   W   ││   E   │      │   U   ││   I   ││   O   │\n  │ roll- ││ pitch+││ roll+ │      │   z-  ││   y+  ││   z+  │\n  ├───────┼┼───────┼┼───────┤      ├───────┼┼───────┼┼───────┤\n  ├───────┼┼───────┼┼───────┤      ├───────┼┼───────┼┼───────┤\n  │   A   ││   S   ││   D   │      │   J   ││   K   ││   L   │\n  │  yaw- ││ pitch-││  yaw+ │      │   x-  ││   y-  ││   x+  │\n  └───────┴┴───────┴┴───────┘      └───────┴┴───────┴┴───────┘\n\"\"\"\n    )\n\n    AddDefaultVisualization(builder, meshcat)\n\n    diagram = builder.Build()\n    context = diagram.CreateDefaultContext()\n    plant_context = plant.GetMyMutableContextFromRoot(context)\n    scene_graph_context = scene_graph.GetMyContextFromRoot(context)\n    sliders_context = sliders.GetMyContextFromRoot(context)\n\n    global q\n    if len(q) == 0:\n        q = plant.GetPositions(plant_context)\n    plant.SetPositions(plant_context, q)\n    X_WE = plant.EvalBodyPoseInWorld(plant_context, ee_body)\n    sliders.SetPose(X_WE)\n\n    iris_button_name = \"Compute new IRIS region\"\n    meshcat.AddButton(iris_button_name)\n    iris_button_clicks = 0\n\n    stop_button_name = \"Stop End Effector Teleop\"\n    print(\n        f\"Press the '{stop_button_name}' button in Meshcat to continue or press 'Escape'\"\n    )\n    meshcat.AddButton(stop_button_name, \"Escape\")\n\n    diagram.ForcedPublish(context)\n    if not running_as_notebook:\n        return\n\n    while meshcat.GetButtonClicks(stop_button_name) < 1:\n        # Check if the sliders have changed.\n        new_X_WE = copy(sliders.get_output_port().Eval(sliders_context))\n\n        if meshcat.GetButtonClicks(iris_button_name) > iris_button_clicks:\n            iris_button_clicks = meshcat.GetButtonClicks(iris_button_name)\n            # TODO(russt): Get the name from meshcat (#19666)\n            region_name = \"EETeleopRegion\"\n            region_num = 0\n            while f\"{region_name}{region_num}\" in iris_regions.keys():\n                region_num += 1\n            meshcat.AddButton(\"Generating region (please wait)\")\n            GenerateRegion(\n                f\"{region_name}{region_num}\", plant.GetPositions(plant_context)\n            )\n            meshcat.DeleteButton(\"Generating region (please wait)\")\n        elif X_WE.IsExactlyEqualTo(new_X_WE):\n            time.sleep(1e-3)\n            continue\n\n        X_WE = new_X_WE\n        q_ik = MyInverseKinematics(X_WE, plant, plant_context)\n        if q_ik is not None:\n            q = q_ik\n            plant.SetPositions(plant_context, q)\n            IrisIndicator(\n                scene_graph,\n                scene_graph_context,\n                meshcat,\n                iris_regions,\n                p_WIndicator=[1, 1, 1],\n            )\n            diagram.ForcedPublish(context)\n\n    meshcat.DeleteAddedControls()\n    q = plant.GetPositions(plant_context)\n\n\nEndEffectorTeleop()",
      "metadata": {
        "cell_id": "b54624b6abf6431bac34400dba9417ff",
        "deepnote_cell_type": "code"
      },
      "outputs": [],
      "outputs_reference": null,
      "execution_count": null,
      "block_group": "8dc3194d77094850a435300132615e9a",
      "content_dependencies": null
    },
    {
      "cell_type": "markdown",
      "source": "### Sometimes it's useful to reset the teleop to the default (home) position",
      "metadata": {
        "cell_id": "c5cb90cf8a494339a6737893b410a517",
        "deepnote_cell_type": "markdown"
      },
      "block_group": "3c9ec43641b04b069e8983a6145b5be7"
    },
    {
      "cell_type": "code",
      "source": "q = get_default_position()",
      "metadata": {
        "cell_id": "bd80899ca21e42d7900082721f730a36",
        "deepnote_cell_type": "code"
      },
      "outputs": [],
      "outputs_reference": null,
      "execution_count": null,
      "block_group": "c40efc75379245eca3cb3b6a910f50c0",
      "content_dependencies": null
    },
    {
      "cell_type": "markdown",
      "source": "## Joint Teleop",
      "metadata": {
        "cell_id": "8b4692251eda42198f0f89d6d1c440f0",
        "deepnote_cell_type": "markdown"
      },
      "block_group": "e2ce221c4abd4f02bf04c8e9c712c146"
    },
    {
      "cell_type": "code",
      "source": "def JointTeleop():\n    meshcat.Delete()\n    meshcat.DeleteAddedControls()\n    builder = DiagramBuilder()\n\n    plant, scene_graph = AddMultibodyPlantSceneGraph(builder, time_step=0.0)\n    LoadRobot(plant)\n    plant.Finalize()\n\n    sliders = builder.AddSystem(JointSliders(meshcat, plant))\n\n    AddDefaultVisualization(builder, meshcat)\n    diagram = builder.Build()\n    context = diagram.CreateDefaultContext()\n    plant_context = plant.GetMyMutableContextFromRoot(context)\n    scene_graph_context = scene_graph.GetMyContextFromRoot(context)\n    sliders_context = sliders.GetMyContextFromRoot(context)\n\n    global q\n    if len(q) == 0:\n        q = plant.GetPositions(plant_context)\n    sliders.SetPositions(q)\n\n    # Implements a version of JointSliders.run() which can also watch for extra UI events.\n    iris_button_name = \"Compute new IRIS region\"\n    meshcat.AddButton(iris_button_name)\n    iris_button_clicks = 0\n\n    stop_button_name = \"Stop Joint Teleop\"\n    print(\n        f\"Press the '{stop_button_name}' button in Meshcat to continue or press 'Escape'\"\n    )\n    meshcat.AddButton(stop_button_name, \"Escape\")\n\n    diagram.ForcedPublish(context)\n    if not running_as_notebook:\n        return\n\n    while meshcat.GetButtonClicks(stop_button_name) < 1:\n        # Check if the sliders have changed.\n        old_positions = plant.GetPositions(plant_context)\n        new_positions = sliders.get_output_port().Eval(sliders_context)\n\n        if meshcat.GetButtonClicks(iris_button_name) > iris_button_clicks:\n            iris_button_clicks = meshcat.GetButtonClicks(iris_button_name)\n            # TODO(russt): Get the name from meshcat (#19666)\n            region_name = \"JointTeleopRegion\"\n            region_num = 0\n            while f\"{region_name}{region_num}\" in iris_regions.keys():\n                region_num += 1\n            meshcat.AddButton(\"Generating region (please wait)\")\n            GenerateRegion(f\"{region_name}{region_num}\", new_positions)\n            meshcat.DeleteButton(\"Generating region (please wait)\")\n        elif np.array_equal(new_positions, old_positions):\n            time.sleep(1e-3)\n            continue\n\n        # Publish the new positions.\n        plant.SetPositions(plant_context, new_positions)\n        IrisIndicator(\n            scene_graph,\n            scene_graph_context,\n            meshcat,\n            iris_regions,\n            p_WIndicator=[1, 1, 1],\n        )\n        diagram.ForcedPublish(context)\n\n    meshcat.DeleteAddedControls()\n\n\nJointTeleop()",
      "metadata": {
        "cell_id": "b5b6ae8942e04f36858677c3706ed460",
        "deepnote_cell_type": "code"
      },
      "outputs": [],
      "outputs_reference": null,
      "execution_count": null,
      "block_group": "f98059632edb446a96db7220689e6cb4",
      "content_dependencies": null
    },
    {
      "cell_type": "markdown",
      "source": "## Random sampling\n\nSimple rejection sampling can work, but we have some much nicer methods coming soon.",
      "metadata": {
        "cell_id": "005141b57a014b2c8885550108f45ce6",
        "deepnote_cell_type": "markdown"
      },
      "block_group": "f20fd537abed4a5eb51f175c3a89ec23"
    },
    {
      "cell_type": "markdown",
      "source": "# Introspection\n\n## Visualize the current IRIS region connectivity\n\nFor planning trajectories, it's important to have some non-empty intersection between the convex sets. Here is a simple utility the visualization the connectivity as a graph.",
      "metadata": {
        "cell_id": "77087387da13493593d1e297ad56b4f8",
        "deepnote_cell_type": "markdown"
      },
      "block_group": "2e1eb7262e404011a07b4a85876b8001"
    },
    {
      "cell_type": "code",
      "source": "def VisualizeConnectivity():\n    graph = pydot.Dot(\"IRIS region connectivity\")\n    keys = list(iris_regions.keys())\n    for k in keys:\n        graph.add_node(pydot.Node(k))\n    for i in range(len(keys)):\n        v1 = iris_regions[keys[i]]\n        for j in range(i + 1, len(keys)):\n            v2 = iris_regions[keys[j]]\n            if v1.IntersectsWith(v2):\n                graph.add_edge(pydot.Edge(keys[i], keys[j], dir=\"both\"))\n    display(SVG(graph.create_svg()))\n\n\nVisualizeConnectivity()",
      "metadata": {
        "cell_id": "43d4693f80bc478f8bf120f168cd0a57",
        "deepnote_cell_type": "code"
      },
      "outputs": [],
      "outputs_reference": null,
      "execution_count": null,
      "block_group": "a3e7d84e757c411ea021ec39a03b4d2a",
      "content_dependencies": null
    },
    {
      "cell_type": "markdown",
      "source": "## Visualize a region",
      "metadata": {
        "cell_id": "12adbbab22a6446abc681cda572e8949",
        "deepnote_cell_type": "markdown"
      },
      "block_group": "91a50b36a6dd414395fe501520227c30"
    },
    {
      "cell_type": "code",
      "source": "if running_as_notebook and iris_regions:\n    VisualizeRegions()",
      "metadata": {
        "cell_id": "5ca6e74a212048ba9c56cbc5769396ee",
        "deepnote_cell_type": "code"
      },
      "outputs": [],
      "outputs_reference": null,
      "execution_count": null,
      "block_group": "fce02f571825441aa720f9bb4d59000a",
      "content_dependencies": null
    },
    {
      "cell_type": "markdown",
      "source": "## Plan trajectories with GCS Trajectory Optimization",
      "metadata": {
        "cell_id": "400fb781eb41472285381716483ba357",
        "deepnote_cell_type": "markdown"
      },
      "block_group": "c593c4edbd764cef89b8a7fb999b4431"
    },
    {
      "cell_type": "code",
      "source": "from pydrake.geometry.optimization import GraphOfConvexSetsOptions, Point\nfrom pydrake.planning import GcsTrajectoryOptimization\n\n\ndef PublishPositionTrajectory(\n    trajectory, root_context, plant, visualizer, time_step=1.0 / 33.0\n):\n    \"\"\"\n    Args:\n        trajectory: A Trajectory instance.\n    \"\"\"\n    plant_context = plant.GetMyContextFromRoot(root_context)\n    visualizer_context = visualizer.GetMyContextFromRoot(root_context)\n\n    visualizer.StartRecording(False)\n\n    for t in np.append(\n        np.arange(trajectory.start_time(), trajectory.end_time(), time_step),\n        trajectory.end_time(),\n    ):\n        root_context.SetTime(t)\n        plant.SetPositions(plant_context, trajectory.value(t))\n        visualizer.ForcedPublish(visualizer_context)\n\n    visualizer.StopRecording()\n    visualizer.PublishRecording()\n\n\ndef GcsTrajOpt(q_start, q_goal):\n    if not iris_regions:\n        print(\n            \"No IRIS regions loaded. Make some IRIS regions then come back and try this again.\"\n        )\n        return\n    assert len(q_start) == len(q_goal)\n    assert len(q_start) == iris_regions[next(iter(iris_regions))].ambient_dimension()\n\n    builder = DiagramBuilder()\n    plant, scene_graph = AddMultibodyPlantSceneGraph(builder, time_step=0.0)\n    LoadRobot(plant)\n    plant.Finalize()\n    AddDefaultVisualization(builder, meshcat)\n    diagram = builder.Build()\n\n    gcs = GcsTrajectoryOptimization(len(q_start))\n    # TODO(russt): AddRegions should take named regions.\n    regions = gcs.AddRegions(list(iris_regions.values()), order=1)\n    source = gcs.AddRegions([Point(q_start)], order=0)\n    target = gcs.AddRegions([Point(q_goal)], order=0)\n    gcs.AddEdges(source, regions)\n    gcs.AddEdges(regions, target)\n    gcs.AddTimeCost()\n    gcs.AddVelocityBounds(\n        plant.GetVelocityLowerLimits(), plant.GetVelocityUpperLimits()\n    )\n\n    options = GraphOfConvexSetsOptions()\n    options.preprocessing = True\n    options.max_rounded_paths = 5\n    start_time = time.time()\n    traj, result = gcs.SolvePath(source, target, options)\n    print(f\"GCS solved in {time.time() - start_time} seconds\")\n    if not result.is_success():\n        print(\"Could not find a feasible path from q_start to q_goal\")\n        return\n\n    PublishPositionTrajectory(\n        traj,\n        diagram.CreateDefaultContext(),\n        plant,\n        diagram.GetSubsystemByName(\"meshcat_visualizer(illustration)\"),\n    )",
      "metadata": {
        "cell_id": "64c6e26487be4a669f54ef84e7894350",
        "deepnote_cell_type": "code"
      },
      "outputs": [],
      "outputs_reference": null,
      "execution_count": null,
      "block_group": "495aaee9cee94459916014fcb42130b5",
      "content_dependencies": null
    },
    {
      "cell_type": "code",
      "source": "assert (\n    seeds\n), \"The examples here use the 'manually-specified seeds' from the section above. Please run that section first, or populate your own start and end configurations.\"\n\nGcsTrajOpt(seeds[\"Home Position\"], seeds[\"Top Rack\"])",
      "metadata": {
        "cell_id": "0e65e869acc14b558b870ae4279ba901",
        "deepnote_cell_type": "code"
      },
      "outputs": [],
      "outputs_reference": null,
      "execution_count": null,
      "block_group": "e6c9889c7a1847c5b0dc88e0f50e6c44",
      "content_dependencies": null
    },
    {
      "cell_type": "code",
      "source": "for k in range(4 if running_as_notebook else 0):\n    GcsTrajOpt(seeds[\"Top Rack\"], seeds[\"Left Bin\"])\n    GcsTrajOpt(seeds[\"Left Bin\"], seeds[\"Middle Rack\"])\n    GcsTrajOpt(seeds[\"Middle Rack\"], seeds[\"Right Bin\"])\n    GcsTrajOpt(seeds[\"Right Bin\"], seeds[\"Top Rack\"])",
      "metadata": {
        "cell_id": "ee89dc2cb0f24beeaceed86a7832af47",
        "deepnote_cell_type": "code"
      },
      "outputs": [],
      "outputs_reference": null,
      "execution_count": null,
      "block_group": "74c5e4ea68794993bad449e887ddb967",
      "content_dependencies": null
    },
    {
      "cell_type": "markdown",
      "source": "# Save your regions back to disk\n\nNote that by default, this notebook will autosave a backup after making each region.",
      "metadata": {
        "cell_id": "5306a45182b242049a01ee256e1a2150",
        "deepnote_cell_type": "markdown"
      },
      "block_group": "78968175a8614ba7b16c93ee3aa6fa7c"
    },
    {
      "cell_type": "code",
      "source": "if running_as_notebook:\n    SaveIrisRegionsYamlFile(iris_filename, iris_regions)",
      "metadata": {
        "cell_id": "9501c198d67e432781eac77930c69de8",
        "deepnote_cell_type": "code"
      },
      "outputs": [],
      "outputs_reference": null,
      "execution_count": null,
      "block_group": "40249ce94a444e428a84ba03d1dddbed",
      "content_dependencies": null
    },
    {
      "cell_type": "markdown",
      "source": "# Clean up\n\nFor good measure, let's delete any temporary license files now.",
      "metadata": {
        "cell_id": "6dad306f3c3b47d190e8396e24f0edd4",
        "deepnote_cell_type": "markdown"
      },
      "block_group": "37abfb52057240dca5965a38e55b6fcd"
    },
    {
      "cell_type": "code",
      "source": "if os.path.exists(\"/tmp/mosek.lic\"):\n    os.remove(\"/tmp/mosek.lic\")",
      "metadata": {
        "cell_id": "a72917b340e2464aaaa9145c49cf3100",
        "deepnote_cell_type": "code"
      },
      "outputs": [],
      "outputs_reference": null,
      "execution_count": null,
      "block_group": "dca2694014ba49b583bd821968297682",
      "content_dependencies": null
    },
    {
      "cell_type": "code",
      "source": "",
      "metadata": {
        "cell_id": "d63b317ac45f42a69b5427d3f13017d9",
        "deepnote_cell_type": "code"
      },
      "outputs": [],
      "outputs_reference": null,
      "execution_count": null,
      "block_group": "4b809949ecda4620ae7edf093f7981c6",
      "content_dependencies": null
    },
    {
      "cell_type": "markdown",
      "source": "<a style='text-decoration:none;line-height:16px;display:flex;color:#5B5B62;padding:10px;justify-content:end;' href='https://deepnote.com?utm_source=created-in-deepnote-cell&projectId=1ffa96e9-51f5-40a2-b71d-52faca4ce7bc' target=\"_blank\">\n<img alt='Created in deepnote.com' style='display:inline;max-height:16px;margin:0px;margin-right:7.5px;' src='data:image/svg+xml;base64,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' > </img>\nCreated in <span style='font-weight:600;margin-left:4px;'>Deepnote</span></a>",
      "metadata": {
        "created_in_deepnote_cell": true,
        "deepnote_cell_type": "markdown"
      }
    }
  ],
  "nbformat": 4,
  "nbformat_minor": 0,
  "metadata": {
    "deepnote_notebook_id": "c84002f064a04a6cbb64db2f92a41eb7",
    "deepnote_execution_queue": []
  }
}