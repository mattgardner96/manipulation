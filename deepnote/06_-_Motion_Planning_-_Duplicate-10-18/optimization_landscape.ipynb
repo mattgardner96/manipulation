{
  "cells": [
    {
      "cell_type": "markdown",
      "source": "This notebook provides examples to go along with the [textbook](http://manipulation.csail.mit.edu/trajectories.html).  I recommend having both windows open, side-by-side!",
      "metadata": {
        "id": "EgiF12Hf1Dhs",
        "cell_id": "800ac23d298d4b6a883cb1569470f1a1",
        "deepnote_cell_type": "markdown"
      },
      "block_group": "3c843020d62546fb8797edd133e982be"
    },
    {
      "cell_type": "code",
      "source": "import numpy as np\nfrom pydrake.all import (\n    AddMultibodyPlantSceneGraph,\n    DiagramBuilder,\n    InverseKinematics,\n    Parser,\n    RigidTransform,\n    Solve,\n    Sphere,\n    StartMeshcat,\n)\n\nfrom manipulation.meshcat_utils import plot_mathematical_program\nfrom manipulation.scenarios import AddShape, AddTwoLinkIiwa, AddWsg\nfrom manipulation.utils import ConfigureParser",
      "metadata": {
        "id": "eeMrMI0-1Dhu",
        "cell_id": "e58ad1fbf644452ab98973773af56a61",
        "deepnote_cell_type": "code"
      },
      "outputs": [],
      "outputs_reference": null,
      "execution_count": null,
      "block_group": "a4fb3142570a4fc7a6019332a11e9653",
      "content_dependencies": null
    },
    {
      "cell_type": "code",
      "source": "# Start the visualizer.\nmeshcat = StartMeshcat()",
      "metadata": {
        "cell_id": "a2d71cf3854a40d79dfa1e4c10e301bb",
        "deepnote_cell_type": "code"
      },
      "outputs": [],
      "outputs_reference": null,
      "execution_count": null,
      "block_group": "d02095765c1b427a816fe834096a3b20",
      "content_dependencies": null
    },
    {
      "cell_type": "markdown",
      "source": "# Visualizing the costs and constraints\n\nHere is another view.  Notice that at the optimal solution of the iiwa reaching into the shelf, the last joint was almost zero.  I've gone ahead and welded it to zero, so that we are now down to just a two degree of freedom IK problem.  Now we can plot the entire cost and constraint landscape.  Let's do it.\n\nThere is a lot going on in the second meshcat window.  Use the controls to turn on and off different costs/constraints.  The constraints are blue where they are feasible and red where they are infeasible.  Which constraint is the horribly ugly one?",
      "metadata": {
        "cell_id": "8c0d5b1357b241d4b139e9111c632dbb",
        "deepnote_cell_type": "markdown"
      },
      "block_group": "ebe34a1b361740ccaf95bc3dbfaeb412"
    },
    {
      "cell_type": "code",
      "source": "def draw_ik_prog(zoom=True):\n    builder = DiagramBuilder()\n\n    plant, scene_graph = AddMultibodyPlantSceneGraph(builder, time_step=0.001)\n    iiwa = AddTwoLinkIiwa(plant)\n    wsg = AddWsg(plant, iiwa, roll=0.0, welded=True)\n    sphere = AddShape(plant, Sphere(0.02), \"sphere\")\n    X_WO = RigidTransform([0.6, 0, 0.65])\n    plant.WeldFrames(plant.world_frame(), plant.GetFrameByName(\"sphere\"), X_WO)\n\n    parser = Parser(plant)\n    ConfigureParser(parser)\n    bin = parser.AddModelsFromUrl(\"package://manipulation/shelves.sdf\")[0]\n    plant.WeldFrames(\n        plant.world_frame(),\n        plant.GetFrameByName(\"shelves_body\", bin),\n        RigidTransform([0.6, 0, 0.4]),\n    )\n\n    plant.Finalize()\n\n    #    visualizer = MeshcatVisualizer.AddToBuilder(\n    #        builder,\n    #        scene_graph,\n    #        meshcat,\n    #        MeshcatVisualizerParams(delete_prefix_initialization_event=False))\n\n    diagram = builder.Build()\n    context = diagram.CreateDefaultContext()\n    plant_context = plant.GetMyContextFromRoot(context)\n\n    q0 = plant.GetPositions(plant_context)\n    gripper_frame = plant.GetFrameByName(\"body\", wsg)\n    sphere_frame = plant.GetFrameByName(\"sphere\", sphere)\n\n    ik = InverseKinematics(plant, plant_context)\n    ik.AddMinimumDistanceLowerBoundConstraint(0.001, 0.1)\n    grasp_constraint = ik.AddPositionConstraint(\n        gripper_frame,\n        [0, 0.1, 0],\n        sphere_frame,\n        [-0.001, -0.001, -0.001],\n        [0.001, 0.001, 0.001],\n    )\n\n    prog = ik.get_mutable_prog()\n    q = ik.q()\n    prog.AddQuadraticErrorCost(np.identity(len(q)), q0, q)\n    prog.SetInitialGuess(q, q0)\n    result = Solve(ik.prog())\n    if not result.is_success():\n        print(\"IK failed\")\n\n    diagram.ForcedPublish(context)\n\n    meshcat.Delete()\n    meshcat.SetProperty(\"/Background\", \"visible\", False)\n    if zoom:\n        qstar = result.GetSolution(q)\n        X, Y = np.meshgrid(\n            np.linspace(qstar[0] - 0.2, qstar[0] + 0.2, 75),\n            np.linspace(qstar[1] - 0.2, qstar[1] + 0.2, 75),\n        )\n        point_size = 0.01\n    else:\n        low = plant.GetPositionLowerLimits()\n        up = plant.GetPositionUpperLimits()\n        X, Y = np.meshgrid(\n            np.linspace(low[0], up[0], 175), np.linspace(low[1], up[1], 175)\n        )\n        point_size = 0.05\n    plot_mathematical_program(meshcat, \"ik\", prog, X, Y, result, point_size=point_size)\n\n\ndraw_ik_prog(zoom=True)",
      "metadata": {
        "cell_id": "258ff5aae5214501a2d585db37dbe6d6",
        "deepnote_cell_type": "code"
      },
      "outputs": [],
      "outputs_reference": null,
      "execution_count": null,
      "block_group": "2b1a9d0d4ede45378dc3264f472a19cb",
      "content_dependencies": null
    },
    {
      "cell_type": "markdown",
      "source": "<a style='text-decoration:none;line-height:16px;display:flex;color:#5B5B62;padding:10px;justify-content:end;' href='https://deepnote.com?utm_source=created-in-deepnote-cell&projectId=1ffa96e9-51f5-40a2-b71d-52faca4ce7bc' target=\"_blank\">\n<img alt='Created in deepnote.com' style='display:inline;max-height:16px;margin:0px;margin-right:7.5px;' src='data:image/svg+xml;base64,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' > </img>\nCreated in <span style='font-weight:600;margin-left:4px;'>Deepnote</span></a>",
      "metadata": {
        "created_in_deepnote_cell": true,
        "deepnote_cell_type": "markdown"
      }
    }
  ],
  "nbformat": 4,
  "nbformat_minor": 0,
  "metadata": {
    "deepnote_notebook_id": "a5efabd606fb4305b8a41fa69c0c82b7",
    "deepnote_execution_queue": []
  }
}