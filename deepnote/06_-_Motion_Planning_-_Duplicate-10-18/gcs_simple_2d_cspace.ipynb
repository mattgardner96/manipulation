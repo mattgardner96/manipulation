{
  "cells": [
    {
      "cell_type": "code",
      "source": "import mpld3\nimport numpy as np\nfrom matplotlib import pyplot as plt\nfrom pydrake.all import (\n    AddDefaultVisualization,\n    ConnectPlanarSceneGraphVisualizer,\n    IrisFromCliqueCoverOptions,\n    IrisInConfigurationSpaceFromCliqueCover,\n    RandomGenerator,\n    RigidTransform,\n    RobotDiagramBuilder,\n    SceneGraphCollisionChecker,\n    StartMeshcat,\n    VPolytope,\n)\nfrom pydrake.geometry.optimization import GraphOfConvexSetsOptions, HPolyhedron, Point\nfrom pydrake.planning import GcsTrajectoryOptimization\nfrom scipy.spatial import ConvexHull\n\nfrom manipulation import running_as_notebook\nfrom manipulation.utils import ConfigureParser\n\nif running_as_notebook:\n    mpld3.enable_notebook()",
      "metadata": {
        "lines_to_end_of_cell_marker": 2,
        "cell_id": "73ccb3d5897942fea1526dee8252f800",
        "deepnote_cell_type": "code"
      },
      "outputs": [],
      "outputs_reference": null,
      "execution_count": null,
      "block_group": "a82cb0a1a0954a3d8d5e9cf4af685e61",
      "content_dependencies": null
    },
    {
      "cell_type": "code",
      "source": "meshcat = StartMeshcat()",
      "metadata": {
        "cell_id": "f0f804cfa03940ee9d1846452b3b6390",
        "deepnote_cell_type": "code"
      },
      "outputs": [],
      "outputs_reference": null,
      "execution_count": null,
      "block_group": "3e1452baf2cf431989241173c5d3ade1",
      "content_dependencies": null
    },
    {
      "cell_type": "markdown",
      "source": "# Environment setup",
      "metadata": {
        "cell_id": "7a59b2da41e44e2f908b26ae87a9eb98",
        "deepnote_cell_type": "markdown"
      },
      "block_group": "856e1189350544a1a58b0c059aa08a3e"
    },
    {
      "cell_type": "code",
      "source": "sr2 = np.sqrt(2)\n\n# obstacles\nobstacles = [\n    np.array(\n        [\n            [3.4, 2.6],\n            [3.4, 4.6],\n            [2.4, 4.6],\n            [2.4, 2.6],\n            [1.4, 2.2],\n            [3.8, 0.2],\n            [4.8, 1.2],\n        ]\n    ),\n    np.array([[1.4, 2.8], [2.2, 2.8], [2.2, 4.6], [1.4, 4.6]]),\n    np.array([[1.0, 2.6], [1.0, 5.0], [0.4, 5.0], [0.4, 2.6]]),\n    np.array([[1.0, 2.4], [1.0, 0.0], [0.4, 0.0], [0.4, 2.4]]),\n    np.array([[3.8, 3.0], [3.8, 5.0], [4.4, 5.0], [4.4, 3.0]]),\n    np.array([[3.8, 2.8], [3.8, 2.6], [5.0, 2.6], [5.0, 2.8]]),\n]\n\n# vertices of the safe regions\nvertices = [\n    np.array([[0.4, 0.0], [0.4, 5.0], [0.0, 5.0], [0.0, 0.0]]),\n    np.array([[0.4, 2.4], [1.0, 2.4], [1.0, 2.6], [0.4, 2.6]]),\n    np.array([[1.4, 2.2], [1.4, 4.6], [1.0, 4.6], [1.0, 2.2]]),\n    np.array([[1.4, 2.2], [2.4, 2.6], [2.4, 2.8], [1.4, 2.8]]),\n    np.array([[2.2, 2.8], [2.4, 2.8], [2.4, 4.6], [2.2, 4.6]]),\n    np.array([[1.4, 2.2], [1.0, 2.2], [1.0, 0.0], [3.8, 0.0], [3.8, 0.2]]),\n    np.array([[3.8, 4.6], [3.8, 5.0], [1.0, 5.0], [1.0, 4.6]]),\n    np.array([[5.0, 0.0], [5.0, 1.2], [4.8, 1.2], [3.8, 0.2], [3.8, 0.0]]),\n    np.array([[3.4, 2.6], [4.8, 1.2], [5.0, 1.2], [5.0, 2.6]]),\n    np.array([[3.4, 2.6], [3.8, 2.6], [3.8, 4.6], [3.4, 4.6]]),\n    np.array([[3.8, 2.8], [4.4, 2.8], [4.4, 3.0], [3.8, 3.0]]),\n    np.array([[5.0, 2.8], [5.0, 5.0], [4.4, 5.0], [4.4, 2.8]]),\n]\n\nx_min = np.min(np.vstack(vertices), axis=0)\nx_max = np.max(np.vstack(vertices), axis=0)\n\nx_start = np.array([0.2, 0.2])\nx_goal = np.array([4.8, 4.8])\n\n\ndef make_hpolytope(V):\n    ch = ConvexHull(V)\n    return HPolyhedron(ch.equations[:, :-1], -ch.equations[:, -1])\n\n\nregions = [make_hpolytope(V) for V in vertices]\n\n\ndef environment_setup():\n    plt.figure(figsize=(6, 6))\n    plt.axis(\"square\")\n\n    plt.xlim([x_min[0], x_max[0]])\n    plt.ylim([x_min[1], x_max[1]])\n\n    tick_gap = 0.2\n\n    def n_ticks(x_min, x_max):\n        return round((x_max - x_min) / tick_gap) + 1\n\n    x_ticks = np.linspace(x_min[0], x_max[0], n_ticks(x_min[0], x_max[0]))\n    y_ticks = np.linspace(x_min[1], x_max[1], n_ticks(x_min[1], x_max[1]))\n    plt.xticks(x_ticks)\n    plt.yticks(y_ticks)\n\n    label_gap = 0.5\n\n    def keep_label(t):\n        return np.isclose(t % label_gap, 0) or np.isclose(t % label_gap, label_gap)\n\n    x_labels = [int(t) if keep_label(t) else \"\" for t in x_ticks]\n    y_labels = [int(t) if keep_label(t) else \"\" for t in y_ticks]\n    plt.gca().set_xticklabels(x_labels)\n    plt.gca().set_yticklabels(y_labels)\n\n    plt.grid()\n\n\ndef plot_trajectory(traj):\n    plt.figure(figsize=(6, 6))\n\n    for O in obstacles:\n        plt.fill(*O.T, fc=\"lightcoral\", ec=\"k\", zorder=4)\n\n    plt.plot(*traj.value(traj.start_time()), \"kx\")\n    plt.plot(*traj.value(traj.end_time()), \"kx\")\n    times = np.linspace(traj.start_time(), traj.end_time(), 1000)\n    waypoints = traj.vector_values(times)\n    plt.plot(*waypoints, \"b\", zorder=5)\n\n    plt.axis(\"square\")\n    plt.xlim([x_min[0], x_max[0]])\n    plt.ylim([x_min[1], x_max[1]])\n    plt.xticks(range(6))\n    plt.yticks(range(6))\n    plt.grid(1)\n\n\ndef plot_velocity(traj):\n    vel = traj.MakeDerivative()\n\n    plt.figure(figsize=(6, 4))\n\n    for i in range(vel.get_number_of_segments()):\n        v = vel.segment(i)\n        times = np.linspace(v.start_time(), v.end_time(), 500)\n        values = v.vector_values(times)\n        plt.plot(times, values[0], color=\"tab:blue\")\n        plt.plot(times, values[1], color=\"tab:orange\")\n\n    plt.xlim([traj.start_time(), traj.end_time()])\n    plt.xticks(np.arange(int(np.ceil(traj.end_time() / 2))) * 2)\n    plt.yticks(np.linspace(qdot_min, qdot_max, 5))\n    plt.xlabel(\"Time $t$\")\n    plt.ylabel(\"Velocity $\\dot{q}$\")\n    plt.grid()",
      "metadata": {
        "cell_id": "a134ed0c55f042e3aa7018e36115fe1f",
        "deepnote_cell_type": "code"
      },
      "outputs": [],
      "outputs_reference": null,
      "execution_count": null,
      "block_group": "7e17c70c5a984bb98cb68a2de28a418b",
      "content_dependencies": null
    },
    {
      "cell_type": "code",
      "source": "environment_setup()\n\nfor O in obstacles:\n    plt.fill(*O.T, fc=\"lightcoral\", ec=\"k\", zorder=4)\n\nplt.plot(*x_start, \"kx\")\nplt.plot(*x_goal, \"kx\")\n\nplt.text(0.2, 0.35, \"$q_0$\", ha=\"center\", va=\"bottom\")\nplt.text(4.8, 4.65, \"$q_T$\", ha=\"center\", va=\"top\");",
      "metadata": {
        "cell_id": "060a224ce63d409da02002cd76200c66",
        "deepnote_cell_type": "code"
      },
      "outputs": [],
      "outputs_reference": null,
      "execution_count": null,
      "block_group": "133a6cadf9b8492690de1ea66aa0862b",
      "content_dependencies": null
    },
    {
      "cell_type": "code",
      "source": "environment_setup()\n\nfor V in vertices:\n    plt.fill(*V.T, fc=\"lightcyan\", ec=\"k\", zorder=4)",
      "metadata": {
        "cell_id": "59ddac2e14ba41ea97fdfa00159947c6",
        "deepnote_cell_type": "code"
      },
      "outputs": [],
      "outputs_reference": null,
      "execution_count": null,
      "block_group": "6cd5711ae1e2414aa181d865fabe4977",
      "content_dependencies": null
    },
    {
      "cell_type": "markdown",
      "source": "# Minimum-distance problem",
      "metadata": {
        "cell_id": "01c1e3ffc85a4f8aafab2ee8ba3559c8",
        "deepnote_cell_type": "markdown"
      },
      "block_group": "46c93dcd726342eb9f8a923b6347f451"
    },
    {
      "cell_type": "code",
      "source": "qdot_min = -1\nqdot_max = 1\n\n\ndef solve_min_distance(order=1):\n    trajopt = GcsTrajectoryOptimization(2)\n    gcs_regions = trajopt.AddRegions(regions, order=order)\n    source = trajopt.AddRegions([Point(x_start)], order=0)\n    target = trajopt.AddRegions([Point(x_goal)], order=0)\n    trajopt.AddEdges(source, gcs_regions)\n    trajopt.AddEdges(gcs_regions, target)\n    trajopt.AddPathLengthCost()\n    trajopt.AddVelocityBounds([qdot_min] * 2, [qdot_max] * 2)\n    options = GraphOfConvexSetsOptions()\n    [traj, result] = trajopt.SolvePath(source, target, options)\n    print(f\"result.is_success() = {result.is_success()}\")\n    if result.is_success():\n        print(traj.get_segment_times())\n        plot_trajectory(traj)\n\n\nsolve_min_distance()",
      "metadata": {
        "cell_id": "dea5d0f736fa46d88777e1106e4889e5",
        "deepnote_cell_type": "code"
      },
      "outputs": [],
      "outputs_reference": null,
      "execution_count": null,
      "block_group": "3b0eb7ea24f74b16b544d84ffc6794b4",
      "content_dependencies": null
    },
    {
      "cell_type": "markdown",
      "source": "# Minimum-time problem",
      "metadata": {
        "cell_id": "b11bd71e786e4c268c4546f86c1426d3",
        "deepnote_cell_type": "markdown"
      },
      "block_group": "2b7903ede2e741bb9ed397329d1170b4"
    },
    {
      "cell_type": "code",
      "source": "qdot_min = -1\nqdot_max = 1\n\n\ndef solve_min_time(order, continuity_order):\n    trajopt = GcsTrajectoryOptimization(2)\n    gcs_regions = trajopt.AddRegions(regions, order=order)\n    source = trajopt.AddRegions([Point(x_start)], order=0)\n    target = trajopt.AddRegions([Point(x_goal)], order=0)\n    trajopt.AddEdges(source, gcs_regions)\n    trajopt.AddEdges(gcs_regions, target)\n    trajopt.AddTimeCost()\n    trajopt.AddVelocityBounds([qdot_min] * 2, [qdot_max] * 2)\n    for o in range(1, continuity_order + 1):\n        print(f\"adding C{o} constraints\")\n        trajopt.AddContinuityConstraints(o)\n    options = GraphOfConvexSetsOptions()\n    [traj, result] = trajopt.SolvePath(source, target, options)\n\n    return traj, result",
      "metadata": {
        "cell_id": "26d444ba22ef423abf63572d08b3dcee",
        "deepnote_cell_type": "code"
      },
      "outputs": [],
      "outputs_reference": null,
      "execution_count": null,
      "block_group": "961c7560a793494bb7765d488464330a",
      "content_dependencies": null
    },
    {
      "cell_type": "code",
      "source": "order = 1\ncontinuity = 0\ntraj, results = solve_min_time(order, continuity)\n\nplot_trajectory(traj)\n\nplot_velocity(traj)",
      "metadata": {
        "cell_id": "69ba9ee75d7b4899b672fcdd5c21f264",
        "deepnote_cell_type": "code"
      },
      "outputs": [],
      "outputs_reference": null,
      "execution_count": null,
      "block_group": "d601b8bca543456ebf9f117d9f153d33",
      "content_dependencies": null
    },
    {
      "cell_type": "code",
      "source": "order = 5\ncontinuity = 4\ntraj, results = solve_min_time(order, continuity)\n\nplot_trajectory(traj)\n\nplot_velocity(traj)",
      "metadata": {
        "cell_id": "f3db621bff0d4d508b3be4b2b4edbd3d",
        "deepnote_cell_type": "code"
      },
      "outputs": [],
      "outputs_reference": null,
      "execution_count": null,
      "block_group": "046b1fb804514449907e46232be659e6",
      "content_dependencies": null
    },
    {
      "cell_type": "markdown",
      "source": "## Same environment, now using MultibodyPlant/SceneGraph",
      "metadata": {
        "cell_id": "33e3b19418444312ac3f9dcdfdd1dcfa",
        "deepnote_cell_type": "markdown"
      },
      "block_group": "7e446d25038b40ea9397ddaae51c3f01"
    },
    {
      "cell_type": "code",
      "source": "def BuildEnvironment():\n    builder = RobotDiagramBuilder(time_step=0)\n    parser = builder.parser()\n    ConfigureParser(parser)\n    parser.AddModelsFromUrl(\"package://manipulation/simple_2d_cspace.xml\")\n    builder.plant().Finalize()\n\n    visualizer = ConnectPlanarSceneGraphVisualizer(\n        builder.builder(),\n        builder.scene_graph(),\n        xlim=[-0.1, 5.1],\n        ylim=[-0.1, 5.1],\n        T_VW=np.array([[1, 0, 0, 0], [0, 1, 0, 0], [0, 0, 0, 1]]),\n    )\n\n    AddDefaultVisualization(builder.builder(), meshcat)\n\n    return builder.Build()\n\n\ndef CliqueCoverDemo():\n    meshcat.SetCameraTarget([0, 0, 0])\n    meshcat.Set2dRenderMode(\n        X_WC=RigidTransform([0, 0, 5]), xmin=0, xmax=5, ymin=0, ymax=5\n    )\n    diagram = BuildEnvironment()\n    context = diagram.CreateDefaultContext()\n    diagram.ForcedPublish(context)\n\n    generator = RandomGenerator(1234)\n    checker = SceneGraphCollisionChecker(\n        model=diagram,\n        robot_model_instances=[diagram.plant().GetModelInstanceByName(\"robot\")],\n        edge_step_size=0.01,\n    )\n    options = IrisFromCliqueCoverOptions()\n    options.num_points_per_visibility_round = 200 if running_as_notebook else 10\n    options.coverage_termination_threshold = 0.96 if running_as_notebook else 0.2\n    # See https://github.com/RobotLocomotion/drake/issues/21343\n    regions = IrisInConfigurationSpaceFromCliqueCover(checker, options, generator, [])\n    diagram.GetSubsystemByName(\"planar_scenegraph_visualizer\")\n    for region in regions:\n        V = VPolytope(region)\n        hull = ConvexHull(V.vertices().T)\n        plt.fill(\n            V.vertices()[0, hull.vertices],\n            V.vertices()[1, hull.vertices],\n            fc=\"lightcyan\",\n            ec=\"k\",\n            zorder=4,\n        )\n    plt.axis(\"square\")\n    plt.xlim([x_min[0], x_max[0]])\n    plt.ylim([x_min[1], x_max[1]])\n    plt.xticks(range(6))\n    plt.yticks(range(6))\n    plt.grid(1)\n\n    trajopt = GcsTrajectoryOptimization(2)\n    gcs_regions = trajopt.AddRegions(regions, order=1, h_min=0.01)\n    source = trajopt.AddRegions([Point(x_start)], order=0)\n    target = trajopt.AddRegions([Point(x_goal)], order=0)\n    trajopt.AddEdges(source, gcs_regions)\n    trajopt.AddEdges(gcs_regions, target)\n    trajopt.AddTimeCost()\n    trajopt.AddVelocityBounds([qdot_min] * 2, [qdot_max] * 2)\n    options = GraphOfConvexSetsOptions()\n    [traj, result] = trajopt.SolvePath(source, target, options)\n    print(f\"result.is_success() = {result.is_success()}\")\n    if result.is_success():\n        plot_trajectory(traj)\n        plot_velocity(traj)\n\n\nCliqueCoverDemo()",
      "metadata": {
        "cell_id": "1ae887fee3a84c2388afd3e563236a61",
        "deepnote_cell_type": "code"
      },
      "outputs": [],
      "outputs_reference": null,
      "execution_count": null,
      "block_group": "765d7091563644dd97b5b9ed6814e49b",
      "content_dependencies": null
    },
    {
      "cell_type": "code",
      "source": "",
      "metadata": {
        "cell_id": "4aba735180ad45ebbe77b07d9d6a680b",
        "deepnote_cell_type": "code"
      },
      "outputs": [],
      "outputs_reference": null,
      "execution_count": null,
      "block_group": "5b8e62cae9b04ca68c6b84f895741701",
      "content_dependencies": null
    },
    {
      "cell_type": "markdown",
      "source": "<a style='text-decoration:none;line-height:16px;display:flex;color:#5B5B62;padding:10px;justify-content:end;' href='https://deepnote.com?utm_source=created-in-deepnote-cell&projectId=1ffa96e9-51f5-40a2-b71d-52faca4ce7bc' target=\"_blank\">\n<img alt='Created in deepnote.com' style='display:inline;max-height:16px;margin:0px;margin-right:7.5px;' src='data:image/svg+xml;base64,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' > </img>\nCreated in <span style='font-weight:600;margin-left:4px;'>Deepnote</span></a>",
      "metadata": {
        "created_in_deepnote_cell": true,
        "deepnote_cell_type": "markdown"
      }
    }
  ],
  "nbformat": 4,
  "nbformat_minor": 0,
  "metadata": {
    "deepnote_notebook_id": "5a756947fe434e80b690c65a9c2b78ec",
    "deepnote_execution_queue": []
  }
}