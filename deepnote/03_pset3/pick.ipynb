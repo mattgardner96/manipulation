{
  "cells": [
    {
      "cell_type": "markdown",
      "source": "This notebook provides examples to go along with the [textbook](http://manipulation.csail.mit.edu/pick.html).  I recommend having both windows open, side-by-side!",
      "metadata": {
        "id": "EgiF12Hf1Dhs",
        "colab_type": "text",
        "cell_id": "a415cceb6c694d8f8d459f7ae8f999cc",
        "deepnote_cell_type": "markdown"
      },
      "block_group": "02e7fc898570466e8979b6d2b7aa6a13"
    },
    {
      "cell_type": "code",
      "source": "import mpld3\nimport numpy as np\nfrom matplotlib import pyplot as plt\nfrom pydrake.all import (\n    AddMultibodyPlantSceneGraph,\n    AngleAxis,\n    DiagramBuilder,\n    Integrator,\n    JacobianWrtVariable,\n    LeafSystem,\n    MeshcatVisualizer,\n    MultibodyPlant,\n    MultibodyPositionToGeometryPose,\n    Parser,\n    PiecewisePolynomial,\n    PiecewisePose,\n    Quaternion,\n    Rgba,\n    RigidTransform,\n    RotationMatrix,\n    SceneGraph,\n    Simulator,\n    StartMeshcat,\n    TrajectorySource,\n)\n\nfrom manipulation import running_as_notebook\nfrom manipulation.station import LoadScenario, MakeHardwareStation\nfrom manipulation.utils import RenderDiagram\n\nif running_as_notebook:\n    mpld3.enable_notebook()",
      "metadata": {
        "id": "eeMrMI0-1Dhu",
        "colab": {},
        "colab_type": "code",
        "source_hash": null,
        "execution_start": 1727017508504,
        "execution_millis": 1003,
        "deepnote_to_be_reexecuted": false,
        "cell_id": "d50b544765ae481780d8bdf0be96623b",
        "deepnote_cell_type": "code"
      },
      "outputs": [],
      "outputs_reference": null,
      "execution_count": null,
      "block_group": "0f7952020ff34e8684dd9e2aef8b3bbe",
      "content_dependencies": null
    },
    {
      "cell_type": "code",
      "source": "# Start the visualizer.\nmeshcat = StartMeshcat()",
      "metadata": {
        "source_hash": null,
        "execution_start": 1727017510541,
        "execution_millis": 94,
        "deepnote_to_be_reexecuted": false,
        "cell_id": "5d92a00dbb354836a1c8232abd25fecf",
        "deepnote_cell_type": "code"
      },
      "outputs": [
        {
          "name": "stderr",
          "text": "INFO:drake:Meshcat listening for connections at https://8a9c9b8b-9356-4af8-b9c8-57ff4e9f05f3.deepnoteproject.com/7000/\nInstalling NginX server for MeshCat on Deepnote...\n",
          "output_type": "stream"
        },
        {
          "data": {
            "text/plain": "<IPython.core.display.HTML object>",
            "text/html": "Meshcat URL: <a href='https://8a9c9b8b-9356-4af8-b9c8-57ff4e9f05f3.deepnoteproject.com/7000/' target='_blank'>https://8a9c9b8b-9356-4af8-b9c8-57ff4e9f05f3.deepnoteproject.com/7000/</a>"
          },
          "metadata": {},
          "output_type": "display_data"
        }
      ],
      "outputs_reference": null,
      "execution_count": null,
      "block_group": "dd9c7ca4901a456cb3e8a6e251ef25de",
      "content_dependencies": null
    },
    {
      "cell_type": "markdown",
      "source": "# A pick and place \"sketch\" with keyframes\n\nLet's first define the canonical frames of our problem.  We've got a handful of them, and will pass them in and out of several functions, so I'll use a dictionary to store them.\n\nNote: I've added one more frame into the mix here, to get some clearance when moving between the bins.  Leaving it out gave me a nice [robot outtake](http://manipulation.csail.mit.edu/data/pick_fail.html).",
      "metadata": {
        "id": "d5p2tbJWrWZ5",
        "colab_type": "text",
        "cell_id": "2bb34561947646c3bb57b9bdfb5ddf29",
        "deepnote_cell_type": "markdown"
      },
      "block_group": "e1621be3193348e9bed58ce0d32726cd"
    },
    {
      "cell_type": "code",
      "source": "def MakeGripperFrames(X_WG, X_WO):\n    \"\"\"\n    Takes a partial specification with X_G[\"initial\"] and X_O[\"initial\"] and\n    X_0[\"goal\"], and returns a X_G and times with all of the pick and place\n    frames populated.\n    \"\"\"\n    # Define (again) the gripper pose relative to the object when in grasp.\n    p_GgraspO = [0, 0.12, 0]\n    R_GgraspO = RotationMatrix.MakeXRotation(\n        np.pi / 2.0\n    ) @ RotationMatrix.MakeZRotation(np.pi / 2.0)\n    X_GgraspO = RigidTransform(R_GgraspO, p_GgraspO)\n    X_OGgrasp = X_GgraspO.inverse()\n    # pregrasp is negative y in the gripper frame (see the figure!).\n    X_GgraspGpregrasp = RigidTransform([0, -0.08, 0])\n\n    X_WG[\"pick\"] = X_WO[\"initial\"] @ X_OGgrasp\n    X_WG[\"prepick\"] = X_WG[\"pick\"] @ X_GgraspGpregrasp\n    X_WG[\"place\"] = X_WO[\"goal\"] @ X_OGgrasp\n    X_WG[\"preplace\"] = X_WG[\"place\"] @ X_GgraspGpregrasp\n\n    # I'll interpolate a halfway orientation by converting to axis angle and halving the angle.\n    X_GprepickGpreplace = X_WG[\"prepick\"].inverse() @ X_WG[\"preplace\"]\n    angle_axis = X_GprepickGpreplace.rotation().ToAngleAxis()\n    X_GprepickGclearance = RigidTransform(\n        AngleAxis(angle=angle_axis.angle() / 2.0, axis=angle_axis.axis()),\n        X_GprepickGpreplace.translation() / 2.0 + np.array([0, -0.3, 0]),\n    )\n    X_WG[\"clearance\"] = X_WG[\"prepick\"] @ X_GprepickGclearance\n\n    # Now let's set the timing\n    times = {\"initial\": 0}\n    X_GinitialGprepick = X_G[\"initial\"].inverse() @ X_WG[\"prepick\"]\n    times[\"prepick\"] = times[\"initial\"] + 10.0 * np.linalg.norm(\n        X_GinitialGprepick.translation()\n    )\n    # Allow some time for the gripper to close.\n    times[\"pick_start\"] = times[\"prepick\"] + 2.0\n    times[\"pick_end\"] = times[\"pick_start\"] + 2.0\n    X_WG[\"pick_start\"] = X_WG[\"pick\"]\n    X_WG[\"pick_end\"] = X_WG[\"pick\"]\n    times[\"postpick\"] = times[\"pick_end\"] + 2.0\n    X_WG[\"postpick\"] = X_WG[\"prepick\"]\n    time_to_from_clearance = 10.0 * np.linalg.norm(X_GprepickGclearance.translation())\n    times[\"clearance\"] = times[\"postpick\"] + time_to_from_clearance\n    times[\"preplace\"] = times[\"clearance\"] + time_to_from_clearance\n    times[\"place_start\"] = times[\"preplace\"] + 2.0\n    times[\"place_end\"] = times[\"place_start\"] + 2.0\n    X_WG[\"place_start\"] = X_WG[\"place\"]\n    X_WG[\"place_end\"] = X_WG[\"place\"]\n    times[\"postplace\"] = times[\"place_end\"] + 2.0\n    X_WG[\"postplace\"] = X_WG[\"preplace\"]\n\n    return X_WG, times\n\n\nX_G = {\n    \"initial\": RigidTransform(\n        RotationMatrix.MakeXRotation(-np.pi / 2.0), [0, -0.25, 0.25]\n    )\n}\nX_O = {\n    \"initial\": RigidTransform(\n        RotationMatrix.MakeZRotation(np.pi / 2.0), [-0.2, -0.75, 0.025]\n    ),\n    \"goal\": RigidTransform(RotationMatrix.MakeZRotation(np.pi), [0.75, 0, 0.025]),\n}\nX_G, times = MakeGripperFrames(X_G, X_O)\nprint(\n    f\"Sanity check: The entire maneuver will take {times['postplace']} seconds to execute.\"\n)",
      "metadata": {
        "id": "zYuRDF6mSBx5",
        "colab": {},
        "colab_type": "code",
        "source_hash": null,
        "execution_start": 1727017519711,
        "execution_millis": 110,
        "deepnote_to_be_reexecuted": false,
        "cell_id": "37c779c1172a4841a356c5deb5174322",
        "deepnote_cell_type": "code"
      },
      "outputs": [
        {
          "name": "stdout",
          "text": "Sanity check: The entire maneuver will take 30.900220749318255 seconds to execute.\n",
          "output_type": "stream"
        }
      ],
      "outputs_reference": null,
      "execution_count": null,
      "block_group": "023bfe7b791449a19205f46b13b17cba",
      "content_dependencies": null
    },
    {
      "cell_type": "markdown",
      "source": "Here's a simple visualization of those frames.  Use the controls menu in meshcat to view the different objects on the different \"paths\" to understand which objects belong to which frames.  Everything look reasonable?\n\nTry changing the initial and final pose of the gripper / object.",
      "metadata": {
        "id": "JnmfEw0zgzsn",
        "colab_type": "text",
        "cell_id": "770e0305934c410a9c3f0f34a5081c6e",
        "deepnote_cell_type": "markdown"
      },
      "block_group": "393c0dd14f124cf79e1445966fab2f1f"
    },
    {
      "cell_type": "code",
      "source": "def visualize_gripper_frames(X_G, X_O):\n    builder = DiagramBuilder()\n\n    plant, scene_graph = AddMultibodyPlantSceneGraph(builder, time_step=0.0)\n    parser = Parser(plant, scene_graph)\n    parser.SetAutoRenaming(True)\n    for key, pose in X_G.items():\n        g = parser.AddModelsFromUrl(\n            \"package://drake_models/wsg_50_description/sdf/schunk_wsg_50_no_tip.sdf\"\n        )[0]\n        plant.WeldFrames(plant.world_frame(), plant.GetFrameByName(\"body\", g), pose)\n    for key, pose in X_O.items():\n        o = parser.AddModelsFromUrl(\n            \"package://drake_models/manipulation_station/061_foam_brick.sdf\"\n        )[0]\n        plant.WeldFrames(\n            plant.world_frame(), plant.GetFrameByName(\"base_link\", o), pose\n        )\n\n    plant.Finalize()\n\n    meshcat.Delete()\n    MeshcatVisualizer.AddToBuilder(builder, scene_graph, meshcat)\n\n    diagram = builder.Build()\n    context = diagram.CreateDefaultContext()\n    diagram.ForcedPublish(context)\n\n\nvisualize_gripper_frames(X_G, X_O)",
      "metadata": {
        "id": "oXh50Cf1hU6N",
        "colab": {},
        "colab_type": "code",
        "cell_id": "ded53f7be41d4ebc898ddafbc8ccb87e",
        "deepnote_cell_type": "code"
      },
      "outputs": [],
      "outputs_reference": null,
      "execution_count": null,
      "block_group": "fd044ed773be48fcafe9e9c4c96eb70b",
      "content_dependencies": null
    },
    {
      "cell_type": "markdown",
      "source": "# Pick and place trajectories\n\nWe've defined the keyframes, but now we will fill in timing details (what should be happening at each instant).\n\nInterpolating between the positions is quite simple; we can encode these details as a `PiecewisePolynomial` trajectory in $\\Re^3$ over time.  Interpolating over orientations requires more care.  We'll use `PiecewiseQuaternionSlerp` to do the job.\n\nSee the documentation of [PiecewisePose](https://drake.mit.edu/doxygen_cxx/classdrake_1_1trajectories_1_1_piecewise_pose.html#ae2f8a49b642aecb5c19ef3625be5e61d) for more details.",
      "metadata": {
        "id": "HmcG3b_xSeQR",
        "colab_type": "text",
        "cell_id": "54f0a6fec2fb4fe58eff1b1e57d88fd2",
        "deepnote_cell_type": "markdown"
      },
      "block_group": "2aaafec623fc4670a2966b3db8b425f3"
    },
    {
      "cell_type": "code",
      "source": "def MakeGripperPoseTrajectory(X_G, times):\n    \"\"\"\n    Constructs a gripper position trajectory from the plan \"sketch\".\n    \"\"\"\n\n    sample_times = []\n    poses = []\n    for name in [\n        \"initial\",\n        \"prepick\",\n        \"pick_start\",\n        \"pick_end\",\n        \"postpick\",\n        \"clearance\",\n        \"preplace\",\n        \"place_start\",\n        \"place_end\",\n        \"postplace\",\n    ]:\n        sample_times.append(times[name])\n        poses.append(X_G[name])\n\n    return PiecewisePose.MakeLinear(sample_times, poses)\n\n\ntraj_X_G = MakeGripperPoseTrajectory(X_G, times)",
      "metadata": {
        "id": "oiwljuszWh_O",
        "colab": {},
        "colab_type": "code",
        "cell_id": "dbc1d3f20e3c457199c285bf8c141801",
        "deepnote_cell_type": "code"
      },
      "outputs": [],
      "outputs_reference": null,
      "execution_count": null,
      "block_group": "e6b601e386684998bb7744ffd4e5dba0",
      "content_dependencies": null
    },
    {
      "cell_type": "markdown",
      "source": "Now let's plot our trajectories.",
      "metadata": {
        "id": "2PnYrnSmEMYC",
        "colab_type": "text",
        "cell_id": "5e401a43650d4f3db44abf5e0afacda5",
        "deepnote_cell_type": "markdown"
      },
      "block_group": "ffc18d8cecac4d11b97c1e4390bb44ab"
    },
    {
      "cell_type": "code",
      "source": "traj_p_G = traj_X_G.get_position_trajectory()\n\np_G = traj_p_G.vector_values(traj_p_G.get_segment_times())\nplt.plot(traj_p_G.get_segment_times(), p_G.T)\nplt.legend([\"x\", \"y\", \"z\"])\nplt.title(\"p_G\")\nmpld3.display()",
      "metadata": {
        "id": "Ppd-5B3V3cNC",
        "colab": {},
        "colab_type": "code",
        "cell_id": "4d45bb98ac9c4eba93ac9654adaed062",
        "deepnote_cell_type": "code"
      },
      "outputs": [],
      "outputs_reference": null,
      "execution_count": null,
      "block_group": "94366dd662f1421a86409c020217226d",
      "content_dependencies": null
    },
    {
      "cell_type": "markdown",
      "source": "We can also plot the trajectory in 3D directly in Meshcat.",
      "metadata": {
        "id": "yIVvA6ZoFLvt",
        "colab_type": "text",
        "cell_id": "72f89ebd518540a9b07f9602febcd63d",
        "deepnote_cell_type": "markdown"
      },
      "block_group": "c5db7467653349548d2bb635c22447da"
    },
    {
      "cell_type": "code",
      "source": "meshcat.ResetRenderMode()\nmeshcat.SetLine(\"p_G\", p_G, 2.0, rgba=Rgba(1, 0.65, 0))",
      "metadata": {
        "id": "2vgn7mxcDvlK",
        "colab": {},
        "colab_type": "code",
        "cell_id": "6159884c2a5442fa9bc88292da929308",
        "deepnote_cell_type": "code"
      },
      "outputs": [],
      "outputs_reference": null,
      "execution_count": null,
      "block_group": "119d7dc0bc0c4a2eac29edc546d83220",
      "content_dependencies": null
    },
    {
      "cell_type": "markdown",
      "source": "We can plot the orientation trajectory, too.  Here are the components of the quaternion over time.",
      "metadata": {
        "id": "zNNRr4Fq7frG",
        "colab_type": "text",
        "cell_id": "850dd6b3562d4bf1b2c81cef633bf70f",
        "deepnote_cell_type": "markdown"
      },
      "block_group": "74c82f88b47f4b82b7fbd73786e5cf33"
    },
    {
      "cell_type": "code",
      "source": "traj_R_G = traj_X_G.get_orientation_trajectory()\nR_G = traj_R_G.vector_values(traj_R_G.get_segment_times())\nplt.plot(traj_R_G.get_segment_times(), R_G.T)\nplt.legend([\"qx\", \"qy\", \"qz\", \"qw\"])\nplt.title(\"R_G\")\nmpld3.display()",
      "metadata": {
        "id": "4aKEnaLJ50pF",
        "colab": {},
        "colab_type": "code",
        "cell_id": "073c1e8a765944ad864e63611315caf1",
        "deepnote_cell_type": "code"
      },
      "outputs": [],
      "outputs_reference": null,
      "execution_count": null,
      "block_group": "6f95ad6b537141c29bbd74c78ba5eced",
      "content_dependencies": null
    },
    {
      "cell_type": "markdown",
      "source": "Better, I think, to just plot the entire result.  Before we do, let's quickly define the finger trajectory.",
      "metadata": {
        "id": "dWCyowMC8LUN",
        "colab_type": "text",
        "cell_id": "26816fa3c4dc4d43961a6553e3b67e95",
        "deepnote_cell_type": "markdown"
      },
      "block_group": "4cc65f36f3e64832940a4955cb8033c0"
    },
    {
      "cell_type": "code",
      "source": "def MakeGripperCommandTrajectory(times):\n    opened = np.array([0.107])\n    closed = np.array([0.0])\n\n    traj_wsg_command = PiecewisePolynomial.FirstOrderHold(\n        [times[\"initial\"], times[\"pick_start\"]],\n        np.hstack([[opened], [opened]]),\n    )\n    traj_wsg_command.AppendFirstOrderSegment(times[\"pick_end\"], closed)\n    traj_wsg_command.AppendFirstOrderSegment(times[\"place_start\"], closed)\n    traj_wsg_command.AppendFirstOrderSegment(times[\"place_end\"], opened)\n    traj_wsg_command.AppendFirstOrderSegment(times[\"postplace\"], opened)\n    return traj_wsg_command\n\n\ntraj_wsg_command = MakeGripperCommandTrajectory(times)",
      "metadata": {
        "id": "65OocrXD8TSA",
        "colab": {},
        "colab_type": "code",
        "cell_id": "20d69d7d6527497fb0655ff2f3110e04",
        "deepnote_cell_type": "code"
      },
      "outputs": [],
      "outputs_reference": null,
      "execution_count": null,
      "block_group": "cdcc94b087174808a9e458a2810d42c9",
      "content_dependencies": null
    },
    {
      "cell_type": "code",
      "source": "wsg_command = traj_wsg_command.vector_values(traj_wsg_command.get_segment_times())\nplt.plot(traj_wsg_command.get_segment_times(), wsg_command.T)\nplt.title(\"wsg_command\")\nmpld3.display()",
      "metadata": {
        "id": "aEc95stq9tyx",
        "colab": {},
        "colab_type": "code",
        "cell_id": "c74b82c0eeb74f268c80cc0e5f8f9257",
        "deepnote_cell_type": "code"
      },
      "outputs": [],
      "outputs_reference": null,
      "execution_count": null,
      "block_group": "0888280392684477abd70fc897fb3fb9",
      "content_dependencies": null
    },
    {
      "cell_type": "markdown",
      "source": "Now let's really visualize the trajectory.  The best way is to animate it in 3D!  Please forgive the messiness of this particular bit of code; I'm trying to provide some intermediate steps that aren't typically used by the main drake developers.\n\nTODO(russt): make this less \"bespoke\".",
      "metadata": {
        "id": "wrhTvm5eIJFi",
        "colab_type": "text",
        "cell_id": "9815891bf6774118977dfc8e8c0ca06f",
        "deepnote_cell_type": "markdown"
      },
      "block_group": "2e4f74b58c17407c864534b8f86581d1"
    },
    {
      "cell_type": "code",
      "source": "class GripperTrajectoriesToPosition(LeafSystem):\n    def __init__(self, plant, traj_p_G, traj_R_G, traj_wsg_command):\n        LeafSystem.__init__(self)\n        self.plant = plant\n        self.gripper_body = plant.GetBodyByName(\"body\")\n        self.left_finger_joint = plant.GetJointByName(\"left_finger_sliding_joint\")\n        self.right_finger_joint = plant.GetJointByName(\"right_finger_sliding_joint\")\n        self.traj_p_G = traj_p_G\n        self.traj_R_G = traj_R_G\n        self.traj_wsg_command = traj_wsg_command\n        self.plant_context = plant.CreateDefaultContext()\n\n        self.DeclareVectorOutputPort(\n            \"position\", plant.num_positions(), self.CalcPositionOutput\n        )\n\n    def CalcPositionOutput(self, context, output):\n        t = context.get_time()\n        X_G = RigidTransform(Quaternion(self.traj_R_G.value(t)), self.traj_p_G.value(t))\n        self.plant.SetFreeBodyPose(self.plant_context, self.gripper_body, X_G)\n        wsg = self.traj_wsg_command.value(t)[0, 0]\n        self.left_finger_joint.set_translation(self.plant_context, -wsg / 2.0)\n        self.right_finger_joint.set_translation(self.plant_context, wsg / 2.0)\n        output.SetFromVector(self.plant.GetPositions(self.plant_context))\n\n\ndef visualize_pick_and_place_trajectory(traj_p_G, traj_R_G, traj_wsg_command, X_O):\n    builder = DiagramBuilder()\n\n    # Note: Don't use AddMultibodyPlantSceneGraph because we are only using\n    # MultibodyPlant for parsing, then wiring directly to SceneGraph.\n    scene_graph = builder.AddSystem(SceneGraph())\n    plant = MultibodyPlant(time_step=0.0)\n    plant.RegisterAsSourceForSceneGraph(scene_graph)\n    parser = Parser(plant, scene_graph)\n    parser.SetAutoRenaming(True)\n    gripper = parser.AddModelsFromUrl(\n        \"package://drake_models/wsg_50_description/sdf/schunk_wsg_50_no_tip.sdf\"\n    )[0]\n    brick = \"package://drake_models/manipulation_station/061_foam_brick.sdf\"\n    for key, pose in X_O.items():\n        o = parser.AddModelsFromUrl(brick)[0]\n        plant.WeldFrames(\n            plant.world_frame(), plant.GetFrameByName(\"base_link\", o), pose\n        )\n    plant.Finalize()\n\n    to_pose = builder.AddSystem(MultibodyPositionToGeometryPose(plant))\n    builder.Connect(\n        to_pose.get_output_port(),\n        scene_graph.get_source_pose_port(plant.get_source_id()),\n    )\n\n    traj_to_position = builder.AddSystem(\n        GripperTrajectoriesToPosition(plant, traj_p_G, traj_R_G, traj_wsg_command)\n    )\n    builder.Connect(traj_to_position.get_output_port(), to_pose.get_input_port())\n\n    meshcat.Delete()\n    MeshcatVisualizer.AddToBuilder(builder, scene_graph, meshcat)\n\n    diagram = builder.Build()\n\n    simulator = Simulator(diagram)\n    meshcat.StartRecording(set_visualizations_while_recording=False)\n    simulator.AdvanceTo(traj_p_G.end_time() if running_as_notebook else 0.1)\n    meshcat.PublishRecording()\n\n\nvisualize_pick_and_place_trajectory(traj_p_G, traj_R_G, traj_wsg_command, X_O)",
      "metadata": {
        "id": "PZ7S7oai_ORF",
        "colab": {},
        "colab_type": "code",
        "cell_id": "15929a32d73a4da6823dab4d5887f073",
        "deepnote_cell_type": "code"
      },
      "outputs": [],
      "outputs_reference": null,
      "execution_count": null,
      "block_group": "fe818c9f348e48e4814af8ed47a1aba5",
      "content_dependencies": null
    },
    {
      "cell_type": "markdown",
      "source": "# Putting it all together\n\nIn the visualization above, we animated the plan, but did not actually command the robot!  Let's put our grasping trajectories back together with our Jacobian-based controller.\n\nThe first thing you might have noticed is that the Jacobian controller takes spatial velocities as input.  But so far we have trajectories for positions and orientations.  Let's differentiate them to get the velocities.",
      "metadata": {
        "id": "ue9ofS7GHpXr",
        "colab_type": "text",
        "cell_id": "68aafb6c40f244fbaace4eec67c3992a",
        "deepnote_cell_type": "markdown"
      },
      "block_group": "6e6c3b2889dd4cbaba1c1a0bf8473fc8"
    },
    {
      "cell_type": "code",
      "source": "traj_v_G = traj_p_G.MakeDerivative()\n\nv_G = traj_v_G.vector_values(traj_v_G.get_segment_times())\nplt.plot(traj_v_G.get_segment_times(), v_G.T)\nplt.legend([\"vx\", \"vy\", \"vz\"])\nplt.title(\"v_G\")\nmpld3.display()",
      "metadata": {
        "id": "MfaCoTnNXfjj",
        "colab": {},
        "colab_type": "code",
        "cell_id": "5d8e2669e735478e9a333b7b23c99568",
        "deepnote_cell_type": "code"
      },
      "outputs": [],
      "outputs_reference": null,
      "execution_count": null,
      "block_group": "5c97c1e5f35c4289b5c99bdde11fa078",
      "content_dependencies": null
    },
    {
      "cell_type": "markdown",
      "source": "Now we need a slightly modified version of our Jacobian controller, which can take the spatial velocity commands from an input port.",
      "metadata": {
        "id": "BrDNL8cvMo_o",
        "colab_type": "text",
        "cell_id": "d39649b3a92c414bad70d207c1e0d711",
        "deepnote_cell_type": "markdown"
      },
      "block_group": "196dd3a6e8bd4253b17a2c3d17208b79"
    },
    {
      "cell_type": "code",
      "source": "class PseudoInverseController(LeafSystem):\n    def __init__(self, plant):\n        LeafSystem.__init__(self)\n        self._plant = plant\n        self._plant_context = plant.CreateDefaultContext()\n        self._iiwa = plant.GetModelInstanceByName(\"iiwa\")\n        self._G = plant.GetBodyByName(\"body\").body_frame()\n        self._W = plant.world_frame()\n\n        self.V_G_port = self.DeclareVectorInputPort(\"V_WG\", 6)\n        self.q_port = self.DeclareVectorInputPort(\"iiwa.position\", 7)\n        self.DeclareVectorOutputPort(\"iiwa.velocity\", 7, self.CalcOutput)\n        self.iiwa_start = plant.GetJointByName(\"iiwa_joint_1\").velocity_start()\n        self.iiwa_end = plant.GetJointByName(\"iiwa_joint_7\").velocity_start()\n\n    def CalcOutput(self, context, output):\n        V_G = self.V_G_port.Eval(context)\n        q = self.q_port.Eval(context)\n        self._plant.SetPositions(self._plant_context, self._iiwa, q)\n        J_G = self._plant.CalcJacobianSpatialVelocity(\n            self._plant_context,\n            JacobianWrtVariable.kV,\n            self._G,\n            [0, 0, 0],\n            self._W,\n            self._W,\n        )\n        J_G = J_G[:, self.iiwa_start : self.iiwa_end + 1]  # Only iiwa terms.\n        v = np.linalg.pinv(J_G).dot(V_G)\n        output.SetFromVector(v)",
      "metadata": {
        "id": "nVKlTQKGKUU0",
        "colab": {},
        "colab_type": "code",
        "cell_id": "93473228f25e4c2897a0fd52833f8f2d",
        "deepnote_cell_type": "code"
      },
      "outputs": [],
      "outputs_reference": null,
      "execution_count": null,
      "block_group": "6973069295d84ecb96ea57b5dff03da4",
      "content_dependencies": null
    },
    {
      "cell_type": "markdown",
      "source": "Oh, boy.  Big moment.  I'm excited... are you?  Let's do this thing!",
      "metadata": {
        "id": "uM1pk1zzN9D3",
        "colab_type": "text",
        "cell_id": "e280cb9b74bf4e769e4a4f63249c5722",
        "deepnote_cell_type": "markdown"
      },
      "block_group": "26fc3ed99f7443429450ef725548e78b"
    },
    {
      "cell_type": "code",
      "source": "X_O = {\n    \"initial\": RigidTransform(\n        RotationMatrix.MakeZRotation(np.pi / 2.0), [0, -0.6, 0.0]\n    ),\n    \"goal\": RigidTransform(RotationMatrix.MakeZRotation(np.pi), [0.5, 0, 0.0]),\n}\n\nmeshcat.Delete()\nbuilder = DiagramBuilder()\n\nscenario_data = \"\"\"\ndirectives:\n- add_directives:\n    file: package://manipulation/clutter.dmd.yaml\n- add_model:\n    name: foam_brick\n    file: package://manipulation/hydro/061_foam_brick.sdf\nmodel_drivers:\n    iiwa: !IiwaDriver\n      control_mode: position_only\n      hand_model_name: wsg\n    wsg: !SchunkWsgDriver {}\n\"\"\"\n\nscenario = LoadScenario(data=scenario_data)\nstation = builder.AddSystem(MakeHardwareStation(scenario, meshcat=meshcat))\nplant = station.GetSubsystemByName(\"plant\")\nplant.SetDefaultFreeBodyPose(plant.GetBodyByName(\"base_link\"), X_O[\"initial\"])\n\n# Find the initial pose of the gripper and object (as set in the default Context)\ntemp_context = station.CreateDefaultContext()\ntemp_plant_context = plant.GetMyContextFromRoot(temp_context)\nX_G = {\n    \"initial\": plant.EvalBodyPoseInWorld(\n        temp_plant_context, plant.GetBodyByName(\"body\")\n    )\n}\nX_O[\"initial\"] = plant.EvalBodyPoseInWorld(\n    temp_plant_context, plant.GetBodyByName(\"base_link\")\n)\nX_G, times = MakeGripperFrames(X_G, X_O)\nprint(\n    f\"Sanity check: The entire maneuver will take {times['postplace']} seconds to execute.\"\n)\n\n# Make the trajectories\ntraj = MakeGripperPoseTrajectory(X_G, times)\ntraj_V_G = traj.MakeDerivative()\n\nV_G_source = builder.AddSystem(TrajectorySource(traj_V_G))\nV_G_source.set_name(\"v_WG\")\ncontroller = builder.AddSystem(PseudoInverseController(plant))\ncontroller.set_name(\"PseudoInverseController\")\nbuilder.Connect(V_G_source.get_output_port(), controller.GetInputPort(\"V_WG\"))\n\nintegrator = builder.AddSystem(Integrator(7))\nintegrator.set_name(\"integrator\")\nbuilder.Connect(controller.get_output_port(), integrator.get_input_port())\nbuilder.Connect(integrator.get_output_port(), station.GetInputPort(\"iiwa.position\"))\nbuilder.Connect(\n    station.GetOutputPort(\"iiwa.position_measured\"),\n    controller.GetInputPort(\"iiwa.position\"),\n)\n\ntraj_wsg_command = MakeGripperCommandTrajectory(times)\nwsg_source = builder.AddSystem(TrajectorySource(traj_wsg_command))\nwsg_source.set_name(\"wsg.command\")\nbuilder.Connect(wsg_source.get_output_port(), station.GetInputPort(\"wsg.position\"))\n\ndiagram = builder.Build()\ndiagram.set_name(\"pick_and_place\")\n\nsimulator = Simulator(diagram)\ncontext = simulator.get_mutable_context()\nstation_context = station.GetMyContextFromRoot(context)\nintegrator.set_integral_value(\n    integrator.GetMyContextFromRoot(context),\n    plant.GetPositions(\n        plant.GetMyContextFromRoot(context),\n        plant.GetModelInstanceByName(\"iiwa\"),\n    ),\n)\n\ndiagram.ForcedPublish(context)\nmeshcat.StartRecording()\nsimulator.AdvanceTo(traj_p_G.end_time() if running_as_notebook else 0.1)\nmeshcat.PublishRecording()",
      "metadata": {
        "id": "hDrXl1oSNt6u",
        "colab": {},
        "colab_type": "code",
        "cell_id": "ce14a9e3824c4f5aa48745f4ed526879",
        "deepnote_cell_type": "code"
      },
      "outputs": [],
      "outputs_reference": null,
      "execution_count": null,
      "block_group": "06aedc679704453f8c257a79edc7ed33",
      "content_dependencies": null
    },
    {
      "cell_type": "markdown",
      "source": "That's quite some diagram we've assembled.  Do you understand all of the parts?",
      "metadata": {
        "id": "AeKMhIacWZ00",
        "colab_type": "text",
        "cell_id": "4d770e40c0814d56b1c81a0f69b81261",
        "deepnote_cell_type": "markdown"
      },
      "block_group": "bf2ebc55f4914cafa4d656fb4565c662"
    },
    {
      "cell_type": "code",
      "source": "RenderDiagram(diagram, max_depth=1)",
      "metadata": {
        "id": "ZWXemy-bUAab",
        "colab": {},
        "colab_type": "code",
        "cell_id": "bfd5ed8a0521420ab7a29313893d3eb4",
        "deepnote_cell_type": "code"
      },
      "outputs": [],
      "outputs_reference": null,
      "execution_count": null,
      "block_group": "0754c92eb2b04cfc943bb4fe4050fbb6",
      "content_dependencies": null
    },
    {
      "cell_type": "code",
      "source": "",
      "metadata": {
        "id": "JX1Oq7gfWsBD",
        "colab": {},
        "colab_type": "code",
        "cell_id": "9471bbc0f5064d0b904dba5d4f5b3938",
        "deepnote_cell_type": "code"
      },
      "outputs": [],
      "outputs_reference": null,
      "execution_count": null,
      "block_group": "a63233811c304ba08812fb2d9b5c3cdf",
      "content_dependencies": null
    },
    {
      "cell_type": "markdown",
      "source": "<a style='text-decoration:none;line-height:16px;display:flex;color:#5B5B62;padding:10px;justify-content:end;' href='https://deepnote.com?utm_source=created-in-deepnote-cell&projectId=8a9c9b8b-9356-4af8-b9c8-57ff4e9f05f3' target=\"_blank\">\n<img alt='Created in deepnote.com' style='display:inline;max-height:16px;margin:0px;margin-right:7.5px;' src='data:image/svg+xml;base64,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' > </img>\nCreated in <span style='font-weight:600;margin-left:4px;'>Deepnote</span></a>",
      "metadata": {
        "created_in_deepnote_cell": true,
        "deepnote_cell_type": "markdown"
      }
    }
  ],
  "nbformat": 4,
  "nbformat_minor": 0,
  "metadata": {
    "deepnote_notebook_id": "0487cfc0ed1c49a28acc2b72f330f288",
    "deepnote_execution_queue": []
  }
}