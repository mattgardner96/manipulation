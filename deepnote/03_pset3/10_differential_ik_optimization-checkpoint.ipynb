{
  "cells": [
    {
      "cell_type": "markdown",
      "source": "## **Differential IK as Optimization**",
      "metadata": {
        "id": "1VDev4CDWBdP",
        "colab_type": "text",
        "cell_id": "7b547000546e44a8a38af998437ea89b",
        "deepnote_cell_type": "markdown"
      },
      "block_group": "966eadb14e9c4f29be4d53b14f778791"
    },
    {
      "cell_type": "code",
      "source": "import numpy as np\nfrom pydrake.all import (\n    Box,\n    ConstantVectorSource,\n    DiagramBuilder,\n    Integrator,\n    JacobianWrtVariable,\n    LeafSystem,\n    MathematicalProgram,\n    Rgba,\n    RigidTransform,\n    Simulator,\n    SnoptSolver,\n    StartMeshcat,\n    ge,\n    le,\n)\n\nfrom manipulation import running_as_notebook\nfrom manipulation.exercises.grader import Grader\nfrom manipulation.exercises.pick.test_differential_ik import TestDifferentialIK\nfrom manipulation.station import LoadScenario, MakeHardwareStation\nfrom manipulation.utils import RenderDiagram",
      "metadata": {
        "id": "tFMmTfbHWQfh",
        "colab": {},
        "colab_type": "code",
        "lines_to_end_of_cell_marker": 2,
        "cell_id": "85fdc48e15524523bd69fc7a849b3f08",
        "deepnote_cell_type": "code"
      },
      "outputs": [],
      "outputs_reference": null,
      "execution_count": 1,
      "block_group": "6e35e31b49d34796be0049137f264731",
      "content_dependencies": null
    },
    {
      "cell_type": "code",
      "source": "# Start the visualizer.\nmeshcat = StartMeshcat()",
      "metadata": {
        "cell_id": "913fe7fe693b46b4a3101c99040067c8",
        "deepnote_cell_type": "code"
      },
      "outputs": [
        {
          "name": "stderr",
          "output_type": "stream",
          "text": "INFO:drake:Meshcat listening for connections at http://localhost:7000\n"
        }
      ],
      "outputs_reference": null,
      "execution_count": 2,
      "block_group": "6ec120ae68ca422397b20c03a3931e10",
      "content_dependencies": null
    },
    {
      "cell_type": "markdown",
      "source": "## Problem Description\nIn the lecture, we learned about how to view Differential inverse kinematics as an instance of optimization. In this exercise, we will actually define and solve these optimization problems!\n\nThe goal of the exercise is to see if you can apply the optimization techniques we learned in class to design your own controller.\n\n**These are the main steps of the exercise:**\n1. Write down the JacobianPseudoinverse controller as an optimization-based framework with joint-velocity constraints.\n2. Design and implement a virtual wall for the manipulator through constraints in the end-effector space.",
      "metadata": {
        "id": "mcSz0hOVtBd5",
        "colab_type": "text",
        "cell_id": "5462e60483554e4889ff659efab541a4",
        "deepnote_cell_type": "markdown"
      },
      "block_group": "c55a3ba2081c41afb0aebc28ea87ce57"
    },
    {
      "cell_type": "markdown",
      "source": "## The Differential IK System\n\nAs we've seen in the lecture, a differential IK converts a desired end-effector velocity to joint velocities. From drake's system view of the world, how should we abstract this?\n\nIt would be reasonable to make it a `LeafSystem`, where the input is `spatial velocity_desired`, and the output is `iiwa_velocity_commanded`. We might also need an input port of `iiwa_position_measured` since our Jacobian is a function of the joint angles, and `iiwa_velocity_esimated` in case we want to use that information.\n\n<img src=\"https://raw.githubusercontent.com/RussTedrake/manipulation/master/book/figures/exercises/diffik_system.png\" width=\"700\">\n\nSince we will be going through different implementations of DifferentialIK, let's set up a DifferentialIKSystem that accepts a function to compute joint velocities upon getting the Jacobian, desired spatial velocity, and other information from the robot.",
      "metadata": {
        "id": "f6M3qJIHVQ-y",
        "colab_type": "text",
        "cell_id": "ecc6cd1d66284dc6926830a3ef1445d6",
        "deepnote_cell_type": "markdown"
      },
      "block_group": "7e37a5ca360b4633bccfae68cc190e57"
    },
    {
      "cell_type": "markdown",
      "source": "We will also abstract all the Drake workings into a wrapper `BuildAndSimulate`, which constructs and connects the following systems:\n- `HardwareStation`\n- `DifferentialIKSystem`\n- `ConstantVectorSource` for commanding desired velocity to controller.\n- `Integrator` to go from `iiwa.velocity` output of controller to `iiwa.position` input of `HardwareStation`.\n\nThe purpose of this function is to swap out different implementations of spatial-to-joint velocity mappings on the fly and simulate!\n",
      "metadata": {
        "id": "gfcK2R9WgnPe",
        "colab_type": "text",
        "cell_id": "a6ee0c876146492994caa3881351b40e",
        "deepnote_cell_type": "markdown"
      },
      "block_group": "c7442c06c4d747c98309bf5e721b4208"
    },
    {
      "cell_type": "code",
      "source": "class DifferentialIKSystem(LeafSystem):\n    \"\"\"Wrapper system for Differential IK.\n    @param plant MultibodyPlant of the simulated plant.\n    @param diffik_fun function object that handles diffik. Must have the signature\n           diffik_fun(J_G, V_G_desired, q_now, v_now, X_now)\n    \"\"\"\n\n    def __init__(self, plant, diffik_fun):\n        LeafSystem.__init__(self)\n        self._plant = plant\n        self._plant_context = plant.CreateDefaultContext()\n        self._iiwa = plant.GetModelInstanceByName(\"iiwa\")\n        self._G = plant.GetBodyByName(\"body\").body_frame()\n        self._W = plant.world_frame()\n        self._diffik_fun = diffik_fun\n\n        self.DeclareVectorInputPort(\"spatial_velocity\", 6)\n        self.DeclareVectorInputPort(\"iiwa.position_measured\", 7)\n        self.DeclareVectorInputPort(\"iiwa.velocity_measured\", 7)\n        self.DeclareVectorOutputPort(\"iiwa_velocity_command\", 7, self.CalcOutput)\n\n    def CalcOutput(self, context, output):\n        V_G_desired = self.get_input_port(0).Eval(context)\n        q_now = self.get_input_port(1).Eval(context)\n        v_now = self.get_input_port(2).Eval(context)\n\n        self._plant.SetPositions(self._plant_context, self._iiwa, q_now)\n        J_G = self._plant.CalcJacobianSpatialVelocity(\n            self._plant_context,\n            JacobianWrtVariable.kQDot,\n            self._G,\n            [0, 0, 0],\n            self._W,\n            self._W,\n        )\n        J_G = J_G[:, 0:7]  # Ignore gripper terms\n\n        X_now = self._plant.CalcRelativeTransform(self._plant_context, self._W, self._G)\n        p_now = X_now.translation()\n\n        v = self._diffik_fun(J_G, V_G_desired, q_now, v_now, p_now)\n        output.SetFromVector(v)\n\n\ndef BuildAndSimulate(diffik_fun, V_d, duration, plot_system_diagram=False):\n    builder = DiagramBuilder()\n\n    scenario_data = \"\"\"\n    directives:\n    - add_directives:\n        file: package://manipulation/clutter.dmd.yaml\n    model_drivers:\n        iiwa: !IiwaDriver\n            hand_model_name: wsg\n        wsg: !SchunkWsgDriver {}\n    \"\"\"\n    scenario = LoadScenario(data=scenario_data)\n    station = builder.AddSystem(MakeHardwareStation(scenario, meshcat=meshcat))\n    plant = station.GetSubsystemByName(\"plant\")\n\n    controller = builder.AddSystem(DifferentialIKSystem(plant, diffik_fun))\n    integrator = builder.AddSystem(Integrator(7))\n    desired_vel = builder.AddSystem(ConstantVectorSource(V_d))\n\n    builder.Connect(controller.get_output_port(), integrator.get_input_port())\n    builder.Connect(integrator.get_output_port(), station.GetInputPort(\"iiwa.position\"))\n    builder.Connect(\n        station.GetOutputPort(\"iiwa.position_measured\"),\n        controller.get_input_port(1),\n    )\n    builder.Connect(\n        station.GetOutputPort(\"iiwa.velocity_estimated\"),\n        controller.get_input_port(2),\n    )\n    builder.Connect(desired_vel.get_output_port(), controller.get_input_port(0))\n\n    diagram = builder.Build()\n    diagram.set_name(\"diagram\")\n    if running_as_notebook and plot_system_diagram:\n        RenderDiagram(diagram)\n\n    simulator = Simulator(diagram)\n    context = simulator.get_mutable_context()\n    station_context = station.GetMyContextFromRoot(context)\n    station.GetInputPort(\"iiwa.torque\").FixValue(station_context, np.zeros((7, 1)))\n    station.GetInputPort(\"wsg.position\").FixValue(station_context, [0.1])\n\n    integrator.set_integral_value(\n        integrator.GetMyMutableContextFromRoot(context),\n        plant.GetPositions(\n            plant.GetMyContextFromRoot(context),\n            plant.GetModelInstanceByName(\"iiwa\"),\n        ),\n    )\n\n    meshcat.StartRecording()\n    simulator.AdvanceTo(duration)\n    meshcat.PublishRecording()",
      "metadata": {
        "id": "F24X_misbTFj",
        "colab": {},
        "colab_type": "code",
        "cell_id": "45522c066b574cbe832c4e00a50d3a51",
        "deepnote_cell_type": "code"
      },
      "outputs": [],
      "outputs_reference": null,
      "execution_count": 3,
      "block_group": "0629d116858047e79394549fa2fd97f1",
      "content_dependencies": null
    },
    {
      "cell_type": "markdown",
      "source": "Let's just make sure we've got all the systems and connections right by hooking this up with out Baseclass controller `DifferentialIKBaseSystem` that outputs zero velocities, and looking at the diagram.\n\nFor differential IK, we'll just set it up with a function that always outputs zeroes for now.",
      "metadata": {
        "id": "1bRwOKRrrdQw",
        "colab_type": "text",
        "cell_id": "6ab2328f8b6d42a084625dd52f9b4ce1",
        "deepnote_cell_type": "markdown"
      },
      "block_group": "38fa978b8fa944a0b437de8e2aa40d62"
    },
    {
      "cell_type": "code",
      "source": "def DiffIK_Zero(J_G, V_G_desired, q_now, v_now, p_now):\n    return np.zeros(7)\n\n\nV_d = np.zeros(6)\nBuildAndSimulate(\n    DiffIK_Zero,\n    V_d,\n    duration=5.0 if running_as_notebook else 0.1,\n    plot_system_diagram=True,\n)",
      "metadata": {
        "id": "Bd5544l6rhVI",
        "colab": {},
        "colab_type": "code",
        "cell_id": "b2d621cdc21f477c9477c6a81b3ed030",
        "deepnote_cell_type": "code"
      },
      "outputs": [
        {
          "ename": "RuntimeError",
          "evalue": "/home/nep/manipulation/manipulation/models/hydro/schunk_wsg_50_with_tip.sdf:5: error: URI 'package://drake_models/wsg_50_description/meshes/wsg_body.obj' resolved to '/home/nep/.cache/drake/package_map/bacc01fba8f324b8dce1d15ae98083fa7e61463d0d278df46f198c2e3ae14abd-d542c1cfb057a27398ab0b818609a2edb14ec9c621b58dc2d78af6daa96f8056/wsg_50_description/meshes/wsg_body.obj' which does not exist.",
          "output_type": "error",
          "traceback": [
            "\u001b[0;31m---------------------------------------------------------------------------\u001b[0m",
            "\u001b[0;31mRuntimeError\u001b[0m                              Traceback (most recent call last)",
            "Cell \u001b[0;32mIn[4], line 6\u001b[0m\n\u001b[1;32m      2\u001b[0m     \u001b[38;5;28;01mreturn\u001b[39;00m np\u001b[38;5;241m.\u001b[39mzeros(\u001b[38;5;241m7\u001b[39m)\n\u001b[1;32m      5\u001b[0m V_d \u001b[38;5;241m=\u001b[39m np\u001b[38;5;241m.\u001b[39mzeros(\u001b[38;5;241m6\u001b[39m)\n\u001b[0;32m----> 6\u001b[0m \u001b[43mBuildAndSimulate\u001b[49m\u001b[43m(\u001b[49m\n\u001b[1;32m      7\u001b[0m \u001b[43m    \u001b[49m\u001b[43mDiffIK_Zero\u001b[49m\u001b[43m,\u001b[49m\n\u001b[1;32m      8\u001b[0m \u001b[43m    \u001b[49m\u001b[43mV_d\u001b[49m\u001b[43m,\u001b[49m\n\u001b[1;32m      9\u001b[0m \u001b[43m    \u001b[49m\u001b[43mduration\u001b[49m\u001b[38;5;241;43m=\u001b[39;49m\u001b[38;5;241;43m5.0\u001b[39;49m\u001b[43m \u001b[49m\u001b[38;5;28;43;01mif\u001b[39;49;00m\u001b[43m \u001b[49m\u001b[43mrunning_as_notebook\u001b[49m\u001b[43m \u001b[49m\u001b[38;5;28;43;01melse\u001b[39;49;00m\u001b[43m \u001b[49m\u001b[38;5;241;43m0.1\u001b[39;49m\u001b[43m,\u001b[49m\n\u001b[1;32m     10\u001b[0m \u001b[43m    \u001b[49m\u001b[43mplot_system_diagram\u001b[49m\u001b[38;5;241;43m=\u001b[39;49m\u001b[38;5;28;43;01mTrue\u001b[39;49;00m\u001b[43m,\u001b[49m\n\u001b[1;32m     11\u001b[0m \u001b[43m)\u001b[49m\n",
            "Cell \u001b[0;32mIn[3], line 58\u001b[0m, in \u001b[0;36mBuildAndSimulate\u001b[0;34m(diffik_fun, V_d, duration, plot_system_diagram)\u001b[0m\n\u001b[1;32m     48\u001b[0m scenario_data \u001b[38;5;241m=\u001b[39m \u001b[38;5;124m\"\"\"\u001b[39m\n\u001b[1;32m     49\u001b[0m \u001b[38;5;124mdirectives:\u001b[39m\n\u001b[1;32m     50\u001b[0m \u001b[38;5;124m- add_directives:\u001b[39m\n\u001b[0;32m   (...)\u001b[0m\n\u001b[1;32m     55\u001b[0m \u001b[38;5;124m    wsg: !SchunkWsgDriver \u001b[39m\u001b[38;5;132;01m{}\u001b[39;00m\n\u001b[1;32m     56\u001b[0m \u001b[38;5;124m\u001b[39m\u001b[38;5;124m\"\"\"\u001b[39m\n\u001b[1;32m     57\u001b[0m scenario \u001b[38;5;241m=\u001b[39m LoadScenario(data\u001b[38;5;241m=\u001b[39mscenario_data)\n\u001b[0;32m---> 58\u001b[0m station \u001b[38;5;241m=\u001b[39m builder\u001b[38;5;241m.\u001b[39mAddSystem(\u001b[43mMakeHardwareStation\u001b[49m\u001b[43m(\u001b[49m\u001b[43mscenario\u001b[49m\u001b[43m,\u001b[49m\u001b[43m \u001b[49m\u001b[43mmeshcat\u001b[49m\u001b[38;5;241;43m=\u001b[39;49m\u001b[43mmeshcat\u001b[49m\u001b[43m)\u001b[49m)\n\u001b[1;32m     59\u001b[0m plant \u001b[38;5;241m=\u001b[39m station\u001b[38;5;241m.\u001b[39mGetSubsystemByName(\u001b[38;5;124m\"\u001b[39m\u001b[38;5;124mplant\u001b[39m\u001b[38;5;124m\"\u001b[39m)\n\u001b[1;32m     61\u001b[0m controller \u001b[38;5;241m=\u001b[39m builder\u001b[38;5;241m.\u001b[39mAddSystem(DifferentialIKSystem(plant, diffik_fun))\n",
            "File \u001b[0;32m~/manipulation/manipulation/station.py:932\u001b[0m, in \u001b[0;36mMakeHardwareStation\u001b[0;34m(scenario, meshcat, package_xmls, hardware, parser_preload_callback, parser_prefinalize_callback, prebuild_callback)\u001b[0m\n\u001b[1;32m    929\u001b[0m     parser_preload_callback(parser)\n\u001b[1;32m    931\u001b[0m \u001b[38;5;66;03m# Add model directives.\u001b[39;00m\n\u001b[0;32m--> 932\u001b[0m added_models \u001b[38;5;241m=\u001b[39m \u001b[43mProcessModelDirectives\u001b[49m\u001b[43m(\u001b[49m\n\u001b[1;32m    933\u001b[0m \u001b[43m    \u001b[49m\u001b[43mdirectives\u001b[49m\u001b[38;5;241;43m=\u001b[39;49m\u001b[43mModelDirectives\u001b[49m\u001b[43m(\u001b[49m\u001b[43mdirectives\u001b[49m\u001b[38;5;241;43m=\u001b[39;49m\u001b[43mscenario\u001b[49m\u001b[38;5;241;43m.\u001b[39;49m\u001b[43mdirectives\u001b[49m\u001b[43m)\u001b[49m\u001b[43m,\u001b[49m\n\u001b[1;32m    934\u001b[0m \u001b[43m    \u001b[49m\u001b[43mparser\u001b[49m\u001b[38;5;241;43m=\u001b[39;49m\u001b[43mparser\u001b[49m\u001b[43m,\u001b[49m\n\u001b[1;32m    935\u001b[0m \u001b[43m\u001b[49m\u001b[43m)\u001b[49m\n\u001b[1;32m    937\u001b[0m \u001b[38;5;28;01mif\u001b[39;00m parser_prefinalize_callback:\n\u001b[1;32m    938\u001b[0m     parser_prefinalize_callback(parser)\n",
            "\u001b[0;31mRuntimeError\u001b[0m: /home/nep/manipulation/manipulation/models/hydro/schunk_wsg_50_with_tip.sdf:5: error: URI 'package://drake_models/wsg_50_description/meshes/wsg_body.obj' resolved to '/home/nep/.cache/drake/package_map/bacc01fba8f324b8dce1d15ae98083fa7e61463d0d278df46f198c2e3ae14abd-d542c1cfb057a27398ab0b818609a2edb14ec9c621b58dc2d78af6daa96f8056/wsg_50_description/meshes/wsg_body.obj' which does not exist."
          ]
        }
      ],
      "outputs_reference": null,
      "execution_count": 4,
      "block_group": "94ff1e8591da4edf8f5b36791c0580e8",
      "content_dependencies": null
    },
    {
      "cell_type": "markdown",
      "source": "You should see that the manipulator just stays still since our base class keeps sending zero-velocity.",
      "metadata": {
        "id": "8we5cXEJs-jg",
        "colab_type": "text",
        "cell_id": "f8b7919aed634600b0db9c93e23bfcad",
        "deepnote_cell_type": "markdown"
      },
      "block_group": "c900d6fb85f343f4985bea4ad61e1fa7"
    },
    {
      "cell_type": "markdown",
      "source": "## Differential IK through Inverse Jacobian\n\nThat was some setup to get through the basic tools, but now we're onto the main part of the set! In class, we've seen that in order to map a desired spatial velocity $V^G$ to desired joint velocities, we can use the relation\n\n$$V^G = J^G(q) v$$\n\nand \"invert\" this with a Moore-Penrose pseudoinverse to achieve differential kinematics:\n\n$$v = [J^G(q)]^{+} V^{G}$$\n\nWe can implement this controller fairly easily:",
      "metadata": {
        "id": "Y90FlVastwCq",
        "colab_type": "text",
        "cell_id": "56f9856ddff34b8a916136c4bd8bbddb",
        "deepnote_cell_type": "markdown"
      },
      "block_group": "9b712e0f976e473c8d5612628b2cf6df"
    },
    {
      "cell_type": "code",
      "source": "def DiffIKPseudoInverse(J_G, V_G_desired, q_now, v_now, p_now):\n    v = np.linalg.pinv(J_G).dot(V_G_desired)\n    return v",
      "metadata": {
        "id": "q6Ko4z4UZ-ZZ",
        "colab": {},
        "colab_type": "code",
        "cell_id": "768b64e5695b4e65b65cf8bfea6f6e3e",
        "deepnote_cell_type": "code"
      },
      "outputs": [],
      "outputs_reference": null,
      "execution_count": null,
      "block_group": "9f36f443a3924a849b7c4db629a306c9",
      "content_dependencies": null
    },
    {
      "cell_type": "markdown",
      "source": "Let's simulate this system forward. Run the cell below. If Meshcat takes a long time to load, then you can always play back / scroll through the animation using the controls panel in Meshcat.",
      "metadata": {
        "id": "uT0E0rrwwVfV",
        "colab_type": "text",
        "cell_id": "21331cdc3a6d42ce9067cec1efadbe8c",
        "deepnote_cell_type": "markdown"
      },
      "block_group": "ecccbf0b5ec247be93bcafd5a2bb67b1"
    },
    {
      "cell_type": "code",
      "source": "# Corresponds to [wx, wy, wz, vx, vy, vz]\nV_d = np.array([0.0, 0.0, 0.0, 0.1, 0.0, 0])\nBuildAndSimulate(DiffIKPseudoInverse, V_d, duration=7.0 if running_as_notebook else 0.1)",
      "metadata": {
        "id": "6aVPMECDxmwm",
        "colab": {},
        "colab_type": "code",
        "cell_id": "8cd89c84dced4c04a62479d0ab68705b",
        "deepnote_cell_type": "code"
      },
      "outputs": [],
      "outputs_reference": null,
      "execution_count": null,
      "block_group": "2c753f4d468b48ce8eb01d339bcf3f2e",
      "content_dependencies": null
    },
    {
      "cell_type": "markdown",
      "source": "Wow - what just happened? There are several things you should have noticed.\n- The robot did its job by going 0.1m/s in the x-direction (for anyone not familiar, there is a 'world-frame' axis colored by RGB. The usual convention is that RGB corresponds respectively to XYZ axii. Note that the robot is moving in the direction of the red axis as expected)\n- When the robot reached the end of its workspace, it freaked out, jerking unexpectedly.\n\nImagine thinking the PseudoInverse method was a good idea, implementing the controller, then running this in a real robot - something might have gone badly wrong!",
      "metadata": {
        "id": "73VXtApc0fCO",
        "colab_type": "text",
        "cell_id": "506bdb0d494246aaa8d199428fee4997",
        "deepnote_cell_type": "markdown"
      },
      "block_group": "b77e4f7b949e46119b708d409dc43e2d"
    },
    {
      "cell_type": "markdown",
      "source": "## Pseudoinverse as Optimization\n\nEven though the method got unreliable at the limits of the kinematic workspace (i.e. under kinematic singularities), it worked reasonably well. How do we keep the benefits of the original method while improving behavior near singularities?\n\nOne idea presented in class is to stick to a certain **joint velocity limit**. This will at least prevent the manipulator from doing something crazy.\n\n**Now it's your turn to code!**\n\nIn the language of optimization, the problem we are trying to solve will look like:\n\n$$\\begin{aligned} \\min_v \\quad & \\|\\mathbf{J}(q)v - V_d\\|^2_2 \\\\ \\textrm{s.t.} \\quad &  |v|\\leq v_{max} \\end{aligned}$$\n\nBelow, you must transcribe and solve this optimization problem through `MathematicalProgram`.\n\nNOTE: The absolute value is taken element wise, so the last constraint is really saying \"for all $i$, make sure none of the elements of $|v[i]|$ exceed $v_{max}[i]$. Such constraints are also called Bounding Box constraints.\n\nHINT: We can't directly enter absolute values as a constraint in `MathematicalProgram`, but we can break down the absolute value constraint into two separate constraints.\n\nNOTE: If you're not familiar with how to write down mathematical program, make sure you do the `intro_to_qp` exercise on the textbook first. If you're still stuck, feel free to get more practice from [this notebook tutorial](https://deepnote.com/workspace/Drake-0b3b2c53-a7ad-441b-80f8-bf8350752305/project/Tutorials-2b4fc509-aef2-417d-a40d-6071dfed9199/notebook/mathematical_program-4c4f4de7d5d3452daacf45c20b315d31), or look at the [`pydrake` documentation on `MathematicalProgram`](https://drake.mit.edu/pydrake/pydrake.solvers.html#pydrake.solvers.MathematicalProgram).",
      "metadata": {
        "id": "q7r1Fa3B2AWk",
        "colab_type": "text",
        "cell_id": "d4635247630f4eecb9a5c734e6c4f988",
        "deepnote_cell_type": "markdown"
      },
      "block_group": "9199a843ac6745b5b20b5051f36ebad6"
    },
    {
      "cell_type": "code",
      "source": "def DiffIKQP(J_G, V_G_desired, q_now, v_now, p_now):\n    prog = MathematicalProgram()\n    v = prog.NewContinuousVariables(7, \"v\")\n    v_max = 3.0  # do not modify\n\n    # Add cost and constraints to prog here.\n\n    solver = SnoptSolver()\n    result = solver.Solve(prog)\n\n    if not (result.is_success()):\n        raise ValueError(\"Could not find the optimal solution.\")\n\n    v_solution = result.GetSolution(v)\n\n    return v_solution",
      "metadata": {
        "id": "4YKMRp3gDY0R",
        "colab": {},
        "colab_type": "code",
        "cell_id": "c46b189cc24145e89d4d331f1f5b87d2",
        "deepnote_cell_type": "code"
      },
      "outputs": [],
      "outputs_reference": null,
      "execution_count": null,
      "block_group": "dce2427a5188407890e1ce8830bcfb97",
      "content_dependencies": null
    },
    {
      "cell_type": "markdown",
      "source": "When you're ready to test out your new method, you can run the simulator to see what happens. Similar to last time, wait until everything loads on Meshcat and run the second cell below to simulate forward.",
      "metadata": {
        "id": "QTplFYdQ-Gps",
        "colab_type": "text",
        "cell_id": "c4e644fdbe80489f9912f6bd803fdf32",
        "deepnote_cell_type": "markdown"
      },
      "block_group": "1a6d4ccd123e466ca95ee4351e4c8eeb"
    },
    {
      "cell_type": "code",
      "source": "V_d = np.array(\n    [0.0, 0.0, 0.0, 0.1, 0.0, 0.0]\n)  # Feel free to play around with different V_desired\nsimulator = BuildAndSimulate(\n    DiffIKQP, V_d, duration=7.0 if running_as_notebook else 0.1\n)",
      "metadata": {
        "id": "UD-ZLidi-Pul",
        "colab": {},
        "colab_type": "code",
        "cell_id": "d14b75eaf77c46899c617ba4a5b4b01b",
        "deepnote_cell_type": "code"
      },
      "outputs": [],
      "outputs_reference": null,
      "execution_count": null,
      "block_group": "6b3ba30cd7dd4452b73d254c353f3fad",
      "content_dependencies": null
    },
    {
      "cell_type": "markdown",
      "source": "When you have implemented things correctly, you should see we behave much better near singularities now, since we're constraining joint velocities. This is nice - even if the Jacobian becomes singular, we can guard against sudden jerky movements because we've put limits.",
      "metadata": {
        "id": "ZggOGhgPXFLj",
        "colab_type": "text",
        "cell_id": "5646f4c4f5a942588628db63f1b1c856",
        "deepnote_cell_type": "markdown"
      },
      "block_group": "ef4910d1e9b340c59509b98575db5f5a"
    },
    {
      "cell_type": "markdown",
      "source": "## An Virtual Wall in End-Effector Space\n\nIn class, we saw that in addition to doing joint velocity constraints, we can also put constraints on **joint positions** and **accelerations** through first-order Euler finite difference. Given $v_{now}$ and $q_{now}$, we can find $v$ that satisfies the following program:\n\n$$\\begin{aligned} \\min_v \\quad & \\|\\mathbf{J}(q_{now})v - V_d\\|^2_2 \\\\ \\textrm{s.t.} \\quad &  |v|\\leq v_{max} \\\\  \\quad & q_{min} \\leq q_{now} + h v \\leq q_{max} \\\\ \\quad & a_{min} \\leq (v-v_{now})/h \\leq a_{max}\\end{aligned}$$\n\nAll of these constraints are formulated in the joint-space. But could we also end up with a linear constraint if we try to impose a constraint in the end-effector space?\n\n**Now it's your time to code!**\n\nYou must program a robot in a factory, but you would like to implement a virtual wall that the robot is not allowed to put its hand in, since you have limited space and a human will be working there, or there are some obstacles there.\n\nTo do this, you decide to write an optimization-based controller that minimizes $\\|\\mathbf{J}(q_{now})v - V_d\\|_2^2$ and has two constraints:\n1. Joint velocity constraint $|v|\\leq v_{max}$\n2. A constraint that the **position** of the end-effector must be inside the following box:\n  - `lower_bound = [-0.3, -1.0, -1.0]`\n  - `upper_bound = [0.3, 1.0, 1.0]`\n\nYou can access the current position of the robot by using `p_now` (found by running forward kinematics).\n\nHINT: We can similarly use first-order approximations to query what the next position will be given the current position and velocities in the end-effector space.",
      "metadata": {
        "id": "ktjkAZmd5M4h",
        "colab_type": "text",
        "cell_id": "ccbd8e5c25c943cab63f90c8aac70ea6",
        "deepnote_cell_type": "markdown"
      },
      "block_group": "9370da1d44cd42baadd9800283362534"
    },
    {
      "cell_type": "code",
      "source": "# functions for visualizing the box that the end-effector must stay inside\n\n\ndef show_end_effector_box():\n    vspace = Box(0.6, 2.0, 1.0)\n    meshcat.SetObject(\"/end_effector_box\", vspace, Rgba(0.1, 0.5, 0.1, 0.2))\n    meshcat.SetTransform(\"/end_effector_box\", RigidTransform([0.0, 0.0, 0.5]))\n\n\ndef hide_end_effector_box():\n    meshcat.Delete(\"/end_effector_box\")",
      "metadata": {
        "cell_id": "92454053f4144217ae3d7012393b65cf",
        "deepnote_cell_type": "code"
      },
      "outputs": [],
      "outputs_reference": null,
      "execution_count": null,
      "block_group": "10d07c837a9d4f308268dd5845129cb7",
      "content_dependencies": null
    },
    {
      "cell_type": "code",
      "source": "def DiffIKQP_Wall(J_G, V_G_desired, q_now, v_now, p_now):\n    prog = MathematicalProgram()\n    v = prog.NewContinuousVariables(7, \"joint_velocities\")\n    v_max = 3.0  # do not modify\n    h = 4e-3  # do not modify\n    lower_bound = np.array([-0.3, -1.0, -1.0])  # do not modify\n    upper_bound = np.array([0.3, 1.0, 1.0])  # do not modify\n\n    # Fill in your code here.\n\n    solver = SnoptSolver()\n    result = solver.Solve(prog)\n\n    if not (result.is_success()):\n        raise ValueError(\"Could not find the optimal solution.\")\n\n    v_solution = result.GetSolution(v)\n    return v_solution",
      "metadata": {
        "id": "J3Eel-kEddGU",
        "colab": {},
        "colab_type": "code",
        "cell_id": "ef1c5b8a9b394cefa831574a13ec7340",
        "deepnote_cell_type": "code"
      },
      "outputs": [],
      "outputs_reference": null,
      "execution_count": null,
      "block_group": "c4843dacdd2343fd907f9f32c57c56c2",
      "content_dependencies": null
    },
    {
      "cell_type": "code",
      "source": "show_end_effector_box()\nV_d = np.array([0.0, 0.0, 0.0, 0.1, 0.05, 0])\nsimulator = BuildAndSimulate(\n    DiffIKQP_Wall, V_d, duration=7.0 if running_as_notebook else 0.1\n)",
      "metadata": {
        "id": "yl128hSMdGJW",
        "colab": {},
        "colab_type": "code",
        "cell_id": "f3d410b1a9a94be8975f3a0f437de077",
        "deepnote_cell_type": "code"
      },
      "outputs": [],
      "outputs_reference": null,
      "execution_count": null,
      "block_group": "bba8a8c4ac7d45a3bd4332fe35734adf",
      "content_dependencies": null
    },
    {
      "cell_type": "code",
      "source": "# hide_end_effector_box() # uncomment if you want to hide the box visualization.",
      "metadata": {
        "cell_id": "49828e18fc8647c4955a34dbff62e754",
        "deepnote_cell_type": "code"
      },
      "outputs": [],
      "outputs_reference": null,
      "execution_count": null,
      "block_group": "977b42e742ee4d448d12571f6f57fe40",
      "content_dependencies": null
    },
    {
      "cell_type": "markdown",
      "source": "If you implemented this correctly, the end effector will stay within the visualized box, almost like the robot has a wall that it cannot cross! Note that constraining the position of the end effector is not the same as constraining the *entire* end-effector to stay within the box- if part of it is outside, that is okay! (It is also a worthwhile exercise to think about why it is so).",
      "metadata": {
        "id": "Gl0rgvvV6DjW",
        "colab_type": "text",
        "cell_id": "830582fb7e7e45129564df968e71d565",
        "deepnote_cell_type": "markdown"
      },
      "block_group": "3d166d481865411481af51f482711a5e"
    },
    {
      "cell_type": "markdown",
      "source": "## How will this notebook be Graded?\n\nIf you are enrolled in the class, this notebook will be graded using [Gradescope](www.gradescope.com). You should have gotten the enrollement code on our announcement in Piazza.\n\nFor submission of this assignment, you must do as follows:.\n- Download and submit the notebook `differential_ik_optimization.ipynb` to Gradescope's notebook submission section, along with your notebook for the other problems.\n\nWe will evaluate the local functions in the notebook to see if the function behaves as we have expected. For this exercise, the rubric is as follows:\n- [4 pts] `DiffIKQP` must be implemented correctly.\n- [6 pts] `DiffIKQP_Wall` must be implemented correctly.",
      "metadata": {
        "id": "zPmeRLtJk410",
        "colab_type": "text",
        "cell_id": "e3e8bfaa360e4d74a2e2bf2f8ec166ee",
        "deepnote_cell_type": "markdown"
      },
      "block_group": "37a293aa94ec4951be539fc1350bca6b"
    },
    {
      "cell_type": "markdown",
      "source": "Below is our autograder where you can check the correctness of all your implementations.",
      "metadata": {
        "id": "RiIaH2YlTcmc",
        "colab_type": "text",
        "cell_id": "18c16ff51b724bcfb411e7f86b83ccda",
        "deepnote_cell_type": "markdown"
      },
      "block_group": "ae71a026460b4f7a9e41028cda80d595"
    },
    {
      "cell_type": "code",
      "source": "Grader.grade_output([TestDifferentialIK], [locals()], \"results.json\")\nGrader.print_test_results(\"results.json\")",
      "metadata": {
        "id": "ZXZateGeTlKX",
        "colab": {},
        "colab_type": "code",
        "cell_id": "53116d8dbf3346ddbe7696907f9a4f56",
        "deepnote_cell_type": "code"
      },
      "outputs": [],
      "outputs_reference": null,
      "execution_count": null,
      "block_group": "371947d3617343118ae6b9d469a3df3a",
      "content_dependencies": null
    },
    {
      "cell_type": "markdown",
      "source": "<a style='text-decoration:none;line-height:16px;display:flex;color:#5B5B62;padding:10px;justify-content:end;' href='https://deepnote.com?utm_source=created-in-deepnote-cell&projectId=8a9c9b8b-9356-4af8-b9c8-57ff4e9f05f3' target=\"_blank\">\n<img alt='Created in deepnote.com' style='display:inline;max-height:16px;margin:0px;margin-right:7.5px;' src='data:image/svg+xml;base64,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' > </img>\nCreated in <span style='font-weight:600;margin-left:4px;'>Deepnote</span></a>",
      "metadata": {
        "created_in_deepnote_cell": true,
        "deepnote_cell_type": "markdown"
      }
    }
  ],
  "nbformat": 4,
  "nbformat_minor": 0,
  "metadata": {
    "deepnote_notebook_id": "e9444fff435d4b4c8d8ad011e1cf7029",
    "deepnote_execution_queue": []
  }
}