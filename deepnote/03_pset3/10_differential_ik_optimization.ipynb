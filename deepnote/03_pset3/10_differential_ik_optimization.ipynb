{
  "cells": [
    {
      "cell_type": "markdown",
      "source": "## **Differential IK as Optimization**",
      "metadata": {
        "id": "1VDev4CDWBdP",
        "colab_type": "text",
        "cell_id": "2cac2f66bce04a899b9f734ecfb90e76",
        "deepnote_cell_type": "markdown"
      },
      "block_group": "ec6436ee8b4a42c586c332b10b30ac99"
    },
    {
      "cell_type": "code",
      "source": "import numpy as np\nfrom pydrake.all import (\n    Box,\n    ConstantVectorSource,\n    DiagramBuilder,\n    Integrator,\n    JacobianWrtVariable,\n    LeafSystem,\n    MathematicalProgram,\n    Rgba,\n    RigidTransform,\n    Simulator,\n    SnoptSolver,\n    StartMeshcat,\n    ge,\n    le,\n)\n\nfrom manipulation import running_as_notebook\nfrom manipulation.exercises.grader import Grader\nfrom manipulation.exercises.pick.test_differential_ik import TestDifferentialIK\nfrom manipulation.station import LoadScenario, MakeHardwareStation\nfrom manipulation.utils import RenderDiagram",
      "metadata": {
        "id": "tFMmTfbHWQfh",
        "colab": {},
        "colab_type": "code",
        "lines_to_end_of_cell_marker": 2,
        "cell_id": "d4e04c8b11c44b95b467a8d5f446c0e6",
        "deepnote_cell_type": "code"
      },
      "outputs": [],
      "outputs_reference": null,
      "execution_count": null,
      "block_group": "a87e5115ee0d48f69a9ce8d24701910e",
      "content_dependencies": null
    },
    {
      "cell_type": "code",
      "source": "# Start the visualizer.\nmeshcat = StartMeshcat()",
      "metadata": {
        "cell_id": "d751793f4fcb40b4be03b3244053058e",
        "deepnote_cell_type": "code"
      },
      "outputs": [],
      "outputs_reference": null,
      "execution_count": null,
      "block_group": "533dd2b0191242e398526d3844cf8f02",
      "content_dependencies": null
    },
    {
      "cell_type": "markdown",
      "source": "## Problem Description\nIn the lecture, we learned about how to view Differential inverse kinematics as an instance of optimization. In this exercise, we will actually define and solve these optimization problems!\n\nThe goal of the exercise is to see if you can apply the optimization techniques we learned in class to design your own controller.\n\n**These are the main steps of the exercise:**\n1. Write down the JacobianPseudoinverse controller as an optimization-based framework with joint-velocity constraints.\n2. Design and implement a virtual wall for the manipulator through constraints in the end-effector space.",
      "metadata": {
        "id": "mcSz0hOVtBd5",
        "colab_type": "text",
        "cell_id": "7bfb60b9761e4ce8b33c05ab639e089e",
        "deepnote_cell_type": "markdown"
      },
      "block_group": "1edd8d46190842418488d47548e44e13"
    },
    {
      "cell_type": "markdown",
      "source": "## The Differential IK System\n\nAs we've seen in the lecture, a differential IK converts a desired end-effector velocity to joint velocities. From drake's system view of the world, how should we abstract this?\n\nIt would be reasonable to make it a `LeafSystem`, where the input is `spatial velocity_desired`, and the output is `iiwa_velocity_commanded`. We might also need an input port of `iiwa_position_measured` since our Jacobian is a function of the joint angles, and `iiwa_velocity_esimated` in case we want to use that information.\n\n<img src=\"https://raw.githubusercontent.com/RussTedrake/manipulation/master/book/figures/exercises/diffik_system.png\" width=\"700\">\n\nSince we will be going through different implementations of DifferentialIK, let's set up a DifferentialIKSystem that accepts a function to compute joint velocities upon getting the Jacobian, desired spatial velocity, and other information from the robot.",
      "metadata": {
        "id": "f6M3qJIHVQ-y",
        "colab_type": "text",
        "cell_id": "6d109ae8b062412e843a44017c6106c4",
        "deepnote_cell_type": "markdown"
      },
      "block_group": "6fedc79a18b145328283a4bbe35ecd35"
    },
    {
      "cell_type": "markdown",
      "source": "We will also abstract all the Drake workings into a wrapper `BuildAndSimulate`, which constructs and connects the following systems:\n- `HardwareStation`\n- `DifferentialIKSystem`\n- `ConstantVectorSource` for commanding desired velocity to controller.\n- `Integrator` to go from `iiwa.velocity` output of controller to `iiwa.position` input of `HardwareStation`.\n\nThe purpose of this function is to swap out different implementations of spatial-to-joint velocity mappings on the fly and simulate!\n",
      "metadata": {
        "id": "gfcK2R9WgnPe",
        "colab_type": "text",
        "cell_id": "741bb4b65ce14002953e42e7cc9e210f",
        "deepnote_cell_type": "markdown"
      },
      "block_group": "ea352f2d8a8249cd8b7646047408a658"
    },
    {
      "cell_type": "code",
      "source": "class DifferentialIKSystem(LeafSystem):\n    \"\"\"Wrapper system for Differential IK.\n    @param plant MultibodyPlant of the simulated plant.\n    @param diffik_fun function object that handles diffik. Must have the signature\n           diffik_fun(J_G, V_G_desired, q_now, v_now, X_now)\n    \"\"\"\n\n    def __init__(self, plant, diffik_fun):\n        LeafSystem.__init__(self)\n        self._plant = plant\n        self._plant_context = plant.CreateDefaultContext()\n        self._iiwa = plant.GetModelInstanceByName(\"iiwa\")\n        self._G = plant.GetBodyByName(\"body\").body_frame()\n        self._W = plant.world_frame()\n        self._diffik_fun = diffik_fun\n\n        self.DeclareVectorInputPort(\"spatial_velocity\", 6)\n        self.DeclareVectorInputPort(\"iiwa.position_measured\", 7)\n        self.DeclareVectorInputPort(\"iiwa.velocity_measured\", 7)\n        self.DeclareVectorOutputPort(\"iiwa_velocity_command\", 7, self.CalcOutput)\n\n    def CalcOutput(self, context, output):\n        V_G_desired = self.get_input_port(0).Eval(context)\n        q_now = self.get_input_port(1).Eval(context)\n        v_now = self.get_input_port(2).Eval(context)\n\n        self._plant.SetPositions(self._plant_context, self._iiwa, q_now)\n        J_G = self._plant.CalcJacobianSpatialVelocity(\n            self._plant_context,\n            JacobianWrtVariable.kQDot,\n            self._G,\n            [0, 0, 0],\n            self._W,\n            self._W,\n        )\n        J_G = J_G[:, 0:7]  # Ignore gripper terms\n\n        X_now = self._plant.CalcRelativeTransform(self._plant_context, self._W, self._G)\n        p_now = X_now.translation()\n\n        v = self._diffik_fun(J_G, V_G_desired, q_now, v_now, p_now)\n        output.SetFromVector(v)\n\n\ndef BuildAndSimulate(diffik_fun, V_d, duration, plot_system_diagram=False):\n    builder = DiagramBuilder()\n\n    scenario_data = \"\"\"\n    directives:\n    - add_directives:\n        file: package://manipulation/clutter.dmd.yaml\n    model_drivers:\n        iiwa: !IiwaDriver\n            hand_model_name: wsg\n        wsg: !SchunkWsgDriver {}\n    \"\"\"\n    scenario = LoadScenario(data=scenario_data)\n    station = builder.AddSystem(MakeHardwareStation(scenario, meshcat=meshcat))\n    plant = station.GetSubsystemByName(\"plant\")\n\n    controller = builder.AddSystem(DifferentialIKSystem(plant, diffik_fun))\n    integrator = builder.AddSystem(Integrator(7))\n    desired_vel = builder.AddSystem(ConstantVectorSource(V_d))\n\n    builder.Connect(controller.get_output_port(), integrator.get_input_port())\n    builder.Connect(integrator.get_output_port(), station.GetInputPort(\"iiwa.position\"))\n    builder.Connect(\n        station.GetOutputPort(\"iiwa.position_measured\"),\n        controller.get_input_port(1),\n    )\n    builder.Connect(\n        station.GetOutputPort(\"iiwa.velocity_estimated\"),\n        controller.get_input_port(2),\n    )\n    builder.Connect(desired_vel.get_output_port(), controller.get_input_port(0))\n\n    diagram = builder.Build()\n    diagram.set_name(\"diagram\")\n    if running_as_notebook and plot_system_diagram:\n        RenderDiagram(diagram)\n\n    simulator = Simulator(diagram)\n    context = simulator.get_mutable_context()\n    station_context = station.GetMyContextFromRoot(context)\n    station.GetInputPort(\"iiwa.torque\").FixValue(station_context, np.zeros((7, 1)))\n    station.GetInputPort(\"wsg.position\").FixValue(station_context, [0.1])\n\n    integrator.set_integral_value(\n        integrator.GetMyMutableContextFromRoot(context),\n        plant.GetPositions(\n            plant.GetMyContextFromRoot(context),\n            plant.GetModelInstanceByName(\"iiwa\"),\n        ),\n    )\n\n    meshcat.StartRecording()\n    simulator.AdvanceTo(duration)\n    meshcat.PublishRecording()",
      "metadata": {
        "id": "F24X_misbTFj",
        "colab": {},
        "colab_type": "code",
        "cell_id": "f896f46296f5424db346c39dd1e46830",
        "deepnote_cell_type": "code"
      },
      "outputs": [],
      "outputs_reference": null,
      "execution_count": null,
      "block_group": "ad3f1ca92ead4663af860c0cd803c116",
      "content_dependencies": null
    },
    {
      "cell_type": "markdown",
      "source": "Let's just make sure we've got all the systems and connections right by hooking this up with out Baseclass controller `DifferentialIKBaseSystem` that outputs zero velocities, and looking at the diagram.\n\nFor differential IK, we'll just set it up with a function that always outputs zeroes for now.",
      "metadata": {
        "id": "1bRwOKRrrdQw",
        "colab_type": "text",
        "cell_id": "984b679e35ed4c12a614ae779c49b089",
        "deepnote_cell_type": "markdown"
      },
      "block_group": "077eff6cfc804622bb2118967b4744c8"
    },
    {
      "cell_type": "code",
      "source": "def DiffIK_Zero(J_G, V_G_desired, q_now, v_now, p_now):\n    return np.zeros(7)\n\n\nV_d = np.zeros(6)\nBuildAndSimulate(\n    DiffIK_Zero,\n    V_d,\n    duration=5.0 if running_as_notebook else 0.1,\n    plot_system_diagram=True,\n)",
      "metadata": {
        "id": "Bd5544l6rhVI",
        "colab": {},
        "colab_type": "code",
        "cell_id": "c245ac99b28f43379a6d0785f0ae919c",
        "deepnote_cell_type": "code"
      },
      "outputs": [],
      "outputs_reference": null,
      "execution_count": null,
      "block_group": "4053bef9fb4f4a57a96635e348caf16a",
      "content_dependencies": null
    },
    {
      "cell_type": "markdown",
      "source": "You should see that the manipulator just stays still since our base class keeps sending zero-velocity.",
      "metadata": {
        "id": "8we5cXEJs-jg",
        "colab_type": "text",
        "cell_id": "4b26ef2bb7324e95944076887540f89a",
        "deepnote_cell_type": "markdown"
      },
      "block_group": "671431cd852347d58359dc9aacbb9d06"
    },
    {
      "cell_type": "markdown",
      "source": "## Differential IK through Inverse Jacobian\n\nThat was some setup to get through the basic tools, but now we're onto the main part of the set! In class, we've seen that in order to map a desired spatial velocity $V^G$ to desired joint velocities, we can use the relation\n\n$$V^G = J^G(q) v$$\n\nand \"invert\" this with a Moore-Penrose pseudoinverse to achieve differential kinematics:\n\n$$v = [J^G(q)]^{+} V^{G}$$\n\nWe can implement this controller fairly easily:",
      "metadata": {
        "id": "Y90FlVastwCq",
        "colab_type": "text",
        "cell_id": "e1c3380294c444999b6567cb46b1c095",
        "deepnote_cell_type": "markdown"
      },
      "block_group": "033bad880b6447c1a11690ebac006f14"
    },
    {
      "cell_type": "code",
      "source": "def DiffIKPseudoInverse(J_G, V_G_desired, q_now, v_now, p_now):\n    v = np.linalg.pinv(J_G).dot(V_G_desired)\n    return v",
      "metadata": {
        "id": "q6Ko4z4UZ-ZZ",
        "colab": {},
        "colab_type": "code",
        "cell_id": "3063cd45ad454140a9e4caa1fbe98275",
        "deepnote_cell_type": "code"
      },
      "outputs": [],
      "outputs_reference": null,
      "execution_count": null,
      "block_group": "8374861ae5334610a83a7af11d71435e",
      "content_dependencies": null
    },
    {
      "cell_type": "markdown",
      "source": "Let's simulate this system forward. Run the cell below. If Meshcat takes a long time to load, then you can always play back / scroll through the animation using the controls panel in Meshcat.",
      "metadata": {
        "id": "uT0E0rrwwVfV",
        "colab_type": "text",
        "cell_id": "92a7cd650606487f876d9f7f44b545c2",
        "deepnote_cell_type": "markdown"
      },
      "block_group": "d1165881e0b34a95aff3cdda18454673"
    },
    {
      "cell_type": "code",
      "source": "# Corresponds to [wx, wy, wz, vx, vy, vz]\nV_d = np.array([0.0, 0.0, 0.0, 0.1, 0.0, 0])\nBuildAndSimulate(DiffIKPseudoInverse, V_d, duration=7.0 if running_as_notebook else 0.1)",
      "metadata": {
        "id": "6aVPMECDxmwm",
        "colab": {},
        "colab_type": "code",
        "cell_id": "2f23617d47404692abce4b248ca320d9",
        "deepnote_cell_type": "code"
      },
      "outputs": [],
      "outputs_reference": null,
      "execution_count": null,
      "block_group": "f9d3daf7e63f4de7b7c34a9f140e5b86",
      "content_dependencies": null
    },
    {
      "cell_type": "markdown",
      "source": "Wow - what just happened? There are several things you should have noticed.\n- The robot did its job by going 0.1m/s in the x-direction (for anyone not familiar, there is a 'world-frame' axis colored by RGB. The usual convention is that RGB corresponds respectively to XYZ axii. Note that the robot is moving in the direction of the red axis as expected)\n- When the robot reached the end of its workspace, it freaked out, jerking unexpectedly.\n\nImagine thinking the PseudoInverse method was a good idea, implementing the controller, then running this in a real robot - something might have gone badly wrong!",
      "metadata": {
        "id": "73VXtApc0fCO",
        "colab_type": "text",
        "cell_id": "8fdbfac436b74900a6e2d331ae45060f",
        "deepnote_cell_type": "markdown"
      },
      "block_group": "c5a5bccfe97a4a2c927b5a4cdafbdc4b"
    },
    {
      "cell_type": "markdown",
      "source": "## Pseudoinverse as Optimization\n\nEven though the method got unreliable at the limits of the kinematic workspace (i.e. under kinematic singularities), it worked reasonably well. How do we keep the benefits of the original method while improving behavior near singularities?\n\nOne idea presented in class is to stick to a certain **joint velocity limit**. This will at least prevent the manipulator from doing something crazy.\n\n**Now it's your turn to code!**\n\nIn the language of optimization, the problem we are trying to solve will look like:\n\n$$\\begin{aligned} \\min_v \\quad & \\|\\mathbf{J}(q)v - V_d\\|^2_2 \\\\ \\textrm{s.t.} \\quad &  |v|\\leq v_{max} \\end{aligned}$$\n\nBelow, you must transcribe and solve this optimization problem through `MathematicalProgram`.\n\nNOTE: The absolute value is taken element wise, so the last constraint is really saying \"for all $i$, make sure none of the elements of $|v[i]|$ exceed $v_{max}[i]$. Such constraints are also called Bounding Box constraints.\n\nHINT: We can't directly enter absolute values as a constraint in `MathematicalProgram`, but we can break down the absolute value constraint into two separate constraints.\n\nNOTE: If you're not familiar with how to write down mathematical program, make sure you do the `intro_to_qp` exercise on the textbook first. If you're still stuck, feel free to get more practice from [this notebook tutorial](https://deepnote.com/workspace/Drake-0b3b2c53-a7ad-441b-80f8-bf8350752305/project/Tutorials-2b4fc509-aef2-417d-a40d-6071dfed9199/notebook/mathematical_program-4c4f4de7d5d3452daacf45c20b315d31), or look at the [`pydrake` documentation on `MathematicalProgram`](https://drake.mit.edu/pydrake/pydrake.solvers.html#pydrake.solvers.MathematicalProgram).",
      "metadata": {
        "id": "q7r1Fa3B2AWk",
        "colab_type": "text",
        "cell_id": "f5a84a269cb84d69a48dab7549ed43be",
        "deepnote_cell_type": "markdown"
      },
      "block_group": "5d03b4305d2048589f331f8c5631682f"
    },
    {
      "cell_type": "code",
      "source": "def DiffIKQP(J_G, V_G_desired, q_now, v_now, p_now):\n    prog = MathematicalProgram()\n    v = prog.NewContinuousVariables(7, \"v\")\n    v_max = 3.0  # do not modify\n\n    # Add cost and constraints to prog here.\n\n    solver = SnoptSolver()\n    result = solver.Solve(prog)\n\n    if not (result.is_success()):\n        raise ValueError(\"Could not find the optimal solution.\")\n\n    v_solution = result.GetSolution(v)\n\n    return v_solution",
      "metadata": {
        "id": "4YKMRp3gDY0R",
        "colab": {},
        "colab_type": "code",
        "cell_id": "c0cb73a7b9a64dc898675360fb7a3386",
        "deepnote_cell_type": "code"
      },
      "outputs": [],
      "outputs_reference": null,
      "execution_count": null,
      "block_group": "efb0bd5556ee4256a4dce8ef31a53ee2",
      "content_dependencies": null
    },
    {
      "cell_type": "markdown",
      "source": "When you're ready to test out your new method, you can run the simulator to see what happens. Similar to last time, wait until everything loads on Meshcat and run the second cell below to simulate forward.",
      "metadata": {
        "id": "QTplFYdQ-Gps",
        "colab_type": "text",
        "cell_id": "47cf516157e747c894c8360c30ac704c",
        "deepnote_cell_type": "markdown"
      },
      "block_group": "cb085430263d48f787bda3aaa0f932af"
    },
    {
      "cell_type": "code",
      "source": "V_d = np.array(\n    [0.0, 0.0, 0.0, 0.1, 0.0, 0.0]\n)  # Feel free to play around with different V_desired\nsimulator = BuildAndSimulate(\n    DiffIKQP, V_d, duration=7.0 if running_as_notebook else 0.1\n)",
      "metadata": {
        "id": "UD-ZLidi-Pul",
        "colab": {},
        "colab_type": "code",
        "cell_id": "643e280a285e4372a78e27eb4f8277df",
        "deepnote_cell_type": "code"
      },
      "outputs": [],
      "outputs_reference": null,
      "execution_count": null,
      "block_group": "d344e827a9f44be19a30b3de9ee607c7",
      "content_dependencies": null
    },
    {
      "cell_type": "markdown",
      "source": "When you have implemented things correctly, you should see we behave much better near singularities now, since we're constraining joint velocities. This is nice - even if the Jacobian becomes singular, we can guard against sudden jerky movements because we've put limits.",
      "metadata": {
        "id": "ZggOGhgPXFLj",
        "colab_type": "text",
        "cell_id": "dd5675d8b08149a7ac433050b2181ec8",
        "deepnote_cell_type": "markdown"
      },
      "block_group": "45a0a8e6457f477ab45407d12125108a"
    },
    {
      "cell_type": "markdown",
      "source": "## An Virtual Wall in End-Effector Space\n\nIn class, we saw that in addition to doing joint velocity constraints, we can also put constraints on **joint positions** and **accelerations** through first-order Euler finite difference. Given $v_{now}$ and $q_{now}$, we can find $v$ that satisfies the following program:\n\n$$\\begin{aligned} \\min_v \\quad & \\|\\mathbf{J}(q_{now})v - V_d\\|^2_2 \\\\ \\textrm{s.t.} \\quad &  |v|\\leq v_{max} \\\\  \\quad & q_{min} \\leq q_{now} + h v \\leq q_{max} \\\\ \\quad & a_{min} \\leq (v-v_{now})/h \\leq a_{max}\\end{aligned}$$\n\nAll of these constraints are formulated in the joint-space. But could we also end up with a linear constraint if we try to impose a constraint in the end-effector space?\n\n**Now it's your time to code!**\n\nYou must program a robot in a factory, but you would like to implement a virtual wall that the robot is not allowed to put its hand in, since you have limited space and a human will be working there, or there are some obstacles there.\n\nTo do this, you decide to write an optimization-based controller that minimizes $\\|\\mathbf{J}(q_{now})v - V_d\\|_2^2$ and has two constraints:\n1. Joint velocity constraint $|v|\\leq v_{max}$\n2. A constraint that the **position** of the end-effector must be inside the following box:\n  - `lower_bound = [-0.3, -1.0, 0.0]`\n  - `upper_bound = [0.3, 1.0, 1.0]`\n\nYou can access the current position of the robot by using `p_now` (found by running forward kinematics).\n\nHINT: We can similarly use first-order approximations to query what the next position will be given the current position and velocities in the end-effector space.",
      "metadata": {
        "id": "ktjkAZmd5M4h",
        "colab_type": "text",
        "cell_id": "aa54c219ab814cb2b98a08c94ffa55a4",
        "deepnote_cell_type": "markdown"
      },
      "block_group": "da35cefe54bc4fb5862d480716b580a1"
    },
    {
      "cell_type": "code",
      "source": "# functions for visualizing the box that the end-effector must stay inside\n\n\ndef show_end_effector_box():\n    vspace = Box(0.6, 2.0, 1.0)\n    meshcat.SetObject(\"/end_effector_box\", vspace, Rgba(0.1, 0.5, 0.1, 0.2))\n    meshcat.SetTransform(\"/end_effector_box\", RigidTransform([0.0, 0.0, 0.5]))\n\n\ndef hide_end_effector_box():\n    meshcat.Delete(\"/end_effector_box\")",
      "metadata": {
        "cell_id": "29fb573a60144e60b69d4db514cbb2c8",
        "deepnote_cell_type": "code"
      },
      "outputs": [],
      "outputs_reference": null,
      "execution_count": null,
      "block_group": "189a13af828944818c2879c73115cecc",
      "content_dependencies": null
    },
    {
      "cell_type": "code",
      "source": "def DiffIKQP_Wall(J_G, V_G_desired, q_now, v_now, p_now):\n    prog = MathematicalProgram()\n    v = prog.NewContinuousVariables(7, \"joint_velocities\")\n    v_max = 3.0  # do not modify\n    h = 4e-3  # do not modify\n    lower_bound = np.array([-0.3, -1.0, 0.0])  # do not modify\n    upper_bound = np.array([0.3, 1.0, 1.0])  # do not modify\n\n    # Fill in your code here.\n\n    solver = SnoptSolver()\n    result = solver.Solve(prog)\n\n    if not (result.is_success()):\n        raise ValueError(\"Could not find the optimal solution.\")\n\n    v_solution = result.GetSolution(v)\n    return v_solution",
      "metadata": {
        "id": "J3Eel-kEddGU",
        "colab": {},
        "colab_type": "code",
        "cell_id": "70f49f44d2b744278e4061c762d85c41",
        "deepnote_cell_type": "code"
      },
      "outputs": [],
      "outputs_reference": null,
      "execution_count": null,
      "block_group": "42a866402d6347a9b3b06100d82ce355",
      "content_dependencies": null
    },
    {
      "cell_type": "code",
      "source": "show_end_effector_box()\nV_d = np.array([0.0, 0.0, 0.0, 0.1, 0.05, 0])\nsimulator = BuildAndSimulate(\n    DiffIKQP_Wall, V_d, duration=7.0 if running_as_notebook else 0.1\n)",
      "metadata": {
        "id": "yl128hSMdGJW",
        "colab": {},
        "colab_type": "code",
        "cell_id": "f432a877a8c74be88bcfab44d382fe6e",
        "deepnote_cell_type": "code"
      },
      "outputs": [],
      "outputs_reference": null,
      "execution_count": null,
      "block_group": "055371f0387444f4bca3d6c18260d37c",
      "content_dependencies": null
    },
    {
      "cell_type": "code",
      "source": "# hide_end_effector_box() # uncomment if you want to hide the box visualization.",
      "metadata": {
        "cell_id": "634efc0d672849019102f0ce77d7cdf6",
        "deepnote_cell_type": "code"
      },
      "outputs": [],
      "outputs_reference": null,
      "execution_count": null,
      "block_group": "4d9462df83b7487fb97963d99034b49a",
      "content_dependencies": null
    },
    {
      "cell_type": "markdown",
      "source": "If you implemented this correctly, the end effector will stay within the visualized box, almost like the robot has a wall that it cannot cross! Note that constraining the position of the end effector is not the same as constraining the *entire* end-effector to stay within the box- if part of it is outside, that is okay! (It is also a worthwhile exercise to think about why it is so).",
      "metadata": {
        "id": "Gl0rgvvV6DjW",
        "colab_type": "text",
        "cell_id": "ca42f907789d4ad8915e8a424b66978c",
        "deepnote_cell_type": "markdown"
      },
      "block_group": "505080200d2d4075836a0d3c9c0b82d2"
    },
    {
      "cell_type": "markdown",
      "source": "## How will this notebook be Graded?\n\nIf you are enrolled in the class, this notebook will be graded using [Gradescope](www.gradescope.com). You should have gotten the enrollement code on our announcement in Piazza.\n\nFor submission of this assignment, you must do as follows:.\n- Download and submit the notebook `differential_ik_optimization.ipynb` to Gradescope's notebook submission section, along with your notebook for the other problems.\n\nWe will evaluate the local functions in the notebook to see if the function behaves as we have expected. For this exercise, the rubric is as follows:\n- [4 pts] `DiffIKQP` must be implemented correctly.\n- [6 pts] `DiffIKQP_Wall` must be implemented correctly.",
      "metadata": {
        "id": "zPmeRLtJk410",
        "colab_type": "text",
        "cell_id": "6f676fd7db5a4940b9c4805f6de443fb",
        "deepnote_cell_type": "markdown"
      },
      "block_group": "732cda9d0eae4fcc8257c7eefd78f918"
    },
    {
      "cell_type": "markdown",
      "source": "Below is our autograder where you can check the correctness of all your implementations.",
      "metadata": {
        "id": "RiIaH2YlTcmc",
        "colab_type": "text",
        "cell_id": "0fa621744ca84b14864ba3f86ba2891c",
        "deepnote_cell_type": "markdown"
      },
      "block_group": "7c48afcb15dc44feb9d30e8eb19b71e6"
    },
    {
      "cell_type": "code",
      "source": "Grader.grade_output([TestDifferentialIK], [locals()], \"results.json\")\nGrader.print_test_results(\"results.json\")",
      "metadata": {
        "id": "ZXZateGeTlKX",
        "colab": {},
        "colab_type": "code",
        "cell_id": "c09fc8eef7164ce8962d1063cc7b5500",
        "deepnote_cell_type": "code"
      },
      "outputs": [],
      "outputs_reference": null,
      "execution_count": null,
      "block_group": "c16bea6b8933496cbc6b94723f738398",
      "content_dependencies": null
    },
    {
      "cell_type": "markdown",
      "source": "<a style='text-decoration:none;line-height:16px;display:flex;color:#5B5B62;padding:10px;justify-content:end;' href='https://deepnote.com?utm_source=created-in-deepnote-cell&projectId=8a9c9b8b-9356-4af8-b9c8-57ff4e9f05f3' target=\"_blank\">\n<img alt='Created in deepnote.com' style='display:inline;max-height:16px;margin:0px;margin-right:7.5px;' src='data:image/svg+xml;base64,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' > </img>\nCreated in <span style='font-weight:600;margin-left:4px;'>Deepnote</span></a>",
      "metadata": {
        "created_in_deepnote_cell": true,
        "deepnote_cell_type": "markdown"
      }
    }
  ],
  "nbformat": 4,
  "nbformat_minor": 0,
  "metadata": {
    "deepnote_notebook_id": "bd202ef842344dcbaa370fb3488cf366",
    "deepnote_execution_queue": []
  }
}