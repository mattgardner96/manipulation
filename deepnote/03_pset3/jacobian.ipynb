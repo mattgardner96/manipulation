{
  "cells": [
    {
      "cell_type": "markdown",
      "source": "This notebook provides examples to go along with the [textbook](http://manipulation.csail.mit.edu/pick.html).  I recommend having both windows open, side-by-side!",
      "metadata": {
        "id": "EgiF12Hf1Dhs",
        "colab_type": "text",
        "cell_id": "3cfb40e9a06747a78499dc4fbfc11213",
        "deepnote_cell_type": "markdown"
      },
      "block_group": "16e042020b264e4993f6289a87aa0b00"
    },
    {
      "cell_type": "code",
      "source": "import numpy as np\nfrom IPython.display import clear_output\nfrom pydrake.all import (\n    AddMultibodyPlantSceneGraph,\n    DiagramBuilder,\n    JacobianWrtVariable,\n    JointSliders,\n    LeafSystem,\n    MeshcatVisualizer,\n    Parser,\n    StartMeshcat,\n)\n\nfrom manipulation import ConfigureParser, running_as_notebook",
      "metadata": {
        "id": "eeMrMI0-1Dhu",
        "colab": {},
        "colab_type": "code",
        "cell_id": "113e119fe52c4f359aecb9090f23b5de",
        "deepnote_cell_type": "code"
      },
      "outputs": [],
      "outputs_reference": null,
      "execution_count": null,
      "block_group": "58c0fa701fcb47b2b88921c1fd6b85ce",
      "content_dependencies": null
    },
    {
      "cell_type": "code",
      "source": "# Start the visualizer.\nmeshcat = StartMeshcat()",
      "metadata": {
        "cell_id": "4673e8763bce48a9aaef15c006327b99",
        "deepnote_cell_type": "code"
      },
      "outputs": [],
      "outputs_reference": null,
      "execution_count": null,
      "block_group": "68728e2649334c579736326c3c48d753",
      "content_dependencies": null
    },
    {
      "cell_type": "markdown",
      "source": "# Kinematic Jacobians for pick and place\n\nLet's set up the same iiwa + wsg example, with sliders (but without the frames), that we used above.  But this time I'll display the value of the Jacobian $J^G(q)$.",
      "metadata": {
        "id": "wSa5QcU0Piak",
        "colab_type": "text",
        "cell_id": "a08f04e349094d8d9a8938caa007868b",
        "deepnote_cell_type": "markdown"
      },
      "block_group": "f5c28c7516f04106b17bcbf6c077b167"
    },
    {
      "cell_type": "code",
      "source": "class PrintJacobian(LeafSystem):\n    def __init__(self, plant, frame):\n        LeafSystem.__init__(self)\n        self._plant = plant\n        self._plant_context = plant.CreateDefaultContext()\n        self._frame = frame\n        self.DeclareVectorInputPort(\"state\", plant.num_multibody_states())\n        self.DeclareForcedPublishEvent(self.Publish)\n\n    def Publish(self, context):\n        state = self.get_input_port().Eval(context)\n        self._plant.SetPositionsAndVelocities(self._plant_context, state)\n        W = self._plant.world_frame()\n        J_G = self._plant.CalcJacobianSpatialVelocity(\n            self._plant_context,\n            JacobianWrtVariable.kQDot,\n            self._frame,\n            [0, 0, 0],\n            W,\n            W,\n        )  ## This is the important line\n\n        print(\"J_G:\")\n        print(np.array2string(J_G, formatter={\"float\": lambda x: \"{:5.1f}\".format(x)}))\n        print(\n            f\"smallest singular value(J_G): {np.min(np.linalg.svd(J_G, compute_uv=False))}\"\n        )\n        clear_output(wait=True)\n\n\ndef pick_and_place_jacobians_example():\n    builder = DiagramBuilder()\n\n    plant, scene_graph = AddMultibodyPlantSceneGraph(builder, time_step=0)\n    parser = Parser(plant)\n    ConfigureParser(parser)\n    parser.AddModelsFromUrl(\"package://manipulation/iiwa_and_wsg.dmd.yaml\")\n    plant.Finalize()\n\n    meshcat.Delete()\n    visualizer = MeshcatVisualizer.AddToBuilder(\n        builder, scene_graph.get_query_output_port(), meshcat\n    )\n\n    G = plant.GetBodyByName(\"body\").body_frame()\n    print_jacobian = builder.AddSystem(PrintJacobian(plant, G))\n    builder.Connect(plant.get_state_output_port(), print_jacobian.get_input_port())\n\n    # If you want to set the initial positions manually, use this:\n    # plant.SetPositions(plant.GetMyContextFromRoot(context),\n    #                   plant.GetModelInstanceByName(\"iiwa\"),\n    #                   [0, 0, 0, 0, 0, 0, 0])\n\n    default_interactive_timeout = None if running_as_notebook else 1.0\n    sliders = builder.AddSystem(JointSliders(meshcat, plant))\n    diagram = builder.Build()\n    sliders.Run(diagram, default_interactive_timeout)\n    meshcat.DeleteAddedControls()\n\n\nmeshcat.DeleteAddedControls()\npick_and_place_jacobians_example()",
      "metadata": {
        "id": "5SjOClhTltPk",
        "colab": {},
        "colab_type": "code",
        "cell_id": "51fd8f4b4c8b4abe8ea6ac919ce2d71e",
        "deepnote_cell_type": "code"
      },
      "outputs": [],
      "outputs_reference": null,
      "execution_count": null,
      "block_group": "9d1fd3d22e834d99b5585f29f14f9059",
      "content_dependencies": null
    },
    {
      "cell_type": "code",
      "source": "",
      "metadata": {
        "cell_id": "415fe73c407f43eea446a4dd7baa487c",
        "deepnote_cell_type": "code"
      },
      "outputs": [],
      "outputs_reference": null,
      "execution_count": null,
      "block_group": "5bf4557bbe5e48a18fa93bc68ddb82e5",
      "content_dependencies": null
    },
    {
      "cell_type": "markdown",
      "source": "<a style='text-decoration:none;line-height:16px;display:flex;color:#5B5B62;padding:10px;justify-content:end;' href='https://deepnote.com?utm_source=created-in-deepnote-cell&projectId=8a9c9b8b-9356-4af8-b9c8-57ff4e9f05f3' target=\"_blank\">\n<img alt='Created in deepnote.com' style='display:inline;max-height:16px;margin:0px;margin-right:7.5px;' src='data:image/svg+xml;base64,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' > </img>\nCreated in <span style='font-weight:600;margin-left:4px;'>Deepnote</span></a>",
      "metadata": {
        "created_in_deepnote_cell": true,
        "deepnote_cell_type": "markdown"
      }
    }
  ],
  "nbformat": 4,
  "nbformat_minor": 0,
  "metadata": {
    "deepnote_notebook_id": "16bfb3c51ae6483a81af28bf33c25aa4",
    "deepnote_execution_queue": []
  }
}