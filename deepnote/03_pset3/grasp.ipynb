{
  "cells": [
    {
      "cell_type": "markdown",
      "source": "This notebook provides examples to go along with the [textbook](http://manipulation.csail.mit.edu/pick.html).  I recommend having both windows open, side-by-side!",
      "metadata": {
        "id": "EgiF12Hf1Dhs",
        "colab_type": "text",
        "cell_id": "9e07ce0d7b074700a111c25bf207f428",
        "deepnote_cell_type": "markdown"
      },
      "block_group": "7329e9586187410abcdbeadc9caf8419"
    },
    {
      "cell_type": "code",
      "source": "import numpy as np\nfrom pydrake.all import (\n    AddMultibodyPlantSceneGraph,\n    DiagramBuilder,\n    MeshcatVisualizer,\n    Parser,\n    RigidTransform,\n    RotationMatrix,\n    StartMeshcat,\n)\n\nfrom manipulation.scenarios import SetColor",
      "metadata": {
        "id": "eeMrMI0-1Dhu",
        "colab": {},
        "colab_type": "code",
        "cell_id": "696a73c0f2a74125be98282b966f391b",
        "deepnote_cell_type": "code"
      },
      "outputs": [],
      "outputs_reference": null,
      "execution_count": null,
      "block_group": "7a8eb592583d443888040dc1937e2c05",
      "content_dependencies": null
    },
    {
      "cell_type": "code",
      "source": "# Start the visualizer.\nmeshcat = StartMeshcat()",
      "metadata": {
        "cell_id": "eda72422377f4167aa125b540f76b18a",
        "deepnote_cell_type": "code"
      },
      "outputs": [],
      "outputs_reference": null,
      "execution_count": null,
      "block_group": "52a9427695ed45ef9052fc69ea7d40c6",
      "content_dependencies": null
    },
    {
      "cell_type": "markdown",
      "source": "# Compute grasp and pregrasp poses\n\nHere is a simple example with a floating Schunk gripper and the foam brick.  It defines the grasp pose as described in the notes, and renders it to the 3D visualizer.\n\n**Check yourself**: Try changing the grasp pose to our pregrasp pose.  Do you like the numbers that I picked in the text?",
      "metadata": {
        "id": "DfwIMIJCSkx6",
        "colab_type": "text",
        "cell_id": "9b5a2daa185749169a17c41e2df097e2",
        "deepnote_cell_type": "markdown"
      },
      "block_group": "fad95d0ca63341d4ab9423be032b464f"
    },
    {
      "cell_type": "code",
      "source": "def grasp_poses_example():\n    builder = DiagramBuilder()\n\n    plant, scene_graph = AddMultibodyPlantSceneGraph(builder, time_step=0.0)\n    parser = Parser(plant, scene_graph)\n    parser.SetAutoRenaming(True)\n    grasp = parser.AddModelsFromUrl(\n        \"package://drake_models/wsg_50_description/sdf/schunk_wsg_50_no_tip.sdf\"\n    )[0]\n    pregrasp = parser.AddModelsFromUrl(\n        \"package://drake_models/wsg_50_description/sdf/schunk_wsg_50_no_tip.sdf\"\n    )[0]\n    brick = parser.AddModelsFromUrl(\n        \"package://drake_models/manipulation_station/061_foam_brick.sdf\"\n    )[0]\n    plant.Finalize()\n\n    B_O = plant.GetBodyByName(\"base_link\", brick)\n    B_Ggrasp = plant.GetBodyByName(\"body\", grasp)\n    B_Gpregrasp = plant.GetBodyByName(\"body\", pregrasp)\n\n    # Set the pregrasp to be green and slightly transparent.\n    inspector = scene_graph.model_inspector()\n    for body_index in plant.GetBodyIndices(pregrasp):\n        SetColor(\n            scene_graph,\n            [0, 0.6, 0, 0.5],\n            plant.get_source_id(),\n            inspector.GetGeometries(plant.GetBodyFrameIdOrThrow(body_index)),\n        )\n\n    meshcat.Delete()\n    meshcat.SetProperty(\"/Background\", \"visible\", False)\n    MeshcatVisualizer.AddToBuilder(builder, scene_graph, meshcat)\n\n    diagram = builder.Build()\n    context = diagram.CreateDefaultContext()\n    plant_context = plant.GetMyContextFromRoot(context)\n\n    # TODO(russt): Set a random pose of the object.\n\n    # Get the current object, O, pose\n    X_WO = plant.EvalBodyPoseInWorld(plant_context, B_O)\n\n    p_GgraspO = [0, 0.11, 0]\n    R_GgraspO = RotationMatrix.MakeXRotation(np.pi / 2.0).multiply(\n        RotationMatrix.MakeZRotation(np.pi / 2.0)\n    )\n    X_GgraspO = RigidTransform(R_GgraspO, p_GgraspO)\n    X_OGgrasp = X_GgraspO.inverse()\n    X_WGgrasp = X_WO.multiply(X_OGgrasp)\n\n    # pregrasp is negative y in the gripper frame (see the figure!).\n    X_GgraspGpregrasp = RigidTransform([0, -0.08, 0])\n    X_WGpregrasp = X_WGgrasp @ X_GgraspGpregrasp\n\n    plant.SetFreeBodyPose(plant_context, B_Ggrasp, X_WGgrasp)\n    # Open the fingers, too.\n    plant.GetJointByName(\"left_finger_sliding_joint\", grasp).set_translation(\n        plant_context, -0.054\n    )\n    plant.GetJointByName(\"right_finger_sliding_joint\", grasp).set_translation(\n        plant_context, 0.054\n    )\n\n    plant.SetFreeBodyPose(plant_context, B_Gpregrasp, X_WGpregrasp)\n    # Open the fingers, too.\n    plant.GetJointByName(\"left_finger_sliding_joint\", pregrasp).set_translation(\n        plant_context, -0.054\n    )\n    plant.GetJointByName(\"right_finger_sliding_joint\", pregrasp).set_translation(\n        plant_context, 0.054\n    )\n\n    diagram.ForcedPublish(context)\n\n\ngrasp_poses_example()",
      "metadata": {
        "id": "QuFmomDOxoAR",
        "colab": {},
        "colab_type": "code",
        "cell_id": "9d602a2bdaa14a6eb2081320bffa618d",
        "deepnote_cell_type": "code"
      },
      "outputs": [],
      "outputs_reference": null,
      "execution_count": null,
      "block_group": "fc2b41ac42c04b3bba6df1d89acbf6f0",
      "content_dependencies": null
    },
    {
      "cell_type": "code",
      "source": "",
      "metadata": {
        "cell_id": "1e8dec7295094f1fab05882c3d111302",
        "deepnote_cell_type": "code"
      },
      "outputs": [],
      "outputs_reference": null,
      "execution_count": null,
      "block_group": "6012f6e99a994eee9538f595d004f795",
      "content_dependencies": null
    },
    {
      "cell_type": "markdown",
      "source": "<a style='text-decoration:none;line-height:16px;display:flex;color:#5B5B62;padding:10px;justify-content:end;' href='https://deepnote.com?utm_source=created-in-deepnote-cell&projectId=8a9c9b8b-9356-4af8-b9c8-57ff4e9f05f3' target=\"_blank\">\n<img alt='Created in deepnote.com' style='display:inline;max-height:16px;margin:0px;margin-right:7.5px;' src='data:image/svg+xml;base64,PD94bWwgdmVyc2lvbj0iMS4wIiBlbmNvZGluZz0iVVRGLTgiPz4KPHN2ZyB3aWR0aD0iODBweCIgaGVpZ2h0PSI4MHB4IiB2aWV3Qm94PSIwIDAgODAgODAiIHZlcnNpb249IjEuMSIgeG1sbnM9Imh0dHA6Ly93d3cudzMub3JnLzIwMDAvc3ZnIiB4bWxuczp4bGluaz0iaHR0cDovL3d3dy53My5vcmcvMTk5OS94bGluayI+CiAgICA8IS0tIEdlbmVyYXRvcjogU2tldGNoIDU0LjEgKDc2NDkwKSAtIGh0dHBzOi8vc2tldGNoYXBwLmNvbSAtLT4KICAgIDx0aXRsZT5Hcm91cCAzPC90aXRsZT4KICAgIDxkZXNjPkNyZWF0ZWQgd2l0aCBTa2V0Y2guPC9kZXNjPgogICAgPGcgaWQ9IkxhbmRpbmciIHN0cm9rZT0ibm9uZSIgc3Ryb2tlLXdpZHRoPSIxIiBmaWxsPSJub25lIiBmaWxsLXJ1bGU9ImV2ZW5vZGQiPgogICAgICAgIDxnIGlkPSJBcnRib2FyZCIgdHJhbnNmb3JtPSJ0cmFuc2xhdGUoLTEyMzUuMDAwMDAwLCAtNzkuMDAwMDAwKSI+CiAgICAgICAgICAgIDxnIGlkPSJHcm91cC0zIiB0cmFuc2Zvcm09InRyYW5zbGF0ZSgxMjM1LjAwMDAwMCwgNzkuMDAwMDAwKSI+CiAgICAgICAgICAgICAgICA8cG9seWdvbiBpZD0iUGF0aC0yMCIgZmlsbD0iIzAyNjVCNCIgcG9pbnRzPSIyLjM3NjIzNzYyIDgwIDM4LjA0NzY2NjcgODAgNTcuODIxNzgyMiA3My44MDU3NTkyIDU3LjgyMTc4MjIgMzIuNzU5MjczOSAzOS4xNDAyMjc4IDMxLjY4MzE2ODMiPjwvcG9seWdvbj4KICAgICAgICAgICAgICAgIDxwYXRoIGQ9Ik0zNS4wMDc3MTgsODAgQzQyLjkwNjIwMDcsNzYuNDU0OTM1OCA0Ny41NjQ5MTY3LDcxLjU0MjI2NzEgNDguOTgzODY2LDY1LjI2MTk5MzkgQzUxLjExMjI4OTksNTUuODQxNTg0MiA0MS42NzcxNzk1LDQ5LjIxMjIyODQgMjUuNjIzOTg0Niw0OS4yMTIyMjg0IEMyNS40ODQ5Mjg5LDQ5LjEyNjg0NDggMjkuODI2MTI5Niw0My4yODM4MjQ4IDM4LjY0NzU4NjksMzEuNjgzMTY4MyBMNzIuODcxMjg3MSwzMi41NTQ0MjUgTDY1LjI4MDk3Myw2Ny42NzYzNDIxIEw1MS4xMTIyODk5LDc3LjM3NjE0NCBMMzUuMDA3NzE4LDgwIFoiIGlkPSJQYXRoLTIyIiBmaWxsPSIjMDAyODY4Ij48L3BhdGg+CiAgICAgICAgICAgICAgICA8cGF0aCBkPSJNMCwzNy43MzA0NDA1IEwyNy4xMTQ1MzcsMC4yNTcxMTE0MzYgQzYyLjM3MTUxMjMsLTEuOTkwNzE3MDEgODAsMTAuNTAwMzkyNyA4MCwzNy43MzA0NDA1IEM4MCw2NC45NjA0ODgyIDY0Ljc3NjUwMzgsNzkuMDUwMzQxNCAzNC4zMjk1MTEzLDgwIEM0Ny4wNTUzNDg5LDc3LjU2NzA4MDggNTMuNDE4MjY3Nyw3MC4zMTM2MTAzIDUzLjQxODI2NzcsNTguMjM5NTg4NSBDNTMuNDE4MjY3Nyw0MC4xMjg1NTU3IDM2LjMwMzk1NDQsMzcuNzMwNDQwNSAyNS4yMjc0MTcsMzcuNzMwNDQwNSBDMTcuODQzMDU4NiwzNy43MzA0NDA1IDkuNDMzOTE5NjYsMzcuNzMwNDQwNSAwLDM3LjczMDQ0MDUgWiIgaWQ9IlBhdGgtMTkiIGZpbGw9IiMzNzkzRUYiPjwvcGF0aD4KICAgICAgICAgICAgPC9nPgogICAgICAgIDwvZz4KICAgIDwvZz4KPC9zdmc+' > </img>\nCreated in <span style='font-weight:600;margin-left:4px;'>Deepnote</span></a>",
      "metadata": {
        "created_in_deepnote_cell": true,
        "deepnote_cell_type": "markdown"
      }
    }
  ],
  "nbformat": 4,
  "nbformat_minor": 0,
  "metadata": {
    "deepnote_notebook_id": "7b8882681e8f411299fba85b92393eb0",
    "deepnote_execution_queue": []
  }
}