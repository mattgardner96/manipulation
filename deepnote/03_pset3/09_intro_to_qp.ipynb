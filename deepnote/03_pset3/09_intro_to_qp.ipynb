{
  "cells": [
    {
      "cell_type": "markdown",
      "source": "# Introduction to QP",
      "metadata": {
        "id": "ERSps3-ac4Po",
        "colab_type": "text",
        "cell_id": "82870bce89ff48d99143a6ac567ff2c2",
        "deepnote_cell_type": "markdown"
      },
      "block_group": "39cb6b8ced784633b2e193710071f8d3"
    },
    {
      "cell_type": "code",
      "source": "# python libraries\nimport numpy as np\nfrom pydrake.all import MathematicalProgram, Solve, eq, ge, le",
      "metadata": {
        "id": "tFMmTfbHWQfh",
        "colab": {},
        "colab_type": "code",
        "cell_id": "f6e4ae37cf224a649fd64d62ae78fe0c",
        "deepnote_cell_type": "code"
      },
      "outputs": [],
      "outputs_reference": null,
      "execution_count": null,
      "block_group": "b4e6ff88d93a4cd480cd0ed4dc844043",
      "content_dependencies": null
    },
    {
      "cell_type": "markdown",
      "source": "# Introduction to MathematicalProgram \n\nThe purpose of this exercise is to get you familiar with the basics of what an instance of an optimization problem is, as well as how to solve it. \n\nAn optimization problem is usually written as \n\n$$\\begin{aligned} \\min_x \\quad & f(x) \\\\ \\textrm{s.t.} \\quad & g(x)\\leq 0,\\\\ \\quad &  h(x)=0 \\end{aligned}$$\n\nWe call $x$ the **decision variable**, $f(x)$ the **cost function**, $g(x)\\leq 0$ an **inequality constraint**, and $h(x)=0$ an **equality constraint**. We usually denote the optimal solution by $x^*$. Most of the times, the constraints are hard-constraints, meaning that they must be fulfilled by the optimal solution. \n\nDrake offers a very good interface to many solvers using `MathematicalProgram`. Let's try to solve a simple problem using `MathematicalProgram`: \n\n$$\\begin{aligned} \\min_x \\quad & \\frac{1}{2}x^2 \\\\ \\textrm{s.t.} \\quad & x\\geq 3 \\end{aligned}$$\n\nBefore we start coding, what do you expect the answer to be? You should persuade yourself that the optimal solution is $x^*=3$, since that is value at which minimum cost is achieved without violating the constraint.\n\n",
      "metadata": {
        "id": "ze9gQeOVOJUA",
        "colab_type": "text",
        "cell_id": "96efcf8241d440e397172b0cf3e5b073",
        "deepnote_cell_type": "markdown"
      },
      "block_group": "1712a1a3201641e7be13c25817189f4e"
    },
    {
      "cell_type": "code",
      "source": "\"\"\"\nSteps to solve a optimization problem using Drake's MathematicalProgram\n\"\"\"\n\n# 1. Define an instance of MathematicalProgram\nprog = MathematicalProgram()\n\n# 2. Add decision varaibles\nx = prog.NewContinuousVariables(1)\n\n# 3. Add Cost function\nprog.AddCost(x.dot(x))\n\n# 4. Add Constraints\nprog.AddConstraint(x[0] >= 3)\n\n# 5. Solve the problem\nresult = Solve(prog)\n\n# 6. Get the solution\nif result.is_success():\n    print(\"Solution: \" + str(result.GetSolution()))",
      "metadata": {
        "id": "Khi7GeVNcwtU",
        "colab": {},
        "colab_type": "code",
        "cell_id": "5c1ad106f07847c6818ab944d3adf954",
        "deepnote_cell_type": "code"
      },
      "outputs": [],
      "outputs_reference": null,
      "execution_count": null,
      "block_group": "d2097e8ccd1146d1b7c0f4ea50d31635",
      "content_dependencies": null
    },
    {
      "cell_type": "markdown",
      "source": "You should have seen that we were successful in getting the expected solution of $x^*=3$. \n\nA particular class of problems that we want to focus on this problem are [Quadratic Programs (QP)](https://en.wikipedia.org/wiki/Quadratic_programming), which can be solved very efficiently in practice (even on the order of kHz).\n\nThe general formulation of these problems are defined as follows. \n\n$$\\begin{aligned} \\min_x \\quad & \\frac{1}{2}x^T\\mathbf{Q}x + c^Tx \\\\ \\textrm{s.t.} \\quad & \\mathbf{A}x\\leq b,\\\\ \\quad &  \\mathbf{A}'x=b' \\end{aligned}$$\n\nwhere $\\mathbf{Q}$ is a positive-definite, symmetric matrix. Note that the cost is a quadratic function of the decision variables, while the constraints are all linear. This is what defines a convex QP. \n\nLet's practice solving a simple QP: \n\n$$\\begin{aligned} \\min_{x_0,x_1,x_2} \\quad & x_0^2 + x_1^2 + x_2^2 \\\\ \\textrm{s.t.} \\quad & \\begin{pmatrix} 2 & 3 & 1 \\\\ 5 & 1 & 0 \\end{pmatrix} \\begin{pmatrix} x_0 \\\\ x_1 \\\\ x_2 \\end{pmatrix} = \\begin{pmatrix} 1 \\\\ 1 \\end{pmatrix}\\\\  \\quad &  \\begin{pmatrix} x_0 \\\\ x_1 \\\\ x_2 \\end{pmatrix} \\leq \\begin{pmatrix} 2 \\\\ 2 \\\\ 2\\end{pmatrix} \\end{aligned}$$\n\nTo conveniently write down constraints that are vector-valued, Drake offers `eq,le,ge` for elementwise constraints. It might take some time to learn the syntax of constraints. For a more well-written and in-depth introduction to `MathematicalProgram`, [this notebook tutorial](https://deepnote.com/workspace/Drake-0b3b2c53-a7ad-441b-80f8-bf8350752305/project/Tutorials-2b4fc509-aef2-417d-a40d-6071dfed9199/notebook/mathematical_program-4c4f4de7d5d3452daacf45c20b315d31) is incredibly useful. \n \n",
      "metadata": {
        "id": "HvEI7697UUZC",
        "colab_type": "text",
        "cell_id": "0443df81fdee4b7a8ea0f20b6ea8995c",
        "deepnote_cell_type": "markdown"
      },
      "block_group": "57bfebed920e419886ab72622d8c3c07"
    },
    {
      "cell_type": "code",
      "source": "prog = MathematicalProgram()\n\nx = prog.NewContinuousVariables(3)\n\nprog.AddCost(x.dot(x))\nprog.AddConstraint(eq(np.array([[2, 3, 1], [5, 1, 0]]).dot(x), [1, 1]))\nprog.AddConstraint(le(x, 2 * np.ones(3)))\n\nresult = Solve(prog)\n\n# 6. Get the solution\nif result.is_success():\n    print(\"Solution: \" + str(result.GetSolution()))",
      "metadata": {
        "id": "SNvpjgzxVQJC",
        "colab": {},
        "colab_type": "code",
        "cell_id": "f2398b16ba294b2cb6abb61f4084e085",
        "deepnote_cell_type": "code"
      },
      "outputs": [],
      "outputs_reference": null,
      "execution_count": null,
      "block_group": "1dea1e5e1c2f41b8850b2791ccafc67d",
      "content_dependencies": null
    },
    {
      "cell_type": "markdown",
      "source": "\n**Now, it's your turn to solve a simple problem!** \n\nYou must solve the following problem and store the result in a variable named `result_submission`. \n\n$$\\begin{aligned} \\min_{x_0,x_1,x_2} \\quad & 2x_0^2 + x_1^2 + 3x_2^2 \\\\ \\textrm{s.t.} \\quad & \\begin{pmatrix} 1 & 2 & 3 \\\\ 2 & 7 & 4 \\end{pmatrix} \\begin{pmatrix} x_0 \\\\ x_1  \\\\ x_2 \\end{pmatrix} = \\begin{pmatrix} 1 \\\\ 1 \\end{pmatrix} \\\\ \\quad &  |x| \\leq \\begin{pmatrix} 0.35 \\\\ 0.35 \\\\ 0.35\\end{pmatrix} \\end{aligned}$$\n\nNOTE: The last constraint says that the absolute value of `x[i]` must be less than the value of `b_bb[i]`. You cannot put an absolute value directly as a constraint, so there are two routes that you can take:\n- Break the constraints down to two constraints that don't involve the absolute value.  \n- Drake offers [`AddBoundingBoxConstraint`](https://drake.mit.edu/pydrake/pydrake.solvers.html?highlight=addboundingboxconstraint#pydrake.solvers.MathematicalProgram.AddBoundingBoxConstraint) which you may use in your implementation.",
      "metadata": {
        "id": "SmYZWSewSwf6",
        "colab_type": "text",
        "cell_id": "36f3830d1efa4f0b97e31ffa42715b0c",
        "deepnote_cell_type": "markdown"
      },
      "block_group": "4c35e4867dc54b549c867e4fd0a9cad2"
    },
    {
      "cell_type": "code",
      "source": "prog = MathematicalProgram()\n\n# Modify here to get the solution to the above optimization problem.\n\nresult_submission = None  # store the result here.",
      "metadata": {
        "id": "qhMB4kc3asCE",
        "colab": {},
        "colab_type": "code",
        "cell_id": "fbc595e84b6644998513acaeb6df76b4",
        "deepnote_cell_type": "code"
      },
      "outputs": [],
      "outputs_reference": null,
      "execution_count": null,
      "block_group": "d5a5ce28406e4ee18f29ac9eb1d72640",
      "content_dependencies": null
    },
    {
      "cell_type": "markdown",
      "source": "## How will this notebook be Graded?\n\nIf you are enrolled in the class, this notebook will be graded using [Gradescope](www.gradescope.com). You should have gotten the enrollement code on our announcement in Piazza. \n\nFor submission of this assignment, you must do as follows:\n- Download and submit the notebook `intro_to_qp.ipynb` to Gradescope's notebook submission section, along with your notebook for the other problems.\n\nWe will evaluate the local functions in the notebook to see if the function behaves as we have expected. For this exercise, the rubric is as follows:\n- [4 pts] `result_submission` must have the correct answer to the QP. ",
      "metadata": {
        "id": "zPmeRLtJk410",
        "colab_type": "text",
        "cell_id": "bafede2130fb453cb7985c0e74c96f5f",
        "deepnote_cell_type": "markdown"
      },
      "block_group": "76b5d3a1b5c641cfba74ebb19894b38b"
    },
    {
      "cell_type": "markdown",
      "source": "Below is our autograder where you can check the correctness of your implementations. ",
      "metadata": {
        "id": "t4GLP2woecl5",
        "colab_type": "text",
        "cell_id": "d249795896944675bf31d680bcf6c844",
        "deepnote_cell_type": "markdown"
      },
      "block_group": "b0db492825584314b367de94440b66e6"
    },
    {
      "cell_type": "code",
      "source": "from manipulation.exercises.grader import Grader\nfrom manipulation.exercises.pick.test_simple_qp import TestSimpleQP\n\nGrader.grade_output([TestSimpleQP], [locals()], \"results.json\")\nGrader.print_test_results(\"results.json\")",
      "metadata": {
        "id": "Ea4zI6Enefhx",
        "colab": {},
        "colab_type": "code",
        "cell_id": "393cfaa06e344a329ff7d216c283eb9a",
        "deepnote_cell_type": "code"
      },
      "outputs": [],
      "outputs_reference": null,
      "execution_count": null,
      "block_group": "668cd29906794914bee43813bbc80c4d",
      "content_dependencies": null
    },
    {
      "cell_type": "markdown",
      "source": "<a style='text-decoration:none;line-height:16px;display:flex;color:#5B5B62;padding:10px;justify-content:end;' href='https://deepnote.com?utm_source=created-in-deepnote-cell&projectId=8a9c9b8b-9356-4af8-b9c8-57ff4e9f05f3' target=\"_blank\">\n<img alt='Created in deepnote.com' style='display:inline;max-height:16px;margin:0px;margin-right:7.5px;' src='data:image/svg+xml;base64,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' > </img>\nCreated in <span style='font-weight:600;margin-left:4px;'>Deepnote</span></a>",
      "metadata": {
        "created_in_deepnote_cell": true,
        "deepnote_cell_type": "markdown"
      }
    }
  ],
  "nbformat": 4,
  "nbformat_minor": 0,
  "metadata": {
    "deepnote_notebook_id": "8215b43f381447229a3089ee2de3ab19",
    "deepnote_execution_queue": []
  }
}