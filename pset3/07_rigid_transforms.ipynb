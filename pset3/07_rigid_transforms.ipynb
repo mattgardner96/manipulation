{
  "cells": [
    {
      "cell_type": "markdown",
      "source": "# Exercises on Rigid Transforms",
      "metadata": {
        "id": "c9GoM16F7I7Z",
        "colab_type": "text",
        "cell_id": "46cb05fab3e4438f8ac0f9e9527342f8",
        "deepnote_cell_type": "markdown"
      },
      "block_group": "8f4fd2a4c8704b9c80703eb577017e82"
    },
    {
      "cell_type": "code",
      "source": "# python libraries\nimport numpy as np\nfrom pydrake.all import RigidTransform, RotationMatrix",
      "metadata": {
        "id": "xyZz8R16E9jZ",
        "colab": {},
        "colab_type": "code",
        "cell_id": "20530bf2f34f4e0091528cbf40a45fc1",
        "deepnote_cell_type": "code"
      },
      "outputs": [],
      "outputs_reference": null,
      "execution_count": null,
      "block_group": "b6ff0a2b4c3e40709db359add1ec92f0",
      "content_dependencies": null
    },
    {
      "cell_type": "markdown",
      "source": "# Problem Description\nIn the lecture, we learned the basics of spatial transformations. In this exercise, you will compute simple rigid transforms applying the rules you have learned in class.\n\n**These are the main steps of the exercise:**\n1. Compute rigid transforms of frames in various reference frames.\n2. Design grasp pose using spatial transformation",
      "metadata": {
        "id": "EvOQi_xQE9kY",
        "colab_type": "text",
        "cell_id": "04996a5e00ee4b0cbf9331cb2a3cbdd8",
        "deepnote_cell_type": "markdown"
      },
      "block_group": "96c40f1ec95243f2931b733fecce5ac6"
    },
    {
      "cell_type": "markdown",
      "source": "# Exercise on Rigid Transforms\n\nAs a brief review, we have covered two rules of spatial transformation in [class](http://manipulation.csail.mit.edu/pick.html#spatial_algebra).\n\n$${^AX^B} {^BX^C} = {^AX^C},$$\n\n$$[^AX^B]^{-1} = {^BX^A}.$$\n\nNote that the rules of transforms are based on rules of transforming positions and rotations listed below. \n\nAddition of positions in the same frame:\n$$^Ap^B_F + ^Bp^C_F = ^Ap^C_F.$$\n\nThe additive inverse:\n$$^Ap^B_F = - ^Bp^A_F.$$\n\nRotation of a point:\n$$^Ap^B_G = {^GR^F} ^Ap^B_F.$$\n\nChaining rotations:\n$${^AR^B} {^BR^C} = {^AR^C}.$$\n\nInverse of rotations:\n$$[^AR^B]^{-1} = {^BR^A}.$$\n      \nApplying these rules will yield the same result as the ones computed by the former two rules.\n\nIn Drake, you can multiply frames by \n```python\nX_AB.multiply(X_BC)\nX_AB @ X_BC\n```\n\nYou may also inverse a rigid transform by the [inverse](https://drake.mit.edu/pydrake/pydrake.math.html?highlight=rigidtransform#pydrake.math.RigidTransform.inverse) method.\n\n```python\nX_AB.inverse()\n```",
      "metadata": {
        "id": "L-1Ad6xYQ2aK",
        "colab_type": "text",
        "cell_id": "677326444f974b1ea99b511520a323b4",
        "deepnote_cell_type": "markdown"
      },
      "block_group": "449bc9b28d304feb9a60c8f24014eed3"
    },
    {
      "cell_type": "markdown",
      "source": "Now suppose you have 4 frames, namely, the world frame, frame A, frame B, and frame C defined as below.\n\n-- frame A expressed in the world frame (`X_WA`)\n\n-- frame B expressed in frame A (`X_AB`)\n\n-- frame B expressed in frame C (`X_CB`)\n\n**Calcuate the following transforms by filling your code below in the designated functions.**\n\n(1) `X_WB`, frame B expressed in the world frame\n\n(2) `X_CW`, the world frame expressed in frame C",
      "metadata": {
        "id": "Ceqhp3vWZpzx",
        "colab_type": "text",
        "cell_id": "b4885216f28747c29f07df7ace3f0702",
        "deepnote_cell_type": "markdown"
      },
      "block_group": "f51100aba6cb46c68f6e4a2a32a66e3a"
    },
    {
      "cell_type": "code",
      "source": "def compute_X_WB(X_WA, X_AB, X_CB):\n    \"\"\"\n    fill your code here\n    \"\"\"\n    X_WB = RigidTransform()\n    return X_WB",
      "metadata": {
        "id": "FDPul5bRZpzy",
        "colab": {},
        "colab_type": "code",
        "cell_id": "925259efda0942888d00b678244aa313",
        "deepnote_cell_type": "code"
      },
      "outputs": [],
      "outputs_reference": null,
      "execution_count": null,
      "block_group": "25b3e07d359c44008e8e31fd81a7dd93",
      "content_dependencies": null
    },
    {
      "cell_type": "code",
      "source": "def compute_X_CW(X_WA, X_AB, X_CB):\n    \"\"\"\n    fill your code here\n    \"\"\"\n    X_CW = RigidTransform()\n    return X_CW",
      "metadata": {
        "id": "xJQ1vThXZpz6",
        "colab": {},
        "colab_type": "code",
        "cell_id": "7e11b5b2808442e3b02f92b1939acc2c",
        "deepnote_cell_type": "code"
      },
      "outputs": [],
      "outputs_reference": null,
      "execution_count": null,
      "block_group": "0fdc45d6a168421e9fa0b86b87085210",
      "content_dependencies": null
    },
    {
      "cell_type": "markdown",
      "source": "# Design Grasp Pose\nThe grasp pose is commonly defined in the object frame so that the grasp pose ${^OX^G}$ is independent of the pose of the object. The grasp pose in the world frame can be computed by \n\n$${{^WX^G} = {}{^W}X^{O}} {^OX^G},$$\n\nwhere $W$ stands for the world frame and $G$ denotes the grasp frame, following the convention in the textbook. \n\nYou should notice from the visualization below that the gripper frame is different from the world frame. In particular, the +y axis of the gripper frame points vertically downward, and the +z axis of the gripper points backward. This is an important observation for this exercise.",
      "metadata": {
        "id": "3DJxbaN6wjMw",
        "colab_type": "text",
        "cell_id": "7991d539278642a68ff483e1829490f3",
        "deepnote_cell_type": "markdown"
      },
      "block_group": "2cca75df647342fab4e33d73fb332628"
    },
    {
      "cell_type": "markdown",
      "source": "**Now for your exercise, use the gripper and object's orientation from the image to design a grasp pose that satisfy the conditions below**\n\n- **gripper's position should be 0.02 unit distance above the target object in the world frame**\n- **gripper's z axis should align with object's x axis**\n- **gripper's x axis should align with object's z axis**\n- **write grasp pose in the object frame and the world frame**\n\n**Remember that the X-axis is shown in red, Y-axis is in green, and Z-axis in blue.**",
      "metadata": {
        "id": "o-5gZ-jPJJ-9",
        "colab_type": "text",
        "cell_id": "c29eb4f149eb428b87900dc587e974d4",
        "deepnote_cell_type": "markdown"
      },
      "block_group": "0609a76fc9804ae097260284d5506980"
    },
    {
      "cell_type": "markdown",
      "source": "<img src=\"https://raw.githubusercontent.com/RussTedrake/manipulation/master/book/figures/exercises/grasp_pose_design.png\" width=\"500\">\n",
      "metadata": {
        "id": "txN1Mlk5MTjl",
        "colab_type": "text",
        "cell_id": "4f2b139832e64565b4a765b822d0ab4f",
        "deepnote_cell_type": "markdown"
      },
      "block_group": "14d1b5f78c85461cb01f92baf5108df5"
    },
    {
      "cell_type": "code",
      "source": "# Establish the pose of the block expressed in the world frame as shown in the image above.\n\np0_WO = [0.5, 0.1, 0]  # object in world frame\nR0_WO = RotationMatrix.MakeZRotation(-np.pi / 2)\nR0_WO = R0_WO.multiply(RotationMatrix.MakeXRotation(np.pi / 2))\nX_WO = RigidTransform(R0_WO, p0_WO)",
      "metadata": {
        "id": "ju-etoLzJ5zz",
        "colab": {},
        "colab_type": "code",
        "cell_id": "9ccee323bf75468e9623761e11cc0185",
        "deepnote_cell_type": "code"
      },
      "outputs": [],
      "outputs_reference": null,
      "execution_count": null,
      "block_group": "534edf6bcfa740618aa17aad17e86a76",
      "content_dependencies": null
    },
    {
      "cell_type": "code",
      "source": "def design_grasp_pose(X_WO):\n    \"\"\"\n    fill in our code below\n    \"\"\"\n    X_OG = RigidTransform()\n    X_WG = RigidTransform()\n    return X_OG, X_WG",
      "metadata": {
        "id": "84Po2q-MOLcJ",
        "colab": {},
        "colab_type": "code",
        "cell_id": "8bf8d8d97feb44ea8733ef6ba686e3f7",
        "deepnote_cell_type": "code"
      },
      "outputs": [],
      "outputs_reference": null,
      "execution_count": null,
      "block_group": "4acce42244c74d8dad4d82c0880f32e5",
      "content_dependencies": null
    },
    {
      "cell_type": "markdown",
      "source": "## How will this notebook be Graded?\n\nIf you are enrolled in the class, this notebook will be graded using [Gradescope](www.gradescope.com). You should have gotten the enrollement code on our announcement in Piazza. \n\nFor submission of this assignment, you must do two things. \n- Download and submit the notebook `rigid_transforms.ipynb` to Gradescope's notebook submission section, along with your notebook for the other problems.\n\nWe will evaluate the local functions in the notebook to see if the function behaves as we have expected. For this exercise, the rubric is as follows:\n- [1 pts] `compute_X_WB` is correct\n- [1 pts] `compute_X_CW` is correct\n- [2 pts] `design_grasp_pose` is correct according to the requirement",
      "metadata": {
        "id": "zPmeRLtJk410",
        "colab_type": "text",
        "cell_id": "85bcd41a0579475199541702ded5468a",
        "deepnote_cell_type": "markdown"
      },
      "block_group": "3ad8ebf879bc411b944db3794f5428d5"
    },
    {
      "cell_type": "code",
      "source": "from manipulation.exercises.grader import Grader\nfrom manipulation.exercises.pick.test_rigid_transforms import TestRigidTransforms\n\nGrader.grade_output([TestRigidTransforms], [locals()], \"results.json\")\nGrader.print_test_results(\"results.json\")",
      "metadata": {
        "id": "T2PwWuqT_O3r",
        "colab": {},
        "colab_type": "code",
        "cell_id": "2ee8de8a49fd40cdbcf1c9fce4accf0d",
        "deepnote_cell_type": "code"
      },
      "outputs": [],
      "outputs_reference": null,
      "execution_count": null,
      "block_group": "b8fed2beb0d94b71ac870e19df6091b1",
      "content_dependencies": null
    },
    {
      "cell_type": "markdown",
      "source": "<a style='text-decoration:none;line-height:16px;display:flex;color:#5B5B62;padding:10px;justify-content:end;' href='https://deepnote.com?utm_source=created-in-deepnote-cell&projectId=8a9c9b8b-9356-4af8-b9c8-57ff4e9f05f3' target=\"_blank\">\n<img alt='Created in deepnote.com' style='display:inline;max-height:16px;margin:0px;margin-right:7.5px;' src='data:image/svg+xml;base64,PD94bWwgdmVyc2lvbj0iMS4wIiBlbmNvZGluZz0iVVRGLTgiPz4KPHN2ZyB3aWR0aD0iODBweCIgaGVpZ2h0PSI4MHB4IiB2aWV3Qm94PSIwIDAgODAgODAiIHZlcnNpb249IjEuMSIgeG1sbnM9Imh0dHA6Ly93d3cudzMub3JnLzIwMDAvc3ZnIiB4bWxuczp4bGluaz0iaHR0cDovL3d3dy53My5vcmcvMTk5OS94bGluayI+CiAgICA8IS0tIEdlbmVyYXRvcjogU2tldGNoIDU0LjEgKDc2NDkwKSAtIGh0dHBzOi8vc2tldGNoYXBwLmNvbSAtLT4KICAgIDx0aXRsZT5Hcm91cCAzPC90aXRsZT4KICAgIDxkZXNjPkNyZWF0ZWQgd2l0aCBTa2V0Y2guPC9kZXNjPgogICAgPGcgaWQ9IkxhbmRpbmciIHN0cm9rZT0ibm9uZSIgc3Ryb2tlLXdpZHRoPSIxIiBmaWxsPSJub25lIiBmaWxsLXJ1bGU9ImV2ZW5vZGQiPgogICAgICAgIDxnIGlkPSJBcnRib2FyZCIgdHJhbnNmb3JtPSJ0cmFuc2xhdGUoLTEyMzUuMDAwMDAwLCAtNzkuMDAwMDAwKSI+CiAgICAgICAgICAgIDxnIGlkPSJHcm91cC0zIiB0cmFuc2Zvcm09InRyYW5zbGF0ZSgxMjM1LjAwMDAwMCwgNzkuMDAwMDAwKSI+CiAgICAgICAgICAgICAgICA8cG9seWdvbiBpZD0iUGF0aC0yMCIgZmlsbD0iIzAyNjVCNCIgcG9pbnRzPSIyLjM3NjIzNzYyIDgwIDM4LjA0NzY2NjcgODAgNTcuODIxNzgyMiA3My44MDU3NTkyIDU3LjgyMTc4MjIgMzIuNzU5MjczOSAzOS4xNDAyMjc4IDMxLjY4MzE2ODMiPjwvcG9seWdvbj4KICAgICAgICAgICAgICAgIDxwYXRoIGQ9Ik0zNS4wMDc3MTgsODAgQzQyLjkwNjIwMDcsNzYuNDU0OTM1OCA0Ny41NjQ5MTY3LDcxLjU0MjI2NzEgNDguOTgzODY2LDY1LjI2MTk5MzkgQzUxLjExMjI4OTksNTUuODQxNTg0MiA0MS42NzcxNzk1LDQ5LjIxMjIyODQgMjUuNjIzOTg0Niw0OS4yMTIyMjg0IEMyNS40ODQ5Mjg5LDQ5LjEyNjg0NDggMjkuODI2MTI5Niw0My4yODM4MjQ4IDM4LjY0NzU4NjksMzEuNjgzMTY4MyBMNzIuODcxMjg3MSwzMi41NTQ0MjUgTDY1LjI4MDk3Myw2Ny42NzYzNDIxIEw1MS4xMTIyODk5LDc3LjM3NjE0NCBMMzUuMDA3NzE4LDgwIFoiIGlkPSJQYXRoLTIyIiBmaWxsPSIjMDAyODY4Ij48L3BhdGg+CiAgICAgICAgICAgICAgICA8cGF0aCBkPSJNMCwzNy43MzA0NDA1IEwyNy4xMTQ1MzcsMC4yNTcxMTE0MzYgQzYyLjM3MTUxMjMsLTEuOTkwNzE3MDEgODAsMTAuNTAwMzkyNyA4MCwzNy43MzA0NDA1IEM4MCw2NC45NjA0ODgyIDY0Ljc3NjUwMzgsNzkuMDUwMzQxNCAzNC4zMjk1MTEzLDgwIEM0Ny4wNTUzNDg5LDc3LjU2NzA4MDggNTMuNDE4MjY3Nyw3MC4zMTM2MTAzIDUzLjQxODI2NzcsNTguMjM5NTg4NSBDNTMuNDE4MjY3Nyw0MC4xMjg1NTU3IDM2LjMwMzk1NDQsMzcuNzMwNDQwNSAyNS4yMjc0MTcsMzcuNzMwNDQwNSBDMTcuODQzMDU4NiwzNy43MzA0NDA1IDkuNDMzOTE5NjYsMzcuNzMwNDQwNSAwLDM3LjczMDQ0MDUgWiIgaWQ9IlBhdGgtMTkiIGZpbGw9IiMzNzkzRUYiPjwvcGF0aD4KICAgICAgICAgICAgPC9nPgogICAgICAgIDwvZz4KICAgIDwvZz4KPC9zdmc+' > </img>\nCreated in <span style='font-weight:600;margin-left:4px;'>Deepnote</span></a>",
      "metadata": {
        "created_in_deepnote_cell": true,
        "deepnote_cell_type": "markdown"
      }
    }
  ],
  "nbformat": 4,
  "nbformat_minor": 0,
  "metadata": {
    "deepnote_notebook_id": "cb2207b490ee4bfa95899fc951487f7f",
    "deepnote_execution_queue": []
  }
}