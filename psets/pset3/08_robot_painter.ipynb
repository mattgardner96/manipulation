{
  "cells": [
    {
      "cell_type": "markdown",
      "metadata": {
        "cell_id": "e5b2f514ede645ecab49c7df8dcaee83",
        "colab_type": "text",
        "deepnote_cell_type": "markdown",
        "id": "KE6SesUXE9jX"
      },
      "source": [
        "# Robot Painter"
      ]
    },
    {
      "cell_type": "code",
      "execution_count": 1,
      "metadata": {
        "cell_id": "9f79ff47de7b457daf52d090e2681f18",
        "colab": {},
        "colab_type": "code",
        "deepnote_cell_type": "code",
        "id": "xyZz8R16E9jZ",
        "lines_to_end_of_cell_marker": 2
      },
      "outputs": [],
      "source": [
        "import numpy as np\n",
        "from pydrake.all import (\n",
        "    AbstractValue,\n",
        "    ConstantVectorSource,\n",
        "    DiagramBuilder,\n",
        "    LeafSystem,\n",
        "    PiecewisePose,\n",
        "    RigidTransform,\n",
        "    RotationMatrix,\n",
        "    Simulator,\n",
        "    StartMeshcat,\n",
        ")\n",
        "\n",
        "from manipulation import running_as_notebook\n",
        "from manipulation.exercises.grader import Grader\n",
        "from manipulation.exercises.pick.test_robot_painter import TestRobotPainter\n",
        "from manipulation.meshcat_utils import AddMeshcatTriad\n",
        "from manipulation.scenarios import AddIiwaDifferentialIK\n",
        "from manipulation.station import LoadScenario, MakeHardwareStation"
      ]
    },
    {
      "cell_type": "code",
      "execution_count": 2,
      "metadata": {
        "cell_id": "d7f0e229dfcc465aaa14e373dc74f6d1",
        "deepnote_cell_type": "code"
      },
      "outputs": [
        {
          "name": "stderr",
          "output_type": "stream",
          "text": [
            "INFO:drake:Meshcat listening for connections at http://localhost:7001\n"
          ]
        }
      ],
      "source": [
        "# Start the visualizer.\n",
        "meshcat = StartMeshcat()"
      ]
    },
    {
      "cell_type": "markdown",
      "metadata": {
        "cell_id": "a7d1854433484dea9f919d1d67f1a9e1",
        "colab_type": "text",
        "deepnote_cell_type": "markdown",
        "id": "zfITVansaoLi"
      },
      "source": [
        "In the following cell we provide a wrapper class that hides parts of the implementation details in Drake. You are not required to understand how it works."
      ]
    },
    {
      "cell_type": "code",
      "execution_count": 3,
      "metadata": {
        "cell_id": "e91ff7b6beb74da7b992bb249676fd62",
        "colab": {},
        "colab_type": "code",
        "deepnote_cell_type": "code",
        "id": "SuwPFHfYE9jj"
      },
      "outputs": [],
      "source": [
        "class PoseTrajectorySource(LeafSystem):\n",
        "    def __init__(self, pose_trajectory):\n",
        "        LeafSystem.__init__(self)\n",
        "        self._pose_trajectory = pose_trajectory\n",
        "        self.DeclareAbstractOutputPort(\n",
        "            \"pose\", lambda: AbstractValue.Make(RigidTransform()), self.CalcPose\n",
        "        )\n",
        "\n",
        "    def CalcPose(self, context, output):\n",
        "        output.set_value(self._pose_trajectory.GetPose(context.get_time()))\n",
        "\n",
        "\n",
        "class IIWA_Painter:\n",
        "    def __init__(self, traj=None):\n",
        "        builder = DiagramBuilder()\n",
        "        scenario_data = \"\"\"\n",
        "        directives:\n",
        "        - add_directives:\n",
        "            file: package://manipulation/clutter.dmd.yaml\n",
        "        model_drivers:\n",
        "            iiwa: !IiwaDriver\n",
        "                control_mode: position_only\n",
        "                hand_model_name: wsg\n",
        "            wsg: !SchunkWsgDriver {}\n",
        "        \"\"\"\n",
        "        scenario = LoadScenario(data=scenario_data)\n",
        "        self.station = builder.AddSystem(MakeHardwareStation(scenario, meshcat=meshcat))\n",
        "        self.plant = self.station.GetSubsystemByName(\"plant\")\n",
        "        # Remove joint limits from the wrist joint.\n",
        "        self.plant.GetJointByName(\"iiwa_joint_7\").set_position_limits(\n",
        "            [-np.inf], [np.inf]\n",
        "        )\n",
        "        controller_plant = self.station.GetSubsystemByName(\n",
        "            \"iiwa_controller_plant_pointer_system\",\n",
        "        ).get()\n",
        "\n",
        "        # optionally add trajectory source\n",
        "        if traj is not None:\n",
        "            traj_source = builder.AddSystem(PoseTrajectorySource(traj))\n",
        "            self.controller = AddIiwaDifferentialIK(\n",
        "                builder,\n",
        "                controller_plant,\n",
        "                frame=controller_plant.GetFrameByName(\"body\"),\n",
        "            )\n",
        "            builder.Connect(\n",
        "                traj_source.get_output_port(),\n",
        "                self.controller.get_input_port(0),\n",
        "            )\n",
        "            builder.Connect(\n",
        "                self.station.GetOutputPort(\"iiwa.state_estimated\"),\n",
        "                self.controller.GetInputPort(\"robot_state\"),\n",
        "            )\n",
        "\n",
        "            builder.Connect(\n",
        "                self.controller.get_output_port(),\n",
        "                self.station.GetInputPort(\"iiwa.position\"),\n",
        "            )\n",
        "        else:\n",
        "            iiwa_position = builder.AddSystem(ConstantVectorSource(np.zeros(7)))\n",
        "            builder.Connect(\n",
        "                iiwa_position.get_output_port(),\n",
        "                self.station.GetInputPort(\"iiwa.position\"),\n",
        "            )\n",
        "\n",
        "        wsg_position = builder.AddSystem(ConstantVectorSource([0.1]))\n",
        "        builder.Connect(\n",
        "            wsg_position.get_output_port(),\n",
        "            self.station.GetInputPort(\"wsg.position\"),\n",
        "        )\n",
        "\n",
        "        self.diagram = builder.Build()\n",
        "        self.gripper_frame = self.plant.GetFrameByName(\"body\")\n",
        "        self.world_frame = self.plant.world_frame()\n",
        "\n",
        "        context = self.CreateDefaultContext()\n",
        "        self.diagram.ForcedPublish(context)\n",
        "\n",
        "    def visualize_frame(self, name, X_WF, length=0.15, radius=0.006):\n",
        "        \"\"\"\n",
        "        visualize imaginary frame that are not attached to existing bodies\n",
        "\n",
        "        Input:\n",
        "            name: the name of the frame (str)\n",
        "            X_WF: a RigidTransform to from frame F to world.\n",
        "\n",
        "        Frames whose names already exist will be overwritten by the new frame\n",
        "        \"\"\"\n",
        "        AddMeshcatTriad(\n",
        "            meshcat, \"painter/\" + name, length=length, radius=radius, X_PT=X_WF\n",
        "        )\n",
        "\n",
        "    def CreateDefaultContext(self):\n",
        "        context = self.diagram.CreateDefaultContext()\n",
        "        plant_context = self.diagram.GetMutableSubsystemContext(self.plant, context)\n",
        "\n",
        "        # provide initial states\n",
        "        q0 = np.array(\n",
        "            [\n",
        "                1.40666193e-05,\n",
        "                1.56461165e-01,\n",
        "                -3.82761069e-05,\n",
        "                -1.32296976e00,\n",
        "                -6.29097287e-06,\n",
        "                1.61181157e00,\n",
        "                -2.66900985e-05,\n",
        "            ]\n",
        "        )\n",
        "        # set the joint positions of the kuka arm\n",
        "        iiwa = self.plant.GetModelInstanceByName(\"iiwa\")\n",
        "        self.plant.SetPositions(plant_context, iiwa, q0)\n",
        "        self.plant.SetVelocities(plant_context, iiwa, np.zeros(7))\n",
        "        wsg = self.plant.GetModelInstanceByName(\"wsg\")\n",
        "        self.plant.SetPositions(plant_context, wsg, [-0.05, 0.05])\n",
        "        self.plant.SetVelocities(plant_context, wsg, [0, 0])\n",
        "\n",
        "        return context\n",
        "\n",
        "    def get_X_WG(self, context=None):\n",
        "        if not context:\n",
        "            context = self.CreateDefaultContext()\n",
        "        plant_context = self.plant.GetMyMutableContextFromRoot(context)\n",
        "        X_WG = self.plant.CalcRelativeTransform(\n",
        "            plant_context, frame_A=self.world_frame, frame_B=self.gripper_frame\n",
        "        )\n",
        "        return X_WG\n",
        "\n",
        "    def paint(self, sim_duration=20.0):\n",
        "        context = self.CreateDefaultContext()\n",
        "        simulator = Simulator(self.diagram, context)\n",
        "\n",
        "        meshcat.StartRecording(set_visualizations_while_recording=False)\n",
        "        duration = sim_duration if running_as_notebook else 0.01\n",
        "        simulator.AdvanceTo(duration)\n",
        "        meshcat.PublishRecording()"
      ]
    },
    {
      "cell_type": "markdown",
      "metadata": {
        "cell_id": "e1374985a2284caf8ac45ca3b9461716",
        "colab_type": "text",
        "deepnote_cell_type": "markdown",
        "id": "EvOQi_xQE9kY"
      },
      "source": [
        "# Problem Description\n",
        "In the lecture, we learned the basics of spatial transformations. For this exercise, you will have iiwa arm *paint* a circular, planar trajectory by computing and interpolating the key frames, just as we have seen from the lecture\n",
        "\n",
        "**These are the main steps of the exercise:**\n",
        "1. Design and implement a circular trajectory for the Iiwa arm to follow.\n",
        "2. Observe and reflect on the Differential IK controller."
      ]
    },
    {
      "cell_type": "markdown",
      "metadata": {
        "cell_id": "717488fef2fd47db980bf8f530110eb7",
        "colab_type": "text",
        "deepnote_cell_type": "markdown",
        "id": "kEzcpiOiZp0C"
      },
      "source": [
        "# Circular Trajectory\n",
        "\n",
        "In this exercise, you will design a circular planar trajectory like the one below for the iiwa arm to follow, like a robot painting in the air! To do so, we will follow the same procedure as shown in class:\n",
        "\n",
        "(1) compute the key frames of the circular trajectory\n",
        "\n",
        "(2) construct interpolated trajectory from the key frames"
      ]
    },
    {
      "cell_type": "markdown",
      "metadata": {
        "cell_id": "0bfad9b6b9794976905c58cca88415a8",
        "colab_type": "text",
        "deepnote_cell_type": "markdown",
        "id": "KwoXw_yDgtbg"
      },
      "source": [
        "<img src=\"https://raw.githubusercontent.com/RussTedrake/manipulation/master/book/figures/exercises/robot_painter_circle.png\" width=\"700\">"
      ]
    },
    {
      "cell_type": "markdown",
      "metadata": {
        "cell_id": "336711a116a34642a136b700d7f7f04e",
        "colab_type": "text",
        "deepnote_cell_type": "markdown",
        "id": "KqinvTKyZp0E"
      },
      "source": [
        "The x and y axis in the diagram above are from the world frame."
      ]
    },
    {
      "cell_type": "markdown",
      "metadata": {
        "cell_id": "bd456dbd1a8a4bf59f25acf97feaa6e7",
        "colab_type": "text",
        "deepnote_cell_type": "markdown",
        "id": "C-lMFAjpHRtp"
      },
      "source": [
        "<img src=\"https://raw.githubusercontent.com/RussTedrake/manipulation/master/book/figures/exercises/robot_painter_screenshot.png\" width=\"700\">"
      ]
    },
    {
      "cell_type": "markdown",
      "metadata": {
        "cell_id": "fd24793c4e5f49aebb3a5d15e14030c1",
        "colab_type": "text",
        "deepnote_cell_type": "markdown",
        "id": "O5gumWUPZp0G"
      },
      "source": [
        "The screenshot above visualizes the key frames of the circular trajectory. The key frames illustrate the poses of the gripper in the world frame at different time steps along the trajectory. First, you should notice from the visualization above that the gripper frame is different from the world frame. In particular, the +y axis of the gripper frame points vertically downward, and the +z axis of the gripper points backward. This is an important observation for this exercise.\n",
        "\n",
        "The rigid transform of the center of the circular trajectory as well as the radius of the circle is defined below. In words, we would like to have our arm rotate counterclockwise about the +z axis in the world frame. Besides, we would like the +z axis of the gripper frame to always point toward the center of the circle."
      ]
    },
    {
      "cell_type": "code",
      "execution_count": 4,
      "metadata": {
        "cell_id": "de45e3cda331492b9644315ec5671282",
        "colab": {},
        "colab_type": "code",
        "deepnote_cell_type": "code",
        "id": "iQ7RRZrGE9kZ"
      },
      "outputs": [
        {
          "name": "stderr",
          "output_type": "stream",
          "text": [
            "WARNING:drake:OutputPort[5] (spatial_velocities) of System ::plant (MultibodyPlant<double>) is deprecated: Use 'body_spatial_velocities' not 'spatial_velocities'. The deprecated spelling will be removed on 2024-10-01.\n",
            "WARNING:drake:OutputPort[7] (spatial_accelerations) of System ::plant (MultibodyPlant<double>) is deprecated: Use 'body_spatial_accelerations' not 'spatial_accelerations'. The deprecated spelling will be removed on 2024-10-01.\n"
          ]
        }
      ],
      "source": [
        "# define center and radius\n",
        "radius = 0.1\n",
        "p0 = [0.45, 0.0, 0.4]\n",
        "R0 = RotationMatrix(np.array([[0, 1, 0], [0, 0, -1], [-1, 0, 0]]).T)\n",
        "X_WCenter = RigidTransform(R0, p0)\n",
        "\n",
        "num_key_frames = 10\n",
        "\"\"\"\n",
        "you may use different thetas as long as your trajectory starts\n",
        "from the Start Frame above and your rotation is positive\n",
        "in the world frame about +z axis\n",
        "thetas = np.linspace(0, 2*np.pi, num_key_frames)\n",
        "\"\"\"\n",
        "thetas = np.linspace(0, 2 * np.pi, num_key_frames)\n",
        "\n",
        "painter = IIWA_Painter()"
      ]
    },
    {
      "cell_type": "markdown",
      "metadata": {
        "cell_id": "8511b0d0dac24b29ba8bf3d834ad7a7e",
        "colab_type": "text",
        "deepnote_cell_type": "markdown",
        "id": "V_F1YLhfZp0M"
      },
      "source": [
        "We have provided an `IIWA_painter` class at the very top of this notebook to help you abstract away parts of the implementation details in Drake. You may find `visualize_frame` method helpful to visualize rigid transforms. The cell below first computes the rigid transform of the current gripper pose, and then it draws a frame of that pose in meshcat. Note that the frame drawn here is not attached to any body in the scene. They are for visualization only."
      ]
    },
    {
      "cell_type": "code",
      "execution_count": 5,
      "metadata": {
        "cell_id": "9448d0b9071a46059193952dfbe8673b",
        "colab": {},
        "colab_type": "code",
        "deepnote_cell_type": "code",
        "id": "FbPCfGekZp0N"
      },
      "outputs": [],
      "source": [
        "X_WG = painter.get_X_WG()\n",
        "painter.visualize_frame(\"gripper_current\", X_WG)"
      ]
    },
    {
      "cell_type": "markdown",
      "metadata": {
        "cell_id": "d87e8c8c5612411a9a1cdb590755fc6a",
        "colab_type": "text",
        "deepnote_cell_type": "markdown",
        "id": "WBMew300E9kM"
      },
      "source": [
        "Finally, you can compose arbitrary rotations via `MakeXRotation`, `MakeYRotation`, and `MakeZRotation` methods. Their names are quite self-explanatory."
      ]
    },
    {
      "cell_type": "code",
      "execution_count": 6,
      "metadata": {
        "cell_id": "4bceb9ffe36f45bda7826344af508f7f",
        "colab": {},
        "colab_type": "code",
        "deepnote_cell_type": "code",
        "id": "GuCZwacoE9kN"
      },
      "outputs": [
        {
          "data": {
            "text/plain": [
              "RotationMatrix([\n",
              "  [0.8660254037844387, 0.0, 0.49999999999999994],\n",
              "  [0.0, 1.0, 0.0],\n",
              "  [-0.49999999999999994, 0.0, 0.8660254037844387],\n",
              "])"
            ]
          },
          "execution_count": 6,
          "metadata": {},
          "output_type": "execute_result"
        }
      ],
      "source": [
        "RotationMatrix.MakeYRotation(np.pi / 6.0)"
      ]
    },
    {
      "cell_type": "markdown",
      "metadata": {
        "cell_id": "67fea2177fe84d5f81f92ee4cbe8e01f",
        "colab_type": "text",
        "deepnote_cell_type": "markdown",
        "id": "oJv_BmszE9kj"
      },
      "source": [
        "**Below, your job is to complete the compose_circular_key_frames method given the center of the circle, a desired radius and interpolated rotation angles about the center of the circle of the key frames**"
      ]
    },
    {
      "cell_type": "code",
      "execution_count": 43,
      "metadata": {
        "cell_id": "55d5cd60ea034a72bb2733bad8801167",
        "colab": {},
        "colab_type": "code",
        "deepnote_cell_type": "code",
        "id": "8Bh455axE9kk"
      },
      "outputs": [],
      "source": [
        "def compose_circular_key_frames(thetas, X_WCenter, radius):\n",
        "    \"\"\"\n",
        "    returns: a list of RigidTransforms\n",
        "    \"\"\"\n",
        "    # this is an template, replace your code below\n",
        "    key_frame_poses_in_world = []\n",
        "\n",
        "    for theta in thetas:\n",
        "        R_WG = X_WCenter.rotation().MakeYRotation(-theta)\n",
        "        p_WG = radius * np.array([np.cos(theta), np.sin(theta), 0])\n",
        "        this_pose = RigidTransform(\n",
        "            # rotation matrix for theta\n",
        "            X_WCenter.rotation() @ R_WG,\n",
        "            # translation for theta\n",
        "            X_WCenter.translation() + p_WG\n",
        "        )\n",
        "        key_frame_poses_in_world.append(this_pose)\n",
        "\n",
        "    return key_frame_poses_in_world"
      ]
    },
    {
      "cell_type": "code",
      "execution_count": 44,
      "metadata": {
        "cell_id": "663976c641584fd5b53b9a91f127eb52",
        "colab": {},
        "colab_type": "code",
        "deepnote_cell_type": "code",
        "id": "e28C5w_RE9kt"
      },
      "outputs": [],
      "source": [
        "def visualize_key_frames(frame_poses):\n",
        "    for i, pose in enumerate(frame_poses):\n",
        "        painter.visualize_frame(\"frame_{}\".format(i), pose, length=0.05)\n",
        "\n",
        "key_frame_poses = compose_circular_key_frames(thetas, X_WCenter, radius)\n",
        "visualize_key_frames(key_frame_poses)\n"
      ]
    },
    {
      "cell_type": "markdown",
      "metadata": {
        "cell_id": "931458d873fd40eab7bb34c9b5ab7e52",
        "colab_type": "text",
        "deepnote_cell_type": "markdown",
        "id": "ag2beQ-wE9kx"
      },
      "source": [
        "## Construct Trajectory\n",
        "\n",
        "Now we construct the trajectories to interpolate the positions and orientations of key frames using `PiecewisePose`.\n"
      ]
    },
    {
      "cell_type": "code",
      "execution_count": 45,
      "metadata": {
        "cell_id": "5fee132437204d0eac94e0168182eea1",
        "colab": {},
        "colab_type": "code",
        "deepnote_cell_type": "code",
        "id": "MGah0BwTE9ky"
      },
      "outputs": [],
      "source": [
        "X_WGinit = painter.get_X_WG()\n",
        "total_time = 20\n",
        "key_frame_poses = [X_WGinit] + compose_circular_key_frames(thetas, X_WCenter, radius)\n",
        "times = np.linspace(0, total_time, num_key_frames + 1)\n",
        "traj = PiecewisePose.MakeLinear(times, key_frame_poses)"
      ]
    },
    {
      "cell_type": "markdown",
      "metadata": {
        "cell_id": "011f9dc768ca4268bcb8cde5c7b5eea6",
        "colab_type": "text",
        "deepnote_cell_type": "markdown",
        "id": "YB0sjycBE9k8"
      },
      "source": [
        "Now you should be able to visualize the execution of the circular painting. Use it to confirm that the gripper moves counterclockwise following the key frames previously drawn in the scene."
      ]
    },
    {
      "cell_type": "code",
      "execution_count": 46,
      "metadata": {
        "cell_id": "0a98d750663b494ea3caf90309a06c43",
        "colab": {},
        "colab_type": "code",
        "deepnote_cell_type": "code",
        "id": "lumf3EUSZp0y"
      },
      "outputs": [
        {
          "name": "stderr",
          "output_type": "stream",
          "text": [
            "WARNING:drake:Differential IK started returning status:\"no solution\" at time 0.136.\n",
            "WARNING:drake:Differential IK started finding solutions again at time 0.137.\n",
            "WARNING:drake:Differential IK started returning status:\"no solution\" at time 0.138.\n",
            "WARNING:drake:Differential IK started finding solutions again at time 0.139.\n",
            "WARNING:drake:Differential IK started returning status:\"no solution\" at time 0.14200000000000002.\n",
            "WARNING:drake:Differential IK started finding solutions again at time 0.14300000000000002.\n",
            "WARNING:drake:Differential IK started returning status:\"no solution\" at time 0.14400000000000002.\n",
            "WARNING:drake:Differential IK started finding solutions again at time 0.145.\n",
            "WARNING:drake:Differential IK started returning status:\"no solution\" at time 0.146.\n",
            "WARNING:drake:Differential IK started finding solutions again at time 0.147.\n"
          ]
        }
      ],
      "source": [
        "painter = IIWA_Painter(traj)\n",
        "painter.paint(sim_duration=total_time)"
      ]
    },
    {
      "cell_type": "markdown",
      "metadata": {
        "cell_id": "d228dee25e7841c0b6633d03e404eddd",
        "colab_type": "text",
        "deepnote_cell_type": "markdown",
        "id": "OaaONjD4E9lI"
      },
      "source": [
        "## Reflect \n",
        "\n",
        "**Take a look at the constructor for the `IIWA_Painter` class a few cells above. Note that we are using `AddIiwaDifferentialIK` as our controller. Internally, it uses the system [DifferentialInverseKinematicsIntegrator](https://drake.mit.edu/pydrake/pydrake.multibody.inverse_kinematics.html#pydrake.multibody.inverse_kinematics.DifferentialInverseKinematicsIntegrator). Read the documentation and reason out how it works, and answer the following three questions (1-2 sentences each is sufficient).**\n",
        "1. From the documentation: `DifferentialInverseKinematicsIntegrator` integrates successive calls to `DoDifferentialInverseKinematics`. Why is integrating necessary?\n",
        "2. Why is it important to set the initial state of the integrator?\n",
        "3. How does our code set the initial state of the integrator? Look at the constructor for the `IIWA_Painter` class. "
      ]
    },
    {
      "cell_type": "markdown",
      "metadata": {
        "cell_id": "9412e8721cc240c08788dbebfe191fde",
        "colab_type": "text",
        "deepnote_cell_type": "markdown",
        "id": "oJGsEidfE9lJ"
      },
      "source": [
        "### Your Answer\n",
        "\n",
        "1. Since we are only producing joint velocities, integration is essential to understand the current position of the end effector and all of the arm's links.\n",
        "2. Initial state of the integrator is the constant term during the integration The integrator only calculates _relative_ position from the sum of the velocities commanded, so the integrator must be set to the beginning of the initial position of the arm's joints before moves are commanded.\n",
        "3. State is set using the `robot_state` input port of the DiffInverseIK integrator. According to the documentation, _If the robot_state port is connected, then the initial state of the integrator is set to match the positions from this port (the port accepts the state vector with positions and velocities for easy of use with MultibodyPlant, but only the positions are used)._ This means that when we tie the input port to the robot state, the integrator assumes the initial state from the existing robot state at t0 automatically."
      ]
    },
    {
      "cell_type": "markdown",
      "metadata": {
        "cell_id": "fb5354400e0c4d0c862f85fdb4cd77bb",
        "colab_type": "text",
        "deepnote_cell_type": "markdown",
        "id": "zPmeRLtJk410"
      },
      "source": [
        "## How will this notebook be Graded?\n",
        "\n",
        "If you are enrolled in the class, this notebook will be graded using [Gradescope](www.gradescope.com). You should have gotten the enrollement code on our announcement in Piazza.\n",
        "\n",
        "For submission of this assignment, you must do two things.\n",
        "- Download and submit the notebook `robot_painter.ipynb` to Gradescope's notebook submission section, along with your notebook for the other problems.\n",
        "\n",
        "We will evaluate the local functions in the notebook to see if the function behaves as we have expected. For this exercise, the rubric is as follows:\n",
        "- [4.0 pts] `compose_circular_key_frames` is correct according to the requirement\n",
        "- [3.0 pts] reasonable answers on the written questions"
      ]
    },
    {
      "cell_type": "code",
      "execution_count": null,
      "metadata": {
        "cell_id": "d212e274a13b468c9e69209b05e0de65",
        "colab": {},
        "colab_type": "code",
        "deepnote_cell_type": "code",
        "id": "95VTQeqg_P0P"
      },
      "outputs": [],
      "source": [
        "Grader.grade_output([TestRobotPainter], [locals()], \"results.json\")\n",
        "Grader.print_test_results(\"results.json\")"
      ]
    },
    {
      "cell_type": "markdown",
      "metadata": {
        "created_in_deepnote_cell": true,
        "deepnote_cell_type": "markdown"
      },
      "source": [
        "<a style='text-decoration:none;line-height:16px;display:flex;color:#5B5B62;padding:10px;justify-content:end;' href='https://deepnote.com?utm_source=created-in-deepnote-cell&projectId=8a9c9b8b-9356-4af8-b9c8-57ff4e9f05f3' target=\"_blank\">\n",
        "<img alt='Created in deepnote.com' style='display:inline;max-height:16px;margin:0px;margin-right:7.5px;' src='data:image/svg+xml;base64,PD94bWwgdmVyc2lvbj0iMS4wIiBlbmNvZGluZz0iVVRGLTgiPz4KPHN2ZyB3aWR0aD0iODBweCIgaGVpZ2h0PSI4MHB4IiB2aWV3Qm94PSIwIDAgODAgODAiIHZlcnNpb249IjEuMSIgeG1sbnM9Imh0dHA6Ly93d3cudzMub3JnLzIwMDAvc3ZnIiB4bWxuczp4bGluaz0iaHR0cDovL3d3dy53My5vcmcvMTk5OS94bGluayI+CiAgICA8IS0tIEdlbmVyYXRvcjogU2tldGNoIDU0LjEgKDc2NDkwKSAtIGh0dHBzOi8vc2tldGNoYXBwLmNvbSAtLT4KICAgIDx0aXRsZT5Hcm91cCAzPC90aXRsZT4KICAgIDxkZXNjPkNyZWF0ZWQgd2l0aCBTa2V0Y2guPC9kZXNjPgogICAgPGcgaWQ9IkxhbmRpbmciIHN0cm9rZT0ibm9uZSIgc3Ryb2tlLXdpZHRoPSIxIiBmaWxsPSJub25lIiBmaWxsLXJ1bGU9ImV2ZW5vZGQiPgogICAgICAgIDxnIGlkPSJBcnRib2FyZCIgdHJhbnNmb3JtPSJ0cmFuc2xhdGUoLTEyMzUuMDAwMDAwLCAtNzkuMDAwMDAwKSI+CiAgICAgICAgICAgIDxnIGlkPSJHcm91cC0zIiB0cmFuc2Zvcm09InRyYW5zbGF0ZSgxMjM1LjAwMDAwMCwgNzkuMDAwMDAwKSI+CiAgICAgICAgICAgICAgICA8cG9seWdvbiBpZD0iUGF0aC0yMCIgZmlsbD0iIzAyNjVCNCIgcG9pbnRzPSIyLjM3NjIzNzYyIDgwIDM4LjA0NzY2NjcgODAgNTcuODIxNzgyMiA3My44MDU3NTkyIDU3LjgyMTc4MjIgMzIuNzU5MjczOSAzOS4xNDAyMjc4IDMxLjY4MzE2ODMiPjwvcG9seWdvbj4KICAgICAgICAgICAgICAgIDxwYXRoIGQ9Ik0zNS4wMDc3MTgsODAgQzQyLjkwNjIwMDcsNzYuNDU0OTM1OCA0Ny41NjQ5MTY3LDcxLjU0MjI2NzEgNDguOTgzODY2LDY1LjI2MTk5MzkgQzUxLjExMjI4OTksNTUuODQxNTg0MiA0MS42NzcxNzk1LDQ5LjIxMjIyODQgMjUuNjIzOTg0Niw0OS4yMTIyMjg0IEMyNS40ODQ5Mjg5LDQ5LjEyNjg0NDggMjkuODI2MTI5Niw0My4yODM4MjQ4IDM4LjY0NzU4NjksMzEuNjgzMTY4MyBMNzIuODcxMjg3MSwzMi41NTQ0MjUgTDY1LjI4MDk3Myw2Ny42NzYzNDIxIEw1MS4xMTIyODk5LDc3LjM3NjE0NCBMMzUuMDA3NzE4LDgwIFoiIGlkPSJQYXRoLTIyIiBmaWxsPSIjMDAyODY4Ij48L3BhdGg+CiAgICAgICAgICAgICAgICA8cGF0aCBkPSJNMCwzNy43MzA0NDA1IEwyNy4xMTQ1MzcsMC4yNTcxMTE0MzYgQzYyLjM3MTUxMjMsLTEuOTkwNzE3MDEgODAsMTAuNTAwMzkyNyA4MCwzNy43MzA0NDA1IEM4MCw2NC45NjA0ODgyIDY0Ljc3NjUwMzgsNzkuMDUwMzQxNCAzNC4zMjk1MTEzLDgwIEM0Ny4wNTUzNDg5LDc3LjU2NzA4MDggNTMuNDE4MjY3Nyw3MC4zMTM2MTAzIDUzLjQxODI2NzcsNTguMjM5NTg4NSBDNTMuNDE4MjY3Nyw0MC4xMjg1NTU3IDM2LjMwMzk1NDQsMzcuNzMwNDQwNSAyNS4yMjc0MTcsMzcuNzMwNDQwNSBDMTcuODQzMDU4NiwzNy43MzA0NDA1IDkuNDMzOTE5NjYsMzcuNzMwNDQwNSAwLDM3LjczMDQ0MDUgWiIgaWQ9IlBhdGgtMTkiIGZpbGw9IiMzNzkzRUYiPjwvcGF0aD4KICAgICAgICAgICAgPC9nPgogICAgICAgIDwvZz4KICAgIDwvZz4KPC9zdmc+' > </img>\n",
        "Created in <span style='font-weight:600;margin-left:4px;'>Deepnote</span></a>"
      ]
    }
  ],
  "metadata": {
    "deepnote_execution_queue": [],
    "deepnote_notebook_id": "ce87678f231240b38e974116854c4983",
    "kernelspec": {
      "display_name": ".venv",
      "language": "python",
      "name": "python3"
    },
    "language_info": {
      "codemirror_mode": {
        "name": "ipython",
        "version": 3
      },
      "file_extension": ".py",
      "mimetype": "text/x-python",
      "name": "python",
      "nbconvert_exporter": "python",
      "pygments_lexer": "ipython3",
      "version": "3.12.4"
    }
  },
  "nbformat": 4,
  "nbformat_minor": 0
}
