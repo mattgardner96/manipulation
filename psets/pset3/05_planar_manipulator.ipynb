{
  "cells": [
    {
      "cell_type": "markdown",
      "source": "# The Planar Manipulator",
      "metadata": {
        "id": "z6NJXa-db0Rz",
        "colab_type": "text",
        "cell_id": "6e684b8dd37f4d99b84f1a5c5ef49f3e",
        "deepnote_cell_type": "markdown"
      },
      "block_group": "5d0a1f0b718847b692159524f4f028c7"
    },
    {
      "cell_type": "code",
      "source": "# python libraries\nimport mpld3\nimport numpy as np\n\nfrom manipulation import running_as_notebook\nfrom manipulation.exercises.pick.plot_planar_manipulator import plot_planar_manipulator\n\n# enable mpld3 notebook\nif running_as_notebook:\n    mpld3.enable_notebook()",
      "metadata": {
        "id": "x9_4IU-fcOaB",
        "colab": {},
        "colab_type": "code",
        "cell_id": "56c0c4118d0742dc9d59599df28d1b5f",
        "deepnote_cell_type": "code"
      },
      "outputs": [],
      "outputs_reference": null,
      "execution_count": null,
      "block_group": "73a4d44b792e4ced94f3a4073ec6e791",
      "content_dependencies": null
    },
    {
      "cell_type": "markdown",
      "source": "## Problem Description\nIn the lecture, we learned about forward and differential inverse kinematics. For this exercise, you will derive these equations for a simple two-link planar manipulator, using simple geometrical reasoning. As is the case with good toy problems, the two link manipulator has many insights that extend to the multi-link case, despite its apparent simplicity. \n\n**These are the main steps of the exercise:**\n1. Write down the forward kinematics of the two-link manipulator. \n2. Derive the Jacobian of the forward kinematic map and analyze the conditions for which it is singular. ",
      "metadata": {
        "id": "mcSz0hOVtBd5",
        "colab_type": "text",
        "cell_id": "5a9b103d502146318697017016173168",
        "deepnote_cell_type": "markdown"
      },
      "block_group": "44449859551a4445921e4106e86d74cf"
    },
    {
      "cell_type": "markdown",
      "source": "# The Two-link Planar Manipulator \n\nThe two-link planar manipulator is a very popular toy problem in manipulator kinematics and dynamics. The coordinate description of the two link manipulator can be seen in the below image:\n\n<img src=\"https://raw.githubusercontent.com/RussTedrake/manipulation/master/book/figures/exercises/planar_two_link.png\" width=\"700\">\n\nIn the [monogram notation](https://drake.mit.edu/doxygen_cxx/group__multibody__quantities.html) introduced in the textbook, the forward kinematics of the manipulator refers to writing down the 2D position of the red point in space with respect to the green frame, ${}^A p^C$, as a function of joint angles $(q_0,q_1)$. \n\n**Below, your job is to write down the forward kinematics of the manipulator. You may assume both arm lengths are equal, and their length is given by L=1.0m**\n\nNOTE: You can use `np.sin()` and `np.cos()` for trigonometric implementations.\n\nHINT: If you can write down the 2D position of the blue point with respect to the green frame, ${}^A p^B$ as a function of $q_0$, and the position of the red point with respect to the blue point, ${}^B p^C$ as a function of $q_1$, then can you write down what ${}^A p^C$ should be?",
      "metadata": {
        "id": "zGzK9PCRdhAP",
        "colab_type": "text",
        "cell_id": "1f1c5e1314cb4aa6a148341015331997",
        "deepnote_cell_type": "markdown"
      },
      "block_group": "1d364f1b827a49a1a47f63d116c5fd26"
    },
    {
      "cell_type": "code",
      "source": "def forward_kinematics(q):\n    q0 = q[0]\n    q1 = q[1]\n    x = 0  # Fill your code here\n    y = 0  # Fill your code here\n    return np.array([x, y])",
      "metadata": {
        "id": "U0_SpmSGjCek",
        "colab": {},
        "colab_type": "code",
        "cell_id": "e94e6830385544e88539a22bbc5072f3",
        "deepnote_cell_type": "code"
      },
      "outputs": [],
      "outputs_reference": null,
      "execution_count": null,
      "block_group": "87be1d3976cf4700b4dd9b256142f483",
      "content_dependencies": null
    },
    {
      "cell_type": "markdown",
      "source": "We've provided a function for you to plot the manipulator and an x-y position in 2D space, so that you can confirm that your reasoning is geometrically correct / debug any problems that occur.\n\nBelow, if the position of the x marker (your computed forward kinematics) coincides with the red marker (the actual end effector position), then your implementation should be correct. You can run it multiple times for different joint configurations.",
      "metadata": {
        "id": "ID5D93clqizu",
        "colab_type": "text",
        "cell_id": "18e4db8951064687ba1a2de27cdf9c35",
        "deepnote_cell_type": "markdown"
      },
      "block_group": "8832135c7e7d4e419bcf5f084bd5a522"
    },
    {
      "cell_type": "code",
      "source": "q = 2 * np.pi * np.random.rand(2)\nplot_planar_manipulator(q, forward_kinematics(q))",
      "metadata": {
        "id": "iUcSZTmrmzmL",
        "colab": {},
        "colab_type": "code",
        "cell_id": "7f2bf9360be44c99a422b005020a95a6",
        "deepnote_cell_type": "code"
      },
      "outputs": [],
      "outputs_reference": null,
      "execution_count": null,
      "block_group": "ccbe4ce68f834d56839a7e3425cbf6cb",
      "content_dependencies": null
    },
    {
      "cell_type": "markdown",
      "source": "## The Translational Jacobian \n\nNow that we have the forward kinematics function that gives us our end-effector position given the joint angles:\n$${}^Ap^C=f(q),$$\n\nOur job now is to derive the translational Jacobian of this simple manipulator. As observed in the lecture, the translational [Jacobian](https://en.wikipedia.org/wiki/Jacobian_matrix_and_determinant) is a matrix relating how a change in end-effector position is related to changes in joint angles: \n\n$$d {}^Ap^C=\\frac{\\partial f(q)}{\\partial q} dq = \\mathbf{J}(q) dq.$$\n\nIf you are not familiar with vector calculus, you can write it down even more explicitly as:\n\n$$\n\\mathbf{J}(q)=\\frac{\\partial f(q)}{\\partial q} = \\begin{bmatrix} \n\\partial x/\\partial q_0 & \\partial x/\\partial q_1 \\\\ \n\\partial y/\\partial q_0 & \\partial y/\\partial q_1 \\end{bmatrix}.\n$$\n\nWe recommend you get familiar with these computations since they are super common for most robotic problems! \n\n**Below, you will write down the 2x2 Jacobian matrix based on the forward kinematics you have derived above.**",
      "metadata": {
        "id": "7ljl897Nrnpr",
        "colab_type": "text",
        "cell_id": "fbed8af5ea514ea0b3517346e4d79282",
        "deepnote_cell_type": "markdown"
      },
      "block_group": "8216889d6e7e46588e169867db223705"
    },
    {
      "cell_type": "code",
      "source": "def Jacobian(q):\n    q0 = q[0]\n    q1 = q[1]\n    J = np.array(\n        [\n            [0.0, 0.0],  # Fill your code here.\n            [0.0, 0.0],\n        ]  # Fill your code here.\n    )\n    return J",
      "metadata": {
        "id": "ofKwMYmPuVEq",
        "colab": {},
        "colab_type": "code",
        "cell_id": "c489755c65d742928c4338aba189bd71",
        "deepnote_cell_type": "code"
      },
      "outputs": [],
      "outputs_reference": null,
      "execution_count": null,
      "block_group": "4a19fce4946a4886b4df252b7f756523",
      "content_dependencies": null
    },
    {
      "cell_type": "markdown",
      "source": "There is one insightful analysis we can do on this Jacobian - when can we invert the Jacobian to successfully recover joint velocities from end-effector velocities? From the textbook, we've seen we can analyze the **kinematic singularities** of the manipulator through the Jacobian - your job will be to explicitly reason about what they are. \n\n**What are the values of $(q_0,q_1)$ for which we cannot invert the Jacobian? (i.e. what are the kinematic singularities of this manipulator?)**\n\nHINT: You should be able to identify two classes of configurations. \n\nNOTE: If you've correctly identified the answer, take a moment to connect this back to the error that we saw while running the telop example when the Kuka reached too far - do you see the fundamental source of this error now?  ",
      "metadata": {
        "id": "OtU51Er2uzPd",
        "colab_type": "text",
        "cell_id": "5001635bd4a9425f91bc9f6469365f2f",
        "deepnote_cell_type": "markdown"
      },
      "block_group": "08ccaadb68ec421ea41e725d4610239b"
    },
    {
      "cell_type": "markdown",
      "source": "## Your Answer\n\nSubmit your response to the question above in the Gradescope 'written submission' section!",
      "metadata": {
        "id": "KToC8qNW-JqP",
        "colab_type": "text",
        "cell_id": "b39c0fd2cad24f1c965ebec90f0df7f1",
        "deepnote_cell_type": "markdown"
      },
      "block_group": "037f72d4495846ababca846418a63e88"
    },
    {
      "cell_type": "markdown",
      "source": "## How will this notebook be Graded?\n\nIf you are enrolled in the class, this notebook will be graded using [Gradescope](www.gradescope.com). You should have gotten the enrollement code on our announcement in Piazza. \n\nFor submission of this assignment, you must do two things. \n- Download and submit the notebook `planar_manipulator.ipynb` to Gradescope's notebook submission section, along with your notebook for the other problems.\n- Copy and Paste your answer to the kinematic singularity problem to Gradescope's written submission section. \n\nWe will evaluate the local functions in the notebook to see if the function behaves as we have expected. For this exercise, the rubric is as follows:\n- [2 pts] `forward_kinematics` must be implemented correctly. \n- [2 pts] `Jacobian` must be implemented correctly.\n- [2 pts] You must answer correctly what the kinematic singularities are.",
      "metadata": {
        "id": "zPmeRLtJk410",
        "colab_type": "text",
        "cell_id": "447b6cb3cb19429c839efe39143902f4",
        "deepnote_cell_type": "markdown"
      },
      "block_group": "ca8f1d52b0f64dd896b9f267490c688c"
    },
    {
      "cell_type": "markdown",
      "source": "Below is our autograder where you can check the correctness of your implementation. ",
      "metadata": {
        "id": "RiIaH2YlTcmc",
        "colab_type": "text",
        "cell_id": "120f5142f48947e8b6fb4ab72eb855ef",
        "deepnote_cell_type": "markdown"
      },
      "block_group": "1f38b3890e1043658d7eb3699a11343d"
    },
    {
      "cell_type": "code",
      "source": "from manipulation.exercises.grader import Grader\nfrom manipulation.exercises.pick.test_planar_manipulator import TestPlanarManipulator\n\nGrader.grade_output([TestPlanarManipulator], [locals()], \"results.json\")\nGrader.print_test_results(\"results.json\")",
      "metadata": {
        "id": "ZXZateGeTlKX",
        "colab": {},
        "colab_type": "code",
        "cell_id": "e5f26d7b8ba14b49af7aa2546b1e3555",
        "deepnote_cell_type": "code"
      },
      "outputs": [],
      "outputs_reference": null,
      "execution_count": null,
      "block_group": "11e918e410fd4627b1c777c693cbd4a8",
      "content_dependencies": null
    },
    {
      "cell_type": "markdown",
      "source": "<a style='text-decoration:none;line-height:16px;display:flex;color:#5B5B62;padding:10px;justify-content:end;' href='https://deepnote.com?utm_source=created-in-deepnote-cell&projectId=8a9c9b8b-9356-4af8-b9c8-57ff4e9f05f3' target=\"_blank\">\n<img alt='Created in deepnote.com' style='display:inline;max-height:16px;margin:0px;margin-right:7.5px;' src='data:image/svg+xml;base64,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' > </img>\nCreated in <span style='font-weight:600;margin-left:4px;'>Deepnote</span></a>",
      "metadata": {
        "created_in_deepnote_cell": true,
        "deepnote_cell_type": "markdown"
      }
    }
  ],
  "nbformat": 4,
  "nbformat_minor": 0,
  "metadata": {
    "deepnote_notebook_id": "aff8af4b0b7c4cdeb59d8ba1f7173e58",
    "deepnote_execution_queue": []
  }
}