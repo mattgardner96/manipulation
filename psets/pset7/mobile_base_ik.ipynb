{
  "cells": [
    {
      "cell_type": "code",
      "execution_count": 79,
      "metadata": {
        "cell_id": "bf0b167276234e84af02f03142dc25e5",
        "deepnote_cell_type": "code"
      },
      "outputs": [],
      "source": [
        "import numpy as np\n",
        "from pydrake.all import (\n",
        "    AddMultibodyPlantSceneGraph,\n",
        "    DiagramBuilder,\n",
        "    DiscreteContactApproximation,\n",
        "    InverseKinematics,\n",
        "    MeshcatVisualizer,\n",
        "    MeshcatVisualizerParams,\n",
        "    Parser,\n",
        "    RigidTransform,\n",
        "    RotationMatrix,\n",
        "    Solve,\n",
        "    StartMeshcat,\n",
        "    WeldJoint,\n",
        "    eq,\n",
        "    FrameIndex,\n",
        "    JointIndex\n",
        ")\n",
        "\n",
        "from manipulation import ConfigureParser, running_as_notebook\n",
        "from manipulation.meshcat_utils import AddMeshcatTriad"
      ]
    },
    {
      "cell_type": "code",
      "execution_count": 69,
      "metadata": {
        "cell_id": "1c46116329094f5d91765dce727cbc6e",
        "deepnote_cell_type": "code"
      },
      "outputs": [
        {
          "name": "stderr",
          "output_type": "stream",
          "text": [
            "INFO:drake:Meshcat listening for connections at http://localhost:7005\n"
          ]
        }
      ],
      "source": [
        "# Start the visualizer.\n",
        "meshcat = StartMeshcat()"
      ]
    },
    {
      "cell_type": "markdown",
      "metadata": {
        "cell_id": "48457ed5e80c4f3cb1a61e9cb47b593a",
        "deepnote_cell_type": "markdown"
      },
      "source": [
        "## Problem Description\n",
        "We will solve inverse kinematics for one arm on a PR2 robot. This robot model has been modified to have convex collision geometries, and to simplify this problem, we have welded (fixed) several joints that are irrelevent to the kinematics of the arms."
      ]
    },
    {
      "cell_type": "code",
      "execution_count": 80,
      "metadata": {
        "cell_id": "a62b53b357cc47c8a7a923804398b664",
        "deepnote_cell_type": "code"
      },
      "outputs": [],
      "source": [
        "# TODO(russt): Move this to Drake.\n",
        "\n",
        "\n",
        "def ReplaceJointWithWeld(plant, joint):\n",
        "    for actuator in [\n",
        "        plant.get_joint_actuator(index) for index in plant.GetJointActuatorIndices()\n",
        "    ]:\n",
        "        if actuator.joint() == joint:\n",
        "            plant.RemoveJointActuator(actuator)\n",
        "\n",
        "    weld = WeldJoint(\n",
        "        joint.name(), joint.frame_on_parent(), joint.frame_on_child(), RigidTransform()\n",
        "    )\n",
        "    plant.RemoveJoint(joint)\n",
        "    plant.AddJoint(weld)\n",
        "\n",
        "\n",
        "def build_env():\n",
        "    \"\"\"Load in models and build the diagram.\"\"\"\n",
        "    builder = DiagramBuilder()\n",
        "    plant, scene_graph = AddMultibodyPlantSceneGraph(builder, time_step=0.01)\n",
        "    plant.set_discrete_contact_approximation(DiscreteContactApproximation.kSap)\n",
        "    parser = Parser(plant)\n",
        "    ConfigureParser(parser)\n",
        "    parser.AddModelsFromUrl(\"package://manipulation/pr2_shelves.dmd.yaml\")\n",
        "    # Remove mimic constraints:\n",
        "    for id in plant.GetConstraintIds():\n",
        "        plant.RemoveConstraint(id)\n",
        "    # Remove some superfluous joints\n",
        "    ReplaceJointWithWeld(plant, plant.GetJointByName(\"head_pan_joint\"))\n",
        "    ReplaceJointWithWeld(plant, plant.GetJointByName(\"head_tilt_joint\"))\n",
        "    ReplaceJointWithWeld(plant, plant.GetJointByName(\"r_gripper_l_finger_joint\"))\n",
        "    ReplaceJointWithWeld(plant, plant.GetJointByName(\"r_gripper_r_finger_joint\"))\n",
        "    ReplaceJointWithWeld(plant, plant.GetJointByName(\"r_gripper_l_finger_tip_joint\"))\n",
        "    ReplaceJointWithWeld(plant, plant.GetJointByName(\"r_gripper_r_finger_tip_joint\"))\n",
        "    ReplaceJointWithWeld(plant, plant.GetJointByName(\"l_gripper_l_finger_joint\"))\n",
        "    ReplaceJointWithWeld(plant, plant.GetJointByName(\"l_gripper_r_finger_joint\"))\n",
        "    ReplaceJointWithWeld(plant, plant.GetJointByName(\"l_gripper_l_finger_tip_joint\"))\n",
        "    ReplaceJointWithWeld(plant, plant.GetJointByName(\"l_gripper_r_finger_tip_joint\"))\n",
        "    plant.Finalize()\n",
        "\n",
        "    MeshcatVisualizer.AddToBuilder(\n",
        "        builder,\n",
        "        scene_graph.get_query_output_port(),\n",
        "        meshcat,\n",
        "        MeshcatVisualizerParams(delete_on_initialization_event=False),\n",
        "    )\n",
        "\n",
        "    diagram = builder.Build()\n",
        "    return diagram, plant, scene_graph"
      ]
    },
    {
      "cell_type": "code",
      "execution_count": 81,
      "metadata": {
        "cell_id": "900503ee309040abbfa734af3e7e1c63",
        "deepnote_cell_type": "code"
      },
      "outputs": [],
      "source": [
        "goal_rotation = RotationMatrix(\n",
        "    [\n",
        "        [1, 0, 0],\n",
        "        [0, -1, 0],\n",
        "        [0, 0, -1],\n",
        "    ]\n",
        ")\n",
        "goal_position = np.array([-0.83, 0.18, 1.4])\n",
        "goal_pose = RigidTransform(goal_rotation, goal_position)"
      ]
    },
    {
      "cell_type": "markdown",
      "metadata": {
        "cell_id": "c1a708b77ae9457dafee5d6de189abd2",
        "deepnote_cell_type": "markdown"
      },
      "source": [
        "### IK for a Mobile Manipulator\n",
        "\n",
        "Given a RigidTransform X_WG, compute a robot configuration placing the left gripper at that pose. We use optimization to solve the IK problem, and we repeatedly solve the program with random initializations until it succeeds. We have implemented a skeleton of the necessary code in the following function, but you must complete several pieces:\n",
        "\n",
        "- Add position and orientation constraints to the gripper frame. The end effector should match the desired pose to within 1mm translation along each axis, and the rotation should be off by no more than 1 degree.\n",
        "- If `fix_base` is True, constrain the base pose $(x,y,\\theta)$ to be equal to `base_pose`.\n",
        "- Add a collision free constraint with [AddMinimumDistanceLowerBoundConstraint](https://drake.mit.edu/doxygen_cxx/classdrake_1_1multibody_1_1_inverse_kinematics.html#a2ecd71efd675a7e1a4293adb05c9b9df). The minimum distance between any pair of collision geometries should be at least 1cm.\n",
        "- Compute a random initial guess for the joint angles within the robot's joint limits. You can access the joint limits from the multibody plant, but some of the joints are angle-valued and don't have limits. For these joints, use the range $[-\\pi,\\pi]$."
      ]
    },
    {
      "cell_type": "code",
      "execution_count": 127,
      "metadata": {
        "cell_id": "ad9c6607d0b24396a0422bc59aeefc7e",
        "deepnote_cell_type": "code"
      },
      "outputs": [],
      "source": [
        "def solve_ik(X_WG, max_tries=10, fix_base=False, base_pose=np.zeros(3)):\n",
        "    diagram, plant, scene_graph = build_env()\n",
        "\n",
        "    plant.GetFrameByName(\"l_gripper_palm_link\")\n",
        "\n",
        "    context = diagram.CreateDefaultContext()\n",
        "    plant_context = plant.GetMyContextFromRoot(context)\n",
        "    scene_graph.GetMyContextFromRoot(context)\n",
        "\n",
        "    # Note: passing in a plant_context is necessary for collision-free constraints!\n",
        "    ik = InverseKinematics(plant, plant_context, with_joint_limits=True)\n",
        "    q_variables = ik.q()  # Get variables for MathematicalProgram\n",
        "    prog = ik.prog()  # Get MathematicalProgram\n",
        "    q_nominal = np.zeros(len(q_variables))\n",
        "    q_nominal[0:3] = base_pose\n",
        "    prog.AddQuadraticErrorCost(np.eye(len(q_variables)), q_nominal, q_variables)\n",
        "\n",
        "    # Add your constraints here\n",
        "\n",
        "    # gripper tolerances\n",
        "    gripper_tol_p = 0.001 # position constraint, m\n",
        "    gripper_tol_R = 1 # rotation constraint, deg\n",
        "\n",
        "    # gripper position constraints\n",
        "    # need to place the end effector, not the palm link\n",
        "    ik.AddPositionConstraint(\n",
        "        plant.GetFrameByName(\"l_gripper_palm_link\"),\n",
        "        np.zeros(3),\n",
        "        plant.world_frame(),\n",
        "        X_WG.translation() - gripper_tol_p,\n",
        "        X_WG.translation() + gripper_tol_p\n",
        "    )\n",
        "    ik.AddOrientationConstraint(\n",
        "        plant.GetFrameByName(\"l_gripper_palm_link\"),\n",
        "        RotationMatrix(),\n",
        "        plant.world_frame(),\n",
        "        X_WG.rotation(),\n",
        "        gripper_tol_R * np.pi / 180\n",
        "    )\n",
        "\n",
        "    # mobile manipulator base constraints\n",
        "    if fix_base:\n",
        "        ik.AddPositionConstraint(\n",
        "            plant.GetFrameByName(\"base_link\"),\n",
        "            np.zeros(3),\n",
        "            plant.world_frame(),\n",
        "            base_pose - 0.001,\n",
        "            base_pose + 0.001,\n",
        "        )\n",
        "        ik.AddOrientationConstraint(\n",
        "            plant.GetFrameByName(\"base_link\"),\n",
        "            RotationMatrix(),\n",
        "            plant.world_frame(),\n",
        "            RotationMatrix(),\n",
        "            0.001,\n",
        "        )\n",
        "    \n",
        "    # collision free constraint\n",
        "    ik.AddMinimumDistanceLowerBoundConstraint(0.01)\n",
        "\n",
        "    for count in range(max_tries):\n",
        "        # Compute a random initial guess here\n",
        "        q_guess = np.random.randn(len(q_variables))\n",
        "        prog.SetInitialGuess(q_variables, q_guess)\n",
        "\n",
        "        result = Solve(prog)\n",
        "\n",
        "        if running_as_notebook:\n",
        "            render_context = diagram.CreateDefaultContext()\n",
        "            plant.SetPositions(\n",
        "                plant.GetMyContextFromRoot(render_context),\n",
        "                result.GetSolution(q_variables),\n",
        "            )\n",
        "            diagram.ForcedPublish(context)\n",
        "\n",
        "        if result.is_success():\n",
        "            print(\"Succeeded in %d tries!\" % (count + 1))\n",
        "            return result.GetSolution(q_variables)\n",
        "\n",
        "    print(\"Failed!\")\n",
        "    return None"
      ]
    },
    {
      "cell_type": "code",
      "execution_count": 128,
      "metadata": {},
      "outputs": [],
      "source": [
        "# get all the frames from the diagram (helper debugging function)\n",
        "def get_frames(plant):\n",
        "    frames = []\n",
        "    for i in range(plant.num_frames()):\n",
        "        frame = plant.get_frame(FrameIndex(i))\n",
        "        frames.append(frame.name())\n",
        "    return frames\n",
        "\n",
        "# get_frames(plant)\n",
        "\n",
        "# get the joint limits for the PR2 from the plant\n",
        "def get_joint_limits(plant):\n",
        "    joint_limits = {}\n",
        "    for i in range(plant.num_joints()):\n",
        "        try:\n",
        "            joint = plant.get_joint(JointIndex(i))\n",
        "            joint_limits[joint.name()] = (joint.position_lower_limits(), joint.position_upper_limits())\n",
        "        except:\n",
        "            continue\n",
        "    return joint_limits\n",
        "\n",
        "# get_frames(plant)\n",
        "# get_joint_limits(plant)"
      ]
    },
    {
      "cell_type": "markdown",
      "metadata": {
        "cell_id": "3af8c7c2607b4fb9a464827eb091a13d",
        "deepnote_cell_type": "markdown"
      },
      "source": [
        "First, we show an example where we have fixed the base. It may take many tries for it to solve, or not solve at all! At each iteration, we visualize where the optimizer stopped, so you can see what the failures look like."
      ]
    },
    {
      "cell_type": "code",
      "execution_count": 131,
      "metadata": {
        "cell_id": "4ff547b2cd0542aaa07abc532a5ffb6d",
        "deepnote_cell_type": "code"
      },
      "outputs": [
        {
          "name": "stdout",
          "output_type": "stream",
          "text": [
            "Failed!\n"
          ]
        }
      ],
      "source": [
        "AddMeshcatTriad(meshcat,\"goal\",length=0.2,radius=0.005,opacity=0.4,X_PT=goal_pose)\n",
        "\n",
        "solve_ik(\n",
        "    goal_pose,\n",
        "    max_tries=20,\n",
        "    fix_base=True,\n",
        "    base_pose=np.array([-1.23, 0.05, 0]),\n",
        ")"
      ]
    },
    {
      "cell_type": "markdown",
      "metadata": {
        "cell_id": "c13d2a46959a4e1893d1017bc60cc55a",
        "deepnote_cell_type": "markdown"
      },
      "source": [
        "When we allow the base to move freely, the inverse kinematics can be solved much more easily!"
      ]
    },
    {
      "cell_type": "code",
      "execution_count": 132,
      "metadata": {
        "cell_id": "55eea01a445342119e912dd837dec366",
        "deepnote_cell_type": "code"
      },
      "outputs": [
        {
          "name": "stdout",
          "output_type": "stream",
          "text": [
            "Succeeded in 1 tries!\n"
          ]
        },
        {
          "data": {
            "text/plain": [
              "array([-1.14495100e+00, -5.08897309e-01,  5.62910743e-01,  2.82462632e-01,\n",
              "       -1.29731799e-01, -7.67307680e-02, -2.42311425e-03,  0.00000000e+00,\n",
              "        2.54904694e-04,  0.00000000e+00, -1.18124439e-07,  4.81810882e-01,\n",
              "       -3.94567068e-01,  1.04761343e+00, -4.32589357e-01,  9.71513526e-01,\n",
              "       -7.92099118e-01,  7.15978536e-01])"
            ]
          },
          "execution_count": 132,
          "metadata": {},
          "output_type": "execute_result"
        }
      ],
      "source": [
        "solve_ik(goal_pose, fix_base=False)"
      ]
    },
    {
      "cell_type": "code",
      "execution_count": 133,
      "metadata": {
        "cell_id": "0e9cb07da867496cb3fdee11051b6493",
        "deepnote_cell_type": "code"
      },
      "outputs": [
        {
          "name": "stdout",
          "output_type": "stream",
          "text": [
            "Total score is 5/5.\n",
            "\n",
            "Score for Test solve_ik is 5/5.\n",
            "- Succeeded in 2 tries!\n",
            "Succeeded in 3 tries!\n",
            "Succeeded in 2 tries!\n",
            "Failed!\n",
            "\n"
          ]
        }
      ],
      "source": [
        "from manipulation.exercises.grader import Grader\n",
        "from manipulation.exercises.mobile.test_mobile_base_ik import TestMobileBaseIk\n",
        "\n",
        "Grader.grade_output([TestMobileBaseIk], [locals()], \"results.json\")\n",
        "Grader.print_test_results(\"results.json\")"
      ]
    },
    {
      "cell_type": "code",
      "execution_count": null,
      "metadata": {
        "cell_id": "b24b8dfd099f4f31956a81fe05ef6141",
        "deepnote_cell_type": "code"
      },
      "outputs": [],
      "source": []
    },
    {
      "cell_type": "markdown",
      "metadata": {
        "created_in_deepnote_cell": true,
        "deepnote_cell_type": "markdown"
      },
      "source": [
        "<a style='text-decoration:none;line-height:16px;display:flex;color:#5B5B62;padding:10px;justify-content:end;' href='https://deepnote.com?utm_source=created-in-deepnote-cell&projectId=157857d4-6367-4a01-a572-0646c5286123' target=\"_blank\">\n",
        "<img alt='Created in deepnote.com' style='display:inline;max-height:16px;margin:0px;margin-right:7.5px;' src='data:image/svg+xml;base64,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' > </img>\n",
        "Created in <span style='font-weight:600;margin-left:4px;'>Deepnote</span></a>"
      ]
    }
  ],
  "metadata": {
    "deepnote_execution_queue": [],
    "deepnote_notebook_id": "a115dd93d00c416891619f0db79ec2b0",
    "kernelspec": {
      "display_name": ".venv",
      "language": "python",
      "name": "python3"
    },
    "language_info": {
      "codemirror_mode": {
        "name": "ipython",
        "version": 3
      },
      "file_extension": ".py",
      "mimetype": "text/x-python",
      "name": "python",
      "nbconvert_exporter": "python",
      "pygments_lexer": "ipython3",
      "version": "3.12.4"
    }
  },
  "nbformat": 4,
  "nbformat_minor": 0
}
