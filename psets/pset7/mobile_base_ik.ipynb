{
  "cells": [
    {
      "cell_type": "code",
      "source": "import numpy as np\nfrom pydrake.all import (\n    AddMultibodyPlantSceneGraph,\n    DiagramBuilder,\n    DiscreteContactApproximation,\n    InverseKinematics,\n    MeshcatVisualizer,\n    MeshcatVisualizerParams,\n    Parser,\n    RigidTransform,\n    RotationMatrix,\n    Solve,\n    StartMeshcat,\n    WeldJoint,\n    eq,\n)\n\nfrom manipulation import ConfigureParser, running_as_notebook",
      "metadata": {
        "cell_id": "bf0b167276234e84af02f03142dc25e5",
        "deepnote_cell_type": "code"
      },
      "outputs": [],
      "outputs_reference": null,
      "execution_count": null,
      "block_group": "9d7af1ff74cf48e5ba1dde8a46c04914",
      "content_dependencies": null
    },
    {
      "cell_type": "code",
      "source": "# Start the visualizer.\nmeshcat = StartMeshcat()",
      "metadata": {
        "cell_id": "1c46116329094f5d91765dce727cbc6e",
        "deepnote_cell_type": "code"
      },
      "outputs": [],
      "outputs_reference": null,
      "execution_count": null,
      "block_group": "2d2e780303184654a6e276f29f83ab67",
      "content_dependencies": null
    },
    {
      "cell_type": "markdown",
      "source": "## Problem Description\nWe will solve inverse kinematics for one arm on a PR2 robot. This robot model has been modified to have convex collision geometries, and to simplify this problem, we have welded (fixed) several joints that are irrelavent to the kinematics of the arms.",
      "metadata": {
        "cell_id": "48457ed5e80c4f3cb1a61e9cb47b593a",
        "deepnote_cell_type": "markdown"
      },
      "block_group": "f90b4e004cd84a7b8d0732ff9a295165"
    },
    {
      "cell_type": "code",
      "source": "# TODO(russt): Move this to Drake.\n\n\ndef ReplaceJointWithWeld(plant, joint):\n    for actuator in [\n        plant.get_joint_actuator(index) for index in plant.GetJointActuatorIndices()\n    ]:\n        if actuator.joint() == joint:\n            plant.RemoveJointActuator(actuator)\n\n    weld = WeldJoint(\n        joint.name(), joint.frame_on_parent(), joint.frame_on_child(), RigidTransform()\n    )\n    plant.RemoveJoint(joint)\n    plant.AddJoint(weld)\n\n\ndef build_env():\n    \"\"\"Load in models and build the diagram.\"\"\"\n    builder = DiagramBuilder()\n    plant, scene_graph = AddMultibodyPlantSceneGraph(builder, time_step=0.01)\n    plant.set_discrete_contact_approximation(DiscreteContactApproximation.kSap)\n    parser = Parser(plant)\n    ConfigureParser(parser)\n    parser.AddModelsFromUrl(\"package://manipulation/pr2_shelves.dmd.yaml\")\n    # Remove mimic constraints:\n    for id in plant.GetConstraintIds():\n        plant.RemoveConstraint(id)\n    # Remove some superfluous joints\n    ReplaceJointWithWeld(plant, plant.GetJointByName(\"head_pan_joint\"))\n    ReplaceJointWithWeld(plant, plant.GetJointByName(\"head_tilt_joint\"))\n    ReplaceJointWithWeld(plant, plant.GetJointByName(\"r_gripper_l_finger_joint\"))\n    ReplaceJointWithWeld(plant, plant.GetJointByName(\"r_gripper_r_finger_joint\"))\n    ReplaceJointWithWeld(plant, plant.GetJointByName(\"r_gripper_l_finger_tip_joint\"))\n    ReplaceJointWithWeld(plant, plant.GetJointByName(\"r_gripper_r_finger_tip_joint\"))\n    ReplaceJointWithWeld(plant, plant.GetJointByName(\"l_gripper_l_finger_joint\"))\n    ReplaceJointWithWeld(plant, plant.GetJointByName(\"l_gripper_r_finger_joint\"))\n    ReplaceJointWithWeld(plant, plant.GetJointByName(\"l_gripper_l_finger_tip_joint\"))\n    ReplaceJointWithWeld(plant, plant.GetJointByName(\"l_gripper_r_finger_tip_joint\"))\n    plant.Finalize()\n\n    MeshcatVisualizer.AddToBuilder(\n        builder,\n        scene_graph.get_query_output_port(),\n        meshcat,\n        MeshcatVisualizerParams(delete_on_initialization_event=False),\n    )\n\n    diagram = builder.Build()\n    return diagram, plant, scene_graph",
      "metadata": {
        "cell_id": "a62b53b357cc47c8a7a923804398b664",
        "deepnote_cell_type": "code"
      },
      "outputs": [],
      "outputs_reference": null,
      "execution_count": null,
      "block_group": "48fc37c7db0641b4932dbc0df1d89d0b",
      "content_dependencies": null
    },
    {
      "cell_type": "code",
      "source": "goal_rotation = RotationMatrix(\n    [\n        [1, 0, 0],\n        [0, -1, 0],\n        [0, 0, -1],\n    ]\n)\ngoal_position = np.array([-0.83, 0.18, 1.4])\ngoal_pose = RigidTransform(goal_rotation, goal_position)",
      "metadata": {
        "cell_id": "900503ee309040abbfa734af3e7e1c63",
        "deepnote_cell_type": "code"
      },
      "outputs": [],
      "outputs_reference": null,
      "execution_count": null,
      "block_group": "1cf9c9db73664ad6a35f8a0a846db76a",
      "content_dependencies": null
    },
    {
      "cell_type": "markdown",
      "source": "### IK for a Mobile Manipulator\n\nGiven a RigidTransform X_WG, compute a robot configuration placing the left gripper at that pose. We use optimization to solve the IK problem, and we repeatedly solve the program with random initializations until it succeeds. We have implemented a skeleton of the necessary code in the following function, but you must complete several pieces:\n\n- Add position and orientation constraints to the gripper frame. The end effector should match the desired pose to within 1mm translation along each axis, and the rotation should be off by no more than 1 degree.\n- If `fix_base` is True, constrain the base pose $(x,y,\\theta)$ to be equal to `base_pose`.\n- Add a collision free constraint with [AddMinimumDistanceLowerBoundConstraint](https://drake.mit.edu/doxygen_cxx/classdrake_1_1multibody_1_1_inverse_kinematics.html#a2ecd71efd675a7e1a4293adb05c9b9df). The minimum distance between any pair of collision geometries should be at least 1cm.\n- Compute a random initial guess for the joint angles within the robot's joint limits. You can access the joint limits from the multibody plant, but some of the joints are angle-valued and don't have limits. For these joints, use the range $[-\\pi,\\pi]$.",
      "metadata": {
        "cell_id": "c1a708b77ae9457dafee5d6de189abd2",
        "deepnote_cell_type": "markdown"
      },
      "block_group": "600c1d6f8a0c413092c934b6359c97c4"
    },
    {
      "cell_type": "code",
      "source": "def solve_ik(X_WG, max_tries=10, fix_base=False, base_pose=np.zeros(3)):\n    diagram, plant, scene_graph = build_env()\n\n    plant.GetFrameByName(\"l_gripper_palm_link\")\n\n    context = diagram.CreateDefaultContext()\n    plant_context = plant.GetMyContextFromRoot(context)\n    scene_graph.GetMyContextFromRoot(context)\n\n    # Note: passing in a plant_context is necessary for collision-free constraints!\n    ik = InverseKinematics(plant, plant_context)\n    q_variables = ik.q()  # Get variables for MathematicalProgram\n    prog = ik.prog()  # Get MathematicalProgram\n    q_nominal = np.zeros(len(q_variables))\n    q_nominal[0:3] = base_pose\n    prog.AddQuadraticErrorCost(np.eye(len(q_variables)), q_nominal, q_variables)\n\n    # Add your constraints here\n\n    for count in range(max_tries):\n        # Compute a random initial guess here\n\n        result = Solve(prog)\n\n        if running_as_notebook:\n            render_context = diagram.CreateDefaultContext()\n            plant.SetPositions(\n                plant.GetMyContextFromRoot(render_context),\n                result.GetSolution(q_variables),\n            )\n            diagram.ForcedPublish(context)\n\n        if result.is_success():\n            print(\"Succeeded in %d tries!\" % (count + 1))\n            return result.GetSolution(q_variables)\n\n    print(\"Failed!\")\n    return None",
      "metadata": {
        "cell_id": "ad9c6607d0b24396a0422bc59aeefc7e",
        "deepnote_cell_type": "code"
      },
      "outputs": [],
      "outputs_reference": null,
      "execution_count": null,
      "block_group": "9b32ad007854411b80778a6fe47e6ee9",
      "content_dependencies": null
    },
    {
      "cell_type": "markdown",
      "source": "First, we show an example where we have fixed the base. It may take many tries for it to solve, or not solve at all! At each iteration, we visualize where the optimizer stopped, so you can see what the failures look like.",
      "metadata": {
        "cell_id": "3af8c7c2607b4fb9a464827eb091a13d",
        "deepnote_cell_type": "markdown"
      },
      "block_group": "7239a2d1bca74c90a5c9e8c7635a3bb0"
    },
    {
      "cell_type": "code",
      "source": "solve_ik(\n    goal_pose,\n    max_tries=20,\n    fix_base=True,\n    base_pose=np.array([-1.23, 0.05, 0]),\n)",
      "metadata": {
        "cell_id": "4ff547b2cd0542aaa07abc532a5ffb6d",
        "deepnote_cell_type": "code"
      },
      "outputs": [],
      "outputs_reference": null,
      "execution_count": null,
      "block_group": "be5d12c61f0c42ba934cc47311b4037c",
      "content_dependencies": null
    },
    {
      "cell_type": "markdown",
      "source": "When we allow the base to move freely, the inverse kinematics can be solved much more easily!",
      "metadata": {
        "cell_id": "c13d2a46959a4e1893d1017bc60cc55a",
        "deepnote_cell_type": "markdown"
      },
      "block_group": "a894484e351741429686203f04aa7ae0"
    },
    {
      "cell_type": "code",
      "source": "solve_ik(goal_pose, fix_base=False)",
      "metadata": {
        "cell_id": "55eea01a445342119e912dd837dec366",
        "deepnote_cell_type": "code"
      },
      "outputs": [],
      "outputs_reference": null,
      "execution_count": null,
      "block_group": "7d527ccded814047883d91fe7d027540",
      "content_dependencies": null
    },
    {
      "cell_type": "code",
      "source": "from manipulation.exercises.grader import Grader\nfrom manipulation.exercises.mobile.test_mobile_base_ik import TestMobileBaseIk\n\nGrader.grade_output([TestMobileBaseIk], [locals()], \"results.json\")\nGrader.print_test_results(\"results.json\")",
      "metadata": {
        "cell_id": "0e9cb07da867496cb3fdee11051b6493",
        "deepnote_cell_type": "code"
      },
      "outputs": [],
      "outputs_reference": null,
      "execution_count": null,
      "block_group": "8b52fa1f856e495287ea3c48f4115322",
      "content_dependencies": null
    },
    {
      "cell_type": "code",
      "source": "",
      "metadata": {
        "cell_id": "b24b8dfd099f4f31956a81fe05ef6141",
        "deepnote_cell_type": "code"
      },
      "outputs": [],
      "outputs_reference": null,
      "execution_count": null,
      "block_group": "809fcc097e564ba8a062c8056dbf4673",
      "content_dependencies": null
    },
    {
      "cell_type": "markdown",
      "source": "<a style='text-decoration:none;line-height:16px;display:flex;color:#5B5B62;padding:10px;justify-content:end;' href='https://deepnote.com?utm_source=created-in-deepnote-cell&projectId=157857d4-6367-4a01-a572-0646c5286123' target=\"_blank\">\n<img alt='Created in deepnote.com' style='display:inline;max-height:16px;margin:0px;margin-right:7.5px;' src='data:image/svg+xml;base64,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' > </img>\nCreated in <span style='font-weight:600;margin-left:4px;'>Deepnote</span></a>",
      "metadata": {
        "created_in_deepnote_cell": true,
        "deepnote_cell_type": "markdown"
      }
    }
  ],
  "nbformat": 4,
  "nbformat_minor": 0,
  "metadata": {
    "deepnote_notebook_id": "a115dd93d00c416891619f0db79ec2b0",
    "deepnote_execution_queue": []
  }
}