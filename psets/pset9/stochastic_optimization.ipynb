{
 "cells": [
  {
   "cell_type": "markdown",
   "metadata": {
    "cell_id": "b3c655c178a34aa89e57b59f44cf11dc",
    "deepnote_cell_type": "markdown",
    "id": "w7C_Q2UbkGas"
   },
   "source": [
    "## Stochastic Optimization"
   ]
  },
  {
   "cell_type": "code",
   "execution_count": 185,
   "metadata": {
    "cell_id": "ef72f4abf638420da372d2b389bff728",
    "deepnote_cell_type": "code",
    "id": "nLnz0sRrSjOg"
   },
   "outputs": [],
   "source": [
    "import matplotlib\n",
    "import mpld3\n",
    "import numpy as np\n",
    "from pydrake.all import (\n",
    "    BaseField,\n",
    "    Evaluate,\n",
    "    Fields,\n",
    "    PointCloud,\n",
    "    Rgba,\n",
    "    RigidTransform,\n",
    "    Sphere,\n",
    "    StartMeshcat,\n",
    "    Variable,\n",
    "    Jacobian,\n",
    "    MathematicalProgram,\n",
    "    Solve\n",
    ")\n",
    "\n",
    "from manipulation import running_as_notebook\n",
    "\n",
    "if running_as_notebook:\n",
    "    mpld3.enable_notebook()"
   ]
  },
  {
   "cell_type": "code",
   "execution_count": 186,
   "metadata": {
    "cell_id": "b8ef88b179034e19af51de5da256029e",
    "deepnote_cell_type": "code"
   },
   "outputs": [],
   "source": [
    "def loss(theta):\n",
    "    x = theta[0]\n",
    "    y = theta[1]\n",
    "    eval = 2 * x**2 - 1.05 * x**4 + x**6 / 6 + x * y + y**2\n",
    "    return 0.25 * eval\n",
    "\n",
    "\n",
    "def generate_color_mat(color_vec, shape):\n",
    "    color_mat = np.tile(\n",
    "        np.array(color_vec).astype(np.float32).reshape(3, 1), (1, shape[1])\n",
    "    )\n",
    "    return color_mat\n",
    "\n",
    "\n",
    "def visualize_loss(\n",
    "    meshcat,\n",
    "    loss,\n",
    "    colormap=\"viridis\",\n",
    "    spacing=0.01,\n",
    "    clip_min=None,\n",
    "    clip_max=None,\n",
    "):\n",
    "    # Create a grid of thetas and evaluate losses.\n",
    "    points = []\n",
    "    for i in np.arange(-3, 3, spacing):\n",
    "        for j in np.arange(-3, 3, spacing):\n",
    "            points.append([i, j, loss(np.array([i, j]))])\n",
    "    points = np.array(points)\n",
    "\n",
    "    # Normalize losses and color them according to colormap.\n",
    "    cmap = matplotlib.cm.get_cmap(colormap)\n",
    "    min_loss = np.min(points[:, 2]) if clip_min == None else clip_min\n",
    "    max_loss = np.max(points[:, 2]) if clip_max == None else clip_max\n",
    "\n",
    "    colors = []\n",
    "    for i in range(points.shape[0]):\n",
    "        normalized_loss = (points[i, 2] - min_loss) / (max_loss - min_loss)\n",
    "        colors.append(list(cmap(normalized_loss))[0:3])\n",
    "\n",
    "    cloud = PointCloud(points.shape[0], Fields(BaseField.kXYZs | BaseField.kRGBs))\n",
    "    cloud.mutable_xyzs()[:] = points.T\n",
    "    cloud.mutable_rgbs()[:] = 255 * np.array(colors).T\n",
    "\n",
    "    meshcat.Delete()\n",
    "    meshcat.SetProperty(\"/Background\", \"visible\", False)\n",
    "    meshcat.SetObject(\"/loss\", cloud, point_size=0.03)\n",
    "\n",
    "\n",
    "def visualize_trajectory(trajectory):\n",
    "    points = PointCloud(trajectory.shape[0])\n",
    "    points.mutable_xyzs()[:] = trajectory.T\n",
    "    meshcat.SetObject(\"/traj\", points, rgba=Rgba(1, 0, 0), point_size=0.03)\n",
    "    meshcat.SetLine(\"/traj_line\", trajectory.T, rgba=Rgba(1, 0, 0))\n",
    "\n",
    "    # Visualize the initial guess.\n",
    "    meshcat.SetObject(\"/traj_initial\", Sphere(0.05), Rgba(1, 0, 0))\n",
    "    meshcat.SetTransform(\"/traj_initial\", RigidTransform(trajectory[0, :]))\n",
    "\n",
    "    # Visualize the final point of the iteration.\n",
    "    meshcat.SetObject(\"/traj_final\", Sphere(0.05), Rgba(0, 1, 0))\n",
    "    meshcat.SetTransform(\"/traj_final\", RigidTransform(trajectory[-1, :]))"
   ]
  },
  {
   "cell_type": "code",
   "execution_count": 187,
   "metadata": {
    "cell_id": "2b253524f9a540858446c990d658c458",
    "deepnote_cell_type": "code"
   },
   "outputs": [
    {
     "name": "stderr",
     "output_type": "stream",
     "text": [
      "INFO:drake:Meshcat listening for connections at http://localhost:7001\n"
     ]
    }
   ],
   "source": [
    "# Start the visualizer.\n",
    "meshcat = StartMeshcat()"
   ]
  },
  {
   "cell_type": "markdown",
   "metadata": {
    "cell_id": "2deb612d715447828563fd726cb9412e",
    "deepnote_cell_type": "markdown",
    "id": "cUTNJkCK1IDH"
   },
   "source": [
    "## The Three Hump Camel \n",
    "In this exercise, we'll implement our own versions of gradient descent and stochastic gradient descent! \n",
    "\n",
    "Our goal is to find the minima of the following function:\n",
    "\n",
    "$$l(x)=\\frac{1}{4}\\bigg(2x_1^2-1.05x_1^4+\\frac{x_1^6}{6}+x_1x_2+x_2^2\\bigg)$$\n",
    "\n",
    "Note: this function is defined above as `loss(x)`.\n",
    "\n",
    "We have visualized the landscape of this function in meshcat if you run the cell below! You will notice the following things:\n",
    "\n",
    "1. This function has 3 local minima (hence, the name 'three hump camel')\n",
    "2. The global minima is located at $f([0,0])=0$. "
   ]
  },
  {
   "cell_type": "code",
   "execution_count": 188,
   "metadata": {
    "cell_id": "a81f5f1207814314abbd22488c8525d5",
    "colab": {
     "base_uri": "https://localhost:8080/"
    },
    "deepnote_cell_type": "code",
    "id": "U1GCQpPf1HwO",
    "outputId": "04be0d22-a216-4ee5-b7df-261b10f3320b"
   },
   "outputs": [
    {
     "name": "stderr",
     "output_type": "stream",
     "text": [
      "/var/folders/c2/6dfmhgb13q93z58f1xvwt4zr0000gn/T/ipykernel_68860/3824132967.py:31: MatplotlibDeprecationWarning: The get_cmap function was deprecated in Matplotlib 3.7 and will be removed in 3.11. Use ``matplotlib.colormaps[name]`` or ``matplotlib.colormaps.get_cmap()`` or ``pyplot.get_cmap()`` instead.\n",
      "  cmap = matplotlib.cm.get_cmap(colormap)\n"
     ]
    }
   ],
   "source": [
    "# The parameters are optimized for best visualization in meshcat.\n",
    "# For faster visualization, try increasing spacing.\n",
    "visualize_loss(meshcat, loss, colormap=\"viridis\", spacing=0.02, clip_max=2.0)"
   ]
  },
  {
   "cell_type": "markdown",
   "metadata": {
    "cell_id": "de0412eff40a4c33bb17725dd895cf55",
    "deepnote_cell_type": "markdown",
    "id": "-nBpUQcfOcwF"
   },
   "source": [
    "## Gradient Descent\n",
    "\n",
    "As we saw in the lecture, one way of trying to find the minimum of $l(x)$ is to use explicit gradients and do gradient descent. \n",
    "\n",
    "$$x \\leftarrow x - \\eta\\bigg(\\frac{\\partial l(x)}{\\partial x}\\bigg)^T$$\n",
    "\n",
    "We've set up a basic outline of the gradient descent algoritm for you. Take a look at the following function `gradient_descent` that implements the following steps:\n",
    "\n",
    "1. Initialize $x\\in\\mathbb{R}^2$ at random from some bounded region.\n",
    "2. Until maximum iteration, update $x$ according to some update rule like the one defined above. \n",
    "\n",
    "Throughout the following notebook, we will walk-through a handful of potential update functions."
   ]
  },
  {
   "cell_type": "code",
   "execution_count": 189,
   "metadata": {
    "cell_id": "42b235a6d24b4c01a6236f34148d6487",
    "deepnote_cell_type": "code",
    "id": "pH6DEMMA9cXP"
   },
   "outputs": [],
   "source": [
    "def gradient_descent(rate, update_rule, initial_x=None, iter=1000):\n",
    "    \"\"\"gradient descent algorithm\n",
    "    @params:\n",
    "    - rate (float): eta variable of gradient descent.\n",
    "    - update_rule: a function with a signature update_rule(x, rate).\n",
    "    - initial_x: initial position for gradient descent.\n",
    "    - iter: number of iterations to run gradient descent for.\n",
    "    \"\"\"\n",
    "    # If no initial guess is supplied, then randomly choose one.\n",
    "    if initial_x is None:\n",
    "        x = -3 + 6.0 * np.random.rand(2)\n",
    "    else:\n",
    "        x = initial_x\n",
    "    # Compute loss for first parameter for visualization.\n",
    "    x_list = []\n",
    "    x_list.append([x[0], x[1], loss(x)])\n",
    "    # Loop through with gradient descent.\n",
    "    for i in range(iter):\n",
    "        # Update the parameters using update rule.\n",
    "        x = update_rule(x, rate)\n",
    "        x_list.append([x[0], x[1], loss(x)])\n",
    "    return np.array(x_list)"
   ]
  },
  {
   "cell_type": "markdown",
   "metadata": {
    "cell_id": "a02588db96574f35babce82e9dcb8a1e",
    "deepnote_cell_type": "markdown",
    "id": "tcIyb-iJRGHg"
   },
   "source": [
    "## Determinisitic Exact Gradients\n",
    "\n",
    "**Problem 11.1.a** [2 pts]: Let's first use the standard gradient descent algorithm with exact gradients. Below, you must implement the following simple update function:\n",
    "\n",
    "$$x \\leftarrow x - \\eta\\bigg(\\frac{\\partial l(x)}{\\partial x}\\bigg)^T$$\n",
    "\n",
    "HINT: You can write down the gradient yourself, but remember you can also use Drake's symbolic differentiation!\n"
   ]
  },
  {
   "cell_type": "code",
   "execution_count": 190,
   "metadata": {
    "cell_id": "67bf74f4b1ec494ebf2c218479f3dfb2",
    "deepnote_cell_type": "code",
    "id": "kO7h13kCUc1a"
   },
   "outputs": [],
   "source": [
    "def exact_gradient(x, rate):\n",
    "    \"\"\"\n",
    "    Update rule. Receive theta and update it with the next theta.\n",
    "    Input:\n",
    "        - x: input variable x, vector of (2,)]\n",
    "        - rate: rate of descent, variable \"eta\".\n",
    "    Output:\n",
    "        - x: updated variable x.\n",
    "    \"\"\"\n",
    "    # loss_fn = 2 * x**2 - 1.05 * x**4 + x**6 / 6 + x * y + y**2\n",
    "\n",
    "    gradient = np.zeros(2)\n",
    "    gradient[0] = 4 * x[0] - 4.2 * x[0]**3 + x[0]**5 + x[1]\n",
    "    gradient[1] = x[0] + 2 * x[1]\n",
    "\n",
    "    gradient *= 1/4.0\n",
    "\n",
    "    x = x - rate * gradient.T\n",
    "\n",
    "    return x\n",
    "\n",
    "# x = np.array([3,3])\n",
    "# exact_gradient(x, 0.1)"
   ]
  },
  {
   "cell_type": "markdown",
   "metadata": {
    "cell_id": "4bb67bf4b7e04a47866435fe7b41afae",
    "deepnote_cell_type": "markdown",
    "id": "LT1PCqWPTTy2"
   },
   "source": [
    "When you've completed the function, you can run the below cell to check the visualization! For this problem, the visualization has the following convention:\n",
    "- Red sphere is the initial guess \n",
    "- Green sphere is the final point after `iter` iterations. \n",
    "- Every updated parameter is drawn as smaller red cubes. "
   ]
  },
  {
   "cell_type": "code",
   "execution_count": 341,
   "metadata": {
    "cell_id": "342a3a3c1e9a465f844455e9471f0161",
    "deepnote_cell_type": "code",
    "id": "rEG6dKaxTbie"
   },
   "outputs": [],
   "source": [
    "# Compute the trajectory.\n",
    "trajectory = gradient_descent(0.1, exact_gradient)\n",
    "visualize_trajectory(trajectory)"
   ]
  },
  {
   "cell_type": "markdown",
   "metadata": {
    "cell_id": "47dad8193fa14b69a06dcec56bd23490",
    "deepnote_cell_type": "markdown",
    "id": "QT4O4yL7iuNg"
   },
   "source": [
    "If you've implemented it correctly, run the cell multiple times to see the behavior of gradient descent from different initial conditions. \n",
    "\n",
    "**Problem 11.1.b** [1 pts] What do you notice about the behaviour of gradient descent given different starting points? When does it converge or not converge (if ever) to the global minimum? "
   ]
  },
  {
   "cell_type": "markdown",
   "metadata": {},
   "source": [
    "The gradient descent algorithm is prone to convergence at a local minimum depending heavily on the starting point. Since the algorithm takes the path of steepest derivative, starting positions close to the local minima (or closer to  local minima than the global minimum) are very likely to converge to suboptimal solutions. The solution is likely to converge to the global minimum in cases where the starting point is already close to that minimum."
   ]
  },
  {
   "cell_type": "markdown",
   "metadata": {
    "cell_id": "ea39e6627b014047893a693318f5972d",
    "deepnote_cell_type": "markdown",
    "id": "2V8LydfhVMdJ"
   },
   "source": [
    "## Stochastic Approximation to Gradients\n",
    "\n",
    "**Problem 11.1.c** [2 pts]: One of the mindblowing facts we learned from the lecture was that we can actually do gradient descent without ever having true gradients of the loss function $l(x)$! We will demonstrate this here with a discrete approximation of our loss function's derivative.\n",
    "\n",
    "Your job is to write down the following update function for gradient descent:\n",
    "\n",
    "$$x \\leftarrow x - \\eta\\big[l(x+w)-l(x)\\big]w$$\n",
    "\n",
    "where $w\\in\\mathbb{R}^2$ drawn from a Gaussian distribution, $w\\sim\\mathcal{N}(0,\\sigma^2=0.25)$. You can use `np.random.normal()` to draw from this distribution."
   ]
  },
  {
   "cell_type": "code",
   "execution_count": 319,
   "metadata": {
    "cell_id": "e905ca6b19dc4f88ada68a3654c020c5",
    "deepnote_cell_type": "code",
    "id": "leVxvWu3lLYd"
   },
   "outputs": [],
   "source": [
    "def approximated_gradient(x, rate):\n",
    "    \"\"\"\n",
    "    Update rule. Receive theta and update it with the next theta.\n",
    "    Input:\n",
    "        - x: input variable x.\n",
    "        - rate: rate of descent, variable \"eta\".\n",
    "    Output:\n",
    "        - x: updated variable x.\n",
    "    \"\"\"\n",
    "    w = np.random.normal(scale=np.sqrt(0.25), size=x.shape)\n",
    "    x = x - rate * (loss(x + w) - loss(x)) * w\n",
    "\n",
    "    return x"
   ]
  },
  {
   "cell_type": "markdown",
   "metadata": {
    "cell_id": "6513fa532db24526b8edcb653e696322",
    "deepnote_cell_type": "markdown",
    "id": "Tg3ek5nz1ioL"
   },
   "source": [
    "Again, once you've implemented the function, run the below cell to visualize the trajectory."
   ]
  },
  {
   "cell_type": "code",
   "execution_count": 351,
   "metadata": {
    "cell_id": "97642493b3b140e08cde94173cd82e41",
    "deepnote_cell_type": "code",
    "id": "yku6xDTQQtAt"
   },
   "outputs": [],
   "source": [
    "trajectory = gradient_descent(0.01, approximated_gradient, iter=10000)\n",
    "visualize_trajectory(trajectory)"
   ]
  },
  {
   "cell_type": "markdown",
   "metadata": {
    "cell_id": "2cf81a5784b146aaac57a83cd2dedd30",
    "deepnote_cell_type": "markdown",
    "id": "eTEL3_ENl1oI"
   },
   "source": [
    "If you've implemented the function correctly, take a moment to run it from multiple different conditions - the results should be somewhat shocking.\n",
    "- With the right parameters ($\\sigma,\\eta$), is this version of gradient descent is much better than the deterministic exact version at converging to global minima? (In fact, you'll sometimes see it hop out of one of the local minimas and converge to a global minima!)\n",
    "- But we never explicitly took derivatives!\n",
    "- (Side note): does this mean this way approximating gradients is the magical tool to everything? not quite. This version can be prone to getting stuck in saddle points!"
   ]
  },
  {
   "cell_type": "markdown",
   "metadata": {
    "cell_id": "0777234b8496438b81a661715469d9e2",
    "deepnote_cell_type": "markdown",
    "id": "NNRWAjIjmiVV"
   },
   "source": [
    "## Baselines \n",
    "\n",
    "**Problem 11.1.d** [4 pts]: We don't necessarily have to take finite differences to estimate the gradient. In fact, we could have subtracted our perturbed estimate from any function, as long as that is not a function of $w$! Consider the following update function:\n",
    "\n",
    "$$x \\leftarrow x - \\eta\\big[l(x+w)-b(x)\\big]w$$\n",
    "\n",
    "Prove that on average, the difference in updates (call it $\\mathbb{E}_w[\\Delta x$]) from this function is approximately equal to the true analytical gradient. Provide your answer in your written submission for this problem set.\n",
    "\n",
    "HINT: You should use the first-order taylor approximation of $l(x+w)$ (and you may assume $w$ is quite small). Remember that $w$ is a vector--you cannot have a $w^{2}$ term in your work."
   ]
  },
  {
   "cell_type": "markdown",
   "metadata": {
    "cell_id": "5649b5ed402b4738b1bac1e49ff0c2c6",
    "deepnote_cell_type": "markdown",
    "id": "zdJXocpw3OTb"
   },
   "source": [
    "**Problem 11.1.e** [1 pts]: Finally, implement the update law from above. The update rule is almost identical to 11.1.b except for the implementation of the baseline, so this is like a bonus question.  "
   ]
  },
  {
   "cell_type": "code",
   "execution_count": 180,
   "metadata": {
    "cell_id": "89d2151cde1a492285bfa9be1ef747c3",
    "deepnote_cell_type": "code",
    "id": "4vjty4Tc9bZw"
   },
   "outputs": [],
   "source": [
    "def approximated_gradient_with_baseline(x, rate, baseline):\n",
    "    \"\"\"\n",
    "    Update rule. Receive theta and update it with the next theta.\n",
    "    Input:\n",
    "        - x: input variable x.\n",
    "        - rate: rate of descent, variable \"eta\".\n",
    "        - baseline: float for baseline.\n",
    "    Output:\n",
    "        - x: updated variable x.\n",
    "    \"\"\"\n",
    "\n",
    "    # YOUR CODE HERE\n",
    "    w = np.random.normal(scale=np.sqrt(0.25), size=x.shape)\n",
    "    x = x - rate * (loss(x + w) - baseline(x)) * w\n",
    "\n",
    "    return x"
   ]
  },
  {
   "cell_type": "markdown",
   "metadata": {
    "cell_id": "98ee7acba9fa4459abae6df2d9f94822",
    "deepnote_cell_type": "markdown",
    "id": "9N1BgRG29jNV"
   },
   "source": [
    "As you proved in 11.1.c, adding a baseline does not change the mean of the update. However, it does change the variance!\n",
    "\n",
    "In the below code, you can play around with different values of the baseline to see what happens. Remember that the optimal value (smallest variance) of the baseline is $l(x)$. \n",
    "\n",
    "You should see that if the baseline is close to `loss(x)` (e.g. baseline is uniformly zero), there is no big difference with the solution you wrote on 11.1.b. However, when the baseline is far from `loss(x)` (e.g. baseline is uniformly 5), our path starts to look more like a random walk due to high variance."
   ]
  },
  {
   "cell_type": "code",
   "execution_count": 181,
   "metadata": {
    "cell_id": "145e1028282b4f8a902c970b7519509e",
    "deepnote_cell_type": "code",
    "id": "0IKbIy1P6a4k"
   },
   "outputs": [],
   "source": [
    "def baseline(x):\n",
    "    return 5  # feel free to modify here!\n",
    "\n",
    "\n",
    "def reduced_function(x, rate):\n",
    "    return approximated_gradient_with_baseline(x, rate, baseline)\n",
    "\n",
    "\n",
    "trajectory = gradient_descent(0.01, reduced_function, iter=10000)\n",
    "visualize_trajectory(trajectory)"
   ]
  },
  {
   "cell_type": "markdown",
   "metadata": {
    "cell_id": "5eaae01b13e744b18b50dc925db459b7",
    "deepnote_cell_type": "markdown",
    "id": "MwE8yNg58VQN"
   },
   "source": [
    "## How will this notebook be Graded?\n",
    "\n",
    "If you are enrolled in the class, this notebook will be graded using [Gradescope](www.gradescope.com). You should have gotten the enrollement code on our announcement in Piazza. \n",
    "\n",
    "For submission of this assignment, you must do two things. \n",
    "- Download and submit the notebook `stochastic_optimization.ipynb` to Gradescope's notebook submission section, along with your notebook for the other problems.\n",
    "- Write down your answers to 11.1a, 11.1.d in your PDF submission to Gradescope. \n",
    "\n",
    "We will evaluate the local functions in the notebook to see if the function behaves as we have expected. For this exercise, the rubric is as follows:\n",
    "- [2 pts] 11.1.a must be implemented correctly.\n",
    "- [1 pts] 11.1.b is answered correctly.\n",
    "- [2 pts] 11.1.c must be implemented correctly.\n",
    "- [4 pts] 11.1.d is answered correctly.\n",
    "- [1 pts] 11.1.e must be implemented correctly."
   ]
  },
  {
   "cell_type": "code",
   "execution_count": 184,
   "metadata": {
    "cell_id": "8937a08a724040caac09db7dbcdd7b38",
    "colab": {
     "base_uri": "https://localhost:8080/",
     "height": 389
    },
    "deepnote_cell_type": "code",
    "id": "pQISVdEG9NoN",
    "outputId": "8ecd274d-3fd8-4d2f-9fe3-fc530e8207b0"
   },
   "outputs": [
    {
     "name": "stdout",
     "output_type": "stream",
     "text": [
      "Total score is 5/5.\n",
      "\n",
      "Score for Test approximated gradient function is 2/2.\n",
      "\n",
      "Score for Test approximated gradient with baseline function is 1/1.\n",
      "\n",
      "Score for Test exact gradient function is 2/2.\n"
     ]
    }
   ],
   "source": [
    "from manipulation.exercises.grader import Grader\n",
    "from manipulation.exercises.rl.test_stochastic_optimization import (\n",
    "    TestStochasticOptimization,\n",
    ")\n",
    "\n",
    "Grader.grade_output([TestStochasticOptimization], [locals()], \"results.json\")\n",
    "Grader.print_test_results(\"results.json\")"
   ]
  },
  {
   "cell_type": "markdown",
   "metadata": {
    "created_in_deepnote_cell": true,
    "deepnote_cell_type": "markdown"
   },
   "source": [
    "<a style='text-decoration:none;line-height:16px;display:flex;color:#5B5B62;padding:10px;justify-content:end;' href='https://deepnote.com?utm_source=created-in-deepnote-cell&projectId=367d7a89-1517-48ab-a267-79886422c5d7' target=\"_blank\">\n",
    "<img alt='Created in deepnote.com' style='display:inline;max-height:16px;margin:0px;margin-right:7.5px;' src='data:image/svg+xml;base64,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' > </img>\n",
    "Created in <span style='font-weight:600;margin-left:4px;'>Deepnote</span></a>"
   ]
  }
 ],
 "metadata": {
  "deepnote_notebook_id": "c4360e51e43d4513b679122f0f3517b8",
  "kernelspec": {
   "display_name": ".venv",
   "language": "python",
   "name": "python3"
  },
  "language_info": {
   "codemirror_mode": {
    "name": "ipython",
    "version": 3
   },
   "file_extension": ".py",
   "mimetype": "text/x-python",
   "name": "python",
   "nbconvert_exporter": "python",
   "pygments_lexer": "ipython3",
   "version": "3.12.4"
  }
 },
 "nbformat": 4,
 "nbformat_minor": 0
}
