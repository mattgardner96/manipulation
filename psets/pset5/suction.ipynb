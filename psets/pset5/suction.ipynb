{
  "cells": [
    {
      "cell_type": "code",
      "source": "import numpy as np\nfrom pydrake.all import (\n    DiagramBuilder,\n    JointIndex,\n    LeafSystem,\n    MeshcatPoseSliders,\n    QuaternionFloatingJoint,\n    RigidTransform,\n    Role,\n    Simulator,\n    StartMeshcat,\n)\n\nfrom manipulation.meshcat_utils import StopButton\nfrom manipulation.station import LoadScenario, MakeHardwareStation, MakeMultibodyPlant\nfrom manipulation.systems import AddIiwaDifferentialIK, MultibodyPositionToBodyPose\nfrom manipulation.utils import running_as_notebook",
      "metadata": {
        "id": "A4QOaw_zYLfI",
        "colab": {},
        "colab_type": "code",
        "lines_to_end_of_cell_marker": 2,
        "cell_id": "d819a2d72df34dbbad99cd1433724bb1",
        "deepnote_cell_type": "code"
      },
      "outputs": [],
      "outputs_reference": null,
      "execution_count": null,
      "block_group": "0b0df6ba033a4eb6982bb756be5ab39e",
      "content_dependencies": null
    },
    {
      "cell_type": "code",
      "source": "# Start the visualizer.\nmeshcat = StartMeshcat()",
      "metadata": {
        "cell_id": "7f5ec6055bbc4af2a769cefdced6752b",
        "deepnote_cell_type": "code"
      },
      "outputs": [],
      "outputs_reference": null,
      "execution_count": null,
      "block_group": "62551a6d071e49b294b7c4b12eb01ee7",
      "content_dependencies": null
    },
    {
      "cell_type": "markdown",
      "source": "# Suction example\n\nA simple teleop example w/ the simplest model of \"suction\", implemented in a temporary way by adding floating joints between the gripper and the floating objects, and locking/unlocking those joints.\n\nNote: This should get much cleaner pending the resolution of https://github.com/RobotLocomotion/drake/issues/20571.",
      "metadata": {
        "id": "C1sdq2R88C16",
        "colab_type": "text",
        "cell_id": "b0da251c326e47f2bcaec4e9a12bec4e",
        "deepnote_cell_type": "markdown"
      },
      "block_group": "70a2bca7f2194d879f458f4394840b9e"
    },
    {
      "cell_type": "code",
      "source": "scenario_data = \"\"\"\ndirectives:\n- add_model:\n    name: iiwa\n    file: package://manipulation/planar_iiwa14_no_collision.urdf\n    default_joint_positions:\n        iiwa_joint_2: [0.1]\n        iiwa_joint_4: [-1.2]\n        iiwa_joint_6: [1.6]\n- add_weld:\n    parent: world\n    child: iiwa::iiwa_link_0\n- add_model:\n    name: suction_base\n    file: package://manipulation/suction/suction-base.urdf\n- add_weld:\n    parent: iiwa::iiwa_link_7\n    child: suction_base::baseLink\n    X_PC:\n        translation: [0, 0, 0.01]\n        rotation: !Rpy { deg: [0, 0, 0]}\n- add_model:\n    name: suction_head\n    file: package://manipulation/suction/suction-head.urdf\n- add_weld:\n    parent: iiwa::iiwa_link_7\n    child: suction_head::headLink\n    X_PC:\n        translation: [0, 0, 0.10]\n        rotation: !Rpy { deg: [0, 0, 0]}\n\n- add_model:\n    name: brick0\n    file: package://manipulation/hydro/061_foam_brick.sdf\n\n- add_model:\n    name: brick1\n    file: package://manipulation/hydro/061_foam_brick.sdf\n\n- add_model:\n    name: robot_table\n    file: package://manipulation/hydro/extra_heavy_duty_table_surface_only_collision.sdf\n- add_weld:\n    parent: world\n    child: robot_table::link\n    X_PC:\n        translation: [0, 0, -0.7645]\n- add_model:\n    name: work_table\n    file: package://manipulation/hydro/extra_heavy_duty_table_surface_only_collision.sdf\n- add_weld:\n    parent: world\n    child: work_table::link\n    X_PC:\n        translation: [0.75, 0, -0.7645]\n\nmodel_drivers:\n    iiwa: !IiwaDriver\n        control_mode: position_only\n\"\"\"\n\n# TODO(russt): Implement free joints in urdf, and replace the add_joint callback\n# with the following model_directives:\n# - add_model:\n#    name: brick0_floating\n#    file: package://manipulation/floating_joint.urdf\n#    default_joint_positions:\n#        floating: [1, 0, 0, 0, 0, 0, 3]  # quat, x, y, z\n# - add_weld:\n#    parent: suction_head::tipLink\n#    child: brick0_floating::parent\n# - add_weld:\n#    parent: brick0_floating::child\n#    child: brick0::base_link\n\n\nclass SuctionButton(LeafSystem):\n    def __init__(self, meshcat):\n        LeafSystem.__init__(self)\n        port = self.DeclareVectorOutputPort(\"suction_on\", 1, self.DoCalcOutput)\n        port.disable_caching_by_default()\n        self._meshcat = meshcat\n        self._button = \"Suction on/off\"\n        meshcat.AddButton(self._button, \"Space\")\n        print(\"Press Space to turn the suction on/off\")\n\n    def __del__(self):\n        self._meshcat.DeleteButton(self._button)\n\n    def DoCalcOutput(self, context, output):\n        output.SetAtIndex(0, self._meshcat.GetButtonClicks(self._button) % 2)\n\n\ndef teleop_2d():\n    scenario = LoadScenario(data=scenario_data)\n    meshcat.Set2dRenderMode(xmin=-0.25, xmax=1.5, ymin=-0.1, ymax=1.3)\n\n    builder = DiagramBuilder()\n\n    def add_suction_joints(parser):\n        plant = parser.plant()\n        suction_body = plant.GetBodyByName(\"tipLink\")\n        brick0_id = plant.GetModelInstanceByName(\"brick0\")\n        brick0_body = plant.get_body(plant.GetBodyIndices(brick0_id)[0])\n        brick0_joint = plant.AddJoint(\n            QuaternionFloatingJoint(\n                \"brick0_joint\",\n                suction_body.body_frame(),\n                brick0_body.body_frame(),\n            )\n        )\n        # Inconveniently, this is in the frame of the suction gripper, and you\n        # can't evaluate the kinematics of this plant yet. In a pinch, make a\n        # second iiwa here and use that to compute the kinematics, then throw\n        # it away.\n        X_SuctionBrick0 = RigidTransform([0, 0, 0.2])\n        brick0_joint.SetDefaultPose(X_SuctionBrick0)\n\n        brick1_id = plant.GetModelInstanceByName(\"brick1\")\n        brick1_body = plant.get_body(plant.GetBodyIndices(brick1_id)[0])\n        brick1_joint = plant.AddJoint(\n            QuaternionFloatingJoint(\n                \"brick1_joint\",\n                suction_body.body_frame(),\n                brick1_body.body_frame(),\n            )\n        )\n        X_SuctionBrick1 = RigidTransform([0, 0.2, 0.2])\n        brick1_joint.SetDefaultPose(X_SuctionBrick1)\n\n    station = builder.AddSystem(\n        MakeHardwareStation(\n            scenario, meshcat, parser_prefinalize_callback=add_suction_joints\n        )\n    )\n\n    diff_ik_plant = MakeMultibodyPlant(scenario, model_instance_names=[\"iiwa\"])\n    differential_ik = AddIiwaDifferentialIK(builder, diff_ik_plant)\n    builder.Connect(\n        differential_ik.get_output_port(),\n        station.GetInputPort(\"iiwa.position\"),\n    )\n    builder.Connect(\n        station.GetOutputPort(\"iiwa.state_estimated\"),\n        differential_ik.GetInputPort(\"robot_state\"),\n    )\n\n    # Set up teleop widgets.\n    meshcat.DeleteAddedControls()\n    teleop = builder.AddSystem(\n        MeshcatPoseSliders(\n            meshcat,\n            lower_limit=[0, -np.pi, -np.pi, -0.6, -1, 0],\n            upper_limit=[2 * np.pi, np.pi, np.pi, 0.8, 1, 1.1],\n            # Only roll, x, and z are used in this example:\n            visible=[True, False, False, True, False, True],\n            decrement_keycodes=[\"KeyQ\", \"\", \"\", \"ArrowLeft\", \"\", \"ArrowDown\"],\n            increment_keycodes=[\"KeyE\", \"\", \"\", \"ArrowRight\", \"\", \"ArrowUp\"],\n        )\n    )\n    builder.Connect(\n        teleop.get_output_port(), differential_ik.GetInputPort(\"X_WE_desired\")\n    )\n    ee_pose = builder.AddSystem(\n        MultibodyPositionToBodyPose(\n            diff_ik_plant, diff_ik_plant.GetBodyByName(\"iiwa_link_7\")\n        )\n    )\n    builder.Connect(\n        station.GetOutputPort(\"iiwa.position_measured\"), ee_pose.get_input_port()\n    )\n    builder.Connect(ee_pose.get_output_port(), teleop.get_input_port())\n\n    suction_button = builder.AddSystem(SuctionButton(meshcat))\n    builder.AddSystem(StopButton(meshcat))\n\n    # Simulate.\n    diagram = builder.Build()\n    simulator = Simulator(diagram)\n\n    context = simulator.get_context()\n    print(station)\n    plant = station.plant()\n    plant_context = plant.GetMyContextFromRoot(context)\n    scene_graph = station.GetSubsystemByName(\"scene_graph\")\n    scene_graph_context = scene_graph.GetMyContextFromRoot(context)\n    tip_geom_id = scene_graph.model_inspector().GetGeometries(\n        plant.GetBodyFrameIdOrThrow(plant.GetBodyByName(\"tipLink\").index()),\n        Role.kProximity,\n    )[0]\n\n    suction_context = suction_button.GetMyContextFromRoot(context)\n    suction_max_distance = 0.01\n    last_suction_state = False\n    active_suction_joints = []\n\n    if running_as_notebook:  # Then we're not just running as a test on CI.\n        simulator.set_target_realtime_rate(1.0)\n        while True:\n            suction_state = suction_button.GetOutputPort(\"suction_on\").Eval(\n                suction_context\n            )\n            if suction_state and not last_suction_state:\n                print(\"turning suction on\")\n                query_object = scene_graph.get_query_output_port().Eval(\n                    scene_graph_context\n                )\n                inspector = query_object.inspector()\n                for pair in query_object.ComputeSignedDistancePairwiseClosestPoints(\n                    suction_max_distance\n                ):\n                    # Do a little gymnastics to figure out which joint to lock\n                    suctioned_geom_id = None\n                    if pair.id_A == tip_geom_id:\n                        suctioned_geom_id = pair.id_B\n                    elif pair.id_B == tip_geom_id:\n                        suctioned_geom_id.geom_id = pair.id_A\n                    else:\n                        continue\n                    suctioned_frame_id = inspector.GetFrameId(suctioned_geom_id)\n                    suctioned_body = plant.GetBodyFromFrameId(suctioned_frame_id)\n\n                    for i in range(plant.num_joints()):\n                        joint = plant.get_joint(JointIndex(i))\n                        if joint.child_body() == suctioned_body:\n                            joint.Lock(plant_context)\n                            active_suction_joints.append(joint)\n                            print(f\"suctioned the {suctioned_body.name()}\")\n                if not active_suction_joints:\n                    print(\"too far away to suction anything\")\n\n            elif not suction_state and last_suction_state:\n                print(\"turning suction off\")\n                for joint in active_suction_joints:\n                    joint.Unlock(plant_context)\n                active_suction_joints = []\n\n            last_suction_state = suction_state\n            simulator.AdvanceTo(context.get_time() + 0.1)\n    else:\n        simulator.set_target_realtime_rate(0)\n        simulator.AdvanceTo(0.1)\n\n\nteleop_2d()",
      "metadata": {
        "id": "7dimkJhd9DjP",
        "colab": {},
        "colab_type": "code",
        "cell_id": "40f985298c274f569f6a8a734f08473f",
        "deepnote_cell_type": "code"
      },
      "outputs": [],
      "outputs_reference": null,
      "execution_count": null,
      "block_group": "076ccc63ef9e40a89dc0ca947c8b5347",
      "content_dependencies": null
    },
    {
      "cell_type": "code",
      "source": "",
      "metadata": {
        "cell_id": "5ed2d61e45054f5189bb5b92b0072243",
        "deepnote_cell_type": "code"
      },
      "outputs": [],
      "outputs_reference": null,
      "execution_count": null,
      "block_group": "ce6c9ed1cba34c8cac010ec38f5ce7c1",
      "content_dependencies": null
    },
    {
      "cell_type": "markdown",
      "source": "<a style='text-decoration:none;line-height:16px;display:flex;color:#5B5B62;padding:10px;justify-content:end;' href='https://deepnote.com?utm_source=created-in-deepnote-cell&projectId=a9f4175d-ea21-49c3-83c9-e5c3a0936239' target=\"_blank\">\n<img alt='Created in deepnote.com' style='display:inline;max-height:16px;margin:0px;margin-right:7.5px;' src='data:image/svg+xml;base64,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' > </img>\nCreated in <span style='font-weight:600;margin-left:4px;'>Deepnote</span></a>",
      "metadata": {
        "created_in_deepnote_cell": true,
        "deepnote_cell_type": "markdown"
      }
    }
  ],
  "nbformat": 4,
  "nbformat_minor": 0,
  "metadata": {
    "deepnote_notebook_id": "6b0cc93852c347b3af8fb37feab849fc",
    "deepnote_execution_queue": []
  }
}