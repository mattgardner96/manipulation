{
  "cells": [
    {
      "cell_type": "markdown",
      "source": "This notebook provides examples to go along with the [textbook](http://manipulation.csail.mit.edu/clutter.html).  I recommend having both windows open, side-by-side!",
      "metadata": {
        "id": "TKvYiJgnYExi",
        "cell_id": "89a230c432cb43a6a58e0e90b81cbb41",
        "deepnote_cell_type": "markdown"
      },
      "block_group": "4107e2ccce1b4c199f5282d1335d62cb"
    },
    {
      "cell_type": "code",
      "source": "import numpy as np\nfrom IPython.display import HTML, display\nfrom matplotlib import pyplot as plt\nfrom pydrake.all import (\n    AddMultibodyPlantSceneGraph,\n    Box,\n    ConnectPlanarSceneGraphVisualizer,\n    DiagramBuilder,\n    FixedOffsetFrame,\n    JointIndex,\n    Parser,\n    PlanarJoint,\n    RandomGenerator,\n    RigidTransform,\n    RotationMatrix,\n    Simulator,\n    StartMeshcat,\n    UniformlyRandomRotationMatrix,\n)\n\nfrom manipulation import ConfigureParser, running_as_notebook\nfrom manipulation.scenarios import AddShape, ycb\nfrom manipulation.station import LoadScenario, MakeHardwareStation",
      "metadata": {
        "id": "A4QOaw_zYLfI",
        "lines_to_end_of_cell_marker": 2,
        "cell_id": "5701ce02ee9e480389f51b954f9ac813",
        "deepnote_cell_type": "code"
      },
      "outputs": [],
      "outputs_reference": null,
      "execution_count": null,
      "block_group": "88af17c8334d4b15951bfea738b28c7f",
      "content_dependencies": null
    },
    {
      "cell_type": "code",
      "source": "meshcat = StartMeshcat()\nrng = np.random.default_rng(145)  # this is for python\ngenerator = RandomGenerator(rng.integers(0, 1000))  # this is for c++",
      "metadata": {
        "cell_id": "602c54e50568420da169b31ee8d1050a",
        "deepnote_cell_type": "code"
      },
      "outputs": [],
      "outputs_reference": null,
      "execution_count": null,
      "block_group": "6dac1cac42084229bbb6c156aba35d4c",
      "content_dependencies": null
    },
    {
      "cell_type": "markdown",
      "source": "# Falling things (in 2D)\n",
      "metadata": {
        "id": "fGbe-rJGJlF0",
        "cell_id": "f7980b5c61a5411f84407bdaa6de4cf9",
        "deepnote_cell_type": "markdown"
      },
      "block_group": "7e95afc6a1dc429b80ed2326041649c9"
    },
    {
      "cell_type": "code",
      "source": "def clutter_gen():\n    builder = DiagramBuilder()\n\n    plant, scene_graph = AddMultibodyPlantSceneGraph(builder, time_step=0.001)\n\n    # Add the ground.\n    ground = AddShape(\n        plant, Box(10.0, 10.0, 10.0), \"ground\", color=[0.9, 0.9, 0.9, 1.0]\n    )\n    plant.WeldFrames(\n        plant.world_frame(),\n        plant.GetFrameByName(\"ground\", ground),\n        RigidTransform([0, 0, -5]),\n    )\n\n    # Add the bricks, each attached to the world via a planar joint.\n    parser = Parser(plant)\n    ConfigureParser(parser)\n    planar_joint_frame = plant.AddFrame(\n        FixedOffsetFrame(\n            \"planar_joint_frame\",\n            plant.world_frame(),\n            RigidTransform(RotationMatrix.MakeXRotation(np.pi / 2)),\n        )\n    )\n    for i in range(20 if running_as_notebook else 2):\n        directives = f\"\"\"\ndirectives:\n- add_model:\n    name: object{i}\n    file: package://manipulation/hydro/061_foam_brick.sdf\n\"\"\"\n        instance = parser.AddModelsFromString(directives, \".dmd.yaml\")[0]\n        plant.AddJoint(\n            PlanarJoint(\n                f\"joint{i}\",\n                planar_joint_frame,\n                plant.GetFrameByName(\"base_link\", instance),\n                damping=[0, 0, 0],\n            )\n        )\n\n    plant.Finalize()\n\n    vis = ConnectPlanarSceneGraphVisualizer(\n        builder,\n        scene_graph,\n        xlim=[-0.6, 0.6],\n        ylim=[-0.1, 0.5],\n        show=False,\n    )\n\n    diagram = builder.Build()\n    simulator = Simulator(diagram)\n    plant_context = plant.GetMyContextFromRoot(simulator.get_mutable_context())\n\n    z = 0.1\n    for i in range(plant.num_joints()):\n        joint = plant.get_joint(JointIndex(i))\n        if isinstance(joint, PlanarJoint):\n            joint.set_pose(\n                plant_context,\n                [rng.uniform(-0.4, 0.4), z],\n                rng.uniform(-np.pi / 2.0, np.pi / 2.0),\n            )\n            z += 0.1\n\n    vis.start_recording()\n    simulator.AdvanceTo(1.5 if running_as_notebook else 0.1)\n    vis.stop_recording()\n    ani = vis.get_recording_as_animation(repeat=False)\n    display(HTML(ani.to_jshtml()))\n\n\nclutter_gen()",
      "metadata": {
        "id": "_JIDhLfN3BSe",
        "cell_id": "9eb2c2b92f0449e1a5c18a2c56ec349c",
        "deepnote_cell_type": "code"
      },
      "outputs": [],
      "outputs_reference": null,
      "execution_count": null,
      "block_group": "45dc42f5bb9c4810b669cf2ada53ec54",
      "content_dependencies": null
    },
    {
      "cell_type": "markdown",
      "source": "# Falling things (in 3D)\n\nI had to decide how to visualize the results of this one for you. The mesh and\ntexture map files for the YCB objects are very large, so downloading many of\nthem to your browser from an online notebook felt a bit too painful. If you've\ndecided to run the notebooks from source on your local machine, then go ahead\nand open meshcat before running this test to see the live simulation. For the\ncloud notebooks, I've decided to add a camera to the scene and take a picture\nafter simulating for a few seconds.  After all, that's perhaps the data that\nwe're actually looking for.\n\n[Note](https://stackoverflow.com/questions/73873885/meshcat-fails-to-import-png-for-cracker-box-in-drake-planar-force-control-demo) that Drake's pip installation doesn't currently include the texture maps for the YCB objects, because they're too big to fit in the `pip` wheel 100MB limit.",
      "metadata": {
        "id": "GoxjuO5PJlF4",
        "cell_id": "67c5e114617f424e83168348ca011e9e",
        "deepnote_cell_type": "markdown"
      },
      "block_group": "43d1bd80ef3740ae9a9ec45f117f1772"
    },
    {
      "cell_type": "code",
      "source": "def clutter_gen():\n    scenario_data = \"\"\"\ncameras:\n    main_camera:\n        name: camera0\n        depth: True\n        X_PB:\n            base_frame: world\n            translation: [0, 0, 0.8]\n            rotation: !Rpy { deg: [180, 0, 90]}\ndirectives:\n- add_model:\n    name: bin\n    file: package://manipulation/hydro/bin.sdf\n- add_weld:\n    parent: world\n    child: bin::bin_base\n\"\"\"\n    for i in range(10 if running_as_notebook else 2):\n        object_num = rng.integers(0, len(ycb))\n        scenario_data += f\"\"\"\n- add_model:\n    name: thing{i}\n    file: package://manipulation/hydro/{ycb[object_num]}\n\"\"\"\n    # TODO(russt): If I didn't need to add the body name, then I could use default_free_body_pose right here and avoid the second loop.\n\n    scenario = LoadScenario(data=scenario_data)\n    station = MakeHardwareStation(scenario, meshcat)\n\n    simulator = Simulator(station)\n    context = simulator.get_mutable_context()\n    plant = station.GetSubsystemByName(\"plant\")\n    plant_context = plant.GetMyContextFromRoot(context)\n\n    z = 0.2\n    for body_index in plant.GetFloatingBaseBodies():\n        tf = RigidTransform(\n            UniformlyRandomRotationMatrix(generator),\n            [rng.uniform(-0.15, 0.15), rng.uniform(-0.2, 0.2), z],\n        )\n        plant.SetFreeBodyPose(plant_context, plant.get_body(body_index), tf)\n        z += 0.1\n\n    simulator.AdvanceTo(2.0 if running_as_notebook else 0.1)\n    color_image = station.GetOutputPort(\"camera0.rgb_image\").Eval(context)\n    plt.figure()\n    plt.imshow(color_image.data)\n    plt.axis(\"off\")\n\n\nclutter_gen()",
      "metadata": {
        "id": "K2oyAnHfJlF5",
        "cell_id": "43060627883847258da64979f567a54a",
        "deepnote_cell_type": "code"
      },
      "outputs": [],
      "outputs_reference": null,
      "execution_count": null,
      "block_group": "9c1a3a717aa3491393e67c3e046b5d93",
      "content_dependencies": null
    },
    {
      "cell_type": "markdown",
      "source": "<a style='text-decoration:none;line-height:16px;display:flex;color:#5B5B62;padding:10px;justify-content:end;' href='https://deepnote.com?utm_source=created-in-deepnote-cell&projectId=a9f4175d-ea21-49c3-83c9-e5c3a0936239' target=\"_blank\">\n<img alt='Created in deepnote.com' style='display:inline;max-height:16px;margin:0px;margin-right:7.5px;' src='data:image/svg+xml;base64,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' > </img>\nCreated in <span style='font-weight:600;margin-left:4px;'>Deepnote</span></a>",
      "metadata": {
        "created_in_deepnote_cell": true,
        "deepnote_cell_type": "markdown"
      }
    }
  ],
  "nbformat": 4,
  "nbformat_minor": 0,
  "metadata": {
    "deepnote_notebook_id": "673af5955e21496ba4cb96687a3ea47d",
    "deepnote_execution_queue": []
  }
}