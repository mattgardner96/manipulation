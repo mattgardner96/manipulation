{
 "cells": [
  {
   "cell_type": "markdown",
   "metadata": {
    "cell_id": "b801457d87a94adba93ffd8898a6641c",
    "deepnote_cell_type": "markdown",
    "id": "VEYe67K6E6j0"
   },
   "source": [
    "# Antipodal Grasp with Deep Segmentation\n",
    "In this problem, you will use same the antipodal grasp strategy we used with geometric perception, but you'll use deep perception to restrict your grasps to a single object (the mustard bottle).\n",
    "\n",
    "We'll be using the Mask RCNN model that's trained in [this script](https://colab.research.google.com/github/RussTedrake/manipulation/blob/master/book/segmentation/segmentation_train.ipynb) from the textbook. As an input, the model takes an image, and it outputs a series of masks showing where the objects we've trained it on are in the image. (In this case, those objects are images in the YCB dataset.) Once we know which pixels contain the object we wish to grasp, then we can project them back out to point clouds using the depth image and select an antipodal grasp using just those data points.\n",
    "\n",
    "Your job in this notebook will be to use the masks output by our neural network to filter the point cloud to only include points on the mustard bottle. Once we have a filtered point cloud, we'll be able to use them to generate antipodal grasps just on our object of interest."
   ]
  },
  {
   "cell_type": "code",
   "execution_count": 1,
   "metadata": {
    "cell_id": "cbec92adf25244b5ad688175a3ab7f0d",
    "deepnote_cell_type": "code",
    "deepnote_to_be_reexecuted": false,
    "execution_millis": 910,
    "execution_start": 1634775608309,
    "id": "v5OrhpSmxkGH",
    "source_hash": "ac7c30ed"
   },
   "outputs": [],
   "source": [
    "import os\n",
    "from copy import deepcopy\n",
    "from urllib.request import urlretrieve\n",
    "\n",
    "import matplotlib.pyplot as plt\n",
    "import numpy as np\n",
    "import torch\n",
    "import torch.utils.data\n",
    "import torchvision\n",
    "import torchvision.transforms.functional as Tf\n",
    "from pydrake.all import (\n",
    "    BaseField,\n",
    "    Concatenate,\n",
    "    Fields,\n",
    "    MeshcatVisualizer,\n",
    "    MeshcatVisualizerParams,\n",
    "    PointCloud,\n",
    "    StartMeshcat,\n",
    ")\n",
    "from pydrake.multibody.parsing import Parser\n",
    "from pydrake.multibody.plant import AddMultibodyPlantSceneGraph\n",
    "from pydrake.systems.framework import DiagramBuilder\n",
    "from torchvision.models.detection import MaskRCNN_ResNet50_FPN_Weights\n",
    "from torchvision.models.detection.faster_rcnn import FastRCNNPredictor\n",
    "from torchvision.models.detection.mask_rcnn import MaskRCNNPredictor\n",
    "\n",
    "from manipulation import running_as_notebook\n",
    "from manipulation.clutter import GenerateAntipodalGraspCandidate\n",
    "from manipulation.scenarios import AddRgbdSensors\n",
    "from manipulation.utils import ConfigureParser, FindDataResource"
   ]
  },
  {
   "cell_type": "code",
   "execution_count": 2,
   "metadata": {
    "cell_id": "56c72e2e8fc344ae9c51e3742f52e2b6",
    "deepnote_cell_type": "code",
    "deepnote_to_be_reexecuted": false,
    "execution_millis": 5,
    "execution_start": 1634775265327,
    "source_hash": "6d42057f"
   },
   "outputs": [
    {
     "name": "stderr",
     "output_type": "stream",
     "text": [
      "INFO:drake:Meshcat listening for connections at http://localhost:7001\n"
     ]
    }
   ],
   "source": [
    "# Start the visualizer.\n",
    "meshcat = StartMeshcat()"
   ]
  },
  {
   "cell_type": "markdown",
   "metadata": {
    "cell_id": "7ff735b2ca89487baa1876650e7106d3",
    "deepnote_cell_type": "markdown",
    "tags": []
   },
   "source": [
    "## Load Model\n",
    "To avoid making you wait and train the model yourself, we'll use the pre-trained model from the textbook. First, we need to load it."
   ]
  },
  {
   "cell_type": "code",
   "execution_count": 3,
   "metadata": {
    "cell_id": "9fbf0ea5acfa425bb031ef49439e3c98",
    "deepnote_cell_type": "code",
    "deepnote_to_be_reexecuted": false,
    "execution_millis": 1,
    "execution_start": 1634775259173,
    "source_hash": "dfb97091",
    "tags": []
   },
   "outputs": [],
   "source": [
    "if running_as_notebook:\n",
    "    model_file = \"clutter_maskrcnn_model.pt\"\n",
    "    if not os.path.exists(model_file):\n",
    "        urlretrieve(\n",
    "            \"https://groups.csail.mit.edu/locomotion/clutter_maskrcnn_model.pt\",\n",
    "            model_file,\n",
    "        )"
   ]
  },
  {
   "cell_type": "code",
   "execution_count": 4,
   "metadata": {
    "cell_id": "3c406393d62e4eb6aa7194f8a31ba532",
    "deepnote_cell_type": "code",
    "deepnote_to_be_reexecuted": false,
    "execution_millis": 5153,
    "execution_start": 1634775259179,
    "source_hash": "8da585f9",
    "tags": []
   },
   "outputs": [],
   "source": [
    "mustard_ycb_idx = 3\n",
    "if running_as_notebook:\n",
    "\n",
    "    def get_instance_segmentation_model(num_classes):\n",
    "        # load an instance segmentation model pre-trained on COCO\n",
    "        model = torchvision.models.detection.maskrcnn_resnet50_fpn(\n",
    "            weights=MaskRCNN_ResNet50_FPN_Weights.DEFAULT, progress=False\n",
    "        )\n",
    "\n",
    "        # get the number of input features for the classifier\n",
    "        in_features = model.roi_heads.box_predictor.cls_score.in_features\n",
    "        # replace the pre-trained head with a new one\n",
    "        model.roi_heads.box_predictor = FastRCNNPredictor(in_features, num_classes)\n",
    "\n",
    "        # now get the number of input features for the mask classifier\n",
    "        in_features_mask = model.roi_heads.mask_predictor.conv5_mask.in_channels\n",
    "        hidden_layer = 256\n",
    "        # and replace the mask predictor with a new one\n",
    "        model.roi_heads.mask_predictor = MaskRCNNPredictor(\n",
    "            in_features_mask, hidden_layer, num_classes\n",
    "        )\n",
    "\n",
    "        return model\n",
    "\n",
    "    num_classes = 7\n",
    "    model = get_instance_segmentation_model(num_classes)\n",
    "    device = torch.device(\"cuda\") if torch.cuda.is_available() else torch.device(\"cpu\")\n",
    "    model.load_state_dict(torch.load(\"clutter_maskrcnn_model.pt\", map_location=device))\n",
    "    model.eval()\n",
    "\n",
    "    model.to(device)"
   ]
  },
  {
   "cell_type": "markdown",
   "metadata": {
    "cell_id": "2f87252d5e3f4dde8e689e7f4e95f647",
    "deepnote_cell_type": "markdown",
    "tags": []
   },
   "source": [
    "## Set Up Camera System\n",
    "Now that we've loaded our network, we need to set up the Drake model for our system. It has several objects from the YCB data set and two cameras."
   ]
  },
  {
   "cell_type": "code",
   "execution_count": 5,
   "metadata": {
    "cell_id": "e190d00b126143e0856a1e244e5bdc0c",
    "deepnote_cell_type": "code",
    "deepnote_to_be_reexecuted": false,
    "execution_millis": 3,
    "execution_start": 1634775269991,
    "source_hash": "bd2f0581",
    "tags": []
   },
   "outputs": [],
   "source": [
    "def ClutteredSceneSystem():\n",
    "    builder = DiagramBuilder()\n",
    "\n",
    "    # Create the physics engine + scene graph.\n",
    "    plant, scene_graph = AddMultibodyPlantSceneGraph(builder, time_step=0.0)\n",
    "    parser = Parser(plant)\n",
    "    ConfigureParser(parser)\n",
    "    parser.AddModelsFromUrl(\n",
    "        \"package://manipulation/segmentation_and_grasp_scene.dmd.yaml\"\n",
    "    )\n",
    "    plant.Finalize()\n",
    "\n",
    "    AddRgbdSensors(builder, plant, scene_graph)\n",
    "\n",
    "    diagram = builder.Build()\n",
    "    diagram.set_name(\"depth_camera_demo_system\")\n",
    "    context = diagram.CreateDefaultContext()\n",
    "    return diagram, context"
   ]
  },
  {
   "cell_type": "code",
   "execution_count": null,
   "metadata": {
    "cell_id": "e9d82a8155c74378ac548f42a51075bc",
    "deepnote_cell_type": "code",
    "deepnote_to_be_reexecuted": false,
    "execution_millis": 2974,
    "execution_start": 1634775312935,
    "source_hash": "b566af18",
    "tags": []
   },
   "outputs": [],
   "source": [
    "class CameraSystem:\n",
    "    def __init__(self, idx, meshcat, diagram, context):\n",
    "        self.idx = idx\n",
    "\n",
    "        # Read images\n",
    "        depth_im_read = (\n",
    "            diagram.GetOutputPort(\"camera{}_depth_image\".format(idx))\n",
    "            .Eval(context)\n",
    "            .data.squeeze()\n",
    "        )\n",
    "        self.depth_im = deepcopy(depth_im_read)\n",
    "        self.depth_im[self.depth_im == np.inf] = 10.0\n",
    "        self.rgb_im = (\n",
    "            diagram.GetOutputPort(\"camera{}_rgb_image\".format(idx)).Eval(context).data\n",
    "        )\n",
    "\n",
    "        # Visualize\n",
    "        point_cloud = diagram.GetOutputPort(\"camera{}_point_cloud\".format(idx)).Eval(\n",
    "            context\n",
    "        )\n",
    "        meshcat.SetObject(f\"Camera {idx} point cloud\", point_cloud)\n",
    "\n",
    "        # Get other info about the camera\n",
    "        cam = diagram.GetSubsystemByName(\"camera\" + str(idx))\n",
    "        cam_context = cam.GetMyMutableContextFromRoot(context)\n",
    "        self.X_WC = cam.body_pose_in_world_output_port().Eval(cam_context)\n",
    "        self.cam_info = cam.default_depth_render_camera().core().intrinsics()\n",
    "\n",
    "    def project_depth_to_pC(self, depth_pixel):\n",
    "        \"\"\"\n",
    "        project depth pixels to points in camera frame\n",
    "        using pinhole camera model\n",
    "        Input:\n",
    "            depth_pixels: numpy array of (nx3) or (3,)\n",
    "        Output:\n",
    "            pC: 3D point in camera frame, numpy array of (nx3)\n",
    "        \"\"\"\n",
    "        # switch u,v due to python convention\n",
    "        v = depth_pixel[:, 0]\n",
    "        u = depth_pixel[:, 1]\n",
    "        Z = depth_pixel[:, 2]\n",
    "        cx = self.cam_info.center_x()\n",
    "        cy = self.cam_info.center_y()\n",
    "        fx = self.cam_info.focal_x()\n",
    "        fy = self.cam_info.focal_y()\n",
    "        X = (u - cx) * Z / fx\n",
    "        Y = (v - cy) * Z / fy\n",
    "        pC = np.c_[X, Y, Z]\n",
    "        return pC\n",
    "\n",
    "\n",
    "environment_diagram, environment_context = ClutteredSceneSystem()\n",
    "cameras = []\n",
    "cameras.append(CameraSystem(0, meshcat, environment_diagram, environment_context))\n",
    "cameras.append(CameraSystem(1, meshcat, environment_diagram, environment_context))"
   ]
  },
  {
   "cell_type": "markdown",
   "metadata": {
    "cell_id": "17279efc59f34291be4d46656c80a198",
    "deepnote_cell_type": "markdown",
    "tags": []
   },
   "source": [
    "### Examining Camera Views\n",
    "If you take a look at Meshcat, under \"scene > drake,\" you'll find two check boxes: one labeled \"Camera 0 point cloud\" and one labeled \"Camera 1 point cloud.\" Toggle these to see the different views the two cameras get.\n",
    "\n",
    "We can also look directly at the images captured by each camera:"
   ]
  },
  {
   "cell_type": "code",
   "execution_count": null,
   "metadata": {
    "cell_id": "aef5ca7687eb4707beab571266834ba1",
    "deepnote_cell_type": "code",
    "deepnote_to_be_reexecuted": false,
    "execution_millis": 735,
    "execution_start": 1634775333501,
    "source_hash": "435da067",
    "tags": []
   },
   "outputs": [],
   "source": [
    "plt.imshow(cameras[0].rgb_im)\n",
    "plt.title(\"View from camera 0\")\n",
    "plt.show()\n",
    "\n",
    "plt.imshow(cameras[1].rgb_im)\n",
    "plt.title(\"View from camera 1\")\n",
    "plt.show()"
   ]
  },
  {
   "cell_type": "markdown",
   "metadata": {
    "cell_id": "b4129341e33d45f99b7057f989be0588",
    "deepnote_cell_type": "markdown",
    "tags": []
   },
   "source": [
    "## Generate masks for each image\n",
    "Now that we have a network and camera inputs, we can start processing our inputs. First, we will evaluate the mask (which is the output from our network) for each image."
   ]
  },
  {
   "cell_type": "code",
   "execution_count": null,
   "metadata": {
    "cell_id": "8878bbd00dc84c3fa89467eb5e3d214f",
    "deepnote_cell_type": "code",
    "deepnote_to_be_reexecuted": false,
    "execution_millis": 33005,
    "execution_start": 1634775338291,
    "source_hash": "66ca9127",
    "tags": []
   },
   "outputs": [],
   "source": [
    "if running_as_notebook:\n",
    "    with torch.no_grad():\n",
    "        predictions = []\n",
    "        predictions.append(\n",
    "            model([Tf.to_tensor(cameras[0].rgb_im[:, :, :3]).to(device)])\n",
    "        )\n",
    "        predictions.append(\n",
    "            model([Tf.to_tensor(cameras[1].rgb_im[:, :, :3]).to(device)])\n",
    "        )\n",
    "    for i in range(2):\n",
    "        for k in predictions[i][0].keys():\n",
    "            if k == \"masks\":\n",
    "                predictions[i][0][k] = (\n",
    "                    predictions[i][0][k].mul(255).byte().cpu().numpy()\n",
    "                )\n",
    "            else:\n",
    "                predictions[i][0][k] = predictions[i][0][k].cpu().numpy()\n",
    "else:\n",
    "    predictions = []\n",
    "    for i in range(2):\n",
    "        prediction = []\n",
    "        prediction.append(np.load(FindDataResource(\"prediction_{}.npz\".format(i))))\n",
    "        predictions.append(prediction)"
   ]
  },
  {
   "cell_type": "markdown",
   "metadata": {
    "cell_id": "a27beacfc49e4a8bb2f11ce0f4a25a9b",
    "deepnote_cell_type": "markdown",
    "tags": []
   },
   "source": [
    "`predictions[0]` was run on the image from Camera 0, while `predictions[1]` was run on the image from Camera 1. \n",
    "\n",
    "Lets take a minute to understand this output. Breaking it down by each key in the output dictionary:\n",
    "* The \"boxes\" correspond to bounding boxes on the regions containing the object\n",
    "* The \"labels\" tell us which class the model has associated with the (as in, whether it's the mustard bottle, the Cheez-it box, the spam container, etc. Each model is identified by a number.)\n",
    "* The \"scores\" are a measure of confidence in the model predictions\n",
    "* The \"masks\" are arrays which indicate which pixels belong to the corresponding class"
   ]
  },
  {
   "cell_type": "code",
   "execution_count": null,
   "metadata": {
    "cell_id": "77054d41338e4b83b6f686bfd1a755a7",
    "deepnote_cell_type": "code",
    "deepnote_to_be_reexecuted": false,
    "execution_millis": 13,
    "execution_start": 1634775371302,
    "source_hash": "2f700070",
    "tags": []
   },
   "outputs": [],
   "source": [
    "predictions[0]"
   ]
  },
  {
   "cell_type": "markdown",
   "metadata": {
    "cell_id": "3dd3d7ea73c84d58adf706688f31663a",
    "deepnote_cell_type": "markdown",
    "tags": []
   },
   "source": [
    "The two most important elements for our task are `labels`, which tells us which class the mask corresponds to, and `mask`, which gives a higher score for pixels that more likely correspond to points on the mustard bottle.\n",
    "\n",
    "Note that we defined `mustard_ycb_idx = 3` at the top of the notebook; that's the value of the label for the class we care about.\n",
    "\n",
    "The following cells visualize the masks we get:"
   ]
  },
  {
   "cell_type": "code",
   "execution_count": null,
   "metadata": {
    "cell_id": "b9ff61f42f4b4432978017aba2645ad9",
    "deepnote_cell_type": "code",
    "deepnote_to_be_reexecuted": false,
    "execution_millis": 714,
    "execution_start": 1634764705722,
    "source_hash": "d6e382b2",
    "tags": []
   },
   "outputs": [],
   "source": [
    "for i, prediction in enumerate(predictions):\n",
    "    mask_idx = np.argmax(predictions[i][0][\"labels\"] == mustard_ycb_idx)\n",
    "    mask = predictions[i][0][\"masks\"][mask_idx, 0]\n",
    "\n",
    "    plt.imshow(mask)\n",
    "    plt.title(\"Mask from Camera \" + str(i))\n",
    "    plt.colorbar()\n",
    "    plt.show()"
   ]
  },
  {
   "cell_type": "markdown",
   "metadata": {
    "cell_id": "ded76c4e2cfc44bfa2d543db3db144b4",
    "deepnote_cell_type": "markdown",
    "tags": []
   },
   "source": [
    "## Generate Point Cloud\n",
    "### 9.2a Masking\n",
    "Using the masks we've found, generate a filtered point cloud that includes images from both cameras but only includes points within the mustard. (You will fill in code to return both points and colors; technically, we only need the points for finding an antipodal grasp, but the colors are helpful for visualization.)\n",
    "\n",
    "You will write code that does the following for each camera and image:\n",
    "1. Extract the pixels from the mask that we consider to be within the mustard bottle (specifically: take values that are above `mask_threshold`)\n",
    "2. Select points in the depth image corresponding to those pixels\n",
    "3. Using the depth values, project those selected pixels back out to be points in the camera frame. You'll use the camera's `project_depth_to_pC` image to do this; refer back to problem 5.2 for how this is used.\n",
    "4. Convert the points to the world frame\n",
    "5. Select color values from the RGB image that correspond to your mask pixels. "
   ]
  },
  {
   "cell_type": "code",
   "execution_count": null,
   "metadata": {
    "cell_id": "564cd467a03d4aa4afe0e5f15aafaf74",
    "deepnote_cell_type": "code",
    "deepnote_to_be_reexecuted": false,
    "execution_millis": 0,
    "execution_start": 1634775642499,
    "source_hash": "a659f42e",
    "tags": []
   },
   "outputs": [],
   "source": [
    "def get_merged_masked_pcd(\n",
    "    predictions,\n",
    "    rgb_ims,\n",
    "    depth_ims,\n",
    "    project_depth_to_pC_funcs,\n",
    "    X_WCs,\n",
    "    mask_threshold=150,\n",
    "):\n",
    "    \"\"\"\n",
    "    predictions: The output of the trained network (one for each camera)\n",
    "    rgb_ims: RGBA images from each camera\n",
    "    depth_ims: Depth images from each camera\n",
    "    project_depth_to_pC_funcs: Functions that perform the pinhole camera operations to convert pixels\n",
    "        into points. See the analogous function in problem 5.2 to see how to use it.\n",
    "    X_WCs: Poses of the cameras in the world frame\n",
    "    \"\"\"\n",
    "\n",
    "    pcd = []\n",
    "    for prediction, rgb_im, depth_im, project_depth_to_pC_func, X_WC in zip(\n",
    "        predictions, rgb_ims, depth_ims, project_depth_to_pC_funcs, X_WCs\n",
    "    ):\n",
    "        # These arrays aren't the same size as the correct outputs, but we're\n",
    "        # just initializing them to something valid for now.\n",
    "        spatial_points = np.zeros((3, 1))  # 3xN: (x,y,z) x Number of masked points\n",
    "        rgb_points = np.zeros((3, 1))  # 3xN: Color channels x Number of masked points\n",
    "\n",
    "        ######################################\n",
    "        # Your code here (populate spatial_points and rgb_points)\n",
    "        ######################################\n",
    "\n",
    "        # You get an unhelpful RunTime error if your arrays are the wrong\n",
    "        # shape, so we'll check beforehand that they're the correct shapes.\n",
    "        assert (\n",
    "            len(spatial_points.shape) == 2\n",
    "        ), \"Spatial points is the wrong size -- should be 3 x N\"\n",
    "        assert (\n",
    "            spatial_points.shape[0] == 3\n",
    "        ), \"Spatial points is the wrong size -- should be 3 x N\"\n",
    "        assert (\n",
    "            len(rgb_points.shape) == 2\n",
    "        ), \"RGB points is the wrong size -- should be 3 x N\"\n",
    "        assert (\n",
    "            rgb_points.shape[0] == 3\n",
    "        ), \"RGB points is the wrong size -- should be 3 x N\"\n",
    "        assert rgb_points.shape[1] == spatial_points.shape[1]\n",
    "\n",
    "        N = spatial_points.shape[1]\n",
    "        pcd.append(PointCloud(N, Fields(BaseField.kXYZs | BaseField.kRGBs)))\n",
    "        pcd[-1].mutable_xyzs()[:] = spatial_points\n",
    "        pcd[-1].mutable_rgbs()[:] = rgb_points\n",
    "        # Estimate normals\n",
    "        pcd[-1].EstimateNormals(radius=0.1, num_closest=30)\n",
    "        # Flip normals toward camera\n",
    "        pcd[-1].FlipNormalsTowardPoint(X_WC.translation())\n",
    "\n",
    "    # Merge point clouds.\n",
    "    merged_pcd = Concatenate(pcd)\n",
    "\n",
    "    # Voxelize down-sample.  (Note that the normals still look reasonable)\n",
    "    return merged_pcd.VoxelizedDownSample(voxel_size=0.005)"
   ]
  },
  {
   "cell_type": "markdown",
   "metadata": {
    "cell_id": "32e89f43cd0248cb9816c895c643e52c",
    "deepnote_cell_type": "markdown",
    "tags": []
   },
   "source": [
    "Now let's use this function to visualize the output of `get_merged_masked_pcd`."
   ]
  },
  {
   "cell_type": "code",
   "execution_count": null,
   "metadata": {
    "cell_id": "6b4e7d18356a4359998aa03912a3bb67",
    "deepnote_cell_type": "code",
    "deepnote_to_be_reexecuted": false,
    "execution_millis": 636,
    "execution_start": 1634775649507,
    "source_hash": "a7245486",
    "tags": []
   },
   "outputs": [],
   "source": [
    "rgb_ims = [c.rgb_im for c in cameras]\n",
    "depth_ims = [c.depth_im for c in cameras]\n",
    "project_depth_to_pC_funcs = [c.project_depth_to_pC for c in cameras]\n",
    "X_WCs = [c.X_WC for c in cameras]\n",
    "\n",
    "pcd = get_merged_masked_pcd(\n",
    "    predictions, rgb_ims, depth_ims, project_depth_to_pC_funcs, X_WCs\n",
    ")\n",
    "meshcat.SetObject(\"masked_cloud\", pcd, point_size=0.003)"
   ]
  },
  {
   "cell_type": "markdown",
   "metadata": {
    "cell_id": "ec145b23adc8410c9e520876d47bc717",
    "deepnote_cell_type": "markdown",
    "tags": []
   },
   "source": [
    "## Select a grasp\n",
    "The following code uses your point cloud function to find an antipodal grasp, similar to an exercise on a previous problem set."
   ]
  },
  {
   "cell_type": "code",
   "execution_count": null,
   "metadata": {
    "cell_id": "523840eaa2e84134a59d8adbde3d7462",
    "deepnote_cell_type": "code",
    "deepnote_to_be_reexecuted": false,
    "execution_millis": 2856,
    "execution_start": 1634775673810,
    "source_hash": "e12f6757",
    "tags": []
   },
   "outputs": [],
   "source": [
    "def find_antipodal_grasp(environment_diagram, environment_context, cameras):\n",
    "    rng = np.random.default_rng()\n",
    "\n",
    "    # Another diagram for the objects the robot \"knows about\": gripper, cameras, bins.  Think of this as the model in the robot's head.\n",
    "    builder = DiagramBuilder()\n",
    "    plant, scene_graph = AddMultibodyPlantSceneGraph(builder, time_step=0.001)\n",
    "    parser = Parser(plant)\n",
    "    ConfigureParser(parser)\n",
    "    parser.AddModelsFromUrl(\n",
    "        \"package://manipulation/schunk_wsg_50_welded_fingers.dmd.yaml\"\n",
    "    )\n",
    "    plant.Finalize()\n",
    "\n",
    "    params = MeshcatVisualizerParams()\n",
    "    params.prefix = \"planning\"\n",
    "    visualizer = MeshcatVisualizer.AddToBuilder(builder, scene_graph, meshcat, params)\n",
    "    diagram = builder.Build()\n",
    "    context = diagram.CreateDefaultContext()\n",
    "    diagram.ForcedPublish(context)\n",
    "\n",
    "    rgb_ims = [c.rgb_im for c in cameras]\n",
    "    depth_ims = [c.depth_im for c in cameras]\n",
    "    project_depth_to_pC_funcs = [c.project_depth_to_pC for c in cameras]\n",
    "    X_WCs = [c.X_WC for c in cameras]\n",
    "\n",
    "    cloud = get_merged_masked_pcd(\n",
    "        predictions, rgb_ims, depth_ims, project_depth_to_pC_funcs, X_WCs\n",
    "    )\n",
    "\n",
    "    plant_context = plant.GetMyContextFromRoot(context)\n",
    "    scene_graph_context = scene_graph.GetMyContextFromRoot(context)\n",
    "\n",
    "    min_cost = np.inf\n",
    "    best_X_G = None\n",
    "    for i in range(100):\n",
    "        cost, X_G = GenerateAntipodalGraspCandidate(diagram, context, cloud, rng)\n",
    "        if np.isfinite(cost) and cost < min_cost:\n",
    "            min_cost = cost\n",
    "            best_X_G = X_G\n",
    "\n",
    "    plant.SetFreeBodyPose(plant_context, plant.GetBodyByName(\"body\"), best_X_G)\n",
    "    diagram.ForcedPublish(context)\n",
    "\n",
    "\n",
    "if running_as_notebook:\n",
    "    find_antipodal_grasp(environment_diagram, environment_context, cameras)"
   ]
  },
  {
   "cell_type": "markdown",
   "metadata": {
    "cell_id": "a8dbf37d7e7948e3b48e876b330294f3",
    "deepnote_cell_type": "markdown",
    "tags": []
   },
   "source": [
    "## Summary\n",
    "If you take a look at Meshcat, we've reached our end goal of generating an antipodal grasp! We've now shown that we can leverage the RGB data and our trained network to filter our point clouds and get an antipodal grasp for a specific object. Now, let's think about the implications of some of the design choices we made along the way."
   ]
  },
  {
   "cell_type": "markdown",
   "metadata": {
    "cell_id": "71768c74a76046ae97947e601370cf84",
    "deepnote_cell_type": "markdown",
    "tags": []
   },
   "source": [
    "## Written Questions\n",
    "Answer the following questions in your written submission for this problem set.\n",
    "\n",
    "#### 9.2b Number of Cameras\n",
    "Let's think back to the \"Examining camera views\" section. Toggling between the views of the two cameras, each of the cameras contributes different information about the scene. Why do we need the information from both of them to find antipodal grasps?"
   ]
  },
  {
   "cell_type": "markdown",
   "metadata": {
    "cell_id": "9ad6580ffab24baf9056e782993d042b",
    "deepnote_cell_type": "markdown",
    "tags": []
   },
   "source": [
    "#### 9.2c Why Segment for Grasp Selection?\n",
    "Our goal in this task is to grasp the mustard bottle. The first step of `get_merged_masked_pcd()` was to extract the pixels that correspond to the mustard bottle. If we skipped this step and instead considered the entire point cloud, what type of \"undesirable\" grasps might we select?"
   ]
  },
  {
   "cell_type": "markdown",
   "metadata": {
    "cell_id": "f24622c4c97044f18a3f5d2fae151d29",
    "deepnote_cell_type": "markdown",
    "tags": []
   },
   "source": [
    "#### 9.2d Unsegmented Point Cloud\n",
    "In this notebook, after we mask the point clouds based on the segmentation results, we don't use the other point clouds again (including when we evaluate our grasp candidates). Think about how we have checked whether or not a grasp is feasible. How might discarding the point cloud data for the other objects inadvertently lead us to select an invalid grasp?"
   ]
  },
  {
   "cell_type": "markdown",
   "metadata": {
    "cell_id": "2d8d2434c0544c52b67d93d6f1f75494",
    "deepnote_cell_type": "markdown",
    "tags": []
   },
   "source": [
    "## How will this notebook be Graded?\n",
    "\n",
    "If you are enrolled in the class, this notebook will be graded using [Gradescope](www.gradescope.com). You should have gotten the enrollement code on our announcement in Piazza. \n",
    "\n",
    "For submission of this assignment, you must do two things. \n",
    "- Download and submit the notebook `segmentation_and_grasp.ipynb` to Gradescope's notebook submission section, along with your notebook for the other problems.\n",
    "- Answer parts (b) through (d) in the written section of Gradescope as a part of your `pdf` submission. \n",
    "\n",
    "We will evaluate the local functions in the notebook to see if the function behaves as we have expected. For this exercise, the rubric is as follows:\n",
    "- [4 pts] `get_merged_masked_pcd` must be implemented correctly. \n",
    "- [2 pts] Correct answer for 9.2b\n",
    "- [2 pts] Correct answer for 9.2c\n",
    "- [2 pts] Correct answer for 9.2d"
   ]
  },
  {
   "cell_type": "code",
   "execution_count": null,
   "metadata": {
    "cell_id": "dde716bd9b38472bbb3353c51a7e2a42",
    "deepnote_cell_type": "code",
    "deepnote_to_be_reexecuted": false,
    "execution_millis": 993,
    "execution_start": 1634764711838,
    "source_hash": "68fcc6d0",
    "tags": []
   },
   "outputs": [],
   "source": [
    "from manipulation.exercises.grader import Grader\n",
    "from manipulation.exercises.segmentation.test_segmentation_and_grasp import (\n",
    "    TestSegmentationAndGrasp,\n",
    ")\n",
    "\n",
    "Grader.grade_output([TestSegmentationAndGrasp], [locals()], \"results.json\")\n",
    "Grader.print_test_results(\"results.json\")"
   ]
  },
  {
   "cell_type": "markdown",
   "metadata": {
    "created_in_deepnote_cell": true,
    "deepnote_cell_type": "markdown"
   },
   "source": [
    "<a style='text-decoration:none;line-height:16px;display:flex;color:#5B5B62;padding:10px;justify-content:end;' href='https://deepnote.com?utm_source=created-in-deepnote-cell&projectId=7d9a4e0e-79b9-4dd3-8018-83b670a6abf2' target=\"_blank\">\n",
    "<img alt='Created in deepnote.com' style='display:inline;max-height:16px;margin:0px;margin-right:7.5px;' src='data:image/svg+xml;base64,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' > </img>\n",
    "Created in <span style='font-weight:600;margin-left:4px;'>Deepnote</span></a>"
   ]
  }
 ],
 "metadata": {
  "deepnote_notebook_id": "20cb442261354341901f99e82da12e07",
  "kernelspec": {
   "display_name": ".venv",
   "language": "python",
   "name": "python3"
  },
  "language_info": {
   "codemirror_mode": {
    "name": "ipython",
    "version": 3
   },
   "file_extension": ".py",
   "mimetype": "text/x-python",
   "name": "python",
   "nbconvert_exporter": "python",
   "pygments_lexer": "ipython3",
   "version": "3.12.4"
  }
 },
 "nbformat": 4,
 "nbformat_minor": 0
}
