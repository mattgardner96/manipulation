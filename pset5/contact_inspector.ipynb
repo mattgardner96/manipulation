{
  "cells": [
    {
      "cell_type": "markdown",
      "source": "This notebook provides examples to go along with the [textbook](http://manipulation.csail.mit.edu/clutter.html).  I recommend having both windows open, side-by-side!",
      "metadata": {
        "id": "TKvYiJgnYExi",
        "cell_id": "43a0628c3dae47e198b406dfe3dc4329",
        "deepnote_cell_type": "markdown"
      },
      "block_group": "30269ecc3c8c46368a6b06e069b81b70"
    },
    {
      "cell_type": "code",
      "source": "import numpy as np\nfrom IPython.display import clear_output\nfrom pydrake.all import (\n    AbstractValue,\n    AddMultibodyPlantSceneGraph,\n    Box,\n    Capsule,\n    ContactResults,\n    ContactVisualizer,\n    ContactVisualizerParams,\n    Cylinder,\n    DiagramBuilder,\n    Ellipsoid,\n    FixedOffsetFrame,\n    JointSliders,\n    LeafSystem,\n    MeshcatVisualizer,\n    Parser,\n    PlanarJoint,\n    RigidTransform,\n    RotationMatrix,\n    Sphere,\n    StartMeshcat,\n)\n\nfrom manipulation import running_as_notebook\nfrom manipulation.scenarios import AddShape\nfrom manipulation.utils import ConfigureParser",
      "metadata": {
        "id": "A4QOaw_zYLfI",
        "lines_to_end_of_cell_marker": 2,
        "cell_id": "3d89a8dd8cea4f0d9999a6b704213d2a",
        "deepnote_cell_type": "code"
      },
      "outputs": [],
      "outputs_reference": null,
      "execution_count": null,
      "block_group": "1551e4a6b95944aea3d83d9e053d7175",
      "content_dependencies": null
    },
    {
      "cell_type": "code",
      "source": "# Start the visualizer.\nmeshcat = StartMeshcat()",
      "metadata": {
        "cell_id": "9351ef25758f46bdb2f1232d3d0ddd2f",
        "deepnote_cell_type": "code"
      },
      "outputs": [],
      "outputs_reference": null,
      "execution_count": null,
      "block_group": "20801fc19cc1400c9ca37ed92bfa9f78",
      "content_dependencies": null
    },
    {
      "cell_type": "markdown",
      "source": "# Contact force \"inspector\"\n",
      "metadata": {
        "id": "7aGJ9e3lJlF8",
        "cell_id": "a0b3dd991dc04b3c8f3312572236fe19",
        "deepnote_cell_type": "markdown"
      },
      "block_group": "27e8f27b4c154fb8bd34e0050952c114"
    },
    {
      "cell_type": "code",
      "source": "class PrintContactResults(LeafSystem):\n    def __init__(self):\n        LeafSystem.__init__(self)\n        self.DeclareAbstractInputPort(\n            \"contact_results\", AbstractValue.Make(ContactResults())\n        )\n        self.DeclareForcedPublishEvent(self.Publish)\n        self.DeclarePeriodicPublishEvent(0.1, 0, self.Publish)\n\n    def Publish(self, context):\n        formatter = {\"float\": lambda x: \"{:5.2f}\".format(x)}\n        results = self.get_input_port().Eval(context)\n\n        if results.num_hydroelastic_contacts() == 0:\n            print(\"no contact\")\n        for i in range(results.num_hydroelastic_contacts()):\n            info = results.hydroelastic_contact_info(i)\n            print(f\"F_Ac_W = {info.F_Ac_W()}\")\n\n        clear_output(wait=True)\n\n\ndef contact_force_inspector(slope=0.0, mu=1.0, second_brick=False):\n    builder = DiagramBuilder()\n\n    plant, scene_graph = AddMultibodyPlantSceneGraph(builder, time_step=0.01)\n\n    AddShape(\n        plant,\n        Box(10.0, 10.0, 10.0),\n        \"ground\",\n        mass=1,\n        mu=1,\n        color=[0.9, 0.9, 0.9, 0.8],\n    )\n    X_WBox = RigidTransform(RotationMatrix.MakeYRotation(slope), [0, 0, -5.05])\n    plant.WeldFrames(plant.world_frame(), plant.GetFrameByName(\"ground\"), X_WBox)\n\n    parser = Parser(plant)\n    ConfigureParser(parser)\n    parser.AddModelsFromUrl(\"package://manipulation/hydro/061_foam_brick.sdf\")\n    frame = plant.AddFrame(\n        FixedOffsetFrame(\n            \"planar_joint_frame\",\n            plant.world_frame(),\n            RigidTransform(RotationMatrix.MakeXRotation(np.pi / 2)),\n        )\n    )\n    plant.AddJoint(\n        PlanarJoint(\n            \"brick\",\n            frame,\n            plant.GetFrameByName(\"base_link\"),\n            damping=[0, 0, 0],\n        )\n    )\n\n    if second_brick:\n        parser.SetAutoRenaming(True)\n        brick2 = parser.AddModelsFromUrl(\n            \"package://manipulation/hydro/061_foam_brick.sdf\"\n        )[0]\n        plant.AddJoint(\n            PlanarJoint(\n                \"brick2\",\n                frame,\n                plant.GetFrameByName(\"base_link\", brick2),\n                damping=[0, 0, 0],\n            )\n        )\n\n    plant.Finalize()\n\n    meshcat.Delete()\n    meshcat.DeleteAddedControls()\n    MeshcatVisualizer.AddToBuilder(builder, scene_graph, meshcat)\n    meshcat.Set2dRenderMode(xmin=-0.2, xmax=0.2, ymin=-0.2, ymax=0.3)\n\n    cparams = ContactVisualizerParams()\n    cparams.force_threshold = 1e-6\n    cparams.newtons_per_meter = 1.0\n    cparams.radius = 0.002\n    contact_visualizer = ContactVisualizer.AddToBuilder(\n        builder, plant, meshcat, cparams\n    )\n\n    print_contact_results = builder.AddSystem(PrintContactResults())\n    builder.Connect(\n        plant.get_contact_results_output_port(),\n        print_contact_results.get_input_port(),\n    )\n\n    lower_limit = [-0.1, -0.1, -np.pi / 2.0]\n    upper_limit = [0.1, 0.1, np.pi / 2.0]\n    q0 = [0, 0, 0]\n    if second_brick:\n        lower_limit += lower_limit\n        upper_limit += upper_limit\n        q0 += [0.07, 0.07, 0.0]\n\n    default_interactive_timeout = None if running_as_notebook else 1.0\n    sliders = builder.AddSystem(\n        JointSliders(\n            meshcat,\n            plant,\n            initial_value=q0,\n            lower_limit=lower_limit,\n            upper_limit=upper_limit,\n            step=0.001,\n        )\n    )\n    diagram = builder.Build()\n    sliders.Run(diagram, default_interactive_timeout)\n    meshcat.DeleteAddedControls()\n\n\ncontact_force_inspector(slope=0.1, mu=0.5, second_brick=True)",
      "metadata": {
        "id": "7dimkJhd9DjP",
        "cell_id": "38102e3ecb2c4c7b9115ab4bc6005153",
        "deepnote_cell_type": "code"
      },
      "outputs": [],
      "outputs_reference": null,
      "execution_count": null,
      "block_group": "a90aaa97a3144f3cb94b57b932c354be",
      "content_dependencies": null
    },
    {
      "cell_type": "markdown",
      "source": "# Contact results \"inspector\"\n\nThis simple visualization shows some of the complexity of the contact geometry problem.  I will make it better, but right now, when you move the objects into contact of each other you will see three points:  the contact point is in **red**, the contact normal is added to the contact point with the tip as **green**, and the (scaled) contact force tip is drawn in **blue**.  Contact points on the bodies are drawn in **orange**.",
      "metadata": {
        "id": "2ctYY0SHJlGB",
        "cell_id": "2c99c35ac84344068481d578abd212ae",
        "deepnote_cell_type": "markdown"
      },
      "block_group": "d3acccc168e343ff8c38646b49976f3f"
    },
    {
      "cell_type": "code",
      "source": "shapes = {\n    \"Point\": Sphere(0.01),\n    \"Sphere\": Sphere(1.0),\n    \"Cylinder\": Cylinder(1.0, 2.0),\n    \"Box\": Box(1.0, 2.0, 3.0),\n    \"Capsule\": Capsule(1.0, 2.0),\n    \"Ellipsoid\": Ellipsoid(1.0, 2.0, 3.0),\n}\n\n\ndef contact_inspector(shape_name_A, shape_name_B):\n    builder = DiagramBuilder()\n\n    plant, scene_graph = AddMultibodyPlantSceneGraph(builder, time_step=0.0)\n    AddShape(\n        plant,\n        shapes[shape_name_A],\n        \"A\",\n        mass=1,\n        mu=1,\n        color=[0.9, 0.5, 0.5, 0.5],\n    )\n    plant.WeldFrames(plant.world_frame(), plant.GetFrameByName(\"A\"))\n\n    AddShape(\n        plant,\n        shapes[shape_name_B],\n        \"B\",\n        mass=1,\n        mu=1,\n        color=[0.5, 0.5, 0.9, 0.5],\n    )\n    frame = plant.AddFrame(\n        FixedOffsetFrame(\n            \"planar_joint_frame\",\n            plant.world_frame(),\n            RigidTransform(RotationMatrix.MakeXRotation(np.pi / 2)),\n        )\n    )\n    plant.AddJoint(\n        PlanarJoint(\"B\", frame, plant.GetFrameByName(\"B\"), damping=[0, 0, 0])\n    )\n\n    plant.Finalize()\n\n    meshcat.Delete()\n    meshcat.DeleteAddedControls()\n    MeshcatVisualizer.AddToBuilder(builder, scene_graph, meshcat)\n    meshcat.Set2dRenderMode(xmin=-3.0, xmax=3.0, ymin=-0.2, ymax=3.0)\n\n    cparams = ContactVisualizerParams()\n    cparams.force_threshold = 1e-6\n    cparams.newtons_per_meter = 1.0\n    cparams.radius = 0.002\n    contact_visualizer = ContactVisualizer.AddToBuilder(\n        builder, plant, meshcat, cparams\n    )\n\n    print_contact_results = builder.AddSystem(PrintContactResults())\n    builder.Connect(\n        plant.get_contact_results_output_port(),\n        print_contact_results.get_input_port(),\n    )\n\n    lower_limit = [-3, -3, -np.pi / 2.0]\n    upper_limit = [3, 3, np.pi / 2.0]\n    q0 = [1.2, 1.2, 0.0]\n\n    default_interactive_timeout = None if running_as_notebook else 1.0\n    sliders = builder.AddSystem(\n        JointSliders(\n            meshcat,\n            plant,\n            initial_value=q0,\n            lower_limit=lower_limit,\n            upper_limit=upper_limit,\n        )\n    )\n    diagram = builder.Build()\n    sliders.Run(diagram, default_interactive_timeout)\n    meshcat.DeleteAddedControls()\n\n\ncontact_inspector(\"Box\", \"Sphere\")",
      "metadata": {
        "id": "648WXpNpJlGF",
        "cell_id": "0ae494a4e0f1424fb1718985b3127c9b",
        "deepnote_cell_type": "code"
      },
      "outputs": [],
      "outputs_reference": null,
      "execution_count": null,
      "block_group": "2a93b99e29ec480896cc2e84e6cd4aa7",
      "content_dependencies": null
    },
    {
      "cell_type": "code",
      "source": "",
      "metadata": {
        "cell_id": "a94530b09d314797a2a102987a5fbd84",
        "deepnote_cell_type": "code"
      },
      "outputs": [],
      "outputs_reference": null,
      "execution_count": null,
      "block_group": "6050004632f543cf9c7973872dbe9dab",
      "content_dependencies": null
    },
    {
      "cell_type": "markdown",
      "source": "<a style='text-decoration:none;line-height:16px;display:flex;color:#5B5B62;padding:10px;justify-content:end;' href='https://deepnote.com?utm_source=created-in-deepnote-cell&projectId=aecebf5d-e2f1-421d-bb7d-696a860b16ba' target=\"_blank\">\n<img alt='Created in deepnote.com' style='display:inline;max-height:16px;margin:0px;margin-right:7.5px;' src='data:image/svg+xml;base64,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' > </img>\nCreated in <span style='font-weight:600;margin-left:4px;'>Deepnote</span></a>",
      "metadata": {
        "created_in_deepnote_cell": true,
        "deepnote_cell_type": "markdown"
      }
    }
  ],
  "nbformat": 4,
  "nbformat_minor": 0,
  "metadata": {
    "deepnote_notebook_id": "43f6cc9a93f941eaa2c278eb61469aa2",
    "deepnote_execution_queue": []
  }
}