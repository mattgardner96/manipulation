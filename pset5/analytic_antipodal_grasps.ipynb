{
  "cells": [
    {
      "cell_type": "markdown",
      "metadata": {
        "cell_id": "5e0d9436d1674cf49e5b0a8a8896e930",
        "deepnote_cell_type": "markdown",
        "id": "l8Rm5122dy2R"
      },
      "source": [
        "## **Analytic Antipodal Grasps**"
      ]
    },
    {
      "cell_type": "code",
      "execution_count": 1,
      "metadata": {
        "cell_id": "23690bb846d34c2daf735b445a7163e9",
        "deepnote_cell_type": "code",
        "id": "opM0QN-CPwry"
      },
      "outputs": [],
      "source": [
        "import matplotlib.pyplot as plt\n",
        "import mpld3\n",
        "import numpy as np\n",
        "from pydrake.all import (\n",
        "    Evaluate,\n",
        "    Jacobian,\n",
        "    MathematicalProgram,\n",
        "    Solve,\n",
        "    Variable,\n",
        "    atan,\n",
        "    cos,\n",
        "    eq,\n",
        "    sin,\n",
        ")\n",
        "\n",
        "from manipulation import running_as_notebook\n",
        "\n",
        "if running_as_notebook:\n",
        "    mpld3.enable_notebook()"
      ]
    },
    {
      "cell_type": "markdown",
      "metadata": {
        "cell_id": "11c8390911b7489bb76398edb17e3877",
        "deepnote_cell_type": "markdown",
        "id": "_4KTk534ex9e"
      },
      "source": [
        "## Introduction to Symbolic Differentiation \n",
        "\n",
        "For this assignment, you will need [symbolic differentiation](https://en.wikipedia.org/wiki/Computer_algebra), supported by Drake's symbolic library. We will demonstrate how to use it with a simple function: \n",
        "$$T=\\cos^2(x) + y^5$$\n",
        "\n",
        "and it's Jacobian (first-order derivative), \n",
        "$$J = \\begin{pmatrix} \\frac{\\partial T}{\\partial x} & \\frac{\\partial T}{\\partial y} \\end{pmatrix}=\\begin{pmatrix} -2\\cos(x)\\sin(x) & 5y^4 \\end{pmatrix}$$\n",
        "\n",
        "as well as the Hessian (second-order derivative), \n",
        "$$H = \\begin{pmatrix} \\frac{\\partial^2 T}{\\partial x^2} & \\frac{\\partial^2 T}{\\partial x \\partial y} \\\\ \\frac{\\partial^2 T}{\\partial y \\partial x} & \\frac{\\partial^2 T}{\\partial y^2} \\end{pmatrix}=\\begin{pmatrix} 2 \\sin^2(x) - 2\\cos^2(x) & 0 \\\\ 0 & 20y^3 \\end{pmatrix}$$\n",
        "\n",
        "Below are some snippets of how to define symbolic variables, differentiate expressions, and evaluate them using numerical values. "
      ]
    },
    {
      "cell_type": "code",
      "execution_count": 2,
      "metadata": {
        "cell_id": "8f3e332481bd4c009357595fecf55506",
        "deepnote_cell_type": "code",
        "id": "FbI9kuNKe9fb"
      },
      "outputs": [
        {
          "name": "stdout",
          "output_type": "stream",
          "text": [
            "(pow(y, 5) + pow(cos(x), 2))\n",
            "[[3125.98008514]]\n",
            "3125.980085143325\n",
            "[<Expression \"(-2 * sin(x) * cos(x))\"> <Expression \"(5 * pow(y, 4))\">]\n",
            "[<Expression \"(-2 * sin(x) * cos(x))\"> <Expression \"(5 * pow(y, 4))\">]\n",
            "[[2.79415498e-01]\n",
            " [3.12500000e+03]]\n",
            "[[<Expression \"(2 * pow(sin(x), 2) - 2 * pow(cos(x), 2))\">\n",
            "  <Expression \"0\">]\n",
            " [<Expression \"0\"> <Expression \"(20 * pow(y, 3))\">]]\n",
            "[[-1.92034057e+00  0.00000000e+00]\n",
            " [ 0.00000000e+00  2.50000000e+03]]\n"
          ]
        }
      ],
      "source": [
        "# 1. Symbolic variables are defined\n",
        "x = Variable(\"x\")\n",
        "y = Variable(\"y\")\n",
        "\n",
        "# 2. Expressions can be written by composing operations on Variables.\n",
        "T = cos(x) ** 2.0 + y**5.0\n",
        "print(T)\n",
        "\n",
        "# 3. Use Evaluate to query the numerical value of the expression given the variable values.\n",
        "# Use function for multi-dimensional quantities\n",
        "print(Evaluate(np.array([T]), {x: 3.0, y: 5.0}))\n",
        "# Use method for scalar quantities\n",
        "print(T.Evaluate({x: 3.0, y: 5.0}))\n",
        "\n",
        "# 4. Differentiate a quantity using Jacobian, or Differentiate.\n",
        "J = np.array([T.Differentiate(x), T.Differentiate(y)])\n",
        "print(J)\n",
        "# Use method for scalar quantities\n",
        "J = T.Jacobian([x, y])\n",
        "print(J)\n",
        "print(Evaluate(J, {x: 3.0, y: 5.0}))\n",
        "\n",
        "# Use function for taking Jacobian of multi-dimensional quantities.\n",
        "H = Jacobian(J, [x, y])\n",
        "print(H)\n",
        "print(Evaluate(H, {x: 3.0, y: 5.0}))"
      ]
    },
    {
      "cell_type": "markdown",
      "metadata": {
        "cell_id": "5aee155c18fd4c7791f87e86c773b91c",
        "deepnote_cell_type": "markdown",
        "id": "A7Xm7hVkhbF0"
      },
      "source": [
        "Are the symbolic values of the Jacobian and Hessian what you expect? "
      ]
    },
    {
      "cell_type": "markdown",
      "metadata": {
        "cell_id": "e165a684778c4ff2b5d682829251f7a7",
        "deepnote_cell_type": "markdown",
        "id": "KncJ9HEed94E"
      },
      "source": [
        "## The Cycloidal Gear\n",
        "\n",
        "Now we enter the main part of the problem. \n",
        "\n",
        "After graduating from MIT, you decide to work at a company producing cutting-edge [hypercycloidal gears](https://youtu.be/MBWkibie_5I?t=74). You are in charge of designing a robotic pick-and-place system for these parts. In order to reliably grasp the gears, you decide to use your knowledge of antipodal points. \n",
        "\n",
        "The mechanical design department gave you a pretty ugly parametric equation for what the shape looks like, which we won't even bother writing in latex! Instead, we provided it via the function `shape`. \n",
        "\n",
        "Given a angle in polar coordinates (parameter $t$), it returns $p(t)=[x(t),y(t)]$, a position in 2D.  \n",
        "\n",
        "The below cell implements the function and shows you what the gear part looks like. "
      ]
    },
    {
      "cell_type": "code",
      "execution_count": 3,
      "metadata": {
        "cell_id": "b20a8fb7c7f249ffbe47aa47706c159a",
        "deepnote_cell_type": "code",
        "id": "K9tnarjr8FnB"
      },
      "outputs": [
        {
          "data": {
            "image/png": "[encoded data removed]",
            "text/plain": [
              "<Figure size 640x480 with 1 Axes>"
            ]
          },
          "metadata": {},
          "output_type": "display_data"
        }
      ],
      "source": [
        "def shape(t):\n",
        "    x = (\n",
        "        (10 * cos(t))\n",
        "        - (1.5 * cos(t + atan(sin(-9 * t) / ((4 / 3) - cos(-9 * t)))))\n",
        "        - (0.75 * cos(10 * t))\n",
        "    )\n",
        "    y = (\n",
        "        (-10 * sin(t))\n",
        "        + (1.5 * sin(t + atan(sin(-9 * t) / ((4 / 3) - cos(-9 * t)))))\n",
        "        + (0.75 * sin(10 * t))\n",
        "    )\n",
        "    return np.array([x, y])\n",
        "\n",
        "\n",
        "def plot_gear():\n",
        "    theta = np.linspace(0, 2 * np.pi, 500)\n",
        "    gear_shape = []\n",
        "    for i in range(500):\n",
        "        gear_shape.append(Evaluate(shape(theta[i])).squeeze())\n",
        "    gear_shape = np.array(gear_shape)\n",
        "    plt.axis(\"equal\")\n",
        "    plt.plot(gear_shape[:, 0], gear_shape[:, 1], \"k-\")\n",
        "\n",
        "\n",
        "plot_gear()"
      ]
    },
    {
      "cell_type": "markdown",
      "metadata": {
        "cell_id": "bb619d0ec8f74446a4f3879a11cf9144",
        "deepnote_cell_type": "markdown",
        "id": "m-W34GnXCG_N"
      },
      "source": [
        "## Grasp Energy Function\n",
        "\n",
        "How can we analytically find a pair of antipodal points given the parametric equation of a shape? We make the following claim: \n",
        "\n",
        "**Claim**: Let $p(t_1)$ and $p(t_2)$ be a pair of antipodal points given in parametric space. Then $t_1$ and $t_2$ are critical points of the following energy function:\n",
        "$$E=\\frac{1}{2}\\kappa\\|p(t_1)-p(t_2)\\|^2$$\n",
        "\n",
        "that is, they satisfy $\\frac{\\partial E}{\\partial \\mathbf{t}}=[0, 0]$ where $\\mathbf{t}=[t_1,t_2]$. \n",
        "\n",
        "For the subsequent problems, you may assume $\\kappa=2$. \n",
        "\n",
        "**Problem 5.1.a** [2pts]: Prove the claim. \\\\\n",
        "**Problem 5.1.b** [2pts]: Prove that the converse may not necessarily hold. \n",
        "\n",
        "HINT: The derivative of $p(t)$ respect to $t$ gives the tangent 'velocity' vector: $v(t)=p'(t)$\n",
        "\n",
        "Write down your answer in a paper / pdf file, and submit to the Gradescope written submission section! "
      ]
    },
    {
      "cell_type": "markdown",
      "metadata": {
        "cell_id": "b3098caa21fd44d3bc9599754107fca7",
        "deepnote_cell_type": "markdown",
        "id": "iNo0LiKyq0CO"
      },
      "source": [
        "## Implementation\n",
        "\n",
        "**Problem 5.1.c** [4pts]\n",
        "Using this knowledge, we will write a Mathematical Program to find the antipodal points. Since we are looking for $t_1$ and $t_2$ such that the Jacobians is a zero vector, we are solving a root finding problem. Problems of this nature can still be transcribed as an instance of a Mathematical program;  it simply doesn't have a cost. \n",
        "\n",
        "We will write down our problem as follows: \n",
        "\n",
        "$$\\begin{aligned} \\text{find} \\quad & \\mathbf{t}  \\\\ \\text{s.t.} \\quad &  \\frac{\\partial E}{\\partial \\mathbf{t}}(\\mathbf{t}) = \\mathbf{0} \\\\ \\quad & 0 \\leq \\mathbf{t} \\leq 2\\pi - \\varepsilon  \\\\ \\quad & t_1 - t_2 \\geq \\varepsilon \\end{aligned}$$\n",
        "\n",
        "The first constraint makes sure that they are critical points of the energy function, while the last two makes sure the points are not overlapping. You will write the following outer loop to check for the validity of solutions.\n",
        "\n",
        "1. Pick a random guess for $\\mathbf{t}$ using [SetInitialGuess](https://drake.mit.edu/doxygen_cxx/classdrake_1_1solvers_1_1_mathematical_program.html#ae48cb6d2263ccf09e38932dcd27f769f) by uniform sampling over $[0, 2\\pi - \\varepsilon]$ (use `np.random.rand(2)`). \n",
        "2. Using `MathematicalProgram`, solve the above problem. Remember there is no cost in this problem, so we simply only add the constraints. \n",
        "3. If the solution is not valid (i.e. problem doesn't return success), repeat 1-2 with random guesses until a valid solution is found. \n",
        "4. If a valid solution $\\mathbf{t}^*$ is found, return the Eigenvalues of the Hessian of $E$ at $\\mathbf{t}^*$. (Use `np.linalg.eigvals`)"
      ]
    },
    {
      "cell_type": "code",
      "execution_count": 12,
      "metadata": {
        "cell_id": "7470bb48888a4f45b5bcd2ca57dab6c3",
        "deepnote_cell_type": "code",
        "id": "WYPS22sY80WD"
      },
      "outputs": [],
      "source": [
        "def find_antipodal_pts(shape):\n",
        "    \"\"\"\n",
        "    Finds antipodal points given the parametric function that describes the shape of the object.\n",
        "    Args:\n",
        "      - shape: function from parametric space t to position R2.\n",
        "    Returns:\n",
        "      - result: 2-dim np array that contains antipodal grasp locations parametrized by [t1, t2]\n",
        "      - H_eig: 2-dim np array that contains eigenvalues of the Hessian.\n",
        "    \"\"\"\n",
        "\n",
        "    eps = 1e-3  # do not modify, but use it for epsilon variable above.\n",
        "\n",
        "    ## Fill your code here\n",
        "\n",
        "    t1 = Variable(\"t1\")\n",
        "    t2 = Variable(\"t2\")\n",
        "\n",
        "    # relate t to the shape function\n",
        "    shape_t = shape(t1)\n",
        "\n",
        "    p = MathematicalProgram()\n",
        "\n",
        "    p.SetInitialGuessForAllVariables(t1, np.random.uniform(0,2*np.pi-eps,2))\n",
        "    p.AddConstraint(0 <= t)\n",
        "    p.AddConstraint(t <= 2 * np.pi - eps)\n",
        "    p.AddConstraint(eps <= t[1] - t[0])\n",
        "    # add derivative constraints\n",
        "    J = Jacobian(shape_t, t)\n",
        "    H = Jacobian(J, t)\n",
        "    p.AddConstraint(eq(J, 0))\n",
        "\n",
        "    eig = np.eigh(H)\n",
        "\n",
        "    result = np.array([shape_t[0], shape_t[1]])  # modify here\n",
        "    H_eig = np.array([eig[0], eig[1]])  # modify here\n",
        "\n",
        "    return result, H_eig"
      ]
    },
    {
      "cell_type": "markdown",
      "metadata": {
        "cell_id": "50888ccb8c354f1db13e4faf3974e010",
        "deepnote_cell_type": "markdown",
        "id": "LuOUVR5Vys3p"
      },
      "source": [
        "You can run the cell below to check the correctnes of your implementation. As the constraint is nonlinear, it might take some time to compute. (Typically, the solve time will still be less than 2~3 seconds)."
      ]
    },
    {
      "cell_type": "code",
      "execution_count": 13,
      "metadata": {
        "cell_id": "2f5306148e2b408281c02122ec380c80",
        "deepnote_cell_type": "code",
        "id": "Hzm6QrdGT88d"
      },
      "outputs": [
        {
          "ename": "TypeError",
          "evalue": "SetInitialGuessForAllVariables(): incompatible function arguments. The following argument types are supported:\n    1. (self: pydrake.solvers.MathematicalProgram, arg0: numpy.ndarray[numpy.float64[m, 1]]) -> None\n\nInvoked with: <pydrake.solvers.MathematicalProgram object at 0x13a52c9b0>, Variable('t1', Continuous), array([1.15755749, 5.92926653])",
          "output_type": "error",
          "traceback": [
            "\u001b[0;31m---------------------------------------------------------------------------\u001b[0m",
            "\u001b[0;31mTypeError\u001b[0m                                 Traceback (most recent call last)",
            "Cell \u001b[0;32mIn[13], line 16\u001b[0m\n\u001b[1;32m     12\u001b[0m     plt\u001b[38;5;241m.\u001b[39mscatter(antipodal_pts[:, \u001b[38;5;241m0\u001b[39m], antipodal_pts[:, \u001b[38;5;241m1\u001b[39m], color\u001b[38;5;241m=\u001b[39m\u001b[38;5;124m\"\u001b[39m\u001b[38;5;124mred\u001b[39m\u001b[38;5;124m\"\u001b[39m)\n\u001b[1;32m     15\u001b[0m plot_gear()\n\u001b[0;32m---> 16\u001b[0m result, H_eig \u001b[38;5;241m=\u001b[39m \u001b[43mfind_antipodal_pts\u001b[49m\u001b[43m(\u001b[49m\u001b[43mshape\u001b[49m\u001b[43m)\u001b[49m\n\u001b[1;32m     17\u001b[0m plot_antipodal_pts(result, shape)\n\u001b[1;32m     18\u001b[0m \u001b[38;5;28mprint\u001b[39m(H_eig)\n",
            "Cell \u001b[0;32mIn[12], line 23\u001b[0m, in \u001b[0;36mfind_antipodal_pts\u001b[0;34m(shape)\u001b[0m\n\u001b[1;32m     19\u001b[0m shape_t \u001b[38;5;241m=\u001b[39m shape(t1)\n\u001b[1;32m     21\u001b[0m p \u001b[38;5;241m=\u001b[39m MathematicalProgram()\n\u001b[0;32m---> 23\u001b[0m \u001b[43mp\u001b[49m\u001b[38;5;241;43m.\u001b[39;49m\u001b[43mSetInitialGuessForAllVariables\u001b[49m\u001b[43m(\u001b[49m\u001b[43mt1\u001b[49m\u001b[43m,\u001b[49m\u001b[43m \u001b[49m\u001b[43mnp\u001b[49m\u001b[38;5;241;43m.\u001b[39;49m\u001b[43mrandom\u001b[49m\u001b[38;5;241;43m.\u001b[39;49m\u001b[43muniform\u001b[49m\u001b[43m(\u001b[49m\u001b[38;5;241;43m0\u001b[39;49m\u001b[43m,\u001b[49m\u001b[38;5;241;43m2\u001b[39;49m\u001b[38;5;241;43m*\u001b[39;49m\u001b[43mnp\u001b[49m\u001b[38;5;241;43m.\u001b[39;49m\u001b[43mpi\u001b[49m\u001b[38;5;241;43m-\u001b[39;49m\u001b[43meps\u001b[49m\u001b[43m,\u001b[49m\u001b[38;5;241;43m2\u001b[39;49m\u001b[43m)\u001b[49m\u001b[43m)\u001b[49m\n\u001b[1;32m     24\u001b[0m p\u001b[38;5;241m.\u001b[39mAddConstraint(\u001b[38;5;241m0\u001b[39m \u001b[38;5;241m<\u001b[39m\u001b[38;5;241m=\u001b[39m t)\n\u001b[1;32m     25\u001b[0m p\u001b[38;5;241m.\u001b[39mAddConstraint(t \u001b[38;5;241m<\u001b[39m\u001b[38;5;241m=\u001b[39m \u001b[38;5;241m2\u001b[39m \u001b[38;5;241m*\u001b[39m np\u001b[38;5;241m.\u001b[39mpi \u001b[38;5;241m-\u001b[39m eps)\n",
            "\u001b[0;31mTypeError\u001b[0m: SetInitialGuessForAllVariables(): incompatible function arguments. The following argument types are supported:\n    1. (self: pydrake.solvers.MathematicalProgram, arg0: numpy.ndarray[numpy.float64[m, 1]]) -> None\n\nInvoked with: <pydrake.solvers.MathematicalProgram object at 0x13a52c9b0>, Variable('t1', Continuous), array([1.15755749, 5.92926653])"
          ]
        },
        {
          "data": {
            "image/png": "[encoded data removed]",
            "text/plain": [
              "<Figure size 640x480 with 1 Axes>"
            ]
          },
          "metadata": {},
          "output_type": "display_data"
        }
      ],
      "source": [
        "def get_antipodal_pts_on_shape(pts, shape):\n",
        "    antipodal_pts = []\n",
        "    for i in range(2):\n",
        "        val = Evaluate(shape(pts[i])).squeeze()\n",
        "        antipodal_pts.append(val)\n",
        "    antipodal_pts = np.array(antipodal_pts)\n",
        "    return antipodal_pts\n",
        "\n",
        "\n",
        "def plot_antipodal_pts(pts, shape):\n",
        "    antipodal_pts = get_antipodal_pts_on_shape(pts, shape)\n",
        "    plt.scatter(antipodal_pts[:, 0], antipodal_pts[:, 1], color=\"red\")\n",
        "\n",
        "\n",
        "plot_gear()\n",
        "result, H_eig = find_antipodal_pts(shape)\n",
        "plot_antipodal_pts(result, shape)\n",
        "print(H_eig)"
      ]
    },
    {
      "cell_type": "markdown",
      "metadata": {
        "cell_id": "05ace01d94484218a9b1eeeeccce8292",
        "deepnote_cell_type": "markdown",
        "id": "tvstL9DDHIk3"
      },
      "source": [
        "## Hessian Analysis\n",
        "\n",
        "Why did we implement the Hessian? You may remember that if the Hessian is used for the second-derivative test. For a function $f(x)$ with a critical point $x^*$, this critical point is:\n",
        "- A local minima if the Hessian is positive-definite (i.e. all positive eigenvalues)\n",
        "- A local maxima if the Hessian is negative-definite (i.e. all negative eigenvalues)\n",
        "- A saddle point if the Hessian has mixed positive / negative eigenvalues. \n",
        "\n",
        "**Problem 5.1.d** [2pts] Describe what grasps the local minima, maxima, and saddle points correspond to in terms of the geometry of the object. In a very simple sentence, explain why you might prefer one configuration over another. \n",
        "\n",
        "HINT: The cell below will visualize each of the cases."
      ]
    },
    {
      "cell_type": "code",
      "execution_count": null,
      "metadata": {
        "cell_id": "25ebc11e373c46a58af043939244443d",
        "deepnote_cell_type": "code",
        "id": "MF16oJya8-WM"
      },
      "outputs": [],
      "source": [
        "if running_as_notebook:\n",
        "    plt.subplot(1, 3, 1)\n",
        "    plot_gear()\n",
        "    plt.title(\"Local Minima\")\n",
        "    np.random.seed(45)\n",
        "    while True:\n",
        "        result, H_eig = find_antipodal_pts(shape)\n",
        "        if (H_eig > 0).all():\n",
        "            break\n",
        "    plot_antipodal_pts(result, shape)\n",
        "\n",
        "    plt.subplot(1, 3, 2)\n",
        "    plot_gear()\n",
        "    plt.title(\"Local Maxima\")\n",
        "    np.random.seed(4)\n",
        "    while True:\n",
        "        result, H_eig = find_antipodal_pts(shape)\n",
        "        if (H_eig < 0).all():\n",
        "            break\n",
        "    plot_antipodal_pts(result, shape)\n",
        "\n",
        "    plt.subplot(1, 3, 3)\n",
        "    plot_gear()\n",
        "    plt.title(\"Saddle Point\")\n",
        "    np.random.seed(13)\n",
        "    while True:\n",
        "        result, H_eig = find_antipodal_pts(shape)\n",
        "        if (H_eig[0] > 0) and (H_eig[1] < 0):\n",
        "            break\n",
        "    plot_antipodal_pts(result, shape)"
      ]
    },
    {
      "cell_type": "markdown",
      "metadata": {
        "cell_id": "8700eb52b08c48d4b3b85842ba587601",
        "deepnote_cell_type": "markdown",
        "id": "MwE8yNg58VQN"
      },
      "source": [
        "## How will this notebook be Graded?\n",
        "\n",
        "If you are enrolled in the class, this notebook will be graded using [Gradescope](www.gradescope.com). You should have gotten the enrollement code on our announcement in Piazza. \n",
        "\n",
        "For submission of this assignment, you must do two things. \n",
        "- Download and submit the notebook `analytic_antipodal_grasps.ipynb` to Gradescope's notebook submission section, along with your notebook for the other problems.\n",
        "- Write down your answers to 5.1.a, 5.1.b, and 5.1.d to a separately pdf file and submit it to Gradescope's written submission section. \n",
        "\n",
        "We will evaluate the local functions in the notebook to see if the function behaves as we have expected. For this exercise, the rubric is as follows:\n",
        "- [2 pts] 5.1.a is answered correctly.\n",
        "- [2 pts] 5.1.b is answered correctly. \n",
        "- [4 pts] `find_antipodal_points` must be implemented correctly.\n",
        "- [2 pts] 5.1.d is answered correctly."
      ]
    },
    {
      "cell_type": "code",
      "execution_count": null,
      "metadata": {
        "cell_id": "0f9ffbd232e14624be398c0f5259eea9",
        "deepnote_cell_type": "code",
        "id": "xj5nAh4g8VQO"
      },
      "outputs": [],
      "source": [
        "from manipulation.exercises.clutter.test_analytic_grasp import TestAnalyticGrasp\n",
        "from manipulation.exercises.grader import Grader\n",
        "\n",
        "Grader.grade_output([TestAnalyticGrasp], [locals()], \"results.json\")\n",
        "Grader.print_test_results(\"results.json\")"
      ]
    },
    {
      "cell_type": "code",
      "execution_count": null,
      "metadata": {
        "cell_id": "456c4e2641854495a5b88d7d386c7e0e",
        "deepnote_cell_type": "code"
      },
      "outputs": [],
      "source": []
    },
    {
      "cell_type": "markdown",
      "metadata": {
        "created_in_deepnote_cell": true,
        "deepnote_cell_type": "markdown"
      },
      "source": [
        "<a style='text-decoration:none;line-height:16px;display:flex;color:#5B5B62;padding:10px;justify-content:end;' href='https://deepnote.com?utm_source=created-in-deepnote-cell&projectId=a9f4175d-ea21-49c3-83c9-e5c3a0936239' target=\"_blank\">\n",
        "<img alt='Created in deepnote.com' style='display:inline;max-height:16px;margin:0px;margin-right:7.5px;' src='data:image/svg+xml;base64,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' > </img>\n",
        "Created in <span style='font-weight:600;margin-left:4px;'>Deepnote</span></a>"
      ]
    }
  ],
  "metadata": {
    "deepnote_execution_queue": [],
    "deepnote_notebook_id": "923413d3d9534bc99cdd53e428f86703",
    "kernelspec": {
      "display_name": ".venv",
      "language": "python",
      "name": "python3"
    },
    "language_info": {
      "codemirror_mode": {
        "name": "ipython",
        "version": 3
      },
      "file_extension": ".py",
      "mimetype": "text/x-python",
      "name": "python",
      "nbconvert_exporter": "python",
      "pygments_lexer": "ipython3",
      "version": "3.12.4"
    }
  },
  "nbformat": 4,
  "nbformat_minor": 0
}
