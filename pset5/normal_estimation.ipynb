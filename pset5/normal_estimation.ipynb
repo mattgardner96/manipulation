{
  "cells": [
    {
      "cell_type": "markdown",
      "metadata": {
        "cell_id": "283d0614c9794c208a92e52f7ca5bb5f",
        "deepnote_cell_type": "markdown",
        "id": "TKvYiJgnYExi"
      },
      "source": [
        "This notebook provides examples to go along with the [textbook](http://manipulation.csail.mit.edu/clutter.html).  I recommend having both windows open, side-by-side!"
      ]
    },
    {
      "cell_type": "code",
      "execution_count": null,
      "metadata": {
        "cell_id": "ed87da43af7e4718987d6efe2f45fa7d",
        "deepnote_cell_type": "code",
        "id": "A4QOaw_zYLfI",
        "lines_to_end_of_cell_marker": 2
      },
      "outputs": [],
      "source": [
        "import time\n",
        "\n",
        "import numpy as np\n",
        "from pydrake.all import (\n",
        "    PointCloud,\n",
        "    Rgba,\n",
        "    RigidTransform,\n",
        "    RotationMatrix,\n",
        "    Sphere,\n",
        "    StartMeshcat,\n",
        ")\n",
        "from scipy.spatial import KDTree\n",
        "\n",
        "from manipulation import running_as_notebook\n",
        "from manipulation.meshcat_utils import AddMeshcatTriad\n",
        "from manipulation.mustard_depth_camera_example import MustardExampleSystem"
      ]
    },
    {
      "cell_type": "code",
      "execution_count": null,
      "metadata": {
        "cell_id": "99a7698af9494173b86b1229924d2458",
        "deepnote_cell_type": "code"
      },
      "outputs": [],
      "source": [
        "# Start the visualizer.\n",
        "meshcat = StartMeshcat()"
      ]
    },
    {
      "cell_type": "markdown",
      "metadata": {
        "cell_id": "f92a26fd38954819a2c4c150db472946",
        "deepnote_cell_type": "markdown"
      },
      "source": [
        "# Estimating normals (and local curvature)\n",
        "\n",
        "TODO: Add the version from depth images (nearest pixels instead of nearest neighbors), and implement it in DepthImageToPointCloud."
      ]
    },
    {
      "cell_type": "code",
      "execution_count": null,
      "metadata": {
        "cell_id": "5533b7345121453a8ffa67d31f714a68",
        "deepnote_cell_type": "code"
      },
      "outputs": [],
      "source": [
        "def normal_estimation():\n",
        "    system = MustardExampleSystem()\n",
        "    context = system.CreateDefaultContext()\n",
        "\n",
        "    meshcat.Delete()\n",
        "    meshcat.DeleteAddedControls()\n",
        "    meshcat.SetProperty(\"/Background\", \"visible\", False)\n",
        "\n",
        "    point_cloud = system.GetOutputPort(\"camera0_point_cloud\").Eval(context)\n",
        "    cloud = point_cloud.Crop(lower_xyz=[-0.3, -0.3, -0.3], upper_xyz=[0.3, 0.3, 0.3])\n",
        "    meshcat.SetObject(\"point_cloud\", cloud)\n",
        "\n",
        "    # Extract camera position\n",
        "    plant = system.GetSubsystemByName(\"plant\")\n",
        "    p_WC = (\n",
        "        plant.GetFrameByName(\"camera0_origin\")\n",
        "        .CalcPoseInWorld(plant.GetMyContextFromRoot(context))\n",
        "        .translation()\n",
        "    )\n",
        "\n",
        "    kdtree = KDTree(cloud.xyzs().T)\n",
        "\n",
        "    num_closest = 40\n",
        "    neighbors = PointCloud(num_closest)\n",
        "    AddMeshcatTriad(meshcat, \"least_squares_basis\", length=0.03, radius=0.0005)\n",
        "\n",
        "    meshcat.AddSlider(\n",
        "        \"point\",\n",
        "        min=0,\n",
        "        max=cloud.size() - 1,\n",
        "        step=1,\n",
        "        value=429,  # 4165,\n",
        "        decrement_keycode=\"ArrowLeft\",\n",
        "        increment_keycode=\"ArrowRight\",\n",
        "    )\n",
        "    meshcat.AddButton(\"Stop Normal Estimation\", \"Escape\")\n",
        "    print(\"Press ESC or the 'Stop Normal Estimation' button in Meshcat to continue\")\n",
        "    last_index = -1\n",
        "    while meshcat.GetButtonClicks(\"Stop Normal Estimation\") < 1:\n",
        "        index = round(meshcat.GetSliderValue(\"point\"))\n",
        "        if index == last_index:\n",
        "            time.sleep(0.1)\n",
        "            continue\n",
        "        last_index = index\n",
        "\n",
        "        query = cloud.xyz(index)\n",
        "        meshcat.SetObject(\"query\", Sphere(0.001), Rgba(0, 1, 0))\n",
        "        meshcat.SetTransform(\"query\", RigidTransform(query))\n",
        "        (distances, indices) = kdtree.query(\n",
        "            query, k=num_closest, distance_upper_bound=0.1\n",
        "        )\n",
        "\n",
        "        neighbors.resize(len(distances))\n",
        "        neighbors.mutable_xyzs()[:] = cloud.xyzs()[:, indices]\n",
        "\n",
        "        meshcat.SetObject(\"neighbors\", neighbors, rgba=Rgba(0, 0, 1), point_size=0.001)\n",
        "\n",
        "        neighbor_pts = neighbors.xyzs().T\n",
        "        pstar = np.mean(neighbor_pts, axis=0)\n",
        "        prel = neighbor_pts - pstar\n",
        "        W = np.matmul(prel.T, prel)\n",
        "        w, V = np.linalg.eigh(W)\n",
        "        # V[:, 0] corresponds to the smallest eigenvalue, and V[:, 2] to the\n",
        "        # largest.\n",
        "        R = np.fliplr(V)\n",
        "        # R[:, 0] corresponds to the largest eigenvalue, and R[:, 2] to the\n",
        "        # smallest (the normal).\n",
        "\n",
        "        # Handle improper rotations\n",
        "        R = R @ np.diag([1, 1, np.linalg.det(R)])\n",
        "\n",
        "        # If the normal is not pointing towards the camera...\n",
        "        if (p_WC - -query).dot(R[:, 2]) < 0:\n",
        "            # then flip the y and z axes.\n",
        "            R = R @ np.diag([1, -1, -1])\n",
        "\n",
        "        meshcat.SetTransform(\n",
        "            \"least_squares_basis\", RigidTransform(RotationMatrix(R), query)\n",
        "        )\n",
        "\n",
        "        if not running_as_notebook:\n",
        "            break\n",
        "\n",
        "    meshcat.DeleteAddedControls()\n",
        "\n",
        "\n",
        "normal_estimation()"
      ]
    },
    {
      "cell_type": "markdown",
      "metadata": {
        "created_in_deepnote_cell": true,
        "deepnote_cell_type": "markdown"
      },
      "source": [
        "<a style='text-decoration:none;line-height:16px;display:flex;color:#5B5B62;padding:10px;justify-content:end;' href='https://deepnote.com?utm_source=created-in-deepnote-cell&projectId=a9f4175d-ea21-49c3-83c9-e5c3a0936239' target=\"_blank\">\n",
        "<img alt='Created in deepnote.com' style='display:inline;max-height:16px;margin:0px;margin-right:7.5px;' src='data:image/svg+xml;base64,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' > </img>\n",
        "Created in <span style='font-weight:600;margin-left:4px;'>Deepnote</span></a>"
      ]
    }
  ],
  "metadata": {
    "deepnote_execution_queue": [],
    "deepnote_notebook_id": "65d09d32daf0404cb68161268303262c",
    "kernelspec": {
      "display_name": ".venv",
      "language": "python",
      "name": "python3"
    },
    "language_info": {
      "name": "python",
      "version": "3.12.4"
    }
  },
  "nbformat": 4,
  "nbformat_minor": 0
}
